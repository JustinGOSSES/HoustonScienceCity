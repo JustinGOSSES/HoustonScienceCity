{
 "cells": [
  {
   "cell_type": "code",
   "execution_count": 2,
   "metadata": {},
   "outputs": [
    {
     "name": "stdout",
     "output_type": "stream",
     "text": [
      "/Users/justingosses/anaconda/envs/keplertest/bin/Python\r\n"
     ]
    }
   ],
   "source": [
    "!which Python"
   ]
  },
  {
   "cell_type": "code",
   "execution_count": 8,
   "metadata": {},
   "outputs": [],
   "source": [
    "import pandas as pd"
   ]
  },
  {
   "cell_type": "code",
   "execution_count": 26,
   "metadata": {},
   "outputs": [
    {
     "name": "stdout",
     "output_type": "stream",
     "text": [
      "User Guide: https://github.com/keplergl/kepler.gl/blob/master/docs/keplergl-jupyter/user-guide.md\n"
     ]
    },
    {
     "data": {
      "application/vnd.jupyter.widget-view+json": {
       "model_id": "bafa0ed8e3a74968983448a409a9c631",
       "version_major": 2,
       "version_minor": 0
      },
      "text/plain": [
       "KeplerGl(height=700)"
      ]
     },
     "metadata": {},
     "output_type": "display_data"
    }
   ],
   "source": [
    "# Load an empty map\n",
    "from keplergl import KeplerGl\n",
    "map_1 = KeplerGl(height=700)\n",
    "map_1"
   ]
  },
  {
   "cell_type": "code",
   "execution_count": 9,
   "metadata": {},
   "outputs": [],
   "source": [
    "data_1 =pd.read_csv('data/test_geojsonWithIndustry_vB_modB.csv',encoding='cp1252') "
   ]
  },
  {
   "cell_type": "code",
   "execution_count": 10,
   "metadata": {},
   "outputs": [
    {
     "data": {
      "text/html": [
       "<div>\n",
       "<style scoped>\n",
       "    .dataframe tbody tr th:only-of-type {\n",
       "        vertical-align: middle;\n",
       "    }\n",
       "\n",
       "    .dataframe tbody tr th {\n",
       "        vertical-align: top;\n",
       "    }\n",
       "\n",
       "    .dataframe thead th {\n",
       "        text-align: right;\n",
       "    }\n",
       "</style>\n",
       "<table border=\"1\" class=\"dataframe\">\n",
       "  <thead>\n",
       "    <tr style=\"text-align: right;\">\n",
       "      <th></th>\n",
       "      <th>latitude</th>\n",
       "      <th>longitude</th>\n",
       "      <th>altitude</th>\n",
       "      <th>geometry</th>\n",
       "      <th>commpany_searched_for</th>\n",
       "      <th>place_id</th>\n",
       "      <th>types</th>\n",
       "      <th>address</th>\n",
       "      <th>job_title</th>\n",
       "      <th>name</th>\n",
       "      <th>...</th>\n",
       "      <th>types1</th>\n",
       "      <th>types2</th>\n",
       "      <th>types3</th>\n",
       "      <th>types4</th>\n",
       "      <th>types5</th>\n",
       "      <th>types6</th>\n",
       "      <th>types7</th>\n",
       "      <th>Unnamed: 105</th>\n",
       "      <th>Unnamed: 106</th>\n",
       "      <th>Unnamed: 107</th>\n",
       "    </tr>\n",
       "  </thead>\n",
       "  <tbody>\n",
       "    <tr>\n",
       "      <td>0</td>\n",
       "      <td>29.709847</td>\n",
       "      <td>-95.399630</td>\n",
       "      <td>NaN</td>\n",
       "      <td>Point</td>\n",
       "      <td>Houston+Methodist+Houston+Texas</td>\n",
       "      <td>ChIJ67LmOXHAQIYRVm8eii2x5gA</td>\n",
       "      <td>hospital,point_of_interest,establishment</td>\n",
       "      <td>6565 Fannin St, Houston, TX 77030, United States</td>\n",
       "      <td>Biochemistry</td>\n",
       "      <td>Methodist Hospital Emergency Services</td>\n",
       "      <td>...</td>\n",
       "      <td>hospital</td>\n",
       "      <td>point_of_interest</td>\n",
       "      <td>establishment</td>\n",
       "      <td>NaN</td>\n",
       "      <td>NaN</td>\n",
       "      <td>NaN</td>\n",
       "      <td>NaN</td>\n",
       "      <td>NaN</td>\n",
       "      <td>NaN</td>\n",
       "      <td>NaN</td>\n",
       "    </tr>\n",
       "    <tr>\n",
       "      <td>1</td>\n",
       "      <td>29.732961</td>\n",
       "      <td>-95.418916</td>\n",
       "      <td>NaN</td>\n",
       "      <td>Point</td>\n",
       "      <td>The+Princeton+Review+Houston+Texas</td>\n",
       "      <td>ChIJ8wtSzPPAQIYRJ5nCoCOXEl4</td>\n",
       "      <td>point_of_interest,establishment</td>\n",
       "      <td>3730 Kirby Dr #1188, Houston, TX 77098, United...</td>\n",
       "      <td>Biochemistry</td>\n",
       "      <td>The Princeton Review</td>\n",
       "      <td>...</td>\n",
       "      <td>point_of_interest</td>\n",
       "      <td>establishment</td>\n",
       "      <td>NaN</td>\n",
       "      <td>NaN</td>\n",
       "      <td>NaN</td>\n",
       "      <td>NaN</td>\n",
       "      <td>NaN</td>\n",
       "      <td>NaN</td>\n",
       "      <td>NaN</td>\n",
       "      <td>NaN</td>\n",
       "    </tr>\n",
       "    <tr>\n",
       "      <td>2</td>\n",
       "      <td>29.710440</td>\n",
       "      <td>-95.396170</td>\n",
       "      <td>NaN</td>\n",
       "      <td>Point</td>\n",
       "      <td>Baylor+Medicine+Houston+Texas</td>\n",
       "      <td>ChIJ33w1MnfAQIYRkP5-Lt3RhxQ</td>\n",
       "      <td>university,health,point_of_interest,establishment</td>\n",
       "      <td>1 Baylor Plaza, Houston, TX 77030, United States</td>\n",
       "      <td>Biochemistry</td>\n",
       "      <td>Baylor College of Medicine</td>\n",
       "      <td>...</td>\n",
       "      <td>university</td>\n",
       "      <td>health</td>\n",
       "      <td>point_of_interest</td>\n",
       "      <td>establishment</td>\n",
       "      <td>NaN</td>\n",
       "      <td>NaN</td>\n",
       "      <td>NaN</td>\n",
       "      <td>NaN</td>\n",
       "      <td>NaN</td>\n",
       "      <td>NaN</td>\n",
       "    </tr>\n",
       "    <tr>\n",
       "      <td>3</td>\n",
       "      <td>29.867935</td>\n",
       "      <td>-95.465904</td>\n",
       "      <td>NaN</td>\n",
       "      <td>Point</td>\n",
       "      <td>Lonestar+College+System+Houston+Texas</td>\n",
       "      <td>ChIJqaVfqaXIQIYRf8PTc49aphc</td>\n",
       "      <td>point_of_interest,establishment</td>\n",
       "      <td>4141 Victory Dr, Houston, TX 77088, United States</td>\n",
       "      <td>Biochemistry</td>\n",
       "      <td>Lone Star College System</td>\n",
       "      <td>...</td>\n",
       "      <td>point_of_interest</td>\n",
       "      <td>establishment</td>\n",
       "      <td>NaN</td>\n",
       "      <td>NaN</td>\n",
       "      <td>NaN</td>\n",
       "      <td>NaN</td>\n",
       "      <td>NaN</td>\n",
       "      <td>NaN</td>\n",
       "      <td>NaN</td>\n",
       "      <td>NaN</td>\n",
       "    </tr>\n",
       "    <tr>\n",
       "      <td>4</td>\n",
       "      <td>30.007182</td>\n",
       "      <td>-95.379741</td>\n",
       "      <td>NaN</td>\n",
       "      <td>Point</td>\n",
       "      <td>Lonestar+College+System+Houston+Texas</td>\n",
       "      <td>ChIJFwwy8Xa1QIYRMJtJ9403tZg</td>\n",
       "      <td>point_of_interest,establishment</td>\n",
       "      <td>2700 W W Thorne Dr, Houston, TX 77073, United ...</td>\n",
       "      <td>Biochemistry</td>\n",
       "      <td>Lone Star College-North Harris</td>\n",
       "      <td>...</td>\n",
       "      <td>point_of_interest</td>\n",
       "      <td>establishment</td>\n",
       "      <td>NaN</td>\n",
       "      <td>NaN</td>\n",
       "      <td>NaN</td>\n",
       "      <td>NaN</td>\n",
       "      <td>NaN</td>\n",
       "      <td>NaN</td>\n",
       "      <td>NaN</td>\n",
       "      <td>NaN</td>\n",
       "    </tr>\n",
       "  </tbody>\n",
       "</table>\n",
       "<p>5 rows × 108 columns</p>\n",
       "</div>"
      ],
      "text/plain": [
       "    latitude  longitude  altitude geometry  \\\n",
       "0  29.709847 -95.399630       NaN    Point   \n",
       "1  29.732961 -95.418916       NaN    Point   \n",
       "2  29.710440 -95.396170       NaN    Point   \n",
       "3  29.867935 -95.465904       NaN    Point   \n",
       "4  30.007182 -95.379741       NaN    Point   \n",
       "\n",
       "                   commpany_searched_for                     place_id  \\\n",
       "0        Houston+Methodist+Houston+Texas  ChIJ67LmOXHAQIYRVm8eii2x5gA   \n",
       "1     The+Princeton+Review+Houston+Texas  ChIJ8wtSzPPAQIYRJ5nCoCOXEl4   \n",
       "2          Baylor+Medicine+Houston+Texas  ChIJ33w1MnfAQIYRkP5-Lt3RhxQ   \n",
       "3  Lonestar+College+System+Houston+Texas  ChIJqaVfqaXIQIYRf8PTc49aphc   \n",
       "4  Lonestar+College+System+Houston+Texas  ChIJFwwy8Xa1QIYRMJtJ9403tZg   \n",
       "\n",
       "                                               types  \\\n",
       "0           hospital,point_of_interest,establishment   \n",
       "1                    point_of_interest,establishment   \n",
       "2  university,health,point_of_interest,establishment   \n",
       "3                    point_of_interest,establishment   \n",
       "4                    point_of_interest,establishment   \n",
       "\n",
       "                                             address     job_title  \\\n",
       "0   6565 Fannin St, Houston, TX 77030, United States  Biochemistry   \n",
       "1  3730 Kirby Dr #1188, Houston, TX 77098, United...  Biochemistry   \n",
       "2   1 Baylor Plaza, Houston, TX 77030, United States  Biochemistry   \n",
       "3  4141 Victory Dr, Houston, TX 77088, United States  Biochemistry   \n",
       "4  2700 W W Thorne Dr, Houston, TX 77073, United ...  Biochemistry   \n",
       "\n",
       "                                    name  ...             types1  \\\n",
       "0  Methodist Hospital Emergency Services  ...           hospital   \n",
       "1                   The Princeton Review  ...  point_of_interest   \n",
       "2             Baylor College of Medicine  ...         university   \n",
       "3               Lone Star College System  ...  point_of_interest   \n",
       "4         Lone Star College-North Harris  ...  point_of_interest   \n",
       "\n",
       "              types2             types3         types4 types5 types6  types7  \\\n",
       "0  point_of_interest      establishment            NaN    NaN    NaN     NaN   \n",
       "1      establishment                NaN            NaN    NaN    NaN     NaN   \n",
       "2             health  point_of_interest  establishment    NaN    NaN     NaN   \n",
       "3      establishment                NaN            NaN    NaN    NaN     NaN   \n",
       "4      establishment                NaN            NaN    NaN    NaN     NaN   \n",
       "\n",
       "   Unnamed: 105  Unnamed: 106  Unnamed: 107  \n",
       "0           NaN           NaN           NaN  \n",
       "1           NaN           NaN           NaN  \n",
       "2           NaN           NaN           NaN  \n",
       "3           NaN           NaN           NaN  \n",
       "4           NaN           NaN           NaN  \n",
       "\n",
       "[5 rows x 108 columns]"
      ]
     },
     "execution_count": 10,
     "metadata": {},
     "output_type": "execute_result"
    }
   ],
   "source": [
    "data_1.head()"
   ]
  },
  {
   "cell_type": "code",
   "execution_count": 46,
   "metadata": {},
   "outputs": [],
   "source": [
    "data_1 = data_1.drop(['Unnamed: 105', 'Unnamed: 106','Unnamed: 107'], axis=1)"
   ]
  },
  {
   "cell_type": "code",
   "execution_count": 47,
   "metadata": {},
   "outputs": [
    {
     "data": {
      "text/plain": [
       "{'version': 'v1',\n",
       " 'config': {'visState': {'filters': [],\n",
       "   'layers': [{'id': '7mlegu',\n",
       "     'type': 'point',\n",
       "     'config': {'dataId': 'data_1',\n",
       "      'label': 'Point',\n",
       "      'color': [18, 92, 119],\n",
       "      'columns': {'lat': 'latitude', 'lng': 'longitude', 'altitude': None},\n",
       "      'isVisible': True,\n",
       "      'visConfig': {'radius': 10,\n",
       "       'fixedRadius': False,\n",
       "       'opacity': 0.8,\n",
       "       'outline': False,\n",
       "       'thickness': 2,\n",
       "       'strokeColor': None,\n",
       "       'colorRange': {'name': 'Global Warming',\n",
       "        'type': 'sequential',\n",
       "        'category': 'Uber',\n",
       "        'colors': ['#5A1846',\n",
       "         '#900C3F',\n",
       "         '#C70039',\n",
       "         '#E3611C',\n",
       "         '#F1920E',\n",
       "         '#FFC300']},\n",
       "       'strokeColorRange': {'name': 'Global Warming',\n",
       "        'type': 'sequential',\n",
       "        'category': 'Uber',\n",
       "        'colors': ['#5A1846',\n",
       "         '#900C3F',\n",
       "         '#C70039',\n",
       "         '#E3611C',\n",
       "         '#F1920E',\n",
       "         '#FFC300']},\n",
       "       'radiusRange': [0, 50],\n",
       "       'filled': True},\n",
       "      'textLabel': [{'field': None,\n",
       "        'color': [255, 255, 255],\n",
       "        'size': 18,\n",
       "        'offset': [0, 0],\n",
       "        'anchor': 'start',\n",
       "        'alignment': 'center'}]},\n",
       "     'visualChannels': {'colorField': None,\n",
       "      'colorScale': 'quantile',\n",
       "      'strokeColorField': None,\n",
       "      'strokeColorScale': 'quantile',\n",
       "      'sizeField': None,\n",
       "      'sizeScale': 'linear'}}],\n",
       "   'interactionConfig': {'tooltip': {'fieldsToShow': {'data_1': ['altitude',\n",
       "       'geometry',\n",
       "       'commpany_searched_for',\n",
       "       'place_id',\n",
       "       'types']},\n",
       "     'enabled': True},\n",
       "    'brush': {'size': 4, 'enabled': False}},\n",
       "   'layerBlending': 'normal',\n",
       "   'splitMaps': []},\n",
       "  'mapState': {'bearing': 0,\n",
       "   'dragRotate': False,\n",
       "   'latitude': 30.007182,\n",
       "   'longitude': -95.366456,\n",
       "   'pitch': 0,\n",
       "   'zoom': 9.21057540104681,\n",
       "   'isSplit': False},\n",
       "  'mapStyle': {'styleType': 'dark',\n",
       "   'topLayerGroups': {},\n",
       "   'visibleLayerGroups': {'label': True,\n",
       "    'road': True,\n",
       "    'border': False,\n",
       "    'building': True,\n",
       "    'water': True,\n",
       "    'land': True,\n",
       "    '3d building': True},\n",
       "   'threeDBuildingColor': [9.665468314072013,\n",
       "    17.18305478057247,\n",
       "    31.1442867897876],\n",
       "   'mapStyles': {}}}}"
      ]
     },
     "execution_count": 47,
     "metadata": {},
     "output_type": "execute_result"
    }
   ],
   "source": [
    "map_1.config"
   ]
  },
  {
   "cell_type": "code",
   "execution_count": 63,
   "metadata": {},
   "outputs": [],
   "source": [
    "config = {'version': 'v1',\n",
    " 'config': {'visState': {'filters': [],\n",
    "   'layers': [{'type':'point','config':{'dataId':'data_1'}}],\n",
    "    'filters': [{'dataId':'data_1','name':'job_title'}],\n",
    "   'interactionConfig': {'tooltip': {'fieldsToShow': {'data_1':['job_title','name','types']}, 'enabled': True},\n",
    "    'brush': {'size': 4, 'enabled': False}},\n",
    "   'layerBlending': 'normal',\n",
    "   'splitMaps': []},\n",
    "  'mapState': {'bearing': 0,\n",
    "   'dragRotate': False,\n",
    "   'latitude': 30.007182,\n",
    "   'longitude': -95.366456,\n",
    "   'pitch': 0,\n",
    "   'zoom': 9.21057540104681,\n",
    "   'isSplit': False},\n",
    "  'mapStyle': {'styleType': 'dark',\n",
    "   'topLayerGroups': {},\n",
    "   'visibleLayerGroups': {'label': True,\n",
    "    'road': True,\n",
    "    'border': False,\n",
    "    'building': True,\n",
    "    'water': True,\n",
    "    'land': True,\n",
    "    '3d building': False},\n",
    "   'threeDBuildingColor': [9.665468314072013,\n",
    "    17.18305478057247,\n",
    "    31.1442867897876],\n",
    "   'mapStyles': {}}}}"
   ]
  },
  {
   "cell_type": "code",
   "execution_count": 64,
   "metadata": {},
   "outputs": [],
   "source": [
    "map_1.config = config"
   ]
  },
  {
   "cell_type": "code",
   "execution_count": 65,
   "metadata": {},
   "outputs": [],
   "source": [
    "map_1.add_data(data=data_1,name=\"data_1\")"
   ]
  },
  {
   "cell_type": "code",
   "execution_count": 66,
   "metadata": {
    "scrolled": false
   },
   "outputs": [
    {
     "data": {
      "application/vnd.jupyter.widget-view+json": {
       "model_id": "bafa0ed8e3a74968983448a409a9c631",
       "version_major": 2,
       "version_minor": 0
      },
      "text/plain": [
       "KeplerGl(config={'version': 'v1', 'config': {'visState': {'filters': [], 'layers': [{'id': '189mmcb', 'type': …"
      ]
     },
     "metadata": {},
     "output_type": "display_data"
    }
   ],
   "source": [
    "map_1"
   ]
  },
  {
   "cell_type": "code",
   "execution_count": null,
   "metadata": {},
   "outputs": [],
   "source": []
  },
  {
   "cell_type": "code",
   "execution_count": null,
   "metadata": {},
   "outputs": [],
   "source": []
  }
 ],
 "metadata": {
  "kernelspec": {
   "display_name": "Python 3",
   "language": "python",
   "name": "python3"
  },
  "language_info": {
   "codemirror_mode": {
    "name": "ipython",
    "version": 3
   },
   "file_extension": ".py",
   "mimetype": "text/x-python",
   "name": "python",
   "nbconvert_exporter": "python",
   "pygments_lexer": "ipython3",
   "version": "3.7.4"
  }
 },
 "nbformat": 4,
 "nbformat_minor": 2
}
