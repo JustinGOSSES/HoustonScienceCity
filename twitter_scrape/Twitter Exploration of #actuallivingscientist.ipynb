{
 "cells": [
  {
   "cell_type": "markdown",
   "metadata": {},
   "source": [
    "# Twitter Exploration of #actuallivingscientist hashtag in Houston Texas\n",
    "### Justin Gosses\n",
    "### 2017-02-13"
   ]
  },
  {
   "cell_type": "code",
   "execution_count": 75,
   "metadata": {
    "collapsed": false
   },
   "outputs": [],
   "source": [
    "import twitter"
   ]
  },
  {
   "cell_type": "code",
   "execution_count": 61,
   "metadata": {
    "collapsed": false
   },
   "outputs": [],
   "source": [
    "# Remember to clear these before pushing!!!! and put somewhere else!!!\n",
    "api = twitter.Api(consumer_key='',\n",
    "                      consumer_secret='',\n",
    "                      access_token_key='',\n",
    "                      access_token_secret='')\n"
   ]
  },
  {
   "cell_type": "code",
   "execution_count": 62,
   "metadata": {
    "collapsed": false
   },
   "outputs": [
    {
     "name": "stdout",
     "output_type": "stream",
     "text": [
      "{\"created_at\": \"Sun Aug 07 22:46:19 +0000 2016\", \"default_profile\": true, \"description\": \"I write code and look at rocks : Python | JavaScript | Web Dev | Data Visualization & Analytics | Geology | Space | - Opinions are my own\", \"favourites_count\": 275, \"followers_count\": 60, \"friends_count\": 200, \"geo_enabled\": true, \"id\": 762419629553659909, \"lang\": \"en\", \"listed_count\": 10, \"location\": \"Houston, TX\", \"name\": \"Justin Gosses\", \"profile_background_color\": \"F5F8FA\", \"profile_image_url\": \"http://pbs.twimg.com/profile_images/830090949833408512/ADQFqmNz_normal.jpg\", \"profile_link_color\": \"1DA1F2\", \"profile_sidebar_fill_color\": \"DDEEF6\", \"profile_text_color\": \"333333\", \"screen_name\": \"JustinGosses\", \"status\": {\"created_at\": \"Mon Feb 13 03:10:30 +0000 2017\", \"id\": 830977422082334720, \"id_str\": \"830977422082334720\", \"lang\": \"en\", \"media\": [{\"display_url\": \"pic.twitter.com/3kiClMc6jX\", \"expanded_url\": \"https://twitter.com/FMDeegan/status/830843975628099584/photo/1\", \"id\": 830843941683609602, \"media_url\": \"http://pbs.twimg.com/media/C4fAKbfWQAIecHz.jpg\", \"media_url_https\": \"https://pbs.twimg.com/media/C4fAKbfWQAIecHz.jpg\", \"sizes\": {\"large\": {\"h\": 1593, \"resize\": \"fit\", \"w\": 2048}, \"medium\": {\"h\": 933, \"resize\": \"fit\", \"w\": 1200}, \"small\": {\"h\": 529, \"resize\": \"fit\", \"w\": 680}, \"thumb\": {\"h\": 150, \"resize\": \"crop\", \"w\": 150}}, \"type\": \"photo\", \"url\": \"https://t.co/3kiClMc6jX\"}], \"retweet_count\": 75, \"retweeted\": true, \"retweeted_status\": {\"created_at\": \"Sun Feb 12 18:20:14 +0000 2017\", \"favorite_count\": 129, \"id\": 830843975628099584, \"id_str\": \"830843975628099584\", \"lang\": \"en\", \"media\": [{\"display_url\": \"pic.twitter.com/3kiClMc6jX\", \"expanded_url\": \"https://twitter.com/FMDeegan/status/830843975628099584/photo/1\", \"id\": 830843941683609602, \"media_url\": \"http://pbs.twimg.com/media/C4fAKbfWQAIecHz.jpg\", \"media_url_https\": \"https://pbs.twimg.com/media/C4fAKbfWQAIecHz.jpg\", \"sizes\": {\"large\": {\"h\": 1593, \"resize\": \"fit\", \"w\": 2048}, \"medium\": {\"h\": 933, \"resize\": \"fit\", \"w\": 1200}, \"small\": {\"h\": 529, \"resize\": \"fit\", \"w\": 680}, \"thumb\": {\"h\": 150, \"resize\": \"crop\", \"w\": 150}}, \"type\": \"photo\", \"url\": \"https://t.co/3kiClMc6jX\"}], \"retweet_count\": 75, \"retweeted\": true, \"source\": \"<a href=\\\"http://twitter.com/download/android\\\" rel=\\\"nofollow\\\">Twitter for Android</a>\", \"text\": \"Came across these today: Beautifully illustrated South African geological stamps from @35thigc https://t.co/3kiClMc6jX\"}, \"source\": \"<a href=\\\"http://twitter.com/download/android\\\" rel=\\\"nofollow\\\">Twitter for Android</a>\", \"text\": \"RT @FMDeegan: Came across these today: Beautifully illustrated South African geological stamps from @35thigc https://t.co/3kiClMc6jX\"}, \"statuses_count\": 202, \"url\": \"https://t.co/9zRCEHVyBG\"}\n"
     ]
    }
   ],
   "source": [
    ">>> print(api.VerifyCredentials())"
   ]
  },
  {
   "cell_type": "code",
   "execution_count": 63,
   "metadata": {
    "collapsed": false
   },
   "outputs": [
    {
     "name": "stdout",
     "output_type": "stream",
     "text": [
      "['RT @FMDeegan: Came across these today: Beautifully illustrated South African geological stamps from @35thigc https://t.co/3kiClMc6jX', 'RT @RogueNASA: A US-born NASA scientist was detained at the border until he unlocked his phone https://t.co/rdby6A8xN3', 'New space robots with new abilities for inside the #ISS  https://t.co/H2TnJKrPtw', '@JustinGosses first meeting this saturday', 'Jealous... https://t.co/oINunD6f8m', 'Hoping to get one in Houston this year #spaceApps https://t.co/cAd0USUIHs', 'RT @SarcasticRover: One thing made very clear by the #actuallivingscientist hash-storm yesterday it’s that real science is amazingly divers…', 'Focused on public policy predictions but applicable elsewhere &amp; good summary of considerations when applying #ML \\n\\nhttps://t.co/2C4CHQLnRq', 'RT @NASAdata: NASA explores graph database for deep insights into space (via @davidmeza1) https://t.co/9qOtTw7oaw', 'RT @janinekrippner: Spot the shock wave propagating when #Colima #volcano erupts https://t.co/Ka5tNt3f5O', '@JustinGosses lower threshold to start or try new methods as the assumption is more of the competitors have similar skills as you', 'This was fun and suggested benefits of a machine learning contest on a domain specific platform instead of kaggle. https://t.co/AK8Yqt1UgQ', '@cirquelar \\nhow much rover-based imagery collection is required for navigational needs vs purely science driven collection vs. mixture.', 'RT @ScienceMarchHou: Honestly, same. ✊🏻✊🏼✊🏽✊🏾✊🏿\\n#ScienceMarch #ScienceMarchHou https://t.co/bVqDGNmIt3', 'RT @RioParana: Our new digital elevation models of the South Saskatchewan River just coming out #6cmresolution, well done PDRA @StrickRober…', 'RT @ScienceMarchHou: #Science: improving lives &amp; safeguarding our futures! #ScienceMarch #ScienceMarchHou #ScienceMarchTX #SpaceCity #NASA…', '@ScienceMarchHou this states research was \"buried\", but it\\'s actually published. To keep Sci March fact-based, maybe use different article?', 'RT @SciGuySpace: This is jaw dropping. Watch as a small probe lands on a distant moon covered by hydrocarbon seas. https://t.co/0li7KwpBu1', 'me, \"argh, I\\'ll just sudo that\". \\nterminal, \"Error: Cowardly refusing to......... \"', 'RT @RonBaalke: A newly discovered ~7-meter asteroid, 2017 BH30, will just miss hitting the Earth on Jan 30 (0.1 Lunar Distance)\\n@BadAstrono…']\n"
     ]
    }
   ],
   "source": [
    ">>> statuses = api.GetUserTimeline(screen_name=\"JustinGosses\")\n",
    ">>> print([s.text for s in statuses])"
   ]
  },
  {
   "cell_type": "code",
   "execution_count": 64,
   "metadata": {
    "collapsed": false
   },
   "outputs": [
    {
     "data": {
      "text/plain": [
       "[Status(ID=831379797179670528, ScreenName=AusSci_NicoleT, Created=Tue Feb 14 05:49:24 +0000 2017, Text=\"RT @sumnerd: I'm an #actuallivingscientist who teaches sedimentology &amp; I'm worried about #OrovilleSpillway. Take a geology class! https://t…\"),\n",
       " Status(ID=831379688668868609, ScreenName=stuartpalley, Created=Tue Feb 14 05:48:58 +0000 2017, Text=\"RT @sumnerd: I'm an #actuallivingscientist who teaches sedimentology &amp; I'm worried about #OrovilleSpillway. Take a geology class! https://t…\"),\n",
       " Status(ID=831379543915167744, ScreenName=MelanieAnnS, Created=Tue Feb 14 05:48:24 +0000 2017, Text=\"I'm an #actuallivingscientist Did biochemistry studies on cancer &amp; TB. Wanted to popularize molecular bio, now I am a #Gamedev @MolecularJig\"),\n",
       " Status(ID=831378383313453056, ScreenName=Peer__Reviewer, Created=Tue Feb 14 05:43:47 +0000 2017, Text=\"RT @RobertGaristo: Hi, I'm Robert, and I'm an #actuallivingscientist. I'm an Editor for a weekly physics journal. I help vet research paper…\"),\n",
       " Status(ID=831374200279441408, ScreenName=PippaKH, Created=Tue Feb 14 05:27:10 +0000 2017, Text='RT @AusAntarctic: To celebrate #WomeninScience Day #actuallivingscientist &amp; #marine #ecologist, Jess, shares her story - from Indonesia to…'),\n",
       " Status(ID=831374080888541184, ScreenName=megloops, Created=Tue Feb 14 05:26:41 +0000 2017, Text=\"RT @sumnerd: I'm an #actuallivingscientist who teaches sedimentology &amp; I'm worried about #OrovilleSpillway. Take a geology class! https://t…\"),\n",
       " Status(ID=831373268485562368, ScreenName=NIHAustin, Created=Tue Feb 14 05:23:28 +0000 2017, Text='RT @drrobbutler: Inspiring to see #actuallivingscientist near and far. @redlipblenny @SalmonEco @pwlf_org @PSF https://t.co/jldsWdmEmj'),\n",
       " Status(ID=831373236638273536, ScreenName=NIHAustin, Created=Tue Feb 14 05:23:20 +0000 2017, Text=\"RT @GeoGinger: .@IRIS_EPO I'm an #actuallivingscientist helping develop the research program of the Myanmar National Seismic Network! https…\"),\n",
       " Status(ID=831373207487799296, ScreenName=NIHAustin, Created=Tue Feb 14 05:23:13 +0000 2017, Text='RT @HennaSeaberry: Underwater archaeology! Looking for 3500 yr old ceremonial rock carvings covered by sea. #actuallivingscientist #DressLi…'),\n",
       " Status(ID=831373180145172482, ScreenName=NIHAustin, Created=Tue Feb 14 05:23:06 +0000 2017, Text=\"RT @LizzWaring: I'm an #actuallivingscientist who studies how changes to the environment effect photosynthesis in wetland plants. I also tw…\"),\n",
       " Status(ID=831373168006795264, ScreenName=NIHAustin, Created=Tue Feb 14 05:23:04 +0000 2017, Text=\"RT @clivetrue: I'm Clive, an #actuallivingscientist. I play with stable isotopes &amp; train the next gen. of #actuallivingscientist(s) https:/…\"),\n",
       " Status(ID=831373138399285248, ScreenName=NIHAustin, Created=Tue Feb 14 05:22:57 +0000 2017, Text='RT @david_dkie2480: I am a marine biologist #actuallivingscientist https://t.co/iLv2TVdjRJ'),\n",
       " Status(ID=831373119482896384, ScreenName=NIHAustin, Created=Tue Feb 14 05:22:52 +0000 2017, Text=\"RT @MashiaraDream: I'm an #actuallivingscientist who uses satellite data to monitor crops &amp; make sure our planet stays healthy. I have no c…\"),\n",
       " Status(ID=831373050423689216, ScreenName=NIHAustin, Created=Tue Feb 14 05:22:36 +0000 2017, Text='RT @lionlchristiaen: I am an #actuallivingscientist studying how genes tell cells to make a heart.'),\n",
       " Status(ID=831373030748254208, ScreenName=NIHAustin, Created=Tue Feb 14 05:22:31 +0000 2017, Text=\"RT @RougeNASA: RT RogueNASA: All your #DressLikeAWoman and #actuallivingscientist photos are so inspiring. Give 'em hell, ladies.… https://…\"),\n",
       " Status(ID=831373005263605761, ScreenName=NIHAustin, Created=Tue Feb 14 05:22:25 +0000 2017, Text=\"RT @Randchovy: I'm Randy! I'm an #actuallivingscientist! I study taxonomy/biogeography of fishes. I use data from museums and ROVs like @ok…\"),\n",
       " Status(ID=831372941896118273, ScreenName=NIHAustin, Created=Tue Feb 14 05:22:10 +0000 2017, Text=\"RT @kaitalexgrab: I'm an #ActualLivingScientist who tests water quality &amp; advocates for environmental protection. I #DressLikeAWoman in my…\"),\n",
       " Status(ID=831372910757552128, ScreenName=NIHAustin, Created=Tue Feb 14 05:22:02 +0000 2017, Text=\"RT @anishakpal: I'm a pediatric resident taking care of sick kids. I #dresslikeawoman and am an #actuallivingscientist https://t.co/CgBCjBR…\"),\n",
       " Status(ID=831372876603338752, ScreenName=NIHAustin, Created=Tue Feb 14 05:21:54 +0000 2017, Text=\"RT @RobertGaristo: Hi, I'm Robert, and I'm an #actuallivingscientist. I'm an Editor for a weekly physics journal. I help vet research paper…\"),\n",
       " Status(ID=831372840385536000, ScreenName=NIHAustin, Created=Tue Feb 14 05:21:45 +0000 2017, Text=\"RT @DrLimnology: Hi!  I'm Jim. I'm #actuallivingscientist, a limnologist in fact! I study lakes &amp; streams around the world. Important 4 dri…\"),\n",
       " Status(ID=831372810786394112, ScreenName=NIHAustin, Created=Tue Feb 14 05:21:38 +0000 2017, Text=\"RT @BrunaLab: Hi, I'm Emilio! I an #actuallivingscientist studying the Amazon &amp; help communicate science as Editor of @Biotropica https://t…\"),\n",
       " Status(ID=831372791811301377, ScreenName=NIHAustin, Created=Tue Feb 14 05:21:34 +0000 2017, Text=\"RT @PennyAdventure: Hey I'm Kaitlyn, an #actuallivingscientist who studies testis development and the genetics of sex #womeninscience https…\"),\n",
       " Status(ID=831372750778408960, ScreenName=NIHAustin, Created=Tue Feb 14 05:21:24 +0000 2017, Text=\"RT @DrMaura_Science: I'm Maura an #actuallivingscientist who studies dust storms and teaches students about #climatechange #severeweather a…\"),\n",
       " Status(ID=831372716343193601, ScreenName=NIHAustin, Created=Tue Feb 14 05:21:16 +0000 2017, Text='RT @colorful_n0mi: Literally lolzing and crying at these glorious hashtags. Checkout #ActualLivingScientist &amp; #DressLikeAWoman if you haven…'),\n",
       " Status(ID=831372653353193472, ScreenName=NIHAustin, Created=Tue Feb 14 05:21:01 +0000 2017, Text=\"RT @AmandaGrannas: I'm Amanda, a female #actuallivingscientist who does environmental fieldwork, where I can #DressLikeAWoman https://t.co/…\"),\n",
       " Status(ID=831372578510012418, ScreenName=NIHAustin, Created=Tue Feb 14 05:20:43 +0000 2017, Text='RT @DrLimnology: 3 academic generations of #actuallivingscientist.  Me, @limnojess, &amp; legendary CR Goldman. We study lakes, incl Flathead,…'),\n",
       " Status(ID=831372524332130304, ScreenName=NIHAustin, Created=Tue Feb 14 05:20:30 +0000 2017, Text=\"RT @AdeleSeelke: I'm an #actuallivingscientist who studies how early experience influences brain organization #DressLikeAWoman https://t.co…\"),\n",
       " Status(ID=831372497362771968, ScreenName=NIHAustin, Created=Tue Feb 14 05:20:24 +0000 2017, Text='RT @GeoJeannie: I am an #actuallivingscientist, and I  always #DressLikeAWoman when studying high alpine environments while pregnant. How d…'),\n",
       " Status(ID=831372469844004865, ScreenName=mduncanvm, Created=Tue Feb 14 05:20:17 +0000 2017, Text=\"RT @sumnerd: I'm an #actuallivingscientist who teaches sedimentology &amp; I'm worried about #OrovilleSpillway. Take a geology class! https://t…\"),\n",
       " Status(ID=831372456929685505, ScreenName=NIHAustin, Created=Tue Feb 14 05:20:14 +0000 2017, Text='RT @BobbittAndra: #actuallivingscientist helping study undersea volcanoes and I #DressLikeAWoman https://t.co/T7YCxcpgPY'),\n",
       " Status(ID=831372432221011969, ScreenName=NIHAustin, Created=Tue Feb 14 05:20:08 +0000 2017, Text=\"RT @DevilleSy: Hi, I'm Sylvain, an #ActualLivingScientist who looks at ice growth and why it matters in materials science, geophysics and m…\"),\n",
       " Status(ID=831372411706695681, ScreenName=NIHAustin, Created=Tue Feb 14 05:20:03 +0000 2017, Text=\"RT @shelbybohn: Hi, I'm Shelby! I'm an #actuallivingscientist trying to protect bats by understanding them better &amp; showing people how cool…\"),\n",
       " Status(ID=831372317645275136, ScreenName=NIHAustin, Created=Tue Feb 14 05:19:41 +0000 2017, Text='RT @FishGirlBurford: #actuallivingscientist who studies conservation genetics of aquatic species and I #DressLikeAWoman https://t.co/fqFXwR…'),\n",
       " Status(ID=831372313715232772, ScreenName=BorgeLrasmussen, Created=Tue Feb 14 05:19:40 +0000 2017, Text='RT @ScienceMarchDC: Peter &amp; Rosemary Grant spent 40 years tracking #evolution in Galapagos finches. #DarwinDay  #actuallivingscientist http…'),\n",
       " Status(ID=831372308526686208, ScreenName=CMMink, Created=Tue Feb 14 05:19:39 +0000 2017, Text='Oh yeah! Thanks @DktrGif #actuallivingscientist #girlsrule #BlackHistoryMonth https://t.co/IFj1c9HIX8'),\n",
       " Status(ID=831372299827867648, ScreenName=NIHAustin, Created=Tue Feb 14 05:19:37 +0000 2017, Text='RT @paleeoguy: This #actuallivingscientist spends his time studying growth of bone tissue in dinosaurs! https://t.co/3F5p70SJrr'),\n",
       " Status(ID=831372237890543616, ScreenName=NIHAustin, Created=Tue Feb 14 05:19:22 +0000 2017, Text=\"RT @copenhaverlab: I'm an #actuallivingscientist trying to discover how new combinations of genes are made during reproduction. https://t.c…\"),\n",
       " Status(ID=831372176804679680, ScreenName=NIHAustin, Created=Tue Feb 14 05:19:07 +0000 2017, Text=\"RT @dr_limmunology: Hi! I'm Chrissie, an #actuallivingscientist finding out how to rescue immune deficiencies in patients. I, too, #DressLi…\"),\n",
       " Status(ID=831372132881932288, ScreenName=NIHAustin, Created=Tue Feb 14 05:18:57 +0000 2017, Text=\"RT @CogNerd: I'm an #actuallivingscientist doing concussion research/outreach on self-report &amp; return to play with @AFABrainLab on a Saturd…\"),\n",
       " Status(ID=831372108592775172, ScreenName=NIHAustin, Created=Tue Feb 14 05:18:51 +0000 2017, Text=\"RT @KingKines: #actuallivingscientist Hi, I'm Paul and I am Biomechanics scientist. It's fun. https://t.co/Lj68skOUu6\"),\n",
       " Status(ID=831372083611435008, ScreenName=NIHAustin, Created=Tue Feb 14 05:18:45 +0000 2017, Text=\"RT @victoriajane_uk: Hey!I'm an #ActualLivingScientist who researches the impact of group living on cognition. My #jackdaws only cooperate…\"),\n",
       " Status(ID=831372047049711616, ScreenName=NIHAustin, Created=Tue Feb 14 05:18:36 +0000 2017, Text=\"RT @lauralhaynes: I'm an #actuallivingscientist! I study past climate change and ocean acidification using tiny zooplankton shells #DressLi…\"),\n",
       " Status(ID=831372006792761345, ScreenName=NIHAustin, Created=Tue Feb 14 05:18:27 +0000 2017, Text='RT @mech_phoenix: Also, this #actuallivingscientist likes to talk a /lot/. Science should be accessible and intersectional! #DressLikeAWoma…'),\n",
       " Status(ID=831371971325808640, ScreenName=NIHAustin, Created=Tue Feb 14 05:18:18 +0000 2017, Text=\"RT @LuOceano: I'm an #actuallivingscientist studying spatial ecology of marine megafauna and I #DressLikeAWoman and wear whatever I want ht…\"),\n",
       " Status(ID=831371940136886276, ScreenName=NIHAustin, Created=Tue Feb 14 05:18:11 +0000 2017, Text='RT @NYChavez: I am a proud #Brown #Mexican #Immigrant #actuallivingscientist studying race, racism, &amp; immigration. #IamAmerica #NoBanNoWall…'),\n",
       " Status(ID=831371854514364416, ScreenName=NIHAustin, Created=Tue Feb 14 05:17:50 +0000 2017, Text=\"RT @carbonshed: I'm Diego &amp; I'm an #actuallivingscientist. I study water-ecosystem interactions. Also, I can't remember if today I've chang…\"),\n",
       " Status(ID=831371829965111298, ScreenName=Sandi_Knight, Created=Tue Feb 14 05:17:45 +0000 2017, Text='RT @han_osb321: The whole reason why I wanted to become an #actuallivingscientist was because of my dad an #actuallivingfarmer #yayplants h…'),\n",
       " Status(ID=831371817852006401, ScreenName=NIHAustin, Created=Tue Feb 14 05:17:42 +0000 2017, Text='RT @CatDogLund: As an #actuallivingscientist I analyse data from a particle physics experiment to understand what (ordinary/dark/colorful)…'),\n",
       " Status(ID=831371790660284417, ScreenName=NIHAustin, Created=Tue Feb 14 05:17:35 +0000 2017, Text=\"RT @aunpalmquist: I'm an #actuallivingscientist (#anthropologist) &amp; #DressLikeAWoman when studying #refugee infant &amp; young child feeding in…\"),\n",
       " Status(ID=831371789817163776, ScreenName=technoxray, Created=Tue Feb 14 05:17:35 +0000 2017, Text='RT @scgm2014: Hi! I’m Santi, an #actuallivingscientist working in ecological genomics of forest trees @Inra_France @GeneticsGSA https://t.c…'),\n",
       " Status(ID=831371747995877376, ScreenName=NIHAustin, Created=Tue Feb 14 05:17:25 +0000 2017, Text=\"RT @yuval_sapir: I'm Yuval, an #ActualLivingScientist studying evolutionary ecology of beautiful plants in natural habitats, mostly Irises…\"),\n",
       " Status(ID=831371717872320512, ScreenName=NIHAustin, Created=Tue Feb 14 05:17:18 +0000 2017, Text='RT @GretchenTG: Neat to see all the #actuallivingscientist posts. I studied air pollution health effects as an environmental engineer. #Dre…'),\n",
       " Status(ID=831371686717059073, ScreenName=NIHAustin, Created=Tue Feb 14 05:17:10 +0000 2017, Text='RT @fig_latin: My amazing &amp; adventurous best friend Roxanne field biologist: meadow monitoring &amp; controlled burns #ActualLivingScientist @S…'),\n",
       " Status(ID=831371602021535746, ScreenName=NIHAustin, Created=Tue Feb 14 05:16:50 +0000 2017, Text=\"RT @cybokat: Hi, I'm Kat and an #actuallivingscientist studying the evolution of cold-blooded vertebrates and teaching Genetics your kids.…\"),\n",
       " Status(ID=831371576507498496, ScreenName=NIHAustin, Created=Tue Feb 14 05:16:44 +0000 2017, Text='RT @SaveSharksORG: I am an #ActualLivingScientist &amp; this is how I #DressLikeAWoman! Exploring the #underwater world, and helping to #saveth…'),\n",
       " Status(ID=831371551232638976, ScreenName=NIHAustin, Created=Tue Feb 14 05:16:38 +0000 2017, Text=\"RT @XtremeVirusProf: I'm an #actuallivingscientist and I work on #mutant #viruses from hell #Jigoku.  I also stabilize #vaccines and poop,…\"),\n",
       " Status(ID=831371510036168705, ScreenName=NIHAustin, Created=Tue Feb 14 05:16:28 +0000 2017, Text=\"RT @angelajmcd: I study #milkweed #evolution, and I always #DressLikeAWoman because that's what a female #actuallivingscientist does. #bota…\"),\n",
       " Status(ID=831371486279643136, ScreenName=NIHAustin, Created=Tue Feb 14 05:16:23 +0000 2017, Text=\"RT @drerinmac: I'm an #actuallivingscientist who does technical systems analysis and teaches people about general relativity (&amp; other fun s…\"),\n",
       " Status(ID=831371459083767810, ScreenName=NIHAustin, Created=Tue Feb 14 05:16:16 +0000 2017, Text='RT @ExhaleSincerity: Here I am, an #actuallivingscientist in Music Therapy, exploring social-cogntv theories w/marginalized populations. Ye…'),\n",
       " Status(ID=831371432319975424, ScreenName=NIHAustin, Created=Tue Feb 14 05:16:10 +0000 2017, Text='RT @SaraDWms: #actuallivingscientist who studies #coral and ecophysiology but I love #networks so I use \"6degrees of separation\" to study c…'),\n",
       " Status(ID=831371411151319040, ScreenName=NIHAustin, Created=Tue Feb 14 05:16:05 +0000 2017, Text=\"RT @Prokaryota: Hi! I'm Elisa. I study how bacteria cooperate to cause disease. #actuallivingscientist with @chris_zie @RolfsMicrobes https…\"),\n",
       " Status(ID=831371383749935104, ScreenName=NIHAustin, Created=Tue Feb 14 05:15:58 +0000 2017, Text='RT @mi_binder: I am an #actuallivingscientist &amp; #DressLikeAWoman, I study how past people lived, sometimes have to find them first. https:/…'),\n",
       " Status(ID=831371350820450304, ScreenName=NIHAustin, Created=Tue Feb 14 05:15:50 +0000 2017, Text='RT @northern_norton: Browsing #actuallivingscientist feed with my daughters showing all the awesome #WomeninScience. And cool things we lea…'),\n",
       " Status(ID=831371271388745728, ScreenName=NIHAustin, Created=Tue Feb 14 05:15:31 +0000 2017, Text=\"RT @niais: I'm an #actuallivingscientist, much to my constant surprise. Spectrographs, galaxies, and revolution (oh, my.) https://t.co/adJZ…\"),\n",
       " Status(ID=831371173548158976, ScreenName=NIHAustin, Created=Tue Feb 14 05:15:08 +0000 2017, Text=\"RT @1tweinke2many: Hi, I'm Tony, an #actuallivingscientist.  I use sensors to study how water quality changes over time and influences fish…\"),\n",
       " Status(ID=831371145647632384, ScreenName=NIHAustin, Created=Tue Feb 14 05:15:01 +0000 2017, Text='RT @cgoldhaw: I am an #actuallivingscientist who worked on #animalwelare with cattle, #rodeo, &amp; many more...now bringing hat #scicomm to co…'),\n",
       " Status(ID=831371121668792320, ScreenName=NIHAustin, Created=Tue Feb 14 05:14:56 +0000 2017, Text=\"RT @PaleoExplorer: Hey #PICKedu Here is a fun dragonfly research project I've worked on https://t.co/RSer22MAxW #actuallivingscientist @Nat…\"),\n",
       " Status(ID=831371114026766336, ScreenName=drsteveboyes, Created=Tue Feb 14 05:14:54 +0000 2017, Text='RT @katzyna: Our new paper about #monkeys &amp; #exotic plants in #Afromontane forest #EasternCape #SamangoMonkeyProject #actuallivingscientist…'),\n",
       " Status(ID=831371068292157441, ScreenName=NIHAustin, Created=Tue Feb 14 05:14:43 +0000 2017, Text=\"RT @rdikow: I'm an #actuallivingscientist studying genomes and big data. My free time is spent with these three. https://t.co/P769rsoxSl\"),\n",
       " Status(ID=831371037610762242, ScreenName=NIHAustin, Created=Tue Feb 14 05:14:36 +0000 2017, Text=\"RT @samoester: .@Biotropica I'm an #actuallivingscientist working on many facets of coastal and aquatic health in #Haiti.\\n#DressLikeAWoman…\"),\n",
       " Status(ID=831371012704976898, ScreenName=NIHAustin, Created=Tue Feb 14 05:14:30 +0000 2017, Text=\"RT @byrdgyrl1: That's my brother, he's an #ActualLivingScientist too! https://t.co/jxTelfbM01\"),\n",
       " Status(ID=831370976818581504, ScreenName=NIHAustin, Created=Tue Feb 14 05:14:21 +0000 2017, Text=\"RT @Notmadscientist: Hi,  I'm Adam.  I try to understand then kill cancer cells #actuallivingscientist https://t.co/2MI7SCZnSl\"),\n",
       " Status(ID=831370960162942980, ScreenName=NIHAustin, Created=Tue Feb 14 05:14:17 +0000 2017, Text='RT @SteinhartBart: Part of being an #ActualLivingScientist is staying in high-class accommodations - these guys are building us beds #Vanua…'),\n",
       " Status(ID=831370915548119042, ScreenName=NIHAustin, Created=Tue Feb 14 05:14:07 +0000 2017, Text=\"RT @cmichaud82: I'm Corinne, and I'm an #actuallivingscientist studying the recovery of desert tortoise populations in the southwest US #sc…\"),\n",
       " Status(ID=831370901362991105, ScreenName=NIHAustin, Created=Tue Feb 14 05:14:03 +0000 2017, Text=\"RT @LucyvanDorp: I'm an #actuallivingscientist using computational methods to learn cool things from dna of humans, human remains and patho…\"),\n",
       " Status(ID=831370878558539776, ScreenName=NIHAustin, Created=Tue Feb 14 05:13:58 +0000 2017, Text='RT @annemarierouss: #actuallivingscientist \\n#DressLikeAWoman \\n\\nLooking into the diversity of the HIV genome.... https://t.co/FnlWtdiSqh'),\n",
       " Status(ID=831370799097450496, ScreenName=NIHAustin, Created=Tue Feb 14 05:13:39 +0000 2017, Text='RT @AlisonGraetting: I am an #actuallivingscientist that studies Volcanoes by looking at rocks, melting lava and using dynamite to simulate…'),\n",
       " Status(ID=831370769699581952, ScreenName=NIHAustin, Created=Tue Feb 14 05:13:32 +0000 2017, Text=\"RT @blatherghast: @blatherghast No wait, I've definitely got it this time. #DressLikeAWoman #actuallivingscientist https://t.co/1R1SVcFPAE\"),\n",
       " Status(ID=831370731795648516, ScreenName=NIHAustin, Created=Tue Feb 14 05:13:23 +0000 2017, Text=\"RT @CosmoClarkey: I'm an #actuallivingscientist, working on a PhD looking at stardust grains in meteorites. #LGBTscientist #DressLikeAWoman…\"),\n",
       " Status(ID=831370711130370048, ScreenName=NIHAustin, Created=Tue Feb 14 05:13:18 +0000 2017, Text=\"RT @DaysOfUnderoos: I'm Lynn, an ER nurse. Because of every #actuallivingscientist I get to save lives every single day. Thanks y'all! http…\"),\n",
       " Status(ID=831370685012393984, ScreenName=NIHAustin, Created=Tue Feb 14 05:13:12 +0000 2017, Text=\"RT @IntrplnetSarah: I'm Sarah, an #actuallivingscientist and I study the Moon, up close and personal. https://t.co/osabZAcR63\"),\n",
       " Status(ID=831370639474827264, ScreenName=NIHAustin, Created=Tue Feb 14 05:13:01 +0000 2017, Text=\"RT @kamcclellan: I'm an #actuallivingscientist studying sharks and offshore renewable energy #WomeninScience https://t.co/vQZEM7K2VV\"),\n",
       " Status(ID=831370613939896320, ScreenName=NIHAustin, Created=Tue Feb 14 05:12:55 +0000 2017, Text=\"RT @orzelc: I'm an #actuallivingscientist who also teaches and writes about physics https://t.co/Oifz7HILQw. Seen here with my late dog in…\"),\n",
       " Status(ID=831370542917746688, ScreenName=NIHAustin, Created=Tue Feb 14 05:12:38 +0000 2017, Text='RT @Manziojl: I am studying human-wildlife conflicts in the Volcanoes National Park, Rwanda #actuallivingscientist'),\n",
       " Status(ID=831370529789575170, ScreenName=NIHAustin, Created=Tue Feb 14 05:12:35 +0000 2017, Text=\"RT @byrdgyrl1: This is my brother, an #ActualLivingScientist , he's super-cool! https://t.co/3M7gCs1s3s\"),\n",
       " Status(ID=831370476274454530, ScreenName=NIHAustin, Created=Tue Feb 14 05:12:22 +0000 2017, Text=\"RT @BeccaLogsdon: Hi I'm Becca! I am an #actuallivingscientist and I study how humans impact the environment and especially water! I also #…\"),\n",
       " Status(ID=831370440761286657, ScreenName=NIHAustin, Created=Tue Feb 14 05:12:13 +0000 2017, Text=\"RT @DarcyLRoss: Good morning Twitter! Meet one of the coolest #ActualLivingScientist s I know! He's studying the evolution of fish feeeeelz…\"),\n",
       " Status(ID=831370390631018497, ScreenName=NIHAustin, Created=Tue Feb 14 05:12:01 +0000 2017, Text=\"RT @vikkirodgers: I'm an #actuallivingscientist doing research to understand the effects of #climatechange on #plants &amp; #soils --- #ecology…\"),\n",
       " Status(ID=831370362231386112, ScreenName=NIHAustin, Created=Tue Feb 14 05:11:55 +0000 2017, Text=\"RT @kmalofs: Hi, I'm Karen an #actuallivingscientist studying the impacts of environmental change on fishes in lakes and streams. I also #D…\"),\n",
       " Status(ID=831370342421643266, ScreenName=NIHAustin, Created=Tue Feb 14 05:11:50 +0000 2017, Text='RT @sara_birdie: Proud #actuallivingscientist using #CRISPR to develop anti-viral therapeutics during the week, elite Cat. 1 cyclist on wee…'),\n",
       " Status(ID=831370311027290113, ScreenName=NIHAustin, Created=Tue Feb 14 05:11:42 +0000 2017, Text='RT @suchi_kulkarni: As #actuallivingscientist I test particle theories of dark matter against experimental results. I #DressLikeAWoman &amp; lo…'),\n",
       " Status(ID=831370283370020865, ScreenName=NIHAustin, Created=Tue Feb 14 05:11:36 +0000 2017, Text=\"RT @elinamantyla: Hi! I'm Elina and I'm #ActualLivingScientist. I study how birds see and smell trees that have lots of caterpillars, and o…\"),\n",
       " Status(ID=831370253657587712, ScreenName=NIHAustin, Created=Tue Feb 14 05:11:29 +0000 2017, Text=\"RT @AEBraswell: Hi! I'm Anna and I am a  #actuallivingscientist studying coastal wetland formation and persistence.#DressLikeAWoman https:/…\"),\n",
       " Status(ID=831370225937481730, ScreenName=NIHAustin, Created=Tue Feb 14 05:11:22 +0000 2017, Text=\"RT @basalticcraver: Not all scientists work in the field or lab. I'm an #actuallivingscientist teaching tomorrow's scientists what they nee…\"),\n",
       " Status(ID=831370186985000960, ScreenName=NIHAustin, Created=Tue Feb 14 05:11:13 +0000 2017, Text=\"RT @WetlandWiggy: I'm an #actuallivingscientist who studies invasive plants, salt marsh restoration, &amp; conservation. Expert mud walker. I #…\"),\n",
       " Status(ID=831370156588810240, ScreenName=NIHAustin, Created=Tue Feb 14 05:11:06 +0000 2017, Text=\"RT @lbrubaker14: Hi I'm Lauren and I'm an #actuallivingscientist studying animal behavior and welfare. Sometimes I even #DressLikeAWoman ht…\"),\n",
       " Status(ID=831370109595840513, ScreenName=NIHAustin, Created=Tue Feb 14 05:10:54 +0000 2017, Text='RT @SteinhartBart: I am working with lots of #ActualLivingScientist to help give #coralreefs a future https://t.co/mDNJAO38Pp'),\n",
       " Status(ID=831370071310213120, ScreenName=NIHAustin, Created=Tue Feb 14 05:10:45 +0000 2017, Text=\"RT @geologyclare: I'm Clare, an #actuallivingscientist.  I study how quickly the world's highest mountains form and erode away.  I proudly…\"),\n",
       " Status(ID=831370042126303233, ScreenName=NIHAustin, Created=Tue Feb 14 05:10:38 +0000 2017, Text='RT @ArmaghPlanet: Really enjoying the #actuallivingscientist hashtag. Great to see so many scientists worldwide! #science #space #biology #…'),\n",
       " Status(ID=831369987881320448, ScreenName=NIHAustin, Created=Tue Feb 14 05:10:25 +0000 2017, Text=\"RT @brianamordick: Hi, I'm Briana. I'm an #actuallivingscientist working at the intersection of science and policy to protect the environme…\")]"
      ]
     },
     "execution_count": 64,
     "metadata": {},
     "output_type": "execute_result"
    }
   ],
   "source": [
    "results = api.GetSearch(\n",
    "    raw_query=\"q=%23actuallivingscientist%20&result_type=recent&since=2017-02-10&count=100\")\n",
    "results"
   ]
  },
  {
   "cell_type": "code",
   "execution_count": 67,
   "metadata": {
    "collapsed": false
   },
   "outputs": [
    {
     "data": {
      "text/plain": [
       "[Status(ID=831372941896118273, ScreenName=NIHAustin, Created=Tue Feb 14 05:22:10 +0000 2017, Text=\"RT @kaitalexgrab: I'm an #ActualLivingScientist who tests water quality &amp; advocates for environmental protection. I #DressLikeAWoman in my…\"),\n",
       " Status(ID=831226150009597953, ScreenName=ZtT9IdLFDUdcgHZ, Created=Mon Feb 13 19:38:52 +0000 2017, Text=\"RT @HerSTEMPhDLife: Hi! My name is Alexandria and I'm an #actuallivingscientist researching how to improve cancer #Immunotherapy 📚🔬 https:/…\"),\n",
       " Status(ID=831171766890459136, ScreenName=MBCAHouston, Created=Mon Feb 13 16:02:46 +0000 2017, Text='The latest The MBCA Houston Daily! https://t.co/b5IWEKpcd9 Thanks to @ARtvKimatni #actuallivingscientist #was17'),\n",
       " Status(ID=830352352561467392, ScreenName=Butrousfound, Created=Sat Feb 11 09:46:42 +0000 2017, Text=\"RT @OceanExplauren: Hi! I'm an #actuallivingscientist interested in aquatic sensory biology &amp; I spent my week looking at shark nostril hist…\"),\n",
       " Status(ID=830321224614084608, ScreenName=tpsc_info, Created=Sat Feb 11 07:43:01 +0000 2017, Text=\"RT @OceanExplauren: Hi! I'm an #actuallivingscientist interested in aquatic sensory biology &amp; I spent my week looking at shark nostril hist…\"),\n",
       " Status(ID=830299603996127232, ScreenName=EcoMorphLab, Created=Sat Feb 11 06:17:06 +0000 2017, Text=\"RT @OceanExplauren: Hi! I'm an #actuallivingscientist interested in aquatic sensory biology &amp; I spent my week looking at shark nostril hist…\"),\n",
       " Status(ID=830239115400605697, ScreenName=quincy_academy, Created=Sat Feb 11 02:16:44 +0000 2017, Text=\"RT @OceanExplauren: Hi! I'm an #actuallivingscientist interested in aquatic sensory biology &amp; I spent my week looking at shark nostril hist…\"),\n",
       " Status(ID=830230086095929344, ScreenName=STEMdiscoveries, Created=Sat Feb 11 01:40:52 +0000 2017, Text=\"RT @HerSTEMPhDLife: Hi! My name is Alexandria and I'm an #actuallivingscientist researching how to improve cancer #Immunotherapy 📚🔬 https:/…\"),\n",
       " Status(ID=830222927165431808, ScreenName=jacque_summers, Created=Sat Feb 11 01:12:25 +0000 2017, Text=\"RT @OceanExplauren: Hi! I'm an #actuallivingscientist interested in aquatic sensory biology &amp; I spent my week looking at shark nostril hist…\"),\n",
       " Status(ID=830222852301283329, ScreenName=InsectophileJim, Created=Sat Feb 11 01:12:07 +0000 2017, Text=\"RT @OceanExplauren: Hi! I'm an #actuallivingscientist interested in aquatic sensory biology &amp; I spent my week looking at shark nostril hist…\"),\n",
       " Status(ID=830221799342223361, ScreenName=InsectophileJim, Created=Sat Feb 11 01:07:56 +0000 2017, Text='RT @RickLambeth: Brother of more than one #actuallivingfarmer... I had/got to be an #actuallivingscientist instead.  Just glad there is sti…'),\n",
       " Status(ID=830189543743582208, ScreenName=Chapman_Histo, Created=Fri Feb 10 22:59:46 +0000 2017, Text=\"RT @OceanExplauren: Hi! I'm an #actuallivingscientist interested in aquatic sensory biology &amp; I spent my week looking at shark nostril hist…\"),\n",
       " Status(ID=830172944928223232, ScreenName=RickLambeth, Created=Fri Feb 10 21:53:48 +0000 2017, Text='Brother of more than one #actuallivingfarmer... I had/got to be an #actuallivingscientist instead.  Just glad there… https://t.co/914l59Uai1'),\n",
       " Status(ID=830156552480907264, ScreenName=Sexandfoodand, Created=Fri Feb 10 20:48:40 +0000 2017, Text=\"RT @OceanExplauren: Hi! I'm an #actuallivingscientist interested in aquatic sensory biology &amp; I spent my week looking at shark nostril hist…\"),\n",
       " Status(ID=830155104418295808, ScreenName=DrCrampini, Created=Fri Feb 10 20:42:55 +0000 2017, Text=\"RT @OceanExplauren: Hi! I'm an #actuallivingscientist interested in aquatic sensory biology &amp; I spent my week looking at shark nostril hist…\"),\n",
       " Status(ID=830151133578534912, ScreenName=HanoverM, Created=Fri Feb 10 20:27:08 +0000 2017, Text=\"RT @OceanExplauren: Hi! I'm an #actuallivingscientist interested in aquatic sensory biology &amp; I spent my week looking at shark nostril hist…\"),\n",
       " Status(ID=830150383012081664, ScreenName=OceanExplauren, Created=Fri Feb 10 20:24:09 +0000 2017, Text=\"Hi! I'm an #actuallivingscientist interested in aquatic sensory biology &amp; I spent my week looking at shark nostril… https://t.co/Qa4iBx1TOk\"),\n",
       " Status(ID=830068240059600901, ScreenName=karashosho01, Created=Fri Feb 10 14:57:45 +0000 2017, Text='#actuallivingscientist https://t.co/5Rcgaq43dE')]"
      ]
     },
     "execution_count": 67,
     "metadata": {},
     "output_type": "execute_result"
    }
   ],
   "source": [
    "results_withGeo = api.GetSearch(\n",
    "    raw_query=\"q=%23actuallivingscientist&geocode=29.7604,-95.3698,100km&result_type=recent&since=2017-02-10&count=100\")\n",
    "results_withGeo"
   ]
  },
  {
   "cell_type": "code",
   "execution_count": 69,
   "metadata": {
    "collapsed": false
   },
   "outputs": [
    {
     "data": {
      "text/plain": [
       "[Status(ID=831226150009597953, ScreenName=ZtT9IdLFDUdcgHZ, Created=Mon Feb 13 19:38:52 +0000 2017, Text=\"RT @HerSTEMPhDLife: Hi! My name is Alexandria and I'm an #actuallivingscientist researching how to improve cancer #Immunotherapy 📚🔬 https:/…\"),\n",
       " Status(ID=831171766890459136, ScreenName=MBCAHouston, Created=Mon Feb 13 16:02:46 +0000 2017, Text='The latest The MBCA Houston Daily! https://t.co/b5IWEKpcd9 Thanks to @ARtvKimatni #actuallivingscientist #was17'),\n",
       " Status(ID=830230086095929344, ScreenName=STEMdiscoveries, Created=Sat Feb 11 01:40:52 +0000 2017, Text=\"RT @HerSTEMPhDLife: Hi! My name is Alexandria and I'm an #actuallivingscientist researching how to improve cancer #Immunotherapy 📚🔬 https:/…\"),\n",
       " Status(ID=830221799342223361, ScreenName=InsectophileJim, Created=Sat Feb 11 01:07:56 +0000 2017, Text='RT @RickLambeth: Brother of more than one #actuallivingfarmer... I had/got to be an #actuallivingscientist instead.  Just glad there is sti…'),\n",
       " Status(ID=830172944928223232, ScreenName=RickLambeth, Created=Fri Feb 10 21:53:48 +0000 2017, Text='Brother of more than one #actuallivingfarmer... I had/got to be an #actuallivingscientist instead.  Just glad there… https://t.co/914l59Uai1'),\n",
       " Status(ID=830068240059600901, ScreenName=karashosho01, Created=Fri Feb 10 14:57:45 +0000 2017, Text='#actuallivingscientist https://t.co/5Rcgaq43dE')]"
      ]
     },
     "execution_count": 69,
     "metadata": {},
     "output_type": "execute_result"
    }
   ],
   "source": [
    "results_withGeo = api.GetSearch(\n",
    "    raw_query=\"q=%23actuallivingscientist&geocode=29.7604,-95.3698,10km&result_type=recent&since=2017-02-10&count=1000\")\n",
    "results_withGeo"
   ]
  },
  {
   "cell_type": "code",
   "execution_count": 72,
   "metadata": {
    "collapsed": false
   },
   "outputs": [
    {
     "data": {
      "text/plain": [
       "[]"
      ]
     },
     "execution_count": 72,
     "metadata": {},
     "output_type": "execute_result"
    }
   ],
   "source": [
    "# centerpoint of zip code 77079 = 29.776318, -95.604971\n",
    "results_withGeo77079 = api.GetSearch(\n",
    "    raw_query=\"q=%23actuallivingscientist&geocode=29.776318,-95.604971,10km&result_type=recent&since=2017-02-01&count=1000\")\n",
    "results_withGeo77079\n"
   ]
  },
  {
   "cell_type": "code",
   "execution_count": 74,
   "metadata": {
    "collapsed": false
   },
   "outputs": [
    {
     "data": {
      "text/plain": [
       "[Status(ID=831226150009597953, ScreenName=ZtT9IdLFDUdcgHZ, Created=Mon Feb 13 19:38:52 +0000 2017, Text=\"RT @HerSTEMPhDLife: Hi! My name is Alexandria and I'm an #actuallivingscientist researching how to improve cancer #Immunotherapy 📚🔬 https:/…\"),\n",
       " Status(ID=831171766890459136, ScreenName=MBCAHouston, Created=Mon Feb 13 16:02:46 +0000 2017, Text='The latest The MBCA Houston Daily! https://t.co/b5IWEKpcd9 Thanks to @ARtvKimatni #actuallivingscientist #was17'),\n",
       " Status(ID=830230086095929344, ScreenName=STEMdiscoveries, Created=Sat Feb 11 01:40:52 +0000 2017, Text=\"RT @HerSTEMPhDLife: Hi! My name is Alexandria and I'm an #actuallivingscientist researching how to improve cancer #Immunotherapy 📚🔬 https:/…\"),\n",
       " Status(ID=830221799342223361, ScreenName=InsectophileJim, Created=Sat Feb 11 01:07:56 +0000 2017, Text='RT @RickLambeth: Brother of more than one #actuallivingfarmer... I had/got to be an #actuallivingscientist instead.  Just glad there is sti…'),\n",
       " Status(ID=830172944928223232, ScreenName=RickLambeth, Created=Fri Feb 10 21:53:48 +0000 2017, Text='Brother of more than one #actuallivingfarmer... I had/got to be an #actuallivingscientist instead.  Just glad there… https://t.co/914l59Uai1'),\n",
       " Status(ID=830068240059600901, ScreenName=karashosho01, Created=Fri Feb 10 14:57:45 +0000 2017, Text='#actuallivingscientist https://t.co/5Rcgaq43dE'),\n",
       " Status(ID=829349170150592512, ScreenName=TDGiardina, Created=Wed Feb 08 15:20:25 +0000 2017, Text=\"I'm an #ActualSocialScientist in patient safety - exploring patients' experiences of diagnostic errors. #actuallivingscientist\"),\n",
       " Status(ID=829349135509811201, ScreenName=CarlaLouisa, Created=Wed Feb 08 15:20:17 +0000 2017, Text=\"RT @DeltagrlNC: Hi I'm Angela and I'm a Microbiologist that test IV drugs for sterility. #actuallivingscientist #DressLikeAWoman https://t.…\"),\n",
       " Status(ID=829323228514488321, ScreenName=ventures_jms, Created=Wed Feb 08 13:37:20 +0000 2017, Text=\"RT @HerSTEMPhDLife: Hi! My name is Alexandria and I'm an #actuallivingscientist researching how to improve cancer #Immunotherapy 📚🔬 https:/…\"),\n",
       " Status(ID=829104435783729153, ScreenName=InsectophileJim, Created=Tue Feb 07 23:07:56 +0000 2017, Text=\"RT @KathAGar: Hi, I'm Kathleen. I'm an #actuallivingscientist who studies ways that coastal communities can adapt to rising sea level and c…\"),\n",
       " Status(ID=829026630874042371, ScreenName=KathAGar, Created=Tue Feb 07 17:58:46 +0000 2017, Text=\"Hi, I'm Kathleen. I'm an #actuallivingscientist who studies ways that coastal communities can adapt to rising sea l… https://t.co/WR9iN71xdi\"),\n",
       " Status(ID=829013505441484801, ScreenName=CarlaLouisa, Created=Tue Feb 07 17:06:36 +0000 2017, Text=\"RT @drkristymurray: I'm an #ActualLivingScientist who studies infectious pathogens. I like to #DressLikeAWoman https://t.co/BOGK1Tpapa\"),\n",
       " Status(ID=829005449123024896, ScreenName=Aiims1742, Created=Tue Feb 07 16:34:35 +0000 2017, Text='I would recommend everyone follow @ScientistTrump \\n#ActualLivingScientist https://t.co/J0nkOm6U2r'),\n",
       " Status(ID=828827425740046336, ScreenName=MichaelAlliman, Created=Tue Feb 07 04:47:11 +0000 2017, Text='The fact that most of the respondents in this thread are women restores a shred of hope in me.  #actuallivingscientist'),\n",
       " Status(ID=828778685507395584, ScreenName=gradrn2, Created=Tue Feb 07 01:33:31 +0000 2017, Text=\"RT @HerSTEMPhDLife: Hi! My name is Alexandria and I'm an #actuallivingscientist researching how to improve cancer #Immunotherapy 📚🔬 https:/…\"),\n",
       " Status(ID=828777792561172482, ScreenName=NoBrainsTRUMP, Created=Tue Feb 07 01:29:58 +0000 2017, Text=\"RT @HerSTEMPhDLife: Hi! My name is Alexandria and I'm an #actuallivingscientist researching how to improve cancer #Immunotherapy 📚🔬 https:/…\"),\n",
       " Status(ID=828700281055481857, ScreenName=momneph, Created=Mon Feb 06 20:21:58 +0000 2017, Text=\"RT @drkristymurray: I'm an #ActualLivingScientist who studies infectious pathogens. I like to #DressLikeAWoman https://t.co/BOGK1Tpapa\"),\n",
       " Status(ID=828629679959658497, ScreenName=joan_mediator, Created=Mon Feb 06 15:41:25 +0000 2017, Text=\"RT @drkristymurray: I'm an #ActualLivingScientist who studies infectious pathogens. I like to #DressLikeAWoman https://t.co/BOGK1Tpapa\"),\n",
       " Status(ID=828628126452301824, ScreenName=DavidFisman, Created=Mon Feb 06 15:35:15 +0000 2017, Text=\"RT @drkristymurray: I'm an #ActualLivingScientist who studies infectious pathogens. I like to #DressLikeAWoman https://t.co/BOGK1Tpapa\"),\n",
       " Status(ID=828627918083481600, ScreenName=DiagnosticChick, Created=Mon Feb 06 15:34:25 +0000 2017, Text=\"RT @drkristymurray: I'm an #ActualLivingScientist who studies infectious pathogens. I like to #DressLikeAWoman https://t.co/BOGK1Tpapa\"),\n",
       " Status(ID=828385188677816320, ScreenName=BCM_TropMed, Created=Sun Feb 05 23:29:54 +0000 2017, Text=\"RT @drkristymurray: I'm an #ActualLivingScientist who studies infectious pathogens. I like to #DressLikeAWoman https://t.co/BOGK1Tpapa\"),\n",
       " Status(ID=828373352205185025, ScreenName=QutubLab, Created=Sun Feb 05 22:42:52 +0000 2017, Text='Congrats to @arun_mahadevan who won an IBB travel award to present his studies on developing neurons!… https://t.co/0nn37tr9Nh'),\n",
       " Status(ID=828368849527566336, ScreenName=dmfitz424, Created=Sun Feb 05 22:24:58 +0000 2017, Text=\"I'm an #actuallivingscientist and I always #DressLikeAWoman! #MadScientist #ScienceMarch #ScienceMarchHOU https://t.co/1ifM5XbIQB\"),\n",
       " Status(ID=828316302238420992, ScreenName=EaberingEdgar, Created=Sun Feb 05 18:56:10 +0000 2017, Text=\"Retweeted Erin Ryan (@erinleeryan):\\n\\nI'm Erin an #actuallivingscientist who studies asteroids &amp; comets to learn... https://t.co/wYXofQf0BC\"),\n",
       " Status(ID=828291060279439360, ScreenName=Ian_Campbell64, Created=Sun Feb 05 17:15:52 +0000 2017, Text='so happy to see #actuallivingscientist trending'),\n",
       " Status(ID=828288384082788352, ScreenName=drkristinediaz, Created=Sun Feb 05 17:05:14 +0000 2017, Text='RT @anniebradford: Really enjoying the #ActualLivingScientist tweets! Keep them coming! Where are the behavioral scientists, btw?'),\n",
       " Status(ID=828262291351154688, ScreenName=KBYip, Created=Sun Feb 05 15:21:33 +0000 2017, Text='follow @500womensci! maybe you #DressLikeAWoman &amp; you are an #actuallivingscientist ... or a supporter of theirs. https://t.co/Jh7ToNM8qK'),\n",
       " Status(ID=828239504616079360, ScreenName=EaberingEdgar, Created=Sun Feb 05 13:51:00 +0000 2017, Text='Retweeted Christian Möstl (@chrisoutofspace):\\n\\nI am an #actuallivingscientist working on saving the world from an... https://t.co/wEQ7sgck60'),\n",
       " Status(ID=828237262685163520, ScreenName=EaberingEdgar, Created=Sun Feb 05 13:42:05 +0000 2017, Text='Retweeted Katie Mack (@AstroKatie):\\n\\nAs an #actuallivingscientist who does theoretical work, my workday looks a... https://t.co/cVDlDxLgWy'),\n",
       " Status(ID=828196342572924928, ScreenName=RegistrarTrekDE, Created=Sun Feb 05 10:59:29 +0000 2017, Text=\"RT @rachel_fairbank: Read this thread. You'll thank me later. #DressLikeAWoman #actuallivingscientist https://t.co/oXz4xDmwwy\"),\n",
       " Status(ID=828195509022121984, ScreenName=RegistrarTrek, Created=Sun Feb 05 10:56:11 +0000 2017, Text=\"RT @rachel_fairbank: Read this thread. You'll thank me later. #DressLikeAWoman #actuallivingscientist https://t.co/oXz4xDmwwy\"),\n",
       " Status(ID=828194495934119936, ScreenName=pixel8dplatypus, Created=Sun Feb 05 10:52:09 +0000 2017, Text=\"#actuallivingscientist is my fave hashtag. (I'm not a scientist but) Keep going! I googled tons. I discovered so much in the last hour. ❤🔬ty\"),\n",
       " Status(ID=828193672462233601, ScreenName=NadWGab, Created=Sun Feb 05 10:48:53 +0000 2017, Text=\"RT @rachel_fairbank: Read this thread. You'll thank me later. #DressLikeAWoman #actuallivingscientist https://t.co/oXz4xDmwwy\"),\n",
       " Status(ID=828147276715536384, ScreenName=maryhalton, Created=Sun Feb 05 07:44:31 +0000 2017, Text=\"RT @rachel_fairbank: Read this thread. You'll thank me later. #DressLikeAWoman #actuallivingscientist https://t.co/oXz4xDmwwy\"),\n",
       " Status(ID=828136726648479744, ScreenName=tcsmythe, Created=Sun Feb 05 07:02:36 +0000 2017, Text='Before music I was an #actuallivingscientist at the #EPA reg. 6 GC/MS lab studying the impact of PCBs/pest/herbicides in ground water.'),\n",
       " Status(ID=828119501413679104, ScreenName=EveEmshwiller, Created=Sun Feb 05 05:54:09 +0000 2017, Text=\"RT @KyleHartPhD: Hi, I'm Kyle, an #actuallivingscientist. I use materials science to improve the effectiveness and sustainability of food p…\"),\n",
       " Status(ID=828116367941459968, ScreenName=BoogKnight2002, Created=Sun Feb 05 05:41:42 +0000 2017, Text='RT @anniebradford: Really enjoying the #ActualLivingScientist tweets! Keep them coming! Where are the behavioral scientists, btw?'),\n",
       " Status(ID=828112268818784256, ScreenName=anniebradford, Created=Sun Feb 05 05:25:25 +0000 2017, Text='Really enjoying the #ActualLivingScientist tweets! Keep them coming! Where are the behavioral scientists, btw?'),\n",
       " Status(ID=828111753317851136, ScreenName=EveEmshwiller, Created=Sun Feb 05 05:23:22 +0000 2017, Text=\"RT @DeltagrlNC: Hi I'm Angela and I'm a Microbiologist that test IV drugs for sterility. #actuallivingscientist #DressLikeAWoman https://t.…\"),\n",
       " Status(ID=828095819718946816, ScreenName=EaberingEdgar, Created=Sun Feb 05 04:20:03 +0000 2017, Text='Retweeted Katie Mack (@AstroKatie):\\n\\nI am an #actuallivingscientist studying dark matter &amp; black holes &amp; the... https://t.co/b8MUYSNLfC'),\n",
       " Status(ID=828089398142984192, ScreenName=EaberingEdgar, Created=Sun Feb 05 03:54:32 +0000 2017, Text=\"Retweeted Alexa🌏  🛰️ (@PlasmaNerd):\\n\\nHi, I'm an #actuallivingscientist &amp; I study how storms on the sun affect us... https://t.co/vAQIqN4xzy\"),\n",
       " Status(ID=828077711532765185, ScreenName=JChrisPires, Created=Sun Feb 05 03:08:06 +0000 2017, Text='RT @mattlanza: I am an #actuallivingscientist who applies the use of gifs to explain weather forecasting challenges (and weather weenie emo…'),\n",
       " Status(ID=828077313782865921, ScreenName=EC_Kosters, Created=Sun Feb 05 03:06:31 +0000 2017, Text=\"RT @drkristymurray: I'm an #ActualLivingScientist who studies infectious pathogens. I like to #DressLikeAWoman https://t.co/BOGK1Tpapa\"),\n",
       " Status(ID=828076321267970050, ScreenName=ShipLives, Created=Sun Feb 05 03:02:34 +0000 2017, Text=\"RT @rachel_fairbank: Read this thread. You'll thank me later. #DressLikeAWoman #actuallivingscientist https://t.co/oXz4xDmwwy\"),\n",
       " Status(ID=828075337997234176, ScreenName=abbiergl, Created=Sun Feb 05 02:58:40 +0000 2017, Text=\"RT @rachel_fairbank: Read this thread. You'll thank me later. #DressLikeAWoman #actuallivingscientist https://t.co/oXz4xDmwwy\"),\n",
       " Status(ID=828073782355062785, ScreenName=mattlanza, Created=Sun Feb 05 02:52:29 +0000 2017, Text='I am an #actuallivingscientist who applies the use of gifs to explain weather forecasting challenges (and weather w… https://t.co/t85f2IN2p1'),\n",
       " Status(ID=828062738438053888, ScreenName=shenge86, Created=Sun Feb 05 02:08:36 +0000 2017, Text='SETIInstitute: RT LoriKFenton: I am an #actuallivingscientist who studies how the wind shapes the surface on #Mars… https://t.co/kdyRESDfAB'),\n",
       " Status(ID=828049751107108864, ScreenName=EOWalong, Created=Sun Feb 05 01:16:59 +0000 2017, Text=\"RT @rachel_fairbank: Read this thread. You'll thank me later. #DressLikeAWoman #actuallivingscientist https://t.co/oXz4xDmwwy\"),\n",
       " Status(ID=828043318680551424, ScreenName=drjuliegraves, Created=Sun Feb 05 00:51:26 +0000 2017, Text=\"RT @drkristymurray: I'm an #ActualLivingScientist who studies infectious pathogens. I like to #DressLikeAWoman https://t.co/BOGK1Tpapa\"),\n",
       " Status(ID=828037670265688065, ScreenName=kimsrogers, Created=Sun Feb 05 00:28:59 +0000 2017, Text=\"RT @rachel_fairbank: Read this thread. You'll thank me later. #DressLikeAWoman #actuallivingscientist https://t.co/oXz4xDmwwy\"),\n",
       " Status(ID=828035649718530048, ScreenName=AlynnMeyer, Created=Sun Feb 05 00:20:57 +0000 2017, Text=\"RT @DeltagrlNC: Hi I'm Angela and I'm a Microbiologist that test IV drugs for sterility. #actuallivingscientist #DressLikeAWoman https://t.…\"),\n",
       " Status(ID=828025807150972928, ScreenName=brandius, Created=Sat Feb 04 23:41:51 +0000 2017, Text=\"RT @katiemacthinks: I'm an #actuallivingscientist. I spent 8 yrs doing research. Now, I help physicians and scientists communicate their re…\"),\n",
       " Status(ID=828025524253556736, ScreenName=meagandufrisne, Created=Sat Feb 04 23:40:43 +0000 2017, Text=\"RT @MichelleSneck: Hi, I'm Michelle and I study plant-microbe interactions #actuallivingscientist\\n#DressLikeAWoman https://t.co/gGG6x34FLo\"),\n",
       " Status(ID=828024768276336640, ScreenName=katiemacthinks, Created=Sat Feb 04 23:37:43 +0000 2017, Text=\"I'm an #actuallivingscientist. I spent 8 yrs doing research. Now, I help physicians and scientists communicate their research to the public\"),\n",
       " Status(ID=828011750712811520, ScreenName=utorgersen, Created=Sat Feb 04 22:45:59 +0000 2017, Text=\"RT @drkristymurray: I'm an #ActualLivingScientist who studies infectious pathogens. I like to #DressLikeAWoman https://t.co/BOGK1Tpapa\"),\n",
       " Status(ID=828011061555187716, ScreenName=AbigailStrom, Created=Sat Feb 04 22:43:15 +0000 2017, Text=\"RT @HerSTEMPhDLife: Hi! My name is Alexandria and I'm an #actuallivingscientist researching how to improve cancer #Immunotherapy 📚🔬 https:/…\"),\n",
       " Status(ID=828003557148327936, ScreenName=debay11, Created=Sat Feb 04 22:13:26 +0000 2017, Text=\"RT @DeltagrlNC: Hi I'm Angela and I'm a Microbiologist that test IV drugs for sterility. #actuallivingscientist #DressLikeAWoman https://t.…\"),\n",
       " Status(ID=828002087879389185, ScreenName=ldereske, Created=Sat Feb 04 22:07:35 +0000 2017, Text=\"RT @MichelleSneck: Hi, I'm Michelle and I study plant-microbe interactions #actuallivingscientist\\n#DressLikeAWoman https://t.co/gGG6x34FLo\"),\n",
       " Status(ID=828002008695193600, ScreenName=rosalinewrites, Created=Sat Feb 04 22:07:17 +0000 2017, Text=\"RT @drkristymurray: I'm an #ActualLivingScientist who studies infectious pathogens. I like to #DressLikeAWoman https://t.co/BOGK1Tpapa\"),\n",
       " Status(ID=827999643015507969, ScreenName=civilityoracle, Created=Sat Feb 04 21:57:53 +0000 2017, Text=\"@ScienceMarchHou #ActualLivingScientist when science comes alive it's exciting!  WOW! https://t.co/XbjQ3lQi14\"),\n",
       " Status(ID=827999301448065024, ScreenName=dgoosehonk, Created=Sat Feb 04 21:56:31 +0000 2017, Text=\"RT @drkristymurray: I'm an #ActualLivingScientist who studies infectious pathogens. I like to #DressLikeAWoman https://t.co/BOGK1Tpapa\"),\n",
       " Status(ID=827994906648072192, ScreenName=mikeleach42, Created=Sat Feb 04 21:39:03 +0000 2017, Text=\"RT @drkristymurray: I'm an #ActualLivingScientist who studies infectious pathogens. I like to #DressLikeAWoman https://t.co/BOGK1Tpapa\"),\n",
       " Status(ID=827994706856517633, ScreenName=StealingUrWifi, Created=Sat Feb 04 21:38:16 +0000 2017, Text=\"RT @DeltagrlNC: Hi I'm Angela and I'm a Microbiologist that test IV drugs for sterility. #actuallivingscientist #DressLikeAWoman https://t.…\"),\n",
       " Status(ID=827994093401825281, ScreenName=RodneyRohde, Created=Sat Feb 04 21:35:49 +0000 2017, Text=\"RT @drkristymurray: I'm an #ActualLivingScientist who studies infectious pathogens. I like to #DressLikeAWoman https://t.co/BOGK1Tpapa\"),\n",
       " Status(ID=827993510687174656, ScreenName=lamudanzahappy, Created=Sat Feb 04 21:33:30 +0000 2017, Text=\"RT @drkristymurray: I'm an #ActualLivingScientist who studies infectious pathogens. I like to #DressLikeAWoman https://t.co/BOGK1Tpapa\"),\n",
       " Status(ID=827991684122304512, ScreenName=BrianLollar96, Created=Sat Feb 04 21:26:15 +0000 2017, Text=\"RT @DeltagrlNC: Hi I'm Angela and I'm a Microbiologist that test IV drugs for sterility. #actuallivingscientist #DressLikeAWoman https://t.…\"),\n",
       " Status(ID=827991185528672256, ScreenName=amyedunham, Created=Sat Feb 04 21:24:16 +0000 2017, Text=\"RT @bochocki: Hi, I'm Brad and I study how invasive species spread. I also, like, watch Netflix and stuff! #actuallivingscientist https://t…\"),\n",
       " Status(ID=827990770384769024, ScreenName=amyedunham, Created=Sat Feb 04 21:22:37 +0000 2017, Text=\"RT @MichelleSneck: Hi, I'm Michelle and I study plant-microbe interactions #actuallivingscientist\\n#DressLikeAWoman https://t.co/gGG6x34FLo\"),\n",
       " Status(ID=827990178203447296, ScreenName=futbolfem, Created=Sat Feb 04 21:20:16 +0000 2017, Text=\"RT @DeltagrlNC: Hi I'm Angela and I'm a Microbiologist that test IV drugs for sterility. #actuallivingscientist #DressLikeAWoman https://t.…\"),\n",
       " Status(ID=827989679291109382, ScreenName=hmaclaent, Created=Sat Feb 04 21:18:17 +0000 2017, Text=\"RT @DeltagrlNC: Hi I'm Angela and I'm a Microbiologist that test IV drugs for sterility. #actuallivingscientist #DressLikeAWoman https://t.…\"),\n",
       " Status(ID=827988943006220288, ScreenName=sabine065, Created=Sat Feb 04 21:15:21 +0000 2017, Text=\"RT @DeltagrlNC: Hi I'm Angela and I'm a Microbiologist that test IV drugs for sterility. #actuallivingscientist #DressLikeAWoman https://t.…\"),\n",
       " Status(ID=827985867788656642, ScreenName=wendyca61637330, Created=Sat Feb 04 21:03:08 +0000 2017, Text=\"RT @drkristymurray: I'm an #ActualLivingScientist who studies infectious pathogens. I like to #DressLikeAWoman https://t.co/BOGK1Tpapa\"),\n",
       " Status(ID=827985800524558336, ScreenName=juliana_swenson, Created=Sat Feb 04 21:02:52 +0000 2017, Text=\"RT @DeltagrlNC: Hi I'm Angela and I'm a Microbiologist that test IV drugs for sterility. #actuallivingscientist #DressLikeAWoman https://t.…\"),\n",
       " Status(ID=827984914435997696, ScreenName=sebalonso, Created=Sat Feb 04 20:59:21 +0000 2017, Text=\"RT @drkristymurray: I'm an #ActualLivingScientist who studies infectious pathogens. I like to #DressLikeAWoman https://t.co/BOGK1Tpapa\"),\n",
       " Status(ID=827983806313426945, ScreenName=R_X_Queen, Created=Sat Feb 04 20:54:57 +0000 2017, Text=\"RT @DeltagrlNC: Hi I'm Angela and I'm a Microbiologist that test IV drugs for sterility. #actuallivingscientist #DressLikeAWoman https://t.…\"),\n",
       " Status(ID=827983668983582720, ScreenName=comotedigounaco, Created=Sat Feb 04 20:54:24 +0000 2017, Text=\"RT @drkristymurray: I'm an #ActualLivingScientist who studies infectious pathogens. I like to #DressLikeAWoman https://t.co/BOGK1Tpapa\"),\n",
       " Status(ID=827983288614666240, ScreenName=mizpalumbo, Created=Sat Feb 04 20:52:53 +0000 2017, Text=\"RT @DeltagrlNC: Hi I'm Angela and I'm a Microbiologist that test IV drugs for sterility. #actuallivingscientist #DressLikeAWoman https://t.…\"),\n",
       " Status(ID=827983215751286785, ScreenName=Sallyjoagain, Created=Sat Feb 04 20:52:36 +0000 2017, Text=\"RT @drkristymurray: I'm an #ActualLivingScientist who studies infectious pathogens. I like to #DressLikeAWoman https://t.co/BOGK1Tpapa\"),\n",
       " Status(ID=827983152312438786, ScreenName=KYT_ThatsME, Created=Sat Feb 04 20:52:21 +0000 2017, Text=\"RT @DeltagrlNC: Hi I'm Angela and I'm a Microbiologist that test IV drugs for sterility. #actuallivingscientist #DressLikeAWoman https://t.…\"),\n",
       " Status(ID=827983138840256516, ScreenName=darthmom7, Created=Sat Feb 04 20:52:18 +0000 2017, Text=\"RT @DeltagrlNC: Hi I'm Angela and I'm a Microbiologist that test IV drugs for sterility. #actuallivingscientist #DressLikeAWoman https://t.…\"),\n",
       " Status(ID=827982988931641344, ScreenName=nrcwetenschap, Created=Sat Feb 04 20:51:42 +0000 2017, Text=\"RT @drkristymurray: I'm an #ActualLivingScientist who studies infectious pathogens. I like to #DressLikeAWoman https://t.co/BOGK1Tpapa\"),\n",
       " Status(ID=827982839492837376, ScreenName=drkristymurray, Created=Sat Feb 04 20:51:06 +0000 2017, Text=\"I'm an #ActualLivingScientist who studies infectious pathogens. I like to #DressLikeAWoman https://t.co/BOGK1Tpapa\"),\n",
       " Status(ID=827982646173011968, ScreenName=WomenSciAUST, Created=Sat Feb 04 20:50:20 +0000 2017, Text=\"RT @DeltagrlNC: Hi I'm Angela and I'm a Microbiologist that test IV drugs for sterility. #actuallivingscientist #DressLikeAWoman https://t.…\"),\n",
       " Status(ID=827981399403659264, ScreenName=DeltagrlNC, Created=Sat Feb 04 20:45:23 +0000 2017, Text=\"Hi I'm Angela and I'm a Microbiologist that test IV drugs for sterility. #actuallivingscientist #DressLikeAWoman https://t.co/5W3MkLAXJN\"),\n",
       " Status(ID=827980719678963712, ScreenName=TheJenniferHo, Created=Sat Feb 04 20:42:41 +0000 2017, Text=\"RT @rachel_fairbank: Read this thread. You'll thank me later. #DressLikeAWoman #actuallivingscientist https://t.co/oXz4xDmwwy\"),\n",
       " Status(ID=827979422007300097, ScreenName=SpaceAnthro, Created=Sat Feb 04 20:37:31 +0000 2017, Text=\"RT @astroedtx: I'm an #actuallivingscientist helping next generations discover the beauty of space exploration! https://t.co/1EkNQbHLfd\"),\n",
       " Status(ID=827975758345883648, ScreenName=SarahmSlattery, Created=Sat Feb 04 20:22:58 +0000 2017, Text=\"RT @rachel_fairbank: Read this thread. You'll thank me later. #DressLikeAWoman #actuallivingscientist https://t.co/oXz4xDmwwy\"),\n",
       " Status(ID=827973687999557633, ScreenName=mcmsharksxx, Created=Sat Feb 04 20:14:44 +0000 2017, Text=\"RT @rachel_fairbank: Read this thread. You'll thank me later. #DressLikeAWoman #actuallivingscientist https://t.co/oXz4xDmwwy\"),\n",
       " Status(ID=827971665304944640, ScreenName=KathyMarketeer, Created=Sat Feb 04 20:06:42 +0000 2017, Text=\"RT @rachel_fairbank: Read this thread. You'll thank me later. #DressLikeAWoman #actuallivingscientist https://t.co/oXz4xDmwwy\"),\n",
       " Status(ID=827970985609490432, ScreenName=EmilyCoren, Created=Sat Feb 04 20:04:00 +0000 2017, Text=\"RT @rachel_fairbank: Read this thread. You'll thank me later. #DressLikeAWoman #actuallivingscientist https://t.co/oXz4xDmwwy\"),\n",
       " Status(ID=827970817023700992, ScreenName=virome_girl, Created=Sat Feb 04 20:03:20 +0000 2017, Text=\"RT @MichelleSneck: Hi, I'm Michelle and I study plant-microbe interactions #actuallivingscientist\\n#DressLikeAWoman https://t.co/gGG6x34FLo\"),\n",
       " Status(ID=827969493485887488, ScreenName=MichelleSneck, Created=Sat Feb 04 19:58:04 +0000 2017, Text=\"Hi, I'm Michelle and I study plant-microbe interactions #actuallivingscientist\\n#DressLikeAWoman https://t.co/gGG6x34FLo\"),\n",
       " Status(ID=827968917100392448, ScreenName=drjudymelinek, Created=Sat Feb 04 19:55:47 +0000 2017, Text=\"RT @rachel_fairbank: Read this thread. You'll thank me later. #DressLikeAWoman #actuallivingscientist https://t.co/oXz4xDmwwy\"),\n",
       " Status(ID=827967956596428801, ScreenName=antijenic, Created=Sat Feb 04 19:51:58 +0000 2017, Text=\"RT @rachel_fairbank: Read this thread. You'll thank me later. #DressLikeAWoman #actuallivingscientist https://t.co/oXz4xDmwwy\"),\n",
       " Status(ID=827967178762706944, ScreenName=NerdyChristie, Created=Sat Feb 04 19:48:52 +0000 2017, Text=\"RT @rachel_fairbank: Read this thread. You'll thank me later. #DressLikeAWoman #actuallivingscientist https://t.co/oXz4xDmwwy\"),\n",
       " Status(ID=827967145556447232, ScreenName=marielmohns, Created=Sat Feb 04 19:48:45 +0000 2017, Text=\"RT @rachel_fairbank: Read this thread. You'll thank me later. #DressLikeAWoman #actuallivingscientist https://t.co/oXz4xDmwwy\"),\n",
       " Status(ID=827966495565213696, ScreenName=Jennekepenneke, Created=Sat Feb 04 19:46:10 +0000 2017, Text=\"RT @rachel_fairbank: Read this thread. You'll thank me later. #DressLikeAWoman #actuallivingscientist https://t.co/oXz4xDmwwy\"),\n",
       " Status(ID=827965481441230848, ScreenName=rachel_fairbank, Created=Sat Feb 04 19:42:08 +0000 2017, Text=\"Read this thread. You'll thank me later. #DressLikeAWoman #actuallivingscientist https://t.co/oXz4xDmwwy\"),\n",
       " Status(ID=827938043868876803, ScreenName=astroedtx, Created=Sat Feb 04 17:53:06 +0000 2017, Text=\"I'm an #actuallivingscientist helping next generations discover the beauty of space exploration! https://t.co/1EkNQbHLfd\")]"
      ]
     },
     "execution_count": 74,
     "metadata": {},
     "output_type": "execute_result"
    }
   ],
   "source": [
    "# position on Rice University Dept. of Earth Science 29.719420, -95.401901\n",
    "results_withGeoRice = api.GetSearch(\n",
    "    raw_query=\"q=%23actuallivingscientist&geocode=29.719420,-95.401901,10km&result_type=recent&since=2017-02-01&count=1000\")\n",
    "results_withGeoRice"
   ]
  },
  {
   "cell_type": "code",
   "execution_count": 79,
   "metadata": {
    "collapsed": false
   },
   "outputs": [],
   "source": [
    "# list of Houston zip codes from : https://www.maxleaman.com/mortgage-resources/texas-zip-code-maps/houston-zip-code-map\n",
    "HoustonZipCodes = [77001, 77002, 77003, 77004, 77005, 77006, 77007, 77008, 77009, 77010, 77011, 77012, 77013, 77014, 77015, 77016, 77017, 77018, 77019, 77020, 77021, 77022, 77023, 77024, 77025, 77026, 77027, 77028, 77029, 77030, 77031, 77032, 77033, 77034, 77035, 77036, 77037, 77038, 77039, 77040, 77041, 77042, 77043, 77044, 77045, 77046, 77047, 77048, 77049, 77050, 77051, 77052, 77053, 77054, 77055, 77056, 77057, 77058, 77059, 77060, 77061, 77062, 77063, 77064, 77065, 77066, 77067, 77068, 77069, 77070, 77071, 77072, 77073, 77074, 77075, 77076, 77077, 77078, 77079, 77080, 77081, 77082, 77083, 77084, 77085, 77086, 77087, 77088, 77089, 77090, 77091, 77092, 77093, 77094, 77095, 77096, 77097, 77098, 77099, 77201, 77202, 77203, 77204, 77205, 77206, 77207, 77208, 77209, 77210, 77212, 77213, 77215, 77216, 77217, 77218, 77219, 77220, 77221, 77222, 77223, 77224, 77225, 77226, 77227, 77228, 77229, 77230, 77231, 77233, 77234, 77235, 77236, 77237, 77238, 77240, 77241, 77242, 77243, 77244, 77245, 77248, 77249, 77251, 77252, 77253, 77254, 77255, 77256, 77257, 77258, 77259, 77261, 77262, 77263, 77265, 77266, 77267, 77268, 77269, 77270, 77271, 77272, 77273, 77274, 77275, 77277, 77279, 77280, 77281, 77282, 77284, 77287, 77288, 77289, 77290, 77291, 77292, 77293, 77297, 77298, 77299]\n"
   ]
  },
  {
   "cell_type": "code",
   "execution_count": null,
   "metadata": {
    "collapsed": true
   },
   "outputs": [],
   "source": [
    "# def searchSciWithLoc(listOne):\n",
    "#     returns = []\n",
    "#     for each:\n",
    "#         resultsFunction = results_+listOne = api.GetSearch(raw_query=\"q=%23actuallivingscientist&geocode=29.719420,-95.401901,10km&result_type=recent&since=2017-02-01&count=1000\")\n",
    "    \n",
    "#     return returnsJson"
   ]
  }
 ],
 "metadata": {
  "kernelspec": {
   "display_name": "Python 3",
   "language": "python",
   "name": "python3"
  },
  "language_info": {
   "codemirror_mode": {
    "name": "ipython",
    "version": 3
   },
   "file_extension": ".py",
   "mimetype": "text/x-python",
   "name": "python",
   "nbconvert_exporter": "python",
   "pygments_lexer": "ipython3",
   "version": "3.5.2"
  }
 },
 "nbformat": 4,
 "nbformat_minor": 0
}
