{
 "cells": [
  {
   "cell_type": "markdown",
   "metadata": {},
   "source": [
    "# Twitter Exploration of #actuallivingscientist hashtag in Houston Texas\n",
    "### Justin Gosses\n",
    "### 2017-02-13"
   ]
  },
  {
   "cell_type": "markdown",
   "metadata": {},
   "source": [
    "### Loading python modules"
   ]
  },
  {
   "cell_type": "code",
   "execution_count": 45,
   "metadata": {
    "collapsed": false
   },
   "outputs": [],
   "source": [
    "import twitter\n",
    "import csv\n",
    "import json\n",
    "import pandas as pd\n",
    "import configparser"
   ]
  },
  {
   "cell_type": "markdown",
   "metadata": {},
   "source": [
    "### Using config files for twitter API keys"
   ]
  },
  {
   "cell_type": "code",
   "execution_count": 54,
   "metadata": {
    "collapsed": false
   },
   "outputs": [],
   "source": [
    "config = configparser.ConfigParser()\n",
    "config.sections()\n",
    "config.read('./config.conf')\n",
    "config.sections()\n",
    "consumer_key_V = config['twitter-API']['consumer_key']\n",
    "consumer_secret_V = config['twitter-API']['consumer_secret']\n",
    "access_token_key_V = config['twitter-API']['access_token_key']\n",
    "access_token_secret_V = config['twitter-API']['access_token_secret']"
   ]
  },
  {
   "cell_type": "code",
   "execution_count": 55,
   "metadata": {
    "collapsed": false
   },
   "outputs": [
    {
     "data": {
      "text/plain": [
       "'yCxkUVrouAJvxlsLAzlQgVcS6X0Nj222n24EW4Dbsomzf'"
      ]
     },
     "execution_count": 55,
     "metadata": {},
     "output_type": "execute_result"
    }
   ],
   "source": [
    "access_token_secret_V"
   ]
  },
  {
   "cell_type": "markdown",
   "metadata": {},
   "source": [
    "### Signing into twitter API"
   ]
  },
  {
   "cell_type": "code",
   "execution_count": 56,
   "metadata": {
    "collapsed": false
   },
   "outputs": [],
   "source": [
    "api = twitter.Api(consumer_key=consumer_key_V,\n",
    "                      consumer_secret=consumer_secret_V,\n",
    "                      access_token_key=access_token_key_V,\n",
    "                      access_token_secret=access_token_secret_V)"
   ]
  },
  {
   "cell_type": "markdown",
   "metadata": {},
   "source": [
    "### Checking authentification"
   ]
  },
  {
   "cell_type": "code",
   "execution_count": 57,
   "metadata": {
    "collapsed": false
   },
   "outputs": [
    {
     "name": "stdout",
     "output_type": "stream",
     "text": [
      "{\"created_at\": \"Sun Aug 07 22:46:19 +0000 2016\", \"default_profile\": true, \"description\": \"I write code and look at rocks : Python | JavaScript | Web Dev | Data Visualization & Analytics | Geology | Space | - Opinions are my own\", \"favourites_count\": 289, \"followers_count\": 61, \"friends_count\": 205, \"geo_enabled\": true, \"id\": 762419629553659909, \"lang\": \"en\", \"listed_count\": 10, \"location\": \"Houston, TX\", \"name\": \"Justin Gosses\", \"profile_background_color\": \"F5F8FA\", \"profile_image_url\": \"http://pbs.twimg.com/profile_images/830090949833408512/ADQFqmNz_normal.jpg\", \"profile_link_color\": \"1DA1F2\", \"profile_sidebar_fill_color\": \"DDEEF6\", \"profile_text_color\": \"333333\", \"screen_name\": \"JustinGosses\", \"status\": {\"created_at\": \"Fri Feb 17 19:54:12 +0000 2017\", \"id\": 832679563045933057, \"id_str\": \"832679563045933057\", \"lang\": \"en\", \"retweet_count\": 2405, \"retweeted\": true, \"retweeted_status\": {\"created_at\": \"Fri Feb 17 14:57:45 +0000 2017\", \"favorite_count\": 4013, \"id\": 832604958105169920, \"id_str\": \"832604958105169920\", \"lang\": \"en\", \"retweet_count\": 2405, \"retweeted\": true, \"source\": \"<a href=\\\"http://twitter.com\\\" rel=\\\"nofollow\\\">Twitter Web Client</a>\", \"text\": \"At The Field Museum, facts matter. See why, from our experts in geology, paleontology, human evolution, and climate\\u2026 https://t.co/GKdXpThR2n\", \"truncated\": true}, \"source\": \"<a href=\\\"http://twitter.com/download/android\\\" rel=\\\"nofollow\\\">Twitter for Android</a>\", \"text\": \"RT @FieldMuseum: At The Field Museum, facts matter. See why, from our experts in geology, paleontology, human evolution, and climate change\\u2026\"}, \"statuses_count\": 205, \"url\": \"https://t.co/9zRCEHVyBG\"}\n"
     ]
    }
   ],
   "source": [
    ">>> print(api.VerifyCredentials())"
   ]
  },
  {
   "cell_type": "code",
   "execution_count": 46,
   "metadata": {
    "collapsed": false
   },
   "outputs": [
    {
     "name": "stdout",
     "output_type": "stream",
     "text": [
      "['RT @FMDeegan: Came across these today: Beautifully illustrated South African geological stamps from @35thigc https://t.co/3kiClMc6jX', 'RT @RogueNASA: A US-born NASA scientist was detained at the border until he unlocked his phone https://t.co/rdby6A8xN3', 'New space robots with new abilities for inside the #ISS  https://t.co/H2TnJKrPtw', '@JustinGosses first meeting this saturday', 'Jealous... https://t.co/oINunD6f8m', 'Hoping to get one in Houston this year #spaceApps https://t.co/cAd0USUIHs', 'RT @SarcasticRover: One thing made very clear by the #actuallivingscientist hash-storm yesterday it’s that real science is amazingly divers…', 'Focused on public policy predictions but applicable elsewhere &amp; good summary of considerations when applying #ML \\n\\nhttps://t.co/2C4CHQLnRq', 'RT @NASAdata: NASA explores graph database for deep insights into space (via @davidmeza1) https://t.co/9qOtTw7oaw', 'RT @janinekrippner: Spot the shock wave propagating when #Colima #volcano erupts https://t.co/Ka5tNt3f5O', '@JustinGosses lower threshold to start or try new methods as the assumption is more of the competitors have similar skills as you', 'This was fun and suggested benefits of a machine learning contest on a domain specific platform instead of kaggle. https://t.co/AK8Yqt1UgQ', '@cirquelar \\nhow much rover-based imagery collection is required for navigational needs vs purely science driven collection vs. mixture.', 'RT @ScienceMarchHou: Honestly, same. ✊🏻✊🏼✊🏽✊🏾✊🏿\\n#ScienceMarch #ScienceMarchHou https://t.co/bVqDGNmIt3', 'RT @RioParana: Our new digital elevation models of the South Saskatchewan River just coming out #6cmresolution, well done PDRA @StrickRober…', 'RT @ScienceMarchHou: #Science: improving lives &amp; safeguarding our futures! #ScienceMarch #ScienceMarchHou #ScienceMarchTX #SpaceCity #NASA…', '@ScienceMarchHou this states research was \"buried\", but it\\'s actually published. To keep Sci March fact-based, maybe use different article?', 'RT @SciGuySpace: This is jaw dropping. Watch as a small probe lands on a distant moon covered by hydrocarbon seas. https://t.co/0li7KwpBu1', 'me, \"argh, I\\'ll just sudo that\". \\nterminal, \"Error: Cowardly refusing to......... \"', 'RT @RonBaalke: A newly discovered ~7-meter asteroid, 2017 BH30, will just miss hitting the Earth on Jan 30 (0.1 Lunar Distance)\\n@BadAstrono…']\n"
     ]
    }
   ],
   "source": [
    ">>> statuses = api.GetUserTimeline(screen_name=\"JustinGosses\")\n",
    ">>> print([s.text for s in statuses])"
   ]
  },
  {
   "cell_type": "markdown",
   "metadata": {},
   "source": [
    "### Testing api.GetSearch()"
   ]
  },
  {
   "cell_type": "markdown",
   "metadata": {},
   "source": [
    "two results for the actuallivingscientist hashtag, prints their data type, which comes up as shortened list as default"
   ]
  },
  {
   "cell_type": "code",
   "execution_count": 58,
   "metadata": {
    "collapsed": false
   },
   "outputs": [
    {
     "data": {
      "text/plain": [
       "list"
      ]
     },
     "execution_count": 58,
     "metadata": {},
     "output_type": "execute_result"
    }
   ],
   "source": [
    "results = api.GetSearch(\n",
    "    raw_query=\"q=%23actuallivingscientist%20&result_type=recent&since=2017-02-10&count=2\")\n",
    "type(results)"
   ]
  },
  {
   "cell_type": "markdown",
   "metadata": {
    "collapsed": false
   },
   "source": [
    "which looks like this"
   ]
  },
  {
   "cell_type": "code",
   "execution_count": 60,
   "metadata": {
    "collapsed": false
   },
   "outputs": [
    {
     "data": {
      "text/plain": [
       "[Status(ID=833204873181134848, ScreenName=TheRealBDabney, Created=Sun Feb 19 06:41:36 +0000 2017, Text='RT @hildug: Lake ice science! @WiscLimnology #limnology #lakeice #scicomm #actuallivingscientist https://t.co/xXfQxKhTqH'),\n",
       " Status(ID=833189698780663808, ScreenName=JayFitzsy, Created=Sun Feb 19 05:41:18 +0000 2017, Text='RT @hildug: Lake ice science! @WiscLimnology #limnology #lakeice #scicomm #actuallivingscientist https://t.co/xXfQxKhTqH')]"
      ]
     },
     "execution_count": 60,
     "metadata": {},
     "output_type": "execute_result"
    }
   ],
   "source": [
    "results"
   ]
  },
  {
   "cell_type": "markdown",
   "metadata": {},
   "source": [
    "but there is actually a json and a lot more data in there still for only 2 responses"
   ]
  },
  {
   "cell_type": "code",
   "execution_count": 50,
   "metadata": {
    "collapsed": false
   },
   "outputs": [
    {
     "data": {
      "text/plain": [
       "'{\"metadata\": {\"iso_language_code\": \"en\", \"result_type\": \"recent\"}, \"retweeted\": false, \"source\": \"<a href=\\\\\"http://twitter.com/#!/download/ipad\\\\\" rel=\\\\\"nofollow\\\\\">Twitter for iPad</a>\", \"contributors\": null, \"in_reply_to_screen_name\": null, \"truncated\": false, \"is_quote_status\": false, \"geo\": null, \"favorited\": false, \"retweeted_status\": {\"metadata\": {\"iso_language_code\": \"en\", \"result_type\": \"recent\"}, \"retweeted\": false, \"source\": \"<a href=\\\\\"http://twitter.com/download/iphone\\\\\" rel=\\\\\"nofollow\\\\\">Twitter for iPhone</a>\", \"contributors\": null, \"in_reply_to_screen_name\": null, \"truncated\": false, \"is_quote_status\": false, \"geo\": null, \"favorited\": false, \"in_reply_to_status_id\": null, \"possibly_sensitive\": false, \"entities\": {\"user_mentions\": [], \"media\": [{\"id\": 831553525167570944, \"display_url\": \"pic.twitter.com/KE1M8cHbBi\", \"url\": \"https://t.co/KE1M8cHbBi\", \"id_str\": \"831553525167570944\", \"indices\": [114, 137], \"expanded_url\": \"https://twitter.com/PalomaAntartica/status/831553542657830913/photo/1\", \"sizes\": {\"large\": {\"w\": 2048, \"resize\": \"fit\", \"h\": 2048}, \"thumb\": {\"w\": 150, \"resize\": \"crop\", \"h\": 150}, \"medium\": {\"w\": 1200, \"resize\": \"fit\", \"h\": 1200}, \"small\": {\"w\": 680, \"resize\": \"fit\", \"h\": 680}}, \"media_url\": \"http://pbs.twimg.com/media/C4pFhn9WQAANhYI.jpg\", \"type\": \"photo\", \"media_url_https\": \"https://pbs.twimg.com/media/C4pFhn9WQAANhYI.jpg\"}], \"urls\": [], \"hashtags\": [{\"indices\": [12, 34], \"text\": \"actuallivingscientist\"}, {\"indices\": [41, 56], \"text\": \"womeninscience\"}, {\"indices\": [82, 92], \"text\": \"bryophyte\"}, {\"indices\": [93, 101], \"text\": \"ecology\"}, {\"indices\": [103, 113], \"text\": \"bryopride\"}], \"symbols\": []}, \"retweet_count\": 6, \"in_reply_to_user_id\": null, \"place\": null, \"created_at\": \"Tue Feb 14 17:19:48 +0000 2017\", \"in_reply_to_status_id_str\": null, \"lang\": \"en\", \"extended_entities\": {\"media\": [{\"id\": 831553525167570944, \"display_url\": \"pic.twitter.com/KE1M8cHbBi\", \"url\": \"https://t.co/KE1M8cHbBi\", \"id_str\": \"831553525167570944\", \"indices\": [114, 137], \"expanded_url\": \"https://twitter.com/PalomaAntartica/status/831553542657830913/photo/1\", \"sizes\": {\"large\": {\"w\": 2048, \"resize\": \"fit\", \"h\": 2048}, \"thumb\": {\"w\": 150, \"resize\": \"crop\", \"h\": 150}, \"medium\": {\"w\": 1200, \"resize\": \"fit\", \"h\": 1200}, \"small\": {\"w\": 680, \"resize\": \"fit\", \"h\": 680}}, \"media_url\": \"http://pbs.twimg.com/media/C4pFhn9WQAANhYI.jpg\", \"type\": \"photo\", \"media_url_https\": \"https://pbs.twimg.com/media/C4pFhn9WQAANhYI.jpg\"}]}, \"in_reply_to_user_id_str\": null, \"coordinates\": null, \"id\": 831553542657830913, \"favorite_count\": 7, \"user\": {\"profile_background_tile\": false, \"notifications\": false, \"url\": null, \"default_profile\": true, \"is_translation_enabled\": false, \"profile_link_color\": \"1DA1F2\", \"profile_background_image_url_https\": \"https://abs.twimg.com/images/themes/theme1/bg.png\", \"contributors_enabled\": false, \"screen_name\": \"PalomaAntartica\", \"geo_enabled\": false, \"followers_count\": 44, \"default_profile_image\": false, \"profile_background_image_url\": \"http://abs.twimg.com/images/themes/theme1/bg.png\", \"id\": 2736513101, \"profile_sidebar_fill_color\": \"DDEEF6\", \"utc_offset\": null, \"statuses_count\": 528, \"profile_image_url_https\": \"https://pbs.twimg.com/profile_images/497480858342006785/H5Q8OhFK_normal.jpeg\", \"translator_type\": \"none\", \"description\": \"Botanist, Bryologist, Plant Conservation adviser, amateur singer, knitting lover and more. Bel\\\\u00e9n Albertos\", \"entities\": {\"description\": {\"urls\": []}}, \"follow_request_sent\": false, \"is_translator\": false, \"profile_background_color\": \"C0DEED\", \"name\": \"Paloma Antartica\", \"verified\": false, \"has_extended_profile\": false, \"created_at\": \"Thu Aug 07 20:11:42 +0000 2014\", \"listed_count\": 7, \"profile_banner_url\": \"https://pbs.twimg.com/profile_banners/2736513101/1413215101\", \"lang\": \"ca\", \"location\": \"\", \"following\": false, \"protected\": false, \"id_str\": \"2736513101\", \"profile_use_background_image\": true, \"favourites_count\": 76, \"profile_text_color\": \"333333\", \"friends_count\": 56, \"profile_image_url\": \"http://pbs.twimg.com/profile_images/497480858342006785/H5Q8OhFK_normal.jpeg\", \"time_zone\": null, \"profile_sidebar_border_color\": \"C0DEED\"}, \"id_str\": \"831553542657830913\", \"text\": \"Hi! I am an #actuallivingscientist and a #womeninscience setting an experiment on #bryophyte #ecology. #bryopride https://t.co/KE1M8cHbBi\"}, \"in_reply_to_status_id\": null, \"entities\": {\"user_mentions\": [{\"screen_name\": \"PalomaAntartica\", \"indices\": [3, 19], \"id_str\": \"2736513101\", \"id\": 2736513101, \"name\": \"Paloma Antartica\"}], \"urls\": [], \"hashtags\": [{\"indices\": [33, 55], \"text\": \"actuallivingscientist\"}, {\"indices\": [62, 77], \"text\": \"womeninscience\"}, {\"indices\": [103, 113], \"text\": \"bryophyte\"}, {\"indices\": [114, 122], \"text\": \"ecology\"}, {\"indices\": [124, 134], \"text\": \"bryopride\"}], \"symbols\": []}, \"retweet_count\": 6, \"in_reply_to_user_id\": null, \"place\": null, \"created_at\": \"Wed Feb 15 03:25:01 +0000 2017\", \"in_reply_to_status_id_str\": null, \"lang\": \"en\", \"in_reply_to_user_id_str\": null, \"coordinates\": null, \"id\": 831705850339217408, \"favorite_count\": 0, \"user\": {\"profile_background_tile\": false, \"notifications\": false, \"url\": \"https://t.co/lxSXKK7uEq\", \"default_profile\": false, \"is_translation_enabled\": false, \"profile_link_color\": \"94D487\", \"profile_background_image_url_https\": \"https://abs.twimg.com/images/themes/theme1/bg.png\", \"contributors_enabled\": false, \"screen_name\": \"Antarcticmoss\", \"geo_enabled\": true, \"followers_count\": 1291, \"default_profile_image\": false, \"profile_background_image_url\": \"http://abs.twimg.com/images/themes/theme1/bg.png\", \"id\": 2812984627, \"profile_sidebar_fill_color\": \"000000\", \"utc_offset\": -28800, \"statuses_count\": 14275, \"profile_image_url_https\": \"https://pbs.twimg.com/profile_images/511841348865912832/BqyizKlI_normal.jpeg\", \"translator_type\": \"none\", \"description\": \"Global Change Biologist, Antarctica, Hot plants & cool science. Professor @UOW, Co-Director @UOW_CSES, Subject Editor @GlobalChangeBio. Views are my own.\", \"entities\": {\"url\": {\"urls\": [{\"display_url\": \"www.professarobinson.com\", \"url\": \"https://t.co/lxSXKK7uEq\", \"indices\": [0, 23], \"expanded_url\": \"http://www.www.professarobinson.com\"}]}, \"description\": {\"urls\": []}}, \"follow_request_sent\": false, \"is_translator\": false, \"profile_background_color\": \"000000\", \"name\": \"Sharon Robinson\", \"verified\": false, \"has_extended_profile\": false, \"created_at\": \"Tue Sep 16 11:16:18 +0000 2014\", \"listed_count\": 181, \"profile_banner_url\": \"https://pbs.twimg.com/profile_banners/2812984627/1410867478\", \"lang\": \"en\", \"location\": \"Australia\", \"following\": false, \"protected\": false, \"id_str\": \"2812984627\", \"profile_use_background_image\": false, \"favourites_count\": 335, \"profile_text_color\": \"000000\", \"friends_count\": 2337, \"profile_image_url\": \"http://pbs.twimg.com/profile_images/511841348865912832/BqyizKlI_normal.jpeg\", \"time_zone\": \"Pacific Time (US & Canada)\", \"profile_sidebar_border_color\": \"000000\"}, \"id_str\": \"831705850339217408\", \"text\": \"RT @PalomaAntartica: Hi! I am an #actuallivingscientist and a #womeninscience setting an experiment on #bryophyte #ecology. #bryopride http\\\\u2026\"}'"
      ]
     },
     "execution_count": 50,
     "metadata": {},
     "output_type": "execute_result"
    }
   ],
   "source": [
    "status = results[0]\n",
    "json_str = json.dumps(status._json)\n",
    "json_str"
   ]
  },
  {
   "cell_type": "code",
   "execution_count": 51,
   "metadata": {
    "collapsed": false
   },
   "outputs": [
    {
     "data": {
      "text/plain": [
       "[Status(ID=831372941896118273, ScreenName=NIHAustin, Created=Tue Feb 14 05:22:10 +0000 2017, Text=\"RT @kaitalexgrab: I'm an #ActualLivingScientist who tests water quality &amp; advocates for environmental protection. I #DressLikeAWoman in my…\"),\n",
       " Status(ID=831171766890459136, ScreenName=MBCAHouston, Created=Mon Feb 13 16:02:46 +0000 2017, Text='The latest The MBCA Houston Daily! https://t.co/b5IWEKpcd9 Thanks to @ARtvKimatni #actuallivingscientist #was17'),\n",
       " Status(ID=830352352561467392, ScreenName=Butrousfound, Created=Sat Feb 11 09:46:42 +0000 2017, Text=\"RT @OceanExplauren: Hi! I'm an #actuallivingscientist interested in aquatic sensory biology &amp; I spent my week looking at shark nostril hist…\"),\n",
       " Status(ID=830321224614084608, ScreenName=tpsc_info, Created=Sat Feb 11 07:43:01 +0000 2017, Text=\"RT @OceanExplauren: Hi! I'm an #actuallivingscientist interested in aquatic sensory biology &amp; I spent my week looking at shark nostril hist…\"),\n",
       " Status(ID=830299603996127232, ScreenName=EcoMorphLab, Created=Sat Feb 11 06:17:06 +0000 2017, Text=\"RT @OceanExplauren: Hi! I'm an #actuallivingscientist interested in aquatic sensory biology &amp; I spent my week looking at shark nostril hist…\"),\n",
       " Status(ID=830222927165431808, ScreenName=jacque_summers, Created=Sat Feb 11 01:12:25 +0000 2017, Text=\"RT @OceanExplauren: Hi! I'm an #actuallivingscientist interested in aquatic sensory biology &amp; I spent my week looking at shark nostril hist…\"),\n",
       " Status(ID=830222852301283329, ScreenName=InsectophileJim, Created=Sat Feb 11 01:12:07 +0000 2017, Text=\"RT @OceanExplauren: Hi! I'm an #actuallivingscientist interested in aquatic sensory biology &amp; I spent my week looking at shark nostril hist…\"),\n",
       " Status(ID=830221799342223361, ScreenName=InsectophileJim, Created=Sat Feb 11 01:07:56 +0000 2017, Text='RT @RickLambeth: Brother of more than one #actuallivingfarmer... I had/got to be an #actuallivingscientist instead.  Just glad there is sti…'),\n",
       " Status(ID=830189543743582208, ScreenName=Chapman_Histo, Created=Fri Feb 10 22:59:46 +0000 2017, Text=\"RT @OceanExplauren: Hi! I'm an #actuallivingscientist interested in aquatic sensory biology &amp; I spent my week looking at shark nostril hist…\"),\n",
       " Status(ID=830172944928223232, ScreenName=RickLambeth, Created=Fri Feb 10 21:53:48 +0000 2017, Text='Brother of more than one #actuallivingfarmer... I had/got to be an #actuallivingscientist instead.  Just glad there… https://t.co/914l59Uai1'),\n",
       " Status(ID=830156552480907264, ScreenName=Sexandfoodand, Created=Fri Feb 10 20:48:40 +0000 2017, Text=\"RT @OceanExplauren: Hi! I'm an #actuallivingscientist interested in aquatic sensory biology &amp; I spent my week looking at shark nostril hist…\"),\n",
       " Status(ID=830155104418295808, ScreenName=DrCrampini, Created=Fri Feb 10 20:42:55 +0000 2017, Text=\"RT @OceanExplauren: Hi! I'm an #actuallivingscientist interested in aquatic sensory biology &amp; I spent my week looking at shark nostril hist…\"),\n",
       " Status(ID=830151133578534912, ScreenName=HanoverM, Created=Fri Feb 10 20:27:08 +0000 2017, Text=\"RT @OceanExplauren: Hi! I'm an #actuallivingscientist interested in aquatic sensory biology &amp; I spent my week looking at shark nostril hist…\"),\n",
       " Status(ID=830150383012081664, ScreenName=OceanExplauren, Created=Fri Feb 10 20:24:09 +0000 2017, Text=\"Hi! I'm an #actuallivingscientist interested in aquatic sensory biology &amp; I spent my week looking at shark nostril… https://t.co/Qa4iBx1TOk\"),\n",
       " Status(ID=830068240059600901, ScreenName=karashosho01, Created=Fri Feb 10 14:57:45 +0000 2017, Text='#actuallivingscientist https://t.co/5Rcgaq43dE')]"
      ]
     },
     "execution_count": 51,
     "metadata": {},
     "output_type": "execute_result"
    }
   ],
   "source": [
    "results_withGeo = api.GetSearch(\n",
    "    raw_query=\"q=%23actuallivingscientist&geocode=29.7604,-95.3698,100km&result_type=recent&since=2017-02-10&count=100\")\n",
    "results_withGeo"
   ]
  },
  {
   "cell_type": "code",
   "execution_count": 52,
   "metadata": {
    "collapsed": false
   },
   "outputs": [
    {
     "data": {
      "text/plain": [
       "[Status(ID=831171766890459136, ScreenName=MBCAHouston, Created=Mon Feb 13 16:02:46 +0000 2017, Text='The latest The MBCA Houston Daily! https://t.co/b5IWEKpcd9 Thanks to @ARtvKimatni #actuallivingscientist #was17'),\n",
       " Status(ID=830221799342223361, ScreenName=InsectophileJim, Created=Sat Feb 11 01:07:56 +0000 2017, Text='RT @RickLambeth: Brother of more than one #actuallivingfarmer... I had/got to be an #actuallivingscientist instead.  Just glad there is sti…'),\n",
       " Status(ID=830172944928223232, ScreenName=RickLambeth, Created=Fri Feb 10 21:53:48 +0000 2017, Text='Brother of more than one #actuallivingfarmer... I had/got to be an #actuallivingscientist instead.  Just glad there… https://t.co/914l59Uai1'),\n",
       " Status(ID=830068240059600901, ScreenName=karashosho01, Created=Fri Feb 10 14:57:45 +0000 2017, Text='#actuallivingscientist https://t.co/5Rcgaq43dE')]"
      ]
     },
     "execution_count": 52,
     "metadata": {},
     "output_type": "execute_result"
    }
   ],
   "source": [
    "results_withGeo = api.GetSearch(\n",
    "    raw_query=\"q=%23actuallivingscientist&geocode=29.7604,-95.3698,10km&result_type=recent&since=2017-02-10&count=1000\")\n",
    "results_withGeo"
   ]
  },
  {
   "cell_type": "markdown",
   "metadata": {},
   "source": [
    "### Apparently no one on the west sides tweets much or maybe they are just industrial scientists over there?"
   ]
  },
  {
   "cell_type": "code",
   "execution_count": 61,
   "metadata": {
    "collapsed": false
   },
   "outputs": [
    {
     "data": {
      "text/plain": [
       "[]"
      ]
     },
     "execution_count": 61,
     "metadata": {},
     "output_type": "execute_result"
    }
   ],
   "source": [
    "# centerpoint of zip code 77079 = 29.776318, -95.604971\n",
    "results_withGeo77079 = api.GetSearch(\n",
    "    raw_query=\"q=%23actuallivingscientist&geocode=29.776318,-95.604971,10km&result_type=recent&since=2017-02-01&count=1000\")\n",
    "results_withGeo77079\n"
   ]
  },
  {
   "cell_type": "markdown",
   "metadata": {},
   "source": [
    "### Rice area of course has more academics and doctors"
   ]
  },
  {
   "cell_type": "code",
   "execution_count": 30,
   "metadata": {
    "collapsed": false
   },
   "outputs": [
    {
     "data": {
      "text/plain": [
       "[Status(ID=831171766890459136, ScreenName=MBCAHouston, Created=Mon Feb 13 16:02:46 +0000 2017, Text='The latest The MBCA Houston Daily! https://t.co/b5IWEKpcd9 Thanks to @ARtvKimatni #actuallivingscientist #was17'),\n",
       " Status(ID=830221799342223361, ScreenName=InsectophileJim, Created=Sat Feb 11 01:07:56 +0000 2017, Text='RT @RickLambeth: Brother of more than one #actuallivingfarmer... I had/got to be an #actuallivingscientist instead.  Just glad there is sti…'),\n",
       " Status(ID=830172944928223232, ScreenName=RickLambeth, Created=Fri Feb 10 21:53:48 +0000 2017, Text='Brother of more than one #actuallivingfarmer... I had/got to be an #actuallivingscientist instead.  Just glad there… https://t.co/914l59Uai1'),\n",
       " Status(ID=830068240059600901, ScreenName=karashosho01, Created=Fri Feb 10 14:57:45 +0000 2017, Text='#actuallivingscientist https://t.co/5Rcgaq43dE'),\n",
       " Status(ID=829349170150592512, ScreenName=TDGiardina, Created=Wed Feb 08 15:20:25 +0000 2017, Text=\"I'm an #ActualSocialScientist in patient safety - exploring patients' experiences of diagnostic errors. #actuallivingscientist\"),\n",
       " Status(ID=829349135509811201, ScreenName=CarlaLouisa, Created=Wed Feb 08 15:20:17 +0000 2017, Text=\"RT @DeltagrlNC: Hi I'm Angela and I'm a Microbiologist that test IV drugs for sterility. #actuallivingscientist #DressLikeAWoman https://t.…\"),\n",
       " Status(ID=829104435783729153, ScreenName=InsectophileJim, Created=Tue Feb 07 23:07:56 +0000 2017, Text=\"RT @KathAGar: Hi, I'm Kathleen. I'm an #actuallivingscientist who studies ways that coastal communities can adapt to rising sea level and c…\"),\n",
       " Status(ID=829026630874042371, ScreenName=KathAGar, Created=Tue Feb 07 17:58:46 +0000 2017, Text=\"Hi, I'm Kathleen. I'm an #actuallivingscientist who studies ways that coastal communities can adapt to rising sea l… https://t.co/WR9iN71xdi\"),\n",
       " Status(ID=829013505441484801, ScreenName=CarlaLouisa, Created=Tue Feb 07 17:06:36 +0000 2017, Text=\"RT @drkristymurray: I'm an #ActualLivingScientist who studies infectious pathogens. I like to #DressLikeAWoman https://t.co/BOGK1Tpapa\"),\n",
       " Status(ID=829005449123024896, ScreenName=Aiims1742, Created=Tue Feb 07 16:34:35 +0000 2017, Text='I would recommend everyone follow @ScientistTrump \\n#ActualLivingScientist https://t.co/J0nkOm6U2r'),\n",
       " Status(ID=828827425740046336, ScreenName=MichaelAlliman, Created=Tue Feb 07 04:47:11 +0000 2017, Text='The fact that most of the respondents in this thread are women restores a shred of hope in me.  #actuallivingscientist'),\n",
       " Status(ID=828700281055481857, ScreenName=momneph, Created=Mon Feb 06 20:21:58 +0000 2017, Text=\"RT @drkristymurray: I'm an #ActualLivingScientist who studies infectious pathogens. I like to #DressLikeAWoman https://t.co/BOGK1Tpapa\"),\n",
       " Status(ID=828629679959658497, ScreenName=joan_mediator, Created=Mon Feb 06 15:41:25 +0000 2017, Text=\"RT @drkristymurray: I'm an #ActualLivingScientist who studies infectious pathogens. I like to #DressLikeAWoman https://t.co/BOGK1Tpapa\"),\n",
       " Status(ID=828628126452301824, ScreenName=DavidFisman, Created=Mon Feb 06 15:35:15 +0000 2017, Text=\"RT @drkristymurray: I'm an #ActualLivingScientist who studies infectious pathogens. I like to #DressLikeAWoman https://t.co/BOGK1Tpapa\"),\n",
       " Status(ID=828627918083481600, ScreenName=DiagnosticChick, Created=Mon Feb 06 15:34:25 +0000 2017, Text=\"RT @drkristymurray: I'm an #ActualLivingScientist who studies infectious pathogens. I like to #DressLikeAWoman https://t.co/BOGK1Tpapa\"),\n",
       " Status(ID=828385188677816320, ScreenName=BCM_TropMed, Created=Sun Feb 05 23:29:54 +0000 2017, Text=\"RT @drkristymurray: I'm an #ActualLivingScientist who studies infectious pathogens. I like to #DressLikeAWoman https://t.co/BOGK1Tpapa\"),\n",
       " Status(ID=828373352205185025, ScreenName=QutubLab, Created=Sun Feb 05 22:42:52 +0000 2017, Text='Congrats to @arun_mahadevan who won an IBB travel award to present his studies on developing neurons!… https://t.co/0nn37tr9Nh'),\n",
       " Status(ID=828368849527566336, ScreenName=dmfitz424, Created=Sun Feb 05 22:24:58 +0000 2017, Text=\"I'm an #actuallivingscientist and I always #DressLikeAWoman! #MadScientist #ScienceMarch #ScienceMarchHOU https://t.co/1ifM5XbIQB\")]"
      ]
     },
     "execution_count": 30,
     "metadata": {},
     "output_type": "execute_result"
    }
   ],
   "source": [
    "# position on Rice University Dept. of Earth Science 29.719420, -95.401901\n",
    "results_withGeoRice = api.GetSearch(\n",
    "    raw_query=\"q=%23actuallivingscientist&geocode=29.719420,-95.401901,10km&result_type=recent&since=2017-02-01&count=1000\")\n",
    "results_withGeoRice"
   ]
  },
  {
   "cell_type": "code",
   "execution_count": 90,
   "metadata": {
    "collapsed": false
   },
   "outputs": [
    {
     "data": {
      "text/plain": [
       "[Status(ID=831171766890459136, ScreenName=MBCAHouston, Created=Mon Feb 13 16:02:46 +0000 2017, Text='The latest The MBCA Houston Daily! https://t.co/b5IWEKpcd9 Thanks to @ARtvKimatni #actuallivingscientist #was17'),\n",
       " Status(ID=830221799342223361, ScreenName=InsectophileJim, Created=Sat Feb 11 01:07:56 +0000 2017, Text='RT @RickLambeth: Brother of more than one #actuallivingfarmer... I had/got to be an #actuallivingscientist instead.  Just glad there is sti…'),\n",
       " Status(ID=830172944928223232, ScreenName=RickLambeth, Created=Fri Feb 10 21:53:48 +0000 2017, Text='Brother of more than one #actuallivingfarmer... I had/got to be an #actuallivingscientist instead.  Just glad there… https://t.co/914l59Uai1'),\n",
       " Status(ID=830068240059600901, ScreenName=karashosho01, Created=Fri Feb 10 14:57:45 +0000 2017, Text='#actuallivingscientist https://t.co/5Rcgaq43dE'),\n",
       " Status(ID=829349170150592512, ScreenName=TDGiardina, Created=Wed Feb 08 15:20:25 +0000 2017, Text=\"I'm an #ActualSocialScientist in patient safety - exploring patients' experiences of diagnostic errors. #actuallivingscientist\"),\n",
       " Status(ID=829349135509811201, ScreenName=CarlaLouisa, Created=Wed Feb 08 15:20:17 +0000 2017, Text=\"RT @DeltagrlNC: Hi I'm Angela and I'm a Microbiologist that test IV drugs for sterility. #actuallivingscientist #DressLikeAWoman https://t.…\"),\n",
       " Status(ID=829104435783729153, ScreenName=InsectophileJim, Created=Tue Feb 07 23:07:56 +0000 2017, Text=\"RT @KathAGar: Hi, I'm Kathleen. I'm an #actuallivingscientist who studies ways that coastal communities can adapt to rising sea level and c…\"),\n",
       " Status(ID=829026630874042371, ScreenName=KathAGar, Created=Tue Feb 07 17:58:46 +0000 2017, Text=\"Hi, I'm Kathleen. I'm an #actuallivingscientist who studies ways that coastal communities can adapt to rising sea l… https://t.co/WR9iN71xdi\"),\n",
       " Status(ID=829013505441484801, ScreenName=CarlaLouisa, Created=Tue Feb 07 17:06:36 +0000 2017, Text=\"RT @drkristymurray: I'm an #ActualLivingScientist who studies infectious pathogens. I like to #DressLikeAWoman https://t.co/BOGK1Tpapa\"),\n",
       " Status(ID=829005449123024896, ScreenName=Aiims1742, Created=Tue Feb 07 16:34:35 +0000 2017, Text='I would recommend everyone follow @ScientistTrump \\n#ActualLivingScientist https://t.co/J0nkOm6U2r'),\n",
       " Status(ID=828827425740046336, ScreenName=MichaelAlliman, Created=Tue Feb 07 04:47:11 +0000 2017, Text='The fact that most of the respondents in this thread are women restores a shred of hope in me.  #actuallivingscientist'),\n",
       " Status(ID=828700281055481857, ScreenName=momneph, Created=Mon Feb 06 20:21:58 +0000 2017, Text=\"RT @drkristymurray: I'm an #ActualLivingScientist who studies infectious pathogens. I like to #DressLikeAWoman https://t.co/BOGK1Tpapa\"),\n",
       " Status(ID=828629679959658497, ScreenName=joan_mediator, Created=Mon Feb 06 15:41:25 +0000 2017, Text=\"RT @drkristymurray: I'm an #ActualLivingScientist who studies infectious pathogens. I like to #DressLikeAWoman https://t.co/BOGK1Tpapa\"),\n",
       " Status(ID=828628126452301824, ScreenName=DavidFisman, Created=Mon Feb 06 15:35:15 +0000 2017, Text=\"RT @drkristymurray: I'm an #ActualLivingScientist who studies infectious pathogens. I like to #DressLikeAWoman https://t.co/BOGK1Tpapa\"),\n",
       " Status(ID=828627918083481600, ScreenName=DiagnosticChick, Created=Mon Feb 06 15:34:25 +0000 2017, Text=\"RT @drkristymurray: I'm an #ActualLivingScientist who studies infectious pathogens. I like to #DressLikeAWoman https://t.co/BOGK1Tpapa\"),\n",
       " Status(ID=828385188677816320, ScreenName=BCM_TropMed, Created=Sun Feb 05 23:29:54 +0000 2017, Text=\"RT @drkristymurray: I'm an #ActualLivingScientist who studies infectious pathogens. I like to #DressLikeAWoman https://t.co/BOGK1Tpapa\"),\n",
       " Status(ID=828373352205185025, ScreenName=QutubLab, Created=Sun Feb 05 22:42:52 +0000 2017, Text='Congrats to @arun_mahadevan who won an IBB travel award to present his studies on developing neurons!… https://t.co/0nn37tr9Nh'),\n",
       " Status(ID=828368849527566336, ScreenName=dmfitz424, Created=Sun Feb 05 22:24:58 +0000 2017, Text=\"I'm an #actuallivingscientist and I always #DressLikeAWoman! #MadScientist #ScienceMarch #ScienceMarchHOU https://t.co/1ifM5XbIQB\")]"
      ]
     },
     "execution_count": 90,
     "metadata": {},
     "output_type": "execute_result"
    }
   ],
   "source": [
    "# position on Rice University Dept. of Earth Science 29.719420, -95.401901\n",
    "results_withGeoRice = api.GetSearch(\n",
    "    raw_query=\"q=%23actuallivingscientist&geocode=29.719420,-95.401901,10km&result_type=recent&since=2017-02-01&count=1000\")\n",
    "results_withGeoRice"
   ]
  },
  {
   "cell_type": "markdown",
   "metadata": {},
   "source": [
    "### A function that takes the north, south, west, and east limts and divides them into sections of 10 producing 100 points"
   ]
  },
  {
   "cell_type": "code",
   "execution_count": 30,
   "metadata": {
    "collapsed": true
   },
   "outputs": [],
   "source": [
    "# got a mapping of zip codes to lat long in csv format from here, had to save in UTF-8 format\n",
    "# http://www.unitedstateszipcodes.org/zip-code-database/ saved as zip_code_database.csv"
   ]
  },
  {
   "cell_type": "markdown",
   "metadata": {},
   "source": [
    " 30°15'6.44\"N   96° 5'17.13\"W\n",
    "  29°16'56.13\"N  95°57'46.47\"W\n",
    "   29°21'28.30\"N   94°38'24.37\"W\n",
    "    30°26'55.88\"N   94°48'6.63\"W\n",
    "    \n",
    "    north limit = 30°26'55.88      30.44885556\n",
    "    south limit = 29°16'56.13\"N     29.28225833\n",
    "    west limit = 96° 5'17.13\"W     -96.08805556\n",
    "    east limit = 94°38'24.37\"W     -94.64000000"
   ]
  },
  {
   "cell_type": "code",
   "execution_count": null,
   "metadata": {
    "collapsed": true
   },
   "outputs": [],
   "source": [
    "# finds distance between north and south and then west and east limits\n",
    "# divides the distance above by 10 to find an increment size\n",
    "# starts at the northwest most point and increments eastward by the given increment size for 10 units, saves as list\n",
    "# starts at the northwest most point and increments southward by the given increment size for 10 units, saves it as a list\n",
    "# start new blank list\n",
    "# for each in first list and each in second list combine to make new list of [{\"lat\",\"long\"},{\"lat\",\"long\"},{\"lat\",\"long\"},{\"lat\",\"long\"}]"
   ]
  },
  {
   "cell_type": "markdown",
   "metadata": {},
   "source": [
    "### Instead, I decided to do it based on zip codes as maybe people can relate to them more?"
   ]
  },
  {
   "cell_type": "code",
   "execution_count": 32,
   "metadata": {
    "collapsed": false
   },
   "outputs": [],
   "source": [
    "# list of Houston zip codes from : https://www.maxleaman.com/mortgage-resources/texas-zip-code-maps/houston-zip-code-map\n",
    "HoustonZipCodes = [77001, 77002, 77003, 77004, 77005, 77006, 77007, 77008, 77009, 77010, 77011, 77012, 77013, 77014, 77015, 77016, 77017, 77018, 77019, 77020, 77021, 77022, 77023, 77024, 77025, 77026, 77027, 77028, 77029, 77030, 77031, 77032, 77033, 77034, 77035, 77036, 77037, 77038, 77039, 77040, 77041, 77042, 77043, 77044, 77045, 77046, 77047, 77048, 77049, 77050, 77051, 77052, 77053, 77054, 77055, 77056, 77057, 77058, 77059, 77060, 77061, 77062, 77063, 77064, 77065, 77066, 77067, 77068, 77069, 77070, 77071, 77072, 77073, 77074, 77075, 77076, 77077, 77078, 77079, 77080, 77081, 77082, 77083, 77084, 77085, 77086, 77087, 77088, 77089, 77090, 77091, 77092, 77093, 77094, 77095, 77096, 77097, 77098, 77099, 77201, 77202, 77203, 77204, 77205, 77206, 77207, 77208, 77209, 77210, 77212, 77213, 77215, 77216, 77217, 77218, 77219, 77220, 77221, 77222, 77223, 77224, 77225, 77226, 77227, 77228, 77229, 77230, 77231, 77233, 77234, 77235, 77236, 77237, 77238, 77240, 77241, 77242, 77243, 77244, 77245, 77248, 77249, 77251, 77252, 77253, 77254, 77255, 77256, 77257, 77258, 77259, 77261, 77262, 77263, 77265, 77266, 77267, 77268, 77269, 77270, 77271, 77272, 77273, 77274, 77275, 77277, 77279, 77280, 77281, 77282, 77284, 77287, 77288, 77289, 77290, 77291, 77292, 77293, 77297, 77298, 77299]\n"
   ]
  },
  {
   "cell_type": "code",
   "execution_count": 102,
   "metadata": {
    "collapsed": false
   },
   "outputs": [
    {
     "data": {
      "text/html": [
       "<div>\n",
       "<table border=\"1\" class=\"dataframe\">\n",
       "  <thead>\n",
       "    <tr style=\"text-align: right;\">\n",
       "      <th></th>\n",
       "      <th>irs_estimated_population_2014</th>\n",
       "      <th>latitude</th>\n",
       "      <th>longitude</th>\n",
       "      <th>zip</th>\n",
       "    </tr>\n",
       "  </thead>\n",
       "  <tbody>\n",
       "    <tr>\n",
       "      <th>count</th>\n",
       "      <td>1745.000000</td>\n",
       "      <td>1745.000000</td>\n",
       "      <td>1745.000000</td>\n",
       "      <td>1745.000000</td>\n",
       "    </tr>\n",
       "    <tr>\n",
       "      <th>mean</th>\n",
       "      <td>13796.088825</td>\n",
       "      <td>31.320625</td>\n",
       "      <td>-97.713444</td>\n",
       "      <td>77336.329513</td>\n",
       "    </tr>\n",
       "    <tr>\n",
       "      <th>std</th>\n",
       "      <td>16683.326818</td>\n",
       "      <td>1.966935</td>\n",
       "      <td>2.413699</td>\n",
       "      <td>1415.797983</td>\n",
       "    </tr>\n",
       "    <tr>\n",
       "      <th>min</th>\n",
       "      <td>0.000000</td>\n",
       "      <td>25.920000</td>\n",
       "      <td>-106.610000</td>\n",
       "      <td>75001.000000</td>\n",
       "    </tr>\n",
       "    <tr>\n",
       "      <th>25%</th>\n",
       "      <td>1320.000000</td>\n",
       "      <td>29.800000</td>\n",
       "      <td>-98.670000</td>\n",
       "      <td>76092.000000</td>\n",
       "    </tr>\n",
       "    <tr>\n",
       "      <th>50%</th>\n",
       "      <td>6570.000000</td>\n",
       "      <td>31.510000</td>\n",
       "      <td>-97.330000</td>\n",
       "      <td>77359.000000</td>\n",
       "    </tr>\n",
       "    <tr>\n",
       "      <th>75%</th>\n",
       "      <td>22050.000000</td>\n",
       "      <td>32.830000</td>\n",
       "      <td>-95.880000</td>\n",
       "      <td>78584.000000</td>\n",
       "    </tr>\n",
       "    <tr>\n",
       "      <th>max</th>\n",
       "      <td>105950.000000</td>\n",
       "      <td>36.450000</td>\n",
       "      <td>-93.660000</td>\n",
       "      <td>79938.000000</td>\n",
       "    </tr>\n",
       "  </tbody>\n",
       "</table>\n",
       "</div>"
      ],
      "text/plain": [
       "       irs_estimated_population_2014     latitude    longitude           zip\n",
       "count                    1745.000000  1745.000000  1745.000000   1745.000000\n",
       "mean                    13796.088825    31.320625   -97.713444  77336.329513\n",
       "std                     16683.326818     1.966935     2.413699   1415.797983\n",
       "min                         0.000000    25.920000  -106.610000  75001.000000\n",
       "25%                      1320.000000    29.800000   -98.670000  76092.000000\n",
       "50%                      6570.000000    31.510000   -97.330000  77359.000000\n",
       "75%                     22050.000000    32.830000   -95.880000  78584.000000\n",
       "max                    105950.000000    36.450000   -93.660000  79938.000000"
      ]
     },
     "execution_count": 102,
     "metadata": {},
     "output_type": "execute_result"
    }
   ],
   "source": [
    "texas_zip = pd.read_json('TexasZipCodes_StandardOnly.json')\n",
    "texas_zip.describe()"
   ]
  },
  {
   "cell_type": "markdown",
   "metadata": {},
   "source": [
    "Filtering the larger list of texas zip codes to only the ones near Houston and not post office boxes"
   ]
  },
  {
   "cell_type": "code",
   "execution_count": 103,
   "metadata": {
    "collapsed": false
   },
   "outputs": [],
   "source": [
    "GreaterHouston_Zip = texas_zip.loc[texas_zip['zip'].isin(HoustonZipCodes)]"
   ]
  },
  {
   "cell_type": "code",
   "execution_count": 104,
   "metadata": {
    "collapsed": false
   },
   "outputs": [
    {
     "data": {
      "text/html": [
       "<div>\n",
       "<table border=\"1\" class=\"dataframe\">\n",
       "  <thead>\n",
       "    <tr style=\"text-align: right;\">\n",
       "      <th></th>\n",
       "      <th>irs_estimated_population_2014</th>\n",
       "      <th>latitude</th>\n",
       "      <th>longitude</th>\n",
       "      <th>zip</th>\n",
       "    </tr>\n",
       "  </thead>\n",
       "  <tbody>\n",
       "    <tr>\n",
       "      <th>count</th>\n",
       "      <td>98.000000</td>\n",
       "      <td>98.000000</td>\n",
       "      <td>98.000000</td>\n",
       "      <td>98.000000</td>\n",
       "    </tr>\n",
       "    <tr>\n",
       "      <th>mean</th>\n",
       "      <td>28525.510204</td>\n",
       "      <td>29.775510</td>\n",
       "      <td>-95.413367</td>\n",
       "      <td>77052.020408</td>\n",
       "    </tr>\n",
       "    <tr>\n",
       "      <th>std</th>\n",
       "      <td>15952.102219</td>\n",
       "      <td>0.112067</td>\n",
       "      <td>0.129391</td>\n",
       "      <td>32.243589</td>\n",
       "    </tr>\n",
       "    <tr>\n",
       "      <th>min</th>\n",
       "      <td>0.000000</td>\n",
       "      <td>29.560000</td>\n",
       "      <td>-95.680000</td>\n",
       "      <td>77002.000000</td>\n",
       "    </tr>\n",
       "    <tr>\n",
       "      <th>25%</th>\n",
       "      <td>17112.500000</td>\n",
       "      <td>29.692500</td>\n",
       "      <td>-95.497500</td>\n",
       "      <td>77026.250000</td>\n",
       "    </tr>\n",
       "    <tr>\n",
       "      <th>50%</th>\n",
       "      <td>27670.000000</td>\n",
       "      <td>29.760000</td>\n",
       "      <td>-95.420000</td>\n",
       "      <td>77050.500000</td>\n",
       "    </tr>\n",
       "    <tr>\n",
       "      <th>75%</th>\n",
       "      <td>35410.000000</td>\n",
       "      <td>29.857500</td>\n",
       "      <td>-95.340000</td>\n",
       "      <td>77075.750000</td>\n",
       "    </tr>\n",
       "    <tr>\n",
       "      <th>max</th>\n",
       "      <td>98370.000000</td>\n",
       "      <td>30.010000</td>\n",
       "      <td>-95.100000</td>\n",
       "      <td>77201.000000</td>\n",
       "    </tr>\n",
       "  </tbody>\n",
       "</table>\n",
       "</div>"
      ],
      "text/plain": [
       "       irs_estimated_population_2014   latitude  longitude           zip\n",
       "count                      98.000000  98.000000  98.000000     98.000000\n",
       "mean                    28525.510204  29.775510 -95.413367  77052.020408\n",
       "std                     15952.102219   0.112067   0.129391     32.243589\n",
       "min                         0.000000  29.560000 -95.680000  77002.000000\n",
       "25%                     17112.500000  29.692500 -95.497500  77026.250000\n",
       "50%                     27670.000000  29.760000 -95.420000  77050.500000\n",
       "75%                     35410.000000  29.857500 -95.340000  77075.750000\n",
       "max                     98370.000000  30.010000 -95.100000  77201.000000"
      ]
     },
     "execution_count": 104,
     "metadata": {},
     "output_type": "execute_result"
    }
   ],
   "source": [
    "GreaterHouston_Zip.describe()"
   ]
  },
  {
   "cell_type": "code",
   "execution_count": 85,
   "metadata": {
    "collapsed": false,
    "scrolled": false
   },
   "outputs": [],
   "source": [
    "arrayOfTweetsByLoc = []\n",
    "for index, row in GreaterHouston_Zip.iterrows():\n",
    "    #print(\"row is\",row)\n",
    "    #print(\"lat is\",row['latitude'])\n",
    "    lat = row['latitude']\n",
    "    long = row['longitude']\n",
    "    #print(\"lat is \",row['latitude'],\" and long is \",row['longitude'])\n",
    "    #results_forEach = api.GetSearch(raw_query=\"q=%23actuallivingscientist&geocode=29.719420,-95.401901,10km&result_type=recent&since=2017-02-01&count=1000\")\n",
    "    arrayOfTweetsByLoc.append({\"location\":[lat,long],\"tweets\":\"placeholder\"}) \n",
    "    #arrayOfTweetsByLoc.append({\"location\":[lat,long],\"tweets\":results_forEach}) \n",
    "### works!\n",
    "#arrayOfTweetsByLoc"
   ]
  },
  {
   "cell_type": "code",
   "execution_count": 86,
   "metadata": {
    "collapsed": false
   },
   "outputs": [
    {
     "name": "stdout",
     "output_type": "stream",
     "text": [
      "q=%23actuallivingscientist&geocode=5.2,8.4,4km&result_type=recent&since=2017-02-13&count=50\n"
     ]
    }
   ],
   "source": [
    "latT = 5.2\n",
    "longT = 8.4\n",
    "print(\"q=%23actuallivingscientist&geocode={},{},4km&result_type=recent&since=2017-02-13&count=50\".format(latT,longT))"
   ]
  },
  {
   "cell_type": "code",
   "execution_count": 95,
   "metadata": {
    "collapsed": false
   },
   "outputs": [
    {
     "data": {
      "text/plain": [
       "[{'location': [29.76, -95.37],\n",
       "  'tweets': [Status(ID=831171766890459136, ScreenName=MBCAHouston, Created=Mon Feb 13 16:02:46 +0000 2017, Text='The latest The MBCA Houston Daily! https://t.co/b5IWEKpcd9 Thanks to @ARtvKimatni #actuallivingscientist #was17')]},\n",
       " {'location': [29.75, -95.35],\n",
       "  'tweets': [Status(ID=831171766890459136, ScreenName=MBCAHouston, Created=Mon Feb 13 16:02:46 +0000 2017, Text='The latest The MBCA Houston Daily! https://t.co/b5IWEKpcd9 Thanks to @ARtvKimatni #actuallivingscientist #was17')]},\n",
       " {'location': [29.72, -95.36],\n",
       "  'tweets': [Status(ID=831171766890459136, ScreenName=MBCAHouston, Created=Mon Feb 13 16:02:46 +0000 2017, Text='The latest The MBCA Houston Daily! https://t.co/b5IWEKpcd9 Thanks to @ARtvKimatni #actuallivingscientist #was17')]},\n",
       " {'location': [29.72, -95.42],\n",
       "  'tweets': [Status(ID=831171766890459136, ScreenName=MBCAHouston, Created=Mon Feb 13 16:02:46 +0000 2017, Text='The latest The MBCA Houston Daily! https://t.co/b5IWEKpcd9 Thanks to @ARtvKimatni #actuallivingscientist #was17')]},\n",
       " {'location': [29.74, -95.39],\n",
       "  'tweets': [Status(ID=831171766890459136, ScreenName=MBCAHouston, Created=Mon Feb 13 16:02:46 +0000 2017, Text='The latest The MBCA Houston Daily! https://t.co/b5IWEKpcd9 Thanks to @ARtvKimatni #actuallivingscientist #was17')]},\n",
       " {'location': [29.77, -95.41],\n",
       "  'tweets': [Status(ID=831171766890459136, ScreenName=MBCAHouston, Created=Mon Feb 13 16:02:46 +0000 2017, Text='The latest The MBCA Houston Daily! https://t.co/b5IWEKpcd9 Thanks to @ARtvKimatni #actuallivingscientist #was17')]},\n",
       " {'location': [29.8, -95.42],\n",
       "  'tweets': [Status(ID=831171766890459136, ScreenName=MBCAHouston, Created=Mon Feb 13 16:02:46 +0000 2017, Text='The latest The MBCA Houston Daily! https://t.co/b5IWEKpcd9 Thanks to @ARtvKimatni #actuallivingscientist #was17')]},\n",
       " {'location': [29.8, -95.37],\n",
       "  'tweets': [Status(ID=831171766890459136, ScreenName=MBCAHouston, Created=Mon Feb 13 16:02:46 +0000 2017, Text='The latest The MBCA Houston Daily! https://t.co/b5IWEKpcd9 Thanks to @ARtvKimatni #actuallivingscientist #was17')]},\n",
       " {'location': [29.75, -95.36],\n",
       "  'tweets': [Status(ID=831171766890459136, ScreenName=MBCAHouston, Created=Mon Feb 13 16:02:46 +0000 2017, Text='The latest The MBCA Houston Daily! https://t.co/b5IWEKpcd9 Thanks to @ARtvKimatni #actuallivingscientist #was17')]},\n",
       " {'location': [29.74, -95.31],\n",
       "  'tweets': [Status(ID=831171766890459136, ScreenName=MBCAHouston, Created=Mon Feb 13 16:02:46 +0000 2017, Text='The latest The MBCA Houston Daily! https://t.co/b5IWEKpcd9 Thanks to @ARtvKimatni #actuallivingscientist #was17')]},\n",
       " {'location': [29.72, -95.27],\n",
       "  'tweets': [Status(ID=831171766890459136, ScreenName=MBCAHouston, Created=Mon Feb 13 16:02:46 +0000 2017, Text='The latest The MBCA Houston Daily! https://t.co/b5IWEKpcd9 Thanks to @ARtvKimatni #actuallivingscientist #was17')]},\n",
       " {'location': [29.79, -95.23],\n",
       "  'tweets': [Status(ID=831171766890459136, ScreenName=MBCAHouston, Created=Mon Feb 13 16:02:46 +0000 2017, Text='The latest The MBCA Houston Daily! https://t.co/b5IWEKpcd9 Thanks to @ARtvKimatni #actuallivingscientist #was17')]},\n",
       " {'location': [29.98, -95.46], 'tweets': []},\n",
       " {'location': [29.76, -95.17], 'tweets': []},\n",
       " {'location': [29.86, -95.3], 'tweets': []},\n",
       " {'location': [29.69, -95.25], 'tweets': []},\n",
       " {'location': [29.83, -95.43],\n",
       "  'tweets': [Status(ID=831171766890459136, ScreenName=MBCAHouston, Created=Mon Feb 13 16:02:46 +0000 2017, Text='The latest The MBCA Houston Daily! https://t.co/b5IWEKpcd9 Thanks to @ARtvKimatni #actuallivingscientist #was17')]},\n",
       " {'location': [29.76, -95.38],\n",
       "  'tweets': [Status(ID=831171766890459136, ScreenName=MBCAHouston, Created=Mon Feb 13 16:02:46 +0000 2017, Text='The latest The MBCA Houston Daily! https://t.co/b5IWEKpcd9 Thanks to @ARtvKimatni #actuallivingscientist #was17')]},\n",
       " {'location': [29.77, -95.31],\n",
       "  'tweets': [Status(ID=831171766890459136, ScreenName=MBCAHouston, Created=Mon Feb 13 16:02:46 +0000 2017, Text='The latest The MBCA Houston Daily! https://t.co/b5IWEKpcd9 Thanks to @ARtvKimatni #actuallivingscientist #was17')]},\n",
       " {'location': [29.7, -95.36],\n",
       "  'tweets': [Status(ID=831171766890459136, ScreenName=MBCAHouston, Created=Mon Feb 13 16:02:46 +0000 2017, Text='The latest The MBCA Houston Daily! https://t.co/b5IWEKpcd9 Thanks to @ARtvKimatni #actuallivingscientist #was17')]},\n",
       " {'location': [29.83, -95.38],\n",
       "  'tweets': [Status(ID=831171766890459136, ScreenName=MBCAHouston, Created=Mon Feb 13 16:02:46 +0000 2017, Text='The latest The MBCA Houston Daily! https://t.co/b5IWEKpcd9 Thanks to @ARtvKimatni #actuallivingscientist #was17')]},\n",
       " {'location': [29.72, -95.32],\n",
       "  'tweets': [Status(ID=831171766890459136, ScreenName=MBCAHouston, Created=Mon Feb 13 16:02:46 +0000 2017, Text='The latest The MBCA Houston Daily! https://t.co/b5IWEKpcd9 Thanks to @ARtvKimatni #actuallivingscientist #was17')]},\n",
       " {'location': [29.77, -95.51],\n",
       "  'tweets': [Status(ID=831171766890459136, ScreenName=MBCAHouston, Created=Mon Feb 13 16:02:46 +0000 2017, Text='The latest The MBCA Houston Daily! https://t.co/b5IWEKpcd9 Thanks to @ARtvKimatni #actuallivingscientist #was17')]},\n",
       " {'location': [29.69, -95.43],\n",
       "  'tweets': [Status(ID=831171766890459136, ScreenName=MBCAHouston, Created=Mon Feb 13 16:02:46 +0000 2017, Text='The latest The MBCA Houston Daily! https://t.co/b5IWEKpcd9 Thanks to @ARtvKimatni #actuallivingscientist #was17')]},\n",
       " {'location': [29.8, -95.33],\n",
       "  'tweets': [Status(ID=831171766890459136, ScreenName=MBCAHouston, Created=Mon Feb 13 16:02:46 +0000 2017, Text='The latest The MBCA Houston Daily! https://t.co/b5IWEKpcd9 Thanks to @ARtvKimatni #actuallivingscientist #was17')]},\n",
       " {'location': [29.74, -95.45],\n",
       "  'tweets': [Status(ID=831171766890459136, ScreenName=MBCAHouston, Created=Mon Feb 13 16:02:46 +0000 2017, Text='The latest The MBCA Houston Daily! https://t.co/b5IWEKpcd9 Thanks to @ARtvKimatni #actuallivingscientist #was17')]},\n",
       " {'location': [29.83, -95.29],\n",
       "  'tweets': [Status(ID=831171766890459136, ScreenName=MBCAHouston, Created=Mon Feb 13 16:02:46 +0000 2017, Text='The latest The MBCA Houston Daily! https://t.co/b5IWEKpcd9 Thanks to @ARtvKimatni #actuallivingscientist #was17')]},\n",
       " {'location': [29.76, -95.26],\n",
       "  'tweets': [Status(ID=831171766890459136, ScreenName=MBCAHouston, Created=Mon Feb 13 16:02:46 +0000 2017, Text='The latest The MBCA Houston Daily! https://t.co/b5IWEKpcd9 Thanks to @ARtvKimatni #actuallivingscientist #was17')]},\n",
       " {'location': [29.71, -95.4],\n",
       "  'tweets': [Status(ID=831171766890459136, ScreenName=MBCAHouston, Created=Mon Feb 13 16:02:46 +0000 2017, Text='The latest The MBCA Houston Daily! https://t.co/b5IWEKpcd9 Thanks to @ARtvKimatni #actuallivingscientist #was17')]},\n",
       " {'location': [29.65, -95.55], 'tweets': []},\n",
       " {'location': [29.99, -95.35], 'tweets': []},\n",
       " {'location': [29.67, -95.34], 'tweets': []},\n",
       " {'location': [29.62, -95.19], 'tweets': []},\n",
       " {'location': [29.65, -95.48], 'tweets': []},\n",
       " {'location': [29.7, -95.53], 'tweets': []},\n",
       " {'location': [29.89, -95.39], 'tweets': []},\n",
       " {'location': [29.92, -95.44], 'tweets': []},\n",
       " {'location': [29.91, -95.34], 'tweets': []},\n",
       " {'location': [29.87, -95.53], 'tweets': []},\n",
       " {'location': [29.86, -95.58], 'tweets': []},\n",
       " {'location': [29.74, -95.56], 'tweets': []},\n",
       " {'location': [29.81, -95.58], 'tweets': []},\n",
       " {'location': [29.91, -95.18], 'tweets': []},\n",
       " {'location': [29.64, -95.43], 'tweets': []},\n",
       " {'location': [29.73, -95.43],\n",
       "  'tweets': [Status(ID=831171766890459136, ScreenName=MBCAHouston, Created=Mon Feb 13 16:02:46 +0000 2017, Text='The latest The MBCA Houston Daily! https://t.co/b5IWEKpcd9 Thanks to @ARtvKimatni #actuallivingscientist #was17')]},\n",
       " {'location': [29.61, -95.39], 'tweets': []},\n",
       " {'location': [29.62, -95.32], 'tweets': []},\n",
       " {'location': [29.83, -95.15], 'tweets': []},\n",
       " {'location': [29.9, -95.27], 'tweets': []},\n",
       " {'location': [29.66, -95.38], 'tweets': []},\n",
       " {'location': [29.58, -95.46], 'tweets': []},\n",
       " {'location': [29.68, -95.4],\n",
       "  'tweets': [Status(ID=831171766890459136, ScreenName=MBCAHouston, Created=Mon Feb 13 16:02:46 +0000 2017, Text='The latest The MBCA Houston Daily! https://t.co/b5IWEKpcd9 Thanks to @ARtvKimatni #actuallivingscientist #was17')]},\n",
       " {'location': [29.8, -95.49],\n",
       "  'tweets': [Status(ID=831171766890459136, ScreenName=MBCAHouston, Created=Mon Feb 13 16:02:46 +0000 2017, Text='The latest The MBCA Houston Daily! https://t.co/b5IWEKpcd9 Thanks to @ARtvKimatni #actuallivingscientist #was17')]},\n",
       " {'location': [29.75, -95.47],\n",
       "  'tweets': [Status(ID=831171766890459136, ScreenName=MBCAHouston, Created=Mon Feb 13 16:02:46 +0000 2017, Text='The latest The MBCA Houston Daily! https://t.co/b5IWEKpcd9 Thanks to @ARtvKimatni #actuallivingscientist #was17')]},\n",
       " {'location': [29.74, -95.49],\n",
       "  'tweets': [Status(ID=831171766890459136, ScreenName=MBCAHouston, Created=Mon Feb 13 16:02:46 +0000 2017, Text='The latest The MBCA Houston Daily! https://t.co/b5IWEKpcd9 Thanks to @ARtvKimatni #actuallivingscientist #was17')]},\n",
       " {'location': [29.56, -95.1], 'tweets': []},\n",
       " {'location': [29.61, -95.12], 'tweets': []},\n",
       " {'location': [29.93, -95.39], 'tweets': []},\n",
       " {'location': [29.65, -95.28], 'tweets': []},\n",
       " {'location': [29.57, -95.13], 'tweets': []},\n",
       " {'location': [29.74, -95.52],\n",
       "  'tweets': [Status(ID=831171766890459136, ScreenName=MBCAHouston, Created=Mon Feb 13 16:02:46 +0000 2017, Text='The latest The MBCA Houston Daily! https://t.co/b5IWEKpcd9 Thanks to @ARtvKimatni #actuallivingscientist #was17')]},\n",
       " {'location': [29.92, -95.54], 'tweets': []},\n",
       " {'location': [29.93, -95.6], 'tweets': []},\n",
       " {'location': [29.96, -95.5], 'tweets': []},\n",
       " {'location': [29.95, -95.45], 'tweets': []},\n",
       " {'location': [30.01, -95.49], 'tweets': []},\n",
       " {'location': [29.99, -95.53], 'tweets': []},\n",
       " {'location': [29.98, -95.57], 'tweets': []},\n",
       " {'location': [29.65, -95.52], 'tweets': []},\n",
       " {'location': [29.7, -95.58], 'tweets': []},\n",
       " {'location': [30.0, -95.4], 'tweets': []},\n",
       " {'location': [29.69, -95.52], 'tweets': []},\n",
       " {'location': [29.62, -95.27], 'tweets': []},\n",
       " {'location': [29.86, -95.38], 'tweets': []},\n",
       " {'location': [29.75, -95.62], 'tweets': []},\n",
       " {'location': [29.85, -95.25], 'tweets': []},\n",
       " {'location': [29.78, -95.6], 'tweets': []},\n",
       " {'location': [29.82, -95.52], 'tweets': []},\n",
       " {'location': [29.71, -95.48],\n",
       "  'tweets': [Status(ID=831171766890459136, ScreenName=MBCAHouston, Created=Mon Feb 13 16:02:46 +0000 2017, Text='The latest The MBCA Houston Daily! https://t.co/b5IWEKpcd9 Thanks to @ARtvKimatni #actuallivingscientist #was17')]},\n",
       " {'location': [29.72, -95.64], 'tweets': []},\n",
       " {'location': [29.69, -95.65], 'tweets': []},\n",
       " {'location': [29.83, -95.66], 'tweets': []},\n",
       " {'location': [29.62, -95.49], 'tweets': []},\n",
       " {'location': [29.92, -95.49], 'tweets': []},\n",
       " {'location': [29.69, -95.3],\n",
       "  'tweets': [Status(ID=831171766890459136, ScreenName=MBCAHouston, Created=Mon Feb 13 16:02:46 +0000 2017, Text='The latest The MBCA Houston Daily! https://t.co/b5IWEKpcd9 Thanks to @ARtvKimatni #actuallivingscientist #was17')]},\n",
       " {'location': [29.88, -95.45], 'tweets': []},\n",
       " {'location': [29.59, -95.23], 'tweets': []},\n",
       " {'location': [30.01, -95.44], 'tweets': []},\n",
       " {'location': [29.85, -95.44], 'tweets': []},\n",
       " {'location': [29.83, -95.47],\n",
       "  'tweets': [Status(ID=831171766890459136, ScreenName=MBCAHouston, Created=Mon Feb 13 16:02:46 +0000 2017, Text='The latest The MBCA Houston Daily! https://t.co/b5IWEKpcd9 Thanks to @ARtvKimatni #actuallivingscientist #was17')]},\n",
       " {'location': [29.86, -95.34], 'tweets': []},\n",
       " {'location': [29.77, -95.68], 'tweets': []},\n",
       " {'location': [29.91, -95.65], 'tweets': []},\n",
       " {'location': [29.68, -95.48], 'tweets': []},\n",
       " {'location': [29.76, -95.36],\n",
       "  'tweets': [Status(ID=831171766890459136, ScreenName=MBCAHouston, Created=Mon Feb 13 16:02:46 +0000 2017, Text='The latest The MBCA Houston Daily! https://t.co/b5IWEKpcd9 Thanks to @ARtvKimatni #actuallivingscientist #was17')]},\n",
       " {'location': [29.73, -95.42],\n",
       "  'tweets': [Status(ID=831171766890459136, ScreenName=MBCAHouston, Created=Mon Feb 13 16:02:46 +0000 2017, Text='The latest The MBCA Houston Daily! https://t.co/b5IWEKpcd9 Thanks to @ARtvKimatni #actuallivingscientist #was17')]},\n",
       " {'location': [29.67, -95.59], 'tweets': []},\n",
       " {'location': [29.77, -95.36],\n",
       "  'tweets': [Status(ID=831171766890459136, ScreenName=MBCAHouston, Created=Mon Feb 13 16:02:46 +0000 2017, Text='The latest The MBCA Houston Daily! https://t.co/b5IWEKpcd9 Thanks to @ARtvKimatni #actuallivingscientist #was17')]}]"
      ]
     },
     "execution_count": 95,
     "metadata": {},
     "output_type": "execute_result"
    }
   ],
   "source": [
    "arrayOfTweetsByLocat = []\n",
    "for index, row in GreaterHouston_Zip.iterrows():\n",
    "    lat = row['latitude']\n",
    "    long = row['longitude']\n",
    "    #results_forEach = api.GetSearch(raw_query=\"q=%23actuallivingscientist&geocode=29.719420,-95.401901,10km&result_type=recent&since=2017-02-01&count=1000\")\n",
    "    results_forEach = api.GetSearch(raw_query=\"q=%23actuallivingscientist&geocode={},{},10km&result_type=recent&since=2017-02-13&count=2\".format(lat,long))\n",
    "    arrayOfTweetsByLocat.append({\"location\":[lat,long],\"tweets\":results_forEach}) \n",
    "\n",
    "arrayOfTweetsByLocat"
   ]
  },
  {
   "cell_type": "code",
   "execution_count": 96,
   "metadata": {
    "collapsed": false
   },
   "outputs": [
    {
     "data": {
      "text/plain": [
       "list"
      ]
     },
     "execution_count": 96,
     "metadata": {},
     "output_type": "execute_result"
    }
   ],
   "source": [
    "type(arrayOfTweetsByLocat)"
   ]
  },
  {
   "cell_type": "code",
   "execution_count": 99,
   "metadata": {
    "collapsed": true
   },
   "outputs": [],
   "source": [
    "thefile = open('test.txt', 'w')\n",
    "for item in arrayOfTweetsByLocat:\n",
    "  thefile.write(\"%s\\n\" % item)"
   ]
  },
  {
   "cell_type": "code",
   "execution_count": null,
   "metadata": {
    "collapsed": true
   },
   "outputs": [],
   "source": []
  },
  {
   "cell_type": "code",
   "execution_count": 106,
   "metadata": {
    "collapsed": false
   },
   "outputs": [
    {
     "data": {
      "text/html": [
       "<div>\n",
       "<table border=\"1\" class=\"dataframe\">\n",
       "  <thead>\n",
       "    <tr style=\"text-align: right;\">\n",
       "      <th></th>\n",
       "      <th>irs_estimated_population_2014</th>\n",
       "      <th>latitude</th>\n",
       "      <th>longitude</th>\n",
       "      <th>zip</th>\n",
       "    </tr>\n",
       "  </thead>\n",
       "  <tbody>\n",
       "    <tr>\n",
       "      <th>count</th>\n",
       "      <td>98.000000</td>\n",
       "      <td>98.000000</td>\n",
       "      <td>98.000000</td>\n",
       "      <td>98.000000</td>\n",
       "    </tr>\n",
       "    <tr>\n",
       "      <th>mean</th>\n",
       "      <td>28525.510204</td>\n",
       "      <td>29.775510</td>\n",
       "      <td>-95.413367</td>\n",
       "      <td>77052.020408</td>\n",
       "    </tr>\n",
       "    <tr>\n",
       "      <th>std</th>\n",
       "      <td>15952.102219</td>\n",
       "      <td>0.112067</td>\n",
       "      <td>0.129391</td>\n",
       "      <td>32.243589</td>\n",
       "    </tr>\n",
       "    <tr>\n",
       "      <th>min</th>\n",
       "      <td>0.000000</td>\n",
       "      <td>29.560000</td>\n",
       "      <td>-95.680000</td>\n",
       "      <td>77002.000000</td>\n",
       "    </tr>\n",
       "    <tr>\n",
       "      <th>25%</th>\n",
       "      <td>17112.500000</td>\n",
       "      <td>29.692500</td>\n",
       "      <td>-95.497500</td>\n",
       "      <td>77026.250000</td>\n",
       "    </tr>\n",
       "    <tr>\n",
       "      <th>50%</th>\n",
       "      <td>27670.000000</td>\n",
       "      <td>29.760000</td>\n",
       "      <td>-95.420000</td>\n",
       "      <td>77050.500000</td>\n",
       "    </tr>\n",
       "    <tr>\n",
       "      <th>75%</th>\n",
       "      <td>35410.000000</td>\n",
       "      <td>29.857500</td>\n",
       "      <td>-95.340000</td>\n",
       "      <td>77075.750000</td>\n",
       "    </tr>\n",
       "    <tr>\n",
       "      <th>max</th>\n",
       "      <td>98370.000000</td>\n",
       "      <td>30.010000</td>\n",
       "      <td>-95.100000</td>\n",
       "      <td>77201.000000</td>\n",
       "    </tr>\n",
       "  </tbody>\n",
       "</table>\n",
       "</div>"
      ],
      "text/plain": [
       "       irs_estimated_population_2014   latitude  longitude           zip\n",
       "count                      98.000000  98.000000  98.000000     98.000000\n",
       "mean                    28525.510204  29.775510 -95.413367  77052.020408\n",
       "std                     15952.102219   0.112067   0.129391     32.243589\n",
       "min                         0.000000  29.560000 -95.680000  77002.000000\n",
       "25%                     17112.500000  29.692500 -95.497500  77026.250000\n",
       "50%                     27670.000000  29.760000 -95.420000  77050.500000\n",
       "75%                     35410.000000  29.857500 -95.340000  77075.750000\n",
       "max                     98370.000000  30.010000 -95.100000  77201.000000"
      ]
     },
     "execution_count": 106,
     "metadata": {},
     "output_type": "execute_result"
    }
   ],
   "source": [
    "GreaterHouston_Zip.describe()"
   ]
  },
  {
   "cell_type": "code",
   "execution_count": 108,
   "metadata": {
    "collapsed": false
   },
   "outputs": [],
   "source": [
    "GreaterHouston_Zip0t14 =  GreaterHouston_Zip[0:14]\n",
    "GreaterHouston_Zip15t29 =  GreaterHouston_Zip[15:29]\n",
    "GreaterHouston_Zip30t45 =  GreaterHouston_Zip[30:45]\n",
    "GreaterHouston_Zip46t60 =  GreaterHouston_Zip[46:60]\n",
    "GreaterHouston_Zip61t74 =  GreaterHouston_Zip[61:74]\n",
    "GreaterHouston_Zip75t85 =  GreaterHouston_Zip[75:85]\n",
    "GreaterHouston_Zip86t97 =  GreaterHouston_Zip[86:97]\n",
    "\n",
    "\n",
    "\n"
   ]
  },
  {
   "cell_type": "code",
   "execution_count": 134,
   "metadata": {
    "collapsed": false
   },
   "outputs": [
    {
     "data": {
      "text/plain": [
       "[{'location': [29.76, -95.37], 'tweets': []},\n",
       " {'location': [29.75, -95.35], 'tweets': []},\n",
       " {'location': [29.72, -95.36], 'tweets': []},\n",
       " {'location': [29.72, -95.42], 'tweets': []},\n",
       " {'location': [29.74, -95.39], 'tweets': []},\n",
       " {'location': [29.77, -95.41], 'tweets': []},\n",
       " {'location': [29.8, -95.42], 'tweets': []},\n",
       " {'location': [29.8, -95.37], 'tweets': []},\n",
       " {'location': [29.75, -95.36], 'tweets': []},\n",
       " {'location': [29.74, -95.31], 'tweets': []},\n",
       " {'location': [29.72, -95.27], 'tweets': []},\n",
       " {'location': [29.79, -95.23], 'tweets': []},\n",
       " {'location': [29.98, -95.46], 'tweets': []},\n",
       " {'location': [29.76, -95.17], 'tweets': []}]"
      ]
     },
     "execution_count": 134,
     "metadata": {},
     "output_type": "execute_result"
    }
   ],
   "source": [
    "arrayOfTweetsByLocatA1 = []\n",
    "for index, row in GreaterHouston_Zip0t14.iterrows():\n",
    "    lat = row['latitude']\n",
    "    long = row['longitude']\n",
    "    results_forEach = api.GetSearch(raw_query=\"q=%23actuallivingscientist&geocode={},{},4km&result_type=recent&since=2017-02-01&count=50\".format(lat,long))\n",
    "    arrayOfTweetsByLocatA1.append({\"location\":[lat,long],\"tweets\":results_forEach}) \n",
    "\n",
    "arrayOfTweetsByLocatA1"
   ]
  },
  {
   "cell_type": "code",
   "execution_count": 136,
   "metadata": {
    "collapsed": true
   },
   "outputs": [],
   "source": [
    "thefile_arrayOfTweetsByLocatA1 = open('GreaterHouston_Zip0t14.txt', 'w')\n",
    "for item in arrayOfTweetsByLocatA1:\n",
    "    thefile_arrayOfTweetsByLocatA1.write(\"%s\\n\" % item)"
   ]
  },
  {
   "cell_type": "markdown",
   "metadata": {},
   "source": [
    "GreaterHouston_Zip15t29"
   ]
  },
  {
   "cell_type": "code",
   "execution_count": 113,
   "metadata": {
    "collapsed": false
   },
   "outputs": [
    {
     "data": {
      "text/plain": [
       "[{'location': [29.69, -95.25], 'tweets': []},\n",
       " {'location': [29.83, -95.43],\n",
       "  'tweets': [Status(ID=831171766890459136, ScreenName=MBCAHouston, Created=Mon Feb 13 16:02:46 +0000 2017, Text='The latest The MBCA Houston Daily! https://t.co/b5IWEKpcd9 Thanks to @ARtvKimatni #actuallivingscientist #was17'),\n",
       "   Status(ID=830221799342223361, ScreenName=InsectophileJim, Created=Sat Feb 11 01:07:56 +0000 2017, Text='RT @RickLambeth: Brother of more than one #actuallivingfarmer... I had/got to be an #actuallivingscientist instead.  Just glad there is sti…'),\n",
       "   Status(ID=830172944928223232, ScreenName=RickLambeth, Created=Fri Feb 10 21:53:48 +0000 2017, Text='Brother of more than one #actuallivingfarmer... I had/got to be an #actuallivingscientist instead.  Just glad there… https://t.co/914l59Uai1'),\n",
       "   Status(ID=830068240059600901, ScreenName=karashosho01, Created=Fri Feb 10 14:57:45 +0000 2017, Text='#actuallivingscientist https://t.co/5Rcgaq43dE'),\n",
       "   Status(ID=829349170150592512, ScreenName=TDGiardina, Created=Wed Feb 08 15:20:25 +0000 2017, Text=\"I'm an #ActualSocialScientist in patient safety - exploring patients' experiences of diagnostic errors. #actuallivingscientist\"),\n",
       "   Status(ID=829349135509811201, ScreenName=CarlaLouisa, Created=Wed Feb 08 15:20:17 +0000 2017, Text=\"RT @DeltagrlNC: Hi I'm Angela and I'm a Microbiologist that test IV drugs for sterility. #actuallivingscientist #DressLikeAWoman https://t.…\"),\n",
       "   Status(ID=829104435783729153, ScreenName=InsectophileJim, Created=Tue Feb 07 23:07:56 +0000 2017, Text=\"RT @KathAGar: Hi, I'm Kathleen. I'm an #actuallivingscientist who studies ways that coastal communities can adapt to rising sea level and c…\"),\n",
       "   Status(ID=829026630874042371, ScreenName=KathAGar, Created=Tue Feb 07 17:58:46 +0000 2017, Text=\"Hi, I'm Kathleen. I'm an #actuallivingscientist who studies ways that coastal communities can adapt to rising sea l… https://t.co/WR9iN71xdi\"),\n",
       "   Status(ID=829013505441484801, ScreenName=CarlaLouisa, Created=Tue Feb 07 17:06:36 +0000 2017, Text=\"RT @drkristymurray: I'm an #ActualLivingScientist who studies infectious pathogens. I like to #DressLikeAWoman https://t.co/BOGK1Tpapa\"),\n",
       "   Status(ID=829005449123024896, ScreenName=Aiims1742, Created=Tue Feb 07 16:34:35 +0000 2017, Text='I would recommend everyone follow @ScientistTrump \\n#ActualLivingScientist https://t.co/J0nkOm6U2r'),\n",
       "   Status(ID=828827425740046336, ScreenName=MichaelAlliman, Created=Tue Feb 07 04:47:11 +0000 2017, Text='The fact that most of the respondents in this thread are women restores a shred of hope in me.  #actuallivingscientist'),\n",
       "   Status(ID=828700281055481857, ScreenName=momneph, Created=Mon Feb 06 20:21:58 +0000 2017, Text=\"RT @drkristymurray: I'm an #ActualLivingScientist who studies infectious pathogens. I like to #DressLikeAWoman https://t.co/BOGK1Tpapa\"),\n",
       "   Status(ID=828629679959658497, ScreenName=joan_mediator, Created=Mon Feb 06 15:41:25 +0000 2017, Text=\"RT @drkristymurray: I'm an #ActualLivingScientist who studies infectious pathogens. I like to #DressLikeAWoman https://t.co/BOGK1Tpapa\"),\n",
       "   Status(ID=828628126452301824, ScreenName=DavidFisman, Created=Mon Feb 06 15:35:15 +0000 2017, Text=\"RT @drkristymurray: I'm an #ActualLivingScientist who studies infectious pathogens. I like to #DressLikeAWoman https://t.co/BOGK1Tpapa\"),\n",
       "   Status(ID=828627918083481600, ScreenName=DiagnosticChick, Created=Mon Feb 06 15:34:25 +0000 2017, Text=\"RT @drkristymurray: I'm an #ActualLivingScientist who studies infectious pathogens. I like to #DressLikeAWoman https://t.co/BOGK1Tpapa\"),\n",
       "   Status(ID=828385188677816320, ScreenName=BCM_TropMed, Created=Sun Feb 05 23:29:54 +0000 2017, Text=\"RT @drkristymurray: I'm an #ActualLivingScientist who studies infectious pathogens. I like to #DressLikeAWoman https://t.co/BOGK1Tpapa\"),\n",
       "   Status(ID=828373352205185025, ScreenName=QutubLab, Created=Sun Feb 05 22:42:52 +0000 2017, Text='Congrats to @arun_mahadevan who won an IBB travel award to present his studies on developing neurons!… https://t.co/0nn37tr9Nh'),\n",
       "   Status(ID=828368849527566336, ScreenName=dmfitz424, Created=Sun Feb 05 22:24:58 +0000 2017, Text=\"I'm an #actuallivingscientist and I always #DressLikeAWoman! #MadScientist #ScienceMarch #ScienceMarchHOU https://t.co/1ifM5XbIQB\")]},\n",
       " {'location': [29.76, -95.38],\n",
       "  'tweets': [Status(ID=831171766890459136, ScreenName=MBCAHouston, Created=Mon Feb 13 16:02:46 +0000 2017, Text='The latest The MBCA Houston Daily! https://t.co/b5IWEKpcd9 Thanks to @ARtvKimatni #actuallivingscientist #was17'),\n",
       "   Status(ID=830221799342223361, ScreenName=InsectophileJim, Created=Sat Feb 11 01:07:56 +0000 2017, Text='RT @RickLambeth: Brother of more than one #actuallivingfarmer... I had/got to be an #actuallivingscientist instead.  Just glad there is sti…'),\n",
       "   Status(ID=830172944928223232, ScreenName=RickLambeth, Created=Fri Feb 10 21:53:48 +0000 2017, Text='Brother of more than one #actuallivingfarmer... I had/got to be an #actuallivingscientist instead.  Just glad there… https://t.co/914l59Uai1'),\n",
       "   Status(ID=830068240059600901, ScreenName=karashosho01, Created=Fri Feb 10 14:57:45 +0000 2017, Text='#actuallivingscientist https://t.co/5Rcgaq43dE'),\n",
       "   Status(ID=829349170150592512, ScreenName=TDGiardina, Created=Wed Feb 08 15:20:25 +0000 2017, Text=\"I'm an #ActualSocialScientist in patient safety - exploring patients' experiences of diagnostic errors. #actuallivingscientist\"),\n",
       "   Status(ID=829349135509811201, ScreenName=CarlaLouisa, Created=Wed Feb 08 15:20:17 +0000 2017, Text=\"RT @DeltagrlNC: Hi I'm Angela and I'm a Microbiologist that test IV drugs for sterility. #actuallivingscientist #DressLikeAWoman https://t.…\"),\n",
       "   Status(ID=829104435783729153, ScreenName=InsectophileJim, Created=Tue Feb 07 23:07:56 +0000 2017, Text=\"RT @KathAGar: Hi, I'm Kathleen. I'm an #actuallivingscientist who studies ways that coastal communities can adapt to rising sea level and c…\"),\n",
       "   Status(ID=829026630874042371, ScreenName=KathAGar, Created=Tue Feb 07 17:58:46 +0000 2017, Text=\"Hi, I'm Kathleen. I'm an #actuallivingscientist who studies ways that coastal communities can adapt to rising sea l… https://t.co/WR9iN71xdi\"),\n",
       "   Status(ID=829013505441484801, ScreenName=CarlaLouisa, Created=Tue Feb 07 17:06:36 +0000 2017, Text=\"RT @drkristymurray: I'm an #ActualLivingScientist who studies infectious pathogens. I like to #DressLikeAWoman https://t.co/BOGK1Tpapa\"),\n",
       "   Status(ID=829005449123024896, ScreenName=Aiims1742, Created=Tue Feb 07 16:34:35 +0000 2017, Text='I would recommend everyone follow @ScientistTrump \\n#ActualLivingScientist https://t.co/J0nkOm6U2r'),\n",
       "   Status(ID=828827425740046336, ScreenName=MichaelAlliman, Created=Tue Feb 07 04:47:11 +0000 2017, Text='The fact that most of the respondents in this thread are women restores a shred of hope in me.  #actuallivingscientist'),\n",
       "   Status(ID=828700281055481857, ScreenName=momneph, Created=Mon Feb 06 20:21:58 +0000 2017, Text=\"RT @drkristymurray: I'm an #ActualLivingScientist who studies infectious pathogens. I like to #DressLikeAWoman https://t.co/BOGK1Tpapa\"),\n",
       "   Status(ID=828629679959658497, ScreenName=joan_mediator, Created=Mon Feb 06 15:41:25 +0000 2017, Text=\"RT @drkristymurray: I'm an #ActualLivingScientist who studies infectious pathogens. I like to #DressLikeAWoman https://t.co/BOGK1Tpapa\"),\n",
       "   Status(ID=828628126452301824, ScreenName=DavidFisman, Created=Mon Feb 06 15:35:15 +0000 2017, Text=\"RT @drkristymurray: I'm an #ActualLivingScientist who studies infectious pathogens. I like to #DressLikeAWoman https://t.co/BOGK1Tpapa\"),\n",
       "   Status(ID=828627918083481600, ScreenName=DiagnosticChick, Created=Mon Feb 06 15:34:25 +0000 2017, Text=\"RT @drkristymurray: I'm an #ActualLivingScientist who studies infectious pathogens. I like to #DressLikeAWoman https://t.co/BOGK1Tpapa\"),\n",
       "   Status(ID=828385188677816320, ScreenName=BCM_TropMed, Created=Sun Feb 05 23:29:54 +0000 2017, Text=\"RT @drkristymurray: I'm an #ActualLivingScientist who studies infectious pathogens. I like to #DressLikeAWoman https://t.co/BOGK1Tpapa\"),\n",
       "   Status(ID=828373352205185025, ScreenName=QutubLab, Created=Sun Feb 05 22:42:52 +0000 2017, Text='Congrats to @arun_mahadevan who won an IBB travel award to present his studies on developing neurons!… https://t.co/0nn37tr9Nh'),\n",
       "   Status(ID=828368849527566336, ScreenName=dmfitz424, Created=Sun Feb 05 22:24:58 +0000 2017, Text=\"I'm an #actuallivingscientist and I always #DressLikeAWoman! #MadScientist #ScienceMarch #ScienceMarchHOU https://t.co/1ifM5XbIQB\")]},\n",
       " {'location': [29.77, -95.31],\n",
       "  'tweets': [Status(ID=831171766890459136, ScreenName=MBCAHouston, Created=Mon Feb 13 16:02:46 +0000 2017, Text='The latest The MBCA Houston Daily! https://t.co/b5IWEKpcd9 Thanks to @ARtvKimatni #actuallivingscientist #was17'),\n",
       "   Status(ID=830221799342223361, ScreenName=InsectophileJim, Created=Sat Feb 11 01:07:56 +0000 2017, Text='RT @RickLambeth: Brother of more than one #actuallivingfarmer... I had/got to be an #actuallivingscientist instead.  Just glad there is sti…'),\n",
       "   Status(ID=830172944928223232, ScreenName=RickLambeth, Created=Fri Feb 10 21:53:48 +0000 2017, Text='Brother of more than one #actuallivingfarmer... I had/got to be an #actuallivingscientist instead.  Just glad there… https://t.co/914l59Uai1'),\n",
       "   Status(ID=830068240059600901, ScreenName=karashosho01, Created=Fri Feb 10 14:57:45 +0000 2017, Text='#actuallivingscientist https://t.co/5Rcgaq43dE'),\n",
       "   Status(ID=829349170150592512, ScreenName=TDGiardina, Created=Wed Feb 08 15:20:25 +0000 2017, Text=\"I'm an #ActualSocialScientist in patient safety - exploring patients' experiences of diagnostic errors. #actuallivingscientist\"),\n",
       "   Status(ID=829349135509811201, ScreenName=CarlaLouisa, Created=Wed Feb 08 15:20:17 +0000 2017, Text=\"RT @DeltagrlNC: Hi I'm Angela and I'm a Microbiologist that test IV drugs for sterility. #actuallivingscientist #DressLikeAWoman https://t.…\"),\n",
       "   Status(ID=829104435783729153, ScreenName=InsectophileJim, Created=Tue Feb 07 23:07:56 +0000 2017, Text=\"RT @KathAGar: Hi, I'm Kathleen. I'm an #actuallivingscientist who studies ways that coastal communities can adapt to rising sea level and c…\"),\n",
       "   Status(ID=829026630874042371, ScreenName=KathAGar, Created=Tue Feb 07 17:58:46 +0000 2017, Text=\"Hi, I'm Kathleen. I'm an #actuallivingscientist who studies ways that coastal communities can adapt to rising sea l… https://t.co/WR9iN71xdi\"),\n",
       "   Status(ID=829013505441484801, ScreenName=CarlaLouisa, Created=Tue Feb 07 17:06:36 +0000 2017, Text=\"RT @drkristymurray: I'm an #ActualLivingScientist who studies infectious pathogens. I like to #DressLikeAWoman https://t.co/BOGK1Tpapa\"),\n",
       "   Status(ID=829005449123024896, ScreenName=Aiims1742, Created=Tue Feb 07 16:34:35 +0000 2017, Text='I would recommend everyone follow @ScientistTrump \\n#ActualLivingScientist https://t.co/J0nkOm6U2r'),\n",
       "   Status(ID=828827425740046336, ScreenName=MichaelAlliman, Created=Tue Feb 07 04:47:11 +0000 2017, Text='The fact that most of the respondents in this thread are women restores a shred of hope in me.  #actuallivingscientist'),\n",
       "   Status(ID=828700281055481857, ScreenName=momneph, Created=Mon Feb 06 20:21:58 +0000 2017, Text=\"RT @drkristymurray: I'm an #ActualLivingScientist who studies infectious pathogens. I like to #DressLikeAWoman https://t.co/BOGK1Tpapa\"),\n",
       "   Status(ID=828629679959658497, ScreenName=joan_mediator, Created=Mon Feb 06 15:41:25 +0000 2017, Text=\"RT @drkristymurray: I'm an #ActualLivingScientist who studies infectious pathogens. I like to #DressLikeAWoman https://t.co/BOGK1Tpapa\"),\n",
       "   Status(ID=828628126452301824, ScreenName=DavidFisman, Created=Mon Feb 06 15:35:15 +0000 2017, Text=\"RT @drkristymurray: I'm an #ActualLivingScientist who studies infectious pathogens. I like to #DressLikeAWoman https://t.co/BOGK1Tpapa\"),\n",
       "   Status(ID=828627918083481600, ScreenName=DiagnosticChick, Created=Mon Feb 06 15:34:25 +0000 2017, Text=\"RT @drkristymurray: I'm an #ActualLivingScientist who studies infectious pathogens. I like to #DressLikeAWoman https://t.co/BOGK1Tpapa\"),\n",
       "   Status(ID=828385188677816320, ScreenName=BCM_TropMed, Created=Sun Feb 05 23:29:54 +0000 2017, Text=\"RT @drkristymurray: I'm an #ActualLivingScientist who studies infectious pathogens. I like to #DressLikeAWoman https://t.co/BOGK1Tpapa\"),\n",
       "   Status(ID=828373352205185025, ScreenName=QutubLab, Created=Sun Feb 05 22:42:52 +0000 2017, Text='Congrats to @arun_mahadevan who won an IBB travel award to present his studies on developing neurons!… https://t.co/0nn37tr9Nh'),\n",
       "   Status(ID=828368849527566336, ScreenName=dmfitz424, Created=Sun Feb 05 22:24:58 +0000 2017, Text=\"I'm an #actuallivingscientist and I always #DressLikeAWoman! #MadScientist #ScienceMarch #ScienceMarchHOU https://t.co/1ifM5XbIQB\")]},\n",
       " {'location': [29.7, -95.36],\n",
       "  'tweets': [Status(ID=831171766890459136, ScreenName=MBCAHouston, Created=Mon Feb 13 16:02:46 +0000 2017, Text='The latest The MBCA Houston Daily! https://t.co/b5IWEKpcd9 Thanks to @ARtvKimatni #actuallivingscientist #was17'),\n",
       "   Status(ID=830221799342223361, ScreenName=InsectophileJim, Created=Sat Feb 11 01:07:56 +0000 2017, Text='RT @RickLambeth: Brother of more than one #actuallivingfarmer... I had/got to be an #actuallivingscientist instead.  Just glad there is sti…'),\n",
       "   Status(ID=830172944928223232, ScreenName=RickLambeth, Created=Fri Feb 10 21:53:48 +0000 2017, Text='Brother of more than one #actuallivingfarmer... I had/got to be an #actuallivingscientist instead.  Just glad there… https://t.co/914l59Uai1'),\n",
       "   Status(ID=830068240059600901, ScreenName=karashosho01, Created=Fri Feb 10 14:57:45 +0000 2017, Text='#actuallivingscientist https://t.co/5Rcgaq43dE'),\n",
       "   Status(ID=829349170150592512, ScreenName=TDGiardina, Created=Wed Feb 08 15:20:25 +0000 2017, Text=\"I'm an #ActualSocialScientist in patient safety - exploring patients' experiences of diagnostic errors. #actuallivingscientist\"),\n",
       "   Status(ID=829349135509811201, ScreenName=CarlaLouisa, Created=Wed Feb 08 15:20:17 +0000 2017, Text=\"RT @DeltagrlNC: Hi I'm Angela and I'm a Microbiologist that test IV drugs for sterility. #actuallivingscientist #DressLikeAWoman https://t.…\"),\n",
       "   Status(ID=829104435783729153, ScreenName=InsectophileJim, Created=Tue Feb 07 23:07:56 +0000 2017, Text=\"RT @KathAGar: Hi, I'm Kathleen. I'm an #actuallivingscientist who studies ways that coastal communities can adapt to rising sea level and c…\"),\n",
       "   Status(ID=829026630874042371, ScreenName=KathAGar, Created=Tue Feb 07 17:58:46 +0000 2017, Text=\"Hi, I'm Kathleen. I'm an #actuallivingscientist who studies ways that coastal communities can adapt to rising sea l… https://t.co/WR9iN71xdi\"),\n",
       "   Status(ID=829013505441484801, ScreenName=CarlaLouisa, Created=Tue Feb 07 17:06:36 +0000 2017, Text=\"RT @drkristymurray: I'm an #ActualLivingScientist who studies infectious pathogens. I like to #DressLikeAWoman https://t.co/BOGK1Tpapa\"),\n",
       "   Status(ID=829005449123024896, ScreenName=Aiims1742, Created=Tue Feb 07 16:34:35 +0000 2017, Text='I would recommend everyone follow @ScientistTrump \\n#ActualLivingScientist https://t.co/J0nkOm6U2r'),\n",
       "   Status(ID=828827425740046336, ScreenName=MichaelAlliman, Created=Tue Feb 07 04:47:11 +0000 2017, Text='The fact that most of the respondents in this thread are women restores a shred of hope in me.  #actuallivingscientist'),\n",
       "   Status(ID=828700281055481857, ScreenName=momneph, Created=Mon Feb 06 20:21:58 +0000 2017, Text=\"RT @drkristymurray: I'm an #ActualLivingScientist who studies infectious pathogens. I like to #DressLikeAWoman https://t.co/BOGK1Tpapa\"),\n",
       "   Status(ID=828629679959658497, ScreenName=joan_mediator, Created=Mon Feb 06 15:41:25 +0000 2017, Text=\"RT @drkristymurray: I'm an #ActualLivingScientist who studies infectious pathogens. I like to #DressLikeAWoman https://t.co/BOGK1Tpapa\"),\n",
       "   Status(ID=828628126452301824, ScreenName=DavidFisman, Created=Mon Feb 06 15:35:15 +0000 2017, Text=\"RT @drkristymurray: I'm an #ActualLivingScientist who studies infectious pathogens. I like to #DressLikeAWoman https://t.co/BOGK1Tpapa\"),\n",
       "   Status(ID=828627918083481600, ScreenName=DiagnosticChick, Created=Mon Feb 06 15:34:25 +0000 2017, Text=\"RT @drkristymurray: I'm an #ActualLivingScientist who studies infectious pathogens. I like to #DressLikeAWoman https://t.co/BOGK1Tpapa\"),\n",
       "   Status(ID=828385188677816320, ScreenName=BCM_TropMed, Created=Sun Feb 05 23:29:54 +0000 2017, Text=\"RT @drkristymurray: I'm an #ActualLivingScientist who studies infectious pathogens. I like to #DressLikeAWoman https://t.co/BOGK1Tpapa\"),\n",
       "   Status(ID=828373352205185025, ScreenName=QutubLab, Created=Sun Feb 05 22:42:52 +0000 2017, Text='Congrats to @arun_mahadevan who won an IBB travel award to present his studies on developing neurons!… https://t.co/0nn37tr9Nh'),\n",
       "   Status(ID=828368849527566336, ScreenName=dmfitz424, Created=Sun Feb 05 22:24:58 +0000 2017, Text=\"I'm an #actuallivingscientist and I always #DressLikeAWoman! #MadScientist #ScienceMarch #ScienceMarchHOU https://t.co/1ifM5XbIQB\")]},\n",
       " {'location': [29.83, -95.38],\n",
       "  'tweets': [Status(ID=831171766890459136, ScreenName=MBCAHouston, Created=Mon Feb 13 16:02:46 +0000 2017, Text='The latest The MBCA Houston Daily! https://t.co/b5IWEKpcd9 Thanks to @ARtvKimatni #actuallivingscientist #was17'),\n",
       "   Status(ID=830221799342223361, ScreenName=InsectophileJim, Created=Sat Feb 11 01:07:56 +0000 2017, Text='RT @RickLambeth: Brother of more than one #actuallivingfarmer... I had/got to be an #actuallivingscientist instead.  Just glad there is sti…'),\n",
       "   Status(ID=830172944928223232, ScreenName=RickLambeth, Created=Fri Feb 10 21:53:48 +0000 2017, Text='Brother of more than one #actuallivingfarmer... I had/got to be an #actuallivingscientist instead.  Just glad there… https://t.co/914l59Uai1'),\n",
       "   Status(ID=830068240059600901, ScreenName=karashosho01, Created=Fri Feb 10 14:57:45 +0000 2017, Text='#actuallivingscientist https://t.co/5Rcgaq43dE'),\n",
       "   Status(ID=829349170150592512, ScreenName=TDGiardina, Created=Wed Feb 08 15:20:25 +0000 2017, Text=\"I'm an #ActualSocialScientist in patient safety - exploring patients' experiences of diagnostic errors. #actuallivingscientist\"),\n",
       "   Status(ID=829349135509811201, ScreenName=CarlaLouisa, Created=Wed Feb 08 15:20:17 +0000 2017, Text=\"RT @DeltagrlNC: Hi I'm Angela and I'm a Microbiologist that test IV drugs for sterility. #actuallivingscientist #DressLikeAWoman https://t.…\"),\n",
       "   Status(ID=829104435783729153, ScreenName=InsectophileJim, Created=Tue Feb 07 23:07:56 +0000 2017, Text=\"RT @KathAGar: Hi, I'm Kathleen. I'm an #actuallivingscientist who studies ways that coastal communities can adapt to rising sea level and c…\"),\n",
       "   Status(ID=829026630874042371, ScreenName=KathAGar, Created=Tue Feb 07 17:58:46 +0000 2017, Text=\"Hi, I'm Kathleen. I'm an #actuallivingscientist who studies ways that coastal communities can adapt to rising sea l… https://t.co/WR9iN71xdi\"),\n",
       "   Status(ID=829013505441484801, ScreenName=CarlaLouisa, Created=Tue Feb 07 17:06:36 +0000 2017, Text=\"RT @drkristymurray: I'm an #ActualLivingScientist who studies infectious pathogens. I like to #DressLikeAWoman https://t.co/BOGK1Tpapa\"),\n",
       "   Status(ID=829005449123024896, ScreenName=Aiims1742, Created=Tue Feb 07 16:34:35 +0000 2017, Text='I would recommend everyone follow @ScientistTrump \\n#ActualLivingScientist https://t.co/J0nkOm6U2r'),\n",
       "   Status(ID=828827425740046336, ScreenName=MichaelAlliman, Created=Tue Feb 07 04:47:11 +0000 2017, Text='The fact that most of the respondents in this thread are women restores a shred of hope in me.  #actuallivingscientist'),\n",
       "   Status(ID=828700281055481857, ScreenName=momneph, Created=Mon Feb 06 20:21:58 +0000 2017, Text=\"RT @drkristymurray: I'm an #ActualLivingScientist who studies infectious pathogens. I like to #DressLikeAWoman https://t.co/BOGK1Tpapa\"),\n",
       "   Status(ID=828629679959658497, ScreenName=joan_mediator, Created=Mon Feb 06 15:41:25 +0000 2017, Text=\"RT @drkristymurray: I'm an #ActualLivingScientist who studies infectious pathogens. I like to #DressLikeAWoman https://t.co/BOGK1Tpapa\"),\n",
       "   Status(ID=828628126452301824, ScreenName=DavidFisman, Created=Mon Feb 06 15:35:15 +0000 2017, Text=\"RT @drkristymurray: I'm an #ActualLivingScientist who studies infectious pathogens. I like to #DressLikeAWoman https://t.co/BOGK1Tpapa\"),\n",
       "   Status(ID=828627918083481600, ScreenName=DiagnosticChick, Created=Mon Feb 06 15:34:25 +0000 2017, Text=\"RT @drkristymurray: I'm an #ActualLivingScientist who studies infectious pathogens. I like to #DressLikeAWoman https://t.co/BOGK1Tpapa\"),\n",
       "   Status(ID=828385188677816320, ScreenName=BCM_TropMed, Created=Sun Feb 05 23:29:54 +0000 2017, Text=\"RT @drkristymurray: I'm an #ActualLivingScientist who studies infectious pathogens. I like to #DressLikeAWoman https://t.co/BOGK1Tpapa\"),\n",
       "   Status(ID=828373352205185025, ScreenName=QutubLab, Created=Sun Feb 05 22:42:52 +0000 2017, Text='Congrats to @arun_mahadevan who won an IBB travel award to present his studies on developing neurons!… https://t.co/0nn37tr9Nh'),\n",
       "   Status(ID=828368849527566336, ScreenName=dmfitz424, Created=Sun Feb 05 22:24:58 +0000 2017, Text=\"I'm an #actuallivingscientist and I always #DressLikeAWoman! #MadScientist #ScienceMarch #ScienceMarchHOU https://t.co/1ifM5XbIQB\")]},\n",
       " {'location': [29.72, -95.32],\n",
       "  'tweets': [Status(ID=831171766890459136, ScreenName=MBCAHouston, Created=Mon Feb 13 16:02:46 +0000 2017, Text='The latest The MBCA Houston Daily! https://t.co/b5IWEKpcd9 Thanks to @ARtvKimatni #actuallivingscientist #was17'),\n",
       "   Status(ID=830221799342223361, ScreenName=InsectophileJim, Created=Sat Feb 11 01:07:56 +0000 2017, Text='RT @RickLambeth: Brother of more than one #actuallivingfarmer... I had/got to be an #actuallivingscientist instead.  Just glad there is sti…'),\n",
       "   Status(ID=830172944928223232, ScreenName=RickLambeth, Created=Fri Feb 10 21:53:48 +0000 2017, Text='Brother of more than one #actuallivingfarmer... I had/got to be an #actuallivingscientist instead.  Just glad there… https://t.co/914l59Uai1'),\n",
       "   Status(ID=830068240059600901, ScreenName=karashosho01, Created=Fri Feb 10 14:57:45 +0000 2017, Text='#actuallivingscientist https://t.co/5Rcgaq43dE'),\n",
       "   Status(ID=829349170150592512, ScreenName=TDGiardina, Created=Wed Feb 08 15:20:25 +0000 2017, Text=\"I'm an #ActualSocialScientist in patient safety - exploring patients' experiences of diagnostic errors. #actuallivingscientist\"),\n",
       "   Status(ID=829349135509811201, ScreenName=CarlaLouisa, Created=Wed Feb 08 15:20:17 +0000 2017, Text=\"RT @DeltagrlNC: Hi I'm Angela and I'm a Microbiologist that test IV drugs for sterility. #actuallivingscientist #DressLikeAWoman https://t.…\"),\n",
       "   Status(ID=829104435783729153, ScreenName=InsectophileJim, Created=Tue Feb 07 23:07:56 +0000 2017, Text=\"RT @KathAGar: Hi, I'm Kathleen. I'm an #actuallivingscientist who studies ways that coastal communities can adapt to rising sea level and c…\"),\n",
       "   Status(ID=829026630874042371, ScreenName=KathAGar, Created=Tue Feb 07 17:58:46 +0000 2017, Text=\"Hi, I'm Kathleen. I'm an #actuallivingscientist who studies ways that coastal communities can adapt to rising sea l… https://t.co/WR9iN71xdi\"),\n",
       "   Status(ID=829013505441484801, ScreenName=CarlaLouisa, Created=Tue Feb 07 17:06:36 +0000 2017, Text=\"RT @drkristymurray: I'm an #ActualLivingScientist who studies infectious pathogens. I like to #DressLikeAWoman https://t.co/BOGK1Tpapa\"),\n",
       "   Status(ID=829005449123024896, ScreenName=Aiims1742, Created=Tue Feb 07 16:34:35 +0000 2017, Text='I would recommend everyone follow @ScientistTrump \\n#ActualLivingScientist https://t.co/J0nkOm6U2r'),\n",
       "   Status(ID=828827425740046336, ScreenName=MichaelAlliman, Created=Tue Feb 07 04:47:11 +0000 2017, Text='The fact that most of the respondents in this thread are women restores a shred of hope in me.  #actuallivingscientist'),\n",
       "   Status(ID=828700281055481857, ScreenName=momneph, Created=Mon Feb 06 20:21:58 +0000 2017, Text=\"RT @drkristymurray: I'm an #ActualLivingScientist who studies infectious pathogens. I like to #DressLikeAWoman https://t.co/BOGK1Tpapa\"),\n",
       "   Status(ID=828629679959658497, ScreenName=joan_mediator, Created=Mon Feb 06 15:41:25 +0000 2017, Text=\"RT @drkristymurray: I'm an #ActualLivingScientist who studies infectious pathogens. I like to #DressLikeAWoman https://t.co/BOGK1Tpapa\"),\n",
       "   Status(ID=828628126452301824, ScreenName=DavidFisman, Created=Mon Feb 06 15:35:15 +0000 2017, Text=\"RT @drkristymurray: I'm an #ActualLivingScientist who studies infectious pathogens. I like to #DressLikeAWoman https://t.co/BOGK1Tpapa\"),\n",
       "   Status(ID=828627918083481600, ScreenName=DiagnosticChick, Created=Mon Feb 06 15:34:25 +0000 2017, Text=\"RT @drkristymurray: I'm an #ActualLivingScientist who studies infectious pathogens. I like to #DressLikeAWoman https://t.co/BOGK1Tpapa\"),\n",
       "   Status(ID=828385188677816320, ScreenName=BCM_TropMed, Created=Sun Feb 05 23:29:54 +0000 2017, Text=\"RT @drkristymurray: I'm an #ActualLivingScientist who studies infectious pathogens. I like to #DressLikeAWoman https://t.co/BOGK1Tpapa\"),\n",
       "   Status(ID=828373352205185025, ScreenName=QutubLab, Created=Sun Feb 05 22:42:52 +0000 2017, Text='Congrats to @arun_mahadevan who won an IBB travel award to present his studies on developing neurons!… https://t.co/0nn37tr9Nh'),\n",
       "   Status(ID=828368849527566336, ScreenName=dmfitz424, Created=Sun Feb 05 22:24:58 +0000 2017, Text=\"I'm an #actuallivingscientist and I always #DressLikeAWoman! #MadScientist #ScienceMarch #ScienceMarchHOU https://t.co/1ifM5XbIQB\")]},\n",
       " {'location': [29.77, -95.51],\n",
       "  'tweets': [Status(ID=831171766890459136, ScreenName=MBCAHouston, Created=Mon Feb 13 16:02:46 +0000 2017, Text='The latest The MBCA Houston Daily! https://t.co/b5IWEKpcd9 Thanks to @ARtvKimatni #actuallivingscientist #was17'),\n",
       "   Status(ID=830221799342223361, ScreenName=InsectophileJim, Created=Sat Feb 11 01:07:56 +0000 2017, Text='RT @RickLambeth: Brother of more than one #actuallivingfarmer... I had/got to be an #actuallivingscientist instead.  Just glad there is sti…'),\n",
       "   Status(ID=830172944928223232, ScreenName=RickLambeth, Created=Fri Feb 10 21:53:48 +0000 2017, Text='Brother of more than one #actuallivingfarmer... I had/got to be an #actuallivingscientist instead.  Just glad there… https://t.co/914l59Uai1'),\n",
       "   Status(ID=830068240059600901, ScreenName=karashosho01, Created=Fri Feb 10 14:57:45 +0000 2017, Text='#actuallivingscientist https://t.co/5Rcgaq43dE'),\n",
       "   Status(ID=829349170150592512, ScreenName=TDGiardina, Created=Wed Feb 08 15:20:25 +0000 2017, Text=\"I'm an #ActualSocialScientist in patient safety - exploring patients' experiences of diagnostic errors. #actuallivingscientist\"),\n",
       "   Status(ID=829349135509811201, ScreenName=CarlaLouisa, Created=Wed Feb 08 15:20:17 +0000 2017, Text=\"RT @DeltagrlNC: Hi I'm Angela and I'm a Microbiologist that test IV drugs for sterility. #actuallivingscientist #DressLikeAWoman https://t.…\"),\n",
       "   Status(ID=829104435783729153, ScreenName=InsectophileJim, Created=Tue Feb 07 23:07:56 +0000 2017, Text=\"RT @KathAGar: Hi, I'm Kathleen. I'm an #actuallivingscientist who studies ways that coastal communities can adapt to rising sea level and c…\"),\n",
       "   Status(ID=829026630874042371, ScreenName=KathAGar, Created=Tue Feb 07 17:58:46 +0000 2017, Text=\"Hi, I'm Kathleen. I'm an #actuallivingscientist who studies ways that coastal communities can adapt to rising sea l… https://t.co/WR9iN71xdi\"),\n",
       "   Status(ID=829013505441484801, ScreenName=CarlaLouisa, Created=Tue Feb 07 17:06:36 +0000 2017, Text=\"RT @drkristymurray: I'm an #ActualLivingScientist who studies infectious pathogens. I like to #DressLikeAWoman https://t.co/BOGK1Tpapa\"),\n",
       "   Status(ID=829005449123024896, ScreenName=Aiims1742, Created=Tue Feb 07 16:34:35 +0000 2017, Text='I would recommend everyone follow @ScientistTrump \\n#ActualLivingScientist https://t.co/J0nkOm6U2r'),\n",
       "   Status(ID=828827425740046336, ScreenName=MichaelAlliman, Created=Tue Feb 07 04:47:11 +0000 2017, Text='The fact that most of the respondents in this thread are women restores a shred of hope in me.  #actuallivingscientist'),\n",
       "   Status(ID=828700281055481857, ScreenName=momneph, Created=Mon Feb 06 20:21:58 +0000 2017, Text=\"RT @drkristymurray: I'm an #ActualLivingScientist who studies infectious pathogens. I like to #DressLikeAWoman https://t.co/BOGK1Tpapa\"),\n",
       "   Status(ID=828629679959658497, ScreenName=joan_mediator, Created=Mon Feb 06 15:41:25 +0000 2017, Text=\"RT @drkristymurray: I'm an #ActualLivingScientist who studies infectious pathogens. I like to #DressLikeAWoman https://t.co/BOGK1Tpapa\"),\n",
       "   Status(ID=828628126452301824, ScreenName=DavidFisman, Created=Mon Feb 06 15:35:15 +0000 2017, Text=\"RT @drkristymurray: I'm an #ActualLivingScientist who studies infectious pathogens. I like to #DressLikeAWoman https://t.co/BOGK1Tpapa\"),\n",
       "   Status(ID=828627918083481600, ScreenName=DiagnosticChick, Created=Mon Feb 06 15:34:25 +0000 2017, Text=\"RT @drkristymurray: I'm an #ActualLivingScientist who studies infectious pathogens. I like to #DressLikeAWoman https://t.co/BOGK1Tpapa\"),\n",
       "   Status(ID=828385188677816320, ScreenName=BCM_TropMed, Created=Sun Feb 05 23:29:54 +0000 2017, Text=\"RT @drkristymurray: I'm an #ActualLivingScientist who studies infectious pathogens. I like to #DressLikeAWoman https://t.co/BOGK1Tpapa\"),\n",
       "   Status(ID=828373352205185025, ScreenName=QutubLab, Created=Sun Feb 05 22:42:52 +0000 2017, Text='Congrats to @arun_mahadevan who won an IBB travel award to present his studies on developing neurons!… https://t.co/0nn37tr9Nh'),\n",
       "   Status(ID=828368849527566336, ScreenName=dmfitz424, Created=Sun Feb 05 22:24:58 +0000 2017, Text=\"I'm an #actuallivingscientist and I always #DressLikeAWoman! #MadScientist #ScienceMarch #ScienceMarchHOU https://t.co/1ifM5XbIQB\")]},\n",
       " {'location': [29.69, -95.43],\n",
       "  'tweets': [Status(ID=831171766890459136, ScreenName=MBCAHouston, Created=Mon Feb 13 16:02:46 +0000 2017, Text='The latest The MBCA Houston Daily! https://t.co/b5IWEKpcd9 Thanks to @ARtvKimatni #actuallivingscientist #was17'),\n",
       "   Status(ID=830221799342223361, ScreenName=InsectophileJim, Created=Sat Feb 11 01:07:56 +0000 2017, Text='RT @RickLambeth: Brother of more than one #actuallivingfarmer... I had/got to be an #actuallivingscientist instead.  Just glad there is sti…'),\n",
       "   Status(ID=830172944928223232, ScreenName=RickLambeth, Created=Fri Feb 10 21:53:48 +0000 2017, Text='Brother of more than one #actuallivingfarmer... I had/got to be an #actuallivingscientist instead.  Just glad there… https://t.co/914l59Uai1'),\n",
       "   Status(ID=830068240059600901, ScreenName=karashosho01, Created=Fri Feb 10 14:57:45 +0000 2017, Text='#actuallivingscientist https://t.co/5Rcgaq43dE'),\n",
       "   Status(ID=829349170150592512, ScreenName=TDGiardina, Created=Wed Feb 08 15:20:25 +0000 2017, Text=\"I'm an #ActualSocialScientist in patient safety - exploring patients' experiences of diagnostic errors. #actuallivingscientist\"),\n",
       "   Status(ID=829349135509811201, ScreenName=CarlaLouisa, Created=Wed Feb 08 15:20:17 +0000 2017, Text=\"RT @DeltagrlNC: Hi I'm Angela and I'm a Microbiologist that test IV drugs for sterility. #actuallivingscientist #DressLikeAWoman https://t.…\"),\n",
       "   Status(ID=829104435783729153, ScreenName=InsectophileJim, Created=Tue Feb 07 23:07:56 +0000 2017, Text=\"RT @KathAGar: Hi, I'm Kathleen. I'm an #actuallivingscientist who studies ways that coastal communities can adapt to rising sea level and c…\"),\n",
       "   Status(ID=829026630874042371, ScreenName=KathAGar, Created=Tue Feb 07 17:58:46 +0000 2017, Text=\"Hi, I'm Kathleen. I'm an #actuallivingscientist who studies ways that coastal communities can adapt to rising sea l… https://t.co/WR9iN71xdi\"),\n",
       "   Status(ID=829013505441484801, ScreenName=CarlaLouisa, Created=Tue Feb 07 17:06:36 +0000 2017, Text=\"RT @drkristymurray: I'm an #ActualLivingScientist who studies infectious pathogens. I like to #DressLikeAWoman https://t.co/BOGK1Tpapa\"),\n",
       "   Status(ID=829005449123024896, ScreenName=Aiims1742, Created=Tue Feb 07 16:34:35 +0000 2017, Text='I would recommend everyone follow @ScientistTrump \\n#ActualLivingScientist https://t.co/J0nkOm6U2r'),\n",
       "   Status(ID=828827425740046336, ScreenName=MichaelAlliman, Created=Tue Feb 07 04:47:11 +0000 2017, Text='The fact that most of the respondents in this thread are women restores a shred of hope in me.  #actuallivingscientist'),\n",
       "   Status(ID=828700281055481857, ScreenName=momneph, Created=Mon Feb 06 20:21:58 +0000 2017, Text=\"RT @drkristymurray: I'm an #ActualLivingScientist who studies infectious pathogens. I like to #DressLikeAWoman https://t.co/BOGK1Tpapa\"),\n",
       "   Status(ID=828629679959658497, ScreenName=joan_mediator, Created=Mon Feb 06 15:41:25 +0000 2017, Text=\"RT @drkristymurray: I'm an #ActualLivingScientist who studies infectious pathogens. I like to #DressLikeAWoman https://t.co/BOGK1Tpapa\"),\n",
       "   Status(ID=828628126452301824, ScreenName=DavidFisman, Created=Mon Feb 06 15:35:15 +0000 2017, Text=\"RT @drkristymurray: I'm an #ActualLivingScientist who studies infectious pathogens. I like to #DressLikeAWoman https://t.co/BOGK1Tpapa\"),\n",
       "   Status(ID=828627918083481600, ScreenName=DiagnosticChick, Created=Mon Feb 06 15:34:25 +0000 2017, Text=\"RT @drkristymurray: I'm an #ActualLivingScientist who studies infectious pathogens. I like to #DressLikeAWoman https://t.co/BOGK1Tpapa\"),\n",
       "   Status(ID=828385188677816320, ScreenName=BCM_TropMed, Created=Sun Feb 05 23:29:54 +0000 2017, Text=\"RT @drkristymurray: I'm an #ActualLivingScientist who studies infectious pathogens. I like to #DressLikeAWoman https://t.co/BOGK1Tpapa\"),\n",
       "   Status(ID=828373352205185025, ScreenName=QutubLab, Created=Sun Feb 05 22:42:52 +0000 2017, Text='Congrats to @arun_mahadevan who won an IBB travel award to present his studies on developing neurons!… https://t.co/0nn37tr9Nh'),\n",
       "   Status(ID=828368849527566336, ScreenName=dmfitz424, Created=Sun Feb 05 22:24:58 +0000 2017, Text=\"I'm an #actuallivingscientist and I always #DressLikeAWoman! #MadScientist #ScienceMarch #ScienceMarchHOU https://t.co/1ifM5XbIQB\")]},\n",
       " {'location': [29.8, -95.33],\n",
       "  'tweets': [Status(ID=831171766890459136, ScreenName=MBCAHouston, Created=Mon Feb 13 16:02:46 +0000 2017, Text='The latest The MBCA Houston Daily! https://t.co/b5IWEKpcd9 Thanks to @ARtvKimatni #actuallivingscientist #was17'),\n",
       "   Status(ID=830221799342223361, ScreenName=InsectophileJim, Created=Sat Feb 11 01:07:56 +0000 2017, Text='RT @RickLambeth: Brother of more than one #actuallivingfarmer... I had/got to be an #actuallivingscientist instead.  Just glad there is sti…'),\n",
       "   Status(ID=830172944928223232, ScreenName=RickLambeth, Created=Fri Feb 10 21:53:48 +0000 2017, Text='Brother of more than one #actuallivingfarmer... I had/got to be an #actuallivingscientist instead.  Just glad there… https://t.co/914l59Uai1'),\n",
       "   Status(ID=830068240059600901, ScreenName=karashosho01, Created=Fri Feb 10 14:57:45 +0000 2017, Text='#actuallivingscientist https://t.co/5Rcgaq43dE'),\n",
       "   Status(ID=829349170150592512, ScreenName=TDGiardina, Created=Wed Feb 08 15:20:25 +0000 2017, Text=\"I'm an #ActualSocialScientist in patient safety - exploring patients' experiences of diagnostic errors. #actuallivingscientist\"),\n",
       "   Status(ID=829349135509811201, ScreenName=CarlaLouisa, Created=Wed Feb 08 15:20:17 +0000 2017, Text=\"RT @DeltagrlNC: Hi I'm Angela and I'm a Microbiologist that test IV drugs for sterility. #actuallivingscientist #DressLikeAWoman https://t.…\"),\n",
       "   Status(ID=829104435783729153, ScreenName=InsectophileJim, Created=Tue Feb 07 23:07:56 +0000 2017, Text=\"RT @KathAGar: Hi, I'm Kathleen. I'm an #actuallivingscientist who studies ways that coastal communities can adapt to rising sea level and c…\"),\n",
       "   Status(ID=829026630874042371, ScreenName=KathAGar, Created=Tue Feb 07 17:58:46 +0000 2017, Text=\"Hi, I'm Kathleen. I'm an #actuallivingscientist who studies ways that coastal communities can adapt to rising sea l… https://t.co/WR9iN71xdi\"),\n",
       "   Status(ID=829013505441484801, ScreenName=CarlaLouisa, Created=Tue Feb 07 17:06:36 +0000 2017, Text=\"RT @drkristymurray: I'm an #ActualLivingScientist who studies infectious pathogens. I like to #DressLikeAWoman https://t.co/BOGK1Tpapa\"),\n",
       "   Status(ID=829005449123024896, ScreenName=Aiims1742, Created=Tue Feb 07 16:34:35 +0000 2017, Text='I would recommend everyone follow @ScientistTrump \\n#ActualLivingScientist https://t.co/J0nkOm6U2r'),\n",
       "   Status(ID=828827425740046336, ScreenName=MichaelAlliman, Created=Tue Feb 07 04:47:11 +0000 2017, Text='The fact that most of the respondents in this thread are women restores a shred of hope in me.  #actuallivingscientist'),\n",
       "   Status(ID=828700281055481857, ScreenName=momneph, Created=Mon Feb 06 20:21:58 +0000 2017, Text=\"RT @drkristymurray: I'm an #ActualLivingScientist who studies infectious pathogens. I like to #DressLikeAWoman https://t.co/BOGK1Tpapa\"),\n",
       "   Status(ID=828629679959658497, ScreenName=joan_mediator, Created=Mon Feb 06 15:41:25 +0000 2017, Text=\"RT @drkristymurray: I'm an #ActualLivingScientist who studies infectious pathogens. I like to #DressLikeAWoman https://t.co/BOGK1Tpapa\"),\n",
       "   Status(ID=828628126452301824, ScreenName=DavidFisman, Created=Mon Feb 06 15:35:15 +0000 2017, Text=\"RT @drkristymurray: I'm an #ActualLivingScientist who studies infectious pathogens. I like to #DressLikeAWoman https://t.co/BOGK1Tpapa\"),\n",
       "   Status(ID=828627918083481600, ScreenName=DiagnosticChick, Created=Mon Feb 06 15:34:25 +0000 2017, Text=\"RT @drkristymurray: I'm an #ActualLivingScientist who studies infectious pathogens. I like to #DressLikeAWoman https://t.co/BOGK1Tpapa\"),\n",
       "   Status(ID=828385188677816320, ScreenName=BCM_TropMed, Created=Sun Feb 05 23:29:54 +0000 2017, Text=\"RT @drkristymurray: I'm an #ActualLivingScientist who studies infectious pathogens. I like to #DressLikeAWoman https://t.co/BOGK1Tpapa\"),\n",
       "   Status(ID=828373352205185025, ScreenName=QutubLab, Created=Sun Feb 05 22:42:52 +0000 2017, Text='Congrats to @arun_mahadevan who won an IBB travel award to present his studies on developing neurons!… https://t.co/0nn37tr9Nh'),\n",
       "   Status(ID=828368849527566336, ScreenName=dmfitz424, Created=Sun Feb 05 22:24:58 +0000 2017, Text=\"I'm an #actuallivingscientist and I always #DressLikeAWoman! #MadScientist #ScienceMarch #ScienceMarchHOU https://t.co/1ifM5XbIQB\")]},\n",
       " {'location': [29.74, -95.45],\n",
       "  'tweets': [Status(ID=831171766890459136, ScreenName=MBCAHouston, Created=Mon Feb 13 16:02:46 +0000 2017, Text='The latest The MBCA Houston Daily! https://t.co/b5IWEKpcd9 Thanks to @ARtvKimatni #actuallivingscientist #was17'),\n",
       "   Status(ID=830221799342223361, ScreenName=InsectophileJim, Created=Sat Feb 11 01:07:56 +0000 2017, Text='RT @RickLambeth: Brother of more than one #actuallivingfarmer... I had/got to be an #actuallivingscientist instead.  Just glad there is sti…'),\n",
       "   Status(ID=830172944928223232, ScreenName=RickLambeth, Created=Fri Feb 10 21:53:48 +0000 2017, Text='Brother of more than one #actuallivingfarmer... I had/got to be an #actuallivingscientist instead.  Just glad there… https://t.co/914l59Uai1'),\n",
       "   Status(ID=830068240059600901, ScreenName=karashosho01, Created=Fri Feb 10 14:57:45 +0000 2017, Text='#actuallivingscientist https://t.co/5Rcgaq43dE'),\n",
       "   Status(ID=829349170150592512, ScreenName=TDGiardina, Created=Wed Feb 08 15:20:25 +0000 2017, Text=\"I'm an #ActualSocialScientist in patient safety - exploring patients' experiences of diagnostic errors. #actuallivingscientist\"),\n",
       "   Status(ID=829349135509811201, ScreenName=CarlaLouisa, Created=Wed Feb 08 15:20:17 +0000 2017, Text=\"RT @DeltagrlNC: Hi I'm Angela and I'm a Microbiologist that test IV drugs for sterility. #actuallivingscientist #DressLikeAWoman https://t.…\"),\n",
       "   Status(ID=829104435783729153, ScreenName=InsectophileJim, Created=Tue Feb 07 23:07:56 +0000 2017, Text=\"RT @KathAGar: Hi, I'm Kathleen. I'm an #actuallivingscientist who studies ways that coastal communities can adapt to rising sea level and c…\"),\n",
       "   Status(ID=829026630874042371, ScreenName=KathAGar, Created=Tue Feb 07 17:58:46 +0000 2017, Text=\"Hi, I'm Kathleen. I'm an #actuallivingscientist who studies ways that coastal communities can adapt to rising sea l… https://t.co/WR9iN71xdi\"),\n",
       "   Status(ID=829013505441484801, ScreenName=CarlaLouisa, Created=Tue Feb 07 17:06:36 +0000 2017, Text=\"RT @drkristymurray: I'm an #ActualLivingScientist who studies infectious pathogens. I like to #DressLikeAWoman https://t.co/BOGK1Tpapa\"),\n",
       "   Status(ID=829005449123024896, ScreenName=Aiims1742, Created=Tue Feb 07 16:34:35 +0000 2017, Text='I would recommend everyone follow @ScientistTrump \\n#ActualLivingScientist https://t.co/J0nkOm6U2r'),\n",
       "   Status(ID=828827425740046336, ScreenName=MichaelAlliman, Created=Tue Feb 07 04:47:11 +0000 2017, Text='The fact that most of the respondents in this thread are women restores a shred of hope in me.  #actuallivingscientist'),\n",
       "   Status(ID=828700281055481857, ScreenName=momneph, Created=Mon Feb 06 20:21:58 +0000 2017, Text=\"RT @drkristymurray: I'm an #ActualLivingScientist who studies infectious pathogens. I like to #DressLikeAWoman https://t.co/BOGK1Tpapa\"),\n",
       "   Status(ID=828629679959658497, ScreenName=joan_mediator, Created=Mon Feb 06 15:41:25 +0000 2017, Text=\"RT @drkristymurray: I'm an #ActualLivingScientist who studies infectious pathogens. I like to #DressLikeAWoman https://t.co/BOGK1Tpapa\"),\n",
       "   Status(ID=828628126452301824, ScreenName=DavidFisman, Created=Mon Feb 06 15:35:15 +0000 2017, Text=\"RT @drkristymurray: I'm an #ActualLivingScientist who studies infectious pathogens. I like to #DressLikeAWoman https://t.co/BOGK1Tpapa\"),\n",
       "   Status(ID=828627918083481600, ScreenName=DiagnosticChick, Created=Mon Feb 06 15:34:25 +0000 2017, Text=\"RT @drkristymurray: I'm an #ActualLivingScientist who studies infectious pathogens. I like to #DressLikeAWoman https://t.co/BOGK1Tpapa\"),\n",
       "   Status(ID=828385188677816320, ScreenName=BCM_TropMed, Created=Sun Feb 05 23:29:54 +0000 2017, Text=\"RT @drkristymurray: I'm an #ActualLivingScientist who studies infectious pathogens. I like to #DressLikeAWoman https://t.co/BOGK1Tpapa\"),\n",
       "   Status(ID=828373352205185025, ScreenName=QutubLab, Created=Sun Feb 05 22:42:52 +0000 2017, Text='Congrats to @arun_mahadevan who won an IBB travel award to present his studies on developing neurons!… https://t.co/0nn37tr9Nh'),\n",
       "   Status(ID=828368849527566336, ScreenName=dmfitz424, Created=Sun Feb 05 22:24:58 +0000 2017, Text=\"I'm an #actuallivingscientist and I always #DressLikeAWoman! #MadScientist #ScienceMarch #ScienceMarchHOU https://t.co/1ifM5XbIQB\")]},\n",
       " {'location': [29.83, -95.29],\n",
       "  'tweets': [Status(ID=831171766890459136, ScreenName=MBCAHouston, Created=Mon Feb 13 16:02:46 +0000 2017, Text='The latest The MBCA Houston Daily! https://t.co/b5IWEKpcd9 Thanks to @ARtvKimatni #actuallivingscientist #was17'),\n",
       "   Status(ID=830221799342223361, ScreenName=InsectophileJim, Created=Sat Feb 11 01:07:56 +0000 2017, Text='RT @RickLambeth: Brother of more than one #actuallivingfarmer... I had/got to be an #actuallivingscientist instead.  Just glad there is sti…'),\n",
       "   Status(ID=830172944928223232, ScreenName=RickLambeth, Created=Fri Feb 10 21:53:48 +0000 2017, Text='Brother of more than one #actuallivingfarmer... I had/got to be an #actuallivingscientist instead.  Just glad there… https://t.co/914l59Uai1'),\n",
       "   Status(ID=830068240059600901, ScreenName=karashosho01, Created=Fri Feb 10 14:57:45 +0000 2017, Text='#actuallivingscientist https://t.co/5Rcgaq43dE'),\n",
       "   Status(ID=829349170150592512, ScreenName=TDGiardina, Created=Wed Feb 08 15:20:25 +0000 2017, Text=\"I'm an #ActualSocialScientist in patient safety - exploring patients' experiences of diagnostic errors. #actuallivingscientist\"),\n",
       "   Status(ID=829349135509811201, ScreenName=CarlaLouisa, Created=Wed Feb 08 15:20:17 +0000 2017, Text=\"RT @DeltagrlNC: Hi I'm Angela and I'm a Microbiologist that test IV drugs for sterility. #actuallivingscientist #DressLikeAWoman https://t.…\"),\n",
       "   Status(ID=829104435783729153, ScreenName=InsectophileJim, Created=Tue Feb 07 23:07:56 +0000 2017, Text=\"RT @KathAGar: Hi, I'm Kathleen. I'm an #actuallivingscientist who studies ways that coastal communities can adapt to rising sea level and c…\"),\n",
       "   Status(ID=829026630874042371, ScreenName=KathAGar, Created=Tue Feb 07 17:58:46 +0000 2017, Text=\"Hi, I'm Kathleen. I'm an #actuallivingscientist who studies ways that coastal communities can adapt to rising sea l… https://t.co/WR9iN71xdi\"),\n",
       "   Status(ID=829013505441484801, ScreenName=CarlaLouisa, Created=Tue Feb 07 17:06:36 +0000 2017, Text=\"RT @drkristymurray: I'm an #ActualLivingScientist who studies infectious pathogens. I like to #DressLikeAWoman https://t.co/BOGK1Tpapa\"),\n",
       "   Status(ID=829005449123024896, ScreenName=Aiims1742, Created=Tue Feb 07 16:34:35 +0000 2017, Text='I would recommend everyone follow @ScientistTrump \\n#ActualLivingScientist https://t.co/J0nkOm6U2r'),\n",
       "   Status(ID=828827425740046336, ScreenName=MichaelAlliman, Created=Tue Feb 07 04:47:11 +0000 2017, Text='The fact that most of the respondents in this thread are women restores a shred of hope in me.  #actuallivingscientist'),\n",
       "   Status(ID=828700281055481857, ScreenName=momneph, Created=Mon Feb 06 20:21:58 +0000 2017, Text=\"RT @drkristymurray: I'm an #ActualLivingScientist who studies infectious pathogens. I like to #DressLikeAWoman https://t.co/BOGK1Tpapa\"),\n",
       "   Status(ID=828629679959658497, ScreenName=joan_mediator, Created=Mon Feb 06 15:41:25 +0000 2017, Text=\"RT @drkristymurray: I'm an #ActualLivingScientist who studies infectious pathogens. I like to #DressLikeAWoman https://t.co/BOGK1Tpapa\"),\n",
       "   Status(ID=828628126452301824, ScreenName=DavidFisman, Created=Mon Feb 06 15:35:15 +0000 2017, Text=\"RT @drkristymurray: I'm an #ActualLivingScientist who studies infectious pathogens. I like to #DressLikeAWoman https://t.co/BOGK1Tpapa\"),\n",
       "   Status(ID=828627918083481600, ScreenName=DiagnosticChick, Created=Mon Feb 06 15:34:25 +0000 2017, Text=\"RT @drkristymurray: I'm an #ActualLivingScientist who studies infectious pathogens. I like to #DressLikeAWoman https://t.co/BOGK1Tpapa\"),\n",
       "   Status(ID=828385188677816320, ScreenName=BCM_TropMed, Created=Sun Feb 05 23:29:54 +0000 2017, Text=\"RT @drkristymurray: I'm an #ActualLivingScientist who studies infectious pathogens. I like to #DressLikeAWoman https://t.co/BOGK1Tpapa\"),\n",
       "   Status(ID=828373352205185025, ScreenName=QutubLab, Created=Sun Feb 05 22:42:52 +0000 2017, Text='Congrats to @arun_mahadevan who won an IBB travel award to present his studies on developing neurons!… https://t.co/0nn37tr9Nh'),\n",
       "   Status(ID=828368849527566336, ScreenName=dmfitz424, Created=Sun Feb 05 22:24:58 +0000 2017, Text=\"I'm an #actuallivingscientist and I always #DressLikeAWoman! #MadScientist #ScienceMarch #ScienceMarchHOU https://t.co/1ifM5XbIQB\")]},\n",
       " {'location': [29.76, -95.26],\n",
       "  'tweets': [Status(ID=831171766890459136, ScreenName=MBCAHouston, Created=Mon Feb 13 16:02:46 +0000 2017, Text='The latest The MBCA Houston Daily! https://t.co/b5IWEKpcd9 Thanks to @ARtvKimatni #actuallivingscientist #was17'),\n",
       "   Status(ID=830221799342223361, ScreenName=InsectophileJim, Created=Sat Feb 11 01:07:56 +0000 2017, Text='RT @RickLambeth: Brother of more than one #actuallivingfarmer... I had/got to be an #actuallivingscientist instead.  Just glad there is sti…'),\n",
       "   Status(ID=830172944928223232, ScreenName=RickLambeth, Created=Fri Feb 10 21:53:48 +0000 2017, Text='Brother of more than one #actuallivingfarmer... I had/got to be an #actuallivingscientist instead.  Just glad there… https://t.co/914l59Uai1'),\n",
       "   Status(ID=830068240059600901, ScreenName=karashosho01, Created=Fri Feb 10 14:57:45 +0000 2017, Text='#actuallivingscientist https://t.co/5Rcgaq43dE'),\n",
       "   Status(ID=829349170150592512, ScreenName=TDGiardina, Created=Wed Feb 08 15:20:25 +0000 2017, Text=\"I'm an #ActualSocialScientist in patient safety - exploring patients' experiences of diagnostic errors. #actuallivingscientist\"),\n",
       "   Status(ID=829349135509811201, ScreenName=CarlaLouisa, Created=Wed Feb 08 15:20:17 +0000 2017, Text=\"RT @DeltagrlNC: Hi I'm Angela and I'm a Microbiologist that test IV drugs for sterility. #actuallivingscientist #DressLikeAWoman https://t.…\"),\n",
       "   Status(ID=829104435783729153, ScreenName=InsectophileJim, Created=Tue Feb 07 23:07:56 +0000 2017, Text=\"RT @KathAGar: Hi, I'm Kathleen. I'm an #actuallivingscientist who studies ways that coastal communities can adapt to rising sea level and c…\"),\n",
       "   Status(ID=829026630874042371, ScreenName=KathAGar, Created=Tue Feb 07 17:58:46 +0000 2017, Text=\"Hi, I'm Kathleen. I'm an #actuallivingscientist who studies ways that coastal communities can adapt to rising sea l… https://t.co/WR9iN71xdi\"),\n",
       "   Status(ID=829013505441484801, ScreenName=CarlaLouisa, Created=Tue Feb 07 17:06:36 +0000 2017, Text=\"RT @drkristymurray: I'm an #ActualLivingScientist who studies infectious pathogens. I like to #DressLikeAWoman https://t.co/BOGK1Tpapa\"),\n",
       "   Status(ID=829005449123024896, ScreenName=Aiims1742, Created=Tue Feb 07 16:34:35 +0000 2017, Text='I would recommend everyone follow @ScientistTrump \\n#ActualLivingScientist https://t.co/J0nkOm6U2r'),\n",
       "   Status(ID=828827425740046336, ScreenName=MichaelAlliman, Created=Tue Feb 07 04:47:11 +0000 2017, Text='The fact that most of the respondents in this thread are women restores a shred of hope in me.  #actuallivingscientist'),\n",
       "   Status(ID=828700281055481857, ScreenName=momneph, Created=Mon Feb 06 20:21:58 +0000 2017, Text=\"RT @drkristymurray: I'm an #ActualLivingScientist who studies infectious pathogens. I like to #DressLikeAWoman https://t.co/BOGK1Tpapa\"),\n",
       "   Status(ID=828629679959658497, ScreenName=joan_mediator, Created=Mon Feb 06 15:41:25 +0000 2017, Text=\"RT @drkristymurray: I'm an #ActualLivingScientist who studies infectious pathogens. I like to #DressLikeAWoman https://t.co/BOGK1Tpapa\"),\n",
       "   Status(ID=828628126452301824, ScreenName=DavidFisman, Created=Mon Feb 06 15:35:15 +0000 2017, Text=\"RT @drkristymurray: I'm an #ActualLivingScientist who studies infectious pathogens. I like to #DressLikeAWoman https://t.co/BOGK1Tpapa\"),\n",
       "   Status(ID=828627918083481600, ScreenName=DiagnosticChick, Created=Mon Feb 06 15:34:25 +0000 2017, Text=\"RT @drkristymurray: I'm an #ActualLivingScientist who studies infectious pathogens. I like to #DressLikeAWoman https://t.co/BOGK1Tpapa\"),\n",
       "   Status(ID=828385188677816320, ScreenName=BCM_TropMed, Created=Sun Feb 05 23:29:54 +0000 2017, Text=\"RT @drkristymurray: I'm an #ActualLivingScientist who studies infectious pathogens. I like to #DressLikeAWoman https://t.co/BOGK1Tpapa\"),\n",
       "   Status(ID=828373352205185025, ScreenName=QutubLab, Created=Sun Feb 05 22:42:52 +0000 2017, Text='Congrats to @arun_mahadevan who won an IBB travel award to present his studies on developing neurons!… https://t.co/0nn37tr9Nh'),\n",
       "   Status(ID=828368849527566336, ScreenName=dmfitz424, Created=Sun Feb 05 22:24:58 +0000 2017, Text=\"I'm an #actuallivingscientist and I always #DressLikeAWoman! #MadScientist #ScienceMarch #ScienceMarchHOU https://t.co/1ifM5XbIQB\")]},\n",
       " {'location': [29.71, -95.4],\n",
       "  'tweets': [Status(ID=831171766890459136, ScreenName=MBCAHouston, Created=Mon Feb 13 16:02:46 +0000 2017, Text='The latest The MBCA Houston Daily! https://t.co/b5IWEKpcd9 Thanks to @ARtvKimatni #actuallivingscientist #was17'),\n",
       "   Status(ID=830221799342223361, ScreenName=InsectophileJim, Created=Sat Feb 11 01:07:56 +0000 2017, Text='RT @RickLambeth: Brother of more than one #actuallivingfarmer... I had/got to be an #actuallivingscientist instead.  Just glad there is sti…'),\n",
       "   Status(ID=830172944928223232, ScreenName=RickLambeth, Created=Fri Feb 10 21:53:48 +0000 2017, Text='Brother of more than one #actuallivingfarmer... I had/got to be an #actuallivingscientist instead.  Just glad there… https://t.co/914l59Uai1'),\n",
       "   Status(ID=830068240059600901, ScreenName=karashosho01, Created=Fri Feb 10 14:57:45 +0000 2017, Text='#actuallivingscientist https://t.co/5Rcgaq43dE'),\n",
       "   Status(ID=829349170150592512, ScreenName=TDGiardina, Created=Wed Feb 08 15:20:25 +0000 2017, Text=\"I'm an #ActualSocialScientist in patient safety - exploring patients' experiences of diagnostic errors. #actuallivingscientist\"),\n",
       "   Status(ID=829349135509811201, ScreenName=CarlaLouisa, Created=Wed Feb 08 15:20:17 +0000 2017, Text=\"RT @DeltagrlNC: Hi I'm Angela and I'm a Microbiologist that test IV drugs for sterility. #actuallivingscientist #DressLikeAWoman https://t.…\"),\n",
       "   Status(ID=829104435783729153, ScreenName=InsectophileJim, Created=Tue Feb 07 23:07:56 +0000 2017, Text=\"RT @KathAGar: Hi, I'm Kathleen. I'm an #actuallivingscientist who studies ways that coastal communities can adapt to rising sea level and c…\"),\n",
       "   Status(ID=829026630874042371, ScreenName=KathAGar, Created=Tue Feb 07 17:58:46 +0000 2017, Text=\"Hi, I'm Kathleen. I'm an #actuallivingscientist who studies ways that coastal communities can adapt to rising sea l… https://t.co/WR9iN71xdi\"),\n",
       "   Status(ID=829013505441484801, ScreenName=CarlaLouisa, Created=Tue Feb 07 17:06:36 +0000 2017, Text=\"RT @drkristymurray: I'm an #ActualLivingScientist who studies infectious pathogens. I like to #DressLikeAWoman https://t.co/BOGK1Tpapa\"),\n",
       "   Status(ID=829005449123024896, ScreenName=Aiims1742, Created=Tue Feb 07 16:34:35 +0000 2017, Text='I would recommend everyone follow @ScientistTrump \\n#ActualLivingScientist https://t.co/J0nkOm6U2r'),\n",
       "   Status(ID=828827425740046336, ScreenName=MichaelAlliman, Created=Tue Feb 07 04:47:11 +0000 2017, Text='The fact that most of the respondents in this thread are women restores a shred of hope in me.  #actuallivingscientist'),\n",
       "   Status(ID=828700281055481857, ScreenName=momneph, Created=Mon Feb 06 20:21:58 +0000 2017, Text=\"RT @drkristymurray: I'm an #ActualLivingScientist who studies infectious pathogens. I like to #DressLikeAWoman https://t.co/BOGK1Tpapa\"),\n",
       "   Status(ID=828629679959658497, ScreenName=joan_mediator, Created=Mon Feb 06 15:41:25 +0000 2017, Text=\"RT @drkristymurray: I'm an #ActualLivingScientist who studies infectious pathogens. I like to #DressLikeAWoman https://t.co/BOGK1Tpapa\"),\n",
       "   Status(ID=828628126452301824, ScreenName=DavidFisman, Created=Mon Feb 06 15:35:15 +0000 2017, Text=\"RT @drkristymurray: I'm an #ActualLivingScientist who studies infectious pathogens. I like to #DressLikeAWoman https://t.co/BOGK1Tpapa\"),\n",
       "   Status(ID=828627918083481600, ScreenName=DiagnosticChick, Created=Mon Feb 06 15:34:25 +0000 2017, Text=\"RT @drkristymurray: I'm an #ActualLivingScientist who studies infectious pathogens. I like to #DressLikeAWoman https://t.co/BOGK1Tpapa\"),\n",
       "   Status(ID=828385188677816320, ScreenName=BCM_TropMed, Created=Sun Feb 05 23:29:54 +0000 2017, Text=\"RT @drkristymurray: I'm an #ActualLivingScientist who studies infectious pathogens. I like to #DressLikeAWoman https://t.co/BOGK1Tpapa\"),\n",
       "   Status(ID=828373352205185025, ScreenName=QutubLab, Created=Sun Feb 05 22:42:52 +0000 2017, Text='Congrats to @arun_mahadevan who won an IBB travel award to present his studies on developing neurons!… https://t.co/0nn37tr9Nh'),\n",
       "   Status(ID=828368849527566336, ScreenName=dmfitz424, Created=Sun Feb 05 22:24:58 +0000 2017, Text=\"I'm an #actuallivingscientist and I always #DressLikeAWoman! #MadScientist #ScienceMarch #ScienceMarchHOU https://t.co/1ifM5XbIQB\")]}]"
      ]
     },
     "execution_count": 113,
     "metadata": {},
     "output_type": "execute_result"
    }
   ],
   "source": [
    "arrayOfTweetsByLocatA2 = []\n",
    "for index, row in GreaterHouston_Zip15t29.iterrows():\n",
    "    lat = row['latitude']\n",
    "    long = row['longitude']\n",
    "    results_forEach = api.GetSearch(raw_query=\"q=%23actuallivingscientist&geocode={},{},10km&result_type=recent&since=2017-02-01&count=50\".format(lat,long))\n",
    "    arrayOfTweetsByLocatA2.append({\"location\":[lat,long],\"tweets\":results_forEach}) \n",
    "\n",
    "arrayOfTweetsByLocatA2"
   ]
  },
  {
   "cell_type": "code",
   "execution_count": 133,
   "metadata": {
    "collapsed": true
   },
   "outputs": [],
   "source": [
    "thefile_arrayOfTweetsByLocatA2 = open('GreaterHouston_Zip15t29.txt', 'w')\n",
    "for item in arrayOfTweetsByLocatA2:\n",
    "    thefile_arrayOfTweetsByLocatA2.write(\"%s\\n\" % item)"
   ]
  },
  {
   "cell_type": "markdown",
   "metadata": {},
   "source": [
    "GreaterHouston_Zip30t45"
   ]
  },
  {
   "cell_type": "code",
   "execution_count": 115,
   "metadata": {
    "collapsed": false
   },
   "outputs": [
    {
     "data": {
      "text/plain": [
       "[{'location': [29.99, -95.35], 'tweets': []},\n",
       " {'location': [29.67, -95.34], 'tweets': []},\n",
       " {'location': [29.62, -95.19], 'tweets': []},\n",
       " {'location': [29.65, -95.48], 'tweets': []},\n",
       " {'location': [29.7, -95.53], 'tweets': []},\n",
       " {'location': [29.89, -95.39], 'tweets': []},\n",
       " {'location': [29.92, -95.44], 'tweets': []},\n",
       " {'location': [29.91, -95.34], 'tweets': []},\n",
       " {'location': [29.87, -95.53], 'tweets': []},\n",
       " {'location': [29.86, -95.58], 'tweets': []},\n",
       " {'location': [29.74, -95.56], 'tweets': []},\n",
       " {'location': [29.81, -95.58], 'tweets': []},\n",
       " {'location': [29.91, -95.18], 'tweets': []},\n",
       " {'location': [29.64, -95.43], 'tweets': []},\n",
       " {'location': [29.73, -95.43],\n",
       "  'tweets': [Status(ID=831171766890459136, ScreenName=MBCAHouston, Created=Mon Feb 13 16:02:46 +0000 2017, Text='The latest The MBCA Houston Daily! https://t.co/b5IWEKpcd9 Thanks to @ARtvKimatni #actuallivingscientist #was17'),\n",
       "   Status(ID=830221799342223361, ScreenName=InsectophileJim, Created=Sat Feb 11 01:07:56 +0000 2017, Text='RT @RickLambeth: Brother of more than one #actuallivingfarmer... I had/got to be an #actuallivingscientist instead.  Just glad there is sti…'),\n",
       "   Status(ID=830172944928223232, ScreenName=RickLambeth, Created=Fri Feb 10 21:53:48 +0000 2017, Text='Brother of more than one #actuallivingfarmer... I had/got to be an #actuallivingscientist instead.  Just glad there… https://t.co/914l59Uai1'),\n",
       "   Status(ID=830068240059600901, ScreenName=karashosho01, Created=Fri Feb 10 14:57:45 +0000 2017, Text='#actuallivingscientist https://t.co/5Rcgaq43dE'),\n",
       "   Status(ID=829349170150592512, ScreenName=TDGiardina, Created=Wed Feb 08 15:20:25 +0000 2017, Text=\"I'm an #ActualSocialScientist in patient safety - exploring patients' experiences of diagnostic errors. #actuallivingscientist\"),\n",
       "   Status(ID=829349135509811201, ScreenName=CarlaLouisa, Created=Wed Feb 08 15:20:17 +0000 2017, Text=\"RT @DeltagrlNC: Hi I'm Angela and I'm a Microbiologist that test IV drugs for sterility. #actuallivingscientist #DressLikeAWoman https://t.…\"),\n",
       "   Status(ID=829104435783729153, ScreenName=InsectophileJim, Created=Tue Feb 07 23:07:56 +0000 2017, Text=\"RT @KathAGar: Hi, I'm Kathleen. I'm an #actuallivingscientist who studies ways that coastal communities can adapt to rising sea level and c…\"),\n",
       "   Status(ID=829026630874042371, ScreenName=KathAGar, Created=Tue Feb 07 17:58:46 +0000 2017, Text=\"Hi, I'm Kathleen. I'm an #actuallivingscientist who studies ways that coastal communities can adapt to rising sea l… https://t.co/WR9iN71xdi\"),\n",
       "   Status(ID=829013505441484801, ScreenName=CarlaLouisa, Created=Tue Feb 07 17:06:36 +0000 2017, Text=\"RT @drkristymurray: I'm an #ActualLivingScientist who studies infectious pathogens. I like to #DressLikeAWoman https://t.co/BOGK1Tpapa\"),\n",
       "   Status(ID=829005449123024896, ScreenName=Aiims1742, Created=Tue Feb 07 16:34:35 +0000 2017, Text='I would recommend everyone follow @ScientistTrump \\n#ActualLivingScientist https://t.co/J0nkOm6U2r'),\n",
       "   Status(ID=828827425740046336, ScreenName=MichaelAlliman, Created=Tue Feb 07 04:47:11 +0000 2017, Text='The fact that most of the respondents in this thread are women restores a shred of hope in me.  #actuallivingscientist'),\n",
       "   Status(ID=828700281055481857, ScreenName=momneph, Created=Mon Feb 06 20:21:58 +0000 2017, Text=\"RT @drkristymurray: I'm an #ActualLivingScientist who studies infectious pathogens. I like to #DressLikeAWoman https://t.co/BOGK1Tpapa\"),\n",
       "   Status(ID=828629679959658497, ScreenName=joan_mediator, Created=Mon Feb 06 15:41:25 +0000 2017, Text=\"RT @drkristymurray: I'm an #ActualLivingScientist who studies infectious pathogens. I like to #DressLikeAWoman https://t.co/BOGK1Tpapa\"),\n",
       "   Status(ID=828628126452301824, ScreenName=DavidFisman, Created=Mon Feb 06 15:35:15 +0000 2017, Text=\"RT @drkristymurray: I'm an #ActualLivingScientist who studies infectious pathogens. I like to #DressLikeAWoman https://t.co/BOGK1Tpapa\"),\n",
       "   Status(ID=828627918083481600, ScreenName=DiagnosticChick, Created=Mon Feb 06 15:34:25 +0000 2017, Text=\"RT @drkristymurray: I'm an #ActualLivingScientist who studies infectious pathogens. I like to #DressLikeAWoman https://t.co/BOGK1Tpapa\"),\n",
       "   Status(ID=828385188677816320, ScreenName=BCM_TropMed, Created=Sun Feb 05 23:29:54 +0000 2017, Text=\"RT @drkristymurray: I'm an #ActualLivingScientist who studies infectious pathogens. I like to #DressLikeAWoman https://t.co/BOGK1Tpapa\"),\n",
       "   Status(ID=828373352205185025, ScreenName=QutubLab, Created=Sun Feb 05 22:42:52 +0000 2017, Text='Congrats to @arun_mahadevan who won an IBB travel award to present his studies on developing neurons!… https://t.co/0nn37tr9Nh'),\n",
       "   Status(ID=828368849527566336, ScreenName=dmfitz424, Created=Sun Feb 05 22:24:58 +0000 2017, Text=\"I'm an #actuallivingscientist and I always #DressLikeAWoman! #MadScientist #ScienceMarch #ScienceMarchHOU https://t.co/1ifM5XbIQB\")]}]"
      ]
     },
     "execution_count": 115,
     "metadata": {},
     "output_type": "execute_result"
    }
   ],
   "source": [
    "arrayOfTweetsByLocatA3 = []\n",
    "for index, row in GreaterHouston_Zip30t45.iterrows():\n",
    "    lat = row['latitude']\n",
    "    long = row['longitude']\n",
    "    results_forEach = api.GetSearch(raw_query=\"q=%23actuallivingscientist&geocode={},{},10km&result_type=recent&since=2017-02-01&count=50\".format(lat,long))\n",
    "    arrayOfTweetsByLocatA3.append({\"location\":[lat,long],\"tweets\":results_forEach}) \n",
    "\n",
    "arrayOfTweetsByLocatA3"
   ]
  },
  {
   "cell_type": "code",
   "execution_count": 132,
   "metadata": {
    "collapsed": true
   },
   "outputs": [],
   "source": [
    "thefile_arrayOfTweetsByLocatA3 = open('GreaterHouston_Zip30t45.txt', 'w')\n",
    "for item in arrayOfTweetsByLocatA3:\n",
    "    thefile_arrayOfTweetsByLocatA3.write(\"%s\\n\" % item)"
   ]
  },
  {
   "cell_type": "markdown",
   "metadata": {},
   "source": [
    "GreaterHouston_Zip46t60"
   ]
  },
  {
   "cell_type": "code",
   "execution_count": 117,
   "metadata": {
    "collapsed": false
   },
   "outputs": [
    {
     "data": {
      "text/plain": [
       "[{'location': [29.62, -95.32], 'tweets': []},\n",
       " {'location': [29.83, -95.15], 'tweets': []},\n",
       " {'location': [29.9, -95.27], 'tweets': []},\n",
       " {'location': [29.66, -95.38], 'tweets': []},\n",
       " {'location': [29.58, -95.46], 'tweets': []},\n",
       " {'location': [29.68, -95.4],\n",
       "  'tweets': [Status(ID=831171766890459136, ScreenName=MBCAHouston, Created=Mon Feb 13 16:02:46 +0000 2017, Text='The latest The MBCA Houston Daily! https://t.co/b5IWEKpcd9 Thanks to @ARtvKimatni #actuallivingscientist #was17'),\n",
       "   Status(ID=830221799342223361, ScreenName=InsectophileJim, Created=Sat Feb 11 01:07:56 +0000 2017, Text='RT @RickLambeth: Brother of more than one #actuallivingfarmer... I had/got to be an #actuallivingscientist instead.  Just glad there is sti…'),\n",
       "   Status(ID=830172944928223232, ScreenName=RickLambeth, Created=Fri Feb 10 21:53:48 +0000 2017, Text='Brother of more than one #actuallivingfarmer... I had/got to be an #actuallivingscientist instead.  Just glad there… https://t.co/914l59Uai1'),\n",
       "   Status(ID=830068240059600901, ScreenName=karashosho01, Created=Fri Feb 10 14:57:45 +0000 2017, Text='#actuallivingscientist https://t.co/5Rcgaq43dE'),\n",
       "   Status(ID=829349170150592512, ScreenName=TDGiardina, Created=Wed Feb 08 15:20:25 +0000 2017, Text=\"I'm an #ActualSocialScientist in patient safety - exploring patients' experiences of diagnostic errors. #actuallivingscientist\"),\n",
       "   Status(ID=829349135509811201, ScreenName=CarlaLouisa, Created=Wed Feb 08 15:20:17 +0000 2017, Text=\"RT @DeltagrlNC: Hi I'm Angela and I'm a Microbiologist that test IV drugs for sterility. #actuallivingscientist #DressLikeAWoman https://t.…\"),\n",
       "   Status(ID=829104435783729153, ScreenName=InsectophileJim, Created=Tue Feb 07 23:07:56 +0000 2017, Text=\"RT @KathAGar: Hi, I'm Kathleen. I'm an #actuallivingscientist who studies ways that coastal communities can adapt to rising sea level and c…\"),\n",
       "   Status(ID=829026630874042371, ScreenName=KathAGar, Created=Tue Feb 07 17:58:46 +0000 2017, Text=\"Hi, I'm Kathleen. I'm an #actuallivingscientist who studies ways that coastal communities can adapt to rising sea l… https://t.co/WR9iN71xdi\"),\n",
       "   Status(ID=829013505441484801, ScreenName=CarlaLouisa, Created=Tue Feb 07 17:06:36 +0000 2017, Text=\"RT @drkristymurray: I'm an #ActualLivingScientist who studies infectious pathogens. I like to #DressLikeAWoman https://t.co/BOGK1Tpapa\"),\n",
       "   Status(ID=829005449123024896, ScreenName=Aiims1742, Created=Tue Feb 07 16:34:35 +0000 2017, Text='I would recommend everyone follow @ScientistTrump \\n#ActualLivingScientist https://t.co/J0nkOm6U2r'),\n",
       "   Status(ID=828827425740046336, ScreenName=MichaelAlliman, Created=Tue Feb 07 04:47:11 +0000 2017, Text='The fact that most of the respondents in this thread are women restores a shred of hope in me.  #actuallivingscientist'),\n",
       "   Status(ID=828700281055481857, ScreenName=momneph, Created=Mon Feb 06 20:21:58 +0000 2017, Text=\"RT @drkristymurray: I'm an #ActualLivingScientist who studies infectious pathogens. I like to #DressLikeAWoman https://t.co/BOGK1Tpapa\"),\n",
       "   Status(ID=828629679959658497, ScreenName=joan_mediator, Created=Mon Feb 06 15:41:25 +0000 2017, Text=\"RT @drkristymurray: I'm an #ActualLivingScientist who studies infectious pathogens. I like to #DressLikeAWoman https://t.co/BOGK1Tpapa\"),\n",
       "   Status(ID=828628126452301824, ScreenName=DavidFisman, Created=Mon Feb 06 15:35:15 +0000 2017, Text=\"RT @drkristymurray: I'm an #ActualLivingScientist who studies infectious pathogens. I like to #DressLikeAWoman https://t.co/BOGK1Tpapa\"),\n",
       "   Status(ID=828627918083481600, ScreenName=DiagnosticChick, Created=Mon Feb 06 15:34:25 +0000 2017, Text=\"RT @drkristymurray: I'm an #ActualLivingScientist who studies infectious pathogens. I like to #DressLikeAWoman https://t.co/BOGK1Tpapa\"),\n",
       "   Status(ID=828385188677816320, ScreenName=BCM_TropMed, Created=Sun Feb 05 23:29:54 +0000 2017, Text=\"RT @drkristymurray: I'm an #ActualLivingScientist who studies infectious pathogens. I like to #DressLikeAWoman https://t.co/BOGK1Tpapa\"),\n",
       "   Status(ID=828373352205185025, ScreenName=QutubLab, Created=Sun Feb 05 22:42:52 +0000 2017, Text='Congrats to @arun_mahadevan who won an IBB travel award to present his studies on developing neurons!… https://t.co/0nn37tr9Nh'),\n",
       "   Status(ID=828368849527566336, ScreenName=dmfitz424, Created=Sun Feb 05 22:24:58 +0000 2017, Text=\"I'm an #actuallivingscientist and I always #DressLikeAWoman! #MadScientist #ScienceMarch #ScienceMarchHOU https://t.co/1ifM5XbIQB\")]},\n",
       " {'location': [29.8, -95.49],\n",
       "  'tweets': [Status(ID=831171766890459136, ScreenName=MBCAHouston, Created=Mon Feb 13 16:02:46 +0000 2017, Text='The latest The MBCA Houston Daily! https://t.co/b5IWEKpcd9 Thanks to @ARtvKimatni #actuallivingscientist #was17'),\n",
       "   Status(ID=830221799342223361, ScreenName=InsectophileJim, Created=Sat Feb 11 01:07:56 +0000 2017, Text='RT @RickLambeth: Brother of more than one #actuallivingfarmer... I had/got to be an #actuallivingscientist instead.  Just glad there is sti…'),\n",
       "   Status(ID=830172944928223232, ScreenName=RickLambeth, Created=Fri Feb 10 21:53:48 +0000 2017, Text='Brother of more than one #actuallivingfarmer... I had/got to be an #actuallivingscientist instead.  Just glad there… https://t.co/914l59Uai1'),\n",
       "   Status(ID=830068240059600901, ScreenName=karashosho01, Created=Fri Feb 10 14:57:45 +0000 2017, Text='#actuallivingscientist https://t.co/5Rcgaq43dE'),\n",
       "   Status(ID=829349170150592512, ScreenName=TDGiardina, Created=Wed Feb 08 15:20:25 +0000 2017, Text=\"I'm an #ActualSocialScientist in patient safety - exploring patients' experiences of diagnostic errors. #actuallivingscientist\"),\n",
       "   Status(ID=829349135509811201, ScreenName=CarlaLouisa, Created=Wed Feb 08 15:20:17 +0000 2017, Text=\"RT @DeltagrlNC: Hi I'm Angela and I'm a Microbiologist that test IV drugs for sterility. #actuallivingscientist #DressLikeAWoman https://t.…\"),\n",
       "   Status(ID=829104435783729153, ScreenName=InsectophileJim, Created=Tue Feb 07 23:07:56 +0000 2017, Text=\"RT @KathAGar: Hi, I'm Kathleen. I'm an #actuallivingscientist who studies ways that coastal communities can adapt to rising sea level and c…\"),\n",
       "   Status(ID=829026630874042371, ScreenName=KathAGar, Created=Tue Feb 07 17:58:46 +0000 2017, Text=\"Hi, I'm Kathleen. I'm an #actuallivingscientist who studies ways that coastal communities can adapt to rising sea l… https://t.co/WR9iN71xdi\"),\n",
       "   Status(ID=829013505441484801, ScreenName=CarlaLouisa, Created=Tue Feb 07 17:06:36 +0000 2017, Text=\"RT @drkristymurray: I'm an #ActualLivingScientist who studies infectious pathogens. I like to #DressLikeAWoman https://t.co/BOGK1Tpapa\"),\n",
       "   Status(ID=829005449123024896, ScreenName=Aiims1742, Created=Tue Feb 07 16:34:35 +0000 2017, Text='I would recommend everyone follow @ScientistTrump \\n#ActualLivingScientist https://t.co/J0nkOm6U2r'),\n",
       "   Status(ID=828827425740046336, ScreenName=MichaelAlliman, Created=Tue Feb 07 04:47:11 +0000 2017, Text='The fact that most of the respondents in this thread are women restores a shred of hope in me.  #actuallivingscientist'),\n",
       "   Status(ID=828700281055481857, ScreenName=momneph, Created=Mon Feb 06 20:21:58 +0000 2017, Text=\"RT @drkristymurray: I'm an #ActualLivingScientist who studies infectious pathogens. I like to #DressLikeAWoman https://t.co/BOGK1Tpapa\"),\n",
       "   Status(ID=828629679959658497, ScreenName=joan_mediator, Created=Mon Feb 06 15:41:25 +0000 2017, Text=\"RT @drkristymurray: I'm an #ActualLivingScientist who studies infectious pathogens. I like to #DressLikeAWoman https://t.co/BOGK1Tpapa\"),\n",
       "   Status(ID=828628126452301824, ScreenName=DavidFisman, Created=Mon Feb 06 15:35:15 +0000 2017, Text=\"RT @drkristymurray: I'm an #ActualLivingScientist who studies infectious pathogens. I like to #DressLikeAWoman https://t.co/BOGK1Tpapa\"),\n",
       "   Status(ID=828627918083481600, ScreenName=DiagnosticChick, Created=Mon Feb 06 15:34:25 +0000 2017, Text=\"RT @drkristymurray: I'm an #ActualLivingScientist who studies infectious pathogens. I like to #DressLikeAWoman https://t.co/BOGK1Tpapa\"),\n",
       "   Status(ID=828385188677816320, ScreenName=BCM_TropMed, Created=Sun Feb 05 23:29:54 +0000 2017, Text=\"RT @drkristymurray: I'm an #ActualLivingScientist who studies infectious pathogens. I like to #DressLikeAWoman https://t.co/BOGK1Tpapa\"),\n",
       "   Status(ID=828373352205185025, ScreenName=QutubLab, Created=Sun Feb 05 22:42:52 +0000 2017, Text='Congrats to @arun_mahadevan who won an IBB travel award to present his studies on developing neurons!… https://t.co/0nn37tr9Nh'),\n",
       "   Status(ID=828368849527566336, ScreenName=dmfitz424, Created=Sun Feb 05 22:24:58 +0000 2017, Text=\"I'm an #actuallivingscientist and I always #DressLikeAWoman! #MadScientist #ScienceMarch #ScienceMarchHOU https://t.co/1ifM5XbIQB\")]},\n",
       " {'location': [29.75, -95.47],\n",
       "  'tweets': [Status(ID=831171766890459136, ScreenName=MBCAHouston, Created=Mon Feb 13 16:02:46 +0000 2017, Text='The latest The MBCA Houston Daily! https://t.co/b5IWEKpcd9 Thanks to @ARtvKimatni #actuallivingscientist #was17'),\n",
       "   Status(ID=830221799342223361, ScreenName=InsectophileJim, Created=Sat Feb 11 01:07:56 +0000 2017, Text='RT @RickLambeth: Brother of more than one #actuallivingfarmer... I had/got to be an #actuallivingscientist instead.  Just glad there is sti…'),\n",
       "   Status(ID=830172944928223232, ScreenName=RickLambeth, Created=Fri Feb 10 21:53:48 +0000 2017, Text='Brother of more than one #actuallivingfarmer... I had/got to be an #actuallivingscientist instead.  Just glad there… https://t.co/914l59Uai1'),\n",
       "   Status(ID=830068240059600901, ScreenName=karashosho01, Created=Fri Feb 10 14:57:45 +0000 2017, Text='#actuallivingscientist https://t.co/5Rcgaq43dE'),\n",
       "   Status(ID=829349170150592512, ScreenName=TDGiardina, Created=Wed Feb 08 15:20:25 +0000 2017, Text=\"I'm an #ActualSocialScientist in patient safety - exploring patients' experiences of diagnostic errors. #actuallivingscientist\"),\n",
       "   Status(ID=829349135509811201, ScreenName=CarlaLouisa, Created=Wed Feb 08 15:20:17 +0000 2017, Text=\"RT @DeltagrlNC: Hi I'm Angela and I'm a Microbiologist that test IV drugs for sterility. #actuallivingscientist #DressLikeAWoman https://t.…\"),\n",
       "   Status(ID=829104435783729153, ScreenName=InsectophileJim, Created=Tue Feb 07 23:07:56 +0000 2017, Text=\"RT @KathAGar: Hi, I'm Kathleen. I'm an #actuallivingscientist who studies ways that coastal communities can adapt to rising sea level and c…\"),\n",
       "   Status(ID=829026630874042371, ScreenName=KathAGar, Created=Tue Feb 07 17:58:46 +0000 2017, Text=\"Hi, I'm Kathleen. I'm an #actuallivingscientist who studies ways that coastal communities can adapt to rising sea l… https://t.co/WR9iN71xdi\"),\n",
       "   Status(ID=829013505441484801, ScreenName=CarlaLouisa, Created=Tue Feb 07 17:06:36 +0000 2017, Text=\"RT @drkristymurray: I'm an #ActualLivingScientist who studies infectious pathogens. I like to #DressLikeAWoman https://t.co/BOGK1Tpapa\"),\n",
       "   Status(ID=829005449123024896, ScreenName=Aiims1742, Created=Tue Feb 07 16:34:35 +0000 2017, Text='I would recommend everyone follow @ScientistTrump \\n#ActualLivingScientist https://t.co/J0nkOm6U2r'),\n",
       "   Status(ID=828827425740046336, ScreenName=MichaelAlliman, Created=Tue Feb 07 04:47:11 +0000 2017, Text='The fact that most of the respondents in this thread are women restores a shred of hope in me.  #actuallivingscientist'),\n",
       "   Status(ID=828700281055481857, ScreenName=momneph, Created=Mon Feb 06 20:21:58 +0000 2017, Text=\"RT @drkristymurray: I'm an #ActualLivingScientist who studies infectious pathogens. I like to #DressLikeAWoman https://t.co/BOGK1Tpapa\"),\n",
       "   Status(ID=828629679959658497, ScreenName=joan_mediator, Created=Mon Feb 06 15:41:25 +0000 2017, Text=\"RT @drkristymurray: I'm an #ActualLivingScientist who studies infectious pathogens. I like to #DressLikeAWoman https://t.co/BOGK1Tpapa\"),\n",
       "   Status(ID=828628126452301824, ScreenName=DavidFisman, Created=Mon Feb 06 15:35:15 +0000 2017, Text=\"RT @drkristymurray: I'm an #ActualLivingScientist who studies infectious pathogens. I like to #DressLikeAWoman https://t.co/BOGK1Tpapa\"),\n",
       "   Status(ID=828627918083481600, ScreenName=DiagnosticChick, Created=Mon Feb 06 15:34:25 +0000 2017, Text=\"RT @drkristymurray: I'm an #ActualLivingScientist who studies infectious pathogens. I like to #DressLikeAWoman https://t.co/BOGK1Tpapa\"),\n",
       "   Status(ID=828385188677816320, ScreenName=BCM_TropMed, Created=Sun Feb 05 23:29:54 +0000 2017, Text=\"RT @drkristymurray: I'm an #ActualLivingScientist who studies infectious pathogens. I like to #DressLikeAWoman https://t.co/BOGK1Tpapa\"),\n",
       "   Status(ID=828373352205185025, ScreenName=QutubLab, Created=Sun Feb 05 22:42:52 +0000 2017, Text='Congrats to @arun_mahadevan who won an IBB travel award to present his studies on developing neurons!… https://t.co/0nn37tr9Nh'),\n",
       "   Status(ID=828368849527566336, ScreenName=dmfitz424, Created=Sun Feb 05 22:24:58 +0000 2017, Text=\"I'm an #actuallivingscientist and I always #DressLikeAWoman! #MadScientist #ScienceMarch #ScienceMarchHOU https://t.co/1ifM5XbIQB\")]},\n",
       " {'location': [29.74, -95.49],\n",
       "  'tweets': [Status(ID=831171766890459136, ScreenName=MBCAHouston, Created=Mon Feb 13 16:02:46 +0000 2017, Text='The latest The MBCA Houston Daily! https://t.co/b5IWEKpcd9 Thanks to @ARtvKimatni #actuallivingscientist #was17'),\n",
       "   Status(ID=830221799342223361, ScreenName=InsectophileJim, Created=Sat Feb 11 01:07:56 +0000 2017, Text='RT @RickLambeth: Brother of more than one #actuallivingfarmer... I had/got to be an #actuallivingscientist instead.  Just glad there is sti…'),\n",
       "   Status(ID=830172944928223232, ScreenName=RickLambeth, Created=Fri Feb 10 21:53:48 +0000 2017, Text='Brother of more than one #actuallivingfarmer... I had/got to be an #actuallivingscientist instead.  Just glad there… https://t.co/914l59Uai1'),\n",
       "   Status(ID=830068240059600901, ScreenName=karashosho01, Created=Fri Feb 10 14:57:45 +0000 2017, Text='#actuallivingscientist https://t.co/5Rcgaq43dE'),\n",
       "   Status(ID=829349170150592512, ScreenName=TDGiardina, Created=Wed Feb 08 15:20:25 +0000 2017, Text=\"I'm an #ActualSocialScientist in patient safety - exploring patients' experiences of diagnostic errors. #actuallivingscientist\"),\n",
       "   Status(ID=829349135509811201, ScreenName=CarlaLouisa, Created=Wed Feb 08 15:20:17 +0000 2017, Text=\"RT @DeltagrlNC: Hi I'm Angela and I'm a Microbiologist that test IV drugs for sterility. #actuallivingscientist #DressLikeAWoman https://t.…\"),\n",
       "   Status(ID=829104435783729153, ScreenName=InsectophileJim, Created=Tue Feb 07 23:07:56 +0000 2017, Text=\"RT @KathAGar: Hi, I'm Kathleen. I'm an #actuallivingscientist who studies ways that coastal communities can adapt to rising sea level and c…\"),\n",
       "   Status(ID=829026630874042371, ScreenName=KathAGar, Created=Tue Feb 07 17:58:46 +0000 2017, Text=\"Hi, I'm Kathleen. I'm an #actuallivingscientist who studies ways that coastal communities can adapt to rising sea l… https://t.co/WR9iN71xdi\"),\n",
       "   Status(ID=829013505441484801, ScreenName=CarlaLouisa, Created=Tue Feb 07 17:06:36 +0000 2017, Text=\"RT @drkristymurray: I'm an #ActualLivingScientist who studies infectious pathogens. I like to #DressLikeAWoman https://t.co/BOGK1Tpapa\"),\n",
       "   Status(ID=829005449123024896, ScreenName=Aiims1742, Created=Tue Feb 07 16:34:35 +0000 2017, Text='I would recommend everyone follow @ScientistTrump \\n#ActualLivingScientist https://t.co/J0nkOm6U2r'),\n",
       "   Status(ID=828827425740046336, ScreenName=MichaelAlliman, Created=Tue Feb 07 04:47:11 +0000 2017, Text='The fact that most of the respondents in this thread are women restores a shred of hope in me.  #actuallivingscientist'),\n",
       "   Status(ID=828700281055481857, ScreenName=momneph, Created=Mon Feb 06 20:21:58 +0000 2017, Text=\"RT @drkristymurray: I'm an #ActualLivingScientist who studies infectious pathogens. I like to #DressLikeAWoman https://t.co/BOGK1Tpapa\"),\n",
       "   Status(ID=828629679959658497, ScreenName=joan_mediator, Created=Mon Feb 06 15:41:25 +0000 2017, Text=\"RT @drkristymurray: I'm an #ActualLivingScientist who studies infectious pathogens. I like to #DressLikeAWoman https://t.co/BOGK1Tpapa\"),\n",
       "   Status(ID=828628126452301824, ScreenName=DavidFisman, Created=Mon Feb 06 15:35:15 +0000 2017, Text=\"RT @drkristymurray: I'm an #ActualLivingScientist who studies infectious pathogens. I like to #DressLikeAWoman https://t.co/BOGK1Tpapa\"),\n",
       "   Status(ID=828627918083481600, ScreenName=DiagnosticChick, Created=Mon Feb 06 15:34:25 +0000 2017, Text=\"RT @drkristymurray: I'm an #ActualLivingScientist who studies infectious pathogens. I like to #DressLikeAWoman https://t.co/BOGK1Tpapa\"),\n",
       "   Status(ID=828385188677816320, ScreenName=BCM_TropMed, Created=Sun Feb 05 23:29:54 +0000 2017, Text=\"RT @drkristymurray: I'm an #ActualLivingScientist who studies infectious pathogens. I like to #DressLikeAWoman https://t.co/BOGK1Tpapa\"),\n",
       "   Status(ID=828373352205185025, ScreenName=QutubLab, Created=Sun Feb 05 22:42:52 +0000 2017, Text='Congrats to @arun_mahadevan who won an IBB travel award to present his studies on developing neurons!… https://t.co/0nn37tr9Nh'),\n",
       "   Status(ID=828368849527566336, ScreenName=dmfitz424, Created=Sun Feb 05 22:24:58 +0000 2017, Text=\"I'm an #actuallivingscientist and I always #DressLikeAWoman! #MadScientist #ScienceMarch #ScienceMarchHOU https://t.co/1ifM5XbIQB\")]},\n",
       " {'location': [29.56, -95.1],\n",
       "  'tweets': [Status(ID=828647438680485889, ScreenName=TalkIBC, Created=Mon Feb 06 16:51:59 +0000 2017, Text='Have you seen this # @thecancergeek ? #actuallivingscientist  so cool! #researchmatters'),\n",
       "   Status(ID=828427414694928386, ScreenName=ScituateSciSpec, Created=Mon Feb 06 02:17:41 +0000 2017, Text=\"RT @JulieSDyess: Here's a few pictures of me an #actuallivingscientist and #educator #dressinglikeawoman https://t.co/N1ALY4alJW\"),\n",
       "   Status(ID=828409020419547136, ScreenName=JulieSDyess, Created=Mon Feb 06 01:04:36 +0000 2017, Text=\"Here's a few pictures of me an #actuallivingscientist and #educator #dressinglikeawoman https://t.co/N1ALY4alJW\")]},\n",
       " {'location': [29.61, -95.12],\n",
       "  'tweets': [Status(ID=828427414694928386, ScreenName=ScituateSciSpec, Created=Mon Feb 06 02:17:41 +0000 2017, Text=\"RT @JulieSDyess: Here's a few pictures of me an #actuallivingscientist and #educator #dressinglikeawoman https://t.co/N1ALY4alJW\"),\n",
       "   Status(ID=828409020419547136, ScreenName=JulieSDyess, Created=Mon Feb 06 01:04:36 +0000 2017, Text=\"Here's a few pictures of me an #actuallivingscientist and #educator #dressinglikeawoman https://t.co/N1ALY4alJW\")]},\n",
       " {'location': [29.93, -95.39], 'tweets': []},\n",
       " {'location': [29.65, -95.28], 'tweets': []},\n",
       " {'location': [29.57, -95.13],\n",
       "  'tweets': [Status(ID=828647438680485889, ScreenName=TalkIBC, Created=Mon Feb 06 16:51:59 +0000 2017, Text='Have you seen this # @thecancergeek ? #actuallivingscientist  so cool! #researchmatters'),\n",
       "   Status(ID=828427414694928386, ScreenName=ScituateSciSpec, Created=Mon Feb 06 02:17:41 +0000 2017, Text=\"RT @JulieSDyess: Here's a few pictures of me an #actuallivingscientist and #educator #dressinglikeawoman https://t.co/N1ALY4alJW\"),\n",
       "   Status(ID=828409020419547136, ScreenName=JulieSDyess, Created=Mon Feb 06 01:04:36 +0000 2017, Text=\"Here's a few pictures of me an #actuallivingscientist and #educator #dressinglikeawoman https://t.co/N1ALY4alJW\")]}]"
      ]
     },
     "execution_count": 117,
     "metadata": {},
     "output_type": "execute_result"
    }
   ],
   "source": [
    "arrayOfTweetsByLocatA4 = []\n",
    "for index, row in GreaterHouston_Zip46t60.iterrows():\n",
    "    lat = row['latitude']\n",
    "    long = row['longitude']\n",
    "    results_forEach = api.GetSearch(raw_query=\"q=%23actuallivingscientist&geocode={},{},10km&result_type=recent&since=2017-02-01&count=50\".format(lat,long))\n",
    "    arrayOfTweetsByLocatA4.append({\"location\":[lat,long],\"tweets\":results_forEach}) \n",
    "\n",
    "arrayOfTweetsByLocatA4"
   ]
  },
  {
   "cell_type": "code",
   "execution_count": 131,
   "metadata": {
    "collapsed": true
   },
   "outputs": [],
   "source": [
    "thefile_arrayOfTweetsByLocatA4 = open('GreaterHouston_Zip46t60.txt', 'w')\n",
    "for item in arrayOfTweetsByLocatA4:\n",
    "  thefile_arrayOfTweetsByLocatA4.write(\"%s\\n\" % item)"
   ]
  },
  {
   "cell_type": "markdown",
   "metadata": {},
   "source": [
    "GreaterHouston_Zip61t74"
   ]
  },
  {
   "cell_type": "code",
   "execution_count": 129,
   "metadata": {
    "collapsed": false
   },
   "outputs": [
    {
     "data": {
      "text/plain": [
       "[{'location': [29.92, -95.54], 'tweets': []},\n",
       " {'location': [29.93, -95.6], 'tweets': []},\n",
       " {'location': [29.96, -95.5], 'tweets': []},\n",
       " {'location': [29.95, -95.45], 'tweets': []},\n",
       " {'location': [30.01, -95.49], 'tweets': []},\n",
       " {'location': [29.99, -95.53], 'tweets': []},\n",
       " {'location': [29.98, -95.57], 'tweets': []},\n",
       " {'location': [29.65, -95.52], 'tweets': []},\n",
       " {'location': [29.7, -95.58], 'tweets': []},\n",
       " {'location': [30.0, -95.4], 'tweets': []},\n",
       " {'location': [29.69, -95.52], 'tweets': []},\n",
       " {'location': [29.62, -95.27], 'tweets': []},\n",
       " {'location': [29.86, -95.38], 'tweets': []}]"
      ]
     },
     "execution_count": 129,
     "metadata": {},
     "output_type": "execute_result"
    }
   ],
   "source": [
    "arrayOfTweetsByLocatA5 = []\n",
    "for index, row in GreaterHouston_Zip61t74.iterrows():\n",
    "    lat = row['latitude']\n",
    "    long = row['longitude']\n",
    "    results_forEach = api.GetSearch(raw_query=\"q=%23actuallivingscientist&geocode={},{},10km&result_type=recent&since=2017-02-01&count=50\".format(lat,long))\n",
    "    arrayOfTweetsByLocatA5.append({\"location\":[lat,long],\"tweets\":results_forEach}) \n",
    "\n",
    "arrayOfTweetsByLocatA5"
   ]
  },
  {
   "cell_type": "code",
   "execution_count": 130,
   "metadata": {
    "collapsed": true
   },
   "outputs": [],
   "source": [
    "thefile_arrayOfTweetsByLocatA5 = open('GreaterHouston_Zip61t74.txt', 'w')\n",
    "for item in arrayOfTweetsByLocatA5:\n",
    "    thefile_arrayOfTweetsByLocatA5.write(\"%s\\n\" % item)"
   ]
  },
  {
   "cell_type": "markdown",
   "metadata": {},
   "source": [
    "GreaterHouston_Zip75t85"
   ]
  },
  {
   "cell_type": "code",
   "execution_count": 123,
   "metadata": {
    "collapsed": false
   },
   "outputs": [
    {
     "data": {
      "text/plain": [
       "[{'location': [29.85, -95.25], 'tweets': []},\n",
       " {'location': [29.78, -95.6], 'tweets': []},\n",
       " {'location': [29.82, -95.52], 'tweets': []},\n",
       " {'location': [29.71, -95.48],\n",
       "  'tweets': [Status(ID=831171766890459136, ScreenName=MBCAHouston, Created=Mon Feb 13 16:02:46 +0000 2017, Text='The latest The MBCA Houston Daily! https://t.co/b5IWEKpcd9 Thanks to @ARtvKimatni #actuallivingscientist #was17'),\n",
       "   Status(ID=830221799342223361, ScreenName=InsectophileJim, Created=Sat Feb 11 01:07:56 +0000 2017, Text='RT @RickLambeth: Brother of more than one #actuallivingfarmer... I had/got to be an #actuallivingscientist instead.  Just glad there is sti…'),\n",
       "   Status(ID=830172944928223232, ScreenName=RickLambeth, Created=Fri Feb 10 21:53:48 +0000 2017, Text='Brother of more than one #actuallivingfarmer... I had/got to be an #actuallivingscientist instead.  Just glad there… https://t.co/914l59Uai1'),\n",
       "   Status(ID=830068240059600901, ScreenName=karashosho01, Created=Fri Feb 10 14:57:45 +0000 2017, Text='#actuallivingscientist https://t.co/5Rcgaq43dE'),\n",
       "   Status(ID=829349170150592512, ScreenName=TDGiardina, Created=Wed Feb 08 15:20:25 +0000 2017, Text=\"I'm an #ActualSocialScientist in patient safety - exploring patients' experiences of diagnostic errors. #actuallivingscientist\"),\n",
       "   Status(ID=829349135509811201, ScreenName=CarlaLouisa, Created=Wed Feb 08 15:20:17 +0000 2017, Text=\"RT @DeltagrlNC: Hi I'm Angela and I'm a Microbiologist that test IV drugs for sterility. #actuallivingscientist #DressLikeAWoman https://t.…\"),\n",
       "   Status(ID=829104435783729153, ScreenName=InsectophileJim, Created=Tue Feb 07 23:07:56 +0000 2017, Text=\"RT @KathAGar: Hi, I'm Kathleen. I'm an #actuallivingscientist who studies ways that coastal communities can adapt to rising sea level and c…\"),\n",
       "   Status(ID=829026630874042371, ScreenName=KathAGar, Created=Tue Feb 07 17:58:46 +0000 2017, Text=\"Hi, I'm Kathleen. I'm an #actuallivingscientist who studies ways that coastal communities can adapt to rising sea l… https://t.co/WR9iN71xdi\"),\n",
       "   Status(ID=829013505441484801, ScreenName=CarlaLouisa, Created=Tue Feb 07 17:06:36 +0000 2017, Text=\"RT @drkristymurray: I'm an #ActualLivingScientist who studies infectious pathogens. I like to #DressLikeAWoman https://t.co/BOGK1Tpapa\"),\n",
       "   Status(ID=829005449123024896, ScreenName=Aiims1742, Created=Tue Feb 07 16:34:35 +0000 2017, Text='I would recommend everyone follow @ScientistTrump \\n#ActualLivingScientist https://t.co/J0nkOm6U2r'),\n",
       "   Status(ID=828827425740046336, ScreenName=MichaelAlliman, Created=Tue Feb 07 04:47:11 +0000 2017, Text='The fact that most of the respondents in this thread are women restores a shred of hope in me.  #actuallivingscientist'),\n",
       "   Status(ID=828700281055481857, ScreenName=momneph, Created=Mon Feb 06 20:21:58 +0000 2017, Text=\"RT @drkristymurray: I'm an #ActualLivingScientist who studies infectious pathogens. I like to #DressLikeAWoman https://t.co/BOGK1Tpapa\"),\n",
       "   Status(ID=828629679959658497, ScreenName=joan_mediator, Created=Mon Feb 06 15:41:25 +0000 2017, Text=\"RT @drkristymurray: I'm an #ActualLivingScientist who studies infectious pathogens. I like to #DressLikeAWoman https://t.co/BOGK1Tpapa\"),\n",
       "   Status(ID=828628126452301824, ScreenName=DavidFisman, Created=Mon Feb 06 15:35:15 +0000 2017, Text=\"RT @drkristymurray: I'm an #ActualLivingScientist who studies infectious pathogens. I like to #DressLikeAWoman https://t.co/BOGK1Tpapa\"),\n",
       "   Status(ID=828627918083481600, ScreenName=DiagnosticChick, Created=Mon Feb 06 15:34:25 +0000 2017, Text=\"RT @drkristymurray: I'm an #ActualLivingScientist who studies infectious pathogens. I like to #DressLikeAWoman https://t.co/BOGK1Tpapa\"),\n",
       "   Status(ID=828385188677816320, ScreenName=BCM_TropMed, Created=Sun Feb 05 23:29:54 +0000 2017, Text=\"RT @drkristymurray: I'm an #ActualLivingScientist who studies infectious pathogens. I like to #DressLikeAWoman https://t.co/BOGK1Tpapa\"),\n",
       "   Status(ID=828373352205185025, ScreenName=QutubLab, Created=Sun Feb 05 22:42:52 +0000 2017, Text='Congrats to @arun_mahadevan who won an IBB travel award to present his studies on developing neurons!… https://t.co/0nn37tr9Nh'),\n",
       "   Status(ID=828368849527566336, ScreenName=dmfitz424, Created=Sun Feb 05 22:24:58 +0000 2017, Text=\"I'm an #actuallivingscientist and I always #DressLikeAWoman! #MadScientist #ScienceMarch #ScienceMarchHOU https://t.co/1ifM5XbIQB\")]},\n",
       " {'location': [29.72, -95.64], 'tweets': []},\n",
       " {'location': [29.69, -95.65], 'tweets': []},\n",
       " {'location': [29.83, -95.66], 'tweets': []},\n",
       " {'location': [29.62, -95.49], 'tweets': []},\n",
       " {'location': [29.92, -95.49], 'tweets': []},\n",
       " {'location': [29.69, -95.3],\n",
       "  'tweets': [Status(ID=831171766890459136, ScreenName=MBCAHouston, Created=Mon Feb 13 16:02:46 +0000 2017, Text='The latest The MBCA Houston Daily! https://t.co/b5IWEKpcd9 Thanks to @ARtvKimatni #actuallivingscientist #was17'),\n",
       "   Status(ID=830221799342223361, ScreenName=InsectophileJim, Created=Sat Feb 11 01:07:56 +0000 2017, Text='RT @RickLambeth: Brother of more than one #actuallivingfarmer... I had/got to be an #actuallivingscientist instead.  Just glad there is sti…'),\n",
       "   Status(ID=830172944928223232, ScreenName=RickLambeth, Created=Fri Feb 10 21:53:48 +0000 2017, Text='Brother of more than one #actuallivingfarmer... I had/got to be an #actuallivingscientist instead.  Just glad there… https://t.co/914l59Uai1'),\n",
       "   Status(ID=830068240059600901, ScreenName=karashosho01, Created=Fri Feb 10 14:57:45 +0000 2017, Text='#actuallivingscientist https://t.co/5Rcgaq43dE'),\n",
       "   Status(ID=829349170150592512, ScreenName=TDGiardina, Created=Wed Feb 08 15:20:25 +0000 2017, Text=\"I'm an #ActualSocialScientist in patient safety - exploring patients' experiences of diagnostic errors. #actuallivingscientist\"),\n",
       "   Status(ID=829349135509811201, ScreenName=CarlaLouisa, Created=Wed Feb 08 15:20:17 +0000 2017, Text=\"RT @DeltagrlNC: Hi I'm Angela and I'm a Microbiologist that test IV drugs for sterility. #actuallivingscientist #DressLikeAWoman https://t.…\"),\n",
       "   Status(ID=829104435783729153, ScreenName=InsectophileJim, Created=Tue Feb 07 23:07:56 +0000 2017, Text=\"RT @KathAGar: Hi, I'm Kathleen. I'm an #actuallivingscientist who studies ways that coastal communities can adapt to rising sea level and c…\"),\n",
       "   Status(ID=829026630874042371, ScreenName=KathAGar, Created=Tue Feb 07 17:58:46 +0000 2017, Text=\"Hi, I'm Kathleen. I'm an #actuallivingscientist who studies ways that coastal communities can adapt to rising sea l… https://t.co/WR9iN71xdi\"),\n",
       "   Status(ID=829013505441484801, ScreenName=CarlaLouisa, Created=Tue Feb 07 17:06:36 +0000 2017, Text=\"RT @drkristymurray: I'm an #ActualLivingScientist who studies infectious pathogens. I like to #DressLikeAWoman https://t.co/BOGK1Tpapa\"),\n",
       "   Status(ID=829005449123024896, ScreenName=Aiims1742, Created=Tue Feb 07 16:34:35 +0000 2017, Text='I would recommend everyone follow @ScientistTrump \\n#ActualLivingScientist https://t.co/J0nkOm6U2r'),\n",
       "   Status(ID=828827425740046336, ScreenName=MichaelAlliman, Created=Tue Feb 07 04:47:11 +0000 2017, Text='The fact that most of the respondents in this thread are women restores a shred of hope in me.  #actuallivingscientist'),\n",
       "   Status(ID=828700281055481857, ScreenName=momneph, Created=Mon Feb 06 20:21:58 +0000 2017, Text=\"RT @drkristymurray: I'm an #ActualLivingScientist who studies infectious pathogens. I like to #DressLikeAWoman https://t.co/BOGK1Tpapa\"),\n",
       "   Status(ID=828629679959658497, ScreenName=joan_mediator, Created=Mon Feb 06 15:41:25 +0000 2017, Text=\"RT @drkristymurray: I'm an #ActualLivingScientist who studies infectious pathogens. I like to #DressLikeAWoman https://t.co/BOGK1Tpapa\"),\n",
       "   Status(ID=828628126452301824, ScreenName=DavidFisman, Created=Mon Feb 06 15:35:15 +0000 2017, Text=\"RT @drkristymurray: I'm an #ActualLivingScientist who studies infectious pathogens. I like to #DressLikeAWoman https://t.co/BOGK1Tpapa\"),\n",
       "   Status(ID=828627918083481600, ScreenName=DiagnosticChick, Created=Mon Feb 06 15:34:25 +0000 2017, Text=\"RT @drkristymurray: I'm an #ActualLivingScientist who studies infectious pathogens. I like to #DressLikeAWoman https://t.co/BOGK1Tpapa\"),\n",
       "   Status(ID=828385188677816320, ScreenName=BCM_TropMed, Created=Sun Feb 05 23:29:54 +0000 2017, Text=\"RT @drkristymurray: I'm an #ActualLivingScientist who studies infectious pathogens. I like to #DressLikeAWoman https://t.co/BOGK1Tpapa\"),\n",
       "   Status(ID=828373352205185025, ScreenName=QutubLab, Created=Sun Feb 05 22:42:52 +0000 2017, Text='Congrats to @arun_mahadevan who won an IBB travel award to present his studies on developing neurons!… https://t.co/0nn37tr9Nh'),\n",
       "   Status(ID=828368849527566336, ScreenName=dmfitz424, Created=Sun Feb 05 22:24:58 +0000 2017, Text=\"I'm an #actuallivingscientist and I always #DressLikeAWoman! #MadScientist #ScienceMarch #ScienceMarchHOU https://t.co/1ifM5XbIQB\")]}]"
      ]
     },
     "execution_count": 123,
     "metadata": {},
     "output_type": "execute_result"
    }
   ],
   "source": [
    "arrayOfTweetsByLocatA6 = []\n",
    "for index, row in GreaterHouston_Zip75t85.iterrows():\n",
    "    lat = row['latitude']\n",
    "    long = row['longitude']\n",
    "    results_forEach = api.GetSearch(raw_query=\"q=%23actuallivingscientist&geocode={},{},10km&result_type=recent&since=2017-02-01&count=50\".format(lat,long))\n",
    "    arrayOfTweetsByLocatA6.append({\"location\":[lat,long],\"tweets\":results_forEach}) \n",
    "\n",
    "arrayOfTweetsByLocatA6"
   ]
  },
  {
   "cell_type": "code",
   "execution_count": 127,
   "metadata": {
    "collapsed": true
   },
   "outputs": [],
   "source": [
    "thefile_arrayOfTweetsByLocatA6 = open('GreaterHouston_Zip75t85', 'w')\n",
    "for item in arrayOfTweetsByLocatA6:\n",
    "  thefile_arrayOfTweetsByLocatA6.write(\"%s\\n\" % item)"
   ]
  },
  {
   "cell_type": "code",
   "execution_count": null,
   "metadata": {
    "collapsed": true
   },
   "outputs": [],
   "source": [
    "GreaterHouston_Zip86t97"
   ]
  },
  {
   "cell_type": "code",
   "execution_count": 125,
   "metadata": {
    "collapsed": false
   },
   "outputs": [
    {
     "data": {
      "text/plain": [
       "[{'location': [29.59, -95.23],\n",
       "  'tweets': [Status(ID=828647438680485889, ScreenName=TalkIBC, Created=Mon Feb 06 16:51:59 +0000 2017, Text='Have you seen this # @thecancergeek ? #actuallivingscientist  so cool! #researchmatters'),\n",
       "   Status(ID=828427414694928386, ScreenName=ScituateSciSpec, Created=Mon Feb 06 02:17:41 +0000 2017, Text=\"RT @JulieSDyess: Here's a few pictures of me an #actuallivingscientist and #educator #dressinglikeawoman https://t.co/N1ALY4alJW\"),\n",
       "   Status(ID=828409020419547136, ScreenName=JulieSDyess, Created=Mon Feb 06 01:04:36 +0000 2017, Text=\"Here's a few pictures of me an #actuallivingscientist and #educator #dressinglikeawoman https://t.co/N1ALY4alJW\")]},\n",
       " {'location': [30.01, -95.44], 'tweets': []},\n",
       " {'location': [29.85, -95.44], 'tweets': []},\n",
       " {'location': [29.83, -95.47],\n",
       "  'tweets': [Status(ID=831171766890459136, ScreenName=MBCAHouston, Created=Mon Feb 13 16:02:46 +0000 2017, Text='The latest The MBCA Houston Daily! https://t.co/b5IWEKpcd9 Thanks to @ARtvKimatni #actuallivingscientist #was17'),\n",
       "   Status(ID=830221799342223361, ScreenName=InsectophileJim, Created=Sat Feb 11 01:07:56 +0000 2017, Text='RT @RickLambeth: Brother of more than one #actuallivingfarmer... I had/got to be an #actuallivingscientist instead.  Just glad there is sti…'),\n",
       "   Status(ID=830172944928223232, ScreenName=RickLambeth, Created=Fri Feb 10 21:53:48 +0000 2017, Text='Brother of more than one #actuallivingfarmer... I had/got to be an #actuallivingscientist instead.  Just glad there… https://t.co/914l59Uai1'),\n",
       "   Status(ID=830068240059600901, ScreenName=karashosho01, Created=Fri Feb 10 14:57:45 +0000 2017, Text='#actuallivingscientist https://t.co/5Rcgaq43dE'),\n",
       "   Status(ID=829349170150592512, ScreenName=TDGiardina, Created=Wed Feb 08 15:20:25 +0000 2017, Text=\"I'm an #ActualSocialScientist in patient safety - exploring patients' experiences of diagnostic errors. #actuallivingscientist\"),\n",
       "   Status(ID=829349135509811201, ScreenName=CarlaLouisa, Created=Wed Feb 08 15:20:17 +0000 2017, Text=\"RT @DeltagrlNC: Hi I'm Angela and I'm a Microbiologist that test IV drugs for sterility. #actuallivingscientist #DressLikeAWoman https://t.…\"),\n",
       "   Status(ID=829104435783729153, ScreenName=InsectophileJim, Created=Tue Feb 07 23:07:56 +0000 2017, Text=\"RT @KathAGar: Hi, I'm Kathleen. I'm an #actuallivingscientist who studies ways that coastal communities can adapt to rising sea level and c…\"),\n",
       "   Status(ID=829026630874042371, ScreenName=KathAGar, Created=Tue Feb 07 17:58:46 +0000 2017, Text=\"Hi, I'm Kathleen. I'm an #actuallivingscientist who studies ways that coastal communities can adapt to rising sea l… https://t.co/WR9iN71xdi\"),\n",
       "   Status(ID=829013505441484801, ScreenName=CarlaLouisa, Created=Tue Feb 07 17:06:36 +0000 2017, Text=\"RT @drkristymurray: I'm an #ActualLivingScientist who studies infectious pathogens. I like to #DressLikeAWoman https://t.co/BOGK1Tpapa\"),\n",
       "   Status(ID=829005449123024896, ScreenName=Aiims1742, Created=Tue Feb 07 16:34:35 +0000 2017, Text='I would recommend everyone follow @ScientistTrump \\n#ActualLivingScientist https://t.co/J0nkOm6U2r'),\n",
       "   Status(ID=828827425740046336, ScreenName=MichaelAlliman, Created=Tue Feb 07 04:47:11 +0000 2017, Text='The fact that most of the respondents in this thread are women restores a shred of hope in me.  #actuallivingscientist'),\n",
       "   Status(ID=828700281055481857, ScreenName=momneph, Created=Mon Feb 06 20:21:58 +0000 2017, Text=\"RT @drkristymurray: I'm an #ActualLivingScientist who studies infectious pathogens. I like to #DressLikeAWoman https://t.co/BOGK1Tpapa\"),\n",
       "   Status(ID=828629679959658497, ScreenName=joan_mediator, Created=Mon Feb 06 15:41:25 +0000 2017, Text=\"RT @drkristymurray: I'm an #ActualLivingScientist who studies infectious pathogens. I like to #DressLikeAWoman https://t.co/BOGK1Tpapa\"),\n",
       "   Status(ID=828628126452301824, ScreenName=DavidFisman, Created=Mon Feb 06 15:35:15 +0000 2017, Text=\"RT @drkristymurray: I'm an #ActualLivingScientist who studies infectious pathogens. I like to #DressLikeAWoman https://t.co/BOGK1Tpapa\"),\n",
       "   Status(ID=828627918083481600, ScreenName=DiagnosticChick, Created=Mon Feb 06 15:34:25 +0000 2017, Text=\"RT @drkristymurray: I'm an #ActualLivingScientist who studies infectious pathogens. I like to #DressLikeAWoman https://t.co/BOGK1Tpapa\"),\n",
       "   Status(ID=828385188677816320, ScreenName=BCM_TropMed, Created=Sun Feb 05 23:29:54 +0000 2017, Text=\"RT @drkristymurray: I'm an #ActualLivingScientist who studies infectious pathogens. I like to #DressLikeAWoman https://t.co/BOGK1Tpapa\"),\n",
       "   Status(ID=828373352205185025, ScreenName=QutubLab, Created=Sun Feb 05 22:42:52 +0000 2017, Text='Congrats to @arun_mahadevan who won an IBB travel award to present his studies on developing neurons!… https://t.co/0nn37tr9Nh'),\n",
       "   Status(ID=828368849527566336, ScreenName=dmfitz424, Created=Sun Feb 05 22:24:58 +0000 2017, Text=\"I'm an #actuallivingscientist and I always #DressLikeAWoman! #MadScientist #ScienceMarch #ScienceMarchHOU https://t.co/1ifM5XbIQB\")]},\n",
       " {'location': [29.86, -95.34], 'tweets': []},\n",
       " {'location': [29.77, -95.68], 'tweets': []},\n",
       " {'location': [29.91, -95.65], 'tweets': []},\n",
       " {'location': [29.68, -95.48], 'tweets': []},\n",
       " {'location': [29.76, -95.36],\n",
       "  'tweets': [Status(ID=831171766890459136, ScreenName=MBCAHouston, Created=Mon Feb 13 16:02:46 +0000 2017, Text='The latest The MBCA Houston Daily! https://t.co/b5IWEKpcd9 Thanks to @ARtvKimatni #actuallivingscientist #was17'),\n",
       "   Status(ID=830221799342223361, ScreenName=InsectophileJim, Created=Sat Feb 11 01:07:56 +0000 2017, Text='RT @RickLambeth: Brother of more than one #actuallivingfarmer... I had/got to be an #actuallivingscientist instead.  Just glad there is sti…'),\n",
       "   Status(ID=830172944928223232, ScreenName=RickLambeth, Created=Fri Feb 10 21:53:48 +0000 2017, Text='Brother of more than one #actuallivingfarmer... I had/got to be an #actuallivingscientist instead.  Just glad there… https://t.co/914l59Uai1'),\n",
       "   Status(ID=830068240059600901, ScreenName=karashosho01, Created=Fri Feb 10 14:57:45 +0000 2017, Text='#actuallivingscientist https://t.co/5Rcgaq43dE'),\n",
       "   Status(ID=829349170150592512, ScreenName=TDGiardina, Created=Wed Feb 08 15:20:25 +0000 2017, Text=\"I'm an #ActualSocialScientist in patient safety - exploring patients' experiences of diagnostic errors. #actuallivingscientist\"),\n",
       "   Status(ID=829349135509811201, ScreenName=CarlaLouisa, Created=Wed Feb 08 15:20:17 +0000 2017, Text=\"RT @DeltagrlNC: Hi I'm Angela and I'm a Microbiologist that test IV drugs for sterility. #actuallivingscientist #DressLikeAWoman https://t.…\"),\n",
       "   Status(ID=829104435783729153, ScreenName=InsectophileJim, Created=Tue Feb 07 23:07:56 +0000 2017, Text=\"RT @KathAGar: Hi, I'm Kathleen. I'm an #actuallivingscientist who studies ways that coastal communities can adapt to rising sea level and c…\"),\n",
       "   Status(ID=829026630874042371, ScreenName=KathAGar, Created=Tue Feb 07 17:58:46 +0000 2017, Text=\"Hi, I'm Kathleen. I'm an #actuallivingscientist who studies ways that coastal communities can adapt to rising sea l… https://t.co/WR9iN71xdi\"),\n",
       "   Status(ID=829013505441484801, ScreenName=CarlaLouisa, Created=Tue Feb 07 17:06:36 +0000 2017, Text=\"RT @drkristymurray: I'm an #ActualLivingScientist who studies infectious pathogens. I like to #DressLikeAWoman https://t.co/BOGK1Tpapa\"),\n",
       "   Status(ID=829005449123024896, ScreenName=Aiims1742, Created=Tue Feb 07 16:34:35 +0000 2017, Text='I would recommend everyone follow @ScientistTrump \\n#ActualLivingScientist https://t.co/J0nkOm6U2r'),\n",
       "   Status(ID=828827425740046336, ScreenName=MichaelAlliman, Created=Tue Feb 07 04:47:11 +0000 2017, Text='The fact that most of the respondents in this thread are women restores a shred of hope in me.  #actuallivingscientist'),\n",
       "   Status(ID=828700281055481857, ScreenName=momneph, Created=Mon Feb 06 20:21:58 +0000 2017, Text=\"RT @drkristymurray: I'm an #ActualLivingScientist who studies infectious pathogens. I like to #DressLikeAWoman https://t.co/BOGK1Tpapa\"),\n",
       "   Status(ID=828629679959658497, ScreenName=joan_mediator, Created=Mon Feb 06 15:41:25 +0000 2017, Text=\"RT @drkristymurray: I'm an #ActualLivingScientist who studies infectious pathogens. I like to #DressLikeAWoman https://t.co/BOGK1Tpapa\"),\n",
       "   Status(ID=828628126452301824, ScreenName=DavidFisman, Created=Mon Feb 06 15:35:15 +0000 2017, Text=\"RT @drkristymurray: I'm an #ActualLivingScientist who studies infectious pathogens. I like to #DressLikeAWoman https://t.co/BOGK1Tpapa\"),\n",
       "   Status(ID=828627918083481600, ScreenName=DiagnosticChick, Created=Mon Feb 06 15:34:25 +0000 2017, Text=\"RT @drkristymurray: I'm an #ActualLivingScientist who studies infectious pathogens. I like to #DressLikeAWoman https://t.co/BOGK1Tpapa\"),\n",
       "   Status(ID=828385188677816320, ScreenName=BCM_TropMed, Created=Sun Feb 05 23:29:54 +0000 2017, Text=\"RT @drkristymurray: I'm an #ActualLivingScientist who studies infectious pathogens. I like to #DressLikeAWoman https://t.co/BOGK1Tpapa\"),\n",
       "   Status(ID=828373352205185025, ScreenName=QutubLab, Created=Sun Feb 05 22:42:52 +0000 2017, Text='Congrats to @arun_mahadevan who won an IBB travel award to present his studies on developing neurons!… https://t.co/0nn37tr9Nh'),\n",
       "   Status(ID=828368849527566336, ScreenName=dmfitz424, Created=Sun Feb 05 22:24:58 +0000 2017, Text=\"I'm an #actuallivingscientist and I always #DressLikeAWoman! #MadScientist #ScienceMarch #ScienceMarchHOU https://t.co/1ifM5XbIQB\")]},\n",
       " {'location': [29.73, -95.42],\n",
       "  'tweets': [Status(ID=831171766890459136, ScreenName=MBCAHouston, Created=Mon Feb 13 16:02:46 +0000 2017, Text='The latest The MBCA Houston Daily! https://t.co/b5IWEKpcd9 Thanks to @ARtvKimatni #actuallivingscientist #was17'),\n",
       "   Status(ID=830221799342223361, ScreenName=InsectophileJim, Created=Sat Feb 11 01:07:56 +0000 2017, Text='RT @RickLambeth: Brother of more than one #actuallivingfarmer... I had/got to be an #actuallivingscientist instead.  Just glad there is sti…'),\n",
       "   Status(ID=830172944928223232, ScreenName=RickLambeth, Created=Fri Feb 10 21:53:48 +0000 2017, Text='Brother of more than one #actuallivingfarmer... I had/got to be an #actuallivingscientist instead.  Just glad there… https://t.co/914l59Uai1'),\n",
       "   Status(ID=830068240059600901, ScreenName=karashosho01, Created=Fri Feb 10 14:57:45 +0000 2017, Text='#actuallivingscientist https://t.co/5Rcgaq43dE'),\n",
       "   Status(ID=829349170150592512, ScreenName=TDGiardina, Created=Wed Feb 08 15:20:25 +0000 2017, Text=\"I'm an #ActualSocialScientist in patient safety - exploring patients' experiences of diagnostic errors. #actuallivingscientist\"),\n",
       "   Status(ID=829349135509811201, ScreenName=CarlaLouisa, Created=Wed Feb 08 15:20:17 +0000 2017, Text=\"RT @DeltagrlNC: Hi I'm Angela and I'm a Microbiologist that test IV drugs for sterility. #actuallivingscientist #DressLikeAWoman https://t.…\"),\n",
       "   Status(ID=829104435783729153, ScreenName=InsectophileJim, Created=Tue Feb 07 23:07:56 +0000 2017, Text=\"RT @KathAGar: Hi, I'm Kathleen. I'm an #actuallivingscientist who studies ways that coastal communities can adapt to rising sea level and c…\"),\n",
       "   Status(ID=829026630874042371, ScreenName=KathAGar, Created=Tue Feb 07 17:58:46 +0000 2017, Text=\"Hi, I'm Kathleen. I'm an #actuallivingscientist who studies ways that coastal communities can adapt to rising sea l… https://t.co/WR9iN71xdi\"),\n",
       "   Status(ID=829013505441484801, ScreenName=CarlaLouisa, Created=Tue Feb 07 17:06:36 +0000 2017, Text=\"RT @drkristymurray: I'm an #ActualLivingScientist who studies infectious pathogens. I like to #DressLikeAWoman https://t.co/BOGK1Tpapa\"),\n",
       "   Status(ID=829005449123024896, ScreenName=Aiims1742, Created=Tue Feb 07 16:34:35 +0000 2017, Text='I would recommend everyone follow @ScientistTrump \\n#ActualLivingScientist https://t.co/J0nkOm6U2r'),\n",
       "   Status(ID=828827425740046336, ScreenName=MichaelAlliman, Created=Tue Feb 07 04:47:11 +0000 2017, Text='The fact that most of the respondents in this thread are women restores a shred of hope in me.  #actuallivingscientist'),\n",
       "   Status(ID=828700281055481857, ScreenName=momneph, Created=Mon Feb 06 20:21:58 +0000 2017, Text=\"RT @drkristymurray: I'm an #ActualLivingScientist who studies infectious pathogens. I like to #DressLikeAWoman https://t.co/BOGK1Tpapa\"),\n",
       "   Status(ID=828629679959658497, ScreenName=joan_mediator, Created=Mon Feb 06 15:41:25 +0000 2017, Text=\"RT @drkristymurray: I'm an #ActualLivingScientist who studies infectious pathogens. I like to #DressLikeAWoman https://t.co/BOGK1Tpapa\"),\n",
       "   Status(ID=828628126452301824, ScreenName=DavidFisman, Created=Mon Feb 06 15:35:15 +0000 2017, Text=\"RT @drkristymurray: I'm an #ActualLivingScientist who studies infectious pathogens. I like to #DressLikeAWoman https://t.co/BOGK1Tpapa\"),\n",
       "   Status(ID=828627918083481600, ScreenName=DiagnosticChick, Created=Mon Feb 06 15:34:25 +0000 2017, Text=\"RT @drkristymurray: I'm an #ActualLivingScientist who studies infectious pathogens. I like to #DressLikeAWoman https://t.co/BOGK1Tpapa\"),\n",
       "   Status(ID=828385188677816320, ScreenName=BCM_TropMed, Created=Sun Feb 05 23:29:54 +0000 2017, Text=\"RT @drkristymurray: I'm an #ActualLivingScientist who studies infectious pathogens. I like to #DressLikeAWoman https://t.co/BOGK1Tpapa\"),\n",
       "   Status(ID=828373352205185025, ScreenName=QutubLab, Created=Sun Feb 05 22:42:52 +0000 2017, Text='Congrats to @arun_mahadevan who won an IBB travel award to present his studies on developing neurons!… https://t.co/0nn37tr9Nh'),\n",
       "   Status(ID=828368849527566336, ScreenName=dmfitz424, Created=Sun Feb 05 22:24:58 +0000 2017, Text=\"I'm an #actuallivingscientist and I always #DressLikeAWoman! #MadScientist #ScienceMarch #ScienceMarchHOU https://t.co/1ifM5XbIQB\")]},\n",
       " {'location': [29.67, -95.59], 'tweets': []}]"
      ]
     },
     "execution_count": 125,
     "metadata": {},
     "output_type": "execute_result"
    }
   ],
   "source": [
    "arrayOfTweetsByLocatA7 = []\n",
    "for index, row in GreaterHouston_Zip86t97.iterrows():\n",
    "    lat = row['latitude']\n",
    "    long = row['longitude']\n",
    "    results_forEach = api.GetSearch(raw_query=\"q=%23actuallivingscientist&geocode={},{},10km&result_type=recent&since=2017-02-01&count=50\".format(lat,long))\n",
    "    arrayOfTweetsByLocatA7.append({\"location\":[lat,long],\"tweets\":results_forEach}) \n",
    "\n",
    "arrayOfTweetsByLocatA7"
   ]
  },
  {
   "cell_type": "code",
   "execution_count": 128,
   "metadata": {
    "collapsed": true
   },
   "outputs": [],
   "source": [
    "thefile_arrayOfTweetsByLocatA7 = open('GreaterHouston_Zip86t97', 'w')\n",
    "for item in arrayOfTweetsByLocatA7:\n",
    "  thefile_arrayOfTweetsByLocatA7.write(\"%s\\n\" % item)"
   ]
  },
  {
   "cell_type": "code",
   "execution_count": null,
   "metadata": {
    "collapsed": true
   },
   "outputs": [],
   "source": []
  },
  {
   "cell_type": "code",
   "execution_count": null,
   "metadata": {
    "collapsed": true
   },
   "outputs": [],
   "source": []
  },
  {
   "cell_type": "markdown",
   "metadata": {},
   "source": [
    "result I want is above , below is test"
   ]
  },
  {
   "cell_type": "code",
   "execution_count": 92,
   "metadata": {
    "collapsed": false
   },
   "outputs": [
    {
     "data": {
      "text/plain": [
       "[Status(ID=831171766890459136, ScreenName=MBCAHouston, Created=Mon Feb 13 16:02:46 +0000 2017, Text='The latest The MBCA Houston Daily! https://t.co/b5IWEKpcd9 Thanks to @ARtvKimatni #actuallivingscientist #was17'),\n",
       " Status(ID=830221799342223361, ScreenName=InsectophileJim, Created=Sat Feb 11 01:07:56 +0000 2017, Text='RT @RickLambeth: Brother of more than one #actuallivingfarmer... I had/got to be an #actuallivingscientist instead.  Just glad there is sti…'),\n",
       " Status(ID=830172944928223232, ScreenName=RickLambeth, Created=Fri Feb 10 21:53:48 +0000 2017, Text='Brother of more than one #actuallivingfarmer... I had/got to be an #actuallivingscientist instead.  Just glad there… https://t.co/914l59Uai1'),\n",
       " Status(ID=830068240059600901, ScreenName=karashosho01, Created=Fri Feb 10 14:57:45 +0000 2017, Text='#actuallivingscientist https://t.co/5Rcgaq43dE'),\n",
       " Status(ID=829349170150592512, ScreenName=TDGiardina, Created=Wed Feb 08 15:20:25 +0000 2017, Text=\"I'm an #ActualSocialScientist in patient safety - exploring patients' experiences of diagnostic errors. #actuallivingscientist\"),\n",
       " Status(ID=829349135509811201, ScreenName=CarlaLouisa, Created=Wed Feb 08 15:20:17 +0000 2017, Text=\"RT @DeltagrlNC: Hi I'm Angela and I'm a Microbiologist that test IV drugs for sterility. #actuallivingscientist #DressLikeAWoman https://t.…\"),\n",
       " Status(ID=829104435783729153, ScreenName=InsectophileJim, Created=Tue Feb 07 23:07:56 +0000 2017, Text=\"RT @KathAGar: Hi, I'm Kathleen. I'm an #actuallivingscientist who studies ways that coastal communities can adapt to rising sea level and c…\"),\n",
       " Status(ID=829026630874042371, ScreenName=KathAGar, Created=Tue Feb 07 17:58:46 +0000 2017, Text=\"Hi, I'm Kathleen. I'm an #actuallivingscientist who studies ways that coastal communities can adapt to rising sea l… https://t.co/WR9iN71xdi\"),\n",
       " Status(ID=829013505441484801, ScreenName=CarlaLouisa, Created=Tue Feb 07 17:06:36 +0000 2017, Text=\"RT @drkristymurray: I'm an #ActualLivingScientist who studies infectious pathogens. I like to #DressLikeAWoman https://t.co/BOGK1Tpapa\"),\n",
       " Status(ID=829005449123024896, ScreenName=Aiims1742, Created=Tue Feb 07 16:34:35 +0000 2017, Text='I would recommend everyone follow @ScientistTrump \\n#ActualLivingScientist https://t.co/J0nkOm6U2r'),\n",
       " Status(ID=828827425740046336, ScreenName=MichaelAlliman, Created=Tue Feb 07 04:47:11 +0000 2017, Text='The fact that most of the respondents in this thread are women restores a shred of hope in me.  #actuallivingscientist'),\n",
       " Status(ID=828700281055481857, ScreenName=momneph, Created=Mon Feb 06 20:21:58 +0000 2017, Text=\"RT @drkristymurray: I'm an #ActualLivingScientist who studies infectious pathogens. I like to #DressLikeAWoman https://t.co/BOGK1Tpapa\"),\n",
       " Status(ID=828629679959658497, ScreenName=joan_mediator, Created=Mon Feb 06 15:41:25 +0000 2017, Text=\"RT @drkristymurray: I'm an #ActualLivingScientist who studies infectious pathogens. I like to #DressLikeAWoman https://t.co/BOGK1Tpapa\"),\n",
       " Status(ID=828628126452301824, ScreenName=DavidFisman, Created=Mon Feb 06 15:35:15 +0000 2017, Text=\"RT @drkristymurray: I'm an #ActualLivingScientist who studies infectious pathogens. I like to #DressLikeAWoman https://t.co/BOGK1Tpapa\"),\n",
       " Status(ID=828627918083481600, ScreenName=DiagnosticChick, Created=Mon Feb 06 15:34:25 +0000 2017, Text=\"RT @drkristymurray: I'm an #ActualLivingScientist who studies infectious pathogens. I like to #DressLikeAWoman https://t.co/BOGK1Tpapa\"),\n",
       " Status(ID=828385188677816320, ScreenName=BCM_TropMed, Created=Sun Feb 05 23:29:54 +0000 2017, Text=\"RT @drkristymurray: I'm an #ActualLivingScientist who studies infectious pathogens. I like to #DressLikeAWoman https://t.co/BOGK1Tpapa\"),\n",
       " Status(ID=828373352205185025, ScreenName=QutubLab, Created=Sun Feb 05 22:42:52 +0000 2017, Text='Congrats to @arun_mahadevan who won an IBB travel award to present his studies on developing neurons!… https://t.co/0nn37tr9Nh'),\n",
       " Status(ID=828368849527566336, ScreenName=dmfitz424, Created=Sun Feb 05 22:24:58 +0000 2017, Text=\"I'm an #actuallivingscientist and I always #DressLikeAWoman! #MadScientist #ScienceMarch #ScienceMarchHOU https://t.co/1ifM5XbIQB\")]"
      ]
     },
     "execution_count": 92,
     "metadata": {},
     "output_type": "execute_result"
    }
   ],
   "source": [
    "#results_forEach = api.GetSearch(raw_query=\"q=%23actuallivingscientist&geocode={},{},4km&result_type=recent&since=2017-02-13&count=2\".format(lat,long))\n",
    "\n",
    "\n",
    "results_withGeoRice = api.GetSearch(\n",
    "    raw_query=\"q=%23actuallivingscientist&geocode=29.719420,-95.401901,10km&result_type=recent&since=2017-02-01&count=100\")\n",
    "results_withGeoRice\n",
    "\n",
    "#raw_query=\"q=%23actuallivingscientist&geocode=29.719420,-95.401901,10km&result_type=recent&since=2017-02-01&count=100\")\n"
   ]
  },
  {
   "cell_type": "code",
   "execution_count": null,
   "metadata": {
    "collapsed": true
   },
   "outputs": [],
   "source": []
  }
 ],
 "metadata": {
  "kernelspec": {
   "display_name": "Python 3",
   "language": "python",
   "name": "python3"
  },
  "language_info": {
   "codemirror_mode": {
    "name": "ipython",
    "version": 3
   },
   "file_extension": ".py",
   "mimetype": "text/x-python",
   "name": "python",
   "nbconvert_exporter": "python",
   "pygments_lexer": "ipython3",
   "version": "3.5.2"
  }
 },
 "nbformat": 4,
 "nbformat_minor": 0
}
