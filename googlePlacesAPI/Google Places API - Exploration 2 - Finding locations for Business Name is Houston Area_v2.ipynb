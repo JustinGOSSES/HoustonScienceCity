{
 "cells": [
  {
   "cell_type": "markdown",
   "metadata": {},
   "source": [
    "## Exploration of using Google Places API for use in mapping out science related businesses that have science related job postings in Houston, Texas. "
   ]
  },
  {
   "cell_type": "markdown",
   "metadata": {},
   "source": [
    "#### started 2017-02-17"
   ]
  },
  {
   "cell_type": "code",
   "execution_count": 104,
   "metadata": {
    "collapsed": false
   },
   "outputs": [],
   "source": [
    "import requests\n",
    "import configparser\n",
    "import json\n",
    "import geojson"
   ]
  },
  {
   "cell_type": "markdown",
   "metadata": {},
   "source": [
    "### using <a href=\"https://docs.python.org/3/library/configparser.html\">configparser</a> to handle config file "
   ]
  },
  {
   "cell_type": "code",
   "execution_count": 46,
   "metadata": {
    "collapsed": true
   },
   "outputs": [],
   "source": [
    "config = configparser.ConfigParser()"
   ]
  },
  {
   "cell_type": "code",
   "execution_count": 47,
   "metadata": {
    "collapsed": false
   },
   "outputs": [
    {
     "data": {
      "text/plain": [
       "['./config.conf']"
      ]
     },
     "execution_count": 47,
     "metadata": {},
     "output_type": "execute_result"
    }
   ],
   "source": [
    "configFilePath = './config.conf'\n",
    "# configparser.ConfigParser().read(configFilePath)\n",
    "config.read(configFilePath)"
   ]
  },
  {
   "cell_type": "markdown",
   "metadata": {},
   "source": [
    "sets key as variable that contains the google-places-api key"
   ]
  },
  {
   "cell_type": "code",
   "execution_count": 48,
   "metadata": {
    "collapsed": false
   },
   "outputs": [],
   "source": [
    "# key = configparser['google-places-api']['key1']\n",
    "key = config['google-places-api']['key1']"
   ]
  },
  {
   "cell_type": "code",
   "execution_count": 49,
   "metadata": {
    "collapsed": true
   },
   "outputs": [],
   "source": [
    "key_pre = '+&key='"
   ]
  },
  {
   "cell_type": "markdown",
   "metadata": {},
   "source": [
    "### test 1: Anadarko"
   ]
  },
  {
   "cell_type": "code",
   "execution_count": 50,
   "metadata": {
    "collapsed": true
   },
   "outputs": [],
   "source": [
    "search_string_place = \"Anadarko+in+Houston+Texas\""
   ]
  },
  {
   "cell_type": "code",
   "execution_count": 51,
   "metadata": {
    "collapsed": true
   },
   "outputs": [],
   "source": [
    "base_url = 'https://maps.googleapis.com/maps/api/place/textsearch/json?query='"
   ]
  },
  {
   "cell_type": "code",
   "execution_count": 52,
   "metadata": {
    "collapsed": false
   },
   "outputs": [],
   "source": [
    "r = requests.get(base_url+search_string_place+key_pre+key)"
   ]
  },
  {
   "cell_type": "code",
   "execution_count": 53,
   "metadata": {
    "collapsed": false
   },
   "outputs": [
    {
     "data": {
      "text/plain": [
       "'{\\n   \"html_attributions\" : [],\\n   \"results\" : [\\n      {\\n         \"formatted_address\" : \"811 Main St, Houston, TX 77002, United States\",\\n         \"geometry\" : {\\n            \"location\" : {\\n               \"lat\" : 29.75793480000001,\\n               \"lng\" : -95.36348679999999\\n            },\\n            \"viewport\" : {\\n               \"northeast\" : {\\n                  \"lat\" : 29.7593997302915,\\n                  \"lng\" : -95.36233996970849\\n               },\\n               \"southwest\" : {\\n                  \"lat\" : 29.7567017697085,\\n                  \"lng\" : -95.36503793029149\\n               }\\n            }\\n         },\\n         \"icon\" : \"https://maps.gstatic.com/mapfiles/place_api/icons/civic_building-71.png\",\\n         \"id\" : \"bc48b3afcf2539828887670b23c45e5a2b58fbbb\",\\n         \"name\" : \"Anadarko Petroleum Corporation\",\\n         \"place_id\" : \"ChIJjdHTPDu_QIYRyt4suPDEKtU\",\\n         \"rating\" : 1,\\n         \"reference\" : \"CmRSAAAAfrLsNa2aaJxjJyxGKPU_dgwlcuYQy9pQ7y2N2scHB5h0ESMHt-V1s2CKTseBETUvkNuER1aUtanrDgzDiDQGa6bofi1lvhrwlYIfevZ8L1JgCrxm0QnnQTLZ7GSuXqCnEhCFOi0_3yx6fztEjp5en3hNGhQXs27qyhmHSqRZ4FeXezVTKSUW1Q\",\\n         \"types\" : [ \"point_of_interest\", \"establishment\" ]\\n      },\\n      {\\n         \"formatted_address\" : \"1201 Lake Robbins Dr, The Woodlands, TX 77380, United States\",\\n         \"geometry\" : {\\n            \"location\" : {\\n               \"lat\" : 30.1605858,\\n               \"lng\" : -95.4526077\\n            },\\n            \"viewport\" : {\\n               \"northeast\" : {\\n                  \"lat\" : 30.1621957802915,\\n                  \"lng\" : -95.45126691970849\\n               },\\n               \"southwest\" : {\\n                  \"lat\" : 30.1594978197085,\\n                  \"lng\" : -95.45396488029149\\n               }\\n            }\\n         },\\n         \"icon\" : \"https://maps.gstatic.com/mapfiles/place_api/icons/generic_business-71.png\",\\n         \"id\" : \"e5350b982f96c6c3d10e64b30983c41e48e048bd\",\\n         \"name\" : \"Anadarko Petroleum Corporation\",\\n         \"photos\" : [\\n            {\\n               \"height\" : 2554,\\n               \"html_attributions\" : [\\n                  \"\\\\u003ca href=\\\\\"https://maps.google.com/maps/contrib/101777054892627060577/photos\\\\\"\\\\u003eThomas Hall\\\\u003c/a\\\\u003e\"\\n               ],\\n               \"photo_reference\" : \"CoQBdwAAAEbL5zeUMG0-Ekq19CuTwyuAfyjRr1KHsmsV8h-ZL1QPzZCgP-f9MbCvBH_rGnh3DdI-GewcpHBr30fQKpFEzJjudCpaJqH9hW07cEuw5o39TtaEx2pQN_qNOR8QT92j8cdpVKdMP7KvtUX8VZw-AYUZfcyMgkznCXhZz-TxawgCEhCN-dNKcFkAH291PoEadolTGhSq__WqMRpuqv0JY4RUBjFGXUsazQ\",\\n               \"width\" : 3408\\n            }\\n         ],\\n         \"place_id\" : \"ChIJyUfRjc21QIYRsc8JkxRzujk\",\\n         \"rating\" : 4.7,\\n         \"reference\" : \"CmRRAAAAMSbLBQAnWaRUuUhuUHHbJc-dRtEcKxkhHxngtUp6uvNixv9GeJGBuSKgYjB5KD_Wh4VwYywheTZ4R_NIfIBMgWz70f8bryVGUWNiND9nCpBcBOjeACmt3fwELaESI4-OEhDPLCyL8TASNW-tn66e0zExGhRK2qcS74kOPHuhQ9RqDv4uGO5Rjg\",\\n         \"types\" : [ \"point_of_interest\", \"establishment\" ]\\n      }\\n   ],\\n   \"status\" : \"OK\"\\n}\\n'"
      ]
     },
     "execution_count": 53,
     "metadata": {},
     "output_type": "execute_result"
    }
   ],
   "source": [
    "r.text"
   ]
  },
  {
   "cell_type": "code",
   "execution_count": 54,
   "metadata": {
    "collapsed": false
   },
   "outputs": [
    {
     "data": {
      "text/plain": [
       "{'html_attributions': [],\n",
       " 'results': [{'formatted_address': '811 Main St, Houston, TX 77002, United States',\n",
       "   'geometry': {'location': {'lat': 29.75793480000001,\n",
       "     'lng': -95.36348679999999},\n",
       "    'viewport': {'northeast': {'lat': 29.7593997302915,\n",
       "      'lng': -95.36233996970849},\n",
       "     'southwest': {'lat': 29.7567017697085, 'lng': -95.36503793029149}}},\n",
       "   'icon': 'https://maps.gstatic.com/mapfiles/place_api/icons/civic_building-71.png',\n",
       "   'id': 'bc48b3afcf2539828887670b23c45e5a2b58fbbb',\n",
       "   'name': 'Anadarko Petroleum Corporation',\n",
       "   'place_id': 'ChIJjdHTPDu_QIYRyt4suPDEKtU',\n",
       "   'rating': 1,\n",
       "   'reference': 'CmRSAAAAfrLsNa2aaJxjJyxGKPU_dgwlcuYQy9pQ7y2N2scHB5h0ESMHt-V1s2CKTseBETUvkNuER1aUtanrDgzDiDQGa6bofi1lvhrwlYIfevZ8L1JgCrxm0QnnQTLZ7GSuXqCnEhCFOi0_3yx6fztEjp5en3hNGhQXs27qyhmHSqRZ4FeXezVTKSUW1Q',\n",
       "   'types': ['point_of_interest', 'establishment']},\n",
       "  {'formatted_address': '1201 Lake Robbins Dr, The Woodlands, TX 77380, United States',\n",
       "   'geometry': {'location': {'lat': 30.1605858, 'lng': -95.4526077},\n",
       "    'viewport': {'northeast': {'lat': 30.1621957802915,\n",
       "      'lng': -95.45126691970849},\n",
       "     'southwest': {'lat': 30.1594978197085, 'lng': -95.4539648802915}}},\n",
       "   'icon': 'https://maps.gstatic.com/mapfiles/place_api/icons/generic_business-71.png',\n",
       "   'id': 'e5350b982f96c6c3d10e64b30983c41e48e048bd',\n",
       "   'name': 'Anadarko Petroleum Corporation',\n",
       "   'photos': [{'height': 2554,\n",
       "     'html_attributions': ['<a href=\"https://maps.google.com/maps/contrib/101777054892627060577/photos\">Thomas Hall</a>'],\n",
       "     'photo_reference': 'CoQBdwAAAEbL5zeUMG0-Ekq19CuTwyuAfyjRr1KHsmsV8h-ZL1QPzZCgP-f9MbCvBH_rGnh3DdI-GewcpHBr30fQKpFEzJjudCpaJqH9hW07cEuw5o39TtaEx2pQN_qNOR8QT92j8cdpVKdMP7KvtUX8VZw-AYUZfcyMgkznCXhZz-TxawgCEhCN-dNKcFkAH291PoEadolTGhSq__WqMRpuqv0JY4RUBjFGXUsazQ',\n",
       "     'width': 3408}],\n",
       "   'place_id': 'ChIJyUfRjc21QIYRsc8JkxRzujk',\n",
       "   'rating': 4.7,\n",
       "   'reference': 'CmRRAAAAMSbLBQAnWaRUuUhuUHHbJc-dRtEcKxkhHxngtUp6uvNixv9GeJGBuSKgYjB5KD_Wh4VwYywheTZ4R_NIfIBMgWz70f8bryVGUWNiND9nCpBcBOjeACmt3fwELaESI4-OEhDPLCyL8TASNW-tn66e0zExGhRK2qcS74kOPHuhQ9RqDv4uGO5Rjg',\n",
       "   'types': ['point_of_interest', 'establishment']}],\n",
       " 'status': 'OK'}"
      ]
     },
     "execution_count": 54,
     "metadata": {},
     "output_type": "execute_result"
    }
   ],
   "source": [
    "r.json()"
   ]
  },
  {
   "cell_type": "code",
   "execution_count": 55,
   "metadata": {
    "collapsed": false
   },
   "outputs": [
    {
     "data": {
      "text/plain": [
       "{'lat': 29.75793480000001, 'lng': -95.36348679999999}"
      ]
     },
     "execution_count": 55,
     "metadata": {},
     "output_type": "execute_result"
    }
   ],
   "source": [
    "r.json()['results'][0]['geometry']['location']"
   ]
  },
  {
   "cell_type": "markdown",
   "metadata": {},
   "source": [
    "### Test 2 : Laboratories in Houston, Texas"
   ]
  },
  {
   "cell_type": "code",
   "execution_count": 56,
   "metadata": {
    "collapsed": true
   },
   "outputs": [],
   "source": [
    "search_string_place = \"Laboratories+in+Houston+Texas\""
   ]
  },
  {
   "cell_type": "code",
   "execution_count": 57,
   "metadata": {
    "collapsed": false
   },
   "outputs": [],
   "source": [
    "r = requests.get(base_url+search_string_place+key_pre+key)"
   ]
  },
  {
   "cell_type": "code",
   "execution_count": 58,
   "metadata": {
    "collapsed": false
   },
   "outputs": [
    {
     "data": {
      "text/plain": [
       "{'html_attributions': [],\n",
       " 'next_page_token': 'CoQC8wAAAJgbFIXNDC9VEWrNA_uofGfkiBjJk8DuhlYKKVwsZGFqYzAPbko6itJ-PHy37O8chuC3E6XnceTzbrp0KqaM6PeBWMASLp0tDWttL9DQ9BvECIlybDR-JAMu_8yz730FCdwD3IgQUJvpgx60kN7HJVrVdewvKtM2hylX3JQDzLsWS4ZpM68bEQMN4xHi2LLatQtowK0TjLawdJ4N6zcg1mEIDeoz-a296-pbS8Qd8rZY3d5vY51hY_YSw1Sqc8hghfcx4gCtjLn9RSvJVd52h-qPYN4kZ8oTQC-7TTvPY2wJuEQQYEFnmkaysbxv1zX8beGJ9OOZ7eiqJe86gOyVNqwSENbMe9f5qWbTu26vP_2qAAsaFDg3B8lTQlArJ6JiGXE8rbiwJUlL',\n",
       " 'results': [{'formatted_address': '10401 Town Park Dr, Houston, TX 77072, United States',\n",
       "   'geometry': {'location': {'lat': 29.7113274, 'lng': -95.5643411},\n",
       "    'viewport': {'northeast': {'lat': 29.7129034302915,\n",
       "      'lng': -95.56299041970848},\n",
       "     'southwest': {'lat': 29.7102054697085, 'lng': -95.5656883802915}}},\n",
       "   'icon': 'https://maps.gstatic.com/mapfiles/place_api/icons/generic_business-71.png',\n",
       "   'id': '7078987cb1134e7f553da988f36b59d3f89d2644',\n",
       "   'name': 'SpectraCell Laboratories, Inc.',\n",
       "   'place_id': 'ChIJ_d04iyzdQIYR8ihE3izy5Ug',\n",
       "   'rating': 5,\n",
       "   'reference': 'CmRRAAAAs9ppeyziL2z0xJABY1e-rFyvmngYfFQunnSjreZY_HYPJeRawAiVKrK7cukhpp4oSfPlv9jLynhTDx8_K5j1OwvOyNTtBSdacRB0fbfbXX3Bv_Ih2yPnxuWpZ73fP2ojEhDKDG0tXnlreZhgIJ5RM5cEGhSwd6S0woT2ew0a-ee_JL05G9T0QA',\n",
       "   'types': ['health', 'point_of_interest', 'establishment']},\n",
       "  {'formatted_address': '2400 Central Pkwy # R, Houston, TX 77092, United States',\n",
       "   'geometry': {'location': {'lat': 29.8090489, 'lng': -95.4647317},\n",
       "    'viewport': {'northeast': {'lat': 29.8104187802915,\n",
       "      'lng': -95.4636194197085},\n",
       "     'southwest': {'lat': 29.8077208197085, 'lng': -95.4663173802915}}},\n",
       "   'icon': 'https://maps.gstatic.com/mapfiles/place_api/icons/generic_business-71.png',\n",
       "   'id': '2c6802570ce5987b27d1af612d944c9c59d3ed76',\n",
       "   'name': 'Houston Metallurgical Lab Inc',\n",
       "   'photos': [{'height': 4096,\n",
       "     'html_attributions': ['<a href=\"https://maps.google.com/maps/contrib/104373577529869724619/photos\">Elizabeth Kwan</a>'],\n",
       "     'photo_reference': 'CoQBdwAAAOG8vOUg8iM3ox5J-AOIvoMhgynWeK-Rn1m8M2kNs-wcjnXQlMr19oqBrtxXslyQsULvrheWDqEVobRgfbLBdyhpDYFjQCbcBXYHMdoXKqRTUqagKbqYitBAfW0UErKbFpgE_AUZOHjoTLHLaKzeMiAfx5CrUZD1P73Fu2qiXg4VEhAQReHUYSQHqZ8eCFSOnqPoGhT4e7vqAybJ43slsRUQdLYPRXEyUA',\n",
       "     'width': 2304}],\n",
       "   'place_id': 'ChIJj6Qx04jGQIYRg4whQlTG32E',\n",
       "   'reference': 'CmRRAAAAKmsRJUCN_qVQ3dEQ0Hd2JUNvkJZTEmM388CKsxkOA9SGQ4d65MXrq-K4Q_W2etu719QHHGoUBSrEfy3ve7Iuf1scIrb1RK9ddP92TbfRdaIMkVbB8fJIT-twWyYk5XCLEhDAtL1P3YBbYl4OZkJ8ebYcGhRqfAhs9Fgx-LFADx4Gf5aEHTpCag',\n",
       "   'types': ['point_of_interest', 'establishment']},\n",
       "  {'formatted_address': '8311 Knight Rd, Houston, TX 77054, United States',\n",
       "   'geometry': {'location': {'lat': 29.6851044, 'lng': -95.39998469999999},\n",
       "    'viewport': {'northeast': {'lat': 29.6864536802915,\n",
       "      'lng': -95.39861806970849},\n",
       "     'southwest': {'lat': 29.6837557197085, 'lng': -95.40131603029151}}},\n",
       "   'icon': 'https://maps.gstatic.com/mapfiles/place_api/icons/generic_business-71.png',\n",
       "   'id': '9b27f3f69d79c9d57c2615556f6f1ad79cbff6c5',\n",
       "   'name': 'Access Clinical Laboratory, LLC',\n",
       "   'place_id': 'ChIJt7vO9wPAQIYR-WIwQiXPwIM',\n",
       "   'rating': 1,\n",
       "   'reference': 'CmRSAAAA8oWvt1xsboYs59wxJFAfBSPTAVAc3Yl8xB8JaN3uuc1cB3TPImSyVyrQTy4Y5HGk8alr4pGkCQI5ZtaJ5RlzWCMZzLNDvK6gC1kD1o_eSVSrwsWqBexiqFh4edyJhyL0EhBOkLe10TzsQa_8Og-sr0owGhQk_9AojY_9hZcqwHH8vy9dblTBHQ',\n",
       "   'types': ['health', 'point_of_interest', 'establishment']},\n",
       "  {'formatted_address': '10165 Harwin Dr # 150, Houston, TX 77036, United States',\n",
       "   'geometry': {'location': {'lat': 29.71637500000001, 'lng': -95.54257},\n",
       "    'viewport': {'northeast': {'lat': 29.71772398029151,\n",
       "      'lng': -95.54122101970849},\n",
       "     'southwest': {'lat': 29.71502601970851, 'lng': -95.5439189802915}}},\n",
       "   'icon': 'https://maps.gstatic.com/mapfiles/place_api/icons/generic_business-71.png',\n",
       "   'id': '4cac3245367b18fd6c6bac0f0cb71a7bf8b1a44d',\n",
       "   'name': 'SGS Accutest Inc - Houston, Texas',\n",
       "   'photos': [{'height': 1440,\n",
       "     'html_attributions': ['<a href=\"https://maps.google.com/maps/contrib/117806008492585596757/photos\">Tracey Del Rio</a>'],\n",
       "     'photo_reference': 'CoQBdwAAAOfmjC8ZEay8GA-WLE8n8KJ9WTOhD_Dcf-SuevPLl06IrwHbnTIV8W-usiwDXFMmA88s_X6j8TQxvw-hA1kLOWDaCzNPADZFiv1O17nNT1jyeFeIeLivMNtY8ZKpSZu6rNA0hKqug6030PLnQ1tRxSihXyggMx2kZvGTn9trSeCzEhDtKl6s4QxvXjxyuguq-_RnGhS6Ey_jtC2VBuofjJOzxCfrX_zSHQ',\n",
       "     'width': 2560}],\n",
       "   'place_id': 'ChIJfT2wTd7CQIYR3OpzmGmnqsg',\n",
       "   'reference': 'CmRSAAAAo-WJS-1fWLvk4vFQGqc9qQ3nKMLqc0NqjWzGIeqWb5KFlGygl2sIgFQ1bLFGD9_dXT3k3bShPRFCkmVSMVZXeyB-1-1uK-7amKGirf4MuMk9P82HaUe_xkk3Whhf0dmJEhDXqRNUBALoDnT-ehJ-ZKlGGhRFWGB1QHlsQ2cx26PQUqLw3tBiaQ',\n",
       "   'types': ['point_of_interest', 'establishment']},\n",
       "  {'formatted_address': '6316 Windfern Rd, Houston, TX 77040, United States',\n",
       "   'geometry': {'location': {'lat': 29.8613125, 'lng': -95.5363016},\n",
       "    'viewport': {'northeast': {'lat': 29.8626598302915,\n",
       "      'lng': -95.53546656970849},\n",
       "     'southwest': {'lat': 29.8599618697085, 'lng': -95.53816453029151}}},\n",
       "   'icon': 'https://maps.gstatic.com/mapfiles/place_api/icons/generic_business-71.png',\n",
       "   'id': '8422d2c19c89d41d8fee992eddb20ffd5ab68097',\n",
       "   'name': 'Core Laboratories Inc',\n",
       "   'place_id': 'ChIJkZDuNYrPQIYRsETFmlASbM8',\n",
       "   'rating': 3.6,\n",
       "   'reference': 'CmRSAAAAWVWGGpgX6hYJyAJsy77_FKQe5nhBuI5iV9i0l-S7grbVc1AeytC4LTmQhhorGrG_-d8rokdStWe6jbVMwEi_pHa5ZduimHfBkm6X_lASVPAvcilM44dDyT_R2Iz1muw9EhBto0aPl2Ev5GMoMZw6GMcmGhTm1Z_PG6z-safvuzQ7Gr_aOknHqg',\n",
       "   'types': ['point_of_interest', 'establishment']},\n",
       "  {'formatted_address': '10450 Stancliff Rd #210, Houston, TX 77099, United States',\n",
       "   'geometry': {'location': {'lat': 29.658668, 'lng': -95.56331689999999},\n",
       "    'viewport': {'northeast': {'lat': 29.6594978302915,\n",
       "      'lng': -95.56217391970848},\n",
       "     'southwest': {'lat': 29.65679986970851, 'lng': -95.56487188029149}}},\n",
       "   'icon': 'https://maps.gstatic.com/mapfiles/place_api/icons/generic_business-71.png',\n",
       "   'id': 'ded1638630eb18011d5240bd54a4493d86f62a4c',\n",
       "   'name': 'ALS Environmental',\n",
       "   'opening_hours': {'exceptional_date': [],\n",
       "    'open_now': False,\n",
       "    'weekday_text': []},\n",
       "   'photos': [{'height': 1219,\n",
       "     'html_attributions': ['<a href=\"https://maps.google.com/maps/contrib/113812417036482964934/photos\">ALS Environmental</a>'],\n",
       "     'photo_reference': 'CoQBdwAAAJwphfC-FfxmdpwDJ16wMboHtcoSG7SNI8amnQNoL-zhJM5Ct_-mKPCXfSz0Wcnb5bKkItaVeyqlhKiutfx5QlNBERLDfm_hjyLtlTjDcmKRONz48nbfA5PpRWYdXy84Vwi8Qu-X0EbiQD_nWAvFy69M1U1dP11pWiCkRLxRLNRjEhB2EnxYN0reUgWTDqxNJythGhRTWC9dSo9GnCHqXIe4CLZFsKK0QQ',\n",
       "     'width': 2580}],\n",
       "   'place_id': 'ChIJWfQR9OLnQIYRx917rdo1fC4',\n",
       "   'rating': 5,\n",
       "   'reference': 'CmRRAAAA2e3_9vtP9wtnu4SoL_uJaSobxMsEMbEXNVNLhrxKxPQzLQg-ZsJLnRNVZk_QBxtsKAjzMWM4ujYqozHTNX4e0iBW-Hoth2-zGWne5EJXyYNU_M1R-JCKpZCcTJsDsc47EhAt8KhB99vzL1lw5OL1ZeRgGhTYmyqmRRDPO4bB5tdTEFshzw6CEQ',\n",
       "   'types': ['point_of_interest', 'establishment']},\n",
       "  {'formatted_address': '10100 East Fwy #100, Houston, TX 77029, United States',\n",
       "   'geometry': {'location': {'lat': 29.7728657, 'lng': -95.2508352},\n",
       "    'viewport': {'northeast': {'lat': 29.77442513029149,\n",
       "      'lng': -95.24948216970849},\n",
       "     'southwest': {'lat': 29.7717271697085, 'lng': -95.25218013029149}}},\n",
       "   'icon': 'https://maps.gstatic.com/mapfiles/place_api/icons/generic_business-71.png',\n",
       "   'id': 'e80622eeb8e4ac5fd244ee799b350d34f110efe6',\n",
       "   'name': 'A & B Labs',\n",
       "   'opening_hours': {'exceptional_date': [],\n",
       "    'open_now': False,\n",
       "    'weekday_text': []},\n",
       "   'photos': [{'height': 1127,\n",
       "     'html_attributions': ['<a href=\"https://maps.google.com/maps/contrib/108732050301173243871/photos\">A &amp; B Labs</a>'],\n",
       "     'photo_reference': 'CoQBdwAAAJpcFdRRzjVjUyPJa-yMIfsA_Rxa7GlKp0xfc-_b_e9NElfH1pykZV3v5OM9CMWPxlBtY_ZFL0HmBRE8cPGx-8CBqMc8yW6FBEsoMcYVaMG0ER955xmonEDdDtzRFz3UZ3aAp04uZPhGboifIxEPydDvgkNLRXAjboeyMZyyb6h5EhB2xQEdFcV4x5Bm3w7_5UtrGhRLbr-9k8yhnsaNdzm3-cjDMHHweA',\n",
       "     'width': 1502}],\n",
       "   'place_id': 'ChIJCfuoxJ68QIYRoS5JJlofjhA',\n",
       "   'rating': 3.3,\n",
       "   'reference': 'CmRRAAAAmmHSafL2MOJyVMHRQirLm0XayEnIDGI8DavrHRPE3PdchYaxzFe_q9UcJTga3GApWNTSca2tYI7uN-b_CJYc_d0wyL-0s23Ow24KRFmVdemVJ_K5Ev3jLV2NPnFy71lAEhD10mZBhsZjadJSP19NKHtGGhQkYbUCURO36BmVV3mJPOcvla8rnQ',\n",
       "   'types': ['food', 'point_of_interest', 'establishment']},\n",
       "  {'formatted_address': '11807 Westheimer Rd, Houston, TX 77077, United States',\n",
       "   'geometry': {'location': {'lat': 29.7351883, 'lng': -95.5860759},\n",
       "    'viewport': {'northeast': {'lat': 29.73717093029149,\n",
       "      'lng': -95.5847477697085},\n",
       "     'southwest': {'lat': 29.7344729697085, 'lng': -95.5874457302915}}},\n",
       "   'icon': 'https://maps.gstatic.com/mapfiles/place_api/icons/generic_business-71.png',\n",
       "   'id': 'a9c9ad60ec29e272abbb47db9f09fedf09539898',\n",
       "   'name': 'Any Lab Test Now',\n",
       "   'opening_hours': {'exceptional_date': [],\n",
       "    'open_now': False,\n",
       "    'weekday_text': []},\n",
       "   'photos': [{'height': 991,\n",
       "     'html_attributions': ['<a href=\"https://maps.google.com/maps/contrib/112443096217280355461/photos\">Any Lab Test Now</a>'],\n",
       "     'photo_reference': 'CoQBdwAAAJrAWhI2LiWrcY1b_wY-BV52ddtqeJg5FO9mmL9tDn8eWLGPwde_hxS8TaZ3nuw8qU4Z4tJjqPVda22KSUs8KH5O6ZBFZg2rJtNj0mc1IQ08cETML_usaw43zYsZ3k3kNZPOWE9zZ08vR5KQGlNElDgK6k3jLUA_ynUhTW3ajxNOEhDncmKCxupAyBFmlbUiMeCEGhQi-cr49n2ocKHeqW2RQHa_pkX4XQ',\n",
       "     'width': 988}],\n",
       "   'place_id': 'ChIJCUQeyOvcQIYRZDew9KactRA',\n",
       "   'rating': 2.8,\n",
       "   'reference': 'CmRRAAAA0ElFyD_TD_8Obpp7NGNXj01iexXLCCmaexi4NOJRtJf2cZKM9A5MWnCJ0f6Sv6dkWlOWqg5W92YY_oKNxcCWY943U5CF3soSWLu6yk9fOsoqW316VHLg2aQK3MIngF-vEhCf0yv718pPoInOs0UCam8jGhSqhb_BEh3vUVt0S94bUevZbXYx2g',\n",
       "   'types': ['health', 'point_of_interest', 'establishment']},\n",
       "  {'formatted_address': '1917 Ashland St, Houston, TX 77008, United States',\n",
       "   'geometry': {'location': {'lat': 29.8036235, 'lng': -95.4040998},\n",
       "    'viewport': {'northeast': {'lat': 29.8049539802915,\n",
       "      'lng': -95.4025242197085},\n",
       "     'southwest': {'lat': 29.8022560197085, 'lng': -95.4052221802915}}},\n",
       "   'icon': 'https://maps.gstatic.com/mapfiles/place_api/icons/generic_business-71.png',\n",
       "   'id': '7b17312a642160ddb165b2fa958cb782cc054c68',\n",
       "   'name': 'Elite Clinical Laboratory',\n",
       "   'place_id': 'ChIJfULzf2XHQIYRLrDdilxPAEg',\n",
       "   'reference': 'CmRRAAAAz_UNirLxmJLNZ6krRr5ZmlCIU7_KzWtGjYgx0v5WuUo9LqYdBdmxZxp18VXC-HZqJxw_NIdsEGIIqtg57vA625yFFg1iGRk6yvykm0Hw8anapphjj0fzIBcCGnD0AvQ-EhAlVR5PEcPpHHdASSxeMVBGGhRng-AIZNT5LfCKJMDlk2rUkXQqWw',\n",
       "   'types': ['health', 'point_of_interest', 'establishment']},\n",
       "  {'formatted_address': '10630 Fallstone Rd, Houston, TX 77099, United States',\n",
       "   'geometry': {'location': {'lat': 29.660835, 'lng': -95.56571799999999},\n",
       "    'viewport': {'northeast': {'lat': 29.6619785302915,\n",
       "      'lng': -95.56444846970848},\n",
       "     'southwest': {'lat': 29.6592805697085, 'lng': -95.56714643029149}}},\n",
       "   'icon': 'https://maps.gstatic.com/mapfiles/place_api/icons/generic_business-71.png',\n",
       "   'id': 'a8c6ec85cc0c48611072a0c4c34cab7a63016b00',\n",
       "   'name': 'Texas OilTech Labs',\n",
       "   'opening_hours': {'exceptional_date': [],\n",
       "    'open_now': False,\n",
       "    'weekday_text': []},\n",
       "   'place_id': 'ChIJZVdEtfznQIYRv9bF2SlbzNk',\n",
       "   'rating': 5,\n",
       "   'reference': 'CmRSAAAAkxB6iTIjkxJ5O40_PprJcV4v1ngadVtViT0cab_AvyTkBNIntlFKUQotTDRJa2Lm7GGXBPrvKdya_G3BXKRn_mSK5fXGaKvP1Q4-RRQ6p-P0zZ8knTkYorJnqj4A_N9WEhDlihBHKWb2g6QbTajNuYr6GhTE_Xz7S29DH28GCRg6VOt-5CX6iw',\n",
       "   'types': ['point_of_interest', 'establishment']},\n",
       "  {'formatted_address': '8845 Fallbrook Dr, Houston, TX 77064, United States',\n",
       "   'geometry': {'location': {'lat': 29.9230152, 'lng': -95.551149},\n",
       "    'viewport': {'northeast': {'lat': 29.9247574302915,\n",
       "      'lng': -95.5499865697085},\n",
       "     'southwest': {'lat': 29.9220594697085, 'lng': -95.5526845302915}}},\n",
       "   'icon': 'https://maps.gstatic.com/mapfiles/place_api/icons/school-71.png',\n",
       "   'id': '6012e90f06cdf2fc9891b68f8e37c07102fc4043',\n",
       "   'name': 'Weatherford Labs',\n",
       "   'place_id': 'ChIJhSfAKyPOQIYR3TfWmiitgdk',\n",
       "   'reference': 'CmRSAAAAqOMaDgSxA36CQWbY4ZK8j785X2N-X3YdaBoxRfLz3FxeAUVt5PIMulmH2UbegLR7lgLnu6sEks1IqqJ20kb4x9qxwyt4WiFyhN9bkeIkGLM2A8m2Mck7gAhMIkLtU2qTEhCeV7Yzm8VeLwkI-hhBvyKgGhREC013XS_fQ17lfD_acX8_K3LgfQ',\n",
       "   'types': ['school', 'point_of_interest', 'establishment']},\n",
       "  {'formatted_address': '10626 Kinghurst St, Houston, TX 77099, United States',\n",
       "   'geometry': {'location': {'lat': 29.662422, 'lng': -95.565603},\n",
       "    'viewport': {'northeast': {'lat': 29.6635630802915,\n",
       "      'lng': -95.56433581970848},\n",
       "     'southwest': {'lat': 29.66086511970851, 'lng': -95.5670337802915}}},\n",
       "   'icon': 'https://maps.gstatic.com/mapfiles/place_api/icons/generic_business-71.png',\n",
       "   'id': 'faf1a8265c0196fb651f09923aebf4b72e6a505c',\n",
       "   'name': 'Polyhedron Laboratories Inc',\n",
       "   'place_id': 'ChIJBzYh6_znQIYRu16Jk0nkmPU',\n",
       "   'reference': 'CmRSAAAAnTmGBES72e0FqfFRdh0H7accP3qrgFCgx4jtTRGZUXOwmqu44Uejk13Hg4Az9MYNnzkvYtX6uRCniLfz4zozL5tDW7W1xLUzrYEzfwlCKAZqFVqO0JXeZh22xugEDktAEhAsTbBXa5_QXDruN-JoMCekGhRmfSYUUhRIcF1m7O69yoptFGJKlA',\n",
       "   'types': ['point_of_interest', 'establishment']},\n",
       "  {'formatted_address': '7821 Pinemont Dr, Houston, TX 77040, United States',\n",
       "   'geometry': {'location': {'lat': 29.84075, 'lng': -95.510215},\n",
       "    'viewport': {'northeast': {'lat': 29.8423034302915,\n",
       "      'lng': -95.50886921970849},\n",
       "     'southwest': {'lat': 29.83960546970851, 'lng': -95.5115671802915}}},\n",
       "   'icon': 'https://maps.gstatic.com/mapfiles/place_api/icons/generic_business-71.png',\n",
       "   'id': 'ba8d9e554bed9ab1d87a03f2b8065d6b38aae3e3',\n",
       "   'name': 'Accu-Test Labs',\n",
       "   'opening_hours': {'exceptional_date': [],\n",
       "    'open_now': False,\n",
       "    'weekday_text': []},\n",
       "   'photos': [{'height': 251,\n",
       "     'html_attributions': ['<a href=\"https://maps.google.com/maps/contrib/103008386770432566130/photos\">Accu-Test Labs</a>'],\n",
       "     'photo_reference': 'CoQBdwAAAD6wf9XZGCkruNOw-gVoLMV6ES7GCu5SA7XLPqOrXNbX9UeS0QUp30NU_oZFOn1sUNJ5aWuqcgWoYg8nhdZO0hxDtEX7PXqUVcMQzOjACZJ_Hcn5OjyP_bZ5X79HFQQ49qF8I4rrTSfhTBkUc_ytD9F8pjNYF0xy5BEExtZSXxR_EhBz-OeTSy5-3VWgpTK7nEO6GhRTSsXBsxkID6_yxsqCmfunyhhMsQ',\n",
       "     'width': 251}],\n",
       "   'place_id': 'ChIJn4926ZnFQIYRiqB2blQewzY',\n",
       "   'rating': 3,\n",
       "   'reference': 'CmRRAAAANby1oPmFWrHtnMLzBWXNf0lhpTaHSbIbWz8CRC36E2T3fvq8DMq0xwimaaecfis536Wn7gXnFEJ3BsBZ2Cm1ALL0djJHXz-DThv4fcXt187ezWQGft_t7Yr8cQ8mhwjqEhA3j9z3ndaRWq8RlZbRNJPPGhQ0-bV8mItrc-BXj1euraFIWn_5Mw',\n",
       "   'types': ['point_of_interest', 'establishment']},\n",
       "  {'formatted_address': '7900 Fannin St, Houston, TX 77054, United States',\n",
       "   'geometry': {'location': {'lat': 29.6915485, 'lng': -95.40343569999999},\n",
       "    'viewport': {'northeast': {'lat': 29.6927476802915,\n",
       "      'lng': -95.40184281970848},\n",
       "     'southwest': {'lat': 29.6900497197085, 'lng': -95.4045407802915}}},\n",
       "   'icon': 'https://maps.gstatic.com/mapfiles/place_api/icons/generic_business-71.png',\n",
       "   'id': '8524b912f80503508a4f506da83dccdf3cf64107',\n",
       "   'name': 'Bioreference Laboratories',\n",
       "   'place_id': 'ChIJ8xD46w_AQIYRK3wgT2s2Y8E',\n",
       "   'rating': 1,\n",
       "   'reference': 'CmRSAAAA21gWKCduynnc7KfSgg-YDJHEqkmxJ5I5I_8dYMN_nTUHtOADWHTR3IDVhD1gyo_0MnnTJeYyIOFxM9Cb990SlyOg6CckAGp0Sq89ZZF7IEXfnjN6SwuR4re03O5nmm9DEhCt3pnNSrdqfwj1FWKzAcpRGhSQU92Tsxiuge3HbNKjC45wkF9E_g',\n",
       "   'types': ['point_of_interest', 'establishment']},\n",
       "  {'formatted_address': '1213 Hermann Dr # 710, Houston, TX 77004, United States',\n",
       "   'geometry': {'location': {'lat': 29.7231152, 'lng': -95.38864199999999},\n",
       "    'viewport': {'northeast': {'lat': 29.7243348302915,\n",
       "      'lng': -95.3874047197085},\n",
       "     'southwest': {'lat': 29.72163686970851, 'lng': -95.3901026802915}}},\n",
       "   'icon': 'https://maps.gstatic.com/mapfiles/place_api/icons/generic_business-71.png',\n",
       "   'id': 'd5447d8074b1c539218e9eb3e572318a93bad2e2',\n",
       "   'name': 'Clinical Pathology Labs',\n",
       "   'place_id': 'ChIJY7vvK4K_QIYRd_OrbBKxmpI',\n",
       "   'reference': 'CmRSAAAAzuC3qT8oPUhe-V6T2Kfv_5f9qT36DWlxrsK7xs2tpG6jmknM1-YK5kj0TXgZr2CRaLlasotS5EE8O1Sf6CJ9JAl5LlIwv2Se-UpOqoI-I1Yqj2LLiCE7DxmcCVbdWQt-EhBb3Xkbp9268PUMjDc6Rew1GhRnrZDXNzk6XfBxbgCrJiPcpZlWXg',\n",
       "   'types': ['health', 'point_of_interest', 'establishment']},\n",
       "  {'formatted_address': '1919 N Loop W # 225, Houston, TX 77008, United States',\n",
       "   'geometry': {'location': {'lat': 29.8105263, 'lng': -95.43420599999999},\n",
       "    'viewport': {'northeast': {'lat': 29.8122108802915,\n",
       "      'lng': -95.43305736970848},\n",
       "     'southwest': {'lat': 29.8095129197085, 'lng': -95.4357553302915}}},\n",
       "   'icon': 'https://maps.gstatic.com/mapfiles/place_api/icons/generic_business-71.png',\n",
       "   'id': 'e6e0c6278bedd85795d40c1bf144c958df98aa91',\n",
       "   'name': 'Clinical Pathology Labs',\n",
       "   'place_id': 'ChIJLV-iiQHHQIYReIAbpybVWBc',\n",
       "   'rating': 4,\n",
       "   'reference': 'CmRRAAAAdFUM6ollnn2hw_Ve0SzUdAn8aXUxYa6HPXyIOB3FsL2UMu_N72DUddNbIMZNC0Ly9sFdRhsyXF6HDsx7DwdUH7CGkeENzd9lmnbOwxDb1DThcjKVRRX-IqQJei2QaB6HEhDXdYpzeE8Oux5-nRgwyPmCGhQWH8ZzIA53mZ6YAuxvzi83kK35vg',\n",
       "   'types': ['health', 'point_of_interest', 'establishment']},\n",
       "  {'formatted_address': '7737 Southwest Fwy # A10, Houston, TX 77074, United States',\n",
       "   'geometry': {'location': {'lat': 29.6941917, 'lng': -95.5219027},\n",
       "    'viewport': {'northeast': {'lat': 29.6955406802915,\n",
       "      'lng': -95.52055371970849},\n",
       "     'southwest': {'lat': 29.6928427197085, 'lng': -95.52325168029151}}},\n",
       "   'icon': 'https://maps.gstatic.com/mapfiles/place_api/icons/generic_business-71.png',\n",
       "   'id': '76538b8b63b01add6b067d6f068d481ecfdfea08',\n",
       "   'name': 'Clinical Pathology Labs',\n",
       "   'place_id': 'ChIJYd3i-IrCQIYRbTDqO3WF5qg',\n",
       "   'reference': 'CmRSAAAA9X1PFZt9rDN5Bi_PhhQyQzDiczHM4OTQzaa5aVjanK3hWvhKg9FRmBzfi7VZkO1PmnUo4E0vDpPUBxn5Hc9ITuzhw2ziN6_nZQmgkuUdi_FlScNmp28OUeICS8dVh06IEhAkrH4nkJCAb--yPcmYNUkrGhRheKp4EUS0mYSCUhHRYcoeRjKPcQ',\n",
       "   'types': ['health', 'point_of_interest', 'establishment']},\n",
       "  {'formatted_address': '6310 Rothway St, Houston, TX 77040, United States',\n",
       "   'geometry': {'location': {'lat': 29.85888, 'lng': -95.5282122},\n",
       "    'viewport': {'northeast': {'lat': 29.8603829302915,\n",
       "      'lng': -95.52752989999999},\n",
       "     'southwest': {'lat': 29.8576849697085, 'lng': -95.5302591}}},\n",
       "   'icon': 'https://maps.gstatic.com/mapfiles/place_api/icons/generic_business-71.png',\n",
       "   'id': '39c8d04fd2e628b119bbffb259be79aaf42d0222',\n",
       "   'name': 'BM',\n",
       "   'place_id': 'ChIJfbEO8IfPQIYRxJnyh_qUTUs',\n",
       "   'rating': 3,\n",
       "   'reference': 'CmRRAAAAwKthqkd0SqdMM1dm9SMUVQUQ2eYLhm-mH-O1Vk7xNEGM3qGX1K3B2WODVmDWSPfJInbvykv2FUH81B0Y_SQQ0I3VsLU63et46erLbIgSVNLHPGmk4E_fYqyniUAAjfwyEhCGzd02Br6BfeVqWrOzsMHzGhRLirkcv6-C7F273ZdLM5xmFCUHTw',\n",
       "   'types': ['point_of_interest', 'establishment']},\n",
       "  {'formatted_address': '2902 N Shepherd Dr #E, Houston, TX 77008, United States',\n",
       "   'geometry': {'location': {'lat': 29.8137182, 'lng': -95.4096964},\n",
       "    'viewport': {'northeast': {'lat': 29.81505213029151,\n",
       "      'lng': -95.40867151970849},\n",
       "     'southwest': {'lat': 29.81235416970851, 'lng': -95.4113694802915}}},\n",
       "   'icon': 'https://maps.gstatic.com/mapfiles/place_api/icons/generic_business-71.png',\n",
       "   'id': '5bc7a4a708a1333cf2f0d095eeab2afec9b85619',\n",
       "   'name': 'Any Lab Test Now',\n",
       "   'opening_hours': {'exceptional_date': [],\n",
       "    'open_now': False,\n",
       "    'weekday_text': []},\n",
       "   'photos': [{'height': 974,\n",
       "     'html_attributions': ['<a href=\"https://maps.google.com/maps/contrib/112143244531760880024/photos\">Any Lab Test Now</a>'],\n",
       "     'photo_reference': 'CoQBdwAAAK5P_5wQmDIzMHd0R8s7OKQAEmJcF1QR-dhpTLqyptDV6X7qLqJvIpT7mVwtOg22hwHu7SeOSZTmZuBYUkTflJKj59h4RggkzJpW4wL9CJfzeNaous3BWd382ojszr7io9yWIEC8dtAhGGzK4TRQG9qrQq41wyl1A5yxOpgt8RAOEhAlN87ZReTCHGXPOGtp5TnDGhRfwq4IjN7iGCGqHeZ1eqHIyIpi4w',\n",
       "     'width': 976}],\n",
       "   'place_id': 'ChIJTWUlGHTHQIYR86-ZTnrApyM',\n",
       "   'rating': 2.6,\n",
       "   'reference': 'CmRRAAAAAWQZGU_qO_WQ8f5LSzzOX03aVsFm057BNYMWeQGPtfFzevTx06sM1lIYhKh8TKI3vy_fOxQggdtISakha9lTkoPyWTv1PI6RDT4OSBvSO1KJBqJ0KfnbR74qap1qB_DyEhAiwxjkSTCetgcHZlodTr0VGhTcjveIYj4iL_JGN4swSzNNLDGJyg',\n",
       "   'types': ['health', 'point_of_interest', 'establishment']},\n",
       "  {'formatted_address': '10810 Northwest Fwy, Houston, TX 77092, United States',\n",
       "   'geometry': {'location': {'lat': 29.815925, 'lng': -95.46328799999999},\n",
       "    'viewport': {'northeast': {'lat': 29.8170924302915,\n",
       "      'lng': -95.4621654697085},\n",
       "     'southwest': {'lat': 29.8143944697085, 'lng': -95.4648634302915}}},\n",
       "   'icon': 'https://maps.gstatic.com/mapfiles/place_api/icons/generic_business-71.png',\n",
       "   'id': '86b0d45568f653ac66700ed1eb3925806b9a2a08',\n",
       "   'name': 'Q C Laboratories Inc',\n",
       "   'place_id': 'ChIJMRW-EmLGQIYRocx4b2CTbOo',\n",
       "   'rating': 5,\n",
       "   'reference': 'CmRSAAAASnVHEhSvlKv5QgPvUUxymCqtZGIGieHto3E1wdSuD7TmqRN5P2L0CaPirG7WlY460IlqEoLZ8XuhvQB6BtDNXS0W_W6hAF-22AT4ZHhoMMM9L9EmTjjAzL4DcK8KFHIlEhCGv_dezqa-_B3gSznAFvaOGhTcal0kS3VXHB0gvFNShiSTj_DHhA',\n",
       "   'types': ['point_of_interest', 'establishment']}],\n",
       " 'status': 'OK'}"
      ]
     },
     "execution_count": 58,
     "metadata": {},
     "output_type": "execute_result"
    }
   ],
   "source": [
    "r.json()"
   ]
  },
  {
   "cell_type": "code",
   "execution_count": 59,
   "metadata": {
    "collapsed": false
   },
   "outputs": [
    {
     "data": {
      "text/plain": [
       "20"
      ]
     },
     "execution_count": 59,
     "metadata": {},
     "output_type": "execute_result"
    }
   ],
   "source": [
    "len(r.json()['results'])"
   ]
  },
  {
   "cell_type": "code",
   "execution_count": 60,
   "metadata": {
    "collapsed": false
   },
   "outputs": [
    {
     "name": "stdout",
     "output_type": "stream",
     "text": [
      "SpectraCell Laboratories, Inc.\n",
      "Houston Metallurgical Lab Inc\n",
      "Access Clinical Laboratory, LLC\n",
      "SGS Accutest Inc - Houston, Texas\n",
      "Core Laboratories Inc\n",
      "ALS Environmental\n",
      "A & B Labs\n",
      "Any Lab Test Now\n",
      "Elite Clinical Laboratory\n",
      "Texas OilTech Labs\n",
      "Weatherford Labs\n",
      "Polyhedron Laboratories Inc\n",
      "Accu-Test Labs\n",
      "Bioreference Laboratories\n",
      "Clinical Pathology Labs\n",
      "Clinical Pathology Labs\n",
      "Clinical Pathology Labs\n",
      "BM\n",
      "Any Lab Test Now\n",
      "Q C Laboratories Inc\n"
     ]
    }
   ],
   "source": [
    "results = r.json()['results']\n",
    "for each in results:\n",
    "    #print(each)\n",
    "    print(each['name'])"
   ]
  },
  {
   "cell_type": "markdown",
   "metadata": {},
   "source": [
    "### Test 2 : Oil and Gas in Houston, Texas"
   ]
  },
  {
   "cell_type": "code",
   "execution_count": 61,
   "metadata": {
    "collapsed": true
   },
   "outputs": [],
   "source": [
    "search_string_place = \"Gas+Station+in+Houston+Texas\""
   ]
  },
  {
   "cell_type": "code",
   "execution_count": 62,
   "metadata": {
    "collapsed": false
   },
   "outputs": [],
   "source": [
    "r = requests.get(base_url+search_string_place+key_pre+key)"
   ]
  },
  {
   "cell_type": "code",
   "execution_count": 63,
   "metadata": {
    "collapsed": false
   },
   "outputs": [
    {
     "data": {
      "text/plain": [
       "20"
      ]
     },
     "execution_count": 63,
     "metadata": {},
     "output_type": "execute_result"
    }
   ],
   "source": [
    "len(r.json()['results'])"
   ]
  },
  {
   "cell_type": "code",
   "execution_count": 64,
   "metadata": {
    "collapsed": false
   },
   "outputs": [
    {
     "name": "stdout",
     "output_type": "stream",
     "text": [
      "H-E-B Fuel\n",
      "Exxon\n",
      "Exxon\n",
      "Mobil\n",
      "Exxon\n",
      "Sunoco Gas Station\n",
      "Exxon\n",
      "Valero\n",
      "Exxon\n",
      "Chevron\n",
      "Exxon\n",
      "Exxon\n",
      "Texaco Houston\n",
      "Exxon\n",
      "Chevron\n",
      "Kroger Gas Station\n",
      "Exxon\n",
      "Exxon\n",
      "Exxon\n",
      "Valero Gas Station\n"
     ]
    }
   ],
   "source": [
    "results = r.json()['results']\n",
    "for each in results:\n",
    "    #print(each)\n",
    "    print(each['name'])"
   ]
  },
  {
   "cell_type": "markdown",
   "metadata": {
    "collapsed": true
   },
   "source": [
    "### Attempting to Select a Small Dataset to Convert into geoJSON"
   ]
  },
  {
   "cell_type": "code",
   "execution_count": 66,
   "metadata": {
    "collapsed": true
   },
   "outputs": [],
   "source": [
    "# University of Houston\n",
    "search_string_place__Houston = \"University of Houston\""
   ]
  },
  {
   "cell_type": "code",
   "execution_count": 68,
   "metadata": {
    "collapsed": false
   },
   "outputs": [],
   "source": [
    "UnivHouston = requests.get(base_url+search_string_place__Houston+key_pre+key)"
   ]
  },
  {
   "cell_type": "code",
   "execution_count": 69,
   "metadata": {
    "collapsed": false
   },
   "outputs": [
    {
     "data": {
      "text/plain": [
       "<Response [200]>"
      ]
     },
     "execution_count": 69,
     "metadata": {},
     "output_type": "execute_result"
    }
   ],
   "source": [
    "UnivHouston"
   ]
  },
  {
   "cell_type": "code",
   "execution_count": 78,
   "metadata": {
    "collapsed": false,
    "scrolled": true
   },
   "outputs": [
    {
     "data": {
      "text/plain": [
       "[{'formatted_address': '4800 Calhoun Rd, Houston, TX 77004, United States',\n",
       "  'geometry': {'location': {'lat': 29.7199489, 'lng': -95.3422334},\n",
       "   'viewport': {'northeast': {'lat': 29.7396497, 'lng': -95.325997},\n",
       "    'southwest': {'lat': 29.7038121, 'lng': -95.36012260000001}}},\n",
       "  'icon': 'https://maps.gstatic.com/mapfiles/place_api/icons/school-71.png',\n",
       "  'id': 'f7ec825bef7fdab2793f8eff2019cde9a0c3ba13',\n",
       "  'name': 'University of Houston',\n",
       "  'photos': [{'height': 2988,\n",
       "    'html_attributions': ['<a href=\"https://maps.google.com/maps/contrib/112933440860029710314/photos\">Abhishek kaurav</a>'],\n",
       "    'photo_reference': 'CoQBdwAAAJC95PNmruOauJ4Rmrg9iqFSa1hqq43k5SIaf4OFikcSwK2g79vvxNeeyYOSLsKWxgj9IpBdDgy3LAYTjhiQrQdbqQNI23NW5wqJSFwmDreccVkSxo3jpIqcVRixppKaJkxtoMGquggJkrtrAqj_wBf2PvOQ7eRg4uVcCywJ6jnpEhAyxkDkD1NnKug8SnNtG0oBGhRx0SXPvRYsJrsTKjec57JqLTCtFw',\n",
       "    'width': 5312}],\n",
       "  'place_id': 'ChIJmaG-jlq-QIYR50eCyn44nww',\n",
       "  'rating': 4.4,\n",
       "  'reference': 'CmRRAAAAvXQfw3vuPeSQwfmNP9fhoN2T0cKrYh35i7uP0J1HhQglrYP8jkUwBJL8wf2cIYZjzLd110Rl29rBLxtyv5AWwA0VpZPrPiav5iImp-OhdBCpd3VF3dgOm_UCoOWoRB-1EhBIM5gMX7jGgeXYWP2Fy4e5GhTvRmKv4Gy-EJ6wC2DZikPQqUdmXQ',\n",
       "  'types': ['university', 'point_of_interest', 'establishment']}]"
      ]
     },
     "execution_count": 78,
     "metadata": {},
     "output_type": "execute_result"
    }
   ],
   "source": [
    "UnivHouston.json()['results']"
   ]
  },
  {
   "cell_type": "markdown",
   "metadata": {},
   "source": [
    "#### if more than result, this header is included: \n",
    "{'html_attributions': [],\n",
    " 'next_page_token': 'CoQC8wAAAJgbFIXNDC9VEWrNA_uofGfkiBjJk8DuhlYKKVwsZGFqYzAPbko6itJ-PHy37O8chuC3E6XnceTzbrp0KqaM6PeBWMASLp0tDWttL9DQ9BvECIlybDR-JAMu_8yz730FCdwD3IgQUJvpgx60kN7HJVrVdewvKtM2hylX3JQDzLsWS4ZpM68bEQMN4xHi2LLatQtowK0TjLawdJ4N6zcg1mEIDeoz-a296-pbS8Qd8rZY3d5vY51hY_YSw1Sqc8hghfcx4gCtjLn9RSvJVd52h-qPYN4kZ8oTQC-7TTvPY2wJuEQQYEFnmkaysbxv1zX8beGJ9OOZ7eiqJe86gOyVNqwSENbMe9f5qWbTu26vP_2qAAsaFDg3B8lTQlArJ6JiGXE8rbiwJUlL',\n",
    " 'results': [{'formatted_address': '10401 Town Park Dr, Houston, TX 77072, United States',"
   ]
  },
  {
   "cell_type": "markdown",
   "metadata": {},
   "source": [
    "#### otherwise the response goes straight to this: \n",
    "[{'formatted_address': '4800 Calhoun Rd, Houston, TX 77004, United States',\n",
    "  'geometry': {'location': {'lat': 29.7199489, 'lng': -95.3422334},\n",
    "   'viewport': {'northeast': {'lat': 29.7396497, 'lng': -95.325997},\n",
    "    'southwest': {'lat': 29.7038121, 'lng': -95.36012260000001}}},\n",
    "  'icon': 'https://maps.gstatic.com/mapfiles/place_api/icons/school-71.png',\n",
    "  'id': 'f7ec825bef7fdab2793f8eff2019cde9a0c3ba13',\n",
    "  'name': 'University of Houston',"
   ]
  },
  {
   "cell_type": "markdown",
   "metadata": {},
   "source": [
    "## Brainstorming function to turn google places api result into geoJSON\n",
    "#### 1. funtion that checks for whether response includes more than one result. \n",
    "#### 2. If more than one result, grabs internal ..... figure this out later.......\n",
    "#### 3. assuming one result at a time, get variable that is starting of geoJSON structure"
   ]
  },
  {
   "cell_type": "code",
   "execution_count": 72,
   "metadata": {
    "collapsed": true
   },
   "outputs": [],
   "source": [
    "emptyGeoJSON = {\"type\":\"Feature\",\"properties\":{},\"geometry\":{\"type\":\"point:\",\"coordinates\":[-40.70308550521447,0.908343260182882]}}"
   ]
  },
  {
   "cell_type": "code",
   "execution_count": 73,
   "metadata": {
    "collapsed": false
   },
   "outputs": [
    {
     "data": {
      "text/plain": [
       "{'geometry': {'coordinates': [-40.70308550521447, 0.908343260182882],\n",
       "  'type': 'point:'},\n",
       " 'properties': {},\n",
       " 'type': 'Feature'}"
      ]
     },
     "execution_count": 73,
     "metadata": {},
     "output_type": "execute_result"
    }
   ],
   "source": [
    "emptyGeoJSON"
   ]
  },
  {
   "cell_type": "markdown",
   "metadata": {},
   "source": [
    "#### Importing the functionality to make a geoJSON point using the geojson library"
   ]
  },
  {
   "cell_type": "code",
   "execution_count": 114,
   "metadata": {
    "collapsed": true
   },
   "outputs": [],
   "source": [
    "from geojson import Point, Feature, FeatureCollection\n",
    "# https://github.com/frewsxcv/python-geojson"
   ]
  },
  {
   "cell_type": "code",
   "execution_count": 88,
   "metadata": {
    "collapsed": false
   },
   "outputs": [
    {
     "data": {
      "text/plain": [
       "29.7199489"
      ]
     },
     "execution_count": 88,
     "metadata": {},
     "output_type": "execute_result"
    }
   ],
   "source": [
    "UnivHouston.json()['results'][0]['geometry']['location']['lat']"
   ]
  },
  {
   "cell_type": "markdown",
   "metadata": {},
   "source": [
    "extracting information from json results into variable to add into emptyGeoJSON"
   ]
  },
  {
   "cell_type": "code",
   "execution_count": 136,
   "metadata": {
    "collapsed": false
   },
   "outputs": [],
   "source": [
    "# centerpoint for coordinates\n",
    "lat = UnivHouston.json()['results'][0]['geometry']['location']['lat']\n",
    "long = UnivHouston.json()['results'][0]['geometry']['location']['lng']\n",
    "\n",
    "# properties\n",
    "address = UnivHouston.json()['results'][0]['formatted_address']\n",
    "id = UnivHouston.json()['results'][0]['id']\n",
    "name = UnivHouston.json()['results'][0]['name']\n",
    "# photos is an array\n",
    "photos = UnivHouston.json()['results'][0]['photos']\n",
    "place_id = UnivHouston.json()['results'][0]['place_id']\n",
    "rating = UnivHouston.json()['results'][0]['rating']\n",
    "reference = UnivHouston.json()['results'][0]['reference']\n",
    "# types is an array\n",
    "types = UnivHouston.json()['results'][0]['types']\n"
   ]
  },
  {
   "cell_type": "code",
   "execution_count": 138,
   "metadata": {
    "collapsed": false
   },
   "outputs": [
    {
     "data": {
      "text/plain": [
       "(29.7199489, -95.3422334)"
      ]
     },
     "execution_count": 138,
     "metadata": {},
     "output_type": "execute_result"
    }
   ],
   "source": [
    "lat, long"
   ]
  },
  {
   "cell_type": "code",
   "execution_count": 128,
   "metadata": {
    "collapsed": false
   },
   "outputs": [
    {
     "data": {
      "text/plain": [
       "{'geometry': {'coordinates': [-40.70308550521447, 0.908343260182882],\n",
       "  'type': 'point:'},\n",
       " 'properties': {},\n",
       " 'type': 'Feature'}"
      ]
     },
     "execution_count": 128,
     "metadata": {},
     "output_type": "execute_result"
    }
   ],
   "source": [
    "#emptyGeoJSON[0]['geometry']['coordinates'][lat,long]\n",
    "#emptyGeoJSON[0]['properties']['address':address]\n",
    "emptyGeoJSON"
   ]
  },
  {
   "cell_type": "code",
   "execution_count": 142,
   "metadata": {
    "collapsed": false
   },
   "outputs": [
    {
     "data": {
      "text/plain": [
       "dict"
      ]
     },
     "execution_count": 142,
     "metadata": {},
     "output_type": "execute_result"
    }
   ],
   "source": [
    "type(emptyGeoJSON)"
   ]
  },
  {
   "cell_type": "markdown",
   "metadata": {},
   "source": [
    "##    ----------------------"
   ]
  },
  {
   "cell_type": "code",
   "execution_count": 148,
   "metadata": {
    "collapsed": false
   },
   "outputs": [
    {
     "data": {
      "text/plain": [
       "{\"coordinates\": [-95.3422334, 29.7199489], \"type\": \"Point\"}"
      ]
     },
     "execution_count": 148,
     "metadata": {},
     "output_type": "execute_result"
    }
   ],
   "source": [
    "testPoint = Point((long, lat))\n",
    "testPoint"
   ]
  },
  {
   "cell_type": "code",
   "execution_count": 149,
   "metadata": {
    "collapsed": false
   },
   "outputs": [
    {
     "data": {
      "text/plain": [
       "{\"geometry\": {\"coordinates\": [-95.3422334, 29.7199489], \"type\": \"Point\"}, \"properties\": {\"name\": \"University of Houston\"}, \"type\": \"Feature\"}"
      ]
     },
     "execution_count": 149,
     "metadata": {},
     "output_type": "execute_result"
    }
   ],
   "source": [
    "test_geoJSOn = Feature(geometry=testPoint, properties={\"name\": name})\n",
    "test_geoJSOn"
   ]
  },
  {
   "cell_type": "code",
   "execution_count": 150,
   "metadata": {
    "collapsed": false
   },
   "outputs": [
    {
     "data": {
      "text/plain": [
       "{\"geometry\": {\"coordinates\": [-95.3422334, 29.7199489], \"type\": \"Point\"}, \"properties\": {\"address\": \"4800 Calhoun Rd, Houston, TX 77004, United States\", \"id\": \"f7ec825bef7fdab2793f8eff2019cde9a0c3ba13\", \"name\": \"University of Houston\", \"photos\": [{\"height\": 2988, \"html_attributions\": [\"<a href=\\\"https://maps.google.com/maps/contrib/112933440860029710314/photos\\\">Abhishek kaurav</a>\"], \"photo_reference\": \"CoQBdwAAAJC95PNmruOauJ4Rmrg9iqFSa1hqq43k5SIaf4OFikcSwK2g79vvxNeeyYOSLsKWxgj9IpBdDgy3LAYTjhiQrQdbqQNI23NW5wqJSFwmDreccVkSxo3jpIqcVRixppKaJkxtoMGquggJkrtrAqj_wBf2PvOQ7eRg4uVcCywJ6jnpEhAyxkDkD1NnKug8SnNtG0oBGhRx0SXPvRYsJrsTKjec57JqLTCtFw\", \"width\": 5312}], \"place_id\": \"ChIJmaG-jlq-QIYR50eCyn44nww\", \"rating\": 4.4, \"reference\": \"CmRRAAAAvXQfw3vuPeSQwfmNP9fhoN2T0cKrYh35i7uP0J1HhQglrYP8jkUwBJL8wf2cIYZjzLd110Rl29rBLxtyv5AWwA0VpZPrPiav5iImp-OhdBCpd3VF3dgOm_UCoOWoRB-1EhBIM5gMX7jGgeXYWP2Fy4e5GhTvRmKv4Gy-EJ6wC2DZikPQqUdmXQ\", \"types\": [\"university\", \"point_of_interest\", \"establishment\"]}, \"type\": \"Feature\"}"
      ]
     },
     "execution_count": 150,
     "metadata": {},
     "output_type": "execute_result"
    }
   ],
   "source": [
    "test2_geoJSOn = Feature(geometry=testPoint, properties={\"name\": name,\"address\":address,\"id\":id,\"photos\":photos,\"place_id\":place_id,\"rating\":rating,\"reference\":reference,\"types\":types})\n",
    "test2_geoJSOn"
   ]
  },
  {
   "cell_type": "code",
   "execution_count": 151,
   "metadata": {
    "collapsed": false
   },
   "outputs": [
    {
     "data": {
      "text/plain": [
       "{\"features\": [{\"geometry\": {\"coordinates\": [-95.3422334, 29.7199489], \"type\": \"Point\"}, \"properties\": {\"address\": \"4800 Calhoun Rd, Houston, TX 77004, United States\", \"id\": \"f7ec825bef7fdab2793f8eff2019cde9a0c3ba13\", \"name\": \"University of Houston\", \"photos\": [{\"height\": 2988, \"html_attributions\": [\"<a href=\\\"https://maps.google.com/maps/contrib/112933440860029710314/photos\\\">Abhishek kaurav</a>\"], \"photo_reference\": \"CoQBdwAAAJC95PNmruOauJ4Rmrg9iqFSa1hqq43k5SIaf4OFikcSwK2g79vvxNeeyYOSLsKWxgj9IpBdDgy3LAYTjhiQrQdbqQNI23NW5wqJSFwmDreccVkSxo3jpIqcVRixppKaJkxtoMGquggJkrtrAqj_wBf2PvOQ7eRg4uVcCywJ6jnpEhAyxkDkD1NnKug8SnNtG0oBGhRx0SXPvRYsJrsTKjec57JqLTCtFw\", \"width\": 5312}], \"place_id\": \"ChIJmaG-jlq-QIYR50eCyn44nww\", \"rating\": 4.4, \"reference\": \"CmRRAAAAvXQfw3vuPeSQwfmNP9fhoN2T0cKrYh35i7uP0J1HhQglrYP8jkUwBJL8wf2cIYZjzLd110Rl29rBLxtyv5AWwA0VpZPrPiav5iImp-OhdBCpd3VF3dgOm_UCoOWoRB-1EhBIM5gMX7jGgeXYWP2Fy4e5GhTvRmKv4Gy-EJ6wC2DZikPQqUdmXQ\", \"types\": [\"university\", \"point_of_interest\", \"establishment\"]}, \"type\": \"Feature\"}], \"type\": \"FeatureCollection\"}"
      ]
     },
     "execution_count": 151,
     "metadata": {},
     "output_type": "execute_result"
    }
   ],
   "source": [
    "test1_FeatureCollection = FeatureCollection([test2_geoJSOn]) \n",
    "test1_FeatureCollection"
   ]
  },
  {
   "cell_type": "code",
   "execution_count": 159,
   "metadata": {
    "collapsed": false
   },
   "outputs": [],
   "source": [
    "with open('../DATA/data5.geojson', 'w') as f:\n",
    "     json.dump(test1_FeatureCollection, f)"
   ]
  },
  {
   "cell_type": "markdown",
   "metadata": {},
   "source": [
    "## Test 3 - BP"
   ]
  },
  {
   "cell_type": "code",
   "execution_count": 165,
   "metadata": {
    "collapsed": true
   },
   "outputs": [],
   "source": [
    "# BP\n",
    "search_string_place__BP = \"BP+Houston\""
   ]
  },
  {
   "cell_type": "code",
   "execution_count": 166,
   "metadata": {
    "collapsed": false
   },
   "outputs": [],
   "source": [
    "BP_results = requests.get(base_url+search_string_place__BP+key_pre+key)"
   ]
  },
  {
   "cell_type": "code",
   "execution_count": 171,
   "metadata": {
    "collapsed": false
   },
   "outputs": [
    {
     "data": {
      "text/plain": [
       "[{'formatted_address': '201 Helios Way, Houston, TX 77079, United States',\n",
       "  'geometry': {'location': {'lat': 29.7827932, 'lng': -95.6355662},\n",
       "   'viewport': {'northeast': {'lat': 29.7841507302915,\n",
       "     'lng': -95.6347346697085},\n",
       "    'southwest': {'lat': 29.7814527697085, 'lng': -95.6374326302915}}},\n",
       "  'icon': 'https://maps.gstatic.com/mapfiles/place_api/icons/generic_business-71.png',\n",
       "  'id': 'e46f6a874424cc053595fa14766d20e09d95c787',\n",
       "  'name': 'BP Energy Company',\n",
       "  'place_id': 'ChIJg--izefbQIYRtgvWPBmGz80',\n",
       "  'rating': 5,\n",
       "  'reference': 'CmRSAAAAQ5ra2hUoATyQBD-Q2DRAAz66t8CG_G52GRhdHfRZWon-X0SbMxcjmFG0myG6Ntc1uA4zHveGJOrnE2gFHox56VdwOsyDKxeYLm9qKp_F6_UquqW20n-Iv3rW4a7xLFCYEhACXZLXPawOQB18kXJCvXn8GhToRJrdM9HHstm5ZSC7VFHQD5V2-Q',\n",
       "  'types': ['point_of_interest', 'establishment']},\n",
       " {'formatted_address': '501 Westlake Park Blvd, Houston, TX 77079, United States',\n",
       "  'geometry': {'location': {'lat': 29.7810751, 'lng': -95.62888369999999},\n",
       "   'viewport': {'northeast': {'lat': 29.7820796802915,\n",
       "     'lng': -95.62783486970848},\n",
       "    'southwest': {'lat': 29.7793817197085, 'lng': -95.6305328302915}}},\n",
       "  'icon': 'https://maps.gstatic.com/mapfiles/place_api/icons/generic_business-71.png',\n",
       "  'id': '57a521680aa8c23f9d43a6860f65cf6fd2be569d',\n",
       "  'name': 'BP',\n",
       "  'photos': [{'height': 2988,\n",
       "    'html_attributions': ['<a href=\"https://maps.google.com/maps/contrib/110237591165544589057/photos\">phillip randle</a>'],\n",
       "    'photo_reference': 'CoQBdwAAANBQrgK3sXZBt5konU2kf1T0pP-SvApM55TqMowhaX-hN-5_SIuZa0RqmqnPMWXeN-StHXTxOiFr6El8aSyhU4BwpP5ob5_VwnjLuC_Jcu9-uADHCuAAdtRCvXPj4lEEtqgAakho9xnDWXAZFdx2GNnhw_Cf_TyKrUARBo4dpMeyEhCBtLbr73AeAnUmiK2LcUctGhRTGFzaH4jJlC27hrg2mhH3-iX7sA',\n",
       "    'width': 5312}],\n",
       "  'place_id': 'ChIJ0z6vPVYfR4YRmI2l_W6FMUU',\n",
       "  'rating': 3.6,\n",
       "  'reference': 'CmRRAAAAyKp_Pqb-xCl3YNPIH5Cz01wv4wzNSiFILNuQkWGIYGJvR1rSfhe6sEj0E3e96gthcJDfw6jQFPWDZfnoCdMw8hEUhpE0hWEh66LYZK3Olio9Ji99qa63K9OrzuLLBnK_EhBr95pUDiU5Ji9mI-W1-zfWGhTh2l8KRhTBWRQOOMwzR-deEcSIOg',\n",
       "  'types': ['point_of_interest', 'establishment']},\n",
       " {'formatted_address': '4201 Southwest Fwy, Houston, TX 77027, United States',\n",
       "  'geometry': {'location': {'lat': 29.728147, 'lng': -95.444937},\n",
       "   'viewport': {'northeast': {'lat': 29.7299228302915,\n",
       "     'lng': -95.44407476970851},\n",
       "    'southwest': {'lat': 29.7272248697085, 'lng': -95.44677273029151}}},\n",
       "  'icon': 'https://maps.gstatic.com/mapfiles/place_api/icons/doctor-71.png',\n",
       "  'id': 'fea9a6759abf2e14b7f42d672ff77192a289957c',\n",
       "  'name': 'BP',\n",
       "  'opening_hours': {'exceptional_date': [],\n",
       "   'open_now': True,\n",
       "   'weekday_text': []},\n",
       "  'place_id': 'ChIJpWNqawbBQIYRORSkUyUNuCo',\n",
       "  'rating': 1,\n",
       "  'reference': 'CmRRAAAAuEikx8pQcp_G1JsNeHgMryi82zMxZokejiAm4IZDszO7HYdCkI8y7vGP8WUjoUzQzGKWy1_Yyo-bUHV947GYXH--3UpJbDmjmxxUA2K_n0yV4DuZKPYcj_ycfvx6nkNlEhB2n4Rc5Fe9RI0BmeEU26N_GhTelWZxaBKP6LoJA6TPUuwPXMBZqg',\n",
       "  'types': ['hospital', 'car_repair', 'point_of_interest', 'establishment']},\n",
       " {'formatted_address': '550 Westlake Park Blvd, Houston, TX 77079, United States',\n",
       "  'geometry': {'location': {'lat': 29.7804026, 'lng': -95.6310345},\n",
       "   'viewport': {'northeast': {'lat': 29.7815224302915,\n",
       "     'lng': -95.6298879197085},\n",
       "    'southwest': {'lat': 29.7788244697085, 'lng': -95.6325858802915}}},\n",
       "  'icon': 'https://maps.gstatic.com/mapfiles/place_api/icons/gas_station-71.png',\n",
       "  'id': 'c483e6a375379d3529ce2fd22d1ec3350e680357',\n",
       "  'name': 'BP Pipelines',\n",
       "  'place_id': 'ChIJsWzgQOnbQIYR74Zy8dMeZoI',\n",
       "  'reference': 'CmRSAAAAR42LfXQgfJ6NYN2LzQ3AMv7t8ReEcW9d4z5bdDgEMGuM25x9wCEzoSqDSE5iXVD0PWK4P2ruqkcKeUqkn8mWkRCIppJzLD_v_ZCPuz4BjJdBCow7c0xt1f-7bAyfkZ8NEhB1y1gjXPprOEtf0MpTsOhhGhRmq2uPEmeeiybrL7AvJOURH1_vZg',\n",
       "  'types': ['gas_station', 'point_of_interest', 'establishment']},\n",
       " {'formatted_address': '700 Louisiana St # 33, Houston, TX 77002, United States',\n",
       "  'geometry': {'location': {'lat': 29.7606119, 'lng': -95.36630389999999},\n",
       "   'viewport': {'northeast': {'lat': 29.7619608802915,\n",
       "     'lng': -95.36495491970848},\n",
       "    'southwest': {'lat': 29.7592629197085, 'lng': -95.3676528802915}}},\n",
       "  'icon': 'https://maps.gstatic.com/mapfiles/place_api/icons/generic_business-71.png',\n",
       "  'id': '09d871147780fb6726c0fea093cf3378e413e245',\n",
       "  'name': 'BP Alternative Energy N Amer',\n",
       "  'place_id': 'ChIJFw6F0yi_QIYRt3uIS17JqUM',\n",
       "  'rating': 5,\n",
       "  'reference': 'CmRRAAAAQX99iJ5P2-_51wDOTufgbdr2ZYrN49lmso-lQKKHjVh9hn-PPv8tYhPKCmdXkRVmoWnDnpgNiBS2AAuD1G27fSo2s1ewJNdMn_024i7Ho4uiF84wfGHjezVFNGsHdO6REhBYwdM966dCeSVK_0pk9UcdGhRWhL77pYZyAnL2LkIGc6u_YBDkmw',\n",
       "  'types': ['point_of_interest', 'establishment']},\n",
       " {'formatted_address': '737 N Eldridge Pkwy, Houston, TX 77079, United States',\n",
       "  'geometry': {'location': {'lat': 29.775523, 'lng': -95.61952199999999},\n",
       "   'viewport': {'northeast': {'lat': 29.7767784802915,\n",
       "     'lng': -95.61791161970848},\n",
       "    'southwest': {'lat': 29.7740805197085, 'lng': -95.62060958029149}}},\n",
       "  'icon': 'https://maps.gstatic.com/mapfiles/place_api/icons/generic_business-71.png',\n",
       "  'id': 'c1497910640490285a398008a9b5bd8eedf60179',\n",
       "  'name': 'BP',\n",
       "  'place_id': 'ChIJ_TR0IJLbQIYRTGH0VaXWxWo',\n",
       "  'reference': 'CmRRAAAAnSimPgIWFfflg7t5nWPeLkknkVSBPFns4woRwrGMq4QYHSkDevuQJb7aP5C-0A_4-gh-LtTLNYXouKoA8bE9hrsj3F5QpyEzmd5ycBG9B_j76jGpkqvdp4a-BI_WmSLTEhAvM35b7rbND27nbHAFCW4LGhSEXL_1sby30fxeEOAUtRCVXwNixw',\n",
       "  'types': ['point_of_interest', 'establishment']},\n",
       " {'formatted_address': '1330 Enclave Pkwy, Houston, TX 77077, United States',\n",
       "  'geometry': {'location': {'lat': 29.7614914, 'lng': -95.6205844},\n",
       "   'viewport': {'northeast': {'lat': 29.76325728029149, 'lng': -95.61867325},\n",
       "    'southwest': {'lat': 29.76055931970849, 'lng': -95.62166305}}},\n",
       "  'icon': 'https://maps.gstatic.com/mapfiles/place_api/icons/gas_station-71.png',\n",
       "  'id': '090168663accf59ca110f5e2e46481a95017e1f9',\n",
       "  'name': 'B P Exploration',\n",
       "  'place_id': 'ChIJOye3n3XcQIYRUwqGehYkyOs',\n",
       "  'reference': 'CmRSAAAAU0xJmPcM5bBJsWACICiH-_gonyzPoiKMOa4Q04NmcE2pIHO8lrGHnefKs7hqohr3iLQcwJldSvqv646ckOZw3z9UhoZsvM_3rLbhp1siJXNs64q18pqQCKTO3ykzyqCVEhDLRliyStPpQQoiVlt1IR93GhTiX3U5ysQoHgQrsgxyPH8dTJL5bQ',\n",
       "  'types': ['gas_station',\n",
       "   'car_repair',\n",
       "   'point_of_interest',\n",
       "   'establishment']},\n",
       " {'formatted_address': '225 Westlake Park Blvd, Houston, TX 77079, United States',\n",
       "  'geometry': {'location': {'lat': 29.78388099999999,\n",
       "    'lng': -95.63019000000001},\n",
       "   'viewport': {'northeast': {'lat': 29.78522998029149,\n",
       "     'lng': -95.6288232197085},\n",
       "    'southwest': {'lat': 29.78253201970849, 'lng': -95.6315211802915}}},\n",
       "  'icon': 'https://maps.gstatic.com/mapfiles/place_api/icons/generic_business-71.png',\n",
       "  'id': '9abe5bd88e0e68c5ed477137dd967abe6b36f31c',\n",
       "  'name': 'BP Center For High Performance Computing',\n",
       "  'photos': [{'height': 3024,\n",
       "    'html_attributions': ['<a href=\"https://maps.google.com/maps/contrib/107575273577992488186/photos\">Bob Mader</a>'],\n",
       "    'photo_reference': 'CoQBdwAAABJAjukT-dhzkDjQHlavh8pgMVycUPphesbjGbkKcm34FIjAg2d465wOz9R5KNHijOZTAt1AHof1xUyqcT_pv2xGFCSSHzrzzIYrEpaNDkoWjVFFH1u-ayGwUXFM9fD7jAHRzfV7KxZcE2MpUn_9JqU7FQFYEqZUX8qgqT3V2xUiEhDd6VbKLCeMrMnNMQVLGEjgGhTohdXWX0EEJEmmI9YOXFDDOfeNFg',\n",
       "    'width': 4032}],\n",
       "  'place_id': 'ChIJac9K9OnbQIYRrbsN3186Qn0',\n",
       "  'reference': 'CmRRAAAAaBRmjrk3h-dw__zJwRFODC1M-uJZjPJ-sJ5i3L6JSPBXHPrraceQkb_pCloc30xDtxo5cNj3dM3_-ue_z-uzW87mJjJ0p9Ot9-Neb_nWdhikGAaAOVbzakXsXZHDukH6EhCDMG2JfJ3kPHNdYoLhWrgKGhQF5LAqkZFBx1rjZzmkoXgG8hkQ2g',\n",
       "  'types': ['point_of_interest', 'establishment']}]"
      ]
     },
     "execution_count": 171,
     "metadata": {},
     "output_type": "execute_result"
    }
   ],
   "source": [
    "BP_results.json()['results']"
   ]
  },
  {
   "cell_type": "code",
   "execution_count": 169,
   "metadata": {
    "collapsed": false
   },
   "outputs": [
    {
     "data": {
      "text/plain": [
       "8"
      ]
     },
     "execution_count": 169,
     "metadata": {},
     "output_type": "execute_result"
    }
   ],
   "source": [
    "len(BP_results.json()['results'])"
   ]
  },
  {
   "cell_type": "code",
   "execution_count": 200,
   "metadata": {
    "collapsed": false
   },
   "outputs": [],
   "source": [
    "# function that takes a datset that is \n",
    "def makeFeatureCollectionsFromPlaces(dataset_I,nameOfSearch):\n",
    "    dataset = dataset_I.json()['results']\n",
    "    array_of_features = []\n",
    "    for each in BP_result:\n",
    "        # centerpoint for coordinates\n",
    "        print(each)\n",
    "        lat = each['geometry']['location']['lat']\n",
    "        long = each['geometry']['location']['lng']\n",
    "        # properties\n",
    "        address = each['formatted_address']\n",
    "        id = each['id']\n",
    "        name = each['name']\n",
    "        #try:\n",
    "        #    photos = each['photos']\n",
    "        #except AttributeError:\n",
    "        #    print(\"photos , attribute error but kept going\")\n",
    "        # photos is an array\n",
    "        #photos = each['photos']\n",
    "        place_id = each['place_id']\n",
    "        #try:\n",
    "        #    rating = each['rating']\n",
    "        #except AttributeError:\n",
    "        #    print(\"rating , attribute error but kept going\")\n",
    "        reference = each['reference']\n",
    "        # types is an array\n",
    "        types = each['types']\n",
    "        # \n",
    "        testPoint = Point((long, lat))\n",
    "        test2_geoJSOn = Feature(geometry=testPoint, properties={\"name\": name,\"address\":address,\"id\":id,\"photos\":photos,\"place_id\":place_id,\"rating\":rating,\"reference\":reference,\"types\":types})\n",
    "        array_of_features.extend([test2_geoJSOn])\n",
    "    new_FeatureCollection = FeatureCollection(array_of_features) \n",
    "    with open('../DATA/'+nameOfSearch+'_test.geojson', 'w') as f:\n",
    "        json.dump(new_FeatureCollection, f)\n"
   ]
  },
  {
   "cell_type": "code",
   "execution_count": 201,
   "metadata": {
    "collapsed": false
   },
   "outputs": [
    {
     "name": "stdout",
     "output_type": "stream",
     "text": [
      "{'types': ['point_of_interest', 'establishment'], 'id': 'e46f6a874424cc053595fa14766d20e09d95c787', 'icon': 'https://maps.gstatic.com/mapfiles/place_api/icons/generic_business-71.png', 'geometry': {'viewport': {'northeast': {'lng': -95.6347346697085, 'lat': 29.7841507302915}, 'southwest': {'lng': -95.6374326302915, 'lat': 29.7814527697085}}, 'location': {'lng': -95.6355662, 'lat': 29.7827932}}, 'formatted_address': '201 Helios Way, Houston, TX 77079, United States', 'name': 'BP Energy Company', 'reference': 'CmRSAAAAQ5ra2hUoATyQBD-Q2DRAAz66t8CG_G52GRhdHfRZWon-X0SbMxcjmFG0myG6Ntc1uA4zHveGJOrnE2gFHox56VdwOsyDKxeYLm9qKp_F6_UquqW20n-Iv3rW4a7xLFCYEhACXZLXPawOQB18kXJCvXn8GhToRJrdM9HHstm5ZSC7VFHQD5V2-Q', 'place_id': 'ChIJg--izefbQIYRtgvWPBmGz80', 'rating': 5}\n",
      "{'types': ['point_of_interest', 'establishment'], 'photos': [{'height': 2988, 'photo_reference': 'CoQBdwAAANBQrgK3sXZBt5konU2kf1T0pP-SvApM55TqMowhaX-hN-5_SIuZa0RqmqnPMWXeN-StHXTxOiFr6El8aSyhU4BwpP5ob5_VwnjLuC_Jcu9-uADHCuAAdtRCvXPj4lEEtqgAakho9xnDWXAZFdx2GNnhw_Cf_TyKrUARBo4dpMeyEhCBtLbr73AeAnUmiK2LcUctGhRTGFzaH4jJlC27hrg2mhH3-iX7sA', 'width': 5312, 'html_attributions': ['<a href=\"https://maps.google.com/maps/contrib/110237591165544589057/photos\">phillip randle</a>']}], 'id': '57a521680aa8c23f9d43a6860f65cf6fd2be569d', 'icon': 'https://maps.gstatic.com/mapfiles/place_api/icons/generic_business-71.png', 'geometry': {'viewport': {'northeast': {'lng': -95.62783486970848, 'lat': 29.7820796802915}, 'southwest': {'lng': -95.6305328302915, 'lat': 29.7793817197085}}, 'location': {'lng': -95.62888369999999, 'lat': 29.7810751}}, 'formatted_address': '501 Westlake Park Blvd, Houston, TX 77079, United States', 'name': 'BP', 'reference': 'CmRRAAAAyKp_Pqb-xCl3YNPIH5Cz01wv4wzNSiFILNuQkWGIYGJvR1rSfhe6sEj0E3e96gthcJDfw6jQFPWDZfnoCdMw8hEUhpE0hWEh66LYZK3Olio9Ji99qa63K9OrzuLLBnK_EhBr95pUDiU5Ji9mI-W1-zfWGhTh2l8KRhTBWRQOOMwzR-deEcSIOg', 'place_id': 'ChIJ0z6vPVYfR4YRmI2l_W6FMUU', 'rating': 3.6}\n",
      "{'types': ['hospital', 'car_repair', 'point_of_interest', 'establishment'], 'id': 'fea9a6759abf2e14b7f42d672ff77192a289957c', 'icon': 'https://maps.gstatic.com/mapfiles/place_api/icons/doctor-71.png', 'opening_hours': {'weekday_text': [], 'open_now': True, 'exceptional_date': []}, 'geometry': {'viewport': {'northeast': {'lng': -95.44407476970851, 'lat': 29.7299228302915}, 'southwest': {'lng': -95.44677273029151, 'lat': 29.7272248697085}}, 'location': {'lng': -95.444937, 'lat': 29.728147}}, 'formatted_address': '4201 Southwest Fwy, Houston, TX 77027, United States', 'name': 'BP', 'reference': 'CmRRAAAAuEikx8pQcp_G1JsNeHgMryi82zMxZokejiAm4IZDszO7HYdCkI8y7vGP8WUjoUzQzGKWy1_Yyo-bUHV947GYXH--3UpJbDmjmxxUA2K_n0yV4DuZKPYcj_ycfvx6nkNlEhB2n4Rc5Fe9RI0BmeEU26N_GhTelWZxaBKP6LoJA6TPUuwPXMBZqg', 'place_id': 'ChIJpWNqawbBQIYRORSkUyUNuCo', 'rating': 1}\n",
      "{'types': ['gas_station', 'point_of_interest', 'establishment'], 'id': 'c483e6a375379d3529ce2fd22d1ec3350e680357', 'icon': 'https://maps.gstatic.com/mapfiles/place_api/icons/gas_station-71.png', 'geometry': {'viewport': {'northeast': {'lng': -95.6298879197085, 'lat': 29.7815224302915}, 'southwest': {'lng': -95.6325858802915, 'lat': 29.7788244697085}}, 'location': {'lng': -95.6310345, 'lat': 29.7804026}}, 'formatted_address': '550 Westlake Park Blvd, Houston, TX 77079, United States', 'name': 'BP Pipelines', 'reference': 'CmRSAAAAR42LfXQgfJ6NYN2LzQ3AMv7t8ReEcW9d4z5bdDgEMGuM25x9wCEzoSqDSE5iXVD0PWK4P2ruqkcKeUqkn8mWkRCIppJzLD_v_ZCPuz4BjJdBCow7c0xt1f-7bAyfkZ8NEhB1y1gjXPprOEtf0MpTsOhhGhRmq2uPEmeeiybrL7AvJOURH1_vZg', 'place_id': 'ChIJsWzgQOnbQIYR74Zy8dMeZoI'}\n",
      "{'types': ['point_of_interest', 'establishment'], 'id': '09d871147780fb6726c0fea093cf3378e413e245', 'icon': 'https://maps.gstatic.com/mapfiles/place_api/icons/generic_business-71.png', 'geometry': {'viewport': {'northeast': {'lng': -95.36495491970848, 'lat': 29.7619608802915}, 'southwest': {'lng': -95.3676528802915, 'lat': 29.7592629197085}}, 'location': {'lng': -95.36630389999999, 'lat': 29.7606119}}, 'formatted_address': '700 Louisiana St # 33, Houston, TX 77002, United States', 'name': 'BP Alternative Energy N Amer', 'reference': 'CmRRAAAAQX99iJ5P2-_51wDOTufgbdr2ZYrN49lmso-lQKKHjVh9hn-PPv8tYhPKCmdXkRVmoWnDnpgNiBS2AAuD1G27fSo2s1ewJNdMn_024i7Ho4uiF84wfGHjezVFNGsHdO6REhBYwdM966dCeSVK_0pk9UcdGhRWhL77pYZyAnL2LkIGc6u_YBDkmw', 'place_id': 'ChIJFw6F0yi_QIYRt3uIS17JqUM', 'rating': 5}\n",
      "{'types': ['point_of_interest', 'establishment'], 'id': 'c1497910640490285a398008a9b5bd8eedf60179', 'icon': 'https://maps.gstatic.com/mapfiles/place_api/icons/generic_business-71.png', 'geometry': {'viewport': {'northeast': {'lng': -95.61791161970848, 'lat': 29.7767784802915}, 'southwest': {'lng': -95.62060958029149, 'lat': 29.7740805197085}}, 'location': {'lng': -95.61952199999999, 'lat': 29.775523}}, 'formatted_address': '737 N Eldridge Pkwy, Houston, TX 77079, United States', 'name': 'BP', 'reference': 'CmRRAAAAnSimPgIWFfflg7t5nWPeLkknkVSBPFns4woRwrGMq4QYHSkDevuQJb7aP5C-0A_4-gh-LtTLNYXouKoA8bE9hrsj3F5QpyEzmd5ycBG9B_j76jGpkqvdp4a-BI_WmSLTEhAvM35b7rbND27nbHAFCW4LGhSEXL_1sby30fxeEOAUtRCVXwNixw', 'place_id': 'ChIJ_TR0IJLbQIYRTGH0VaXWxWo'}\n",
      "{'types': ['gas_station', 'car_repair', 'point_of_interest', 'establishment'], 'id': '090168663accf59ca110f5e2e46481a95017e1f9', 'icon': 'https://maps.gstatic.com/mapfiles/place_api/icons/gas_station-71.png', 'geometry': {'viewport': {'northeast': {'lng': -95.61867325, 'lat': 29.76325728029149}, 'southwest': {'lng': -95.62166305, 'lat': 29.76055931970849}}, 'location': {'lng': -95.6205844, 'lat': 29.7614914}}, 'formatted_address': '1330 Enclave Pkwy, Houston, TX 77077, United States', 'name': 'B P Exploration', 'reference': 'CmRSAAAAU0xJmPcM5bBJsWACICiH-_gonyzPoiKMOa4Q04NmcE2pIHO8lrGHnefKs7hqohr3iLQcwJldSvqv646ckOZw3z9UhoZsvM_3rLbhp1siJXNs64q18pqQCKTO3ykzyqCVEhDLRliyStPpQQoiVlt1IR93GhTiX3U5ysQoHgQrsgxyPH8dTJL5bQ', 'place_id': 'ChIJOye3n3XcQIYRUwqGehYkyOs'}\n",
      "{'types': ['point_of_interest', 'establishment'], 'photos': [{'height': 3024, 'photo_reference': 'CoQBdwAAABJAjukT-dhzkDjQHlavh8pgMVycUPphesbjGbkKcm34FIjAg2d465wOz9R5KNHijOZTAt1AHof1xUyqcT_pv2xGFCSSHzrzzIYrEpaNDkoWjVFFH1u-ayGwUXFM9fD7jAHRzfV7KxZcE2MpUn_9JqU7FQFYEqZUX8qgqT3V2xUiEhDd6VbKLCeMrMnNMQVLGEjgGhTohdXWX0EEJEmmI9YOXFDDOfeNFg', 'width': 4032, 'html_attributions': ['<a href=\"https://maps.google.com/maps/contrib/107575273577992488186/photos\">Bob Mader</a>']}], 'id': '9abe5bd88e0e68c5ed477137dd967abe6b36f31c', 'icon': 'https://maps.gstatic.com/mapfiles/place_api/icons/generic_business-71.png', 'geometry': {'viewport': {'northeast': {'lng': -95.6288232197085, 'lat': 29.78522998029149}, 'southwest': {'lng': -95.6315211802915, 'lat': 29.78253201970849}}, 'location': {'lng': -95.63019000000001, 'lat': 29.78388099999999}}, 'formatted_address': '225 Westlake Park Blvd, Houston, TX 77079, United States', 'name': 'BP Center For High Performance Computing', 'reference': 'CmRRAAAAaBRmjrk3h-dw__zJwRFODC1M-uJZjPJ-sJ5i3L6JSPBXHPrraceQkb_pCloc30xDtxo5cNj3dM3_-ue_z-uzW87mJjJ0p9Ot9-Neb_nWdhikGAaAOVbzakXsXZHDukH6EhCDMG2JfJ3kPHNdYoLhWrgKGhQF5LAqkZFBx1rjZzmkoXgG8hkQ2g', 'place_id': 'ChIJac9K9OnbQIYRrbsN3186Qn0'}\n"
     ]
    }
   ],
   "source": [
    "\n",
    "BP_results_geojson = makeFeatureCollectionsFromPlaces(BP_results,\"BP_results\")"
   ]
  },
  {
   "cell_type": "code",
   "execution_count": 179,
   "metadata": {
    "collapsed": false
   },
   "outputs": [
    {
     "data": {
      "text/plain": [
       "[{'formatted_address': '201 Helios Way, Houston, TX 77079, United States',\n",
       "  'geometry': {'location': {'lat': 29.7827932, 'lng': -95.6355662},\n",
       "   'viewport': {'northeast': {'lat': 29.7841507302915,\n",
       "     'lng': -95.6347346697085},\n",
       "    'southwest': {'lat': 29.7814527697085, 'lng': -95.6374326302915}}},\n",
       "  'icon': 'https://maps.gstatic.com/mapfiles/place_api/icons/generic_business-71.png',\n",
       "  'id': 'e46f6a874424cc053595fa14766d20e09d95c787',\n",
       "  'name': 'BP Energy Company',\n",
       "  'place_id': 'ChIJg--izefbQIYRtgvWPBmGz80',\n",
       "  'rating': 5,\n",
       "  'reference': 'CmRSAAAAQ5ra2hUoATyQBD-Q2DRAAz66t8CG_G52GRhdHfRZWon-X0SbMxcjmFG0myG6Ntc1uA4zHveGJOrnE2gFHox56VdwOsyDKxeYLm9qKp_F6_UquqW20n-Iv3rW4a7xLFCYEhACXZLXPawOQB18kXJCvXn8GhToRJrdM9HHstm5ZSC7VFHQD5V2-Q',\n",
       "  'types': ['point_of_interest', 'establishment']},\n",
       " {'formatted_address': '501 Westlake Park Blvd, Houston, TX 77079, United States',\n",
       "  'geometry': {'location': {'lat': 29.7810751, 'lng': -95.62888369999999},\n",
       "   'viewport': {'northeast': {'lat': 29.7820796802915,\n",
       "     'lng': -95.62783486970848},\n",
       "    'southwest': {'lat': 29.7793817197085, 'lng': -95.6305328302915}}},\n",
       "  'icon': 'https://maps.gstatic.com/mapfiles/place_api/icons/generic_business-71.png',\n",
       "  'id': '57a521680aa8c23f9d43a6860f65cf6fd2be569d',\n",
       "  'name': 'BP',\n",
       "  'photos': [{'height': 2988,\n",
       "    'html_attributions': ['<a href=\"https://maps.google.com/maps/contrib/110237591165544589057/photos\">phillip randle</a>'],\n",
       "    'photo_reference': 'CoQBdwAAANBQrgK3sXZBt5konU2kf1T0pP-SvApM55TqMowhaX-hN-5_SIuZa0RqmqnPMWXeN-StHXTxOiFr6El8aSyhU4BwpP5ob5_VwnjLuC_Jcu9-uADHCuAAdtRCvXPj4lEEtqgAakho9xnDWXAZFdx2GNnhw_Cf_TyKrUARBo4dpMeyEhCBtLbr73AeAnUmiK2LcUctGhRTGFzaH4jJlC27hrg2mhH3-iX7sA',\n",
       "    'width': 5312}],\n",
       "  'place_id': 'ChIJ0z6vPVYfR4YRmI2l_W6FMUU',\n",
       "  'rating': 3.6,\n",
       "  'reference': 'CmRRAAAAyKp_Pqb-xCl3YNPIH5Cz01wv4wzNSiFILNuQkWGIYGJvR1rSfhe6sEj0E3e96gthcJDfw6jQFPWDZfnoCdMw8hEUhpE0hWEh66LYZK3Olio9Ji99qa63K9OrzuLLBnK_EhBr95pUDiU5Ji9mI-W1-zfWGhTh2l8KRhTBWRQOOMwzR-deEcSIOg',\n",
       "  'types': ['point_of_interest', 'establishment']},\n",
       " {'formatted_address': '4201 Southwest Fwy, Houston, TX 77027, United States',\n",
       "  'geometry': {'location': {'lat': 29.728147, 'lng': -95.444937},\n",
       "   'viewport': {'northeast': {'lat': 29.7299228302915,\n",
       "     'lng': -95.44407476970851},\n",
       "    'southwest': {'lat': 29.7272248697085, 'lng': -95.44677273029151}}},\n",
       "  'icon': 'https://maps.gstatic.com/mapfiles/place_api/icons/doctor-71.png',\n",
       "  'id': 'fea9a6759abf2e14b7f42d672ff77192a289957c',\n",
       "  'name': 'BP',\n",
       "  'opening_hours': {'exceptional_date': [],\n",
       "   'open_now': True,\n",
       "   'weekday_text': []},\n",
       "  'place_id': 'ChIJpWNqawbBQIYRORSkUyUNuCo',\n",
       "  'rating': 1,\n",
       "  'reference': 'CmRRAAAAuEikx8pQcp_G1JsNeHgMryi82zMxZokejiAm4IZDszO7HYdCkI8y7vGP8WUjoUzQzGKWy1_Yyo-bUHV947GYXH--3UpJbDmjmxxUA2K_n0yV4DuZKPYcj_ycfvx6nkNlEhB2n4Rc5Fe9RI0BmeEU26N_GhTelWZxaBKP6LoJA6TPUuwPXMBZqg',\n",
       "  'types': ['hospital', 'car_repair', 'point_of_interest', 'establishment']},\n",
       " {'formatted_address': '550 Westlake Park Blvd, Houston, TX 77079, United States',\n",
       "  'geometry': {'location': {'lat': 29.7804026, 'lng': -95.6310345},\n",
       "   'viewport': {'northeast': {'lat': 29.7815224302915,\n",
       "     'lng': -95.6298879197085},\n",
       "    'southwest': {'lat': 29.7788244697085, 'lng': -95.6325858802915}}},\n",
       "  'icon': 'https://maps.gstatic.com/mapfiles/place_api/icons/gas_station-71.png',\n",
       "  'id': 'c483e6a375379d3529ce2fd22d1ec3350e680357',\n",
       "  'name': 'BP Pipelines',\n",
       "  'place_id': 'ChIJsWzgQOnbQIYR74Zy8dMeZoI',\n",
       "  'reference': 'CmRSAAAAR42LfXQgfJ6NYN2LzQ3AMv7t8ReEcW9d4z5bdDgEMGuM25x9wCEzoSqDSE5iXVD0PWK4P2ruqkcKeUqkn8mWkRCIppJzLD_v_ZCPuz4BjJdBCow7c0xt1f-7bAyfkZ8NEhB1y1gjXPprOEtf0MpTsOhhGhRmq2uPEmeeiybrL7AvJOURH1_vZg',\n",
       "  'types': ['gas_station', 'point_of_interest', 'establishment']},\n",
       " {'formatted_address': '700 Louisiana St # 33, Houston, TX 77002, United States',\n",
       "  'geometry': {'location': {'lat': 29.7606119, 'lng': -95.36630389999999},\n",
       "   'viewport': {'northeast': {'lat': 29.7619608802915,\n",
       "     'lng': -95.36495491970848},\n",
       "    'southwest': {'lat': 29.7592629197085, 'lng': -95.3676528802915}}},\n",
       "  'icon': 'https://maps.gstatic.com/mapfiles/place_api/icons/generic_business-71.png',\n",
       "  'id': '09d871147780fb6726c0fea093cf3378e413e245',\n",
       "  'name': 'BP Alternative Energy N Amer',\n",
       "  'place_id': 'ChIJFw6F0yi_QIYRt3uIS17JqUM',\n",
       "  'rating': 5,\n",
       "  'reference': 'CmRRAAAAQX99iJ5P2-_51wDOTufgbdr2ZYrN49lmso-lQKKHjVh9hn-PPv8tYhPKCmdXkRVmoWnDnpgNiBS2AAuD1G27fSo2s1ewJNdMn_024i7Ho4uiF84wfGHjezVFNGsHdO6REhBYwdM966dCeSVK_0pk9UcdGhRWhL77pYZyAnL2LkIGc6u_YBDkmw',\n",
       "  'types': ['point_of_interest', 'establishment']},\n",
       " {'formatted_address': '737 N Eldridge Pkwy, Houston, TX 77079, United States',\n",
       "  'geometry': {'location': {'lat': 29.775523, 'lng': -95.61952199999999},\n",
       "   'viewport': {'northeast': {'lat': 29.7767784802915,\n",
       "     'lng': -95.61791161970848},\n",
       "    'southwest': {'lat': 29.7740805197085, 'lng': -95.62060958029149}}},\n",
       "  'icon': 'https://maps.gstatic.com/mapfiles/place_api/icons/generic_business-71.png',\n",
       "  'id': 'c1497910640490285a398008a9b5bd8eedf60179',\n",
       "  'name': 'BP',\n",
       "  'place_id': 'ChIJ_TR0IJLbQIYRTGH0VaXWxWo',\n",
       "  'reference': 'CmRRAAAAnSimPgIWFfflg7t5nWPeLkknkVSBPFns4woRwrGMq4QYHSkDevuQJb7aP5C-0A_4-gh-LtTLNYXouKoA8bE9hrsj3F5QpyEzmd5ycBG9B_j76jGpkqvdp4a-BI_WmSLTEhAvM35b7rbND27nbHAFCW4LGhSEXL_1sby30fxeEOAUtRCVXwNixw',\n",
       "  'types': ['point_of_interest', 'establishment']},\n",
       " {'formatted_address': '1330 Enclave Pkwy, Houston, TX 77077, United States',\n",
       "  'geometry': {'location': {'lat': 29.7614914, 'lng': -95.6205844},\n",
       "   'viewport': {'northeast': {'lat': 29.76325728029149, 'lng': -95.61867325},\n",
       "    'southwest': {'lat': 29.76055931970849, 'lng': -95.62166305}}},\n",
       "  'icon': 'https://maps.gstatic.com/mapfiles/place_api/icons/gas_station-71.png',\n",
       "  'id': '090168663accf59ca110f5e2e46481a95017e1f9',\n",
       "  'name': 'B P Exploration',\n",
       "  'place_id': 'ChIJOye3n3XcQIYRUwqGehYkyOs',\n",
       "  'reference': 'CmRSAAAAU0xJmPcM5bBJsWACICiH-_gonyzPoiKMOa4Q04NmcE2pIHO8lrGHnefKs7hqohr3iLQcwJldSvqv646ckOZw3z9UhoZsvM_3rLbhp1siJXNs64q18pqQCKTO3ykzyqCVEhDLRliyStPpQQoiVlt1IR93GhTiX3U5ysQoHgQrsgxyPH8dTJL5bQ',\n",
       "  'types': ['gas_station',\n",
       "   'car_repair',\n",
       "   'point_of_interest',\n",
       "   'establishment']},\n",
       " {'formatted_address': '225 Westlake Park Blvd, Houston, TX 77079, United States',\n",
       "  'geometry': {'location': {'lat': 29.78388099999999,\n",
       "    'lng': -95.63019000000001},\n",
       "   'viewport': {'northeast': {'lat': 29.78522998029149,\n",
       "     'lng': -95.6288232197085},\n",
       "    'southwest': {'lat': 29.78253201970849, 'lng': -95.6315211802915}}},\n",
       "  'icon': 'https://maps.gstatic.com/mapfiles/place_api/icons/generic_business-71.png',\n",
       "  'id': '9abe5bd88e0e68c5ed477137dd967abe6b36f31c',\n",
       "  'name': 'BP Center For High Performance Computing',\n",
       "  'photos': [{'height': 3024,\n",
       "    'html_attributions': ['<a href=\"https://maps.google.com/maps/contrib/107575273577992488186/photos\">Bob Mader</a>'],\n",
       "    'photo_reference': 'CoQBdwAAABJAjukT-dhzkDjQHlavh8pgMVycUPphesbjGbkKcm34FIjAg2d465wOz9R5KNHijOZTAt1AHof1xUyqcT_pv2xGFCSSHzrzzIYrEpaNDkoWjVFFH1u-ayGwUXFM9fD7jAHRzfV7KxZcE2MpUn_9JqU7FQFYEqZUX8qgqT3V2xUiEhDd6VbKLCeMrMnNMQVLGEjgGhTohdXWX0EEJEmmI9YOXFDDOfeNFg',\n",
       "    'width': 4032}],\n",
       "  'place_id': 'ChIJac9K9OnbQIYRrbsN3186Qn0',\n",
       "  'reference': 'CmRRAAAAaBRmjrk3h-dw__zJwRFODC1M-uJZjPJ-sJ5i3L6JSPBXHPrraceQkb_pCloc30xDtxo5cNj3dM3_-ue_z-uzW87mJjJ0p9Ot9-Neb_nWdhikGAaAOVbzakXsXZHDukH6EhCDMG2JfJ3kPHNdYoLhWrgKGhQF5LAqkZFBx1rjZzmkoXgG8hkQ2g',\n",
       "  'types': ['point_of_interest', 'establishment']}]"
      ]
     },
     "execution_count": 179,
     "metadata": {},
     "output_type": "execute_result"
    }
   ],
   "source": [
    "dataset = BP_results\n",
    "dataset = dataset.json()['results']\n",
    "dataset"
   ]
  },
  {
   "cell_type": "code",
   "execution_count": 183,
   "metadata": {
    "collapsed": false
   },
   "outputs": [
    {
     "data": {
      "text/plain": [
       "29.728147"
      ]
     },
     "execution_count": 183,
     "metadata": {},
     "output_type": "execute_result"
    }
   ],
   "source": [
    "dataset2 = dataset[2]['geometry']['location']['lat']\n",
    "dataset2"
   ]
  },
  {
   "cell_type": "code",
   "execution_count": null,
   "metadata": {
    "collapsed": true
   },
   "outputs": [],
   "source": []
  }
 ],
 "metadata": {
  "kernelspec": {
   "display_name": "Python 3",
   "language": "python",
   "name": "python3"
  },
  "language_info": {
   "codemirror_mode": {
    "name": "ipython",
    "version": 3
   },
   "file_extension": ".py",
   "mimetype": "text/x-python",
   "name": "python",
   "nbconvert_exporter": "python",
   "pygments_lexer": "ipython3",
   "version": "3.5.2"
  }
 },
 "nbformat": 4,
 "nbformat_minor": 0
}
