{
 "cells": [
  {
   "cell_type": "markdown",
   "metadata": {},
   "source": [
    "# Single Notebook With All the Code to Go From List of Science Job Titles to geoJSON of Companies advertising those jobs on a map"
   ]
  },
  {
   "cell_type": "markdown",
   "metadata": {},
   "source": [
    "------------------------------------------------"
   ]
  },
  {
   "cell_type": "markdown",
   "metadata": {},
   "source": [
    "# General Outline\n",
    "### get list of science related jobs\n",
    "    * Clean up a list of science related job titles I modified from wikipedia in excel, save as csv\n",
    "### get company names that are hiring for those science related job titles in Houston, TX by scraping job search site(s)\n",
    "    * use beautiful soup, a python library to gather information from websites programtically and return list of companies\n",
    "    * Clean up duplication and companies that shouldn't be included\n",
    "### get addresses and lat longs associated with each company name in json form\n",
    "    * use google places API to search for company name and a Houston, TX location, returning json of location and company information\n",
    "    * clean returned list of json data such that it is limited to a lat long box of the greater houston area\n",
    "    * clean up duplicates and are false positives useing pandas and other python libraries to \n",
    "### convert results to geoJSON. Add-in additional data dimensions, such as job title used in seach, as geoJSON properties\n",
    "    * use geoJSON and JSON python libraries to convert previous json into points, and then features, and then a single feature collection\n",
    "### get geoJSONs from other sources that contain science location data on things like schools and hospitals\n",
    "    * use .... a http get call to access the geoJSON files already created by the city of Houston.\n",
    "### add geoJSONs to map. Use color, size, and shape to represent different geoJSON properties. Tell a story\n",
    "    * use mapboxGL.js, leaflet.js, and basic html/CSS/JS to create maps"
   ]
  },
  {
   "cell_type": "markdown",
   "metadata": {},
   "source": [
    "### importing needed python modules"
   ]
  },
  {
   "cell_type": "code",
   "execution_count": 61,
   "metadata": {
    "collapsed": false
   },
   "outputs": [],
   "source": [
    "#### Imports for parts #1 & #2\n",
    "from bs4 import BeautifulSoup # For HTML parsing\n",
    "from urllib.request import urlopen\n",
    "import re # Regular expressions\n",
    "from time import sleep # To prevent overwhelming the server between connections\n",
    "from collections import Counter # Keep track of our term counts\n",
    "from nltk.corpus import stopwords # Filter out stopwords, such as 'the', 'or', 'and'\n",
    "import pandas as pd # For converting results to a dataframe and bar chart plots\n",
    "%matplotlib inline\n",
    "import json\n",
    "import csv\n",
    "\n",
    "##### Import modules for google API and geoJSON parts. Only duplicate is json\n",
    "import requests\n",
    "import configparser\n",
    "import json\n",
    "import geojson\n",
    "from geojson import Point, Feature, FeatureCollection\n",
    "# https://github.com/frewsxcv/python-geojson\n",
    "import time\n",
    "import pandas as pd"
   ]
  },
  {
   "cell_type": "markdown",
   "metadata": {},
   "source": [
    "===================================================================================\n",
    "\n",
    "# 1. Load list of job titles"
   ]
  },
  {
   "cell_type": "markdown",
   "metadata": {},
   "source": [
    "------------------------------------------------------------------------------"
   ]
  },
  {
   "cell_type": "code",
   "execution_count": 40,
   "metadata": {
    "collapsed": false
   },
   "outputs": [
    {
     "name": "stdout",
     "output_type": "stream",
     "text": [
      "['Bioanalytical Scientist', 'Biochemist', 'Biochemistry', 'Bioinformatics Research Scientist', 'Biological Engineer', 'Biologist', 'biology  ', 'biomechanical', 'Biomedical scientist', 'biophysics', 'Cell Line', 'Clinical Data', 'Clinical Data Research', 'Clinical Pharmacology Professor', 'Clinical Pharmacy Assistant', 'Clinical Research Associate', 'Drug Evaluator', 'Drug Regulatory Affairs Manager', 'Environmental Health Scientist', 'Genetic Counselor', 'Health Research', 'Health Technology', 'Healthcare science', 'Hospital Research Assistant', 'Immunology Scientist', 'Life Science', 'Medical', 'Medical Center', 'medical Laboratory', 'Medical laboratory scientist', 'Medical Physics Researcher', 'Medical Research Assistant', 'Medical Research Technician', 'Medical Scientist', 'Microbiologist', 'Molecular Biologist', 'Molecular physics', 'Neuroscientist', 'Nuclear', 'Oncology Researcher', 'Pathologist', 'Pharmaceutical Assistant', 'Pharmaceutical Research Analyst', 'Pharmaceutical Research Assistant', 'Pharmaceutical Technician', 'Pharmacy Assistant', 'Photochemistry', 'Public Health Specialist', 'radiobiology', 'Radiochemistry', 'Toxicologist', 'Agricultural', 'Archaeologist', 'Associate Professor', 'Botanist', 'botany', 'Chemical', 'Chemist', 'Climate Data', 'Conservation', 'Field Technician', 'Forensic Chemist', 'Forensic Scientist', 'Herpetologist', 'Laboratory Instructor', 'Laboratory Technician', 'meteorologist ', 'Natural Science', 'Naturalist', 'Oceanographer', 'oceanography', 'optomitrist ', 'Physical Scientist', 'Psychologist', 'Research and Development Associate', 'Research and Development Director', 'Research and Development Manager', 'Research and Development Supervisor', 'Research and Development Technician', 'Research and Innovation', 'Research Fellow', 'Research Scientist', 'Researcher', 'science intern', 'Science teacher', 'Science Writer', 'Scientist', 'social science', 'Solid-state', 'STEM Career Advisor', 'Stem Cell Researcher', 'Stereochemistry', 'Structural Biologist', 'Theoretical', 'Volcanologist', 'volcanology', 'wind power', 'wind turbine ', 'zoo', 'Zoologist', 'zoology ', 'chemistry', 'Crystallography', 'Earth Science', 'Ecologist', 'Ecology', 'Environmental', 'Environmental Emergencies', 'Environmental Research Assistant', 'Environmental Specialist', 'Exploration', 'fluid dynamics', 'geochemist', 'Geochemistry', 'Geographer', 'Geologist', 'geology ', 'geophysicist', 'GiS ', 'Groundwater Technician', 'hydrology', 'Inorganic', 'lab technician', 'Materials science', 'micropaleontologist', 'operations geologist', 'paleoclimatology', 'paleoecology', 'Paleontologist', 'Petroleum geologist', 'petrophysicist', 'playnology', 'Research and Development Chemist', 'Research Chemist', 'reservoir engineer', 'reservoir modeler', 'rock Laboratory', 'sedimentologist', 'stratigraphy', 'subsea engineer', 'aeronautics', 'Aerospace', 'astrobiology', 'Astrochemistry', 'astromaterials', 'Astronaut', 'Astronomer', 'astronomy', 'astrophysics', 'Food chemistry', 'heliophysics', 'International Space Station', 'Johnson Space Center', 'lunar', 'materials engineer', 'NASA', 'Physicist', 'physics', 'Planetary  ', 'planetary geology', 'propulsion engineer', 'Satellite', 'space engineer', 'Space science', 'telemetry']\n"
     ]
    }
   ],
   "source": [
    "with open('../Data/science_jobs_v2.csv', 'rt') as f:\n",
    "    reader = csv.reader(f)\n",
    "    science_jobs_list_withInfo = list(reader)\n",
    "\n",
    "job_title_list = []\n",
    "for each in science_jobs_list_withInfo:\n",
    "    each = each[0]\n",
    "    #print('each',each)\n",
    "    job_title_list.append(each)\n",
    "\n",
    "# take out the header 'Job_Title'\n",
    "job_title_list.pop(0)\n",
    "\n",
    "print(job_title_list)"
   ]
  },
  {
   "cell_type": "code",
   "execution_count": 262,
   "metadata": {
    "collapsed": true
   },
   "outputs": [],
   "source": [
    "short_job_title_list = ['Chemist', 'Conservation', 'Forensic Chemist', 'Herpetologist', 'Laboratory', 'meteorologist ', 'Naturalist', 'Oceanographer', 'oceanography', 'optomitrist']"
   ]
  },
  {
   "cell_type": "code",
   "execution_count": 263,
   "metadata": {
    "collapsed": true
   },
   "outputs": [],
   "source": [
    "short_job_title_list_old1stHalf = ['Biochemistry', 'Bioinformatics', 'Biologist', 'biomechanical', 'Biomedical', 'biophysics', 'Cell+Line', 'Clinical+Data', 'Pharmacology', 'Pharmacy', 'Drug Evaluator', 'Environmental Health', 'Genetic Counselor', 'Healthcare', 'Hospital', 'Immunology', 'Life Science', 'Medical', 'Medical Center', 'medical Laboratory', 'Medical Physics', 'Medical', 'Microbiologist', 'Neuroscientist', 'Nuclear', 'Oncology', 'Pathologist', 'Pharmaceutical', 'Photochemistry', 'Public Health Specialist', 'radiobiology', 'Radiochemistry', 'Toxicologist', 'Agricultural', 'Archaeologist', 'Associate Professor', 'Botanist', 'botany', 'Chemical', 'Chemist', 'Conservation', 'Forensic Chemist', 'Herpetologist', 'Laboratory', 'meteorologist ', 'Naturalist', 'Oceanographer', 'oceanography', 'optomitrist']"
   ]
  },
  {
   "cell_type": "code",
   "execution_count": 264,
   "metadata": {
    "collapsed": true
   },
   "outputs": [],
   "source": [
    "short_job_title_list_2ndHalf = ['Forensic Scientist','Physical Scientist','Psychologist', 'Research Fellow', 'Science teacher', 'Scientist', 'social science', 'Solid-state', 'STEM', 'Stem Cell', 'Stereochemistry', 'Volcanologist', 'volcanology', 'wind power', 'wind turbine ', 'zoo', 'Zoologist', 'zoology ', 'chemistry', 'Crystallography', 'Earth Science', 'Ecologist', 'Ecology', 'Environmental', 'Exploration', 'fluid dynamics', 'geochemist', 'Geochemistry', 'Geographer', 'Geologist', 'geology ', 'geophysicist', 'GiS ', 'Groundwater Technician', 'hydrology', 'Inorganic', 'lab technician', 'Materials science', 'micropaleontologist', 'operations geologist', 'paleoclimatology', 'paleoecology', 'Paleontologist', 'Petroleum geologist', 'petrophysicist', 'playnology', 'reservoir', 'modeler', 'rock Laboratory', 'sedimentologist', 'stratigraphy', 'subsea', 'aeronautics', 'Aerospace', 'astrobiology', 'Astrochemistry', 'astromaterials', 'Astronaut', 'Astronomer', 'astronomy', 'astrophysics', 'Food chemistry', 'heliophysics', 'International Space Station', 'Johnson Space Center', 'lunar', 'materials', 'NASA', 'Physicist', 'physics', 'Planetary', 'propulsion engineer', 'Satellite', 'Space science', 'telemetry']"
   ]
  },
  {
   "cell_type": "code",
   "execution_count": 277,
   "metadata": {
    "collapsed": true
   },
   "outputs": [],
   "source": [
    "test_short_job_title_list = ['Chemist', 'Conservation', 'Herpetologist', 'Laboratory', 'meteorologist ', 'Naturalist']"
   ]
  },
  {
   "cell_type": "code",
   "execution_count": 265,
   "metadata": {
    "collapsed": false
   },
   "outputs": [
    {
     "data": {
      "text/plain": [
       "10"
      ]
     },
     "execution_count": 265,
     "metadata": {},
     "output_type": "execute_result"
    }
   ],
   "source": [
    "len(short_job_title_list)"
   ]
  },
  {
   "cell_type": "code",
   "execution_count": 266,
   "metadata": {
    "collapsed": true
   },
   "outputs": [],
   "source": [
    "# replace some of the characters so the search is a bit better:\n",
    "def cleanCompanies(company_array):\n",
    "    new_array = []\n",
    "    for each in company_array:\n",
    "        #print(each, \"and type is \",type(each))\n",
    "        print(each.find(\"-\",0))\n",
    "        print(type(each.find(\"-\",0)),\"type of each.find('-',0\")\n",
    "        #print(type(each.find(\"%2C\",1)))\n",
    "        if each.find(\"%2C\",1) is not -1:\n",
    "            each = each.replace(\"%2C\",\",\")\n",
    "            print(each,\"= each\")\n",
    "        else:\n",
    "            each = each\n",
    "        if each.find(\"%26\",1) is not -1:\n",
    "            each = each.replace(\"%26\",\"&\")\n",
    "            #print(each,\"= each find\")\n",
    "        else:\n",
    "            each = each\n",
    "        ##print(each, \"again with each\")\n",
    "        if  each.find(\"-1\",1) is not -1:\n",
    "            each = each.replace(\"-1\",\"\")\n",
    "        #    print(each,\"= each find\")\n",
    "        else:\n",
    "            each = each\n",
    "        if  each.find(\"-2\",0) is not -1:\n",
    "            each = each.replace(\"-2\",\"\")\n",
    "            print(each,\"= each find\")\n",
    "        else: \n",
    "            each = each\n",
    "        if  each.find(\"-3\",0) is not -1:\n",
    "            each = each.replace(\"-3\",\"\")\n",
    "        #    print(each,\"= each find\")\n",
    "        else:\n",
    "            each\n",
    "        if  each.find(\"-\",1) is not -1:\n",
    "            each = each.replace(\"-\",\"+\")\n",
    "            print(each,\"= each find\")\n",
    "        else:\n",
    "            each = each\n",
    "        if  each.find(\" \",1) is not -1:\n",
    "            each = each.replace(\" \",\"+\")\n",
    "            print(each,\"= each find\")\n",
    "        else:\n",
    "            each = each\n",
    "        print(\"each at end\",each)\n",
    "        new_array.extend([each])\n",
    "    print('new_array',new_array)\n",
    "    return new_array"
   ]
  },
  {
   "cell_type": "code",
   "execution_count": 267,
   "metadata": {
    "collapsed": false
   },
   "outputs": [
    {
     "name": "stdout",
     "output_type": "stream",
     "text": [
      "-1\n",
      "<class 'int'> type of each.find('-',0\n",
      "each at end Chemist\n",
      "-1\n",
      "<class 'int'> type of each.find('-',0\n",
      "each at end Conservation\n",
      "-1\n",
      "<class 'int'> type of each.find('-',0\n",
      "Forensic+Chemist = each find\n",
      "each at end Forensic+Chemist\n",
      "-1\n",
      "<class 'int'> type of each.find('-',0\n",
      "each at end Herpetologist\n",
      "-1\n",
      "<class 'int'> type of each.find('-',0\n",
      "each at end Laboratory\n",
      "-1\n",
      "<class 'int'> type of each.find('-',0\n",
      "meteorologist+ = each find\n",
      "each at end meteorologist+\n",
      "-1\n",
      "<class 'int'> type of each.find('-',0\n",
      "each at end Naturalist\n",
      "-1\n",
      "<class 'int'> type of each.find('-',0\n",
      "each at end Oceanographer\n",
      "-1\n",
      "<class 'int'> type of each.find('-',0\n",
      "each at end oceanography\n",
      "-1\n",
      "<class 'int'> type of each.find('-',0\n",
      "each at end optomitrist\n",
      "new_array ['Chemist', 'Conservation', 'Forensic+Chemist', 'Herpetologist', 'Laboratory', 'meteorologist+', 'Naturalist', 'Oceanographer', 'oceanography', 'optomitrist']\n"
     ]
    },
    {
     "data": {
      "text/plain": [
       "['Chemist',\n",
       " 'Conservation',\n",
       " 'Forensic+Chemist',\n",
       " 'Herpetologist',\n",
       " 'Laboratory',\n",
       " 'meteorologist+',\n",
       " 'Naturalist',\n",
       " 'Oceanographer',\n",
       " 'oceanography',\n",
       " 'optomitrist']"
      ]
     },
     "execution_count": 267,
     "metadata": {},
     "output_type": "execute_result"
    }
   ],
   "source": [
    "short_job_title_list = cleanCompanies(short_job_title_list)\n",
    "short_job_title_list"
   ]
  },
  {
   "cell_type": "code",
   "execution_count": 268,
   "metadata": {
    "collapsed": false
   },
   "outputs": [
    {
     "data": {
      "text/plain": [
       "10"
      ]
     },
     "execution_count": 268,
     "metadata": {},
     "output_type": "execute_result"
    }
   ],
   "source": [
    "len(short_job_title_list)"
   ]
  },
  {
   "cell_type": "code",
   "execution_count": 269,
   "metadata": {
    "collapsed": false
   },
   "outputs": [
    {
     "data": {
      "text/plain": [
       "165"
      ]
     },
     "execution_count": 269,
     "metadata": {},
     "output_type": "execute_result"
    }
   ],
   "source": [
    "len(new_list)"
   ]
  },
  {
   "cell_type": "markdown",
   "metadata": {},
   "source": [
    "------------------------------------------------------------------------------\n",
    "# 2. Get company names that are hiring for those science related job titles in Houston, TX by scraping job search site(s)\n",
    "------------------------------------------------------------------------------"
   ]
  },
  {
   "cell_type": "markdown",
   "metadata": {},
   "source": [
    "\n",
    "=========================================================================================\n",
    "## A data exploration using beautiful soup\n",
    "- based on this: https://jessesw.com/Data-Science-Skills/"
   ]
  },
  {
   "cell_type": "markdown",
   "metadata": {},
   "source": [
    "### The function 'skills_info' takes three arguments; city, state, and job title and returns a list of companies searching for that job title in the last 30 days in Houston, TX"
   ]
  },
  {
   "cell_type": "code",
   "execution_count": 42,
   "metadata": {
    "collapsed": false
   },
   "outputs": [],
   "source": [
    "def skills_info(city=\"Houston\", state=\"TX\",job_title='data+scientist'):\n",
    "    '''\n",
    "    This function will take a desired city/state and look for all new job postings\n",
    "    on Indeed.com. It will crawl all of the job postings and keep track of how many\n",
    "    use a preset list of typical data science skills. The final percentage for each skill\n",
    "    is then displayed at the end of the collation. \n",
    "        \n",
    "    Inputs: The location's city and state. These are optional. If no city/state is input, \n",
    "    the function will assume a national search (this can take a while!!!).\n",
    "    Input the city/state as strings, such as skills_info('Chicago', 'IL').\n",
    "    Use a two letter abbreviation for the state.\n",
    "    '''\n",
    "    #print(\"test1\")   \n",
    "    final_job = job_title # searching for data scientist exact fit(\"data scientist\" on Indeed search)\n",
    "    \n",
    "    # Make sure the city specified works properly if it has more than one word (such as San Francisco)  %22&l=\n",
    "    if city is not None:\n",
    "        final_city = city.split() \n",
    "        final_city = '+'.join(word for word in final_city)\n",
    "        final_site_list = ['https://www.indeed.com/jobs?q=', final_job, '&l=', final_city,'%2C+', state] # Join all of our strings together so that indeed will search correctly\n",
    "    else:\n",
    "        final_site_list = ['https://www.indeed.com/jobs?q=\"', final_job, '\"']\n",
    "\n",
    "    final_site = ''.join(final_site_list) # Merge the html address together into one string\n",
    "\n",
    "    # website query today (2017-02-25) is = https://www.indeed.com/jobs?q=data+scientist&l=Houston%2CTX\n",
    "        \n",
    "    base_url = 'http://www.indeed.com'\n",
    "    \n",
    "    #print(\"test2\")  \n",
    "    try:\n",
    "        html = urlopen(final_site).read() # Open up the front page of our search first\n",
    "    except:\n",
    "        #print('That city/state combination did not have any jobs. Exiting . . .') # In case the city is invalid\n",
    "        return\n",
    "    soup = BeautifulSoup(html,\"lxml\") # Get the html from the first page\n",
    "    \n",
    "    # Now find out how many jobs there were\n",
    "    \n",
    "    if type(soup.find(id = 'searchCount')) is None or type(soup.find(id = 'searchCount')) == None:\n",
    "        c\n",
    "    \n",
    "    else:\n",
    "        variableS = soup.find(id = 'searchCount')\n",
    "        if isinstance(variableS,type(None)):\n",
    "            all_company_results = []\n",
    "            return all_company_results\n",
    "        else:\n",
    "            print(\"soup.find(id = 'searchCount') = \",soup.find(id = 'searchCount'))\n",
    "            print(\"soup.find(id = 'searchCount') = \",type(soup.find(id = 'searchCount')))\n",
    "\n",
    "            num_jobs_area = soup.find(id = 'searchCount').string.encode('utf-8') # Now extract the total number of jobs found\n",
    "                                                                                # The 'searchCount' object has this\n",
    "            #print('num_jobs_area before filtering ', num_jobs_area)\n",
    "\n",
    "            job_numbers = re.findall(b'\\d+', num_jobs_area) # Extract the total jobs found from the search result\n",
    "\n",
    "            #print('job number before filtering ', job_numbers[2])\n",
    "\n",
    "            job_numbers_decoded = int(job_numbers[2].decode('utf-8'))\n",
    "            #print('job_numbers_decoded = ',job_numbers_decoded, \"type is \",type(job_numbers_decoded))\n",
    "\n",
    "            #if len(job_numbers[2]) > 3: # Have a total number of jobs greater than 1000\n",
    "            #    total_num_jobs = (int(job_numbers[2])*1000) + int(job_numbers[3])\n",
    "            #else:\n",
    "            #    total_num_jobs = int(job_numbers[2]) \n",
    "\n",
    "            total_num_jobs = job_numbers_decoded\n",
    "\n",
    "            city_title = city\n",
    "            if city is None:\n",
    "                city_title = 'Nationwide'\n",
    "\n",
    "            #print('There were', total_num_jobs, 'jobs found,', city_title) # Display how many jobs were found\n",
    "\n",
    "            # took out /10 here, which seemed to be assuming always 10 results per page? now 15?\n",
    "            num_pages = int(float(total_num_jobs/10)) # This will be how we know the number of times we need to iterate over each new\n",
    "                                              # search result page\n",
    "\n",
    "            job_descriptions = [] # Store all our descriptions in this list\n",
    "\n",
    "            # used to be 'xrange' here but I changed it to 'range' because I'm using python3 and xrange is python2 only\n",
    "            all_company_results = []\n",
    "            for i in range(1,num_pages+1): # Loop through all of our search result pages\n",
    "                #print('Getting page', i)\n",
    "\n",
    "                start_num = str(i*10) # Assign the multiplier of 10 to view the pages we want\n",
    "                current_page = ''.join([final_site, '&start=', start_num])\n",
    "                # Now that we can view the correct 10 job returns, start collecting the text samples from each\n",
    "\n",
    "                html_page = urlopen(current_page).read() # Get the page\n",
    "\n",
    "                page_obj = BeautifulSoup(html_page,\"lxml\") # Locate all of the job links\n",
    "                job_link_area = page_obj.find(id = 'resultsCol') # The center column on the page where the job postings exist\n",
    "                #print('page_obj',page_obj)  \n",
    "\n",
    "                #print(\"link.get('href')\",base_url + link.get('href')\n",
    "                #print(\"job_link_area.find_all('a')\",job_link_area.find_all('a'))\n",
    "\n",
    "                for a in job_link_area.find_all('a', href=True):\n",
    "                    #print (\"Found the URL:\", a['href'])\n",
    "                    if \"/cmp/\" in a['href']: \n",
    "                        #  if a['href'].find(\"/cmp/\"):\n",
    "                        #print(\"a had /cmp/ in it using find = \",a['href'])\n",
    "                        arrayHrefParts_0 = a['href'].split('/cmp/')\n",
    "                        #print(\"aarrayHrefParts_0 = \",arrayHrefParts_0)\n",
    "                        arrayHrefParts_1 = arrayHrefParts_0[1].split('/')\n",
    "                        #print(\"arrayHrefParts_1 = \",arrayHrefParts_1)\n",
    "                        company = arrayHrefParts_1[0]\n",
    "                        #print('company = ',company)\n",
    "                        all_company_results.append(company)\n",
    "                        #print('all_company_results =',all_company_results)\n",
    "                    else:\n",
    "                        continue\n",
    "                        #print(\"/cmp/ not found in ,\",a['href'])\n",
    "\n",
    "                #print(\"[base_url + link.get('href') for link in job_link_area.find_all('a')]\",[base_url + link.get('href') for link in job_link_area.find_all('a')])\n",
    "\n",
    "                #job_URLS = [base_url + link.get('href') for link in job_link_area.find_all('a')] # Get the URLS for the jobs\n",
    "\n",
    "                #job_URLS = filter(lambda x:'clk' in x, job_URLS) # Now get just the job related URLS\n",
    "\n",
    "\n",
    "                #         for j in xrange(0,len(job_URLS)):\n",
    "                #             final_description = text_cleaner(job_URLS[j])\n",
    "                #             if final_description: # So that we only append when the website was accessed correctly\n",
    "                #                 job_descriptions.append(final_description)\n",
    "                #             sleep(1) # So that we don't be jerks. If you have a very fast internet connection you could hit the server a lot! \n",
    "\n",
    "                sleep(1) # So that we don't be jerks. If you have a very fast internet connection you could hit the server a lot! \n",
    "\n",
    "            for each in range(len(all_company_results)):\n",
    "                if '.html' in all_company_results[each]:\n",
    "                    #print('all_company_results[each]',all_company_results[each],\" each = \",each)\n",
    "                    new_name_wo_html = all_company_results[each].split('.html')[0]\n",
    "                    #print('new_name_wo_html',new_name_wo_html)\n",
    "                    all_company_results[each] = new_name_wo_html  \n",
    "\n",
    "            all_company_results = list(set(all_company_results))\n",
    "            #print ('Done with collecting the job postings!')    \n",
    "            #print ('all_company_results final = ',all_company_results)\n",
    "            #print (\"There were\",len(all_company_results),\" companies successfully found.\")\n",
    "            all_company_results_json = []\n",
    "            for each in all_company_results:\n",
    "                print(\"each in all_company_results = \",each)\n",
    "                print(\"job_title in all_company_results = \",job_title)\n",
    "                temp_obj_holder = {\"company\":\"nothing\",\"job_title\":\"nothing\"}\n",
    "                print(\"temp_obj_holder = \",temp_obj_holder)\n",
    "                temp_obj_holder[\"job_title\"] = job_title\n",
    "                temp_obj_holder[\"company\"] = each\n",
    "                print(\"temp_obj_holder['job_title'] = \",temp_obj_holder[\"job_title\"])\n",
    "                all_company_results_json.append(temp_obj_holder)\n",
    "            return all_company_results_json\n"
   ]
  },
  {
   "cell_type": "markdown",
   "metadata": {},
   "source": [
    "### The function 'runMultiple_skills_info' runs the 'skills_info' function multiple times, one for each job title in the list given to 'runMultiple_skills_info' function"
   ]
  },
  {
   "cell_type": "code",
   "execution_count": 43,
   "metadata": {
    "collapsed": true
   },
   "outputs": [],
   "source": [
    "def runMultiple_skills_info(array_of_jobTitles=['puppies']):\n",
    "    all_results = []\n",
    "    for each in array_of_jobTitles:\n",
    "        print('each= ',each)\n",
    "        #temp_results1 = []\n",
    "        temp_results1 = skills_info(\"Houston\",\"TX\",each)\n",
    "        if temp_results1 is None:\n",
    "            continue\n",
    "        else:\n",
    "            print('temp_results is ',temp_results1)\n",
    "            #all_results.extend(temp_results1) \n",
    "            all_results.extend(temp_results1)\n",
    "    return all_results"
   ]
  },
  {
   "cell_type": "markdown",
   "metadata": {},
   "source": [
    "###  | run a first test, should get back an array of objects with keys of company and job_title"
   ]
  },
  {
   "cell_type": "code",
   "execution_count": 77,
   "metadata": {
    "collapsed": true
   },
   "outputs": [],
   "source": [
    "array2 = ['geologist','geophysicist']\n"
   ]
  },
  {
   "cell_type": "markdown",
   "metadata": {},
   "source": [
    "### create a small array for testing purposes"
   ]
  },
  {
   "cell_type": "code",
   "execution_count": 78,
   "metadata": {
    "collapsed": false
   },
   "outputs": [
    {
     "name": "stdout",
     "output_type": "stream",
     "text": [
      "each=  geologist\n",
      "soup.find(id = 'searchCount') =  <div id=\"searchCount\">Jobs 1 to 10 of 44</div>\n",
      "soup.find(id = 'searchCount') =  <class 'bs4.element.Tag'>\n",
      "each in all_company_results =  Rbc\n",
      "job_title in all_company_results =  geologist\n",
      "temp_obj_holder =  {'company': 'nothing', 'job_title': 'nothing'}\n",
      "temp_obj_holder['job_title'] =  geologist\n",
      "each in all_company_results =  Hess-Corporation\n",
      "job_title in all_company_results =  geologist\n",
      "temp_obj_holder =  {'company': 'nothing', 'job_title': 'nothing'}\n",
      "temp_obj_holder['job_title'] =  geologist\n",
      "each in all_company_results =  Tolunay--wong-Engineers,-Inc.\n",
      "job_title in all_company_results =  geologist\n",
      "temp_obj_holder =  {'company': 'nothing', 'job_title': 'nothing'}\n",
      "temp_obj_holder['job_title'] =  geologist\n",
      "each in all_company_results =  Bhp-Billiton\n",
      "job_title in all_company_results =  geologist\n",
      "temp_obj_holder =  {'company': 'nothing', 'job_title': 'nothing'}\n",
      "temp_obj_holder['job_title'] =  geologist\n",
      "each in all_company_results =  Enrud-Resources\n",
      "job_title in all_company_results =  geologist\n",
      "temp_obj_holder =  {'company': 'nothing', 'job_title': 'nothing'}\n",
      "temp_obj_holder['job_title'] =  geologist\n",
      "each in all_company_results =  W&T-Offshore,-Inc.\n",
      "job_title in all_company_results =  geologist\n",
      "temp_obj_holder =  {'company': 'nothing', 'job_title': 'nothing'}\n",
      "temp_obj_holder['job_title'] =  geologist\n",
      "each in all_company_results =  SAN-Jacinto-College\n",
      "job_title in all_company_results =  geologist\n",
      "temp_obj_holder =  {'company': 'nothing', 'job_title': 'nothing'}\n",
      "temp_obj_holder['job_title'] =  geologist\n",
      "each in all_company_results =  Bmo-Financial-Group\n",
      "job_title in all_company_results =  geologist\n",
      "temp_obj_holder =  {'company': 'nothing', 'job_title': 'nothing'}\n",
      "temp_obj_holder['job_title'] =  geologist\n",
      "each in all_company_results =  Jefferies\n",
      "job_title in all_company_results =  geologist\n",
      "temp_obj_holder =  {'company': 'nothing', 'job_title': 'nothing'}\n",
      "temp_obj_holder['job_title'] =  geologist\n",
      "each in all_company_results =  Fugro\n",
      "job_title in all_company_results =  geologist\n",
      "temp_obj_holder =  {'company': 'nothing', 'job_title': 'nothing'}\n",
      "temp_obj_holder['job_title'] =  geologist\n",
      "each in all_company_results =  Walker-Elliott\n",
      "job_title in all_company_results =  geologist\n",
      "temp_obj_holder =  {'company': 'nothing', 'job_title': 'nothing'}\n",
      "temp_obj_holder['job_title'] =  geologist\n",
      "each in all_company_results =  Hilcorp-Energy-Company\n",
      "job_title in all_company_results =  geologist\n",
      "temp_obj_holder =  {'company': 'nothing', 'job_title': 'nothing'}\n",
      "temp_obj_holder['job_title'] =  geologist\n",
      "each in all_company_results =  Occidental-Petroleum\n",
      "job_title in all_company_results =  geologist\n",
      "temp_obj_holder =  {'company': 'nothing', 'job_title': 'nothing'}\n",
      "temp_obj_holder['job_title'] =  geologist\n",
      "each in all_company_results =  Murray-Resources\n",
      "job_title in all_company_results =  geologist\n",
      "temp_obj_holder =  {'company': 'nothing', 'job_title': 'nothing'}\n",
      "temp_obj_holder['job_title'] =  geologist\n",
      "each in all_company_results =  Intera\n",
      "job_title in all_company_results =  geologist\n",
      "temp_obj_holder =  {'company': 'nothing', 'job_title': 'nothing'}\n",
      "temp_obj_holder['job_title'] =  geologist\n",
      "each in all_company_results =  High-Country-Executive-Search\n",
      "job_title in all_company_results =  geologist\n",
      "temp_obj_holder =  {'company': 'nothing', 'job_title': 'nothing'}\n",
      "temp_obj_holder['job_title'] =  geologist\n",
      "each in all_company_results =  Weatherford\n",
      "job_title in all_company_results =  geologist\n",
      "temp_obj_holder =  {'company': 'nothing', 'job_title': 'nothing'}\n",
      "temp_obj_holder['job_title'] =  geologist\n",
      "each in all_company_results =  University-of-Houston--downtown\n",
      "job_title in all_company_results =  geologist\n",
      "temp_obj_holder =  {'company': 'nothing', 'job_title': 'nothing'}\n",
      "temp_obj_holder['job_title'] =  geologist\n",
      "each in all_company_results =  Jefferies-&-Company,-Inc.\n",
      "job_title in all_company_results =  geologist\n",
      "temp_obj_holder =  {'company': 'nothing', 'job_title': 'nothing'}\n",
      "temp_obj_holder['job_title'] =  geologist\n",
      "each in all_company_results =  Oasis-Petroleum\n",
      "job_title in all_company_results =  geologist\n",
      "temp_obj_holder =  {'company': 'nothing', 'job_title': 'nothing'}\n",
      "temp_obj_holder['job_title'] =  geologist\n",
      "each in all_company_results =  Hart-Energy\n",
      "job_title in all_company_results =  geologist\n",
      "temp_obj_holder =  {'company': 'nothing', 'job_title': 'nothing'}\n",
      "temp_obj_holder['job_title'] =  geologist\n",
      "each in all_company_results =  Sinopec-Tech-Houston\n",
      "job_title in all_company_results =  geologist\n",
      "temp_obj_holder =  {'company': 'nothing', 'job_title': 'nothing'}\n",
      "temp_obj_holder['job_title'] =  geologist\n",
      "each in all_company_results =  Citi\n",
      "job_title in all_company_results =  geologist\n",
      "temp_obj_holder =  {'company': 'nothing', 'job_title': 'nothing'}\n",
      "temp_obj_holder['job_title'] =  geologist\n",
      "each in all_company_results =  Confidential---Oil-%26-Gas-Company\n",
      "job_title in all_company_results =  geologist\n",
      "temp_obj_holder =  {'company': 'nothing', 'job_title': 'nothing'}\n",
      "temp_obj_holder['job_title'] =  geologist\n",
      "each in all_company_results =  Marathon-Oil\n",
      "job_title in all_company_results =  geologist\n",
      "temp_obj_holder =  {'company': 'nothing', 'job_title': 'nothing'}\n",
      "temp_obj_holder['job_title'] =  geologist\n",
      "each in all_company_results =  New-Tech-Global\n",
      "job_title in all_company_results =  geologist\n",
      "temp_obj_holder =  {'company': 'nothing', 'job_title': 'nothing'}\n",
      "temp_obj_holder['job_title'] =  geologist\n",
      "each in all_company_results =  Lonestar-College-System-1\n",
      "job_title in all_company_results =  geologist\n",
      "temp_obj_holder =  {'company': 'nothing', 'job_title': 'nothing'}\n",
      "temp_obj_holder['job_title'] =  geologist\n",
      "temp_results is  [{'company': 'Rbc', 'job_title': 'geologist'}, {'company': 'Hess-Corporation', 'job_title': 'geologist'}, {'company': 'Tolunay--wong-Engineers,-Inc.', 'job_title': 'geologist'}, {'company': 'Bhp-Billiton', 'job_title': 'geologist'}, {'company': 'Enrud-Resources', 'job_title': 'geologist'}, {'company': 'W&T-Offshore,-Inc.', 'job_title': 'geologist'}, {'company': 'SAN-Jacinto-College', 'job_title': 'geologist'}, {'company': 'Bmo-Financial-Group', 'job_title': 'geologist'}, {'company': 'Jefferies', 'job_title': 'geologist'}, {'company': 'Fugro', 'job_title': 'geologist'}, {'company': 'Walker-Elliott', 'job_title': 'geologist'}, {'company': 'Hilcorp-Energy-Company', 'job_title': 'geologist'}, {'company': 'Occidental-Petroleum', 'job_title': 'geologist'}, {'company': 'Murray-Resources', 'job_title': 'geologist'}, {'company': 'Intera', 'job_title': 'geologist'}, {'company': 'High-Country-Executive-Search', 'job_title': 'geologist'}, {'company': 'Weatherford', 'job_title': 'geologist'}, {'company': 'University-of-Houston--downtown', 'job_title': 'geologist'}, {'company': 'Jefferies-&-Company,-Inc.', 'job_title': 'geologist'}, {'company': 'Oasis-Petroleum', 'job_title': 'geologist'}, {'company': 'Hart-Energy', 'job_title': 'geologist'}, {'company': 'Sinopec-Tech-Houston', 'job_title': 'geologist'}, {'company': 'Citi', 'job_title': 'geologist'}, {'company': 'Confidential---Oil-%26-Gas-Company', 'job_title': 'geologist'}, {'company': 'Marathon-Oil', 'job_title': 'geologist'}, {'company': 'New-Tech-Global', 'job_title': 'geologist'}, {'company': 'Lonestar-College-System-1', 'job_title': 'geologist'}]\n",
      "each=  geophysicist\n",
      "soup.find(id = 'searchCount') =  <div id=\"searchCount\">Jobs 1 to 10 of 20</div>\n",
      "soup.find(id = 'searchCount') =  <class 'bs4.element.Tag'>\n",
      "each in all_company_results =  Geotrace\n",
      "job_title in all_company_results =  geophysicist\n",
      "temp_obj_holder =  {'company': 'nothing', 'job_title': 'nothing'}\n",
      "temp_obj_holder['job_title'] =  geophysicist\n",
      "each in all_company_results =  Murray-Resources\n",
      "job_title in all_company_results =  geophysicist\n",
      "temp_obj_holder =  {'company': 'nothing', 'job_title': 'nothing'}\n",
      "temp_obj_holder['job_title'] =  geophysicist\n",
      "each in all_company_results =  Hess-Corporation\n",
      "job_title in all_company_results =  geophysicist\n",
      "temp_obj_holder =  {'company': 'nothing', 'job_title': 'nothing'}\n",
      "temp_obj_holder['job_title'] =  geophysicist\n",
      "each in all_company_results =  Saudi-Aramco\n",
      "job_title in all_company_results =  geophysicist\n",
      "temp_obj_holder =  {'company': 'nothing', 'job_title': 'nothing'}\n",
      "temp_obj_holder['job_title'] =  geophysicist\n",
      "each in all_company_results =  Sinopec-Tech-Houston\n",
      "job_title in all_company_results =  geophysicist\n",
      "temp_obj_holder =  {'company': 'nothing', 'job_title': 'nothing'}\n",
      "temp_obj_holder['job_title'] =  geophysicist\n",
      "each in all_company_results =  Confidential---Oil-%26-Gas-Company\n",
      "job_title in all_company_results =  geophysicist\n",
      "temp_obj_holder =  {'company': 'nothing', 'job_title': 'nothing'}\n",
      "temp_obj_holder['job_title'] =  geophysicist\n",
      "each in all_company_results =  Walker-Elliott\n",
      "job_title in all_company_results =  geophysicist\n",
      "temp_obj_holder =  {'company': 'nothing', 'job_title': 'nothing'}\n",
      "temp_obj_holder['job_title'] =  geophysicist\n",
      "each in all_company_results =  Hilcorp-Energy-Company\n",
      "job_title in all_company_results =  geophysicist\n",
      "temp_obj_holder =  {'company': 'nothing', 'job_title': 'nothing'}\n",
      "temp_obj_holder['job_title'] =  geophysicist\n",
      "each in all_company_results =  Occidental-Petroleum\n",
      "job_title in all_company_results =  geophysicist\n",
      "temp_obj_holder =  {'company': 'nothing', 'job_title': 'nothing'}\n",
      "temp_obj_holder['job_title'] =  geophysicist\n",
      "each in all_company_results =  US-Geophysical-LLC-1\n",
      "job_title in all_company_results =  geophysicist\n",
      "temp_obj_holder =  {'company': 'nothing', 'job_title': 'nothing'}\n",
      "temp_obj_holder['job_title'] =  geophysicist\n",
      "each in all_company_results =  Sinopec-Tech-Houston-LLC\n",
      "job_title in all_company_results =  geophysicist\n",
      "temp_obj_holder =  {'company': 'nothing', 'job_title': 'nothing'}\n",
      "temp_obj_holder['job_title'] =  geophysicist\n",
      "each in all_company_results =  Petroleum-Geo--services\n",
      "job_title in all_company_results =  geophysicist\n",
      "temp_obj_holder =  {'company': 'nothing', 'job_title': 'nothing'}\n",
      "temp_obj_holder['job_title'] =  geophysicist\n",
      "temp_results is  [{'company': 'Geotrace', 'job_title': 'geophysicist'}, {'company': 'Murray-Resources', 'job_title': 'geophysicist'}, {'company': 'Hess-Corporation', 'job_title': 'geophysicist'}, {'company': 'Saudi-Aramco', 'job_title': 'geophysicist'}, {'company': 'Sinopec-Tech-Houston', 'job_title': 'geophysicist'}, {'company': 'Confidential---Oil-%26-Gas-Company', 'job_title': 'geophysicist'}, {'company': 'Walker-Elliott', 'job_title': 'geophysicist'}, {'company': 'Hilcorp-Energy-Company', 'job_title': 'geophysicist'}, {'company': 'Occidental-Petroleum', 'job_title': 'geophysicist'}, {'company': 'US-Geophysical-LLC-1', 'job_title': 'geophysicist'}, {'company': 'Sinopec-Tech-Houston-LLC', 'job_title': 'geophysicist'}, {'company': 'Petroleum-Geo--services', 'job_title': 'geophysicist'}]\n"
     ]
    }
   ],
   "source": [
    "geo_and_geo = runMultiple_skills_info(array_of_jobTitles=array2)"
   ]
  },
  {
   "cell_type": "code",
   "execution_count": 79,
   "metadata": {
    "collapsed": false
   },
   "outputs": [
    {
     "data": {
      "text/plain": [
       "[{'company': 'Rbc', 'job_title': 'geologist'},\n",
       " {'company': 'Hess-Corporation', 'job_title': 'geologist'},\n",
       " {'company': 'Tolunay--wong-Engineers,-Inc.', 'job_title': 'geologist'},\n",
       " {'company': 'Bhp-Billiton', 'job_title': 'geologist'},\n",
       " {'company': 'Enrud-Resources', 'job_title': 'geologist'},\n",
       " {'company': 'W&T-Offshore,-Inc.', 'job_title': 'geologist'},\n",
       " {'company': 'SAN-Jacinto-College', 'job_title': 'geologist'},\n",
       " {'company': 'Bmo-Financial-Group', 'job_title': 'geologist'},\n",
       " {'company': 'Jefferies', 'job_title': 'geologist'},\n",
       " {'company': 'Fugro', 'job_title': 'geologist'},\n",
       " {'company': 'Walker-Elliott', 'job_title': 'geologist'},\n",
       " {'company': 'Hilcorp-Energy-Company', 'job_title': 'geologist'},\n",
       " {'company': 'Occidental-Petroleum', 'job_title': 'geologist'},\n",
       " {'company': 'Murray-Resources', 'job_title': 'geologist'},\n",
       " {'company': 'Intera', 'job_title': 'geologist'},\n",
       " {'company': 'High-Country-Executive-Search', 'job_title': 'geologist'},\n",
       " {'company': 'Weatherford', 'job_title': 'geologist'},\n",
       " {'company': 'University-of-Houston--downtown', 'job_title': 'geologist'},\n",
       " {'company': 'Jefferies-&-Company,-Inc.', 'job_title': 'geologist'},\n",
       " {'company': 'Oasis-Petroleum', 'job_title': 'geologist'},\n",
       " {'company': 'Hart-Energy', 'job_title': 'geologist'},\n",
       " {'company': 'Sinopec-Tech-Houston', 'job_title': 'geologist'},\n",
       " {'company': 'Citi', 'job_title': 'geologist'},\n",
       " {'company': 'Confidential---Oil-%26-Gas-Company', 'job_title': 'geologist'},\n",
       " {'company': 'Marathon-Oil', 'job_title': 'geologist'},\n",
       " {'company': 'New-Tech-Global', 'job_title': 'geologist'},\n",
       " {'company': 'Lonestar-College-System-1', 'job_title': 'geologist'},\n",
       " {'company': 'Geotrace', 'job_title': 'geophysicist'},\n",
       " {'company': 'Murray-Resources', 'job_title': 'geophysicist'},\n",
       " {'company': 'Hess-Corporation', 'job_title': 'geophysicist'},\n",
       " {'company': 'Saudi-Aramco', 'job_title': 'geophysicist'},\n",
       " {'company': 'Sinopec-Tech-Houston', 'job_title': 'geophysicist'},\n",
       " {'company': 'Confidential---Oil-%26-Gas-Company',\n",
       "  'job_title': 'geophysicist'},\n",
       " {'company': 'Walker-Elliott', 'job_title': 'geophysicist'},\n",
       " {'company': 'Hilcorp-Energy-Company', 'job_title': 'geophysicist'},\n",
       " {'company': 'Occidental-Petroleum', 'job_title': 'geophysicist'},\n",
       " {'company': 'US-Geophysical-LLC-1', 'job_title': 'geophysicist'},\n",
       " {'company': 'Sinopec-Tech-Houston-LLC', 'job_title': 'geophysicist'},\n",
       " {'company': 'Petroleum-Geo--services', 'job_title': 'geophysicist'}]"
      ]
     },
     "execution_count": 79,
     "metadata": {},
     "output_type": "execute_result"
    }
   ],
   "source": [
    "geo_and_geo"
   ]
  },
  {
   "cell_type": "code",
   "execution_count": 276,
   "metadata": {
    "collapsed": true
   },
   "outputs": [],
   "source": [
    "def saveArray_of_JobSearchResults(arrayOfJobsAndSearchTerm = geo_and_geo, FilePath ='../DATA/someFile'):\n",
    "    toCSV = arrayOfJobsAndSearchTerm\n",
    "    keys = toCSV[0].keys()\n",
    "    with open(FilePath, 'w') as output_file:\n",
    "        dict_writer = csv.DictWriter(output_file, keys)\n",
    "        dict_writer.writeheader()\n",
    "        dict_writer.writerows(toCSV)\n",
    "    return arrayOfJobsAndSearchTerm\n",
    "    "
   ]
  },
  {
   "cell_type": "code",
   "execution_count": 91,
   "metadata": {
    "collapsed": true
   },
   "outputs": [],
   "source": [
    "saveArray_of_JobSearchResults(arrayOfJobsAndSearchTerm = geo_and_geo, FilePath ='../DATA/test_jobSearchTermAndCompany_geoAndgeo_v4.csv')"
   ]
  },
  {
   "cell_type": "markdown",
   "metadata": {},
   "source": [
    "####  | end test"
   ]
  },
  {
   "cell_type": "markdown",
   "metadata": {},
   "source": [
    "#### Review:\n",
    "\n",
    "3 functions:\n",
    "- A. skills_info(city=\"Houston\", state=\"TX\",job_title='data+scientist')\n",
    "- B. runMultiple_skills_info(array_of_jobTitles=['puppies'])\n",
    "- C. saveArray_of_JobSearchResults(arrayOfJobsAndSearchTerm = geo_and_geo, FilePath ='../DATA/someFile')\n",
    "\n",
    "A does the web scraping. B does web scraping searching for each of the items in the input array and combines the resuls. C saves the results as a csv file with two columns. One column header is Job Title used in search. The other column is company name looking for that job title in Houston Texas. "
   ]
  },
  {
   "cell_type": "markdown",
   "metadata": {},
   "source": [
    "------------------------------------------------------------------------------\n",
    "# 3. Get addresses and lat longs associated with each company name in json form\n",
    "------------------------------------------------------------------------------\n"
   ]
  },
  {
   "cell_type": "markdown",
   "metadata": {},
   "source": [
    "### Modules imported at top of this notebook"
   ]
  },
  {
   "cell_type": "markdown",
   "metadata": {},
   "source": [
    "### using <a href=\"https://docs.python.org/3/library/configparser.html\">configparser</a> to handle config file "
   ]
  },
  {
   "cell_type": "code",
   "execution_count": 82,
   "metadata": {
    "collapsed": true
   },
   "outputs": [],
   "source": [
    "config = configparser.ConfigParser()"
   ]
  },
  {
   "cell_type": "code",
   "execution_count": 83,
   "metadata": {
    "collapsed": false
   },
   "outputs": [
    {
     "data": {
      "text/plain": [
       "['../config.conf']"
      ]
     },
     "execution_count": 83,
     "metadata": {},
     "output_type": "execute_result"
    }
   ],
   "source": [
    "configFilePath = '../config.conf'\n",
    "# configparser.ConfigParser().read(configFilePath)\n",
    "config.read(configFilePath)"
   ]
  },
  {
   "cell_type": "markdown",
   "metadata": {},
   "source": [
    "### next block sets a variety of useful variables used in the google places API"
   ]
  },
  {
   "cell_type": "code",
   "execution_count": 84,
   "metadata": {
    "collapsed": true
   },
   "outputs": [],
   "source": [
    "#### sets key as variable that contains the google-places-api key\n",
    "key = config['google-places-api']['key1']\n",
    "#### creates a string used as the prefix to the key in the url used in calling the API service\n",
    "key_pre = '&key='\n",
    "#### the base url in the google places API get call\n",
    "base_url = 'https://maps.googleapis.com/maps/api/place/textsearch/json?query='\n",
    "#### the base url when calling a next page, in other words, when results are more than 20\n",
    "next_page_base_url = 'https://maps.googleapis.com/maps/api/place/textsearch/json?'"
   ]
  },
  {
   "cell_type": "markdown",
   "metadata": {},
   "source": [
    "### load into memory the csv previously created with the company names and job titles that go with them"
   ]
  },
  {
   "cell_type": "code",
   "execution_count": 92,
   "metadata": {
    "collapsed": false
   },
   "outputs": [
    {
     "data": {
      "text/plain": [
       "40"
      ]
     },
     "execution_count": 92,
     "metadata": {},
     "output_type": "execute_result"
    }
   ],
   "source": [
    "# using pandas as pd. Pandas should already be imported\n",
    "df=pd.read_csv('../DATA/test_jobSearchTermAndCompany_geoAndgeo_v4.csv', sep=',',header=None)\n",
    "company_array = df.values\n",
    "\n",
    "len(company_array)"
   ]
  },
  {
   "cell_type": "code",
   "execution_count": 93,
   "metadata": {
    "collapsed": false
   },
   "outputs": [
    {
     "data": {
      "text/plain": [
       "array([['company', 'job_title'],\n",
       "       ['Rbc', 'geologist'],\n",
       "       ['Hess-Corporation', 'geologist'],\n",
       "       ['Tolunay--wong-Engineers,-Inc.', 'geologist'],\n",
       "       ['Bhp-Billiton', 'geologist'],\n",
       "       ['Enrud-Resources', 'geologist'],\n",
       "       ['W&T-Offshore,-Inc.', 'geologist'],\n",
       "       ['SAN-Jacinto-College', 'geologist'],\n",
       "       ['Bmo-Financial-Group', 'geologist'],\n",
       "       ['Jefferies', 'geologist'],\n",
       "       ['Fugro', 'geologist'],\n",
       "       ['Walker-Elliott', 'geologist'],\n",
       "       ['Hilcorp-Energy-Company', 'geologist'],\n",
       "       ['Occidental-Petroleum', 'geologist'],\n",
       "       ['Murray-Resources', 'geologist'],\n",
       "       ['Intera', 'geologist'],\n",
       "       ['High-Country-Executive-Search', 'geologist'],\n",
       "       ['Weatherford', 'geologist'],\n",
       "       ['University-of-Houston--downtown', 'geologist'],\n",
       "       ['Jefferies-&-Company,-Inc.', 'geologist'],\n",
       "       ['Oasis-Petroleum', 'geologist'],\n",
       "       ['Hart-Energy', 'geologist'],\n",
       "       ['Sinopec-Tech-Houston', 'geologist'],\n",
       "       ['Citi', 'geologist'],\n",
       "       ['Confidential---Oil-%26-Gas-Company', 'geologist'],\n",
       "       ['Marathon-Oil', 'geologist'],\n",
       "       ['New-Tech-Global', 'geologist'],\n",
       "       ['Lonestar-College-System-1', 'geologist'],\n",
       "       ['Geotrace', 'geophysicist'],\n",
       "       ['Murray-Resources', 'geophysicist'],\n",
       "       ['Hess-Corporation', 'geophysicist'],\n",
       "       ['Saudi-Aramco', 'geophysicist'],\n",
       "       ['Sinopec-Tech-Houston', 'geophysicist'],\n",
       "       ['Confidential---Oil-%26-Gas-Company', 'geophysicist'],\n",
       "       ['Walker-Elliott', 'geophysicist'],\n",
       "       ['Hilcorp-Energy-Company', 'geophysicist'],\n",
       "       ['Occidental-Petroleum', 'geophysicist'],\n",
       "       ['US-Geophysical-LLC-1', 'geophysicist'],\n",
       "       ['Sinopec-Tech-Houston-LLC', 'geophysicist'],\n",
       "       ['Petroleum-Geo--services', 'geophysicist']], dtype=object)"
      ]
     },
     "execution_count": 93,
     "metadata": {},
     "output_type": "execute_result"
    }
   ],
   "source": [
    "company_array"
   ]
  },
  {
   "cell_type": "code",
   "execution_count": 142,
   "metadata": {
    "collapsed": true
   },
   "outputs": [],
   "source": [
    "# replace some of the characters so the search is a bit better:\n",
    "def cleanCompanies(company_array):\n",
    "    company_array = company_array[1:]\n",
    "    new_array = []\n",
    "    for each in company_array:\n",
    "        job_title = each[1]\n",
    "        each = each[0]\n",
    "        #print(each, \"and type is \",type(each))\n",
    "        print(each.find(\"-\",0))\n",
    "        print(type(each.find(\"-\",0)),\"type of each.find('-',0\")\n",
    "        #print(type(each.find(\"%2C\",1)))\n",
    "        if each.find(\"%2C\",1) is not -1:\n",
    "            each = each.replace(\"%2C\",\",\")\n",
    "            print(each,\"= each\")\n",
    "        else:\n",
    "            each = each\n",
    "        if each.find(\"%26\",1) is not -1:\n",
    "            each = each.replace(\"%26\",\"&\")\n",
    "            #print(each,\"= each find\")\n",
    "        else:\n",
    "            each = each\n",
    "        ##print(each, \"again with each\")\n",
    "        if  each.find(\"-1\",1) is not -1:\n",
    "            each = each.replace(\"-1\",\"\")\n",
    "        #    print(each,\"= each find\")\n",
    "        else:\n",
    "            each = each\n",
    "        if  each.find(\"-2\",0) is not -1:\n",
    "            each = each.replace(\"-2\",\"\")\n",
    "            print(each,\"= each find\")\n",
    "        else: \n",
    "            each = each\n",
    "        if  each.find(\"-3\",0) is not -1:\n",
    "            each = each.replace(\"-3\",\"\")\n",
    "        #    print(each,\"= each find\")\n",
    "        else:\n",
    "            each\n",
    "        if  each.find(\"-\",1) is not -1:\n",
    "            each = each.replace(\"-\",\"+\")\n",
    "            print(each,\"= each find\")\n",
    "        else:\n",
    "            each = each\n",
    "        print(\"each at end\",each)\n",
    "        new_array.extend([[each,job_title]])\n",
    "    print('new_array',new_array)\n",
    "    return new_array"
   ]
  },
  {
   "cell_type": "code",
   "execution_count": 151,
   "metadata": {
    "collapsed": false,
    "scrolled": false
   },
   "outputs": [
    {
     "name": "stdout",
     "output_type": "stream",
     "text": [
      "-1\n",
      "<class 'int'> type of each.find('-',0\n",
      "each at end Rbc\n",
      "4\n",
      "<class 'int'> type of each.find('-',0\n",
      "Hess+Corporation = each find\n",
      "each at end Hess+Corporation\n",
      "7\n",
      "<class 'int'> type of each.find('-',0\n",
      "Tolunay++wong+Engineers,+Inc. = each find\n",
      "each at end Tolunay++wong+Engineers,+Inc.\n",
      "3\n",
      "<class 'int'> type of each.find('-',0\n",
      "Bhp+Billiton = each find\n",
      "each at end Bhp+Billiton\n",
      "5\n",
      "<class 'int'> type of each.find('-',0\n",
      "Enrud+Resources = each find\n",
      "each at end Enrud+Resources\n",
      "3\n",
      "<class 'int'> type of each.find('-',0\n",
      "W&T+Offshore,+Inc. = each find\n",
      "each at end W&T+Offshore,+Inc.\n",
      "3\n",
      "<class 'int'> type of each.find('-',0\n",
      "SAN+Jacinto+College = each find\n",
      "each at end SAN+Jacinto+College\n",
      "3\n",
      "<class 'int'> type of each.find('-',0\n",
      "Bmo+Financial+Group = each find\n",
      "each at end Bmo+Financial+Group\n",
      "-1\n",
      "<class 'int'> type of each.find('-',0\n",
      "each at end Jefferies\n",
      "-1\n",
      "<class 'int'> type of each.find('-',0\n",
      "each at end Fugro\n",
      "6\n",
      "<class 'int'> type of each.find('-',0\n",
      "Walker+Elliott = each find\n",
      "each at end Walker+Elliott\n",
      "7\n",
      "<class 'int'> type of each.find('-',0\n",
      "Hilcorp+Energy+Company = each find\n",
      "each at end Hilcorp+Energy+Company\n",
      "10\n",
      "<class 'int'> type of each.find('-',0\n",
      "Occidental+Petroleum = each find\n",
      "each at end Occidental+Petroleum\n",
      "6\n",
      "<class 'int'> type of each.find('-',0\n",
      "Murray+Resources = each find\n",
      "each at end Murray+Resources\n",
      "-1\n",
      "<class 'int'> type of each.find('-',0\n",
      "each at end Intera\n",
      "4\n",
      "<class 'int'> type of each.find('-',0\n",
      "High+Country+Executive+Search = each find\n",
      "each at end High+Country+Executive+Search\n",
      "-1\n",
      "<class 'int'> type of each.find('-',0\n",
      "each at end Weatherford\n",
      "10\n",
      "<class 'int'> type of each.find('-',0\n",
      "University+of+Houston++downtown = each find\n",
      "each at end University+of+Houston++downtown\n",
      "9\n",
      "<class 'int'> type of each.find('-',0\n",
      "Jefferies+&+Company,+Inc. = each find\n",
      "each at end Jefferies+&+Company,+Inc.\n",
      "5\n",
      "<class 'int'> type of each.find('-',0\n",
      "Oasis+Petroleum = each find\n",
      "each at end Oasis+Petroleum\n",
      "4\n",
      "<class 'int'> type of each.find('-',0\n",
      "Hart+Energy = each find\n",
      "each at end Hart+Energy\n",
      "7\n",
      "<class 'int'> type of each.find('-',0\n",
      "Sinopec+Tech+Houston = each find\n",
      "each at end Sinopec+Tech+Houston\n",
      "-1\n",
      "<class 'int'> type of each.find('-',0\n",
      "each at end Citi\n",
      "12\n",
      "<class 'int'> type of each.find('-',0\n",
      "Confidential+++Oil+&+Gas+Company = each find\n",
      "each at end Confidential+++Oil+&+Gas+Company\n",
      "8\n",
      "<class 'int'> type of each.find('-',0\n",
      "Marathon+Oil = each find\n",
      "each at end Marathon+Oil\n",
      "3\n",
      "<class 'int'> type of each.find('-',0\n",
      "New+Tech+Global = each find\n",
      "each at end New+Tech+Global\n",
      "8\n",
      "<class 'int'> type of each.find('-',0\n",
      "Lonestar+College+System = each find\n",
      "each at end Lonestar+College+System\n",
      "-1\n",
      "<class 'int'> type of each.find('-',0\n",
      "each at end Geotrace\n",
      "6\n",
      "<class 'int'> type of each.find('-',0\n",
      "Murray+Resources = each find\n",
      "each at end Murray+Resources\n",
      "4\n",
      "<class 'int'> type of each.find('-',0\n",
      "Hess+Corporation = each find\n",
      "each at end Hess+Corporation\n",
      "5\n",
      "<class 'int'> type of each.find('-',0\n",
      "Saudi+Aramco = each find\n",
      "each at end Saudi+Aramco\n",
      "7\n",
      "<class 'int'> type of each.find('-',0\n",
      "Sinopec+Tech+Houston = each find\n",
      "each at end Sinopec+Tech+Houston\n",
      "12\n",
      "<class 'int'> type of each.find('-',0\n",
      "Confidential+++Oil+&+Gas+Company = each find\n",
      "each at end Confidential+++Oil+&+Gas+Company\n",
      "6\n",
      "<class 'int'> type of each.find('-',0\n",
      "Walker+Elliott = each find\n",
      "each at end Walker+Elliott\n",
      "7\n",
      "<class 'int'> type of each.find('-',0\n",
      "Hilcorp+Energy+Company = each find\n",
      "each at end Hilcorp+Energy+Company\n",
      "10\n",
      "<class 'int'> type of each.find('-',0\n",
      "Occidental+Petroleum = each find\n",
      "each at end Occidental+Petroleum\n",
      "2\n",
      "<class 'int'> type of each.find('-',0\n",
      "US+Geophysical+LLC = each find\n",
      "each at end US+Geophysical+LLC\n",
      "7\n",
      "<class 'int'> type of each.find('-',0\n",
      "Sinopec+Tech+Houston+LLC = each find\n",
      "each at end Sinopec+Tech+Houston+LLC\n",
      "9\n",
      "<class 'int'> type of each.find('-',0\n",
      "Petroleum+Geo++services = each find\n",
      "each at end Petroleum+Geo++services\n",
      "new_array [['Rbc', 'geologist'], ['Hess+Corporation', 'geologist'], ['Tolunay++wong+Engineers,+Inc.', 'geologist'], ['Bhp+Billiton', 'geologist'], ['Enrud+Resources', 'geologist'], ['W&T+Offshore,+Inc.', 'geologist'], ['SAN+Jacinto+College', 'geologist'], ['Bmo+Financial+Group', 'geologist'], ['Jefferies', 'geologist'], ['Fugro', 'geologist'], ['Walker+Elliott', 'geologist'], ['Hilcorp+Energy+Company', 'geologist'], ['Occidental+Petroleum', 'geologist'], ['Murray+Resources', 'geologist'], ['Intera', 'geologist'], ['High+Country+Executive+Search', 'geologist'], ['Weatherford', 'geologist'], ['University+of+Houston++downtown', 'geologist'], ['Jefferies+&+Company,+Inc.', 'geologist'], ['Oasis+Petroleum', 'geologist'], ['Hart+Energy', 'geologist'], ['Sinopec+Tech+Houston', 'geologist'], ['Citi', 'geologist'], ['Confidential+++Oil+&+Gas+Company', 'geologist'], ['Marathon+Oil', 'geologist'], ['New+Tech+Global', 'geologist'], ['Lonestar+College+System', 'geologist'], ['Geotrace', 'geophysicist'], ['Murray+Resources', 'geophysicist'], ['Hess+Corporation', 'geophysicist'], ['Saudi+Aramco', 'geophysicist'], ['Sinopec+Tech+Houston', 'geophysicist'], ['Confidential+++Oil+&+Gas+Company', 'geophysicist'], ['Walker+Elliott', 'geophysicist'], ['Hilcorp+Energy+Company', 'geophysicist'], ['Occidental+Petroleum', 'geophysicist'], ['US+Geophysical+LLC', 'geophysicist'], ['Sinopec+Tech+Houston+LLC', 'geophysicist'], ['Petroleum+Geo++services', 'geophysicist']]\n"
     ]
    },
    {
     "data": {
      "text/plain": [
       "[['Rbc', 'geologist'],\n",
       " ['Hess+Corporation', 'geologist'],\n",
       " ['Tolunay++wong+Engineers,+Inc.', 'geologist'],\n",
       " ['Bhp+Billiton', 'geologist'],\n",
       " ['Enrud+Resources', 'geologist'],\n",
       " ['W&T+Offshore,+Inc.', 'geologist'],\n",
       " ['SAN+Jacinto+College', 'geologist'],\n",
       " ['Bmo+Financial+Group', 'geologist'],\n",
       " ['Jefferies', 'geologist'],\n",
       " ['Fugro', 'geologist'],\n",
       " ['Walker+Elliott', 'geologist'],\n",
       " ['Hilcorp+Energy+Company', 'geologist'],\n",
       " ['Occidental+Petroleum', 'geologist'],\n",
       " ['Murray+Resources', 'geologist'],\n",
       " ['Intera', 'geologist'],\n",
       " ['High+Country+Executive+Search', 'geologist'],\n",
       " ['Weatherford', 'geologist'],\n",
       " ['University+of+Houston++downtown', 'geologist'],\n",
       " ['Jefferies+&+Company,+Inc.', 'geologist'],\n",
       " ['Oasis+Petroleum', 'geologist'],\n",
       " ['Hart+Energy', 'geologist'],\n",
       " ['Sinopec+Tech+Houston', 'geologist'],\n",
       " ['Citi', 'geologist'],\n",
       " ['Confidential+++Oil+&+Gas+Company', 'geologist'],\n",
       " ['Marathon+Oil', 'geologist'],\n",
       " ['New+Tech+Global', 'geologist'],\n",
       " ['Lonestar+College+System', 'geologist'],\n",
       " ['Geotrace', 'geophysicist'],\n",
       " ['Murray+Resources', 'geophysicist'],\n",
       " ['Hess+Corporation', 'geophysicist'],\n",
       " ['Saudi+Aramco', 'geophysicist'],\n",
       " ['Sinopec+Tech+Houston', 'geophysicist'],\n",
       " ['Confidential+++Oil+&+Gas+Company', 'geophysicist'],\n",
       " ['Walker+Elliott', 'geophysicist'],\n",
       " ['Hilcorp+Energy+Company', 'geophysicist'],\n",
       " ['Occidental+Petroleum', 'geophysicist'],\n",
       " ['US+Geophysical+LLC', 'geophysicist'],\n",
       " ['Sinopec+Tech+Houston+LLC', 'geophysicist'],\n",
       " ['Petroleum+Geo++services', 'geophysicist']]"
      ]
     },
     "execution_count": 151,
     "metadata": {},
     "output_type": "execute_result"
    }
   ],
   "source": [
    "company_array_formatted = cleanCompanies(company_array)\n",
    "company_array_formatted"
   ]
  },
  {
   "cell_type": "markdown",
   "metadata": {},
   "source": [
    "### All the functions that load and clean the company + job title list from csv into memory"
   ]
  },
  {
   "cell_type": "code",
   "execution_count": 295,
   "metadata": {
    "collapsed": false
   },
   "outputs": [],
   "source": [
    "def load_listCompanyJobtitle(path):\n",
    "    df=pd.read_csv(path,header=None)\n",
    "    company_array = df.values\n",
    "    company_array_formatted = cleanCompanies(company_array)"
   ]
  },
  {
   "cell_type": "markdown",
   "metadata": {},
   "source": [
    "### Next few functions run the company names through the google places API"
   ]
  },
  {
   "cell_type": "markdown",
   "metadata": {},
   "source": [
    "##### Below is the main function that calls the Google Places API to get the initial results"
   ]
  },
  {
   "cell_type": "code",
   "execution_count": 279,
   "metadata": {
    "collapsed": true
   },
   "outputs": [],
   "source": [
    "# function that takes a datset that is \n",
    "def callGooglePlacesAPI(search_term,nameOfSearch,job_title):\n",
    "    print('job_title put into googleAPI call is =',job_title)\n",
    "    dataset_I = requests.get(base_url+search_term+key_pre+key)\n",
    "    next_page_result = []\n",
    "    try:\n",
    "        next_page_token = dataset_I.json()['next_page_token']\n",
    "        next_page_result = callNextPageResults(nameOfSearch,next_page_token,job_title)\n",
    "    except: \n",
    "        pass\n",
    "    #####if 'next_page_token' in dataset_I:\n",
    "    #next_page_token = dataset_I.json()['next_page_token']\n",
    "    #print(\"next_page_token\",next_page_token)\n",
    "    #callNextPageResults(nameOfSearch,next_page_token)\n",
    "    #####next_page_results = makeFeatureCollectionsFromPlaces(dataset_I['next_page_token'],nameOfSearch).json()['results']\n",
    "    ##### #else: \n",
    "    ####    next_page = \"none needed\"\n",
    "    dataset = dataset_I.json()['results']\n",
    "    #if 'next_page_token' in dataset_I:\n",
    "    #    dataset.extend(next_page_results)\n",
    "    #    print(\"dataset up top\",dataset)\n",
    "    #else:\n",
    "    #    next_page = \"none needed\"\n",
    "    array_of_features = []\n",
    "    for each in dataset:\n",
    "        photos = []\n",
    "        # centerpoint for coordinates\n",
    "        #print(each)\n",
    "        lat = each['geometry']['location']['lat']\n",
    "        long = each['geometry']['location']['lng']\n",
    "        # properties\n",
    "        address = each['formatted_address']\n",
    "        id = each['id']\n",
    "        name = each['name']\n",
    "        # photos is an array\n",
    "        try:\n",
    "            photos = each['photos']\n",
    "        except:\n",
    "            photos = []\n",
    "            #print(\"photos , attribute error but kept going\")\n",
    "        place_id = each['place_id']\n",
    "        try:\n",
    "            rating = each['rating']\n",
    "        except:\n",
    "            rating = 'NA'\n",
    "            #print(\"rating , attribute error but kept going\")\n",
    "        reference = each['reference']\n",
    "        # types is an array\n",
    "        types = each['types']\n",
    "        testPoint = Point((long, lat))\n",
    "        test2_geoJSOn = Feature(geometry=testPoint, properties={\"job_title\":job_title,\"name\": name,\"address\":address,\"id\":id,\"photos\":photos,\"place_id\":place_id,\"rating\":rating,\"reference\":reference,\"types\":types})\n",
    "        array_of_features.extend([test2_geoJSOn])\n",
    "#     new_FeatureCollection = FeatureCollection(array_of_features) \n",
    "#     with open('../DATA/'+nameOfSearch+'_test.geojson', 'w') as f:\n",
    "#         json.dump(new_FeatureCollection, f)\n",
    "#     return new_FeatureCollection\n",
    "    print(\"array_of_features = \",array_of_features,\" and next_page_result = \",next_page_result)\n",
    "    print(\"types: for \"+search_term+\" type(next_page_result)= \",type(next_page_result),\" and type(array_of_features)=  \",type(array_of_features))\n",
    "    if next_page_result is None or next_page_result==[]:\n",
    "        fakeVariable = 3\n",
    "        #print(\"no second page\")\n",
    "    else:\n",
    "        #print(\"next_page_result passed none test and is \",next_page_result)\n",
    "        array_of_features.extend(next_page_result)\n",
    "        #print(\"array_of_features after extension = \",array_of_features)\n",
    "    #print(\"2nd statement of array_of_features = \",array_of_features)\n",
    "    return array_of_features"
   ]
  },
  {
   "cell_type": "markdown",
   "metadata": {},
   "source": [
    "##### Below is a secondary function that calls the Google Places API \"next page\" to get any results further additional to the first 40. "
   ]
  },
  {
   "cell_type": "code",
   "execution_count": 280,
   "metadata": {
    "collapsed": true
   },
   "outputs": [],
   "source": [
    "def callNextPageResults(nameOfSearch,keyForNextPage,job_title):\n",
    "    time.sleep(5)\n",
    "    #print('next_page_base_url+\"&pagetoken=\"+keyForNextPage+key_pre+key =',next_page_base_url+\"pagetoken=\"+keyForNextPage+key_pre+key)\n",
    "    dataset_I = requests.get(next_page_base_url+\"pagetoken=\"+keyForNextPage+key_pre+key)\n",
    "    #print(\"dataset_I second page full response\",dataset_I.json())\n",
    "    dataset = dataset_I.json()['results']\n",
    "    array_of_features = []\n",
    "    for each in dataset:\n",
    "        photos = []\n",
    "        # centerpoint for coordinates\n",
    "        #print(each)\n",
    "        lat = each['geometry']['location']['lat']\n",
    "        long = each['geometry']['location']['lng']\n",
    "        # properties\n",
    "        address = each['formatted_address']\n",
    "        id = each['id']\n",
    "        name = each['name']\n",
    "        # photos is an array\n",
    "        try:\n",
    "            photos = each['photos']\n",
    "        except:\n",
    "            photos = []\n",
    "            #print(\"photos , attribute error but kept going\")\n",
    "        place_id = each['place_id']\n",
    "        try:\n",
    "            rating = each['rating']\n",
    "        except:\n",
    "            rating = 'NA'\n",
    "            #print(\"rating , attribute error but kept going\")\n",
    "        reference = each['reference']\n",
    "        # types is an array\n",
    "        types = each['types']\n",
    "        testPoint = Point((long, lat))\n",
    "        test2_geoJSOn = Feature(geometry=testPoint, properties={\"job_title\":job_title,\"name\": name,\"address\":address,\"id\":id,\"photos\":photos,\"place_id\":place_id,\"rating\":rating,\"reference\":reference,\"types\":types})\n",
    "        array_of_features.extend([test2_geoJSOn])\n",
    "    #new_FeatureCollection = FeatureCollection(array_of_features) \n",
    "    #with open('../DATA/'+nameOfSearch+'_2ndPage_test.geojson', 'w') as f:\n",
    "    #    json.dump(new_FeatureCollection, f)\n",
    "    #print(\"second page results = \",new_FeatureCollection)\n",
    "    #return new_FeatureCollection\n",
    "    return array_of_features"
   ]
  },
  {
   "cell_type": "markdown",
   "metadata": {},
   "source": [
    "##### Below is the a function that runs through a list and calls the two functions above and combines the results into a single result"
   ]
  },
  {
   "cell_type": "code",
   "execution_count": 281,
   "metadata": {
    "collapsed": true
   },
   "outputs": [],
   "source": [
    "def create_List_Features(cp_array_formatted):\n",
    "    array_of_all_features = []\n",
    "    for each in cp_array_formatted:\n",
    "        #try:\n",
    "        features_1 = callGooglePlacesAPI(each[0]+\"+Houston+Texas\",\"bigTest2\",each[1])\n",
    "        #print(\"features for a company name =\",features_1)\n",
    "        if array_of_all_features == [] or array_of_all_features is None:\n",
    "            array_of_all_features = features_1\n",
    "        else:\n",
    "            if features_1 is None or features_1 == []:\n",
    "                pass\n",
    "            else:\n",
    "                array_of_all_features.extend(features_1)\n",
    "        #except:\n",
    "        #    print(\"error in except\",error)\n",
    "        \n",
    "        #print(\"array_of_all_features = \",array_of_all_features)\n",
    "    \n",
    "    return array_of_all_features"
   ]
  },
  {
   "cell_type": "markdown",
   "metadata": {},
   "source": [
    "##### function that takes a list of features and returns a feature collection"
   ]
  },
  {
   "cell_type": "code",
   "execution_count": 282,
   "metadata": {
    "collapsed": true
   },
   "outputs": [],
   "source": [
    "# creates feature collection from list of features\n",
    "def createFeatureCollection(list_of_features,geographic_limits):\n",
    "    slimmed_featList = []\n",
    "    print('geographic_limits =',geographic_limits)\n",
    "    for each in list_of_features:\n",
    "        print(\"each = \",each)\n",
    "        print(\"each['geometry']['coordinates']\",each['geometry']['coordinates'])\n",
    "        print(\"each['geometry']['coordinates'][0] =\",each['geometry']['coordinates'][0])\n",
    "        if each['geometry']['coordinates'][0] > geographic_limits[\"west_limit\"] and each['geometry']['coordinates'][0] < geographic_limits[\"east_limit\"] and each['geometry']['coordinates'][1] < geographic_limits[\"north_limit\"] and each['geometry']['coordinates'][1] > geographic_limits[\"south_limit\"]:\n",
    "            slimmed_featList.append(each)\n",
    "    \n",
    "    \n",
    "    print('finished the function createFeatureCollection and slimmed featureList is slimmed_featList',slimmed_featList)\n",
    "    return FeatureCollection(slimmed_featList)\n",
    "\n"
   ]
  },
  {
   "cell_type": "markdown",
   "metadata": {},
   "source": [
    "##### function that takes the return from the above function and saves it as a geoJSON file"
   ]
  },
  {
   "cell_type": "markdown",
   "metadata": {},
   "source": [
    " 30°15'6.44\"N   96° 5'17.13\"W\n",
    "  29°16'56.13\"N  95°57'46.47\"W\n",
    "   29°21'28.30\"N   94°38'24.37\"W\n",
    "    30°26'55.88\"N   94°48'6.63\"W\n",
    "    \n",
    "    north limit = 30°26'55.88      30.44885556\n",
    "    south limit = 29°16'56.13\"N     29.28225833\n",
    "    west limit = 96° 5'17.13\"W     -96.08805556\n",
    "    east limit = 94°38'24.37\"W     -94.64000000\n",
    "   "
   ]
  },
  {
   "cell_type": "code",
   "execution_count": 283,
   "metadata": {
    "collapsed": false
   },
   "outputs": [],
   "source": [
    "# convert feature collection to geoJSON\n",
    "def convertFeatureCollectionToGeoJSON(featCollection,fileNamePath):\n",
    "    print('got to the function convertFeatureCollectionToGeoJSON')\n",
    "    with open(fileNamePath, 'w') as f:\n",
    "        json.dump(featCollection, f)\n",
    "\n"
   ]
  },
  {
   "cell_type": "markdown",
   "metadata": {},
   "source": [
    "#### function that calls the others. It takes as arguments the list of companies and job_titles & the path to save the resulting geojson to"
   ]
  },
  {
   "cell_type": "code",
   "execution_count": 284,
   "metadata": {
    "collapsed": false
   },
   "outputs": [],
   "source": [
    "def make_geojson_from_CompanyJobList(company_list_formatted = ['puppies'],path=\"../DATA/test_geojson_gAndg_v1\",geographic_limits=geographic_limits):\n",
    "    #### function that calls the google api and returns results in terms of a list of feature\n",
    "    list_of_features = create_List_Features(company_list_formatted)\n",
    "    #### function that creates a feature collection from the list of features\n",
    "    featCollection = createFeatureCollection(list_of_features,geographic_limits)\n",
    "    #### function that takes the feature collection and file path and saves the feature collection as a geoJSON file\n",
    "    convertFeatureCollectionToGeoJSON(featCollection,path)\n",
    "    "
   ]
  },
  {
   "cell_type": "code",
   "execution_count": null,
   "metadata": {
    "collapsed": false
   },
   "outputs": [],
   "source": []
  },
  {
   "cell_type": "markdown",
   "metadata": {},
   "source": [
    "### The geographic limits that trim down the results to only things around Houston as some jobs are advertised in Houston that aren't located in Houston"
   ]
  },
  {
   "cell_type": "code",
   "execution_count": 285,
   "metadata": {
    "collapsed": false
   },
   "outputs": [],
   "source": [
    "geographic_limits = {\"north_limit\":30.454961,\"south_limit\":28.956857,\"west_limit\":-96.206159,\"east_limit\":-94.64000000}"
   ]
  },
  {
   "cell_type": "markdown",
   "metadata": {},
   "source": [
    "### block below should call that function"
   ]
  },
  {
   "cell_type": "code",
   "execution_count": null,
   "metadata": {
    "collapsed": true
   },
   "outputs": [],
   "source": []
  },
  {
   "cell_type": "markdown",
   "metadata": {},
   "source": [
    "------------------------------------------------------------------------------\n",
    "## Run Everything As Single Function\n",
    "------------------------------------------------------------------------------"
   ]
  },
  {
   "cell_type": "code",
   "execution_count": 307,
   "metadata": {
    "collapsed": false
   },
   "outputs": [
    {
     "ename": "IndentationError",
     "evalue": "unexpected indent (<ipython-input-307-70e7b0b2da42>, line 6)",
     "output_type": "error",
     "traceback": [
      "\u001b[0;36m  File \u001b[0;32m\"<ipython-input-307-70e7b0b2da42>\"\u001b[0;36m, line \u001b[0;32m6\u001b[0m\n\u001b[0;31m    print(\"in geoJSON_from_jobsList_everything, Array_of_JobCompany is =\",Array_of_JobCompany)\u001b[0m\n\u001b[0m    ^\u001b[0m\n\u001b[0;31mIndentationError\u001b[0m\u001b[0;31m:\u001b[0m unexpected indent\n"
     ]
    }
   ],
   "source": [
    "##def getJSON_from_jobsList_everything(array_of_job_Titles,FilePath,path=,geographic_limits = geographic_limits):\n",
    "    #### returns list of companies advertising each job in an array of job titles\n",
    "  ##  list_of_CompaniesAndJobs = runMultiple_skills_info(array_of_job_Titles)\n",
    "    #### saves the list of lists from above... and formats it a bit further in prep for next step\n",
    " ##   Array_of_JobCompany_edA = saveArray_of_JobSearchResults(arrayOfJobsAndSearchTerm = list_of_CompaniesAndJobs, FilePath)\n",
    "    print(\"in geoJSON_from_jobsList_everything, Array_of_JobCompany is =\",Array_of_JobCompany)\n",
    "    ##### opens and cleans the list of companies \n",
    " ##   Array_of_JobCompany = load_listCompanyJobtitle(FilePath)\n",
    "    #### runs the companies through the google places API\n",
    "    #### combines the results into an array of features\n",
    "    #### turns that into a feature collection \n",
    "    #### then saves as geojson\n",
    "  ##  make_geojson_from_CompanyJobList(company_list_formatted = Array_of_JobCompany,path,geographic_limits = geographic_limits)\n",
    "\n"
   ]
  },
  {
   "cell_type": "code",
   "execution_count": null,
   "metadata": {
    "collapsed": true
   },
   "outputs": [],
   "source": [
    "def getJSON_from_jobsList_everything(array_of_job_Titles,FilePath,path,geographic_limits):\n",
    "    #### returns list of companies advertising each job in an array of job titles\n",
    "    list_of_CompaniesAndJobs = runMultiple_skills_info(array_of_job_Titles)\n",
    "    #### saves the list of lists from above... and formats it a bit further in prep for next step\n",
    "    Array_of_JobCompany_edA = saveArray_of_JobSearchResults(list_of_CompaniesAndJobs, FilePath)\n",
    "    print(\"in geoJSON_from_jobsList_everything, Array_of_JobCompany is =\",Array_of_JobCompany)\n",
    "    ##### opens and cleans the list of companies \n",
    "    Array_of_JobCompany = load_listCompanyJobtitle(FilePath)\n",
    "    #### runs the companies through the google places API\n",
    "    #### combines the results into an array of features\n",
    "    #### turns that into a feature collection \n",
    "    #### then saves as geojson\n",
    "    make_geojson_from_CompanyJobList(company_list_formatted = Array_of_JobCompany,path,geographic_limits = geographic_limits)\n",
    "\n",
    "\n"
   ]
  },
  {
   "cell_type": "markdown",
   "metadata": {},
   "source": [
    "Input_List_JobTitles = test_short_job_title_list\n",
    "\n",
    "FilePath = '../DATA/test_jobSearchTermAndCompany_all_v3.csv'\n",
    "\n",
    "path=\"../DATA/test_geojson_Everything_v3.geojson\"\n",
    "\n",
    "geographic_limits ={\"north_limit\":30.454961,\"south_limit\":28.956857,\"west_limit\":-96.206159,\"east_limit\":-94.64000000}"
   ]
  },
  {
   "cell_type": "code",
   "execution_count": 304,
   "metadata": {
    "collapsed": false
   },
   "outputs": [],
   "source": [
    "funcArg = {\"ListJobTitles\":test_short_job_title_list,\"pCSV\":'../DATA/test_jobTitleCompany_all_v3.csv',\"pGeoJSON\":\"../DATA/test_geojson_Everything_v3.geojson\",\"geo_lim\":{\"north_limit\":30.454961,\"south_limit\":28.956857,\"west_limit\":-96.206159,\"east_limit\":-94.64000000}}"
   ]
  },
  {
   "cell_type": "code",
   "execution_count": null,
   "metadata": {
    "collapsed": true
   },
   "outputs": [],
   "source": [
    "answer3  = getJSON_from_jobsList_everything(funcArg[\"ListJobTitles\"],funcArg[\"pCSV\"],funcArg[\"pGeoJSON\"],funcArg[\"geo_lim\"])"
   ]
  },
  {
   "cell_type": "code",
   "execution_count": 306,
   "metadata": {
    "collapsed": false
   },
   "outputs": [
    {
     "ename": "SyntaxError",
     "evalue": "positional argument follows keyword argument (<ipython-input-306-311feeca933c>, line 1)",
     "output_type": "error",
     "traceback": [
      "\u001b[0;36m  File \u001b[0;32m\"<ipython-input-306-311feeca933c>\"\u001b[0;36m, line \u001b[0;32m1\u001b[0m\n\u001b[0;31m    answer2  = getJSON_from_jobsList_everything(array_of_job_Titles=funcArg[\"ListJobTitles\"],funcArg[\"pCSV\"],funcArg[\"pGeoJSON\"],geographic_limits =funcArg[\"geo_lim\"])\u001b[0m\n\u001b[0m                                                                                            ^\u001b[0m\n\u001b[0;31mSyntaxError\u001b[0m\u001b[0;31m:\u001b[0m positional argument follows keyword argument\n"
     ]
    }
   ],
   "source": [
    "answer2  = getJSON_from_jobsList_everything(array_of_job_Titles=funcArg[\"ListJobTitles\"],funcArg[\"pCSV\"],funcArg[\"pGeoJSON\"],geographic_limits =funcArg[\"geo_lim\"])"
   ]
  },
  {
   "cell_type": "code",
   "execution_count": 289,
   "metadata": {
    "collapsed": false
   },
   "outputs": [
    {
     "data": {
      "text/plain": [
       "['Chemist',\n",
       " 'Conservation',\n",
       " 'Herpetologist',\n",
       " 'Laboratory',\n",
       " 'meteorologist ',\n",
       " 'Naturalist']"
      ]
     },
     "execution_count": 289,
     "metadata": {},
     "output_type": "execute_result"
    }
   ],
   "source": [
    "test_short_job_title_list"
   ]
  },
  {
   "cell_type": "code",
   "execution_count": 255,
   "metadata": {
    "collapsed": false
   },
   "outputs": [
    {
     "ename": "NameError",
     "evalue": "name 'list_of_features' is not defined",
     "output_type": "error",
     "traceback": [
      "\u001b[0;31m---------------------------------------------------------------------------\u001b[0m",
      "\u001b[0;31mNameError\u001b[0m                                 Traceback (most recent call last)",
      "\u001b[0;32m<ipython-input-255-73cf430e99d3>\u001b[0m in \u001b[0;36m<module>\u001b[0;34m()\u001b[0m\n\u001b[1;32m      1\u001b[0m \u001b[0;31m#featCollection\u001b[0m\u001b[0;34m\u001b[0m\u001b[0;34m\u001b[0m\u001b[0m\n\u001b[0;32m----> 2\u001b[0;31m \u001b[0mlist_of_features\u001b[0m\u001b[0;34m\u001b[0m\u001b[0m\n\u001b[0m",
      "\u001b[0;31mNameError\u001b[0m: name 'list_of_features' is not defined"
     ]
    }
   ],
   "source": [
    "#featCollection\n",
    "list_of_features"
   ]
  },
  {
   "cell_type": "markdown",
   "metadata": {
    "collapsed": true
   },
   "source": [
    "## previous error with full list with spaces in job titles:\n",
    "_title': 'Research and Development Technician'}, {'company': 'Chapin-Hall-At-the-University-of-Chicago', 'job_title': 'Research and Development Technician'}]\n",
    "each=  Research and Innovation\n",
    "soup.find(id = 'searchCount') =  <div id=\"searchCount\">Jobs 1 to 10 of 382,916</div>\n",
    "soup.find(id = 'searchCount') =  <class 'bs4.element.Tag'>\n",
    "---------------------------------------------------------------------------\n",
    "gaierror                                  Traceback (most recent call last)\n",
    "/Users/justingosses/anaconda/lib/python3.5/urllib/request.py in do_open(self, http_class, req, **http_conn_args)\n",
    "   1253             try:\n",
    "-> 1254                 h.request(req.get_method(), req.selector, req.data, headers)\n",
    "   1255             except OSError as err: # timeout error\n",
    "\n",
    "/Users/justingosses/anaconda/lib/python3.5/http/client.py in request(self, method, url, body, headers)\n",
    "   1105         \"\"\"Send a complete request to the server.\"\"\"\n",
    "-> 1106         self._send_request(method, url, body, headers)\n",
    "   1107 \n",
    "\n",
    "/Users/justingosses/anaconda/lib/python3.5/http/client.py in _send_request(self, method, url, body, headers)\n",
    "   1150             body = _encode(body, 'body')\n",
    "-> 1151         self.endheaders(body)\n",
    "   1152 \n",
    "\n",
    "/Users/justingosses/anaconda/lib/python3.5/http/client.py in endheaders(self, message_body)\n",
    "   1101             raise CannotSendHeader()\n",
    "-> 1102         self._send_output(message_body)\n",
    "   1103 \n",
    "\n",
    "/Users/justingosses/anaconda/lib/python3.5/http/client.py in _send_output(self, message_body)\n",
    "    933 \n",
    "--> 934         self.send(msg)\n",
    "    935         if message_body is not None:\n",
    "\n",
    "/Users/justingosses/anaconda/lib/python3.5/http/client.py in send(self, data)\n",
    "    876             if self.auto_open:\n",
    "--> 877                 self.connect()\n",
    "    878             else:\n",
    "\n",
    "/Users/justingosses/anaconda/lib/python3.5/http/client.py in connect(self)\n",
    "   1251 \n",
    "-> 1252             super().connect()\n",
    "   1253 \n",
    "\n",
    "/Users/justingosses/anaconda/lib/python3.5/http/client.py in connect(self)\n",
    "    848         self.sock = self._create_connection(\n",
    "--> 849             (self.host,self.port), self.timeout, self.source_address)\n",
    "    850         self.sock.setsockopt(socket.IPPROTO_TCP, socket.TCP_NODELAY, 1)\n",
    "\n",
    "/Users/justingosses/anaconda/lib/python3.5/socket.py in create_connection(address, timeout, source_address)\n",
    "    692     err = None\n",
    "--> 693     for res in getaddrinfo(host, port, 0, SOCK_STREAM):\n",
    "    694         af, socktype, proto, canonname, sa = res\n",
    "\n",
    "/Users/justingosses/anaconda/lib/python3.5/socket.py in getaddrinfo(host, port, family, type, proto, flags)\n",
    "    731     addrlist = []\n",
    "--> 732     for res in _socket.getaddrinfo(host, port, family, type, proto, flags):\n",
    "    733         af, socktype, proto, canonname, sa = res\n",
    "\n",
    "gaierror: [Errno 8] nodename nor servname provided, or not known\n",
    "\n",
    "During handling of the above exception, another exception occurred:\n",
    "\n",
    "URLError                                  Traceback (most recent call last)\n",
    "<ipython-input-215-31fbce623b6f> in <module>()\n",
    "----> 1 getJSON_from_jobsList_everything(array_of_jobTitles=funcArg[\"ListJobTitles\"],FilePath=funcArg[\"pCSV\"],path=funcArg[\"pGeoJSON\"],geographic_limits =funcArg[\"geo_lim\"])\n",
    "\n",
    "<ipython-input-213-69bd9f374f10> in getJSON_from_jobsList_everything(array_of_jobTitles, FilePath, path, geographic_limits)\n",
    "      1 def getJSON_from_jobsList_everything(array_of_jobTitles,FilePath = \"../DATA/placeholder,csv\",path=\"../DATA/placeholder.geojson\",geographic_limits = geographic_limits):\n",
    "----> 2     list_of_CompaniesAndJobs = runMultiple_skills_info(array_of_jobTitles)\n",
    "      3     saveArray_of_JobSearchResults(arrayOfJobsAndSearchTerm = list_of_CompaniesAndJobs, FilePath = \"../DATA/placeholder.csv\")\n",
    "      4     make_geojson_from_CompanyJobList(company_list_formatted = company_array_formatted,path=\"../DATA/placeholder.geojson\",geographic_limits = geographic_limits)\n",
    "      5 \n",
    "\n",
    "<ipython-input-43-99f3c0054790> in runMultiple_skills_info(array_of_jobTitles)\n",
    "      4         print('each= ',each)\n",
    "      5         #temp_results1 = []\n",
    "----> 6         temp_results1 = skills_info(\"Houston\",\"TX\",each)\n",
    "      7         if temp_results1 is None:\n",
    "      8             continue\n",
    "\n",
    "<ipython-input-42-9f17a4d1b584> in skills_info(city, state, job_title)\n",
    "     89                 # Now that we can view the correct 10 job returns, start collecting the text samples from each\n",
    "     90 \n",
    "---> 91                 html_page = urlopen(current_page).read() # Get the page\n",
    "     92 \n",
    "     93                 page_obj = BeautifulSoup(html_page,\"lxml\") # Locate all of the job links\n",
    "\n",
    "/Users/justingosses/anaconda/lib/python3.5/urllib/request.py in urlopen(url, data, timeout, cafile, capath, cadefault, context)\n",
    "    161     else:\n",
    "    162         opener = _opener\n",
    "--> 163     return opener.open(url, data, timeout)\n",
    "    164 \n",
    "    165 def install_opener(opener):\n",
    "\n",
    "/Users/justingosses/anaconda/lib/python3.5/urllib/request.py in open(self, fullurl, data, timeout)\n",
    "    464             req = meth(req)\n",
    "    465 \n",
    "--> 466         response = self._open(req, data)\n",
    "    467 \n",
    "    468         # post-process response\n",
    "\n",
    "/Users/justingosses/anaconda/lib/python3.5/urllib/request.py in _open(self, req, data)\n",
    "    482         protocol = req.type\n",
    "    483         result = self._call_chain(self.handle_open, protocol, protocol +\n",
    "--> 484                                   '_open', req)\n",
    "    485         if result:\n",
    "    486             return result\n",
    "\n",
    "/Users/justingosses/anaconda/lib/python3.5/urllib/request.py in _call_chain(self, chain, kind, meth_name, *args)\n",
    "    442         for handler in handlers:\n",
    "    443             func = getattr(handler, meth_name)\n",
    "--> 444             result = func(*args)\n",
    "    445             if result is not None:\n",
    "    446                 return result\n",
    "\n",
    "/Users/justingosses/anaconda/lib/python3.5/urllib/request.py in https_open(self, req)\n",
    "   1295         def https_open(self, req):\n",
    "   1296             return self.do_open(http.client.HTTPSConnection, req,\n",
    "-> 1297                 context=self._context, check_hostname=self._check_hostname)\n",
    "   1298 \n",
    "   1299         https_request = AbstractHTTPHandler.do_request_\n",
    "\n",
    "/Users/justingosses/anaconda/lib/python3.5/urllib/request.py in do_open(self, http_class, req, **http_conn_args)\n",
    "   1254                 h.request(req.get_method(), req.selector, req.data, headers)\n",
    "   1255             except OSError as err: # timeout error\n",
    "-> 1256                 raise URLError(err)\n",
    "   1257             r = h.getresponse()\n",
    "   1258         except:\n",
    "\n",
    "URLError: <urlopen error [Errno 8] nodename nor servname provided, or not known>"
   ]
  },
  {
   "cell_type": "code",
   "execution_count": 272,
   "metadata": {
    "collapsed": true
   },
   "outputs": [],
   "source": [
    "copied_feature_list = [{\"geometry\": {\"coordinates\": [-95.46103649999999, 29.737203], \"type\": \"Point\"}, \"properties\": {\"address\": \"2800 Post Oak Blvd #3900, Houston, TX 77056, United States\", \"id\": \"4b62e79323dd04edd16f18a3570c6c525c72352a\", \"job_title\": \"geologist\", \"name\": \"RBC Capital Markets\", \"photos\": [], \"place_id\": \"ChIJMzyxy23BQIYRmQh7_lj7cok\", \"rating\": \"NA\", \"reference\": \"CmRSAAAAZHCxUrcoNdmNHk-acO8JGRqvdpVGfoaJwc8gocBrMOwPY_kNrdG_voVRQhyobLytDJDE3z4no1B-jG-S1UU-XT65b8VH-a4MgXx5-b2DqbRErnd959mCH-Gbr5Bu7ptNEhA-to4Cld2aG366VDyB5m5RGhSDRAL2FObJKSL8ZwimNGfoWI8D1w\", \"types\": [\"bank\", \"finance\", \"point_of_interest\", \"establishment\"]}, \"type\": \"Feature\"}, {\"geometry\": {\"coordinates\": [-95.3640089, 29.7604054], \"type\": \"Point\"}, \"properties\": {\"address\": \"600 Travis St # 6500, Houston, TX 77002, United States\", \"id\": \"e6f1fffeaff13624b25a14bca2c17e581e517245\", \"job_title\": \"geologist\", \"name\": \"Royal Bank of Scotland\", \"photos\": [], \"place_id\": \"ChIJa0oElDq_QIYRxrrhsSUehHU\", \"rating\": \"NA\", \"reference\": \"CmRRAAAAksP4-7nK7sXWDuwBtg-EXiHWpJP_yUy4amXqPNYGyb47XGiTkyoq1rtlPzPnB2OEQUbHIttoRPqQsIM1Y9ff-P9JUIXDmLQbLAj-bLSYGVYbhbQ0lPwAPj9qlE3rrcg1EhB_jTltDy_44fdiWUeUh47LGhQ1pFYpvYFB75tv6AT6QDSNCrk5hw\", \"types\": [\"bank\", \"atm\", \"finance\", \"point_of_interest\", \"establishment\"]}, \"type\": \"Feature\"}, {\"geometry\": {\"coordinates\": [-95.56025, 29.781615], \"type\": \"Point\"}, \"properties\": {\"address\": \"#300, 818 Town and Country Blvd, Houston, TX 77024, United States\", \"id\": \"a674ded7a91a457c3d42b551c5d48886ff6b71a0\", \"job_title\": \"geologist\", \"name\": \"RBC Wealth Management\", \"photos\": [], \"place_id\": \"ChIJK5dbXLPEQIYRQeq5MViNqig\", \"rating\": \"NA\", \"reference\": \"CmRRAAAAZcdsVAzSrtHD-Tj0udLhSS0SDH-UPzUPYMeZ3Xha1UzvK8Ppxc1ccMI7rjclDSnWcir1y-L1n0HtkLZgrzndU6PgpPcOwI79VM-azj9OvyJtosgAOuO5JbqgKzGh5ibUEhCR0900CNIPoFVohpI_AcLDGhRyMIElqrWc1Zkyhn8VxH7zj5o-lw\", \"types\": [\"finance\", \"point_of_interest\", \"establishment\"]}, \"type\": \"Feature\"}, {\"geometry\": {\"coordinates\": [-95.45170759999999, 29.7477721], \"type\": \"Point\"}, \"properties\": {\"address\": \"4400 Post Oak Pkwy #2400, Houston, TX 77027, United States\", \"id\": \"ebe2836d9d530f6081066f7a4aed3a7d4066d74f\", \"job_title\": \"geologist\", \"name\": \"RBC Richardson Barr\", \"photos\": [], \"place_id\": \"ChIJX1ZfCT7BQIYRrP8hSoM5Mpk\", \"rating\": \"NA\", \"reference\": \"CmRSAAAAoFk_baD9zBngvpBzuhqLGLD1R3VjijKb77urDytsLaGcHqyLg0gKRJuowObb6hvn6CbpADCmSCuK_Ntmvxigto9LUgzNCWkaIxZPCaGWrz_q32TDWMzcvDjJBWt3BvedEhDK1etcP722mC7kplFZeSmHGhQN27PHTjczUbck20wmg8_7eKGq1Q\", \"types\": [\"finance\", \"point_of_interest\", \"establishment\"]}, \"type\": \"Feature\"}, {\"geometry\": {\"coordinates\": [-95.461597, 29.746341], \"type\": \"Point\"}, \"properties\": {\"address\": \"1980 Post Oak Blvd #1630, Houston, TX 77056, United States\", \"id\": \"4eedac6f1ba8c81d62786ea3ea10f3686ad5b9d2\", \"job_title\": \"geologist\", \"name\": \"RBC Wealth Management\", \"photos\": [], \"place_id\": \"ChIJlVxoBkLBQIYRDDHQy3MpT_A\", \"rating\": \"NA\", \"reference\": \"CmRSAAAA1YorTOPuGmoNXLBvZe027qM6M-kf28IIAEXp69BmpqAqhganReouO6Nc6SutM4unYNBodk8EZIFkLwUPSdqv4UuvjQtSVD7yoip4DMOqzuR_ZSQPMjZP1jQC6md8kbpGEhDXGKhJiJA6OuM_VOHnSFD5GhQ9AEnBaVP7XnJnfbIQ67JhMcXBxQ\", \"types\": [\"finance\", \"point_of_interest\", \"establishment\"]}, \"type\": \"Feature\"}, {\"geometry\": {\"coordinates\": [-95.36388699999999, 29.755906], \"type\": \"Point\"}, \"properties\": {\"address\": \"1001 Fannin St, Houston, TX 77002, United States\", \"id\": \"cd0e0c0273242313933c8043aec4389b3fb9a983\", \"job_title\": \"geologist\", \"name\": \"RBC Wealth Management\", \"photos\": [], \"place_id\": \"ChIJr9ZsYDu_QIYR8bROl7dKBws\", \"rating\": \"NA\", \"reference\": \"CmRRAAAACVEOnQqw7dIbAC8kannYNuUPVC2k0V6VOepTzJP4w7xik0_azttSiwPyaFryHIplmnVKaI3t4alQ8N5pjkjaLk4SgMNvwzB5dlXJWih5OvstPoyfRTGK8wrjhj9PZFgtEhAhEf0sRguaQykZvkocerF2GhR4CBJzH9cc9d3H7TtEKRmOU-Y3fA\", \"types\": [\"finance\", \"point_of_interest\", \"establishment\"]}, \"type\": \"Feature\"}, {\"geometry\": {\"coordinates\": [-95.3599019, 29.7546294], \"type\": \"Point\"}, \"properties\": {\"address\": \"Hess Tower, 1501 McKinney St, Houston, TX 77010, United States\", \"id\": \"04c70c4a3d18050ca437bbaedeca70bd9cb01927\", \"job_title\": \"geologist\", \"name\": \"Hess Corporation Exploration & Production\", \"photos\": [{\"height\": 1454, \"html_attributions\": [\"<a href=\\\"https://maps.google.com/maps/contrib/111482964284093817946/photos\\\">Sau Hei Lam</a>\"], \"photo_reference\": \"CoQBdwAAADAsGx-uYzaxWlUYRcDGRkqQsXvJslT-KiIKXYL_ZfuvPnpctDeOJAP2Twjmwh9EWZv98IW9t5ZAKPXNzYIL5yQMqNMhuZfW9ImQd-_-nF2-g_y4ItQ1v7V960m_6DgsLu0cEMlCRIFnzJFBvjedr_NAPQur3J4ZvvXjFue-ktxLEhBDDUD6PSd_Kht31zarvLvFGhQuGlp8eVWrF5Y10-A_x5ge6omCbw\", \"width\": 2161}], \"place_id\": \"ChIJfy2iBDm_QIYRjgKEE3GFL9Y\", \"rating\": 4.4, \"reference\": \"CmRSAAAAyjqRBy1c1Gl9pVkQO55DOWnlufEOpBacjpDiMWE9Nhq5it-vGlmjyOiaWfl22foiZTngB4QB04OFlLYF9AkpUuqlPxtxWhq6GDkruNKGA3IBFS58fQReTZkxZW64SOLxEhC78Fkoh_OKppDszKIhXz7OGhTiCjCr3EtrFQET5AbHpoGot4_hDQ\", \"types\": [\"point_of_interest\", \"establishment\"]}, \"type\": \"Feature\"}, {\"geometry\": {\"coordinates\": [-95.53667899999999, 29.643324], \"type\": \"Point\"}, \"properties\": {\"address\": \"10710 S Sam Houston Pkwy W #3, Houston, TX 77031, United States\", \"id\": \"21ef45fcadb15a9dae92a34c0882930987cfd934\", \"job_title\": \"geologist\", \"name\": \"Tolunay-Wong Engineers, Inc\", \"photos\": [{\"height\": 785, \"html_attributions\": [\"<a href=\\\"https://maps.google.com/maps/contrib/100502235174758387817/photos\\\">Tolunay-Wong Engineers, Inc</a>\"], \"photo_reference\": \"CoQBdwAAAArT1CGFRoNZlFj7WQjUXK8QliuPYYi0ukbmGisMoj4h9t5BDd20oeOfjQ-6BhBtIR66MyTx7cLCQR3Dsc1OtnxU6uqD9Zd7lILGYyrzHSX91Fa7Qz8EOGg-_CH4xVGf6dUnbEdqDy7WHZoKwadqEu3x_Bd3J1mLbkFLM6MOtdxAEhBa9c8gJcMW8-hVZraN4NrpGhTeX4STpG2LelsRPEeP2Nd_mJqT_w\", \"width\": 1791}], \"place_id\": \"ChIJgd3o6kPoQIYRBdEf5LXmjLY\", \"rating\": 5, \"reference\": \"CmRSAAAAM8g47276syZWm3MUBgnjg6htvM_G4JNfTnO7UQG5cGZNUG4ph-dPjjtEy9CKA379yU67_AX3ZkEgMQ5KXFg4U5JywdB0mAzt5lsbDk-eCw_g1JHyFhHucRLf2ATtXJA0EhBTc6rjFTKJol2OR7vhJ3iqGhSKPbBcxsnIJn8qV1ieX2N2TbMnDg\", \"types\": [\"point_of_interest\", \"establishment\"]}, \"type\": \"Feature\"}, {\"geometry\": {\"coordinates\": [-95.4620181, 29.7530878], \"type\": \"Point\"}, \"properties\": {\"address\": \"1360 Post Oak Blvd #150, Houston, TX 77056, United States\", \"id\": \"9aba7fe2f8a80c94b359e1fd5c4df4b3c3e70314\", \"job_title\": \"geologist\", \"name\": \"BHP Billiton Petroleum\", \"photos\": [{\"height\": 1724, \"html_attributions\": [\"<a href=\\\"https://maps.google.com/maps/contrib/106919442231730187134/photos\\\">Chad Burrows</a>\"], \"photo_reference\": \"CoQBdwAAAG3bCPXw7iKaUG4o8aFuoAtfOTpTBN7ohWBOjyOfuu6IQA7guxb5xbBHoMfDVna9zRYFS-wJdyNM-RbFCP7eYU-5L0G61HdFBPDWEygzPeN2LVRJqfzXdBiPAQsP-Dem0Demm86xDUG7zdPDr1ZwQdUjoN68LiskJ6M0o1C_32dSEhDb80JgBRumf-2Dc1vGpUVoGhRxN-dDL89DmubVUc0AEVNkqd7moQ\", \"width\": 5502}], \"place_id\": \"ChIJU5hfp0bBQIYRKqHNd5nxNbw\", \"rating\": 5, \"reference\": \"CmRSAAAAOtuDI97DSC03CfMFYMeMM7Le4JVH32Ue_zzO5kvfAyiE4iB8sv2lsI_-nGP6NTYxC0-cLgLk1xKCcsTIRKK54AnR0--cAx9tIIGzY-e3AP4TgDIU0A2-1lrajGV4L9fxEhCdYg1w1KdB43tyM5fl1LonGhR9xxRxy2aLuY_vyoK0hOS5VjHMMQ\", \"types\": [\"point_of_interest\", \"establishment\"]}, \"type\": \"Feature\"}, {\"geometry\": {\"coordinates\": [-95.1974345, 29.658069], \"type\": \"Point\"}, \"properties\": {\"address\": \"1006 Vista Rd, Pasadena, TX 77504, United States\", \"id\": \"69a96533a258eb591726d86d1ca2f9c6ec0228de\", \"job_title\": \"geologist\", \"name\": \"En Rud Resources Inc\", \"photos\": [], \"place_id\": \"ChIJc_A7nUSYQIYRcN8s1islssY\", \"rating\": \"NA\", \"reference\": \"CmRSAAAARNn7XDmBjchus_55SmPZ5TmGnW7ArXqyAQxN4TgOLGP25tcDU8f2gTvRAIiN9u1d5gbYaBRUoTB7srB9y-2X7juZxovmAIefNQt0qRCCcS8xORxkF-I1j4rF8I9IY-w7EhAqQwfsoQ7OwFTBZHTEwPJcGhTtR6GTosBmPdYpXthBzXDr6knVuA\", \"types\": [\"point_of_interest\", \"establishment\"]}, \"type\": \"Feature\"}, {\"geometry\": {\"coordinates\": [-95.1721678, 29.64837929999999], \"type\": \"Point\"}, \"properties\": {\"address\": \"4624 Fairmont Pkwy, Pasadena, TX 77504, United States\", \"id\": \"9ae520cccc7564f96afd46f6d631d61bdd6bdfff\", \"job_title\": \"geologist\", \"name\": \"San Jacinto College - District Office\", \"photos\": [], \"place_id\": \"ChIJ5czzhuSYQIYR5xO1zKMXD90\", \"rating\": 2.3, \"reference\": \"CmRSAAAA4L4AmA9IycF2CT257U_Hh7eozu7eVLnC9T3GlQw4NtraevdReLy38PMYFI5IwwYPfrq-MahL1SrJynGVETVgaaSfogNOhbCiIYaIXhpiCt99j3M_f6j7e1ag1muR_O9fEhB2bxYUhExHFmwkvWaNpYTTGhRm2YBVNSsg1RuZnnPOlyyhsQ1_Cg\", \"types\": [\"school\", \"point_of_interest\", \"establishment\"]}, \"type\": \"Feature\"}, {\"geometry\": {\"coordinates\": [-95.366643, 29.76074], \"type\": \"Point\"}, \"properties\": {\"address\": \"700 Louisiana St # 2100, Houston, TX 77002, United States\", \"id\": \"ec8b82b104863bab3b36a1ce79a0c0f711468bfc\", \"job_title\": \"geologist\", \"name\": \"BMO Capital Markets\", \"photos\": [{\"height\": 750, \"html_attributions\": [\"<a href=\\\"https://maps.google.com/maps/contrib/104549896185334272100/photos\\\">Duplan Nalpudi Instagram</a>\"], \"photo_reference\": \"CoQBdwAAAAJ6XTFHXEE0Wadaxe8OTluFE7HUrb0Hq_EBeBBivWEwG6vKOzetGq_2z7PWILXcRQy_EIbhdSPZK2vbrxRHH9IFCS14fkscmI6RNIPFXi_vSGjA1-YMMP1QmIeNlfP2W3_hTd5Ay8If866LrdeVmHM1_tLMRs1u9rYHR0tQNTDyEhCzS3KITjIfGZJIXYxmW41QGhSeJURd4g9XdNAeTX8C48oWmAXjOQ\", \"width\": 1334}], \"place_id\": \"ChIJLROgDTq_QIYRTwQmXrl5Wm0\", \"rating\": \"NA\", \"reference\": \"CmRRAAAAxnASvDFOUjGrpkDYDWmqNrv5OaQE8PPMqfWuJsESxbIPLkcapX38R6GqZmBN9EqoPAJ8eFC15N7smXVcNe3avTJYlmaRh7i34FLRAD-6ak7H_zs5g401_5P1MFqd-MCtEhBrI68CWVZNFxuNb2weMXfTGhRj8jGjRvBUfk5gIjIeU-NqkPS5mw\", \"types\": [\"finance\", \"point_of_interest\", \"establishment\"]}, \"type\": \"Feature\"}, {\"geometry\": {\"coordinates\": [-95.372164, 29.757501], \"type\": \"Point\"}, \"properties\": {\"address\": \"333 Clay St, Houston, TX 77002, United States\", \"id\": \"795a3515ff023985c96d55d60c8eefcdc6c9ee0e\", \"job_title\": \"geologist\", \"name\": \"Jefferies\", \"photos\": [], \"place_id\": \"ChIJe81fkji_QIYRhzwdUhh-ygw\", \"rating\": \"NA\", \"reference\": \"CmRRAAAAyEvFORruDkPxY6ltJiQcOqA9ih16L_Bffm7-I-zSf8p24oX3ggzEZxXflRPr0MkIbr-8CZPbrKTBX9ldF7ApeJhHCf-yAXZr0Q-wKPqacQFS2LftiUsbgGRwZ10fq8CBEhAI8nEAl2mIFQhwWyUpwknyGhR6dWz7jSHNRyWRwkpalAvStqE-SA\", \"types\": [\"finance\", \"point_of_interest\", \"establishment\"]}, \"type\": \"Feature\"}, {\"geometry\": {\"coordinates\": [-95.49726899999999, 29.7140059], \"type\": \"Point\"}, \"properties\": {\"address\": \"6100 Hillcroft St, Houston, TX 77081, United States\", \"id\": \"372e0791c5d5ea0bf4c3a24c278c5083aad17624\", \"job_title\": \"geologist\", \"name\": \"Fugro Consultants Inc: Akhtar Anwar\", \"photos\": [], \"place_id\": \"ChIJ5e-dPzbCQIYR8o0_0WHFuVk\", \"rating\": \"NA\", \"reference\": \"CmRRAAAAJfSbIwfGz4EogbvyegiWN7kAXAqG-eCvMKewYZtyW9qGnal_gIO_Muj_4gwxWz3-_IQ-R4zMI2pDFS3Hj6dLv4vqQGbnTjQd4HUVCHIuXuxqFjKF7xJpNy722nji4ElVEhDXLF1LrlDT4a3IlkXq-JDjGhQPorvUROrFmF4T1ejh9270ZKgk7A\", \"types\": [\"point_of_interest\", \"establishment\"]}, \"type\": \"Feature\"}, {\"geometry\": {\"coordinates\": [-95.5678336, 29.8452744], \"type\": \"Point\"}, \"properties\": {\"address\": \"10831 Train Ct, Houston, TX 77041, United States\", \"id\": \"94c4bf4197969258554d1555fd7ce686908546b7\", \"job_title\": \"geologist\", \"name\": \"Fugro Consultants, Inc.\", \"photos\": [], \"place_id\": \"ChIJ1WVb4rHaQIYR6O9DfGla99A\", \"rating\": \"NA\", \"reference\": \"CmRSAAAAKZUmGmU-bf7JcLeqY4CoAO4bJOU9BWP1WCw87_vXy-_3agr7LZX3mch5WO-iWqlEqkZsAePSh7Lk5AN7BILjLmAew1GbqUoG_JPT-k5aDxcFNWdwpJciOb2BwN5VV7dHEhBoD9R3HF4PMvor-5dmDx0zGhR0WBaFdbCL5QEDKypbe9V5mVMSog\", \"types\": [\"point_of_interest\", \"establishment\"]}, \"type\": \"Feature\"}, {\"geometry\": {\"coordinates\": [-95.5441765, 29.9263062], \"type\": \"Point\"}, \"properties\": {\"address\": \"8715 Fallbrook Dr, Houston, TX 77064, United States\", \"id\": \"4b8b00e13f61a661128d24dcd3068ddd462bddbc\", \"job_title\": \"geologist\", \"name\": \"Fugro\", \"photos\": [], \"place_id\": \"ChIJC49COz7OQIYRAkBflL00eJ4\", \"rating\": \"NA\", \"reference\": \"CmRSAAAAKnJ-PLXUz2cGuMXBqlupgPuRmIx6br2jerJOHQ3PnCMCu55xBuGY8L0U1eAO8sSteu3nmHbDVGVgstxk-rmM-VLSZlwkm1n3H43KdgX74rVcp7X52uM0WGv-49M_qALbEhBU-hqOBMDdyEaTaiUxIIE_GhQOwIsvKrQrYjHq9q5b94aoR87I2Q\", \"types\": [\"point_of_interest\", \"establishment\"]}, \"type\": \"Feature\"}, {\"geometry\": {\"coordinates\": [-95.4994463, 29.7127126], \"type\": \"Point\"}, \"properties\": {\"address\": \"6121 Tarnef Dr, Houston, TX 77074, United States\", \"id\": \"036ef56e28e7616b45367256404bd34b6894d17b\", \"job_title\": \"geologist\", \"name\": \"Fugro Inc\", \"photos\": [], \"place_id\": \"ChIJ1ZxaK0jCQIYRkHmkjNdFW2I\", \"rating\": \"NA\", \"reference\": \"CmRRAAAASHUZ9MB81iK2MLEhgOYZ5Eru9ekeNs_Vl8F91I6mVP3MX5_ce48QOzNfpxbB74_ctpGO1q_B3m8E8herIETMU64Y9ACmVO_HjXTq7cEHCWkl8TpOkJrLiYA7R5cRglE3EhAVDmbN2jituXKBsYShQRzXGhSJHn5bD7k3BQxxX2w2x08kBUtNgQ\", \"types\": [\"point_of_interest\", \"establishment\"]}, \"type\": \"Feature\"}, {\"geometry\": {\"coordinates\": [-95.49562680000001, 29.7167202], \"type\": \"Point\"}, \"properties\": {\"address\": \"6080 Hooton, Houston, TX 77081, United States\", \"id\": \"65dd391d8d93517cc6dbcdc22dc4231b9aa5303c\", \"job_title\": \"geologist\", \"name\": \"Fugro Inc\", \"photos\": [], \"place_id\": \"ChIJrdJGMjTCQIYR03_Oibwj_uM\", \"rating\": \"NA\", \"reference\": \"CmRSAAAAowhSnsCeJm3gYOnEDNZ7a43E-gqlh62gNyk2xMRNqkO9GoQszFgAI5RFPL8zCrlgZAdbgyqoPFlmMVqxvGGkLT6by6pTBuN0BeT3C-L1AD41SfUVOy4NiTG7LHNngnguEhAgJX7Xs8ZVeX7kSXgb14npGhSlkRKhK8KPDxnrwSC9OPxAoI-36A\", \"types\": [\"premise\", \"point_of_interest\", \"establishment\"]}, \"type\": \"Feature\"}, {\"geometry\": {\"coordinates\": [-95.5503257, 29.8584718], \"type\": \"Point\"}, \"properties\": {\"address\": \"10425 Okanella St # 100, Houston, TX 77041, United States\", \"id\": \"bd7b9e455e61e36012f43900a5d2dc8fb520b286\", \"job_title\": \"geologist\", \"name\": \"Fugro Data Solutions\", \"photos\": [], \"place_id\": \"ChIJf7sDHvjPQIYRNi_3faTzFrQ\", \"rating\": \"NA\", \"reference\": \"CmRSAAAABMsN0BF4qImRGXhbd9C3pv5Wpuh-qu1oMpNEsG3IrcMLS9g_2trO-QYxZO-PhzmRqzVXFSRO26iD97rvlaU-OicQK_eO2rIkbAGxqqQXLhrIelEF4-iFbH98WgNl5z8bEhCueCT4nussffuXOMwuSymqGhS7CJHFuQ8i4pzMsHSL24DrOdjSZA\", \"types\": [\"storage\", \"point_of_interest\", \"establishment\"]}, \"type\": \"Feature\"}, {\"geometry\": {\"coordinates\": [-95.1800995, 29.7118821], \"type\": \"Point\"}, \"properties\": {\"address\": \"2410 Pasadena Fwy, Pasadena, TX 77506, United States\", \"id\": \"38cb6e415101a4bac2c1eaf17a6fa77679f6788b\", \"job_title\": \"geologist\", \"name\": \"Fugro Consultants LP\", \"photos\": [], \"place_id\": \"ChIJQdSxQV6iQIYR9uoIbHWfBXE\", \"rating\": \"NA\", \"reference\": \"CmRRAAAAgRQU8gFQoDoGvfZONgFJ0L3TE7-2iinmImlY2HSudOYS_Z9PG8bUuZeql0kJn-HnUfS7S12okDg4LlsBofHxRZp8I1wUNbp8PkV9K2nC4wMRC0NaG7ow8FLyopwm0hRtEhDIEHytQwc3dPTnnxNSqkNuGhQK-5zmh5oXjG0Xyyo2LYd_VqRMEA\", \"types\": [\"point_of_interest\", \"establishment\"]}, \"type\": \"Feature\"}, {\"geometry\": {\"coordinates\": [-95.5740797, 29.7373078], \"type\": \"Point\"}, \"properties\": {\"address\": \"11200 Westheimer Rd #365, Houston, TX 77042, United States\", \"id\": \"328101c9c23ad52a56a549ad72e19915b58d7af8\", \"job_title\": \"geologist\", \"name\": \"Walker Elliott\", \"photos\": [], \"place_id\": \"ChIJz6iXr8HcQIYRnzHDA7T8m-k\", \"rating\": 3, \"reference\": \"CmRSAAAAq3X0LE0-YJu5gH53VpxVHV1FRyfgqS5Tbzy9VOevK-OPO0E0edNWw5saqHYmTQeI13OrCRRn55IXCNR-twRG4LP9H4OLloCM1sXuLd5QKQfMBm1vsQJ62ahiFOynW3k9EhAnqQFCzrgoaAj2O0GjiknZGhT-CTEzUydto4xQHLi6leHqjz8IrQ\", \"types\": [\"point_of_interest\", \"establishment\"]}, \"type\": \"Feature\"}, {\"geometry\": {\"coordinates\": [-95.3662701, 29.7561894], \"type\": \"Point\"}, \"properties\": {\"address\": \"1111 Travis St, Houston, TX 77002, United States\", \"id\": \"6cf1f2b19f724b7014c7cab1c01725834dbc3db4\", \"job_title\": \"geologist\", \"name\": \"Hilcorp Energy Co\", \"photos\": [{\"height\": 2448, \"html_attributions\": [\"<a href=\\\"https://maps.google.com/maps/contrib/100318015046809414765/photos\\\">Ronald Payne</a>\"], \"photo_reference\": \"CoQBdwAAACD4TuMx3YdUMuEMttal89_H2i4a_Yb_N8J84PvSwa6P7yZIPVzHSgLp0rVq9wVisW1zylOPPewgCqZl6wr9wB0CM8oikmhhBNk63khPmUvev2mLkGW1mnm1FE8hL4zqpLAq8mpxmVjo4VXFsg843Vhn6wmTnykgHrOvGdiL21RwEhCbTDT6gPAjAyW_adOD4KfvGhRWkL9T-I38Se4XCduhw9giN7lyaw\", \"width\": 3264}], \"place_id\": \"ChIJncGsRDm_QIYR0e57PbvugTc\", \"rating\": 4, \"reference\": \"CmRRAAAAR5xWpcIzDmwYtGOFcalgmHc9XTor2q_3GqgNBVbk-rIr9uOmpMFBfQ0rL3SO6sPVxjD4tLB0DzBSy5SdxAUJhn3WNEwdyz3Db526ujmfe-cO5iOFp8TQBWRJbXf4yY_aEhCjB73M7KtpHi8zSO7Hd1LHGhSIn_gKCLWU4j1Fho5aOjPkuYkMUA\", \"types\": [\"general_contractor\", \"point_of_interest\", \"establishment\"]}, \"type\": \"Feature\"}, {\"geometry\": {\"coordinates\": [-95.4321022, 29.7305064], \"type\": \"Point\"}, \"properties\": {\"address\": \"5 Greenway Plaza Suite 110, Houston, TX 77046, United States\", \"id\": \"7394562c1f1a87dc4b6fa017b44a961df160f5ef\", \"job_title\": \"geologist\", \"name\": \"Occidental Petroleum Corp\", \"photos\": [], \"place_id\": \"ChIJjd5k24G8woAREjjHjBsq0Yk\", \"rating\": 4, \"reference\": \"CmRSAAAASz86jQdTDOwlIvwdnA3Qz8xUhez7ibpthJLs6BCJvA22JiaWnbdsJFy60jilcgoM0tpbN3i8KywPW5oMHvzxeGJM3LU3vSeg5MJRgwCKCL_OCqpGZllOudVGMM73GshlEhDVbtotSzfF8JxecMlatoslGhRp2Fwf93AvjW-Hj7Homm7sQj7oEQ\", \"types\": [\"point_of_interest\", \"establishment\"]}, \"type\": \"Feature\"}, {\"geometry\": {\"coordinates\": [-95.3970411, 29.9417677], \"type\": \"Point\"}, \"properties\": {\"address\": \"363 North Sam Houston Pkwy E, Houston, TX 77060, United States\", \"id\": \"bcfc0554855f942f730466fd447878511b6aa0b4\", \"job_title\": \"geologist\", \"name\": \"Occidental Petroleum Corporation\", \"photos\": [], \"place_id\": \"ChIJx73rqePJQIYRPjss3jFElZo\", \"rating\": \"NA\", \"reference\": \"CmRSAAAAhuoL6RZDwAgakjHAPkQ70yt-z6OkbCizb8q-DZhXu4VSVrqxw-9P1Z522eoJLNvg28otlNy0gfxz8RSdtk6_MVVmvbH_PrQiIAWCIzsxJGgLYBqO6wh-rYaQ8D6Qnr8kEhC2y74j1TpWgjqBhkoWFQXyGhSffVxx7DkI0kLRszfjmBpxHWXhBg\", \"types\": [\"point_of_interest\", \"establishment\"]}, \"type\": \"Feature\"}, {\"geometry\": {\"coordinates\": [-95.5498597, 29.66888299999999], \"type\": \"Point\"}, \"properties\": {\"address\": \"4301 Southwest Fwy, Houston, TX 77027, United States\", \"id\": \"6e40f1d16226178cc0cf90f68d007ada7cfe5617\", \"job_title\": \"geologist\", \"name\": \"Oxy USA Inc\", \"photos\": [], \"place_id\": \"ChIJj7uu3g7BQIYR1FyPVqiuar8\", \"rating\": 1, \"reference\": \"CmRSAAAAmEUCNeVc4zYeUcO3FYggAj1XDwroO90SL-bxT75fmTME5_iVd377kIQmhSdMrHrEWxyiU3ooZGVVjAnEqAnKU055hS5Jw9FjceJqbZqevK39LAgxXXVco9W1Y9Fl70-lEhC6j0QARdoZ1vWdm-jQ3M6sGhT5xXZn0-bzlUcIc7yrGTUwkfRXag\", \"types\": [\"gas_station\", \"car_repair\", \"point_of_interest\", \"establishment\"]}, \"type\": \"Feature\"}, {\"geometry\": {\"coordinates\": [-95.5438387, 29.7776847], \"type\": \"Point\"}, \"properties\": {\"address\": \"800 Gessner Rd #170, Houston, TX 77024, United States\", \"id\": \"91282085c6930276af6f7e2abf1ee0e0fc18432c\", \"job_title\": \"geologist\", \"name\": \"Murray Resources\", \"photos\": [{\"height\": 683, \"html_attributions\": [\"<a href=\\\"https://maps.google.com/maps/contrib/106500950429449697681/photos\\\">Murray Resources</a>\"], \"photo_reference\": \"CoQBdwAAAFemj3kmrLnXYfPLodQxo5ElybQv0GkKavHa_44R-FibcTwjLE3xnJqBOVAXU_mwTEjQ3lQAzZ3nAhI_G-3-miEKPAqCWv6hujQV-DbyoXyUQ5wo-7_-rC0IKA4pp9l0k3cIKzZo-zTxE2B9D-a6zZMMN_BMnKH5x17GXA3bkgFvEhBZI3TaZ9CQN7454CvQeDuaGhQsBW--A7BjExS_YRHi0pXA_NslvQ\", \"width\": 1024}], \"place_id\": \"ChIJRSYpxLzEQIYRsKFA9Ahm-Z0\", \"rating\": 4.6, \"reference\": \"CmRSAAAAt8uZVNFLsZhKkIklOc3Wt3UL4i9ODr6P4gfKwLgUwKriPq-3BEX1keue__3Ln_57cVzDGSnrGBy0C4i2yYDBpKzRg2nDmA-MDpidWSGseEnsgC2T4Tj3E7i7bTG6Vb48EhAGh5UF-BJ_JIoZsGL08p8iGhQD3UQOpAbsKoGsdF7XlJjkykBh-w\", \"types\": [\"point_of_interest\", \"establishment\"]}, \"type\": \"Feature\"}, {\"geometry\": {\"coordinates\": [-95.411982, 29.838328], \"type\": \"Point\"}, \"properties\": {\"address\": \"707 Lehman St, Houston, TX 77018, United States\", \"id\": \"e3a902a8d57c6ee9d36a8e1a32fa39c463a33a0c\", \"job_title\": \"geologist\", \"name\": \"Intera Inc\", \"photos\": [], \"place_id\": \"ChIJI-1445THQIYRvn-6mbb_i8I\", \"rating\": \"NA\", \"reference\": \"CmRSAAAAjMFpeODpK4DnExOwKuas0jsuXqbP1uyqyvt2I7lDsxE8H6wdt4GeLnF3WpZTmhNzX8XaMh9zktB4PRRW3khfr9aKWyHQkdDdsZYLLj6_TydX0GS0j5POQ83q1SkA-cj4EhAgpn3QZGXi92tnkS7QDK6uGhQmpNusZ0uoD9L5vrwTJiYidnHgSg\", \"types\": [\"point_of_interest\", \"establishment\"]}, \"type\": \"Feature\"}, {\"geometry\": {\"coordinates\": [-95.3574139, 29.8867077], \"type\": \"Point\"}, \"properties\": {\"address\": \"11939 Aldine Westfield Rd, Houston, TX 77093, United States\", \"id\": \"596dee2eed3253cb2fc6ebf53ac71041aa3694f7\", \"job_title\": \"geologist\", \"name\": \"Weatherford\", \"photos\": [{\"height\": 2988, \"html_attributions\": [\"<a href=\\\"https://maps.google.com/maps/contrib/107786689521565648284/photos\\\">Donnie Scott</a>\"], \"photo_reference\": \"CoQBdwAAAPBqgpJau23JGWsXP_aHT2dZ0z6KNpoGUZcFHUQooyiDqK2DTxBjYbTlPN3zY6r6RUJ6DSpqhAP509_QDUFJKIDgU16rpOmH2-dKijS_TyTlMKoLAaQSyvgJZUqZN1MdLdDtOM_DeR2dUo1Z6zlCSLpWvyMO0RvtcvwgKR-MG3wiEhAzflC8VBBqexJpo763_wKyGhRYW4LyCA1VYpi_0dgsU8iun9uAqg\", \"width\": 5312}], \"place_id\": \"ChIJJTOHIp-3QIYRLKxLIjOV8yk\", \"rating\": 3.5, \"reference\": \"CmRRAAAAszrI9qFjAvDkRZHAlfYcvBlgyGFY02Yn1xwQC3DyDlUrZUlLrCnRa0gxaiIF_gZ5UOCmm5X4UwcqL1VqZa73C70WPifaxR2ep5pRJ5VOeC_njU_SlJubAWzh1m2mIiTdEhBrqSrS-vOnX9_K3M9vT2iQGhRL2k_B3y8OnhNz4N_AwvVFEmLEvA\", \"types\": [\"general_contractor\", \"point_of_interest\", \"establishment\"]}, \"type\": \"Feature\"}, {\"geometry\": {\"coordinates\": [-95.47312559999999, 29.74571959999999], \"type\": \"Point\"}, \"properties\": {\"address\": \"2000 Saint James Place, Houston, TX 77056, United States\", \"id\": \"52afd1ae1d4a85581d56feb80c02e3a0f203e7c6\", \"job_title\": \"geologist\", \"name\": \"Weatherford International Ltd\", \"photos\": [{\"height\": 5312, \"html_attributions\": [\"<a href=\\\"https://maps.google.com/maps/contrib/109977538253417550023/photos\\\">Toufik Djeradi</a>\"], \"photo_reference\": \"CoQBdwAAALEJd3HLtOFVf742uAUKfcWbY12zZLviR42hY1WctUwxrabZhWal2JR2pBP31fD44TTTvazBySu69YtJeMhLMxcz_E99YbxXe781BCYCab5ZzyeVWblcKVUoJ-zuzWdNLka2puviqeGFXQF02yzXQZ0LSij5nnmTB9wDRDl3s7TTEhBsFAtQlnvtj0D0xwshAcO3GhTFfXlAf0fVNCFrfEAUN2JlrzZENQ\", \"width\": 2988}], \"place_id\": \"ChIJ4ZM-A17BQIYR6GEbiv0fqjY\", \"rating\": 3.8, \"reference\": \"CmRRAAAA0S8bhOc5AkWCHfkYXa-8GTUlGY4JanIPmTlYfPWAGl3iEX9eaYNLKe6RSO8lNSFmnn9psfeWPY8-R8gfjAr0u6dFzgox9nh4x4OG9wg7OyfFnQFJba0VcHbFazmlGQ3LEhAkWcdb5kxLYW4qbs0Mym1lGhRgVsmkE-hBMRISasdiXPMjJPsREA\", \"types\": [\"general_contractor\", \"point_of_interest\", \"establishment\"]}, \"type\": \"Feature\"}, {\"geometry\": {\"coordinates\": [-95.4008035, 29.9623403], \"type\": \"Point\"}, \"properties\": {\"address\": \"18160 Imperial Valley Dr, Houston, TX 77060, United States\", \"id\": \"4d3095b9bb6426aacd6c3a9290d25e7a1271e552\", \"job_title\": \"geologist\", \"name\": \"Weatherford\", \"photos\": [{\"height\": 2268, \"html_attributions\": [\"<a href=\\\"https://maps.google.com/maps/contrib/103289608261407307137/photos\\\">KEVIN THOMAS</a>\"], \"photo_reference\": \"CoQBdwAAAFkUHqa-ujnW7m_GyRGOsFG5J2zTbQLlbhT0hFJD1W6oVuYrAVbBvQUjxPfyZYaPdBfsMznpVBkwljhPWsEQffrfUt1FZP781ZcS2dSz4z1sjhWfoy13wz2RuhXftdP04xiu8I5p1eEiucMmArsUtIbt1xI-OAOYi71SkQqi1f74EhB6bXxL2tCY1EOfBbm7r0ufGhQHId0-JKkc804PeKHtTtkUYl7y0Q\", \"width\": 4032}], \"place_id\": \"ChIJ0-giCwTKQIYRcRakt7fNf8Q\", \"rating\": 3.5, \"reference\": \"CmRSAAAAg1YoqU8G0Mvx4FMNxoA3twXlk20iaACySpBEAPk6wYCCXaKhSB8MaBhj7N5XeqWHELCUBvolDsarzM6v50xMGU-1Hax_5ue18KgRm29GABrj0w15DN-UUHRGK9hqj8BKEhC9n-bnAqSHI8AXVvcz3AbnGhQZbJrYst_4BFnMVfb1O_Xodzy_kw\", \"types\": [\"general_contractor\", \"point_of_interest\", \"establishment\"]}, \"type\": \"Feature\"}, {\"geometry\": {\"coordinates\": [-95.59471649999999, 29.8775974], \"type\": \"Point\"}, \"properties\": {\"address\": \"11997 Farm to Market Rd 529, Houston, TX 77041, United States\", \"id\": \"952ed47a8b304b500d4c7fa4b2f7acc9d81862d0\", \"job_title\": \"geologist\", \"name\": \"Weatherford\", \"photos\": [], \"place_id\": \"ChIJN6mSK2jQQIYRsomU7nEAtQo\", \"rating\": 5, \"reference\": \"CmRRAAAA-t6v6dX4zv_WrZqHf2TqiE3366W1QBzJE_Rw4vDukPPEi2Xd9FUT1d8As_530LtVxZuL-tgEIXrdReMXuK-NRlpP1fcc6HlwP5jLltUnTNOFx2tYsLjDC9jfrlTFgq7-EhBs8VeTJ4uNzFS0BQm9RBHsGhQ7ainQBAbT4n2AiK118M2zio1ihA\", \"types\": [\"general_contractor\", \"point_of_interest\", \"establishment\"]}, \"type\": \"Feature\"}, {\"geometry\": {\"coordinates\": [-95.50646259999999, 29.8392312], \"type\": \"Point\"}, \"properties\": {\"address\": \"4409 Clark Rd, Houston, TX 77040, United States\", \"id\": \"5897514914025020b16834cc3321b79cd91ddcf4\", \"job_title\": \"geologist\", \"name\": \"Weatherford\", \"photos\": [], \"place_id\": \"ChIJRavrVZbFQIYR-V3u4J6Px6g\", \"rating\": \"NA\", \"reference\": \"CmRSAAAAs0UsPlWE2YHivzNIhYeQOD3TfOHJVJhxSPpDZvIOb-FrRJ5zHwfDqMcT9nUkVZt0LhZikWEl83dLKmJMYQvOjENeJChA7IV1gkeoE5EgfWPO1KO5JW0Zj-3EfLz5X_5-EhBRBfg-qJMiazKTtLIZkuX9GhQvER37KjGNIJW6GmiByot2Kr6M3A\", \"types\": [\"general_contractor\", \"point_of_interest\", \"establishment\"]}, \"type\": \"Feature\"}, {\"geometry\": {\"coordinates\": [-95.38671629999999, 29.9536867], \"type\": \"Point\"}, \"properties\": {\"address\": \"16210 W Hardy Rd, Houston, TX 77060, United States\", \"id\": \"d8740eea0d7d20abe22e8ee366dc5c88884d8890\", \"job_title\": \"geologist\", \"name\": \"Weatherford\", \"photos\": [], \"place_id\": \"ChIJaSSBtgC2QIYR1MT_9TLRMdc\", \"rating\": 4, \"reference\": \"CmRSAAAAJeocjUCbVFNTrdH9o7drPGzijbHbjt6V8BmAJ9LHtw3NsL2CmIZx3y7LJOspnUzh-X5V2GTpAN8NsMbnYylkI1a74HAhCdn-__zo7drZTfn2G1e4pidmrztwGVUKlcrfEhBeSCmfWV3qsQ_HK5j7AbnvGhS3toK73knwKZ0kijFdJEahSjj0Vg\", \"types\": [\"general_contractor\", \"point_of_interest\", \"establishment\"]}, \"type\": \"Feature\"}, {\"geometry\": {\"coordinates\": [-95.5414947, 29.8793251], \"type\": \"Point\"}, \"properties\": {\"address\": \"9600 W Gulf Bank Rd, Houston, TX 77040, United States\", \"id\": \"1410b97b0d3e49fac99b37306c2f239edf2cbfcc\", \"job_title\": \"geologist\", \"name\": \"Weatherford\", \"photos\": [], \"place_id\": \"ChIJIYP0x-rPQIYRQkqUN2zvUVk\", \"rating\": \"NA\", \"reference\": \"CmRRAAAAv7RdhIoNfr9JmbOql7CSSVTJeJGLhC6PL6zgxR5bzqAeyhFugLsns2qIap-_VGjJJZ2-ySyFqzAFZAeZLqlE5jgz0SUbymucAPg9GUe6teId0ZIrjTOhRdLLps8wUb7AEhCm_Ggjv7O12huk9exoPvdAGhT3I0042XMYziX6EnPpMO7Ptz6gMA\", \"types\": [\"general_contractor\", \"point_of_interest\", \"establishment\"]}, \"type\": \"Feature\"}, {\"geometry\": {\"coordinates\": [-95.56310339999999, 29.86431019999999], \"type\": \"Point\"}, \"properties\": {\"address\": \"6550 West Sam Houston Pkwy N, Houston, TX 77041, United States\", \"id\": \"6af716c199aa85ab00b3099d81170d6589a15220\", \"job_title\": \"geologist\", \"name\": \"Weatherford\", \"photos\": [], \"place_id\": \"ChIJA--CRgLQQIYRlczuvd0DaDk\", \"rating\": \"NA\", \"reference\": \"CmRRAAAAnkhj-G6aip3CKIIRHwoeGEwezIyeCoiFJvOz-ndNVYL0ABj0g16nYU5MQb1qB8JqZaj1NCLu5oL-5bT2sbrObRZETpigUA2UtZ_hb9_7GPRbq5hRi7e5BBNAKEVRdgeaEhAU8TqO7vFsY2dVYm6wT0ccGhQ7g9Hz2dD4Ka-umaVuCzY1AtqiQw\", \"types\": [\"general_contractor\", \"point_of_interest\", \"establishment\"]}, \"type\": \"Feature\"}, {\"geometry\": {\"coordinates\": [-95.32106189999999, 29.95185230000001], \"type\": \"Point\"}, \"properties\": {\"address\": \"4420 Greens Rd, Houston, TX 77032, United States\", \"id\": \"0fea99fe6edf1976f5651dcee53a4c65b4b30561\", \"job_title\": \"geologist\", \"name\": \"Weatherford Us LP\", \"photos\": [], \"place_id\": \"ChIJb4d8jKW2QIYR9DvsxTaZDig\", \"rating\": 4, \"reference\": \"CmRRAAAAE7KQiY2CboLMMOJl0CKP9xFhkOsLaAFQ59I1K7NR8cirR4Cdsuaaa0_Yl7vQ8O3Ch_27HyqW-fsputd8kA3pSWb9Mh2Oea9qcPsOZ5hqyJLKARnsi-mNaQBlkwXm5pdCEhCO9NkkWOgph-EAaM3OYpCZGhRKCzJ_W-Z3jY5RuYaNi-aLyQpSaw\", \"types\": [\"general_contractor\", \"point_of_interest\", \"establishment\"]}, \"type\": \"Feature\"}, {\"geometry\": {\"coordinates\": [-95.64149499999999, 29.7802045], \"type\": \"Point\"}, \"properties\": {\"address\": \"15995 N Barkers Landing Rd#275, Houston, TX 77079, United States\", \"id\": \"487c0f4fad0c96f92333e8445ffb7df4bbdd794a\", \"job_title\": \"geologist\", \"name\": \"Weatherford\", \"photos\": [], \"place_id\": \"ChIJgWVOPeHbQIYRD310QFCTldM\", \"rating\": 4, \"reference\": \"CmRSAAAAU8keogqpVAUHD7AWz0F9ITOARy1r6Ur0lOQDrylQBdt68ymc6GUAUa5DFRfX2dwioFwKMU5aW33yFD2IzXDb0u101gC_CF2r0q82l1EMdpffDlJ-_pduvMFE3N1W--dGEhCA2GDT0fYmCAXQm5bssb0QGhQrEWUn-rYUH6ZMhaeKV3jADFRm_w\", \"types\": [\"general_contractor\", \"point_of_interest\", \"establishment\"]}, \"type\": \"Feature\"}, {\"geometry\": {\"coordinates\": [-95.46547729999999, 29.82209649999999], \"type\": \"Point\"}, \"properties\": {\"address\": \"5151 Milwee St, Houston, TX 77092, United States\", \"id\": \"7c57cdc787545fb5cdaa2ec867964d2a4a03a214\", \"job_title\": \"geologist\", \"name\": \"Weatherford\", \"photos\": [], \"place_id\": \"ChIJf8uI6mTGQIYRT2uM5UPk9Rc\", \"rating\": \"NA\", \"reference\": \"CmRRAAAAp3nIDNOuuZsVDZUKZhANxArKQQbabBka0V4E2Kld6_UtXxN8qao36-BosQjkaIZr-i_NKpm-fvF03DPGXujYnHD9HQKpNJIKDz42-wdo2bPVN6OQa_RL6YmhOziPZt65EhDtLw7BtIwuFGwMjVqN_6N4GhQjnParM6cW-G317chu0lwMM-O-AA\", \"types\": [\"general_contractor\", \"point_of_interest\", \"establishment\"]}, \"type\": \"Feature\"}, {\"geometry\": {\"coordinates\": [-95.5687557, 29.8280322], \"type\": \"Point\"}, \"properties\": {\"address\": \"3600 Brittmoore Rd, Houston, TX 77043, United States\", \"id\": \"292fb3ea5cda6a1e89be2a7e1edb634766ad609d\", \"job_title\": \"geologist\", \"name\": \"Weatherford\", \"photos\": [], \"place_id\": \"ChIJYxAfN8naQIYRx5yd_B1HBy4\", \"rating\": 4, \"reference\": \"CmRRAAAAj6kpiwfDhdpU4xO_jhItviA-VK-xsI76T8V3mOFCt6tVJO-zjPH1WOl-0xP1EGZ37flL3gl7oDhQm_9zM_YOhQLR5MROW5t43VxYarA8So2HW5O00mXoYidGsT17t-TdEhBWZza9es0FtzyXvQ9fA_UbGhR4raL7nfJPESqs_v5CZIg9PwJKJA\", \"types\": [\"general_contractor\", \"point_of_interest\", \"establishment\"]}, \"type\": \"Feature\"}, {\"geometry\": {\"coordinates\": [-95.3308448, 29.9467059], \"type\": \"Point\"}, \"properties\": {\"address\": \"15710 John F Kennedy Blvd #700, Houston, TX 77032, United States\", \"id\": \"8c57b1d23f4bbd0979cfdc9220021c397e740316\", \"job_title\": \"geologist\", \"name\": \"Weatherford International\", \"photos\": [], \"place_id\": \"ChIJ8QvAT722QIYRFoA0kAAlp_w\", \"rating\": \"NA\", \"reference\": \"CmRSAAAAZXryF4e6y1BLozdnMdoVPv3zIWkeT8d1FjJaiZa0avqKA-qtVIwQd6rAI3YkmYBgPzxmi5Oq8KMDl1WO4rxHbXbiLy7qH3V5aWWfDDo6mWL95nkicFs838GmJAMgLIFxEhC8DITwAz4GIN3Dd_GH1_MKGhS4qpkH01Wi_iy9Qj8ourRmXRgQxg\", \"types\": [\"point_of_interest\", \"establishment\"]}, \"type\": \"Feature\"}, {\"geometry\": {\"coordinates\": [-95.49729029999999, 29.9313766], \"type\": \"Point\"}, \"properties\": {\"address\": \"10655 Bammel North Houston Rd, Houston, TX 77086, United States\", \"id\": \"ac2948f51dcbeb1d0caac8d3e79696ff62bb54df\", \"job_title\": \"geologist\", \"name\": \"Weatherford\", \"photos\": [], \"place_id\": \"ChIJ97T_sb_OQIYR3VDC1vCO01I\", \"rating\": \"NA\", \"reference\": \"CmRRAAAAE76pqgyOJN_IpUjSVkeQyDMjtR0H4OZ7Wmu2OUrVP4HGaAQXiwPNUXa_0dnqdZMT6CmRkEkk5MlrTmecIO0rzlOPfgWh6sn54h8c0QjJuPhClTfM0vB-8CoM-Ol89O5pEhCpqaekiCydnLUiCV2dTdUqGhQ5r04kwX9tLifMzsG1PpCPHhnbvQ\", \"types\": [\"general_contractor\", \"point_of_interest\", \"establishment\"]}, \"type\": \"Feature\"}, {\"geometry\": {\"coordinates\": [-95.5036944, 29.9384892], \"type\": \"Point\"}, \"properties\": {\"address\": \"5200 North Sam Houston Pkwy W Suite 500, Houston, TX 77086, United States\", \"id\": \"c35235ad15c043ae6d3fa786e635bdc00ba7e525\", \"job_title\": \"geologist\", \"name\": \"Weatherford Labs\", \"photos\": [], \"place_id\": \"ChIJbarkM5fOQIYRtdFDh1I4Ibw\", \"rating\": 5, \"reference\": \"CmRSAAAAH9Mukgmsk7StTBpws9GKPPQnIcUBh_fWcmvEIXmH4Ez23dfqYI1uMkv-e_2Rl1F2I_us3TTap7WenxG2IlBEoZG-78vqxGElQBdh7QJCxPC3RRUGhuCQQF9jAh1zUSfwEhDZ_X8htO81DKQAlNLlRGl7GhQ5-e-j6Sn_ESNyknwXycz4mSidUw\", \"types\": [\"point_of_interest\", \"establishment\"]}, \"type\": \"Feature\"}, {\"geometry\": {\"coordinates\": [-95.58365099999999, 29.87864769999999], \"type\": \"Point\"}, \"properties\": {\"address\": \"11909 FM 529 Road, Houston, TX 77041, United States\", \"id\": \"34a35815f125719e685a25e281877fd0f3e707dd\", \"job_title\": \"geologist\", \"name\": \"Weatherford\", \"photos\": [], \"place_id\": \"ChIJN6mSK2jQQIYRkXRkecpsqOk\", \"rating\": 5, \"reference\": \"CmRSAAAA_RhQ4VNwdnRGWmgBoC5AGqailMLV3RPkolV7pHTbC_YFZ0qQ5gPlRg9DF73_qaO9RyuzG8wAAKDITHsmieRKlOe3uCQ0MqveAxJRjpHJO_rVV6X4Cik9Zel_SDjJGMULEhBQ1msakpPSzyl-HmjOU8cVGhSQVumb_UB_5fbd-0TmBg2d02LwYg\", \"types\": [\"point_of_interest\", \"establishment\"]}, \"type\": \"Feature\"}, {\"geometry\": {\"coordinates\": [-95.551149, 29.9230152], \"type\": \"Point\"}, \"properties\": {\"address\": \"8845 Fallbrook Dr, Houston, TX 77064, United States\", \"id\": \"6012e90f06cdf2fc9891b68f8e37c07102fc4043\", \"job_title\": \"geologist\", \"name\": \"Weatherford Labs\", \"photos\": [], \"place_id\": \"ChIJhSfAKyPOQIYR3TfWmiitgdk\", \"rating\": \"NA\", \"reference\": \"CmRSAAAAz4i4qja7vMqqr-7MgXyLvNpjiQgisbf0VX7AuLiIxfeEuDweRx6Lsp4Sat03vZkClRUdpLmkIa0_lBf6hsV4VKZu7e1AYmNCQxUxc5zOU-EEteWYLzijiQ5sqJPctwIGEhC4rJcYFodYjPVQ08RQyfYJGhSF4MzUPFoCZmo3ZneDIvhkQVrpCA\", \"types\": [\"school\", \"point_of_interest\", \"establishment\"]}, \"type\": \"Feature\"}, {\"geometry\": {\"coordinates\": [-95.48866699999999, 29.9435503], \"type\": \"Point\"}, \"properties\": {\"address\": \"4420 W Greens Rd, Houston, TX 77066, United States\", \"id\": \"a0777591ff05d81829fbccf25c638ff0202494cb\", \"job_title\": \"geologist\", \"name\": \"Weatherford Wellcat\", \"photos\": [], \"place_id\": \"ChIJ7aT18q_OQIYRQVu3YUEkW8E\", \"rating\": 5, \"reference\": \"CmRSAAAAxUu6tJCokXKCYSFkV6z-xNtg7LQJLtISQncmYKfJLKeQgCGsCZaRc-X_jZYwZXwbrIKFt0-s4ZZIYCWdWu-XFuovSqBvp0aeFQD68Niq5zvA4bCHD0fw3TNn84kXMSZyEhCWLNk4PXaZ_l52A4TUJAHSGhSPpd_MRHP_TFjXkgzre-_p3sBAQQ\", \"types\": [\"point_of_interest\", \"establishment\"]}, \"type\": \"Feature\"}, {\"geometry\": {\"coordinates\": [-95.66870100000001, 29.786041], \"type\": \"Point\"}, \"properties\": {\"address\": \"16430 Park Ten Pl, Houston, TX 77084, United States\", \"id\": \"1b41b81f14c05bef0bfa7b4b15ac1b253556cb23\", \"job_title\": \"geologist\", \"name\": \"Weatherford Us LP\", \"photos\": [], \"place_id\": \"ChIJK2PrHBXZQIYR5_WIovzEWWQ\", \"rating\": \"NA\", \"reference\": \"CmRRAAAA-LE8ZNBEWga1g4nl6aewEOC63X4weBuzXZfBP_ncu868gRFBpMh2d9IFiI9Vke3g45BD5Rdi3yQWSCnQ23epZp9jF256dbnkJF6ithZmGx_Za1Wicx9KVnCa7b6sVu8jEhCuoUxauaL2MdKhydWMVWaQGhS_K_q73KRVOHW0PD_rglNEyFVa7g\", \"types\": [\"point_of_interest\", \"establishment\"]}, \"type\": \"Feature\"}, {\"geometry\": {\"coordinates\": [-95.0431184, 29.6908544], \"type\": \"Point\"}, \"properties\": {\"address\": \"11931 Hwy 225, La Porte, TX 77571, United States\", \"id\": \"e655333b194bd940ac7bab961f2556d75d128a2d\", \"job_title\": \"geologist\", \"name\": \"Weatherford\", \"photos\": [], \"place_id\": \"ChIJRe9oNwpgP4YRQAHsNXMU0vA\", \"rating\": \"NA\", \"reference\": \"CmRSAAAA7k2EZYd-RdkoBqDHxlKFjmJo4o6xvy5_aUu-qOuggUhl0Z7xJM0C0Jz-x7wvzZZgqXY4ctp2miwkLt3uxFPcspjDJOsGV3WN_79AANShm9wMGbsAqOcKzrN44d92cBczEhDpu4kyU824d6vNeymeSSK_GhT7RsDHNde1QASe7fk8s_Tj2tg58A\", \"types\": [\"general_contractor\", \"point_of_interest\", \"establishment\"]}, \"type\": \"Feature\"}, {\"geometry\": {\"coordinates\": [-95.2559629, 30.0674877], \"type\": \"Point\"}, \"properties\": {\"address\": \"22001 Northpark Dr, Kingwood, TX 77339, United States\", \"id\": \"1cf42089a61995ee434212bf913c60fbc8b01cd3\", \"job_title\": \"geologist\", \"name\": \"Weatherford\", \"photos\": [{\"height\": 3264, \"html_attributions\": [\"<a href=\\\"https://maps.google.com/maps/contrib/116976098361550939190/photos\\\">Texan country75</a>\"], \"photo_reference\": \"CoQBdwAAAIexoitk8M9w2hS6zfGzOieEq3nqIbGqepUN6StOZKPJRUOHB3_4GsbEyusC780j7DfeJP3rkd5cq9oTvNwYBvmmpghqdoNmOpv5Y4d59qPrtYdsFSm88kiwfi7ql-FpHtsCDXDuAMAczg6EuCwLjEqpjAVg3tV2myUicO8t0A1SEhBAPhKzFOzN-kkqIXv1UiDOGhRcnApF5LSWVTS3gIH-ZpQf4Bf8Hg\", \"width\": 1840}], \"place_id\": \"ChIJ9_DxATtNR4YR5x9qO1Lvfsg\", \"rating\": 4.5, \"reference\": \"CmRSAAAAYUzVg2CUcygjvph7qTJvlrlgVDHSrYQJs81mrB5McbVhk5p5VGdFcbeVqO3p_ffZa_6pL-Idsb1W1vawbMGH_lK1geh5q6xNoYq8gJPtL7lfyJ7sBcb6ZQnnXzIfDeAOEhBc7gPQpaYLI8wtmI9cCxjOGhSDGKjfu8IHqW04G-wYujXKZdXj5g\", \"types\": [\"general_contractor\", \"car_repair\", \"point_of_interest\", \"establishment\"]}, \"type\": \"Feature\"}, {\"geometry\": {\"coordinates\": [-95.35959799999999, 29.766005], \"type\": \"Point\"}, \"properties\": {\"address\": \"1 Main St, Houston, TX 77002, United States\", \"id\": \"bbf863152c3e55a67956f9a69a36bfe8822bc16e\", \"job_title\": \"geologist\", \"name\": \"University of Houston-Downtown\", \"photos\": [{\"height\": 2988, \"html_attributions\": [\"<a href=\\\"https://maps.google.com/maps/contrib/113673164458451850004/photos\\\">raul medina torres</a>\"], \"photo_reference\": \"CoQBdwAAADSJgR0e_422_TiGdlxtjt1rtQXsPJgAHo8Jtx27FkSby9v8F9wdZcgCZBjPMm-Hb881HUcn9UGHrK8RSu4d-FQ14ve8MxdLF3knCcQFr_o8inw-Pz_UC1za6jXJc0BBRHrsBYrYgdiZqfyfCJQ6oKqhc4L4xO0vcWEr1A-Yfxu8EhDubUsI6D6AzipQAdeJqdDvGhQ-M-x8NTuaXAdYYyuq78OwY8DOGg\", \"width\": 5312}], \"place_id\": \"ChIJ0_q_Zyy_QIYRVx8D5OgE30I\", \"rating\": 3.8, \"reference\": \"CmRRAAAAMOVz-tXms-BIcZRPpwhfAjOeO_iXrL2_W_j9zz4TETzKaUWx6OzBHzYOoypCHfrz9kOrf5p42eUylWVMCyuTe27dSJxdU1zkzrIKQigORKGx-xbRaONwhYbWXjeG0nRoEhCXsMXGuifB2Z_7TWMndTBPGhTlBxqXuSlm3kmhnbDKoF2sbZ35xg\", \"types\": [\"university\", \"point_of_interest\", \"establishment\"]}, \"type\": \"Feature\"}, {\"geometry\": {\"coordinates\": [-95.372164, 29.757501], \"type\": \"Point\"}, \"properties\": {\"address\": \"333 Clay St, Houston, TX 77002, United States\", \"id\": \"795a3515ff023985c96d55d60c8eefcdc6c9ee0e\", \"job_title\": \"geologist\", \"name\": \"Jefferies\", \"photos\": [], \"place_id\": \"ChIJe81fkji_QIYRhzwdUhh-ygw\", \"rating\": \"NA\", \"reference\": \"CmRRAAAAc74n0EieSy54y0Clj7wfUW7a73AGlVaZwrWAMbnx0aB7NysWIV-12AVj-E6c2ODiAPHd-x08-DiTjYU0rRlv2e91i23_xzENf9_YmKJNoJlaPuONKjYBx3_o8L_eS_xcEhB7UZqFc-fWskDOunTUP-j6GhRpfk7Fc24rtkFWUtexid_ysgnQFg\", \"types\": [\"finance\", \"point_of_interest\", \"establishment\"]}, \"type\": \"Feature\"}, {\"geometry\": {\"coordinates\": [-95.36392040000001, 29.7558061], \"type\": \"Point\"}, \"properties\": {\"address\": \"1001 Fannin St # 1500, Houston, TX 77002, United States\", \"id\": \"f9c309a151d083c3d995d8e59499778d8c495ccd\", \"job_title\": \"geologist\", \"name\": \"Oasis Petroleum\", \"photos\": [], \"place_id\": \"ChIJr9ZsYDu_QIYR4jOwJRL56Zk\", \"rating\": 5, \"reference\": \"CmRSAAAA350wzGI1FySOvQ6o6--8GKvko4OhSxOgxQPNj_PTQ55DFo3ltUB_UVlj635N7W4y8dycF0xdWyXRL_vhKIgh2HhudcWqvHY4solXjTtwnyFlbXGCVnPpSC5mGQDDxH3sEhD-7bxyOsyiO3fKDjyCd0QIGhTjUZsk3339pBXMAKn_z6rXWTo2XA\", \"types\": [\"point_of_interest\", \"establishment\"]}, \"type\": \"Feature\"}, {\"geometry\": {\"coordinates\": [-95.5015712, 29.7513106], \"type\": \"Point\"}, \"properties\": {\"address\": \"1616 S Voss Rd #1000, Houston, TX 77057, United States\", \"id\": \"a626299a58965fab800792adff33c7961eae6309\", \"job_title\": \"geologist\", \"name\": \"Hart Energy (Oil & Gas Data Provider)\", \"photos\": [], \"place_id\": \"ChIJRzKfmJPDQIYRcAIeSuMCH3k\", \"rating\": 3, \"reference\": \"CmRRAAAAtP5aP6gYlDTy4aIe6wldihGrLMvrGsiSusxGYHHlI3seDYG_6V2PzRXUj7m7IRBFB6cgaSLQ75ODpRNDzu42X26OrF2gNcqS6bmd0Q2e7o5gbsZ1O0GOpPrLrZ4p03esEhBFAxauykFXbxf06JHe-ypBGhT_I_41KcLWmcgLyZLwF9g4tkqTfg\", \"types\": [\"point_of_interest\", \"establishment\"]}, \"type\": \"Feature\"}, {\"geometry\": {\"coordinates\": [-95.4628465, 29.7338536], \"type\": \"Point\"}, \"properties\": {\"address\": \"3050 Post Oak Blvd # 1640, Houston, TX 77056, United States\", \"id\": \"eb737b548075ce9fb5a7b7cd19dec9171f0ee698\", \"job_title\": \"geologist\", \"name\": \"Sinopec USA\", \"photos\": [], \"place_id\": \"ChIJS5y97nHBQIYRbb2dw19hKiM\", \"rating\": 5, \"reference\": \"CmRRAAAABXhns3hxbM46_NvUFHyyox1Aewhx3ILtMemu0idJoXTAF-1qDJz8eyffvyDuzeLSUEenbIOYHs6wicZhpIv8c75F1RqI3SOnb4Ocfhun2gK6m6sJVkqRTJkYe6rHMs9gEhCvkk4Z9D4dcq--frcl2Fd2GhQh8PVZqO_OO4KR0fOVmrsstj6RIA\", \"types\": [\"point_of_interest\", \"establishment\"]}, \"type\": \"Feature\"}, {\"geometry\": {\"coordinates\": [-95.46350079999999, 29.73921199999999], \"type\": \"Point\"}, \"properties\": {\"address\": \"5065 Westheimer Rd #1100, Houston, TX 77056, United States\", \"id\": \"5e9393654923a4ebf381bb69db381436c29a299f\", \"job_title\": \"geologist\", \"name\": \"Citi Private Bank\", \"photos\": [{\"height\": 4030, \"html_attributions\": [\"<a href=\\\"https://maps.google.com/maps/contrib/117652267326695258138/photos\\\">Ramesh Potti</a>\"], \"photo_reference\": \"CoQBdwAAAONZPxaMIoYvhgc0JOgRoWD1JzCGGRguCvhKqTdSp85zEHK5DYLhAEEB3xVmkN5YOehh-iaV6g3kJ2sPBkV0V-azLok-9pkRK_Yl6jn69VN4NlSPlmXdXFur2AcbV1R4a2CbqOvLA-w1YKdIUJj9t2cI7fl2Vdg8DJbHO183y9y5EhAxZ_O2pPqBx10sWqNO_wZ-GhTYHkaYbz3azHI-wuIKmPKLR3Rcag\", \"width\": 3024}], \"place_id\": \"ChIJFc2ux27BQIYRk9iQ3cBYcVk\", \"rating\": 2.3, \"reference\": \"CmRRAAAAyoTZEenQGK9IzV2qe833wGrgbh0zLWQ4eVfVptBySgqXEile5RCoXUIwmVh19ZQGGR0JJFZj-4W2Na_VPaWWiXfCktfDIOwWO9nco7-krK4zLdYAzTYkvar43dYpfKmSEhC8QzNo92jBBEqM97HefQtkGhSZnUS76w6UQxzFYkSso3vzjywxug\", \"types\": [\"point_of_interest\", \"establishment\"]}, \"type\": \"Feature\"}, {\"geometry\": {\"coordinates\": [-95.47219989999999, 29.7496917], \"type\": \"Point\"}, \"properties\": {\"address\": \"5555 San Felipe St, Houston, TX 77056, United States\", \"id\": \"23d714827e55b6e7eb16a5d356a0feb120360633\", \"job_title\": \"geologist\", \"name\": \"Marathon Oil Company\", \"photos\": [{\"height\": 2988, \"html_attributions\": [\"<a href=\\\"https://maps.google.com/maps/contrib/114653147413229085324/photos\\\">Patrick Winham</a>\"], \"photo_reference\": \"CoQBdwAAADY2mXH1lW7qDL0JANPuj02re6t4Y8MqKSnrZZt-XNbA8xCdK9mX6h1qvP1gfZihrnDmhccg2NFxR4anntR_oYJ7I50jqd57rzpf_qev7LKCcvCtPNxuby7OWSr1H-tiBsI04AmkypJ3bM1rlO8QnsrJnrwrVrNp87283a9dcZdLEhDZuinjemQ0iQmNZYXwfwwnGhSJjZvtb03xyfic4cGfJas0gBPVtA\", \"width\": 5312}], \"place_id\": \"ChIJieWsJFzBQIYR4INe7XAsF-g\", \"rating\": 4.6, \"reference\": \"CmRSAAAAV3cswHCrAwhbPwtB9qF1qyRgfbSNdf7KQj9d5XZLhFTSD7-A8M1_pvv_k_sgnBqotw8Qah9yinpqOsothYAHBIgRA8Lgmvd4G28I4cIb2ozOaLC3elhUEz27QnVYxImEEhAaJYx51Bhh1WwGhNl4WLZ3GhR5FvIB37oo1OYqH5Y8gZwXqYrJEw\", \"types\": [\"point_of_interest\", \"establishment\"]}, \"type\": \"Feature\"}, {\"geometry\": {\"coordinates\": [-95.3699286, 29.7699427], \"type\": \"Point\"}, \"properties\": {\"address\": \"PO Box 3128, Houston, TX 77253, United States\", \"id\": \"18997b37423029430e68e14ec02f1e975aa3a596\", \"job_title\": \"geologist\", \"name\": \"Marathon Oil Co: Chernosky Alvis\", \"photos\": [], \"place_id\": \"ChIJ64XB-DS_QIYR3wBPmVSvPQ0\", \"rating\": \"NA\", \"reference\": \"CmRRAAAAWUAEMUOoqcOk1nSaWS60Mt8wOkfRjzsm3H70fFo2ZDiNy3AQQ4hbxj_CbnUGet6LHVOYtP9OYVdCqoWBTCnWRcDtwaKzvrzE1FYdCoJC8P-3AWAuZ-ppzpWRq3reszmLEhCtyNbWeLM3ITP4S_NSVYRCGhRDuyVT1G4gG9EM_28L68GUtgAN4w\", \"types\": [\"point_of_interest\", \"establishment\"]}, \"type\": \"Feature\"}, {\"geometry\": {\"coordinates\": [-95.3911105, 29.9585878], \"type\": \"Point\"}, \"properties\": {\"address\": \"1030 Regional Park Dr, Houston, TX 77060, United States\", \"id\": \"591b862adf844e6fdf249a003d16efa649ab42b1\", \"job_title\": \"geologist\", \"name\": \"New Tech Global\", \"photos\": [{\"height\": 556, \"html_attributions\": [\"<a href=\\\"https://maps.google.com/maps/contrib/105073521963953436703/photos\\\">New Tech Global</a>\"], \"photo_reference\": \"CoQBdwAAAGPUYHv_ZCz8m4omlYnrK0JRgvUo0fxUxMSAjcwAUDG_S3NNJI47WXoHeHKJ2bxXcyWujZtY1nFFBd29e8CkdAL3IGeCbKJ4T1IlaYm7-wI8Y9Ry7AMvF24w142KycdT5rh2LSIbra93oe35Hkrc24iOQ3W2IvYFQi-GeVuziFRSEhCOwnNfg4eE2ZCN9qITQfKRGhQpz-e_0Gy6LEDRT4PcpkhtUV0ohA\", \"width\": 1186}], \"place_id\": \"ChIJRQuoTf61QIYRrrCBvZ7uOWs\", \"rating\": 5, \"reference\": \"CmRRAAAAkfKn0653AAq2C6hg3bFS1Z70wdB3u2fE5gLHlhcPbeWrs_DOEntaeM3PFPtRjC59QK0YvAzbn8vlmcFkStpXa-yA86L1nOfwUd4Mu782g5yYCzxaYvD9L-PiWYWa5HcFEhBGJSg3iQaJaE34Vh7Nf2tfGhSRjbsV5lld-N0MSoGkhBgBofWtFA\", \"types\": [\"point_of_interest\", \"establishment\"]}, \"type\": \"Feature\"}, {\"geometry\": {\"coordinates\": [-95.4659039, 29.8679352], \"type\": \"Point\"}, \"properties\": {\"address\": \"4141 Victory Dr, Houston, TX 77088, United States\", \"id\": \"90b73098291a8e90c04f33a8c85477dfcd26379d\", \"job_title\": \"geologist\", \"name\": \"Lone Star College System\", \"photos\": [], \"place_id\": \"ChIJqaVfqaXIQIYRf8PTc49aphc\", \"rating\": 3, \"reference\": \"CmRRAAAAtCwhe0PKqWt1glW5_3JXD0tjwgLHkfxH1TUneThawhq9e5LS7wSE2jdujvgTza-uyqSzBe77uHnNkPiqHXHH2ZWBf_gSVoxA-wZL6kL-3_kgfHKiP5VD4bKVY8B1e3FDEhAHdVgCOnQeq12KhuA-wflxGhR1nb2f2QSZWGVSWfFn8IDezDTfxA\", \"types\": [\"point_of_interest\", \"establishment\"]}, \"type\": \"Feature\"}, {\"geometry\": {\"coordinates\": [-95.37974109999999, 30.007182], \"type\": \"Point\"}, \"properties\": {\"address\": \"2700 W W Thorne Dr, Houston, TX 77073, United States\", \"id\": \"50e8c3703dd49384cfecda9f52ac2537c832cf50\", \"job_title\": \"geologist\", \"name\": \"Lone Star College-North Harris\", \"photos\": [{\"height\": 428, \"html_attributions\": [\"<a href=\\\"https://maps.google.com/maps/contrib/106036001858778134743/photos\\\">Lone Star College-North Harris</a>\"], \"photo_reference\": \"CoQBdwAAAL3BG4OngxKOkafHj4giftyjYQiXTRhg2ayjPlg2ubBk5tWmb7qPEecuscL8bH1oIvVP_ni5ByVeqFi78jW4l8312jgVZzmwraHR8Elk0RyoQA9VnXtUNilUVm66pFtSrOTnsmcoep2mqHGghv9ZOEW5dxp4-amoFBPKN7uh3lzNEhC_baluH4gRhR5Yo_nwe8pVGhTQak3ToUQZlsNlJ57q26_Ktc_Vpw\", \"width\": 640}], \"place_id\": \"ChIJFwwy8Xa1QIYRMJtJ9403tZg\", \"rating\": 3, \"reference\": \"CmRSAAAAPthq35X4iwi64ysBZOtfMKNRdyDJeyqViPyn3EzQaH_8ZKGQoNKbSLGlU3U9mpWqfJKt6s7S0jB0r2zp5S9qo9Q7W5LVHKFHnWkQHavZR-S2HQ2-hg3lvwlZWzR_hX9hEhDf8j1M3EOQBjHB2KAb4l13GhQsJG5a750VqxjzYbqv-qlVYK9PJQ\", \"types\": [\"point_of_interest\", \"establishment\"]}, \"type\": \"Feature\"}, {\"geometry\": {\"coordinates\": [-95.48802210000001, 30.1872936], \"type\": \"Point\"}, \"properties\": {\"address\": \"5000 Research Forest Dr, The Woodlands, TX 77381, United States\", \"id\": \"c4fbb88cbef4056a453a4e050728b4b6b1f46539\", \"job_title\": \"geologist\", \"name\": \"Lone Star College System\", \"photos\": [{\"height\": 3264, \"html_attributions\": [\"<a href=\\\"https://maps.google.com/maps/contrib/113764785255023487240/photos\\\">Victor Brazon</a>\"], \"photo_reference\": \"CoQBdwAAAN-IxcBLceBxyTzWM6KWLk15jS9_jGq9mBdx54BFWPKPWR6iBJmz73qipGUpkZZZI2V_kIc913DbG36-sFtIRbm7sB-hEpEAr-oXWvkjp1qMcq7z48tcX30Rmn4aZCtXU3hJs98XNhSsYn2IDmcuA6muVhECf51ycXVzOXXypssdEhBse2sDG6hp6XMS0zxtLcdTGhTQP7Fr9FR4kF7oSIJD4M4ZAaZC4g\", \"width\": 2448}], \"place_id\": \"ChIJz5LplNkwR4YRI8q2M1XhwqQ\", \"rating\": 2.5, \"reference\": \"CmRSAAAAlU1LhDvhqB4Q2yvgq7FPew0l8_rs3Mm7to8ZMtXvqNlCymMDc_Y2IvBBrOf02vST7nVh4UM-D5Up_IP_MQcytTc_MWw6FnPRrNxC7QRM6a52ajTfLj74P-Ps46oeXJT-EhDefvmK972PdZLsRk3GZAPIGhTOc5EcSHcq36g5Lfu2VrxdBo6kdw\", \"types\": [\"point_of_interest\", \"establishment\"]}, \"type\": \"Feature\"}, {\"geometry\": {\"coordinates\": [-95.6012956, 29.7881337], \"type\": \"Point\"}, \"properties\": {\"address\": \"12141 Wickchester Ln #200, Houston, TX 77079, United States\", \"id\": \"3cdf19db1aed68ee6eb0cb60d82ec77206b1eb4d\", \"job_title\": \"geophysicist\", \"name\": \"Geotrace Technologies Inc\", \"photos\": [], \"place_id\": \"ChIJE5-yOvzbQIYRJdZ1RfRAxzc\", \"rating\": \"NA\", \"reference\": \"CmRRAAAAChaQHV1AdPTv4Km5z6XZZBX8lHApJoGardEx6Z_QtDQMrB47GGa_e3jsNGWowTgeigPIxnW_IsSSoK0Sv54NivLgj1-YXGgVFTVZCij9FnF-o02JONh0H4ZMnXnlBgSCEhBIq7pNr0lLQ3rUjWCIYZeSGhQcUhVwrUVweA660F_B_HC8KMxUPw\", \"types\": [\"point_of_interest\", \"establishment\"]}, \"type\": \"Feature\"}, {\"geometry\": {\"coordinates\": [-95.5438387, 29.7776847], \"type\": \"Point\"}, \"properties\": {\"address\": \"800 Gessner Rd #170, Houston, TX 77024, United States\", \"id\": \"91282085c6930276af6f7e2abf1ee0e0fc18432c\", \"job_title\": \"geophysicist\", \"name\": \"Murray Resources\", \"photos\": [{\"height\": 683, \"html_attributions\": [\"<a href=\\\"https://maps.google.com/maps/contrib/106500950429449697681/photos\\\">Murray Resources</a>\"], \"photo_reference\": \"CoQBdwAAAImgt2YBeinBolRWpSmlrDzcMe0heRO7PsREVXkalDo2qon0OfYcJ_g6RhQbTNyGhPm-BdCDxyAKIV-Ob3wBnshV_z_YOHXPa2menY-Lx7Ra7uCi9dd_uW020-xy7AtSAI3Nwh2ET8wRpPuFV7GSx_X5qFfOoFxDKygD0e4bIEdtEhANilhLmBAKKjOhjQUt3g8tGhQHFFtZsg-o8oUe4AyQ7HADQvKhqA\", \"width\": 1024}], \"place_id\": \"ChIJRSYpxLzEQIYRsKFA9Ahm-Z0\", \"rating\": 4.6, \"reference\": \"CmRSAAAAxQTedU7_eyvjR1-YXlw05Ts8EteidP5DrDe4-7lqdXuy_P9M7tJMOekXht1agy4fyrS8a7mB94y4uA4cZK4so7y-rwhhX3ceHoON0Zq84xYDVpCpSmCcsKDkzOGvH_vdEhCazJXvSwizPpaGQN7dZs0_GhSGM0OhOxuuRuSx5nI4--lJdBV3Kg\", \"types\": [\"point_of_interest\", \"establishment\"]}, \"type\": \"Feature\"}, {\"geometry\": {\"coordinates\": [-95.3599019, 29.7546294], \"type\": \"Point\"}, \"properties\": {\"address\": \"Hess Tower, 1501 McKinney St, Houston, TX 77010, United States\", \"id\": \"04c70c4a3d18050ca437bbaedeca70bd9cb01927\", \"job_title\": \"geophysicist\", \"name\": \"Hess Corporation Exploration & Production\", \"photos\": [{\"height\": 1454, \"html_attributions\": [\"<a href=\\\"https://maps.google.com/maps/contrib/111482964284093817946/photos\\\">Sau Hei Lam</a>\"], \"photo_reference\": \"CoQBdwAAAE5-HLy2zHttUE50SckJ8MCbOk7aZALo1QQ8rsj2bQmZCSNh2GMohFSbF5VnH-3AkEum8k102xqDi-ByX0xOQkFa1HfO36jJDQz-mHaqRf8PZoiTsmwglC5CKvhbn-pExmigO82nb1W1ScGSixUt_WkgNE42vGQa3EoiBvpztBNhEhATUCRvns_JfE2pveCL95UqGhTF6Bf7H2xVHE5JYVs1WONZDOdrqg\", \"width\": 2161}], \"place_id\": \"ChIJfy2iBDm_QIYRjgKEE3GFL9Y\", \"rating\": 4.4, \"reference\": \"CmRSAAAAFQ1b8Pj1CGhfZY4dVyuIrI-gUgcr8DY-PdIeoQeqnA3I6H0RFeDvcZE0PHqf56a_6ZsEQFbGXfVOlf54_bYhEkhjY9EGsoQuzUs1xLLk2vq7JMaXlAQqSdHqTbTRqR7cEhCOu14Ryaf_U-Bcteo9op7XGhRQGlBuj8AbGVHx5sp0x3ljXyZQTA\", \"types\": [\"point_of_interest\", \"establishment\"]}, \"type\": \"Feature\"}, {\"geometry\": {\"coordinates\": [-95.4574449, 29.6839704], \"type\": \"Point\"}, \"properties\": {\"address\": \"9009 West Loop S, Houston, TX 77096, United States\", \"id\": \"2795a232d6e43ce11fa01f15cf2d6001916581de\", \"job_title\": \"geophysicist\", \"name\": \"Aramco Services Company\", \"photos\": [], \"place_id\": \"ChIJ4-bQE-fBQIYRMJKxqTjw_Wc\", \"rating\": 3, \"reference\": \"CmRRAAAAn_tYgY3I6UcgD-e-Cqa7hdUvz55YYwnm38mxet2qhOc49H5H_WDzhIDzt9MJZBOlZ65pNBMX7U4EzFNfdsnjElFNmCfnP0DNP5bNcXt9veZMMNgJDiQzlzS9Y1AFbVDHEhC8AvTqHNzEQ7ghXVllSsTJGhTdzYS2ipKFTsZ0eMswC0DN6Tlj0g\", \"types\": [\"finance\", \"point_of_interest\", \"establishment\"]}, \"type\": \"Feature\"}, {\"geometry\": {\"coordinates\": [-95.4628465, 29.7338536], \"type\": \"Point\"}, \"properties\": {\"address\": \"3050 Post Oak Blvd # 1640, Houston, TX 77056, United States\", \"id\": \"eb737b548075ce9fb5a7b7cd19dec9171f0ee698\", \"job_title\": \"geophysicist\", \"name\": \"Sinopec USA\", \"photos\": [], \"place_id\": \"ChIJS5y97nHBQIYRbb2dw19hKiM\", \"rating\": 5, \"reference\": \"CmRRAAAAkcYnQhM-gNwgvkq7Sv8AkEkq1LQ3fCzRILWRsFCq7dzBRs3BOKj-Q70V8QsA8eZMuDjYhyCTIbGbxFlRa_VK8SET61FSyd8VVSD6QJotS60xRvHjVeGXd_0hBvRkNzBXEhD4-FwyjbHHOJ_GqBy3iGkiGhRlcHuaodhQkboq5bvv8zXkIeNf1Q\", \"types\": [\"point_of_interest\", \"establishment\"]}, \"type\": \"Feature\"}, {\"geometry\": {\"coordinates\": [-95.5740797, 29.7373078], \"type\": \"Point\"}, \"properties\": {\"address\": \"11200 Westheimer Rd #365, Houston, TX 77042, United States\", \"id\": \"328101c9c23ad52a56a549ad72e19915b58d7af8\", \"job_title\": \"geophysicist\", \"name\": \"Walker Elliott\", \"photos\": [], \"place_id\": \"ChIJz6iXr8HcQIYRnzHDA7T8m-k\", \"rating\": 3, \"reference\": \"CmRSAAAASQdbnuXOcsbi7HNR6fGZyjdXAtX1RId1MPZ8YTIo8xvfzUhrbtJ7Ck9UjhMSZm1m-h9S0K1trJXKykT7-ng-wSySVdhcllJsk3TC_nhrm8mGuWEUqfNke5_wRzYokUJ3EhBtHFToRupL1DiCTPW0vAeBGhRne8o8I8n9fcwKFUFD_rehKF8oQQ\", \"types\": [\"point_of_interest\", \"establishment\"]}, \"type\": \"Feature\"}, {\"geometry\": {\"coordinates\": [-95.3662701, 29.7561894], \"type\": \"Point\"}, \"properties\": {\"address\": \"1111 Travis St, Houston, TX 77002, United States\", \"id\": \"6cf1f2b19f724b7014c7cab1c01725834dbc3db4\", \"job_title\": \"geophysicist\", \"name\": \"Hilcorp Energy Co\", \"photos\": [{\"height\": 2448, \"html_attributions\": [\"<a href=\\\"https://maps.google.com/maps/contrib/100318015046809414765/photos\\\">Ronald Payne</a>\"], \"photo_reference\": \"CoQBdwAAAJM5cVOcQp0Kb3rfpnCEs6z-jLYsN248MKcrETKt6KO4QMT_qg7HRd3LspjapAEoZRuW1Tg0cljQnA5TTrHMk-Y1oDkkEQI703p4scDbNrCJYLdrM5gsIbAZIiyBSNaYZqzmX9yJSnjG6felhj5d1CKG5b9VwylRxUNbne8izQAAEhC3TNrrwU-q7VxrYRO-pbs6GhSOETAyUn_BSeHDbTBaKmUSA4q26g\", \"width\": 3264}], \"place_id\": \"ChIJncGsRDm_QIYR0e57PbvugTc\", \"rating\": 4, \"reference\": \"CmRRAAAAbXcyb5TAJfk9l2O99SwgBGSAn6fPr2Jcnx8b4GrxaSghkFIEG41mrYeTblUwgsIsE7s4jbY65FEn_oj9m26me2n1IzbfG5vbFgNi2WrWoV_t09mJ6Rm8GrQpts7rqkQVEhCA-0OabtSChjx7I6oh2TpcGhRCcgh4kVYgByjO4g7jB9_IQflPwA\", \"types\": [\"general_contractor\", \"point_of_interest\", \"establishment\"]}, \"type\": \"Feature\"}, {\"geometry\": {\"coordinates\": [-95.4321022, 29.7305064], \"type\": \"Point\"}, \"properties\": {\"address\": \"5 Greenway Plaza Suite 110, Houston, TX 77046, United States\", \"id\": \"7394562c1f1a87dc4b6fa017b44a961df160f5ef\", \"job_title\": \"geophysicist\", \"name\": \"Occidental Petroleum Corp\", \"photos\": [], \"place_id\": \"ChIJjd5k24G8woAREjjHjBsq0Yk\", \"rating\": 4, \"reference\": \"CmRSAAAAeO8MlWjtXfgudEfdIFtcNcseM3hQ3gAG-FXEUfCzlragR-0dmtRoBJpKVT_0INhPmXDLZBDIuOu278vYhVtGy8kjCKFuGeIHtrqfUtx02IeRF5SeST6-139uIM5GJOosEhAnZZNz1YMGss-KQF1jWbO3GhQOacccCqq6TIKb6WhUFExEcCuEWg\", \"types\": [\"point_of_interest\", \"establishment\"]}, \"type\": \"Feature\"}, {\"geometry\": {\"coordinates\": [-95.3970411, 29.9417677], \"type\": \"Point\"}, \"properties\": {\"address\": \"363 North Sam Houston Pkwy E, Houston, TX 77060, United States\", \"id\": \"bcfc0554855f942f730466fd447878511b6aa0b4\", \"job_title\": \"geophysicist\", \"name\": \"Occidental Petroleum Corporation\", \"photos\": [], \"place_id\": \"ChIJx73rqePJQIYRPjss3jFElZo\", \"rating\": \"NA\", \"reference\": \"CmRSAAAASs2o2jmOViF1UKai7eRaqF7Ao2Sx755gwAN2tozs6HskmyKcJVBK8kt-cP8luiVz1QAyUM7pVUffdAWdjUiQo-aYAsNJvlqOeiBkrQaExP6gni4XB0o3gtsmQ2PNZl_bEhBfsMr48SIo7F05vxdXqOVkGhQZXBTwQxeTcq7cRsTIfNTkM-yehQ\", \"types\": [\"point_of_interest\", \"establishment\"]}, \"type\": \"Feature\"}, {\"geometry\": {\"coordinates\": [-95.5498597, 29.66888299999999], \"type\": \"Point\"}, \"properties\": {\"address\": \"4301 Southwest Fwy, Houston, TX 77027, United States\", \"id\": \"6e40f1d16226178cc0cf90f68d007ada7cfe5617\", \"job_title\": \"geophysicist\", \"name\": \"Oxy USA Inc\", \"photos\": [], \"place_id\": \"ChIJj7uu3g7BQIYR1FyPVqiuar8\", \"rating\": 1, \"reference\": \"CmRSAAAAFVF8CDT9ZRdBB1wRM7wS3u3iqvjbVsDc2VRTwpCZ5w0Xl-P5FmThK_DUmUpyJgAuoecG2ojHvK31KIH-05v9aT5PeayZFVlbmFIP2-ulL5x_J0lhYix4qwDdgaa7B_TPEhDpVdeexXE-OhFuz3OgC6QjGhSZH-W_TEqXmC_tRmtqUeKGdxyptw\", \"types\": [\"gas_station\", \"car_repair\", \"point_of_interest\", \"establishment\"]}, \"type\": \"Feature\"}, {\"geometry\": {\"coordinates\": [-95.362117, 29.76005199999999], \"type\": \"Point\"}, \"properties\": {\"address\": \"1001 Texas Ave #1020, Houston, TX 77002, United States\", \"id\": \"a11c06170d12ee3b5509eebe23f7a83e021bcdac\", \"job_title\": \"geophysicist\", \"name\": \"Lumina\", \"photos\": [{\"height\": 808, \"html_attributions\": [\"<a href=\\\"https://maps.google.com/maps/contrib/104809654983163322864/photos\\\">Lumina</a>\"], \"photo_reference\": \"CoQBdwAAAHJ_vDmxVDLOITlR-esaqsd5odeGq71SVTc3ALw4kjXJTYeAlzqwficxoOloOUr43u7OaIofHrqe9XKiViVIf-79DJG_CUNa6_ghsNjtBAybM_30ies8aHehc4EY5Q1pfyTT2bnXYlB3SJ3szwWjRFe4yEok7trkBPjnhEg0ogtLEhCBdUojx9qiDbk-Rj5jgmFQGhTF4NfsQL4TZWLv89hwehx6VrkOtA\", \"width\": 1024}], \"place_id\": \"ChIJiUNxO0C_QIYRfHaVr4rYzPY\", \"rating\": \"NA\", \"reference\": \"CmRSAAAA0teO86yzS3LertZN4YF80vBPAucaBPHixY_jwzLwQau8YVJ6dHHrsmuMzXVicKARRlAR1vHJ6SUqzvapexUlb2anuNUMkfGcTV4UixJ6jD-u86gw0SlZKUQebQPA9N33EhBfI6WIYWv2E7cuIVRaRX6oGhQlZ1m8AhrAVPho_dxpiC0Bp3xiMA\", \"types\": [\"point_of_interest\", \"establishment\"]}, \"type\": \"Feature\"}, {\"geometry\": {\"coordinates\": [-95.451906, 29.754584], \"type\": \"Point\"}, \"properties\": {\"address\": \"50 Briar Hollow Ln, Houston, TX 77027, United States\", \"id\": \"7e34dad551ed799d5f99931250df058f8447acc9\", \"job_title\": \"geophysicist\", \"name\": \"Integrated Geophysics\", \"photos\": [{\"height\": 1360, \"html_attributions\": [\"<a href=\\\"https://maps.google.com/maps/contrib/118046956100093733952/photos\\\">Integrated Geophysics</a>\"], \"photo_reference\": \"CoQBdwAAAP0BXCJblHnpXV9MxVztwT8bGO0Zv85UexyMYUlamP63ASNX5RVP6M7KTe0aW8XUbz_oRFK3nJS8lAQuDCz2Oiu44MjIDNygcQqN7iidFleoN2B6fGvjx2ThDcDU7oEeWZ4GohxO48vRQF_rrXLi2wvZX5zu8_rxxQ4PALCmlgGQEhDU3WCuQMIs6XKN4EBeaxOxGhQxLV_EVeMyuKVfK_7nqV6lBYvUKg\", \"width\": 1359}], \"place_id\": \"ChIJvbQlyTvBQIYRm0AeqK4g8R8\", \"rating\": \"NA\", \"reference\": \"CmRRAAAAnS6AraEsMe86ms17YRPD6TRrNiFLreHbP0kJDhLByYQfUJV7RfkKeWK_w6G_hFkKzSxocL4Ye3s1rWeNvo1x0YVRnirSQ6tyuONcfv44a3VdQ01hmAJGsZGyfLNV7CiaEhAFZ8vCBzi0PBhUnZNtNjP6GhQiS6tlkJbqbvzEQIPz4Pmdq8ePkA\", \"types\": [\"point_of_interest\", \"establishment\"]}, \"type\": \"Feature\"}, {\"geometry\": {\"coordinates\": [-95.4628465, 29.7338536], \"type\": \"Point\"}, \"properties\": {\"address\": \"3050 Post Oak Blvd # 1640, Houston, TX 77056, United States\", \"id\": \"eb737b548075ce9fb5a7b7cd19dec9171f0ee698\", \"job_title\": \"geophysicist\", \"name\": \"Sinopec USA\", \"photos\": [], \"place_id\": \"ChIJS5y97nHBQIYRbb2dw19hKiM\", \"rating\": 5, \"reference\": \"CmRRAAAAKR1qf1CSfOUmYe5hM3ayoOTrl8-rKAJXLOReULFSVK785_7hHgcA8z0HHvosCEMlKFAEZnbvgZvGAKx0AnCWvfyQiIF1TMNApQkGSEW-krlo4BU5tX61KXLVUwXv0HXiEhAgMr8L416_kyhqFzM9NvaiGhS-HWghz0UROsZ2RWjoB6R5JxUsag\", \"types\": [\"point_of_interest\", \"establishment\"]}, \"type\": \"Feature\"}, {\"geometry\": {\"coordinates\": [-95.62566849999999, 29.7794433], \"type\": \"Point\"}, \"properties\": {\"address\": \"15375 Memorial Dr, Houston, TX 77079, United States\", \"id\": \"63e8846758150bbb7b96bb6f1b6575612bdc5048\", \"job_title\": \"geophysicist\", \"name\": \"PGS\", \"photos\": [], \"place_id\": \"ChIJ_Yxnp-zbQIYRwzVN-oronfk\", \"rating\": \"NA\", \"reference\": \"CmRSAAAART_c1MGvULr9wrcFbae-b0gMrLDkJ2h0l4i24nFTm8HocR2vDlBqoQSYy1c5cyo17OgkJp_s7_xBmatujTkZ3hfq431c5-0GYLojMbh8SccHHHz4E5T7BCCuSt0-3FJLEhBiiKs6Lr1Ot6xLyX2cXousGhQfYeF3i7opKe09iGelLOB3y-st4Q\", \"types\": [\"point_of_interest\", \"establishment\"]}, \"type\": \"Feature\"}]"
   ]
  },
  {
   "cell_type": "code",
   "execution_count": 275,
   "metadata": {
    "collapsed": false
   },
   "outputs": [
    {
     "data": {
      "text/plain": [
       "{\"features\": [{\"geometry\": {\"coordinates\": [-95.46103649999999, 29.737203], \"type\": \"Point\"}, \"properties\": {\"address\": \"2800 Post Oak Blvd #3900, Houston, TX 77056, United States\", \"id\": \"4b62e79323dd04edd16f18a3570c6c525c72352a\", \"job_title\": \"geologist\", \"name\": \"RBC Capital Markets\", \"photos\": [], \"place_id\": \"ChIJMzyxy23BQIYRmQh7_lj7cok\", \"rating\": \"NA\", \"reference\": \"CmRSAAAAZHCxUrcoNdmNHk-acO8JGRqvdpVGfoaJwc8gocBrMOwPY_kNrdG_voVRQhyobLytDJDE3z4no1B-jG-S1UU-XT65b8VH-a4MgXx5-b2DqbRErnd959mCH-Gbr5Bu7ptNEhA-to4Cld2aG366VDyB5m5RGhSDRAL2FObJKSL8ZwimNGfoWI8D1w\", \"types\": [\"bank\", \"finance\", \"point_of_interest\", \"establishment\"]}, \"type\": \"Feature\"}, {\"geometry\": {\"coordinates\": [-95.3640089, 29.7604054], \"type\": \"Point\"}, \"properties\": {\"address\": \"600 Travis St # 6500, Houston, TX 77002, United States\", \"id\": \"e6f1fffeaff13624b25a14bca2c17e581e517245\", \"job_title\": \"geologist\", \"name\": \"Royal Bank of Scotland\", \"photos\": [], \"place_id\": \"ChIJa0oElDq_QIYRxrrhsSUehHU\", \"rating\": \"NA\", \"reference\": \"CmRRAAAAksP4-7nK7sXWDuwBtg-EXiHWpJP_yUy4amXqPNYGyb47XGiTkyoq1rtlPzPnB2OEQUbHIttoRPqQsIM1Y9ff-P9JUIXDmLQbLAj-bLSYGVYbhbQ0lPwAPj9qlE3rrcg1EhB_jTltDy_44fdiWUeUh47LGhQ1pFYpvYFB75tv6AT6QDSNCrk5hw\", \"types\": [\"bank\", \"atm\", \"finance\", \"point_of_interest\", \"establishment\"]}, \"type\": \"Feature\"}, {\"geometry\": {\"coordinates\": [-95.56025, 29.781615], \"type\": \"Point\"}, \"properties\": {\"address\": \"#300, 818 Town and Country Blvd, Houston, TX 77024, United States\", \"id\": \"a674ded7a91a457c3d42b551c5d48886ff6b71a0\", \"job_title\": \"geologist\", \"name\": \"RBC Wealth Management\", \"photos\": [], \"place_id\": \"ChIJK5dbXLPEQIYRQeq5MViNqig\", \"rating\": \"NA\", \"reference\": \"CmRRAAAAZcdsVAzSrtHD-Tj0udLhSS0SDH-UPzUPYMeZ3Xha1UzvK8Ppxc1ccMI7rjclDSnWcir1y-L1n0HtkLZgrzndU6PgpPcOwI79VM-azj9OvyJtosgAOuO5JbqgKzGh5ibUEhCR0900CNIPoFVohpI_AcLDGhRyMIElqrWc1Zkyhn8VxH7zj5o-lw\", \"types\": [\"finance\", \"point_of_interest\", \"establishment\"]}, \"type\": \"Feature\"}, {\"geometry\": {\"coordinates\": [-95.45170759999999, 29.7477721], \"type\": \"Point\"}, \"properties\": {\"address\": \"4400 Post Oak Pkwy #2400, Houston, TX 77027, United States\", \"id\": \"ebe2836d9d530f6081066f7a4aed3a7d4066d74f\", \"job_title\": \"geologist\", \"name\": \"RBC Richardson Barr\", \"photos\": [], \"place_id\": \"ChIJX1ZfCT7BQIYRrP8hSoM5Mpk\", \"rating\": \"NA\", \"reference\": \"CmRSAAAAoFk_baD9zBngvpBzuhqLGLD1R3VjijKb77urDytsLaGcHqyLg0gKRJuowObb6hvn6CbpADCmSCuK_Ntmvxigto9LUgzNCWkaIxZPCaGWrz_q32TDWMzcvDjJBWt3BvedEhDK1etcP722mC7kplFZeSmHGhQN27PHTjczUbck20wmg8_7eKGq1Q\", \"types\": [\"finance\", \"point_of_interest\", \"establishment\"]}, \"type\": \"Feature\"}, {\"geometry\": {\"coordinates\": [-95.461597, 29.746341], \"type\": \"Point\"}, \"properties\": {\"address\": \"1980 Post Oak Blvd #1630, Houston, TX 77056, United States\", \"id\": \"4eedac6f1ba8c81d62786ea3ea10f3686ad5b9d2\", \"job_title\": \"geologist\", \"name\": \"RBC Wealth Management\", \"photos\": [], \"place_id\": \"ChIJlVxoBkLBQIYRDDHQy3MpT_A\", \"rating\": \"NA\", \"reference\": \"CmRSAAAA1YorTOPuGmoNXLBvZe027qM6M-kf28IIAEXp69BmpqAqhganReouO6Nc6SutM4unYNBodk8EZIFkLwUPSdqv4UuvjQtSVD7yoip4DMOqzuR_ZSQPMjZP1jQC6md8kbpGEhDXGKhJiJA6OuM_VOHnSFD5GhQ9AEnBaVP7XnJnfbIQ67JhMcXBxQ\", \"types\": [\"finance\", \"point_of_interest\", \"establishment\"]}, \"type\": \"Feature\"}, {\"geometry\": {\"coordinates\": [-95.36388699999999, 29.755906], \"type\": \"Point\"}, \"properties\": {\"address\": \"1001 Fannin St, Houston, TX 77002, United States\", \"id\": \"cd0e0c0273242313933c8043aec4389b3fb9a983\", \"job_title\": \"geologist\", \"name\": \"RBC Wealth Management\", \"photos\": [], \"place_id\": \"ChIJr9ZsYDu_QIYR8bROl7dKBws\", \"rating\": \"NA\", \"reference\": \"CmRRAAAACVEOnQqw7dIbAC8kannYNuUPVC2k0V6VOepTzJP4w7xik0_azttSiwPyaFryHIplmnVKaI3t4alQ8N5pjkjaLk4SgMNvwzB5dlXJWih5OvstPoyfRTGK8wrjhj9PZFgtEhAhEf0sRguaQykZvkocerF2GhR4CBJzH9cc9d3H7TtEKRmOU-Y3fA\", \"types\": [\"finance\", \"point_of_interest\", \"establishment\"]}, \"type\": \"Feature\"}, {\"geometry\": {\"coordinates\": [-95.3599019, 29.7546294], \"type\": \"Point\"}, \"properties\": {\"address\": \"Hess Tower, 1501 McKinney St, Houston, TX 77010, United States\", \"id\": \"04c70c4a3d18050ca437bbaedeca70bd9cb01927\", \"job_title\": \"geologist\", \"name\": \"Hess Corporation Exploration & Production\", \"photos\": [{\"height\": 1454, \"html_attributions\": [\"<a href=\\\"https://maps.google.com/maps/contrib/111482964284093817946/photos\\\">Sau Hei Lam</a>\"], \"photo_reference\": \"CoQBdwAAADAsGx-uYzaxWlUYRcDGRkqQsXvJslT-KiIKXYL_ZfuvPnpctDeOJAP2Twjmwh9EWZv98IW9t5ZAKPXNzYIL5yQMqNMhuZfW9ImQd-_-nF2-g_y4ItQ1v7V960m_6DgsLu0cEMlCRIFnzJFBvjedr_NAPQur3J4ZvvXjFue-ktxLEhBDDUD6PSd_Kht31zarvLvFGhQuGlp8eVWrF5Y10-A_x5ge6omCbw\", \"width\": 2161}], \"place_id\": \"ChIJfy2iBDm_QIYRjgKEE3GFL9Y\", \"rating\": 4.4, \"reference\": \"CmRSAAAAyjqRBy1c1Gl9pVkQO55DOWnlufEOpBacjpDiMWE9Nhq5it-vGlmjyOiaWfl22foiZTngB4QB04OFlLYF9AkpUuqlPxtxWhq6GDkruNKGA3IBFS58fQReTZkxZW64SOLxEhC78Fkoh_OKppDszKIhXz7OGhTiCjCr3EtrFQET5AbHpoGot4_hDQ\", \"types\": [\"point_of_interest\", \"establishment\"]}, \"type\": \"Feature\"}, {\"geometry\": {\"coordinates\": [-95.53667899999999, 29.643324], \"type\": \"Point\"}, \"properties\": {\"address\": \"10710 S Sam Houston Pkwy W #3, Houston, TX 77031, United States\", \"id\": \"21ef45fcadb15a9dae92a34c0882930987cfd934\", \"job_title\": \"geologist\", \"name\": \"Tolunay-Wong Engineers, Inc\", \"photos\": [{\"height\": 785, \"html_attributions\": [\"<a href=\\\"https://maps.google.com/maps/contrib/100502235174758387817/photos\\\">Tolunay-Wong Engineers, Inc</a>\"], \"photo_reference\": \"CoQBdwAAAArT1CGFRoNZlFj7WQjUXK8QliuPYYi0ukbmGisMoj4h9t5BDd20oeOfjQ-6BhBtIR66MyTx7cLCQR3Dsc1OtnxU6uqD9Zd7lILGYyrzHSX91Fa7Qz8EOGg-_CH4xVGf6dUnbEdqDy7WHZoKwadqEu3x_Bd3J1mLbkFLM6MOtdxAEhBa9c8gJcMW8-hVZraN4NrpGhTeX4STpG2LelsRPEeP2Nd_mJqT_w\", \"width\": 1791}], \"place_id\": \"ChIJgd3o6kPoQIYRBdEf5LXmjLY\", \"rating\": 5, \"reference\": \"CmRSAAAAM8g47276syZWm3MUBgnjg6htvM_G4JNfTnO7UQG5cGZNUG4ph-dPjjtEy9CKA379yU67_AX3ZkEgMQ5KXFg4U5JywdB0mAzt5lsbDk-eCw_g1JHyFhHucRLf2ATtXJA0EhBTc6rjFTKJol2OR7vhJ3iqGhSKPbBcxsnIJn8qV1ieX2N2TbMnDg\", \"types\": [\"point_of_interest\", \"establishment\"]}, \"type\": \"Feature\"}, {\"geometry\": {\"coordinates\": [-95.4620181, 29.7530878], \"type\": \"Point\"}, \"properties\": {\"address\": \"1360 Post Oak Blvd #150, Houston, TX 77056, United States\", \"id\": \"9aba7fe2f8a80c94b359e1fd5c4df4b3c3e70314\", \"job_title\": \"geologist\", \"name\": \"BHP Billiton Petroleum\", \"photos\": [{\"height\": 1724, \"html_attributions\": [\"<a href=\\\"https://maps.google.com/maps/contrib/106919442231730187134/photos\\\">Chad Burrows</a>\"], \"photo_reference\": \"CoQBdwAAAG3bCPXw7iKaUG4o8aFuoAtfOTpTBN7ohWBOjyOfuu6IQA7guxb5xbBHoMfDVna9zRYFS-wJdyNM-RbFCP7eYU-5L0G61HdFBPDWEygzPeN2LVRJqfzXdBiPAQsP-Dem0Demm86xDUG7zdPDr1ZwQdUjoN68LiskJ6M0o1C_32dSEhDb80JgBRumf-2Dc1vGpUVoGhRxN-dDL89DmubVUc0AEVNkqd7moQ\", \"width\": 5502}], \"place_id\": \"ChIJU5hfp0bBQIYRKqHNd5nxNbw\", \"rating\": 5, \"reference\": \"CmRSAAAAOtuDI97DSC03CfMFYMeMM7Le4JVH32Ue_zzO5kvfAyiE4iB8sv2lsI_-nGP6NTYxC0-cLgLk1xKCcsTIRKK54AnR0--cAx9tIIGzY-e3AP4TgDIU0A2-1lrajGV4L9fxEhCdYg1w1KdB43tyM5fl1LonGhR9xxRxy2aLuY_vyoK0hOS5VjHMMQ\", \"types\": [\"point_of_interest\", \"establishment\"]}, \"type\": \"Feature\"}, {\"geometry\": {\"coordinates\": [-95.1974345, 29.658069], \"type\": \"Point\"}, \"properties\": {\"address\": \"1006 Vista Rd, Pasadena, TX 77504, United States\", \"id\": \"69a96533a258eb591726d86d1ca2f9c6ec0228de\", \"job_title\": \"geologist\", \"name\": \"En Rud Resources Inc\", \"photos\": [], \"place_id\": \"ChIJc_A7nUSYQIYRcN8s1islssY\", \"rating\": \"NA\", \"reference\": \"CmRSAAAARNn7XDmBjchus_55SmPZ5TmGnW7ArXqyAQxN4TgOLGP25tcDU8f2gTvRAIiN9u1d5gbYaBRUoTB7srB9y-2X7juZxovmAIefNQt0qRCCcS8xORxkF-I1j4rF8I9IY-w7EhAqQwfsoQ7OwFTBZHTEwPJcGhTtR6GTosBmPdYpXthBzXDr6knVuA\", \"types\": [\"point_of_interest\", \"establishment\"]}, \"type\": \"Feature\"}, {\"geometry\": {\"coordinates\": [-95.1721678, 29.64837929999999], \"type\": \"Point\"}, \"properties\": {\"address\": \"4624 Fairmont Pkwy, Pasadena, TX 77504, United States\", \"id\": \"9ae520cccc7564f96afd46f6d631d61bdd6bdfff\", \"job_title\": \"geologist\", \"name\": \"San Jacinto College - District Office\", \"photos\": [], \"place_id\": \"ChIJ5czzhuSYQIYR5xO1zKMXD90\", \"rating\": 2.3, \"reference\": \"CmRSAAAA4L4AmA9IycF2CT257U_Hh7eozu7eVLnC9T3GlQw4NtraevdReLy38PMYFI5IwwYPfrq-MahL1SrJynGVETVgaaSfogNOhbCiIYaIXhpiCt99j3M_f6j7e1ag1muR_O9fEhB2bxYUhExHFmwkvWaNpYTTGhRm2YBVNSsg1RuZnnPOlyyhsQ1_Cg\", \"types\": [\"school\", \"point_of_interest\", \"establishment\"]}, \"type\": \"Feature\"}, {\"geometry\": {\"coordinates\": [-95.366643, 29.76074], \"type\": \"Point\"}, \"properties\": {\"address\": \"700 Louisiana St # 2100, Houston, TX 77002, United States\", \"id\": \"ec8b82b104863bab3b36a1ce79a0c0f711468bfc\", \"job_title\": \"geologist\", \"name\": \"BMO Capital Markets\", \"photos\": [{\"height\": 750, \"html_attributions\": [\"<a href=\\\"https://maps.google.com/maps/contrib/104549896185334272100/photos\\\">Duplan Nalpudi Instagram</a>\"], \"photo_reference\": \"CoQBdwAAAAJ6XTFHXEE0Wadaxe8OTluFE7HUrb0Hq_EBeBBivWEwG6vKOzetGq_2z7PWILXcRQy_EIbhdSPZK2vbrxRHH9IFCS14fkscmI6RNIPFXi_vSGjA1-YMMP1QmIeNlfP2W3_hTd5Ay8If866LrdeVmHM1_tLMRs1u9rYHR0tQNTDyEhCzS3KITjIfGZJIXYxmW41QGhSeJURd4g9XdNAeTX8C48oWmAXjOQ\", \"width\": 1334}], \"place_id\": \"ChIJLROgDTq_QIYRTwQmXrl5Wm0\", \"rating\": \"NA\", \"reference\": \"CmRRAAAAxnASvDFOUjGrpkDYDWmqNrv5OaQE8PPMqfWuJsESxbIPLkcapX38R6GqZmBN9EqoPAJ8eFC15N7smXVcNe3avTJYlmaRh7i34FLRAD-6ak7H_zs5g401_5P1MFqd-MCtEhBrI68CWVZNFxuNb2weMXfTGhRj8jGjRvBUfk5gIjIeU-NqkPS5mw\", \"types\": [\"finance\", \"point_of_interest\", \"establishment\"]}, \"type\": \"Feature\"}, {\"geometry\": {\"coordinates\": [-95.372164, 29.757501], \"type\": \"Point\"}, \"properties\": {\"address\": \"333 Clay St, Houston, TX 77002, United States\", \"id\": \"795a3515ff023985c96d55d60c8eefcdc6c9ee0e\", \"job_title\": \"geologist\", \"name\": \"Jefferies\", \"photos\": [], \"place_id\": \"ChIJe81fkji_QIYRhzwdUhh-ygw\", \"rating\": \"NA\", \"reference\": \"CmRRAAAAyEvFORruDkPxY6ltJiQcOqA9ih16L_Bffm7-I-zSf8p24oX3ggzEZxXflRPr0MkIbr-8CZPbrKTBX9ldF7ApeJhHCf-yAXZr0Q-wKPqacQFS2LftiUsbgGRwZ10fq8CBEhAI8nEAl2mIFQhwWyUpwknyGhR6dWz7jSHNRyWRwkpalAvStqE-SA\", \"types\": [\"finance\", \"point_of_interest\", \"establishment\"]}, \"type\": \"Feature\"}, {\"geometry\": {\"coordinates\": [-95.49726899999999, 29.7140059], \"type\": \"Point\"}, \"properties\": {\"address\": \"6100 Hillcroft St, Houston, TX 77081, United States\", \"id\": \"372e0791c5d5ea0bf4c3a24c278c5083aad17624\", \"job_title\": \"geologist\", \"name\": \"Fugro Consultants Inc: Akhtar Anwar\", \"photos\": [], \"place_id\": \"ChIJ5e-dPzbCQIYR8o0_0WHFuVk\", \"rating\": \"NA\", \"reference\": \"CmRRAAAAJfSbIwfGz4EogbvyegiWN7kAXAqG-eCvMKewYZtyW9qGnal_gIO_Muj_4gwxWz3-_IQ-R4zMI2pDFS3Hj6dLv4vqQGbnTjQd4HUVCHIuXuxqFjKF7xJpNy722nji4ElVEhDXLF1LrlDT4a3IlkXq-JDjGhQPorvUROrFmF4T1ejh9270ZKgk7A\", \"types\": [\"point_of_interest\", \"establishment\"]}, \"type\": \"Feature\"}, {\"geometry\": {\"coordinates\": [-95.5678336, 29.8452744], \"type\": \"Point\"}, \"properties\": {\"address\": \"10831 Train Ct, Houston, TX 77041, United States\", \"id\": \"94c4bf4197969258554d1555fd7ce686908546b7\", \"job_title\": \"geologist\", \"name\": \"Fugro Consultants, Inc.\", \"photos\": [], \"place_id\": \"ChIJ1WVb4rHaQIYR6O9DfGla99A\", \"rating\": \"NA\", \"reference\": \"CmRSAAAAKZUmGmU-bf7JcLeqY4CoAO4bJOU9BWP1WCw87_vXy-_3agr7LZX3mch5WO-iWqlEqkZsAePSh7Lk5AN7BILjLmAew1GbqUoG_JPT-k5aDxcFNWdwpJciOb2BwN5VV7dHEhBoD9R3HF4PMvor-5dmDx0zGhR0WBaFdbCL5QEDKypbe9V5mVMSog\", \"types\": [\"point_of_interest\", \"establishment\"]}, \"type\": \"Feature\"}, {\"geometry\": {\"coordinates\": [-95.5441765, 29.9263062], \"type\": \"Point\"}, \"properties\": {\"address\": \"8715 Fallbrook Dr, Houston, TX 77064, United States\", \"id\": \"4b8b00e13f61a661128d24dcd3068ddd462bddbc\", \"job_title\": \"geologist\", \"name\": \"Fugro\", \"photos\": [], \"place_id\": \"ChIJC49COz7OQIYRAkBflL00eJ4\", \"rating\": \"NA\", \"reference\": \"CmRSAAAAKnJ-PLXUz2cGuMXBqlupgPuRmIx6br2jerJOHQ3PnCMCu55xBuGY8L0U1eAO8sSteu3nmHbDVGVgstxk-rmM-VLSZlwkm1n3H43KdgX74rVcp7X52uM0WGv-49M_qALbEhBU-hqOBMDdyEaTaiUxIIE_GhQOwIsvKrQrYjHq9q5b94aoR87I2Q\", \"types\": [\"point_of_interest\", \"establishment\"]}, \"type\": \"Feature\"}, {\"geometry\": {\"coordinates\": [-95.4994463, 29.7127126], \"type\": \"Point\"}, \"properties\": {\"address\": \"6121 Tarnef Dr, Houston, TX 77074, United States\", \"id\": \"036ef56e28e7616b45367256404bd34b6894d17b\", \"job_title\": \"geologist\", \"name\": \"Fugro Inc\", \"photos\": [], \"place_id\": \"ChIJ1ZxaK0jCQIYRkHmkjNdFW2I\", \"rating\": \"NA\", \"reference\": \"CmRRAAAASHUZ9MB81iK2MLEhgOYZ5Eru9ekeNs_Vl8F91I6mVP3MX5_ce48QOzNfpxbB74_ctpGO1q_B3m8E8herIETMU64Y9ACmVO_HjXTq7cEHCWkl8TpOkJrLiYA7R5cRglE3EhAVDmbN2jituXKBsYShQRzXGhSJHn5bD7k3BQxxX2w2x08kBUtNgQ\", \"types\": [\"point_of_interest\", \"establishment\"]}, \"type\": \"Feature\"}, {\"geometry\": {\"coordinates\": [-95.49562680000001, 29.7167202], \"type\": \"Point\"}, \"properties\": {\"address\": \"6080 Hooton, Houston, TX 77081, United States\", \"id\": \"65dd391d8d93517cc6dbcdc22dc4231b9aa5303c\", \"job_title\": \"geologist\", \"name\": \"Fugro Inc\", \"photos\": [], \"place_id\": \"ChIJrdJGMjTCQIYR03_Oibwj_uM\", \"rating\": \"NA\", \"reference\": \"CmRSAAAAowhSnsCeJm3gYOnEDNZ7a43E-gqlh62gNyk2xMRNqkO9GoQszFgAI5RFPL8zCrlgZAdbgyqoPFlmMVqxvGGkLT6by6pTBuN0BeT3C-L1AD41SfUVOy4NiTG7LHNngnguEhAgJX7Xs8ZVeX7kSXgb14npGhSlkRKhK8KPDxnrwSC9OPxAoI-36A\", \"types\": [\"premise\", \"point_of_interest\", \"establishment\"]}, \"type\": \"Feature\"}, {\"geometry\": {\"coordinates\": [-95.5503257, 29.8584718], \"type\": \"Point\"}, \"properties\": {\"address\": \"10425 Okanella St # 100, Houston, TX 77041, United States\", \"id\": \"bd7b9e455e61e36012f43900a5d2dc8fb520b286\", \"job_title\": \"geologist\", \"name\": \"Fugro Data Solutions\", \"photos\": [], \"place_id\": \"ChIJf7sDHvjPQIYRNi_3faTzFrQ\", \"rating\": \"NA\", \"reference\": \"CmRSAAAABMsN0BF4qImRGXhbd9C3pv5Wpuh-qu1oMpNEsG3IrcMLS9g_2trO-QYxZO-PhzmRqzVXFSRO26iD97rvlaU-OicQK_eO2rIkbAGxqqQXLhrIelEF4-iFbH98WgNl5z8bEhCueCT4nussffuXOMwuSymqGhS7CJHFuQ8i4pzMsHSL24DrOdjSZA\", \"types\": [\"storage\", \"point_of_interest\", \"establishment\"]}, \"type\": \"Feature\"}, {\"geometry\": {\"coordinates\": [-95.1800995, 29.7118821], \"type\": \"Point\"}, \"properties\": {\"address\": \"2410 Pasadena Fwy, Pasadena, TX 77506, United States\", \"id\": \"38cb6e415101a4bac2c1eaf17a6fa77679f6788b\", \"job_title\": \"geologist\", \"name\": \"Fugro Consultants LP\", \"photos\": [], \"place_id\": \"ChIJQdSxQV6iQIYR9uoIbHWfBXE\", \"rating\": \"NA\", \"reference\": \"CmRRAAAAgRQU8gFQoDoGvfZONgFJ0L3TE7-2iinmImlY2HSudOYS_Z9PG8bUuZeql0kJn-HnUfS7S12okDg4LlsBofHxRZp8I1wUNbp8PkV9K2nC4wMRC0NaG7ow8FLyopwm0hRtEhDIEHytQwc3dPTnnxNSqkNuGhQK-5zmh5oXjG0Xyyo2LYd_VqRMEA\", \"types\": [\"point_of_interest\", \"establishment\"]}, \"type\": \"Feature\"}, {\"geometry\": {\"coordinates\": [-95.5740797, 29.7373078], \"type\": \"Point\"}, \"properties\": {\"address\": \"11200 Westheimer Rd #365, Houston, TX 77042, United States\", \"id\": \"328101c9c23ad52a56a549ad72e19915b58d7af8\", \"job_title\": \"geologist\", \"name\": \"Walker Elliott\", \"photos\": [], \"place_id\": \"ChIJz6iXr8HcQIYRnzHDA7T8m-k\", \"rating\": 3, \"reference\": \"CmRSAAAAq3X0LE0-YJu5gH53VpxVHV1FRyfgqS5Tbzy9VOevK-OPO0E0edNWw5saqHYmTQeI13OrCRRn55IXCNR-twRG4LP9H4OLloCM1sXuLd5QKQfMBm1vsQJ62ahiFOynW3k9EhAnqQFCzrgoaAj2O0GjiknZGhT-CTEzUydto4xQHLi6leHqjz8IrQ\", \"types\": [\"point_of_interest\", \"establishment\"]}, \"type\": \"Feature\"}, {\"geometry\": {\"coordinates\": [-95.3662701, 29.7561894], \"type\": \"Point\"}, \"properties\": {\"address\": \"1111 Travis St, Houston, TX 77002, United States\", \"id\": \"6cf1f2b19f724b7014c7cab1c01725834dbc3db4\", \"job_title\": \"geologist\", \"name\": \"Hilcorp Energy Co\", \"photos\": [{\"height\": 2448, \"html_attributions\": [\"<a href=\\\"https://maps.google.com/maps/contrib/100318015046809414765/photos\\\">Ronald Payne</a>\"], \"photo_reference\": \"CoQBdwAAACD4TuMx3YdUMuEMttal89_H2i4a_Yb_N8J84PvSwa6P7yZIPVzHSgLp0rVq9wVisW1zylOPPewgCqZl6wr9wB0CM8oikmhhBNk63khPmUvev2mLkGW1mnm1FE8hL4zqpLAq8mpxmVjo4VXFsg843Vhn6wmTnykgHrOvGdiL21RwEhCbTDT6gPAjAyW_adOD4KfvGhRWkL9T-I38Se4XCduhw9giN7lyaw\", \"width\": 3264}], \"place_id\": \"ChIJncGsRDm_QIYR0e57PbvugTc\", \"rating\": 4, \"reference\": \"CmRRAAAAR5xWpcIzDmwYtGOFcalgmHc9XTor2q_3GqgNBVbk-rIr9uOmpMFBfQ0rL3SO6sPVxjD4tLB0DzBSy5SdxAUJhn3WNEwdyz3Db526ujmfe-cO5iOFp8TQBWRJbXf4yY_aEhCjB73M7KtpHi8zSO7Hd1LHGhSIn_gKCLWU4j1Fho5aOjPkuYkMUA\", \"types\": [\"general_contractor\", \"point_of_interest\", \"establishment\"]}, \"type\": \"Feature\"}, {\"geometry\": {\"coordinates\": [-95.4321022, 29.7305064], \"type\": \"Point\"}, \"properties\": {\"address\": \"5 Greenway Plaza Suite 110, Houston, TX 77046, United States\", \"id\": \"7394562c1f1a87dc4b6fa017b44a961df160f5ef\", \"job_title\": \"geologist\", \"name\": \"Occidental Petroleum Corp\", \"photos\": [], \"place_id\": \"ChIJjd5k24G8woAREjjHjBsq0Yk\", \"rating\": 4, \"reference\": \"CmRSAAAASz86jQdTDOwlIvwdnA3Qz8xUhez7ibpthJLs6BCJvA22JiaWnbdsJFy60jilcgoM0tpbN3i8KywPW5oMHvzxeGJM3LU3vSeg5MJRgwCKCL_OCqpGZllOudVGMM73GshlEhDVbtotSzfF8JxecMlatoslGhRp2Fwf93AvjW-Hj7Homm7sQj7oEQ\", \"types\": [\"point_of_interest\", \"establishment\"]}, \"type\": \"Feature\"}, {\"geometry\": {\"coordinates\": [-95.3970411, 29.9417677], \"type\": \"Point\"}, \"properties\": {\"address\": \"363 North Sam Houston Pkwy E, Houston, TX 77060, United States\", \"id\": \"bcfc0554855f942f730466fd447878511b6aa0b4\", \"job_title\": \"geologist\", \"name\": \"Occidental Petroleum Corporation\", \"photos\": [], \"place_id\": \"ChIJx73rqePJQIYRPjss3jFElZo\", \"rating\": \"NA\", \"reference\": \"CmRSAAAAhuoL6RZDwAgakjHAPkQ70yt-z6OkbCizb8q-DZhXu4VSVrqxw-9P1Z522eoJLNvg28otlNy0gfxz8RSdtk6_MVVmvbH_PrQiIAWCIzsxJGgLYBqO6wh-rYaQ8D6Qnr8kEhC2y74j1TpWgjqBhkoWFQXyGhSffVxx7DkI0kLRszfjmBpxHWXhBg\", \"types\": [\"point_of_interest\", \"establishment\"]}, \"type\": \"Feature\"}, {\"geometry\": {\"coordinates\": [-95.5498597, 29.66888299999999], \"type\": \"Point\"}, \"properties\": {\"address\": \"4301 Southwest Fwy, Houston, TX 77027, United States\", \"id\": \"6e40f1d16226178cc0cf90f68d007ada7cfe5617\", \"job_title\": \"geologist\", \"name\": \"Oxy USA Inc\", \"photos\": [], \"place_id\": \"ChIJj7uu3g7BQIYR1FyPVqiuar8\", \"rating\": 1, \"reference\": \"CmRSAAAAmEUCNeVc4zYeUcO3FYggAj1XDwroO90SL-bxT75fmTME5_iVd377kIQmhSdMrHrEWxyiU3ooZGVVjAnEqAnKU055hS5Jw9FjceJqbZqevK39LAgxXXVco9W1Y9Fl70-lEhC6j0QARdoZ1vWdm-jQ3M6sGhT5xXZn0-bzlUcIc7yrGTUwkfRXag\", \"types\": [\"gas_station\", \"car_repair\", \"point_of_interest\", \"establishment\"]}, \"type\": \"Feature\"}, {\"geometry\": {\"coordinates\": [-95.5438387, 29.7776847], \"type\": \"Point\"}, \"properties\": {\"address\": \"800 Gessner Rd #170, Houston, TX 77024, United States\", \"id\": \"91282085c6930276af6f7e2abf1ee0e0fc18432c\", \"job_title\": \"geologist\", \"name\": \"Murray Resources\", \"photos\": [{\"height\": 683, \"html_attributions\": [\"<a href=\\\"https://maps.google.com/maps/contrib/106500950429449697681/photos\\\">Murray Resources</a>\"], \"photo_reference\": \"CoQBdwAAAFemj3kmrLnXYfPLodQxo5ElybQv0GkKavHa_44R-FibcTwjLE3xnJqBOVAXU_mwTEjQ3lQAzZ3nAhI_G-3-miEKPAqCWv6hujQV-DbyoXyUQ5wo-7_-rC0IKA4pp9l0k3cIKzZo-zTxE2B9D-a6zZMMN_BMnKH5x17GXA3bkgFvEhBZI3TaZ9CQN7454CvQeDuaGhQsBW--A7BjExS_YRHi0pXA_NslvQ\", \"width\": 1024}], \"place_id\": \"ChIJRSYpxLzEQIYRsKFA9Ahm-Z0\", \"rating\": 4.6, \"reference\": \"CmRSAAAAt8uZVNFLsZhKkIklOc3Wt3UL4i9ODr6P4gfKwLgUwKriPq-3BEX1keue__3Ln_57cVzDGSnrGBy0C4i2yYDBpKzRg2nDmA-MDpidWSGseEnsgC2T4Tj3E7i7bTG6Vb48EhAGh5UF-BJ_JIoZsGL08p8iGhQD3UQOpAbsKoGsdF7XlJjkykBh-w\", \"types\": [\"point_of_interest\", \"establishment\"]}, \"type\": \"Feature\"}, {\"geometry\": {\"coordinates\": [-95.411982, 29.838328], \"type\": \"Point\"}, \"properties\": {\"address\": \"707 Lehman St, Houston, TX 77018, United States\", \"id\": \"e3a902a8d57c6ee9d36a8e1a32fa39c463a33a0c\", \"job_title\": \"geologist\", \"name\": \"Intera Inc\", \"photos\": [], \"place_id\": \"ChIJI-1445THQIYRvn-6mbb_i8I\", \"rating\": \"NA\", \"reference\": \"CmRSAAAAjMFpeODpK4DnExOwKuas0jsuXqbP1uyqyvt2I7lDsxE8H6wdt4GeLnF3WpZTmhNzX8XaMh9zktB4PRRW3khfr9aKWyHQkdDdsZYLLj6_TydX0GS0j5POQ83q1SkA-cj4EhAgpn3QZGXi92tnkS7QDK6uGhQmpNusZ0uoD9L5vrwTJiYidnHgSg\", \"types\": [\"point_of_interest\", \"establishment\"]}, \"type\": \"Feature\"}, {\"geometry\": {\"coordinates\": [-95.3574139, 29.8867077], \"type\": \"Point\"}, \"properties\": {\"address\": \"11939 Aldine Westfield Rd, Houston, TX 77093, United States\", \"id\": \"596dee2eed3253cb2fc6ebf53ac71041aa3694f7\", \"job_title\": \"geologist\", \"name\": \"Weatherford\", \"photos\": [{\"height\": 2988, \"html_attributions\": [\"<a href=\\\"https://maps.google.com/maps/contrib/107786689521565648284/photos\\\">Donnie Scott</a>\"], \"photo_reference\": \"CoQBdwAAAPBqgpJau23JGWsXP_aHT2dZ0z6KNpoGUZcFHUQooyiDqK2DTxBjYbTlPN3zY6r6RUJ6DSpqhAP509_QDUFJKIDgU16rpOmH2-dKijS_TyTlMKoLAaQSyvgJZUqZN1MdLdDtOM_DeR2dUo1Z6zlCSLpWvyMO0RvtcvwgKR-MG3wiEhAzflC8VBBqexJpo763_wKyGhRYW4LyCA1VYpi_0dgsU8iun9uAqg\", \"width\": 5312}], \"place_id\": \"ChIJJTOHIp-3QIYRLKxLIjOV8yk\", \"rating\": 3.5, \"reference\": \"CmRRAAAAszrI9qFjAvDkRZHAlfYcvBlgyGFY02Yn1xwQC3DyDlUrZUlLrCnRa0gxaiIF_gZ5UOCmm5X4UwcqL1VqZa73C70WPifaxR2ep5pRJ5VOeC_njU_SlJubAWzh1m2mIiTdEhBrqSrS-vOnX9_K3M9vT2iQGhRL2k_B3y8OnhNz4N_AwvVFEmLEvA\", \"types\": [\"general_contractor\", \"point_of_interest\", \"establishment\"]}, \"type\": \"Feature\"}, {\"geometry\": {\"coordinates\": [-95.47312559999999, 29.74571959999999], \"type\": \"Point\"}, \"properties\": {\"address\": \"2000 Saint James Place, Houston, TX 77056, United States\", \"id\": \"52afd1ae1d4a85581d56feb80c02e3a0f203e7c6\", \"job_title\": \"geologist\", \"name\": \"Weatherford International Ltd\", \"photos\": [{\"height\": 5312, \"html_attributions\": [\"<a href=\\\"https://maps.google.com/maps/contrib/109977538253417550023/photos\\\">Toufik Djeradi</a>\"], \"photo_reference\": \"CoQBdwAAALEJd3HLtOFVf742uAUKfcWbY12zZLviR42hY1WctUwxrabZhWal2JR2pBP31fD44TTTvazBySu69YtJeMhLMxcz_E99YbxXe781BCYCab5ZzyeVWblcKVUoJ-zuzWdNLka2puviqeGFXQF02yzXQZ0LSij5nnmTB9wDRDl3s7TTEhBsFAtQlnvtj0D0xwshAcO3GhTFfXlAf0fVNCFrfEAUN2JlrzZENQ\", \"width\": 2988}], \"place_id\": \"ChIJ4ZM-A17BQIYR6GEbiv0fqjY\", \"rating\": 3.8, \"reference\": \"CmRRAAAA0S8bhOc5AkWCHfkYXa-8GTUlGY4JanIPmTlYfPWAGl3iEX9eaYNLKe6RSO8lNSFmnn9psfeWPY8-R8gfjAr0u6dFzgox9nh4x4OG9wg7OyfFnQFJba0VcHbFazmlGQ3LEhAkWcdb5kxLYW4qbs0Mym1lGhRgVsmkE-hBMRISasdiXPMjJPsREA\", \"types\": [\"general_contractor\", \"point_of_interest\", \"establishment\"]}, \"type\": \"Feature\"}, {\"geometry\": {\"coordinates\": [-95.4008035, 29.9623403], \"type\": \"Point\"}, \"properties\": {\"address\": \"18160 Imperial Valley Dr, Houston, TX 77060, United States\", \"id\": \"4d3095b9bb6426aacd6c3a9290d25e7a1271e552\", \"job_title\": \"geologist\", \"name\": \"Weatherford\", \"photos\": [{\"height\": 2268, \"html_attributions\": [\"<a href=\\\"https://maps.google.com/maps/contrib/103289608261407307137/photos\\\">KEVIN THOMAS</a>\"], \"photo_reference\": \"CoQBdwAAAFkUHqa-ujnW7m_GyRGOsFG5J2zTbQLlbhT0hFJD1W6oVuYrAVbBvQUjxPfyZYaPdBfsMznpVBkwljhPWsEQffrfUt1FZP781ZcS2dSz4z1sjhWfoy13wz2RuhXftdP04xiu8I5p1eEiucMmArsUtIbt1xI-OAOYi71SkQqi1f74EhB6bXxL2tCY1EOfBbm7r0ufGhQHId0-JKkc804PeKHtTtkUYl7y0Q\", \"width\": 4032}], \"place_id\": \"ChIJ0-giCwTKQIYRcRakt7fNf8Q\", \"rating\": 3.5, \"reference\": \"CmRSAAAAg1YoqU8G0Mvx4FMNxoA3twXlk20iaACySpBEAPk6wYCCXaKhSB8MaBhj7N5XeqWHELCUBvolDsarzM6v50xMGU-1Hax_5ue18KgRm29GABrj0w15DN-UUHRGK9hqj8BKEhC9n-bnAqSHI8AXVvcz3AbnGhQZbJrYst_4BFnMVfb1O_Xodzy_kw\", \"types\": [\"general_contractor\", \"point_of_interest\", \"establishment\"]}, \"type\": \"Feature\"}, {\"geometry\": {\"coordinates\": [-95.59471649999999, 29.8775974], \"type\": \"Point\"}, \"properties\": {\"address\": \"11997 Farm to Market Rd 529, Houston, TX 77041, United States\", \"id\": \"952ed47a8b304b500d4c7fa4b2f7acc9d81862d0\", \"job_title\": \"geologist\", \"name\": \"Weatherford\", \"photos\": [], \"place_id\": \"ChIJN6mSK2jQQIYRsomU7nEAtQo\", \"rating\": 5, \"reference\": \"CmRRAAAA-t6v6dX4zv_WrZqHf2TqiE3366W1QBzJE_Rw4vDukPPEi2Xd9FUT1d8As_530LtVxZuL-tgEIXrdReMXuK-NRlpP1fcc6HlwP5jLltUnTNOFx2tYsLjDC9jfrlTFgq7-EhBs8VeTJ4uNzFS0BQm9RBHsGhQ7ainQBAbT4n2AiK118M2zio1ihA\", \"types\": [\"general_contractor\", \"point_of_interest\", \"establishment\"]}, \"type\": \"Feature\"}, {\"geometry\": {\"coordinates\": [-95.50646259999999, 29.8392312], \"type\": \"Point\"}, \"properties\": {\"address\": \"4409 Clark Rd, Houston, TX 77040, United States\", \"id\": \"5897514914025020b16834cc3321b79cd91ddcf4\", \"job_title\": \"geologist\", \"name\": \"Weatherford\", \"photos\": [], \"place_id\": \"ChIJRavrVZbFQIYR-V3u4J6Px6g\", \"rating\": \"NA\", \"reference\": \"CmRSAAAAs0UsPlWE2YHivzNIhYeQOD3TfOHJVJhxSPpDZvIOb-FrRJ5zHwfDqMcT9nUkVZt0LhZikWEl83dLKmJMYQvOjENeJChA7IV1gkeoE5EgfWPO1KO5JW0Zj-3EfLz5X_5-EhBRBfg-qJMiazKTtLIZkuX9GhQvER37KjGNIJW6GmiByot2Kr6M3A\", \"types\": [\"general_contractor\", \"point_of_interest\", \"establishment\"]}, \"type\": \"Feature\"}, {\"geometry\": {\"coordinates\": [-95.38671629999999, 29.9536867], \"type\": \"Point\"}, \"properties\": {\"address\": \"16210 W Hardy Rd, Houston, TX 77060, United States\", \"id\": \"d8740eea0d7d20abe22e8ee366dc5c88884d8890\", \"job_title\": \"geologist\", \"name\": \"Weatherford\", \"photos\": [], \"place_id\": \"ChIJaSSBtgC2QIYR1MT_9TLRMdc\", \"rating\": 4, \"reference\": \"CmRSAAAAJeocjUCbVFNTrdH9o7drPGzijbHbjt6V8BmAJ9LHtw3NsL2CmIZx3y7LJOspnUzh-X5V2GTpAN8NsMbnYylkI1a74HAhCdn-__zo7drZTfn2G1e4pidmrztwGVUKlcrfEhBeSCmfWV3qsQ_HK5j7AbnvGhS3toK73knwKZ0kijFdJEahSjj0Vg\", \"types\": [\"general_contractor\", \"point_of_interest\", \"establishment\"]}, \"type\": \"Feature\"}, {\"geometry\": {\"coordinates\": [-95.5414947, 29.8793251], \"type\": \"Point\"}, \"properties\": {\"address\": \"9600 W Gulf Bank Rd, Houston, TX 77040, United States\", \"id\": \"1410b97b0d3e49fac99b37306c2f239edf2cbfcc\", \"job_title\": \"geologist\", \"name\": \"Weatherford\", \"photos\": [], \"place_id\": \"ChIJIYP0x-rPQIYRQkqUN2zvUVk\", \"rating\": \"NA\", \"reference\": \"CmRRAAAAv7RdhIoNfr9JmbOql7CSSVTJeJGLhC6PL6zgxR5bzqAeyhFugLsns2qIap-_VGjJJZ2-ySyFqzAFZAeZLqlE5jgz0SUbymucAPg9GUe6teId0ZIrjTOhRdLLps8wUb7AEhCm_Ggjv7O12huk9exoPvdAGhT3I0042XMYziX6EnPpMO7Ptz6gMA\", \"types\": [\"general_contractor\", \"point_of_interest\", \"establishment\"]}, \"type\": \"Feature\"}, {\"geometry\": {\"coordinates\": [-95.56310339999999, 29.86431019999999], \"type\": \"Point\"}, \"properties\": {\"address\": \"6550 West Sam Houston Pkwy N, Houston, TX 77041, United States\", \"id\": \"6af716c199aa85ab00b3099d81170d6589a15220\", \"job_title\": \"geologist\", \"name\": \"Weatherford\", \"photos\": [], \"place_id\": \"ChIJA--CRgLQQIYRlczuvd0DaDk\", \"rating\": \"NA\", \"reference\": \"CmRRAAAAnkhj-G6aip3CKIIRHwoeGEwezIyeCoiFJvOz-ndNVYL0ABj0g16nYU5MQb1qB8JqZaj1NCLu5oL-5bT2sbrObRZETpigUA2UtZ_hb9_7GPRbq5hRi7e5BBNAKEVRdgeaEhAU8TqO7vFsY2dVYm6wT0ccGhQ7g9Hz2dD4Ka-umaVuCzY1AtqiQw\", \"types\": [\"general_contractor\", \"point_of_interest\", \"establishment\"]}, \"type\": \"Feature\"}, {\"geometry\": {\"coordinates\": [-95.32106189999999, 29.95185230000001], \"type\": \"Point\"}, \"properties\": {\"address\": \"4420 Greens Rd, Houston, TX 77032, United States\", \"id\": \"0fea99fe6edf1976f5651dcee53a4c65b4b30561\", \"job_title\": \"geologist\", \"name\": \"Weatherford Us LP\", \"photos\": [], \"place_id\": \"ChIJb4d8jKW2QIYR9DvsxTaZDig\", \"rating\": 4, \"reference\": \"CmRRAAAAE7KQiY2CboLMMOJl0CKP9xFhkOsLaAFQ59I1K7NR8cirR4Cdsuaaa0_Yl7vQ8O3Ch_27HyqW-fsputd8kA3pSWb9Mh2Oea9qcPsOZ5hqyJLKARnsi-mNaQBlkwXm5pdCEhCO9NkkWOgph-EAaM3OYpCZGhRKCzJ_W-Z3jY5RuYaNi-aLyQpSaw\", \"types\": [\"general_contractor\", \"point_of_interest\", \"establishment\"]}, \"type\": \"Feature\"}, {\"geometry\": {\"coordinates\": [-95.64149499999999, 29.7802045], \"type\": \"Point\"}, \"properties\": {\"address\": \"15995 N Barkers Landing Rd#275, Houston, TX 77079, United States\", \"id\": \"487c0f4fad0c96f92333e8445ffb7df4bbdd794a\", \"job_title\": \"geologist\", \"name\": \"Weatherford\", \"photos\": [], \"place_id\": \"ChIJgWVOPeHbQIYRD310QFCTldM\", \"rating\": 4, \"reference\": \"CmRSAAAAU8keogqpVAUHD7AWz0F9ITOARy1r6Ur0lOQDrylQBdt68ymc6GUAUa5DFRfX2dwioFwKMU5aW33yFD2IzXDb0u101gC_CF2r0q82l1EMdpffDlJ-_pduvMFE3N1W--dGEhCA2GDT0fYmCAXQm5bssb0QGhQrEWUn-rYUH6ZMhaeKV3jADFRm_w\", \"types\": [\"general_contractor\", \"point_of_interest\", \"establishment\"]}, \"type\": \"Feature\"}, {\"geometry\": {\"coordinates\": [-95.46547729999999, 29.82209649999999], \"type\": \"Point\"}, \"properties\": {\"address\": \"5151 Milwee St, Houston, TX 77092, United States\", \"id\": \"7c57cdc787545fb5cdaa2ec867964d2a4a03a214\", \"job_title\": \"geologist\", \"name\": \"Weatherford\", \"photos\": [], \"place_id\": \"ChIJf8uI6mTGQIYRT2uM5UPk9Rc\", \"rating\": \"NA\", \"reference\": \"CmRRAAAAp3nIDNOuuZsVDZUKZhANxArKQQbabBka0V4E2Kld6_UtXxN8qao36-BosQjkaIZr-i_NKpm-fvF03DPGXujYnHD9HQKpNJIKDz42-wdo2bPVN6OQa_RL6YmhOziPZt65EhDtLw7BtIwuFGwMjVqN_6N4GhQjnParM6cW-G317chu0lwMM-O-AA\", \"types\": [\"general_contractor\", \"point_of_interest\", \"establishment\"]}, \"type\": \"Feature\"}, {\"geometry\": {\"coordinates\": [-95.5687557, 29.8280322], \"type\": \"Point\"}, \"properties\": {\"address\": \"3600 Brittmoore Rd, Houston, TX 77043, United States\", \"id\": \"292fb3ea5cda6a1e89be2a7e1edb634766ad609d\", \"job_title\": \"geologist\", \"name\": \"Weatherford\", \"photos\": [], \"place_id\": \"ChIJYxAfN8naQIYRx5yd_B1HBy4\", \"rating\": 4, \"reference\": \"CmRRAAAAj6kpiwfDhdpU4xO_jhItviA-VK-xsI76T8V3mOFCt6tVJO-zjPH1WOl-0xP1EGZ37flL3gl7oDhQm_9zM_YOhQLR5MROW5t43VxYarA8So2HW5O00mXoYidGsT17t-TdEhBWZza9es0FtzyXvQ9fA_UbGhR4raL7nfJPESqs_v5CZIg9PwJKJA\", \"types\": [\"general_contractor\", \"point_of_interest\", \"establishment\"]}, \"type\": \"Feature\"}, {\"geometry\": {\"coordinates\": [-95.3308448, 29.9467059], \"type\": \"Point\"}, \"properties\": {\"address\": \"15710 John F Kennedy Blvd #700, Houston, TX 77032, United States\", \"id\": \"8c57b1d23f4bbd0979cfdc9220021c397e740316\", \"job_title\": \"geologist\", \"name\": \"Weatherford International\", \"photos\": [], \"place_id\": \"ChIJ8QvAT722QIYRFoA0kAAlp_w\", \"rating\": \"NA\", \"reference\": \"CmRSAAAAZXryF4e6y1BLozdnMdoVPv3zIWkeT8d1FjJaiZa0avqKA-qtVIwQd6rAI3YkmYBgPzxmi5Oq8KMDl1WO4rxHbXbiLy7qH3V5aWWfDDo6mWL95nkicFs838GmJAMgLIFxEhC8DITwAz4GIN3Dd_GH1_MKGhS4qpkH01Wi_iy9Qj8ourRmXRgQxg\", \"types\": [\"point_of_interest\", \"establishment\"]}, \"type\": \"Feature\"}, {\"geometry\": {\"coordinates\": [-95.49729029999999, 29.9313766], \"type\": \"Point\"}, \"properties\": {\"address\": \"10655 Bammel North Houston Rd, Houston, TX 77086, United States\", \"id\": \"ac2948f51dcbeb1d0caac8d3e79696ff62bb54df\", \"job_title\": \"geologist\", \"name\": \"Weatherford\", \"photos\": [], \"place_id\": \"ChIJ97T_sb_OQIYR3VDC1vCO01I\", \"rating\": \"NA\", \"reference\": \"CmRRAAAAE76pqgyOJN_IpUjSVkeQyDMjtR0H4OZ7Wmu2OUrVP4HGaAQXiwPNUXa_0dnqdZMT6CmRkEkk5MlrTmecIO0rzlOPfgWh6sn54h8c0QjJuPhClTfM0vB-8CoM-Ol89O5pEhCpqaekiCydnLUiCV2dTdUqGhQ5r04kwX9tLifMzsG1PpCPHhnbvQ\", \"types\": [\"general_contractor\", \"point_of_interest\", \"establishment\"]}, \"type\": \"Feature\"}, {\"geometry\": {\"coordinates\": [-95.5036944, 29.9384892], \"type\": \"Point\"}, \"properties\": {\"address\": \"5200 North Sam Houston Pkwy W Suite 500, Houston, TX 77086, United States\", \"id\": \"c35235ad15c043ae6d3fa786e635bdc00ba7e525\", \"job_title\": \"geologist\", \"name\": \"Weatherford Labs\", \"photos\": [], \"place_id\": \"ChIJbarkM5fOQIYRtdFDh1I4Ibw\", \"rating\": 5, \"reference\": \"CmRSAAAAH9Mukgmsk7StTBpws9GKPPQnIcUBh_fWcmvEIXmH4Ez23dfqYI1uMkv-e_2Rl1F2I_us3TTap7WenxG2IlBEoZG-78vqxGElQBdh7QJCxPC3RRUGhuCQQF9jAh1zUSfwEhDZ_X8htO81DKQAlNLlRGl7GhQ5-e-j6Sn_ESNyknwXycz4mSidUw\", \"types\": [\"point_of_interest\", \"establishment\"]}, \"type\": \"Feature\"}, {\"geometry\": {\"coordinates\": [-95.58365099999999, 29.87864769999999], \"type\": \"Point\"}, \"properties\": {\"address\": \"11909 FM 529 Road, Houston, TX 77041, United States\", \"id\": \"34a35815f125719e685a25e281877fd0f3e707dd\", \"job_title\": \"geologist\", \"name\": \"Weatherford\", \"photos\": [], \"place_id\": \"ChIJN6mSK2jQQIYRkXRkecpsqOk\", \"rating\": 5, \"reference\": \"CmRSAAAA_RhQ4VNwdnRGWmgBoC5AGqailMLV3RPkolV7pHTbC_YFZ0qQ5gPlRg9DF73_qaO9RyuzG8wAAKDITHsmieRKlOe3uCQ0MqveAxJRjpHJO_rVV6X4Cik9Zel_SDjJGMULEhBQ1msakpPSzyl-HmjOU8cVGhSQVumb_UB_5fbd-0TmBg2d02LwYg\", \"types\": [\"point_of_interest\", \"establishment\"]}, \"type\": \"Feature\"}, {\"geometry\": {\"coordinates\": [-95.551149, 29.9230152], \"type\": \"Point\"}, \"properties\": {\"address\": \"8845 Fallbrook Dr, Houston, TX 77064, United States\", \"id\": \"6012e90f06cdf2fc9891b68f8e37c07102fc4043\", \"job_title\": \"geologist\", \"name\": \"Weatherford Labs\", \"photos\": [], \"place_id\": \"ChIJhSfAKyPOQIYR3TfWmiitgdk\", \"rating\": \"NA\", \"reference\": \"CmRSAAAAz4i4qja7vMqqr-7MgXyLvNpjiQgisbf0VX7AuLiIxfeEuDweRx6Lsp4Sat03vZkClRUdpLmkIa0_lBf6hsV4VKZu7e1AYmNCQxUxc5zOU-EEteWYLzijiQ5sqJPctwIGEhC4rJcYFodYjPVQ08RQyfYJGhSF4MzUPFoCZmo3ZneDIvhkQVrpCA\", \"types\": [\"school\", \"point_of_interest\", \"establishment\"]}, \"type\": \"Feature\"}, {\"geometry\": {\"coordinates\": [-95.48866699999999, 29.9435503], \"type\": \"Point\"}, \"properties\": {\"address\": \"4420 W Greens Rd, Houston, TX 77066, United States\", \"id\": \"a0777591ff05d81829fbccf25c638ff0202494cb\", \"job_title\": \"geologist\", \"name\": \"Weatherford Wellcat\", \"photos\": [], \"place_id\": \"ChIJ7aT18q_OQIYRQVu3YUEkW8E\", \"rating\": 5, \"reference\": \"CmRSAAAAxUu6tJCokXKCYSFkV6z-xNtg7LQJLtISQncmYKfJLKeQgCGsCZaRc-X_jZYwZXwbrIKFt0-s4ZZIYCWdWu-XFuovSqBvp0aeFQD68Niq5zvA4bCHD0fw3TNn84kXMSZyEhCWLNk4PXaZ_l52A4TUJAHSGhSPpd_MRHP_TFjXkgzre-_p3sBAQQ\", \"types\": [\"point_of_interest\", \"establishment\"]}, \"type\": \"Feature\"}, {\"geometry\": {\"coordinates\": [-95.66870100000001, 29.786041], \"type\": \"Point\"}, \"properties\": {\"address\": \"16430 Park Ten Pl, Houston, TX 77084, United States\", \"id\": \"1b41b81f14c05bef0bfa7b4b15ac1b253556cb23\", \"job_title\": \"geologist\", \"name\": \"Weatherford Us LP\", \"photos\": [], \"place_id\": \"ChIJK2PrHBXZQIYR5_WIovzEWWQ\", \"rating\": \"NA\", \"reference\": \"CmRRAAAA-LE8ZNBEWga1g4nl6aewEOC63X4weBuzXZfBP_ncu868gRFBpMh2d9IFiI9Vke3g45BD5Rdi3yQWSCnQ23epZp9jF256dbnkJF6ithZmGx_Za1Wicx9KVnCa7b6sVu8jEhCuoUxauaL2MdKhydWMVWaQGhS_K_q73KRVOHW0PD_rglNEyFVa7g\", \"types\": [\"point_of_interest\", \"establishment\"]}, \"type\": \"Feature\"}, {\"geometry\": {\"coordinates\": [-95.0431184, 29.6908544], \"type\": \"Point\"}, \"properties\": {\"address\": \"11931 Hwy 225, La Porte, TX 77571, United States\", \"id\": \"e655333b194bd940ac7bab961f2556d75d128a2d\", \"job_title\": \"geologist\", \"name\": \"Weatherford\", \"photos\": [], \"place_id\": \"ChIJRe9oNwpgP4YRQAHsNXMU0vA\", \"rating\": \"NA\", \"reference\": \"CmRSAAAA7k2EZYd-RdkoBqDHxlKFjmJo4o6xvy5_aUu-qOuggUhl0Z7xJM0C0Jz-x7wvzZZgqXY4ctp2miwkLt3uxFPcspjDJOsGV3WN_79AANShm9wMGbsAqOcKzrN44d92cBczEhDpu4kyU824d6vNeymeSSK_GhT7RsDHNde1QASe7fk8s_Tj2tg58A\", \"types\": [\"general_contractor\", \"point_of_interest\", \"establishment\"]}, \"type\": \"Feature\"}, {\"geometry\": {\"coordinates\": [-95.2559629, 30.0674877], \"type\": \"Point\"}, \"properties\": {\"address\": \"22001 Northpark Dr, Kingwood, TX 77339, United States\", \"id\": \"1cf42089a61995ee434212bf913c60fbc8b01cd3\", \"job_title\": \"geologist\", \"name\": \"Weatherford\", \"photos\": [{\"height\": 3264, \"html_attributions\": [\"<a href=\\\"https://maps.google.com/maps/contrib/116976098361550939190/photos\\\">Texan country75</a>\"], \"photo_reference\": \"CoQBdwAAAIexoitk8M9w2hS6zfGzOieEq3nqIbGqepUN6StOZKPJRUOHB3_4GsbEyusC780j7DfeJP3rkd5cq9oTvNwYBvmmpghqdoNmOpv5Y4d59qPrtYdsFSm88kiwfi7ql-FpHtsCDXDuAMAczg6EuCwLjEqpjAVg3tV2myUicO8t0A1SEhBAPhKzFOzN-kkqIXv1UiDOGhRcnApF5LSWVTS3gIH-ZpQf4Bf8Hg\", \"width\": 1840}], \"place_id\": \"ChIJ9_DxATtNR4YR5x9qO1Lvfsg\", \"rating\": 4.5, \"reference\": \"CmRSAAAAYUzVg2CUcygjvph7qTJvlrlgVDHSrYQJs81mrB5McbVhk5p5VGdFcbeVqO3p_ffZa_6pL-Idsb1W1vawbMGH_lK1geh5q6xNoYq8gJPtL7lfyJ7sBcb6ZQnnXzIfDeAOEhBc7gPQpaYLI8wtmI9cCxjOGhSDGKjfu8IHqW04G-wYujXKZdXj5g\", \"types\": [\"general_contractor\", \"car_repair\", \"point_of_interest\", \"establishment\"]}, \"type\": \"Feature\"}, {\"geometry\": {\"coordinates\": [-95.35959799999999, 29.766005], \"type\": \"Point\"}, \"properties\": {\"address\": \"1 Main St, Houston, TX 77002, United States\", \"id\": \"bbf863152c3e55a67956f9a69a36bfe8822bc16e\", \"job_title\": \"geologist\", \"name\": \"University of Houston-Downtown\", \"photos\": [{\"height\": 2988, \"html_attributions\": [\"<a href=\\\"https://maps.google.com/maps/contrib/113673164458451850004/photos\\\">raul medina torres</a>\"], \"photo_reference\": \"CoQBdwAAADSJgR0e_422_TiGdlxtjt1rtQXsPJgAHo8Jtx27FkSby9v8F9wdZcgCZBjPMm-Hb881HUcn9UGHrK8RSu4d-FQ14ve8MxdLF3knCcQFr_o8inw-Pz_UC1za6jXJc0BBRHrsBYrYgdiZqfyfCJQ6oKqhc4L4xO0vcWEr1A-Yfxu8EhDubUsI6D6AzipQAdeJqdDvGhQ-M-x8NTuaXAdYYyuq78OwY8DOGg\", \"width\": 5312}], \"place_id\": \"ChIJ0_q_Zyy_QIYRVx8D5OgE30I\", \"rating\": 3.8, \"reference\": \"CmRRAAAAMOVz-tXms-BIcZRPpwhfAjOeO_iXrL2_W_j9zz4TETzKaUWx6OzBHzYOoypCHfrz9kOrf5p42eUylWVMCyuTe27dSJxdU1zkzrIKQigORKGx-xbRaONwhYbWXjeG0nRoEhCXsMXGuifB2Z_7TWMndTBPGhTlBxqXuSlm3kmhnbDKoF2sbZ35xg\", \"types\": [\"university\", \"point_of_interest\", \"establishment\"]}, \"type\": \"Feature\"}, {\"geometry\": {\"coordinates\": [-95.372164, 29.757501], \"type\": \"Point\"}, \"properties\": {\"address\": \"333 Clay St, Houston, TX 77002, United States\", \"id\": \"795a3515ff023985c96d55d60c8eefcdc6c9ee0e\", \"job_title\": \"geologist\", \"name\": \"Jefferies\", \"photos\": [], \"place_id\": \"ChIJe81fkji_QIYRhzwdUhh-ygw\", \"rating\": \"NA\", \"reference\": \"CmRRAAAAc74n0EieSy54y0Clj7wfUW7a73AGlVaZwrWAMbnx0aB7NysWIV-12AVj-E6c2ODiAPHd-x08-DiTjYU0rRlv2e91i23_xzENf9_YmKJNoJlaPuONKjYBx3_o8L_eS_xcEhB7UZqFc-fWskDOunTUP-j6GhRpfk7Fc24rtkFWUtexid_ysgnQFg\", \"types\": [\"finance\", \"point_of_interest\", \"establishment\"]}, \"type\": \"Feature\"}, {\"geometry\": {\"coordinates\": [-95.36392040000001, 29.7558061], \"type\": \"Point\"}, \"properties\": {\"address\": \"1001 Fannin St # 1500, Houston, TX 77002, United States\", \"id\": \"f9c309a151d083c3d995d8e59499778d8c495ccd\", \"job_title\": \"geologist\", \"name\": \"Oasis Petroleum\", \"photos\": [], \"place_id\": \"ChIJr9ZsYDu_QIYR4jOwJRL56Zk\", \"rating\": 5, \"reference\": \"CmRSAAAA350wzGI1FySOvQ6o6--8GKvko4OhSxOgxQPNj_PTQ55DFo3ltUB_UVlj635N7W4y8dycF0xdWyXRL_vhKIgh2HhudcWqvHY4solXjTtwnyFlbXGCVnPpSC5mGQDDxH3sEhD-7bxyOsyiO3fKDjyCd0QIGhTjUZsk3339pBXMAKn_z6rXWTo2XA\", \"types\": [\"point_of_interest\", \"establishment\"]}, \"type\": \"Feature\"}, {\"geometry\": {\"coordinates\": [-95.5015712, 29.7513106], \"type\": \"Point\"}, \"properties\": {\"address\": \"1616 S Voss Rd #1000, Houston, TX 77057, United States\", \"id\": \"a626299a58965fab800792adff33c7961eae6309\", \"job_title\": \"geologist\", \"name\": \"Hart Energy (Oil & Gas Data Provider)\", \"photos\": [], \"place_id\": \"ChIJRzKfmJPDQIYRcAIeSuMCH3k\", \"rating\": 3, \"reference\": \"CmRRAAAAtP5aP6gYlDTy4aIe6wldihGrLMvrGsiSusxGYHHlI3seDYG_6V2PzRXUj7m7IRBFB6cgaSLQ75ODpRNDzu42X26OrF2gNcqS6bmd0Q2e7o5gbsZ1O0GOpPrLrZ4p03esEhBFAxauykFXbxf06JHe-ypBGhT_I_41KcLWmcgLyZLwF9g4tkqTfg\", \"types\": [\"point_of_interest\", \"establishment\"]}, \"type\": \"Feature\"}, {\"geometry\": {\"coordinates\": [-95.4628465, 29.7338536], \"type\": \"Point\"}, \"properties\": {\"address\": \"3050 Post Oak Blvd # 1640, Houston, TX 77056, United States\", \"id\": \"eb737b548075ce9fb5a7b7cd19dec9171f0ee698\", \"job_title\": \"geologist\", \"name\": \"Sinopec USA\", \"photos\": [], \"place_id\": \"ChIJS5y97nHBQIYRbb2dw19hKiM\", \"rating\": 5, \"reference\": \"CmRRAAAABXhns3hxbM46_NvUFHyyox1Aewhx3ILtMemu0idJoXTAF-1qDJz8eyffvyDuzeLSUEenbIOYHs6wicZhpIv8c75F1RqI3SOnb4Ocfhun2gK6m6sJVkqRTJkYe6rHMs9gEhCvkk4Z9D4dcq--frcl2Fd2GhQh8PVZqO_OO4KR0fOVmrsstj6RIA\", \"types\": [\"point_of_interest\", \"establishment\"]}, \"type\": \"Feature\"}, {\"geometry\": {\"coordinates\": [-95.46350079999999, 29.73921199999999], \"type\": \"Point\"}, \"properties\": {\"address\": \"5065 Westheimer Rd #1100, Houston, TX 77056, United States\", \"id\": \"5e9393654923a4ebf381bb69db381436c29a299f\", \"job_title\": \"geologist\", \"name\": \"Citi Private Bank\", \"photos\": [{\"height\": 4030, \"html_attributions\": [\"<a href=\\\"https://maps.google.com/maps/contrib/117652267326695258138/photos\\\">Ramesh Potti</a>\"], \"photo_reference\": \"CoQBdwAAAONZPxaMIoYvhgc0JOgRoWD1JzCGGRguCvhKqTdSp85zEHK5DYLhAEEB3xVmkN5YOehh-iaV6g3kJ2sPBkV0V-azLok-9pkRK_Yl6jn69VN4NlSPlmXdXFur2AcbV1R4a2CbqOvLA-w1YKdIUJj9t2cI7fl2Vdg8DJbHO183y9y5EhAxZ_O2pPqBx10sWqNO_wZ-GhTYHkaYbz3azHI-wuIKmPKLR3Rcag\", \"width\": 3024}], \"place_id\": \"ChIJFc2ux27BQIYRk9iQ3cBYcVk\", \"rating\": 2.3, \"reference\": \"CmRRAAAAyoTZEenQGK9IzV2qe833wGrgbh0zLWQ4eVfVptBySgqXEile5RCoXUIwmVh19ZQGGR0JJFZj-4W2Na_VPaWWiXfCktfDIOwWO9nco7-krK4zLdYAzTYkvar43dYpfKmSEhC8QzNo92jBBEqM97HefQtkGhSZnUS76w6UQxzFYkSso3vzjywxug\", \"types\": [\"point_of_interest\", \"establishment\"]}, \"type\": \"Feature\"}, {\"geometry\": {\"coordinates\": [-95.47219989999999, 29.7496917], \"type\": \"Point\"}, \"properties\": {\"address\": \"5555 San Felipe St, Houston, TX 77056, United States\", \"id\": \"23d714827e55b6e7eb16a5d356a0feb120360633\", \"job_title\": \"geologist\", \"name\": \"Marathon Oil Company\", \"photos\": [{\"height\": 2988, \"html_attributions\": [\"<a href=\\\"https://maps.google.com/maps/contrib/114653147413229085324/photos\\\">Patrick Winham</a>\"], \"photo_reference\": \"CoQBdwAAADY2mXH1lW7qDL0JANPuj02re6t4Y8MqKSnrZZt-XNbA8xCdK9mX6h1qvP1gfZihrnDmhccg2NFxR4anntR_oYJ7I50jqd57rzpf_qev7LKCcvCtPNxuby7OWSr1H-tiBsI04AmkypJ3bM1rlO8QnsrJnrwrVrNp87283a9dcZdLEhDZuinjemQ0iQmNZYXwfwwnGhSJjZvtb03xyfic4cGfJas0gBPVtA\", \"width\": 5312}], \"place_id\": \"ChIJieWsJFzBQIYR4INe7XAsF-g\", \"rating\": 4.6, \"reference\": \"CmRSAAAAV3cswHCrAwhbPwtB9qF1qyRgfbSNdf7KQj9d5XZLhFTSD7-A8M1_pvv_k_sgnBqotw8Qah9yinpqOsothYAHBIgRA8Lgmvd4G28I4cIb2ozOaLC3elhUEz27QnVYxImEEhAaJYx51Bhh1WwGhNl4WLZ3GhR5FvIB37oo1OYqH5Y8gZwXqYrJEw\", \"types\": [\"point_of_interest\", \"establishment\"]}, \"type\": \"Feature\"}, {\"geometry\": {\"coordinates\": [-95.3699286, 29.7699427], \"type\": \"Point\"}, \"properties\": {\"address\": \"PO Box 3128, Houston, TX 77253, United States\", \"id\": \"18997b37423029430e68e14ec02f1e975aa3a596\", \"job_title\": \"geologist\", \"name\": \"Marathon Oil Co: Chernosky Alvis\", \"photos\": [], \"place_id\": \"ChIJ64XB-DS_QIYR3wBPmVSvPQ0\", \"rating\": \"NA\", \"reference\": \"CmRRAAAAWUAEMUOoqcOk1nSaWS60Mt8wOkfRjzsm3H70fFo2ZDiNy3AQQ4hbxj_CbnUGet6LHVOYtP9OYVdCqoWBTCnWRcDtwaKzvrzE1FYdCoJC8P-3AWAuZ-ppzpWRq3reszmLEhCtyNbWeLM3ITP4S_NSVYRCGhRDuyVT1G4gG9EM_28L68GUtgAN4w\", \"types\": [\"point_of_interest\", \"establishment\"]}, \"type\": \"Feature\"}, {\"geometry\": {\"coordinates\": [-95.3911105, 29.9585878], \"type\": \"Point\"}, \"properties\": {\"address\": \"1030 Regional Park Dr, Houston, TX 77060, United States\", \"id\": \"591b862adf844e6fdf249a003d16efa649ab42b1\", \"job_title\": \"geologist\", \"name\": \"New Tech Global\", \"photos\": [{\"height\": 556, \"html_attributions\": [\"<a href=\\\"https://maps.google.com/maps/contrib/105073521963953436703/photos\\\">New Tech Global</a>\"], \"photo_reference\": \"CoQBdwAAAGPUYHv_ZCz8m4omlYnrK0JRgvUo0fxUxMSAjcwAUDG_S3NNJI47WXoHeHKJ2bxXcyWujZtY1nFFBd29e8CkdAL3IGeCbKJ4T1IlaYm7-wI8Y9Ry7AMvF24w142KycdT5rh2LSIbra93oe35Hkrc24iOQ3W2IvYFQi-GeVuziFRSEhCOwnNfg4eE2ZCN9qITQfKRGhQpz-e_0Gy6LEDRT4PcpkhtUV0ohA\", \"width\": 1186}], \"place_id\": \"ChIJRQuoTf61QIYRrrCBvZ7uOWs\", \"rating\": 5, \"reference\": \"CmRRAAAAkfKn0653AAq2C6hg3bFS1Z70wdB3u2fE5gLHlhcPbeWrs_DOEntaeM3PFPtRjC59QK0YvAzbn8vlmcFkStpXa-yA86L1nOfwUd4Mu782g5yYCzxaYvD9L-PiWYWa5HcFEhBGJSg3iQaJaE34Vh7Nf2tfGhSRjbsV5lld-N0MSoGkhBgBofWtFA\", \"types\": [\"point_of_interest\", \"establishment\"]}, \"type\": \"Feature\"}, {\"geometry\": {\"coordinates\": [-95.4659039, 29.8679352], \"type\": \"Point\"}, \"properties\": {\"address\": \"4141 Victory Dr, Houston, TX 77088, United States\", \"id\": \"90b73098291a8e90c04f33a8c85477dfcd26379d\", \"job_title\": \"geologist\", \"name\": \"Lone Star College System\", \"photos\": [], \"place_id\": \"ChIJqaVfqaXIQIYRf8PTc49aphc\", \"rating\": 3, \"reference\": \"CmRRAAAAtCwhe0PKqWt1glW5_3JXD0tjwgLHkfxH1TUneThawhq9e5LS7wSE2jdujvgTza-uyqSzBe77uHnNkPiqHXHH2ZWBf_gSVoxA-wZL6kL-3_kgfHKiP5VD4bKVY8B1e3FDEhAHdVgCOnQeq12KhuA-wflxGhR1nb2f2QSZWGVSWfFn8IDezDTfxA\", \"types\": [\"point_of_interest\", \"establishment\"]}, \"type\": \"Feature\"}, {\"geometry\": {\"coordinates\": [-95.37974109999999, 30.007182], \"type\": \"Point\"}, \"properties\": {\"address\": \"2700 W W Thorne Dr, Houston, TX 77073, United States\", \"id\": \"50e8c3703dd49384cfecda9f52ac2537c832cf50\", \"job_title\": \"geologist\", \"name\": \"Lone Star College-North Harris\", \"photos\": [{\"height\": 428, \"html_attributions\": [\"<a href=\\\"https://maps.google.com/maps/contrib/106036001858778134743/photos\\\">Lone Star College-North Harris</a>\"], \"photo_reference\": \"CoQBdwAAAL3BG4OngxKOkafHj4giftyjYQiXTRhg2ayjPlg2ubBk5tWmb7qPEecuscL8bH1oIvVP_ni5ByVeqFi78jW4l8312jgVZzmwraHR8Elk0RyoQA9VnXtUNilUVm66pFtSrOTnsmcoep2mqHGghv9ZOEW5dxp4-amoFBPKN7uh3lzNEhC_baluH4gRhR5Yo_nwe8pVGhTQak3ToUQZlsNlJ57q26_Ktc_Vpw\", \"width\": 640}], \"place_id\": \"ChIJFwwy8Xa1QIYRMJtJ9403tZg\", \"rating\": 3, \"reference\": \"CmRSAAAAPthq35X4iwi64ysBZOtfMKNRdyDJeyqViPyn3EzQaH_8ZKGQoNKbSLGlU3U9mpWqfJKt6s7S0jB0r2zp5S9qo9Q7W5LVHKFHnWkQHavZR-S2HQ2-hg3lvwlZWzR_hX9hEhDf8j1M3EOQBjHB2KAb4l13GhQsJG5a750VqxjzYbqv-qlVYK9PJQ\", \"types\": [\"point_of_interest\", \"establishment\"]}, \"type\": \"Feature\"}, {\"geometry\": {\"coordinates\": [-95.48802210000001, 30.1872936], \"type\": \"Point\"}, \"properties\": {\"address\": \"5000 Research Forest Dr, The Woodlands, TX 77381, United States\", \"id\": \"c4fbb88cbef4056a453a4e050728b4b6b1f46539\", \"job_title\": \"geologist\", \"name\": \"Lone Star College System\", \"photos\": [{\"height\": 3264, \"html_attributions\": [\"<a href=\\\"https://maps.google.com/maps/contrib/113764785255023487240/photos\\\">Victor Brazon</a>\"], \"photo_reference\": \"CoQBdwAAAN-IxcBLceBxyTzWM6KWLk15jS9_jGq9mBdx54BFWPKPWR6iBJmz73qipGUpkZZZI2V_kIc913DbG36-sFtIRbm7sB-hEpEAr-oXWvkjp1qMcq7z48tcX30Rmn4aZCtXU3hJs98XNhSsYn2IDmcuA6muVhECf51ycXVzOXXypssdEhBse2sDG6hp6XMS0zxtLcdTGhTQP7Fr9FR4kF7oSIJD4M4ZAaZC4g\", \"width\": 2448}], \"place_id\": \"ChIJz5LplNkwR4YRI8q2M1XhwqQ\", \"rating\": 2.5, \"reference\": \"CmRSAAAAlU1LhDvhqB4Q2yvgq7FPew0l8_rs3Mm7to8ZMtXvqNlCymMDc_Y2IvBBrOf02vST7nVh4UM-D5Up_IP_MQcytTc_MWw6FnPRrNxC7QRM6a52ajTfLj74P-Ps46oeXJT-EhDefvmK972PdZLsRk3GZAPIGhTOc5EcSHcq36g5Lfu2VrxdBo6kdw\", \"types\": [\"point_of_interest\", \"establishment\"]}, \"type\": \"Feature\"}, {\"geometry\": {\"coordinates\": [-95.6012956, 29.7881337], \"type\": \"Point\"}, \"properties\": {\"address\": \"12141 Wickchester Ln #200, Houston, TX 77079, United States\", \"id\": \"3cdf19db1aed68ee6eb0cb60d82ec77206b1eb4d\", \"job_title\": \"geophysicist\", \"name\": \"Geotrace Technologies Inc\", \"photos\": [], \"place_id\": \"ChIJE5-yOvzbQIYRJdZ1RfRAxzc\", \"rating\": \"NA\", \"reference\": \"CmRRAAAAChaQHV1AdPTv4Km5z6XZZBX8lHApJoGardEx6Z_QtDQMrB47GGa_e3jsNGWowTgeigPIxnW_IsSSoK0Sv54NivLgj1-YXGgVFTVZCij9FnF-o02JONh0H4ZMnXnlBgSCEhBIq7pNr0lLQ3rUjWCIYZeSGhQcUhVwrUVweA660F_B_HC8KMxUPw\", \"types\": [\"point_of_interest\", \"establishment\"]}, \"type\": \"Feature\"}, {\"geometry\": {\"coordinates\": [-95.5438387, 29.7776847], \"type\": \"Point\"}, \"properties\": {\"address\": \"800 Gessner Rd #170, Houston, TX 77024, United States\", \"id\": \"91282085c6930276af6f7e2abf1ee0e0fc18432c\", \"job_title\": \"geophysicist\", \"name\": \"Murray Resources\", \"photos\": [{\"height\": 683, \"html_attributions\": [\"<a href=\\\"https://maps.google.com/maps/contrib/106500950429449697681/photos\\\">Murray Resources</a>\"], \"photo_reference\": \"CoQBdwAAAImgt2YBeinBolRWpSmlrDzcMe0heRO7PsREVXkalDo2qon0OfYcJ_g6RhQbTNyGhPm-BdCDxyAKIV-Ob3wBnshV_z_YOHXPa2menY-Lx7Ra7uCi9dd_uW020-xy7AtSAI3Nwh2ET8wRpPuFV7GSx_X5qFfOoFxDKygD0e4bIEdtEhANilhLmBAKKjOhjQUt3g8tGhQHFFtZsg-o8oUe4AyQ7HADQvKhqA\", \"width\": 1024}], \"place_id\": \"ChIJRSYpxLzEQIYRsKFA9Ahm-Z0\", \"rating\": 4.6, \"reference\": \"CmRSAAAAxQTedU7_eyvjR1-YXlw05Ts8EteidP5DrDe4-7lqdXuy_P9M7tJMOekXht1agy4fyrS8a7mB94y4uA4cZK4so7y-rwhhX3ceHoON0Zq84xYDVpCpSmCcsKDkzOGvH_vdEhCazJXvSwizPpaGQN7dZs0_GhSGM0OhOxuuRuSx5nI4--lJdBV3Kg\", \"types\": [\"point_of_interest\", \"establishment\"]}, \"type\": \"Feature\"}, {\"geometry\": {\"coordinates\": [-95.3599019, 29.7546294], \"type\": \"Point\"}, \"properties\": {\"address\": \"Hess Tower, 1501 McKinney St, Houston, TX 77010, United States\", \"id\": \"04c70c4a3d18050ca437bbaedeca70bd9cb01927\", \"job_title\": \"geophysicist\", \"name\": \"Hess Corporation Exploration & Production\", \"photos\": [{\"height\": 1454, \"html_attributions\": [\"<a href=\\\"https://maps.google.com/maps/contrib/111482964284093817946/photos\\\">Sau Hei Lam</a>\"], \"photo_reference\": \"CoQBdwAAAE5-HLy2zHttUE50SckJ8MCbOk7aZALo1QQ8rsj2bQmZCSNh2GMohFSbF5VnH-3AkEum8k102xqDi-ByX0xOQkFa1HfO36jJDQz-mHaqRf8PZoiTsmwglC5CKvhbn-pExmigO82nb1W1ScGSixUt_WkgNE42vGQa3EoiBvpztBNhEhATUCRvns_JfE2pveCL95UqGhTF6Bf7H2xVHE5JYVs1WONZDOdrqg\", \"width\": 2161}], \"place_id\": \"ChIJfy2iBDm_QIYRjgKEE3GFL9Y\", \"rating\": 4.4, \"reference\": \"CmRSAAAAFQ1b8Pj1CGhfZY4dVyuIrI-gUgcr8DY-PdIeoQeqnA3I6H0RFeDvcZE0PHqf56a_6ZsEQFbGXfVOlf54_bYhEkhjY9EGsoQuzUs1xLLk2vq7JMaXlAQqSdHqTbTRqR7cEhCOu14Ryaf_U-Bcteo9op7XGhRQGlBuj8AbGVHx5sp0x3ljXyZQTA\", \"types\": [\"point_of_interest\", \"establishment\"]}, \"type\": \"Feature\"}, {\"geometry\": {\"coordinates\": [-95.4574449, 29.6839704], \"type\": \"Point\"}, \"properties\": {\"address\": \"9009 West Loop S, Houston, TX 77096, United States\", \"id\": \"2795a232d6e43ce11fa01f15cf2d6001916581de\", \"job_title\": \"geophysicist\", \"name\": \"Aramco Services Company\", \"photos\": [], \"place_id\": \"ChIJ4-bQE-fBQIYRMJKxqTjw_Wc\", \"rating\": 3, \"reference\": \"CmRRAAAAn_tYgY3I6UcgD-e-Cqa7hdUvz55YYwnm38mxet2qhOc49H5H_WDzhIDzt9MJZBOlZ65pNBMX7U4EzFNfdsnjElFNmCfnP0DNP5bNcXt9veZMMNgJDiQzlzS9Y1AFbVDHEhC8AvTqHNzEQ7ghXVllSsTJGhTdzYS2ipKFTsZ0eMswC0DN6Tlj0g\", \"types\": [\"finance\", \"point_of_interest\", \"establishment\"]}, \"type\": \"Feature\"}, {\"geometry\": {\"coordinates\": [-95.4628465, 29.7338536], \"type\": \"Point\"}, \"properties\": {\"address\": \"3050 Post Oak Blvd # 1640, Houston, TX 77056, United States\", \"id\": \"eb737b548075ce9fb5a7b7cd19dec9171f0ee698\", \"job_title\": \"geophysicist\", \"name\": \"Sinopec USA\", \"photos\": [], \"place_id\": \"ChIJS5y97nHBQIYRbb2dw19hKiM\", \"rating\": 5, \"reference\": \"CmRRAAAAkcYnQhM-gNwgvkq7Sv8AkEkq1LQ3fCzRILWRsFCq7dzBRs3BOKj-Q70V8QsA8eZMuDjYhyCTIbGbxFlRa_VK8SET61FSyd8VVSD6QJotS60xRvHjVeGXd_0hBvRkNzBXEhD4-FwyjbHHOJ_GqBy3iGkiGhRlcHuaodhQkboq5bvv8zXkIeNf1Q\", \"types\": [\"point_of_interest\", \"establishment\"]}, \"type\": \"Feature\"}, {\"geometry\": {\"coordinates\": [-95.5740797, 29.7373078], \"type\": \"Point\"}, \"properties\": {\"address\": \"11200 Westheimer Rd #365, Houston, TX 77042, United States\", \"id\": \"328101c9c23ad52a56a549ad72e19915b58d7af8\", \"job_title\": \"geophysicist\", \"name\": \"Walker Elliott\", \"photos\": [], \"place_id\": \"ChIJz6iXr8HcQIYRnzHDA7T8m-k\", \"rating\": 3, \"reference\": \"CmRSAAAASQdbnuXOcsbi7HNR6fGZyjdXAtX1RId1MPZ8YTIo8xvfzUhrbtJ7Ck9UjhMSZm1m-h9S0K1trJXKykT7-ng-wSySVdhcllJsk3TC_nhrm8mGuWEUqfNke5_wRzYokUJ3EhBtHFToRupL1DiCTPW0vAeBGhRne8o8I8n9fcwKFUFD_rehKF8oQQ\", \"types\": [\"point_of_interest\", \"establishment\"]}, \"type\": \"Feature\"}, {\"geometry\": {\"coordinates\": [-95.3662701, 29.7561894], \"type\": \"Point\"}, \"properties\": {\"address\": \"1111 Travis St, Houston, TX 77002, United States\", \"id\": \"6cf1f2b19f724b7014c7cab1c01725834dbc3db4\", \"job_title\": \"geophysicist\", \"name\": \"Hilcorp Energy Co\", \"photos\": [{\"height\": 2448, \"html_attributions\": [\"<a href=\\\"https://maps.google.com/maps/contrib/100318015046809414765/photos\\\">Ronald Payne</a>\"], \"photo_reference\": \"CoQBdwAAAJM5cVOcQp0Kb3rfpnCEs6z-jLYsN248MKcrETKt6KO4QMT_qg7HRd3LspjapAEoZRuW1Tg0cljQnA5TTrHMk-Y1oDkkEQI703p4scDbNrCJYLdrM5gsIbAZIiyBSNaYZqzmX9yJSnjG6felhj5d1CKG5b9VwylRxUNbne8izQAAEhC3TNrrwU-q7VxrYRO-pbs6GhSOETAyUn_BSeHDbTBaKmUSA4q26g\", \"width\": 3264}], \"place_id\": \"ChIJncGsRDm_QIYR0e57PbvugTc\", \"rating\": 4, \"reference\": \"CmRRAAAAbXcyb5TAJfk9l2O99SwgBGSAn6fPr2Jcnx8b4GrxaSghkFIEG41mrYeTblUwgsIsE7s4jbY65FEn_oj9m26me2n1IzbfG5vbFgNi2WrWoV_t09mJ6Rm8GrQpts7rqkQVEhCA-0OabtSChjx7I6oh2TpcGhRCcgh4kVYgByjO4g7jB9_IQflPwA\", \"types\": [\"general_contractor\", \"point_of_interest\", \"establishment\"]}, \"type\": \"Feature\"}, {\"geometry\": {\"coordinates\": [-95.4321022, 29.7305064], \"type\": \"Point\"}, \"properties\": {\"address\": \"5 Greenway Plaza Suite 110, Houston, TX 77046, United States\", \"id\": \"7394562c1f1a87dc4b6fa017b44a961df160f5ef\", \"job_title\": \"geophysicist\", \"name\": \"Occidental Petroleum Corp\", \"photos\": [], \"place_id\": \"ChIJjd5k24G8woAREjjHjBsq0Yk\", \"rating\": 4, \"reference\": \"CmRSAAAAeO8MlWjtXfgudEfdIFtcNcseM3hQ3gAG-FXEUfCzlragR-0dmtRoBJpKVT_0INhPmXDLZBDIuOu278vYhVtGy8kjCKFuGeIHtrqfUtx02IeRF5SeST6-139uIM5GJOosEhAnZZNz1YMGss-KQF1jWbO3GhQOacccCqq6TIKb6WhUFExEcCuEWg\", \"types\": [\"point_of_interest\", \"establishment\"]}, \"type\": \"Feature\"}, {\"geometry\": {\"coordinates\": [-95.3970411, 29.9417677], \"type\": \"Point\"}, \"properties\": {\"address\": \"363 North Sam Houston Pkwy E, Houston, TX 77060, United States\", \"id\": \"bcfc0554855f942f730466fd447878511b6aa0b4\", \"job_title\": \"geophysicist\", \"name\": \"Occidental Petroleum Corporation\", \"photos\": [], \"place_id\": \"ChIJx73rqePJQIYRPjss3jFElZo\", \"rating\": \"NA\", \"reference\": \"CmRSAAAASs2o2jmOViF1UKai7eRaqF7Ao2Sx755gwAN2tozs6HskmyKcJVBK8kt-cP8luiVz1QAyUM7pVUffdAWdjUiQo-aYAsNJvlqOeiBkrQaExP6gni4XB0o3gtsmQ2PNZl_bEhBfsMr48SIo7F05vxdXqOVkGhQZXBTwQxeTcq7cRsTIfNTkM-yehQ\", \"types\": [\"point_of_interest\", \"establishment\"]}, \"type\": \"Feature\"}, {\"geometry\": {\"coordinates\": [-95.5498597, 29.66888299999999], \"type\": \"Point\"}, \"properties\": {\"address\": \"4301 Southwest Fwy, Houston, TX 77027, United States\", \"id\": \"6e40f1d16226178cc0cf90f68d007ada7cfe5617\", \"job_title\": \"geophysicist\", \"name\": \"Oxy USA Inc\", \"photos\": [], \"place_id\": \"ChIJj7uu3g7BQIYR1FyPVqiuar8\", \"rating\": 1, \"reference\": \"CmRSAAAAFVF8CDT9ZRdBB1wRM7wS3u3iqvjbVsDc2VRTwpCZ5w0Xl-P5FmThK_DUmUpyJgAuoecG2ojHvK31KIH-05v9aT5PeayZFVlbmFIP2-ulL5x_J0lhYix4qwDdgaa7B_TPEhDpVdeexXE-OhFuz3OgC6QjGhSZH-W_TEqXmC_tRmtqUeKGdxyptw\", \"types\": [\"gas_station\", \"car_repair\", \"point_of_interest\", \"establishment\"]}, \"type\": \"Feature\"}, {\"geometry\": {\"coordinates\": [-95.362117, 29.76005199999999], \"type\": \"Point\"}, \"properties\": {\"address\": \"1001 Texas Ave #1020, Houston, TX 77002, United States\", \"id\": \"a11c06170d12ee3b5509eebe23f7a83e021bcdac\", \"job_title\": \"geophysicist\", \"name\": \"Lumina\", \"photos\": [{\"height\": 808, \"html_attributions\": [\"<a href=\\\"https://maps.google.com/maps/contrib/104809654983163322864/photos\\\">Lumina</a>\"], \"photo_reference\": \"CoQBdwAAAHJ_vDmxVDLOITlR-esaqsd5odeGq71SVTc3ALw4kjXJTYeAlzqwficxoOloOUr43u7OaIofHrqe9XKiViVIf-79DJG_CUNa6_ghsNjtBAybM_30ies8aHehc4EY5Q1pfyTT2bnXYlB3SJ3szwWjRFe4yEok7trkBPjnhEg0ogtLEhCBdUojx9qiDbk-Rj5jgmFQGhTF4NfsQL4TZWLv89hwehx6VrkOtA\", \"width\": 1024}], \"place_id\": \"ChIJiUNxO0C_QIYRfHaVr4rYzPY\", \"rating\": \"NA\", \"reference\": \"CmRSAAAA0teO86yzS3LertZN4YF80vBPAucaBPHixY_jwzLwQau8YVJ6dHHrsmuMzXVicKARRlAR1vHJ6SUqzvapexUlb2anuNUMkfGcTV4UixJ6jD-u86gw0SlZKUQebQPA9N33EhBfI6WIYWv2E7cuIVRaRX6oGhQlZ1m8AhrAVPho_dxpiC0Bp3xiMA\", \"types\": [\"point_of_interest\", \"establishment\"]}, \"type\": \"Feature\"}, {\"geometry\": {\"coordinates\": [-95.451906, 29.754584], \"type\": \"Point\"}, \"properties\": {\"address\": \"50 Briar Hollow Ln, Houston, TX 77027, United States\", \"id\": \"7e34dad551ed799d5f99931250df058f8447acc9\", \"job_title\": \"geophysicist\", \"name\": \"Integrated Geophysics\", \"photos\": [{\"height\": 1360, \"html_attributions\": [\"<a href=\\\"https://maps.google.com/maps/contrib/118046956100093733952/photos\\\">Integrated Geophysics</a>\"], \"photo_reference\": \"CoQBdwAAAP0BXCJblHnpXV9MxVztwT8bGO0Zv85UexyMYUlamP63ASNX5RVP6M7KTe0aW8XUbz_oRFK3nJS8lAQuDCz2Oiu44MjIDNygcQqN7iidFleoN2B6fGvjx2ThDcDU7oEeWZ4GohxO48vRQF_rrXLi2wvZX5zu8_rxxQ4PALCmlgGQEhDU3WCuQMIs6XKN4EBeaxOxGhQxLV_EVeMyuKVfK_7nqV6lBYvUKg\", \"width\": 1359}], \"place_id\": \"ChIJvbQlyTvBQIYRm0AeqK4g8R8\", \"rating\": \"NA\", \"reference\": \"CmRRAAAAnS6AraEsMe86ms17YRPD6TRrNiFLreHbP0kJDhLByYQfUJV7RfkKeWK_w6G_hFkKzSxocL4Ye3s1rWeNvo1x0YVRnirSQ6tyuONcfv44a3VdQ01hmAJGsZGyfLNV7CiaEhAFZ8vCBzi0PBhUnZNtNjP6GhQiS6tlkJbqbvzEQIPz4Pmdq8ePkA\", \"types\": [\"point_of_interest\", \"establishment\"]}, \"type\": \"Feature\"}, {\"geometry\": {\"coordinates\": [-95.4628465, 29.7338536], \"type\": \"Point\"}, \"properties\": {\"address\": \"3050 Post Oak Blvd # 1640, Houston, TX 77056, United States\", \"id\": \"eb737b548075ce9fb5a7b7cd19dec9171f0ee698\", \"job_title\": \"geophysicist\", \"name\": \"Sinopec USA\", \"photos\": [], \"place_id\": \"ChIJS5y97nHBQIYRbb2dw19hKiM\", \"rating\": 5, \"reference\": \"CmRRAAAAKR1qf1CSfOUmYe5hM3ayoOTrl8-rKAJXLOReULFSVK785_7hHgcA8z0HHvosCEMlKFAEZnbvgZvGAKx0AnCWvfyQiIF1TMNApQkGSEW-krlo4BU5tX61KXLVUwXv0HXiEhAgMr8L416_kyhqFzM9NvaiGhS-HWghz0UROsZ2RWjoB6R5JxUsag\", \"types\": [\"point_of_interest\", \"establishment\"]}, \"type\": \"Feature\"}, {\"geometry\": {\"coordinates\": [-95.62566849999999, 29.7794433], \"type\": \"Point\"}, \"properties\": {\"address\": \"15375 Memorial Dr, Houston, TX 77079, United States\", \"id\": \"63e8846758150bbb7b96bb6f1b6575612bdc5048\", \"job_title\": \"geophysicist\", \"name\": \"PGS\", \"photos\": [], \"place_id\": \"ChIJ_Yxnp-zbQIYRwzVN-oronfk\", \"rating\": \"NA\", \"reference\": \"CmRSAAAART_c1MGvULr9wrcFbae-b0gMrLDkJ2h0l4i24nFTm8HocR2vDlBqoQSYy1c5cyo17OgkJp_s7_xBmatujTkZ3hfq431c5-0GYLojMbh8SccHHHz4E5T7BCCuSt0-3FJLEhBiiKs6Lr1Ot6xLyX2cXousGhQfYeF3i7opKe09iGelLOB3y-st4Q\", \"types\": [\"point_of_interest\", \"establishment\"]}, \"type\": \"Feature\"}], \"type\": \"FeatureCollection\"}"
      ]
     },
     "execution_count": 275,
     "metadata": {},
     "output_type": "execute_result"
    }
   ],
   "source": [
    "copied_feature_Collection = FeatureCollection(copied_feature_list)"
   ]
  },
  {
   "cell_type": "code",
   "execution_count": 274,
   "metadata": {
    "collapsed": false
   },
   "outputs": [
    {
     "name": "stdout",
     "output_type": "stream",
     "text": [
      "got to the function convertFeatureCollectionToGeoJSON\n"
     ]
    }
   ],
   "source": [
    "convertFeatureCollectionToGeoJSON(copied_feature_Collection,\"../DATA/test_geojson_Everything_byHand_v2.geojson\")"
   ]
  },
  {
   "cell_type": "code",
   "execution_count": null,
   "metadata": {
    "collapsed": true
   },
   "outputs": [],
   "source": []
  },
  {
   "cell_type": "code",
   "execution_count": null,
   "metadata": {
    "collapsed": true
   },
   "outputs": [],
   "source": []
  },
  {
   "cell_type": "code",
   "execution_count": null,
   "metadata": {
    "collapsed": true
   },
   "outputs": [],
   "source": []
  },
  {
   "cell_type": "code",
   "execution_count": null,
   "metadata": {
    "collapsed": true
   },
   "outputs": [],
   "source": []
  },
  {
   "cell_type": "code",
   "execution_count": null,
   "metadata": {
    "collapsed": true
   },
   "outputs": [],
   "source": []
  },
  {
   "cell_type": "code",
   "execution_count": 233,
   "metadata": {
    "collapsed": false
   },
   "outputs": [
    {
     "name": "stdout",
     "output_type": "stream",
     "text": [
      "job_title put into googleAPI call is = geologist\n",
      "array_of_features =  [{\"geometry\": {\"coordinates\": [-95.46103649999999, 29.737203], \"type\": \"Point\"}, \"properties\": {\"address\": \"2800 Post Oak Blvd #3900, Houston, TX 77056, United States\", \"id\": \"4b62e79323dd04edd16f18a3570c6c525c72352a\", \"job_title\": \"geologist\", \"name\": \"RBC Capital Markets\", \"photos\": [], \"place_id\": \"ChIJMzyxy23BQIYRmQh7_lj7cok\", \"rating\": \"NA\", \"reference\": \"CmRSAAAADuTV9QxW4KU1_EKpjj5ebTgzwkdDUESQitwdpp9YfgfYYRUSmFyfRPEeoZwSqmgjWzdxPFYGiUL6k5e-0m4zWCGeqij11FgFZ4f_lLekIL-UlGRNHi4xlScsOvL7-oAxEhAk9wNIaYp8Mmli3utI9Rc-GhRpp43ZIhrplKcv3GRQqrNQuMjKiA\", \"types\": [\"bank\", \"finance\", \"point_of_interest\", \"establishment\"]}, \"type\": \"Feature\"}, {\"geometry\": {\"coordinates\": [-95.3640089, 29.7604054], \"type\": \"Point\"}, \"properties\": {\"address\": \"600 Travis St # 6500, Houston, TX 77002, United States\", \"id\": \"e6f1fffeaff13624b25a14bca2c17e581e517245\", \"job_title\": \"geologist\", \"name\": \"Royal Bank of Scotland\", \"photos\": [], \"place_id\": \"ChIJa0oElDq_QIYRxrrhsSUehHU\", \"rating\": \"NA\", \"reference\": \"CmRRAAAATBo5jlkgUvJB5wVLe5ljCYOXevrgpuoBSoEGHLmOwpzGXGIs3jQZ8ckK9MyONP2v1S-2YqcrbHEoiXo6bW4iNF-9Wy0ZwhxfI2crDrlYSNTHbn_sOzGUajNmrbqgvI-YEhA53IAmwzS_9pPZ6-cshG2TGhSYfxBA3ytSRoAlqrVtAnb4Wod4vw\", \"types\": [\"bank\", \"atm\", \"finance\", \"point_of_interest\", \"establishment\"]}, \"type\": \"Feature\"}, {\"geometry\": {\"coordinates\": [-95.56025, 29.781615], \"type\": \"Point\"}, \"properties\": {\"address\": \"#300, 818 Town and Country Blvd, Houston, TX 77024, United States\", \"id\": \"a674ded7a91a457c3d42b551c5d48886ff6b71a0\", \"job_title\": \"geologist\", \"name\": \"RBC Wealth Management\", \"photos\": [], \"place_id\": \"ChIJK5dbXLPEQIYRQeq5MViNqig\", \"rating\": \"NA\", \"reference\": \"CmRRAAAAsAF1vUza5ghMfHmYw7u6B53fWqR3p_fuiZWSl3A9wy7PGk2nBfxLVjILNFX5XbKhbWtUOnEZBc3SqDqfxaRk9axHvvwxyg7R_Vrf8Xqq_rjmp0o5JL42rn5xWoPwHXhbEhDsLYIx0pWUQLiXgFBhcSpvGhQNmmVyIufmayskmwX8-wVgtR2uQw\", \"types\": [\"finance\", \"point_of_interest\", \"establishment\"]}, \"type\": \"Feature\"}, {\"geometry\": {\"coordinates\": [-95.45170759999999, 29.7477721], \"type\": \"Point\"}, \"properties\": {\"address\": \"4400 Post Oak Pkwy #2400, Houston, TX 77027, United States\", \"id\": \"ebe2836d9d530f6081066f7a4aed3a7d4066d74f\", \"job_title\": \"geologist\", \"name\": \"RBC Richardson Barr\", \"photos\": [], \"place_id\": \"ChIJX1ZfCT7BQIYRrP8hSoM5Mpk\", \"rating\": \"NA\", \"reference\": \"CmRSAAAA4i8TyQGHKgwG2p9q8PD7oSexDyTE9GmLSKQhPVi-jOtJxeT7VMAnEML0prPPeYOjfqH-IFknTNt9bq6f5XAfWZHUbmOgICcX3_CZf_OhtW18ILnLswBylLrkQOCpigneEhDzj3mP2w1D6fwmw4X2Cc_fGhROsaduRXLdBMIstlAobBN9Miub6Q\", \"types\": [\"finance\", \"point_of_interest\", \"establishment\"]}, \"type\": \"Feature\"}, {\"geometry\": {\"coordinates\": [-95.461597, 29.746341], \"type\": \"Point\"}, \"properties\": {\"address\": \"1980 Post Oak Blvd #1630, Houston, TX 77056, United States\", \"id\": \"4eedac6f1ba8c81d62786ea3ea10f3686ad5b9d2\", \"job_title\": \"geologist\", \"name\": \"RBC Wealth Management\", \"photos\": [], \"place_id\": \"ChIJlVxoBkLBQIYRDDHQy3MpT_A\", \"rating\": \"NA\", \"reference\": \"CmRSAAAAih8eozgSxheZM34vRT7Q1KYG0jcvTTgFrV4EhnMPrJCJP7z1mCQvXb4dF2xoByyY-ILcNNio_cuUuevsrMLBWDsSfidO0trZaTv0XoGjzCFBThzednR23Ctg7IENSEZYEhCI5q3ZvHkedIeBIAcDI3PhGhTddx0y50gELiuxlO2lmEoCym6SNg\", \"types\": [\"finance\", \"point_of_interest\", \"establishment\"]}, \"type\": \"Feature\"}]  and next_page_result =  []\n",
      "types: for Rbc+Houston+Texas type(next_page_result)=  <class 'list'>  and type(array_of_features)=   <class 'list'>\n",
      "job_title put into googleAPI call is = geologist\n",
      "array_of_features =  [{\"geometry\": {\"coordinates\": [-95.3599019, 29.7546294], \"type\": \"Point\"}, \"properties\": {\"address\": \"Hess Tower, 1501 McKinney St, Houston, TX 77010, United States\", \"id\": \"04c70c4a3d18050ca437bbaedeca70bd9cb01927\", \"job_title\": \"geologist\", \"name\": \"Hess Corporation Exploration & Production\", \"photos\": [{\"height\": 1454, \"html_attributions\": [\"<a href=\\\"https://maps.google.com/maps/contrib/111482964284093817946/photos\\\">Sau Hei Lam</a>\"], \"photo_reference\": \"CoQBdwAAACSz7v5y2cVqClH4vFJqozXpkfTNC9aHYxO5fgN4s7_UrJ39zJWDvTHXHQ3GULDhy-YVQ8PqfyzZ9peFcSHTU1oj5OPiNCz1S5MqOi8i1Ms1qbhoPc4QCc4kayRXGaJ9hxx8itg5kit78druT_gWczFq9ud9o6ht6c7rhFI0fymMEhApy27Jg1JV6XGtY4QmRpT2GhS9yMnpKpnrG0pAlW9RTFIQK3Y0zw\", \"width\": 2161}], \"place_id\": \"ChIJfy2iBDm_QIYRjgKEE3GFL9Y\", \"rating\": 4.4, \"reference\": \"CmRSAAAAMrgPzPdJ8i_eMfCSXYumA10H0Zpwn7L2ywj8sYGXPTsR0M7alZSlFOizlV3ru52Fd5wZXwsTHsMtd9VqzuokUjQ6Y22FpLmJSmAfFWbaQiyl4qj1XWINlIlEAAt4YLmCEhCeHrj-YoIrl6P-0Ahakh3OGhSoutZkSMq8hOoR5wDGwdACBB-3Ww\", \"types\": [\"point_of_interest\", \"establishment\"]}, \"type\": \"Feature\"}]  and next_page_result =  []\n",
      "types: for Hess+Corporation+Houston+Texas type(next_page_result)=  <class 'list'>  and type(array_of_features)=   <class 'list'>\n",
      "job_title put into googleAPI call is = geologist\n",
      "array_of_features =  [{\"geometry\": {\"coordinates\": [-95.53667899999999, 29.643324], \"type\": \"Point\"}, \"properties\": {\"address\": \"10710 S Sam Houston Pkwy W #3, Houston, TX 77031, United States\", \"id\": \"21ef45fcadb15a9dae92a34c0882930987cfd934\", \"job_title\": \"geologist\", \"name\": \"Tolunay-Wong Engineers, Inc\", \"photos\": [{\"height\": 785, \"html_attributions\": [\"<a href=\\\"https://maps.google.com/maps/contrib/100502235174758387817/photos\\\">Tolunay-Wong Engineers, Inc</a>\"], \"photo_reference\": \"CoQBdwAAAET4euvF-5kwy16ApzcMAHqHzWLgRw6ujL6YAb5tfuU2_KNy4q2Lr37yU2sgR7sCz_rm_TsSHIHPF9kGgzmluqbSPGpWApLT0Ktj8jCo_9z9CVjJthEB9IL8CR5vo6Y623xHnvLub5WHp6PRVJXYxOTdwlLrqQfm5Y7bUFBFVCI9EhB2tzpI8XvsLLAvv8jza0WJGhRAW-2yhBEPLzMcA1GEEIbROvODHQ\", \"width\": 1791}], \"place_id\": \"ChIJgd3o6kPoQIYRBdEf5LXmjLY\", \"rating\": 5, \"reference\": \"CmRSAAAA_mqrBN_57UKdjby8F8Kq6WCxDUs0D14hQLjc5s1ZwxK2frPl8BnAJDvTsmaKiDOwQNjhVk2K0bUZoRWKJgkMeJKCs5WSB54ngA4h61Z0PwcNx8-ohPEnpCPRGZE74r30EhCj05nVHQx90JKrECuPR3-7GhQLYuG1J62yA7jNaoNocMjtqahyAQ\", \"types\": [\"point_of_interest\", \"establishment\"]}, \"type\": \"Feature\"}]  and next_page_result =  []\n",
      "types: for Tolunay++wong+Engineers,+Inc.+Houston+Texas type(next_page_result)=  <class 'list'>  and type(array_of_features)=   <class 'list'>\n",
      "job_title put into googleAPI call is = geologist\n",
      "array_of_features =  [{\"geometry\": {\"coordinates\": [-95.4620181, 29.7530878], \"type\": \"Point\"}, \"properties\": {\"address\": \"1360 Post Oak Blvd #150, Houston, TX 77056, United States\", \"id\": \"9aba7fe2f8a80c94b359e1fd5c4df4b3c3e70314\", \"job_title\": \"geologist\", \"name\": \"BHP Billiton Petroleum\", \"photos\": [{\"height\": 1724, \"html_attributions\": [\"<a href=\\\"https://maps.google.com/maps/contrib/106919442231730187134/photos\\\">Chad Burrows</a>\"], \"photo_reference\": \"CoQBdwAAADSXOWXCkTKmYl39Et9_fvqNBN1D5O5H3PtdXJg0Tk-jmST6JNXTRhD-EYJEFAQcKV7_260X7EKQeFyboVh9HFOQuG0cfDRCn60lX-YOxoc7kplvkHxRXD4gG3xXnCoUHONt7kBJhdpqLS9nfdyIKsGnsw0xRkoq42b4IKqZ0bnbEhDIvf54D5AyABrHqpdDGZCgGhSeD_6gkEREMAn9Ns6rU8tu85WnHQ\", \"width\": 5502}], \"place_id\": \"ChIJU5hfp0bBQIYRKqHNd5nxNbw\", \"rating\": 5, \"reference\": \"CmRSAAAA27VaaBD0DEvQEHNwxayi_oL_jJizULvdcFnn8cGxfTHQggxFJB3OfjoHo8V9eY308bb6uyelaKaLseLURhEeHzXP6gxotu09nHQ0GT3PklOMibuyRX77TrspcW0fOrKYEhAoNZATgoUN78cjakbnhKOVGhSOl120GC-mDAeY-08PqJlwgbVYBw\", \"types\": [\"point_of_interest\", \"establishment\"]}, \"type\": \"Feature\"}]  and next_page_result =  []\n",
      "types: for Bhp+Billiton+Houston+Texas type(next_page_result)=  <class 'list'>  and type(array_of_features)=   <class 'list'>\n",
      "job_title put into googleAPI call is = geologist\n",
      "array_of_features =  [{\"geometry\": {\"coordinates\": [-95.1974345, 29.658069], \"type\": \"Point\"}, \"properties\": {\"address\": \"1006 Vista Rd, Pasadena, TX 77504, United States\", \"id\": \"69a96533a258eb591726d86d1ca2f9c6ec0228de\", \"job_title\": \"geologist\", \"name\": \"En Rud Resources Inc\", \"photos\": [], \"place_id\": \"ChIJc_A7nUSYQIYRcN8s1islssY\", \"rating\": \"NA\", \"reference\": \"CmRSAAAAOqFDxjocQlCHeVypZ3_97xB9zLSAYjfON8EJP1CuSE5zSDLGg4tr8O04KEnv6KMhM-XvBYzK_gQTe7tkYuM_9PjJ65iZx0LLBH7nBcr0nj-uMky-9ZxKClfHDzXdccTxEhD2-zG47IZftpGE19iuf1U5GhSTlYXRdU1v9fUagoy_j9-hXyMPCg\", \"types\": [\"point_of_interest\", \"establishment\"]}, \"type\": \"Feature\"}]  and next_page_result =  []\n",
      "types: for Enrud+Resources+Houston+Texas type(next_page_result)=  <class 'list'>  and type(array_of_features)=   <class 'list'>\n",
      "job_title put into googleAPI call is = geologist\n",
      "array_of_features =  [{\"geometry\": {\"coordinates\": [-105.1015483, 40.5662552], \"type\": \"Point\"}, \"properties\": {\"address\": \"W, 1225 W Prospect Rd, Fort Collins, CO 80526, USA\", \"id\": \"f318fc285d106d2a2f42291756a4dc2945e237a0\", \"job_title\": \"geologist\", \"name\": \"W\", \"photos\": [], \"place_id\": \"ChIJd8nUV0pKaYcRMfgytg1ibhc\", \"rating\": \"NA\", \"reference\": \"CmRbAAAA-gkXeYKUC6v19IzJI7Qr4T6bQm5xsrGMOZk0S_-uKU3UPisFkrTiRWECIi3_Gu4sCxjvJJIljo-cVvMADOz1mqxfsnIu0A_3KXtMNCmNJqd2amRE_hSSUgX6o6HeS73kEhBeT5jd7OFDzr8zWXeV6pLbGhSmCulFFJJNZ-eNXfqrzMoLIwLULg\", \"types\": [\"premise\"]}, \"type\": \"Feature\"}, {\"geometry\": {\"coordinates\": [-118.2345702, 33.8961974], \"type\": \"Point\"}, \"properties\": {\"address\": \"w, 625 W Compton Blvd, Compton, CA 90220, USA\", \"id\": \"59cc7a43ad3bc2d8985bff103a1678d1ddb512a9\", \"job_title\": \"geologist\", \"name\": \"w\", \"photos\": [], \"place_id\": \"ChIJI-Ga-Q3LwoAR0n8VNmF8HRo\", \"rating\": \"NA\", \"reference\": \"CmRbAAAAsil-s93YPUBgvzr0Z9N5qfY9lLf5Vs8MLLZSLeakY46NEz5fuSww21etn0JIQjaEht0-Rs8qhU46CgeHIcjgrxFlmYwku3MWXvlqG4OsXgtgnUNBTOI9IZvXTIUcelbzEhAfCIoR0GMfmJxdS9a1ADYPGhSONtOvd7rKQxlFpsCfz6m1A1UdIA\", \"types\": [\"premise\"]}, \"type\": \"Feature\"}, {\"geometry\": {\"coordinates\": [-122.1049137, 37.4052049], \"type\": \"Point\"}, \"properties\": {\"address\": \"W, 49 Showers Dr, Mountain View, CA 94040, USA\", \"id\": \"57d3e8be07b54c2e9632ef17fceee56bce0cca5b\", \"job_title\": \"geologist\", \"name\": \"W\", \"photos\": [], \"place_id\": \"ChIJ_xJwlKGwj4AR6mUQFinpSYQ\", \"rating\": \"NA\", \"reference\": \"CmRbAAAAvLAqMgDnUQ4PPk5r32F6A8fdbEtTCOfNj_Fw77RRqhJzhEA3ykBhOi8aXBT-3GpiNg8WamuJH0F54zmuLzknGvBtrhrjTkdRq3Wm2YmSvGEcx5pedJD2K--n-DKAQM-KEhDi8P7NsejevY8thkJIr0DKGhQ_5FUhWZ4TTC5Cet_dot8An6m2yw\", \"types\": [\"premise\"]}, \"type\": \"Feature\"}]  and next_page_result =  []\n",
      "types: for W&T+Offshore,+Inc.+Houston+Texas type(next_page_result)=  <class 'list'>  and type(array_of_features)=   <class 'list'>\n",
      "job_title put into googleAPI call is = geologist\n",
      "array_of_features =  [{\"geometry\": {\"coordinates\": [-95.1721678, 29.64837929999999], \"type\": \"Point\"}, \"properties\": {\"address\": \"4624 Fairmont Pkwy, Pasadena, TX 77504, United States\", \"id\": \"9ae520cccc7564f96afd46f6d631d61bdd6bdfff\", \"job_title\": \"geologist\", \"name\": \"San Jacinto College - District Office\", \"photos\": [], \"place_id\": \"ChIJ5czzhuSYQIYR5xO1zKMXD90\", \"rating\": 2.3, \"reference\": \"CmRSAAAAKi38Trl5zEeEUiPEZvJgMvj1RBWrblBLM2eoCsf5JAjFdrc1GpQZRbso2alc1Z1U5GmDvi01QhzeGBJfNLWsWHj1GQlTja1qZDl6FCI4gA_i4HTkJ7sAcc62vNZsope6EhBoOp7UBt1wCD5rgqlowPI4GhSHsrfWj3U7PHPrjRSaJCDNdiZbIw\", \"types\": [\"school\", \"point_of_interest\", \"establishment\"]}, \"type\": \"Feature\"}]  and next_page_result =  []\n",
      "types: for SAN+Jacinto+College+Houston+Texas type(next_page_result)=  <class 'list'>  and type(array_of_features)=   <class 'list'>\n",
      "job_title put into googleAPI call is = geologist\n",
      "array_of_features =  [{\"geometry\": {\"coordinates\": [-95.366643, 29.76074], \"type\": \"Point\"}, \"properties\": {\"address\": \"700 Louisiana St # 2100, Houston, TX 77002, United States\", \"id\": \"ec8b82b104863bab3b36a1ce79a0c0f711468bfc\", \"job_title\": \"geologist\", \"name\": \"BMO Capital Markets\", \"photos\": [{\"height\": 750, \"html_attributions\": [\"<a href=\\\"https://maps.google.com/maps/contrib/104549896185334272100/photos\\\">Duplan Nalpudi Instagram</a>\"], \"photo_reference\": \"CoQBdwAAAB_9RhXjYSjMAzmpgi5KAQdN_SAIrQriBK-crdhKD_7kZy12O4f-d4ZnjqYIYHx1b1fbaw-nzQeG4vpYSOYMiAyZZMXqQTsrVQFvNQlKRpaG9MNGlU8EWFG8cvbQrO1Vn1qOqnBBklzlq1bLavH0SffcsqUIqpRf-UOu6WNLyaQtEhCWVkquP88u8YEYx2eOQGe1GhT1dcfdBKTMSNQ1TK8UIDFg9PII0w\", \"width\": 1334}], \"place_id\": \"ChIJLROgDTq_QIYRTwQmXrl5Wm0\", \"rating\": \"NA\", \"reference\": \"CmRRAAAAcDyL_EQAEuhaTWZmZhBHyvLskWBdN-rfDSSQxkjoga-aXNPRGIetjiU2o9JyJXXtvIQbIFym9_orYU5nriRZNcdMgcxBv_TWgAQmb5rkTfe9k1x-fECYgPkwJ5v1SxycEhCFgzamhPfcDJpCDGCn7S9kGhScmtApnq7lnp67M518gLpCwhsQGg\", \"types\": [\"finance\", \"point_of_interest\", \"establishment\"]}, \"type\": \"Feature\"}]  and next_page_result =  []\n",
      "types: for Bmo+Financial+Group+Houston+Texas type(next_page_result)=  <class 'list'>  and type(array_of_features)=   <class 'list'>\n",
      "job_title put into googleAPI call is = geologist\n",
      "array_of_features =  [{\"geometry\": {\"coordinates\": [-95.372164, 29.757501], \"type\": \"Point\"}, \"properties\": {\"address\": \"333 Clay St, Houston, TX 77002, United States\", \"id\": \"795a3515ff023985c96d55d60c8eefcdc6c9ee0e\", \"job_title\": \"geologist\", \"name\": \"Jefferies\", \"photos\": [], \"place_id\": \"ChIJe81fkji_QIYRhzwdUhh-ygw\", \"rating\": \"NA\", \"reference\": \"CmRRAAAAanylPRJpjTo7QgTK0V1urUsXIvRIXJp3VfSQeX5OgvsgYNfYqL4gfsqeM5l9Pa6jKFYK6BdpmcUsP_S9evSJGtOAiCnABA0ZryBdrUiMsydwzUNe56DGaX5uOsR30R29EhD4Jv8ucGtGsMmMXoqIReK9GhT7hqWFpVJY_L7-HGAIJHodQm_AWA\", \"types\": [\"finance\", \"point_of_interest\", \"establishment\"]}, \"type\": \"Feature\"}]  and next_page_result =  []\n",
      "types: for Jefferies+Houston+Texas type(next_page_result)=  <class 'list'>  and type(array_of_features)=   <class 'list'>\n",
      "job_title put into googleAPI call is = geologist\n",
      "array_of_features =  [{\"geometry\": {\"coordinates\": [-95.49726899999999, 29.7140059], \"type\": \"Point\"}, \"properties\": {\"address\": \"6100 Hillcroft St, Houston, TX 77081, United States\", \"id\": \"372e0791c5d5ea0bf4c3a24c278c5083aad17624\", \"job_title\": \"geologist\", \"name\": \"Fugro Consultants Inc: Akhtar Anwar\", \"photos\": [], \"place_id\": \"ChIJ5e-dPzbCQIYR8o0_0WHFuVk\", \"rating\": \"NA\", \"reference\": \"CmRRAAAAic5G0M5bEK_aKvLXTLAAUXtSXWSQLrvO6ZZ-j9kJKuOzTcYOq342fozTBYNZ1STpulbkWOOrl-dM_8F-juNHGL2hLRuwwWw35zj84u72qeuiHG8OJ1jSJyfTxd_XV3jpEhBVs97fuBWpPzfO6_vbutD7GhRhksLFcTmxQPHUZism3eG8hHpEjw\", \"types\": [\"point_of_interest\", \"establishment\"]}, \"type\": \"Feature\"}, {\"geometry\": {\"coordinates\": [-95.5678336, 29.8452744], \"type\": \"Point\"}, \"properties\": {\"address\": \"10831 Train Ct, Houston, TX 77041, United States\", \"id\": \"94c4bf4197969258554d1555fd7ce686908546b7\", \"job_title\": \"geologist\", \"name\": \"Fugro Consultants, Inc.\", \"photos\": [], \"place_id\": \"ChIJ1WVb4rHaQIYR6O9DfGla99A\", \"rating\": \"NA\", \"reference\": \"CmRSAAAA-CE9zjZ7RH9mgU8YZdvWpERB7nLboNWG_b4EAlNrRv9VBBX8ZDZWEgEQ59yp2razDWjq7JbJe7D9F2zSFtUlQVzi0OZeTIkT5MAurpJOEvlQZ2bCt0bdk8y7XY-7p89NEhD2S9hT6EIaSVPxGbyWeHCmGhQfgzANSTsQyqSLh-kPwVB3JUNvIQ\", \"types\": [\"point_of_interest\", \"establishment\"]}, \"type\": \"Feature\"}, {\"geometry\": {\"coordinates\": [-95.5441765, 29.9263062], \"type\": \"Point\"}, \"properties\": {\"address\": \"8715 Fallbrook Dr, Houston, TX 77064, United States\", \"id\": \"4b8b00e13f61a661128d24dcd3068ddd462bddbc\", \"job_title\": \"geologist\", \"name\": \"Fugro\", \"photos\": [], \"place_id\": \"ChIJC49COz7OQIYRAkBflL00eJ4\", \"rating\": \"NA\", \"reference\": \"CmRSAAAAhaCQAUufdhiecsD_XEIL6exqo1NBEW6nT--TyG23v_JyIYBMgE681suivHUU8SLdJwHs_6hZrT1WEye5EyaZvX0Z0QC91k0_9rHC1KRnVfrkLkJbJ1QDd49nhrCPITILEhAKVef_n35PqZ0mlGLuxpXtGhTd-Vit7_9QE8UraScMe0H3ItcBaw\", \"types\": [\"point_of_interest\", \"establishment\"]}, \"type\": \"Feature\"}, {\"geometry\": {\"coordinates\": [-95.4994463, 29.7127126], \"type\": \"Point\"}, \"properties\": {\"address\": \"6121 Tarnef Dr, Houston, TX 77074, United States\", \"id\": \"036ef56e28e7616b45367256404bd34b6894d17b\", \"job_title\": \"geologist\", \"name\": \"Fugro Inc\", \"photos\": [], \"place_id\": \"ChIJ1ZxaK0jCQIYRkHmkjNdFW2I\", \"rating\": \"NA\", \"reference\": \"CmRRAAAA_snrLQgKlvQddMoVzyiOsRqinuj79fFXhq5T9PNFfHvbitcqJ1eYvh1hMBEQmBBbO_t4-6LK6DER2yC84ITYrwaGLrYXHSVQ8QvxcD6gp3fYe_ZeOfOsHw4cOIBr0p6KEhBOogCYeO0tyVZBMYZaYTcIGhSivvY4t3yLOH-nSWMAi9k9Gg10qA\", \"types\": [\"point_of_interest\", \"establishment\"]}, \"type\": \"Feature\"}, {\"geometry\": {\"coordinates\": [-95.49562680000001, 29.7167202], \"type\": \"Point\"}, \"properties\": {\"address\": \"6080 Hooton, Houston, TX 77081, United States\", \"id\": \"65dd391d8d93517cc6dbcdc22dc4231b9aa5303c\", \"job_title\": \"geologist\", \"name\": \"Fugro Inc\", \"photos\": [], \"place_id\": \"ChIJrdJGMjTCQIYR03_Oibwj_uM\", \"rating\": \"NA\", \"reference\": \"CmRSAAAAnQ9bA0rSLOGXbe2GZoANJJ8ohcJmNc4-wIPkodJqOP2knNARnivKRaVCi513WlKcabOkGbFigeNHH6rvd1jyo_tZZnLuasLGp9O0Fi62fvLCqYzKGTQSMbvj_34cY_mBEhBV1jCUKlKDjUW0Xe9_KOIOGhSdY4O06M_5VqrDCohBkHxCJfNoLA\", \"types\": [\"premise\", \"point_of_interest\", \"establishment\"]}, \"type\": \"Feature\"}, {\"geometry\": {\"coordinates\": [-95.5503257, 29.8584718], \"type\": \"Point\"}, \"properties\": {\"address\": \"10425 Okanella St # 100, Houston, TX 77041, United States\", \"id\": \"bd7b9e455e61e36012f43900a5d2dc8fb520b286\", \"job_title\": \"geologist\", \"name\": \"Fugro Data Solutions\", \"photos\": [], \"place_id\": \"ChIJf7sDHvjPQIYRNi_3faTzFrQ\", \"rating\": \"NA\", \"reference\": \"CmRSAAAATyqV7oYejm3vMmiTNOGP1F6XBBQuNP6jMrOvAXpeN3Y2rXisW08tXUKvUkfy5cCdwzc-KEul3cYmeVPO8nPmYMA8uFmbqee06NYf9pP-roOvADwCwZafcd_DSKZE-4UaEhCy8LSkvnjrM6eAIQnEA7nlGhTm46op3G9pUvKQJGrqSrqzN0vyIQ\", \"types\": [\"storage\", \"point_of_interest\", \"establishment\"]}, \"type\": \"Feature\"}, {\"geometry\": {\"coordinates\": [-95.1800995, 29.7118821], \"type\": \"Point\"}, \"properties\": {\"address\": \"2410 Pasadena Fwy, Pasadena, TX 77506, United States\", \"id\": \"38cb6e415101a4bac2c1eaf17a6fa77679f6788b\", \"job_title\": \"geologist\", \"name\": \"Fugro Consultants LP\", \"photos\": [], \"place_id\": \"ChIJQdSxQV6iQIYR9uoIbHWfBXE\", \"rating\": \"NA\", \"reference\": \"CmRRAAAAE-J07cY_20dt6pDVYOFsDv26lTXHT6Q-jj8fnJPSDLnLCjwSH1HHNbaN3JbmvVPsjjcJZpsseyfHXtM3hU8ZWXPteyx9pniwHvCIxczumq0M5I_iNF4ZX-auW7ifDaMVEhCCfD-dy2XY8XiTipzX5x50GhSIYRXVPF1PV8KlL_0oJOSrc194mA\", \"types\": [\"point_of_interest\", \"establishment\"]}, \"type\": \"Feature\"}]  and next_page_result =  []\n",
      "types: for Fugro+Houston+Texas type(next_page_result)=  <class 'list'>  and type(array_of_features)=   <class 'list'>\n",
      "job_title put into googleAPI call is = geologist\n",
      "array_of_features =  [{\"geometry\": {\"coordinates\": [-95.5740797, 29.7373078], \"type\": \"Point\"}, \"properties\": {\"address\": \"11200 Westheimer Rd #365, Houston, TX 77042, United States\", \"id\": \"328101c9c23ad52a56a549ad72e19915b58d7af8\", \"job_title\": \"geologist\", \"name\": \"Walker Elliott\", \"photos\": [], \"place_id\": \"ChIJz6iXr8HcQIYRnzHDA7T8m-k\", \"rating\": 3, \"reference\": \"CmRSAAAAv572TUsFOmnXh672TUxeC4uo-TGzWC_Z3IazLigFwHVqiW56RpQsM2SaQSw95Vu6pjs376M03YhZC1y_LldzGHfy8qCZpqZZm0U7dQNsVdZOfv5DcDbbBjErYPLWKw2YEhCI93JmZkJvKlWg-EEYJnSUGhT7CLHEQ3ONmn1Wln8uyuKoxtBoDQ\", \"types\": [\"point_of_interest\", \"establishment\"]}, \"type\": \"Feature\"}]  and next_page_result =  []\n",
      "types: for Walker+Elliott+Houston+Texas type(next_page_result)=  <class 'list'>  and type(array_of_features)=   <class 'list'>\n",
      "job_title put into googleAPI call is = geologist\n",
      "array_of_features =  [{\"geometry\": {\"coordinates\": [-95.3662701, 29.7561894], \"type\": \"Point\"}, \"properties\": {\"address\": \"1111 Travis St, Houston, TX 77002, United States\", \"id\": \"6cf1f2b19f724b7014c7cab1c01725834dbc3db4\", \"job_title\": \"geologist\", \"name\": \"Hilcorp Energy Co\", \"photos\": [{\"height\": 2448, \"html_attributions\": [\"<a href=\\\"https://maps.google.com/maps/contrib/100318015046809414765/photos\\\">Ronald Payne</a>\"], \"photo_reference\": \"CoQBdwAAAPN0rb5Me3CTo-ILB_bfxFpW_OOrl9firBUiU8B_ec6ChqUohR5gF5G2NuOxG9IqQSXGEgLYL6YTXVCNzzYfxydS7W2JFI1L9LR8WDbL3ALq_nZsdjE4AQY-tJ9oowH_2UQmWAWLJ0HWaYdMEVjXJVbpI7kQupo6KkdkMol5QUwbEhADi-1rYWCxB4FlUUgA9VACGhTbsf8IOh85nzPQviAcVdY8uckpEg\", \"width\": 3264}], \"place_id\": \"ChIJncGsRDm_QIYR0e57PbvugTc\", \"rating\": 4, \"reference\": \"CmRRAAAAEqgFIn9PPz3PM3QQZK-_DQSctutf-Vf4Zwij_n3M9b0VqDN7xpB4RVVVBIOQbcyCiyINjoxdF09d1tmmPg9NgeqGmwFlwrLRJvEp-FRzvlE381bGEJc3hNtHB4GWByolEhAoPtTbrAzh-AZPMPtCwBGkGhSHN6RvL2C1YQFy8uvx_BpsCfGalg\", \"types\": [\"general_contractor\", \"point_of_interest\", \"establishment\"]}, \"type\": \"Feature\"}]  and next_page_result =  []\n",
      "types: for Hilcorp+Energy+Company+Houston+Texas type(next_page_result)=  <class 'list'>  and type(array_of_features)=   <class 'list'>\n",
      "job_title put into googleAPI call is = geologist\n",
      "array_of_features =  [{\"geometry\": {\"coordinates\": [-95.4321022, 29.7305064], \"type\": \"Point\"}, \"properties\": {\"address\": \"5 Greenway Plaza Suite 110, Houston, TX 77046, United States\", \"id\": \"7394562c1f1a87dc4b6fa017b44a961df160f5ef\", \"job_title\": \"geologist\", \"name\": \"Occidental Petroleum Corp\", \"photos\": [], \"place_id\": \"ChIJjd5k24G8woAREjjHjBsq0Yk\", \"rating\": 4, \"reference\": \"CmRSAAAAj-t6xsX_dem1kPc9OvVSj5oHMYTAbEv8sIz7IrmpWBrlm1q39g21fzAOsaEuWm8C0BcU626JBjXJrpywA3fgfdgWEQ0MKnf1tL5YwVclvSFO8-SfUvk0j7-qSSSE_ZLKEhAvXAut0GAd0AgFSoyBFK79GhTQwg8vitk37_CsZwWPBwYsM39O1A\", \"types\": [\"point_of_interest\", \"establishment\"]}, \"type\": \"Feature\"}, {\"geometry\": {\"coordinates\": [-95.3970411, 29.9417677], \"type\": \"Point\"}, \"properties\": {\"address\": \"363 North Sam Houston Pkwy E, Houston, TX 77060, United States\", \"id\": \"bcfc0554855f942f730466fd447878511b6aa0b4\", \"job_title\": \"geologist\", \"name\": \"Occidental Petroleum Corporation\", \"photos\": [], \"place_id\": \"ChIJx73rqePJQIYRPjss3jFElZo\", \"rating\": \"NA\", \"reference\": \"CmRSAAAAKAWAR4X2J3u3vG5OEDZq6tVz-w_cKhwa-JI4lzcXUIWEvtq3FR3Ia2NtDdn9awXbTaK0_bxQ-lJnbRyfpeflwRBDkFgqSuHUa5MQE_Vn1AdXS6UnachqdMy98VmXueQsEhCdBv08UHcZqNfQIO_5c-qbGhTJ1UnhIkx-vBdOL0Wk1YQnxvLsiQ\", \"types\": [\"point_of_interest\", \"establishment\"]}, \"type\": \"Feature\"}]  and next_page_result =  []\n",
      "types: for Occidental+Petroleum+Houston+Texas type(next_page_result)=  <class 'list'>  and type(array_of_features)=   <class 'list'>\n",
      "job_title put into googleAPI call is = geologist\n",
      "array_of_features =  [{\"geometry\": {\"coordinates\": [-95.5438387, 29.7776847], \"type\": \"Point\"}, \"properties\": {\"address\": \"800 Gessner Rd #170, Houston, TX 77024, United States\", \"id\": \"91282085c6930276af6f7e2abf1ee0e0fc18432c\", \"job_title\": \"geologist\", \"name\": \"Murray Resources\", \"photos\": [{\"height\": 683, \"html_attributions\": [\"<a href=\\\"https://maps.google.com/maps/contrib/106500950429449697681/photos\\\">Murray Resources</a>\"], \"photo_reference\": \"CoQBdwAAABcF7H_fwDPf1Zf04d-mv6CzSTxVXzF_6ghr7f9AajIWYp0YUshF1d3eUvKaKCy_nMnQi_fVt6G6y9PhO7lH9ZhGbyWC9OO0IQA4oH7V0v5ekR-v204wxF5l4OYPAipEnvDri_sE8DqRsnjBZyLKFRXfi08GLKwfJWYhMnqssdTNEhC9vH4eSFp6N0rSzeRmvphAGhSpV1uHtNmR91GfTlSKFZ3yppylNg\", \"width\": 1024}], \"place_id\": \"ChIJRSYpxLzEQIYRsKFA9Ahm-Z0\", \"rating\": 4.6, \"reference\": \"CmRSAAAAeYdul-8pbZ5onhD6dX3MVI1sOFiiKDdjiApKdYH-snTOcAiFosRcKx7C0OTJsE566cFzcNkUKvZLyVo_RfCJ5_K0jtLxGXYIFmfOuWc8z0XcchTQ382SQy8UUw3ahr_hEhDFfTPfNtwtftARqnXno6gRGhSBl6F1-wjFfSNQkX6i9OEPOuO97g\", \"types\": [\"point_of_interest\", \"establishment\"]}, \"type\": \"Feature\"}]  and next_page_result =  []\n",
      "types: for Murray+Resources+Houston+Texas type(next_page_result)=  <class 'list'>  and type(array_of_features)=   <class 'list'>\n",
      "job_title put into googleAPI call is = geologist\n",
      "array_of_features =  [{\"geometry\": {\"coordinates\": [-95.411982, 29.838328], \"type\": \"Point\"}, \"properties\": {\"address\": \"707 Lehman St, Houston, TX 77018, United States\", \"id\": \"e3a902a8d57c6ee9d36a8e1a32fa39c463a33a0c\", \"job_title\": \"geologist\", \"name\": \"Intera Inc\", \"photos\": [], \"place_id\": \"ChIJI-1445THQIYRvn-6mbb_i8I\", \"rating\": \"NA\", \"reference\": \"CmRSAAAA1tBOcUerEFOA6DV8pcaRWuhI00pfGKMd10MAKYGddnrVKIq9sesXq2mrJd2by2ifwg-E7kVJPalTqcvNxWj86FwN1nOJHoYVitxXk-uTieXwybtC913twa10ZxQ7yr_uEhAuUnKpcWw3XZpWjr1foA_oGhRH0n2cNg61FbYCNAUP76j2u9xRQA\", \"types\": [\"point_of_interest\", \"establishment\"]}, \"type\": \"Feature\"}]  and next_page_result =  []\n",
      "types: for Intera+Houston+Texas type(next_page_result)=  <class 'list'>  and type(array_of_features)=   <class 'list'>\n",
      "job_title put into googleAPI call is = geologist\n",
      "array_of_features =  [{\"geometry\": {\"coordinates\": [-104.9784627, 39.6944262], \"type\": \"Point\"}, \"properties\": {\"address\": \"1221 S Clarkson St # 316, Denver, CO 80210, United States\", \"id\": \"8c59ffeb24d35d1eb742f8ee65608770285d5da6\", \"job_title\": \"geologist\", \"name\": \"High Country Executive Search\", \"photos\": [], \"place_id\": \"ChIJcZcUt1Z-bIcRV255-zThT4k\", \"rating\": 2.7, \"reference\": \"CmRSAAAAIBy1kfBeNhOFtz9u9O9nFBlV_ZBGY8Vbw8kWY4kWhUsYX-T8L9Q5fYZtPK_OkNHbWuQjphcrcwfTSWD92sOm2CN6F6fax5dEX8GOJYB1ZjX3QtpQysiQFiFvgl9yoQWdEhBIQJyt1uPkdQGOC550lNKnGhRhX5ZHMSCYb5Dv1K2GXW02gVAc9w\", \"types\": [\"point_of_interest\", \"establishment\"]}, \"type\": \"Feature\"}]  and next_page_result =  []\n",
      "types: for High+Country+Executive+Search+Houston+Texas type(next_page_result)=  <class 'list'>  and type(array_of_features)=   <class 'list'>\n",
      "job_title put into googleAPI call is = geologist\n",
      "array_of_features =  [{\"geometry\": {\"coordinates\": [-95.3574139, 29.8867077], \"type\": \"Point\"}, \"properties\": {\"address\": \"11939 Aldine Westfield Rd, Houston, TX 77093, United States\", \"id\": \"596dee2eed3253cb2fc6ebf53ac71041aa3694f7\", \"job_title\": \"geologist\", \"name\": \"Weatherford\", \"photos\": [{\"height\": 2988, \"html_attributions\": [\"<a href=\\\"https://maps.google.com/maps/contrib/107786689521565648284/photos\\\">Donnie Scott</a>\"], \"photo_reference\": \"CoQBdwAAAEccaFKZll5zYhK5hgs53wyFktVcVpHeI-aWL1d4f-wt-_Ub2blftG-N_qheY9TFApTA1wI5K2CxvuROOOFEPjNpJtqV9SPL92A4rblnuNQEiI5N91DhkY7wKkaT8_3e5jbisLSsV9CKI3Ep77j0w42aikSvL8S-_0AR3ZwVsy6hEhCTjIqFwU5r1hohzSWVcssiGhRbW5WJCB8jM4IFgEVO4R6gL7Hcrg\", \"width\": 5312}], \"place_id\": \"ChIJJTOHIp-3QIYRLKxLIjOV8yk\", \"rating\": 3.5, \"reference\": \"CmRRAAAAGf8DXsiEg6a7BHzY7N-xag2bTBPx_w-TuC3cCdKeNYPXVIm9CnbHj91zF9dP4mRJCDbp4WE0Dwmaj1MyZN5-rvytEyhylQhK3WsUTR3yWhCFxPLnlGS_uapFBMJO6I0IEhBqbQyuaaca-XoOzOW5_6-EGhR746e4k6daBz3ZdbKTWGpytCzvxg\", \"types\": [\"general_contractor\", \"point_of_interest\", \"establishment\"]}, \"type\": \"Feature\"}, {\"geometry\": {\"coordinates\": [-95.47312559999999, 29.74571959999999], \"type\": \"Point\"}, \"properties\": {\"address\": \"2000 Saint James Place, Houston, TX 77056, United States\", \"id\": \"52afd1ae1d4a85581d56feb80c02e3a0f203e7c6\", \"job_title\": \"geologist\", \"name\": \"Weatherford International Ltd\", \"photos\": [{\"height\": 5312, \"html_attributions\": [\"<a href=\\\"https://maps.google.com/maps/contrib/109977538253417550023/photos\\\">Toufik Djeradi</a>\"], \"photo_reference\": \"CoQBdwAAAD4au7G87ESMlP0plAxbsZWopz1k_-jgjjgpZJGkdoJP1q5m9_nvJ0ndNEh0sqAtWKHF3Hyd-Bh8HCKtWHPFILPgZxxKWpCMqWy7OajlFsePGCw3FM9a46784IetCrTbwVx0T6NFnIG8DrzmbB73HuehdQe9WqBB65nO2VxD8UqBEhD-UEe4m1jYHJdgq6s8pJt5GhQpqilme7TUATyB4HCQIp5c9uI6nA\", \"width\": 2988}], \"place_id\": \"ChIJ4ZM-A17BQIYR6GEbiv0fqjY\", \"rating\": 3.8, \"reference\": \"CmRRAAAAg83bPmeQtQZyl9_AkdNQemMXUiIdcUUDr7pwtE7sZjxFPChrvuvDAsIgzE4iqD1he_4IclAnfElQBtIAwbv2bgPxpemC78HUNIKncN2PWdvd76R13hu4WAYMrm277ZMBEhB2zbMeLLqnXJiixR3oJD4mGhTwtZFw1CWY_1wEv5cI3c-cVrhYoA\", \"types\": [\"general_contractor\", \"point_of_interest\", \"establishment\"]}, \"type\": \"Feature\"}, {\"geometry\": {\"coordinates\": [-95.59471649999999, 29.8775974], \"type\": \"Point\"}, \"properties\": {\"address\": \"11997 Farm to Market Rd 529, Houston, TX 77041, United States\", \"id\": \"952ed47a8b304b500d4c7fa4b2f7acc9d81862d0\", \"job_title\": \"geologist\", \"name\": \"Weatherford\", \"photos\": [], \"place_id\": \"ChIJN6mSK2jQQIYRsomU7nEAtQo\", \"rating\": 5, \"reference\": \"CmRRAAAASRu3SlWv86_gHMlTifyFzxkr1hFVGe6bYDuqBgOenDB2Vw_uwkZzjPo1myjVtJxhIGdIvMX5OG04UNSz23gey4EAt7HBxFCtDf2prtAw2_-YWhetb1qNbWCV4-bSMP2NEhCVfVdu6lgcX4F1uXrI63PvGhTNaa-EaH4xsYY3mIWvpKELmTMiGw\", \"types\": [\"general_contractor\", \"point_of_interest\", \"establishment\"]}, \"type\": \"Feature\"}, {\"geometry\": {\"coordinates\": [-95.4008035, 29.9623403], \"type\": \"Point\"}, \"properties\": {\"address\": \"18160 Imperial Valley Dr, Houston, TX 77060, United States\", \"id\": \"4d3095b9bb6426aacd6c3a9290d25e7a1271e552\", \"job_title\": \"geologist\", \"name\": \"Weatherford\", \"photos\": [{\"height\": 2268, \"html_attributions\": [\"<a href=\\\"https://maps.google.com/maps/contrib/103289608261407307137/photos\\\">KEVIN THOMAS</a>\"], \"photo_reference\": \"CoQBdwAAADHLzIlNaE3_qCROhaA1m5ApT4Vi_QDJg-Ud5tNBjkhVwlpVg6DUS0-qW6XcqoxnWKSX82v5X_gh65ptfvOTqX2DKpsu8RQ5P2KnkmkXypbHpPIKlEOQM7HzMCdNhLbWXFRu5gqih3H5DKkqxjSDqp8X5YrM6TXFB8aMhxP-b-YbEhD6x1azpltwcmCTdXNRRQM6GhTAfhbzgyUT5pqMfUY8zlOIvl53DA\", \"width\": 4032}], \"place_id\": \"ChIJ0-giCwTKQIYRcRakt7fNf8Q\", \"rating\": 3.5, \"reference\": \"CmRSAAAAJkTgdLr-WUGuOYOkE4vdU8MnIijVX-HWU8Tfec73C7z_jcafKh4eTjISeyn7OM-jZfE-zG9RhJtnCW1sVNU-Tr9xpcVZc2hT1HRB2hn0BTWwkr_Mee1ZGf8T_zdzsAp-EhBC80Pd3CsG7LJfAz4WjYSxGhSSReN05TLjuaZ4-EkSEp7lUTXysQ\", \"types\": [\"general_contractor\", \"point_of_interest\", \"establishment\"]}, \"type\": \"Feature\"}, {\"geometry\": {\"coordinates\": [-95.50646259999999, 29.8392312], \"type\": \"Point\"}, \"properties\": {\"address\": \"4409 Clark Rd, Houston, TX 77040, United States\", \"id\": \"5897514914025020b16834cc3321b79cd91ddcf4\", \"job_title\": \"geologist\", \"name\": \"Weatherford\", \"photos\": [], \"place_id\": \"ChIJRavrVZbFQIYR-V3u4J6Px6g\", \"rating\": \"NA\", \"reference\": \"CmRSAAAAdnk2E5uYfTtk5BTuO7iF55nAscDwfhMlZNdn0MvkdYRY3lAbzMvWmg-iPNzWbhHE0Ye4--bVvCMxa7VCx3n1F4Yf5u5hsMdhiyy508EQ-i5hKtdPJlRUNp5HqW5C-zGwEhAUZ2ZuzWH2Jm6SCJ6HwnakGhQiH_J2fT5VEo2FVIW7rBEB1IrGgg\", \"types\": [\"general_contractor\", \"point_of_interest\", \"establishment\"]}, \"type\": \"Feature\"}, {\"geometry\": {\"coordinates\": [-95.38671629999999, 29.9536867], \"type\": \"Point\"}, \"properties\": {\"address\": \"16210 W Hardy Rd, Houston, TX 77060, United States\", \"id\": \"d8740eea0d7d20abe22e8ee366dc5c88884d8890\", \"job_title\": \"geologist\", \"name\": \"Weatherford\", \"photos\": [], \"place_id\": \"ChIJaSSBtgC2QIYR1MT_9TLRMdc\", \"rating\": 4, \"reference\": \"CmRSAAAAqGr0Fg9Cw8hm_VSJzGd2DXIkPOzJaY_oLBEFtdoV0y2IJb3fy8UAfgTuWQIh3TmG_S20Ct_f1ac1sHMCzei9QNIppfbB1ECbgD4cgf9aP3QaczJTUcPcy2FzRrPrpelREhCqUpmow1BGjvhH8CNmmYTHGhQepmdjAITHWd90STqAYy3SXGubdw\", \"types\": [\"general_contractor\", \"point_of_interest\", \"establishment\"]}, \"type\": \"Feature\"}, {\"geometry\": {\"coordinates\": [-95.5414947, 29.8793251], \"type\": \"Point\"}, \"properties\": {\"address\": \"9600 W Gulf Bank Rd, Houston, TX 77040, United States\", \"id\": \"1410b97b0d3e49fac99b37306c2f239edf2cbfcc\", \"job_title\": \"geologist\", \"name\": \"Weatherford\", \"photos\": [], \"place_id\": \"ChIJIYP0x-rPQIYRQkqUN2zvUVk\", \"rating\": \"NA\", \"reference\": \"CmRRAAAAz8IggqTwzKwdUsAHBP4Jf94LMKcI_SgbX8VEMn8OLoB_2bR4d73uerjIDTUIHc9gfABQoP_EVnRUxiJ26MQl9sXRwduHTFwp_fRlurRcOx6qGpEqSPSKG4dcGcZzpNg5EhCbPKjAKMHDRATcXlo1AV6YGhQLyj48r9bl8_-JvTQzvizH_EYACw\", \"types\": [\"general_contractor\", \"point_of_interest\", \"establishment\"]}, \"type\": \"Feature\"}, {\"geometry\": {\"coordinates\": [-95.56310339999999, 29.86431019999999], \"type\": \"Point\"}, \"properties\": {\"address\": \"6550 West Sam Houston Pkwy N, Houston, TX 77041, United States\", \"id\": \"6af716c199aa85ab00b3099d81170d6589a15220\", \"job_title\": \"geologist\", \"name\": \"Weatherford\", \"photos\": [], \"place_id\": \"ChIJA--CRgLQQIYRlczuvd0DaDk\", \"rating\": \"NA\", \"reference\": \"CmRRAAAA672HtAc_jkUtm1HnlfcR9bbE_2qEngM28WWLBAzk4Brf9iZ4LFJ9UjgfChnmFuS_IzlRFu2FUffLB5CJmS3IAC6WGheMRMGuveqwXr24wKZ1JuBdVJVBfudlwj4nfPd7EhDWN-_2Pi8cFODZoA4lu3A_GhSeC9-ctzuAokZPjE1kt2RcIg6cMA\", \"types\": [\"general_contractor\", \"point_of_interest\", \"establishment\"]}, \"type\": \"Feature\"}, {\"geometry\": {\"coordinates\": [-95.5687557, 29.8280322], \"type\": \"Point\"}, \"properties\": {\"address\": \"3600 Brittmoore Rd, Houston, TX 77043, United States\", \"id\": \"292fb3ea5cda6a1e89be2a7e1edb634766ad609d\", \"job_title\": \"geologist\", \"name\": \"Weatherford\", \"photos\": [], \"place_id\": \"ChIJYxAfN8naQIYRx5yd_B1HBy4\", \"rating\": 4, \"reference\": \"CmRRAAAAHbEn_TpqR9z8bP2_F09vyFw07hnYSoBGw4En8c_nDCClCX0I6UsY6erVz_bsspIKyjl2kFOuoPRCb50O2hwYJOG5mPfEvVBHo0cVV3_CvWA-6_JayL06tktXGxDN7l6BEhAk-O_2FKAaF--gVDxf5cNqGhRKrjaosB6GOduZWJJM9136R7-tWw\", \"types\": [\"general_contractor\", \"point_of_interest\", \"establishment\"]}, \"type\": \"Feature\"}, {\"geometry\": {\"coordinates\": [-95.32106189999999, 29.95185230000001], \"type\": \"Point\"}, \"properties\": {\"address\": \"4420 Greens Rd, Houston, TX 77032, United States\", \"id\": \"0fea99fe6edf1976f5651dcee53a4c65b4b30561\", \"job_title\": \"geologist\", \"name\": \"Weatherford Us LP\", \"photos\": [], \"place_id\": \"ChIJb4d8jKW2QIYR9DvsxTaZDig\", \"rating\": 4, \"reference\": \"CmRRAAAANoIsDr-AJip_Cmsg0OKBT-kn9dWDIWa1pa5GMmgb1KYLAIvgbzQ-ZBESpH5uW4fIQL5PhCH79DQl501_bE889HKCkA8kr0uhl5m2A_sCwwq_7mc1r4zwt_AUqVzmLFL1EhA6UOMkC2YXKQp43u2jXv1TGhQKJTqVsgOcvEjzKKzKVydqvleZ9Q\", \"types\": [\"general_contractor\", \"point_of_interest\", \"establishment\"]}, \"type\": \"Feature\"}, {\"geometry\": {\"coordinates\": [-95.64149499999999, 29.7802045], \"type\": \"Point\"}, \"properties\": {\"address\": \"15995 N Barkers Landing Rd#275, Houston, TX 77079, United States\", \"id\": \"487c0f4fad0c96f92333e8445ffb7df4bbdd794a\", \"job_title\": \"geologist\", \"name\": \"Weatherford\", \"photos\": [], \"place_id\": \"ChIJgWVOPeHbQIYRD310QFCTldM\", \"rating\": 4, \"reference\": \"CmRSAAAApzeHX4mJr9u6vLBeGy9qE6zpJe8j1OBuuCwXs7_hikbYEEKXRoMb22Dd6dysRWD9bL1uKKW7bi7Wj8ssU9msmsFP5y6XU9Mad44TntqCbQiwUOKHAghv_8BEX5uO7xYTEhD-E1JcFfCc9KcGJYHeWytCGhQOOKUj4nSM6ZtucUnPP5Bx35GRrw\", \"types\": [\"general_contractor\", \"point_of_interest\", \"establishment\"]}, \"type\": \"Feature\"}, {\"geometry\": {\"coordinates\": [-95.49729029999999, 29.9313766], \"type\": \"Point\"}, \"properties\": {\"address\": \"10655 Bammel North Houston Rd, Houston, TX 77086, United States\", \"id\": \"ac2948f51dcbeb1d0caac8d3e79696ff62bb54df\", \"job_title\": \"geologist\", \"name\": \"Weatherford\", \"photos\": [], \"place_id\": \"ChIJ97T_sb_OQIYR3VDC1vCO01I\", \"rating\": \"NA\", \"reference\": \"CmRRAAAAe_cc8wXV1QhCq54WW17aelrYzrUy_rF9N3DM-wZjE2I9hmAlN72N2fEjp1wAaxiSn8nn25bw5PtvEFI1AITcsINUSurS1bd2GntcbIdhUoKGfLeeezAOC7dOCgfNXlLLEhBTE7wwXpRYsrWtESMHW2UPGhR6oKcE0w4hFv_pn1IpUy5z1RD36A\", \"types\": [\"general_contractor\", \"point_of_interest\", \"establishment\"]}, \"type\": \"Feature\"}, {\"geometry\": {\"coordinates\": [-95.46547729999999, 29.82209649999999], \"type\": \"Point\"}, \"properties\": {\"address\": \"5151 Milwee St, Houston, TX 77092, United States\", \"id\": \"7c57cdc787545fb5cdaa2ec867964d2a4a03a214\", \"job_title\": \"geologist\", \"name\": \"Weatherford\", \"photos\": [], \"place_id\": \"ChIJf8uI6mTGQIYRT2uM5UPk9Rc\", \"rating\": \"NA\", \"reference\": \"CmRRAAAATjTm6WW_HJ2CpYDVZfFqLzE9UhhoIUKds-QsAh6iXhbGPvIrfEi6yW_AgjLDuNLcspq2MdocbtsF8kThL6ogpzUYP42IspJgC6CABFytNh-AoH-wdao5UwHzYC8ggWBuEhDtMCuFW5V6qkNFRXQoTP8RGhTXwM1cYSfdCukzqpC3cJQguj6lCQ\", \"types\": [\"general_contractor\", \"point_of_interest\", \"establishment\"]}, \"type\": \"Feature\"}, {\"geometry\": {\"coordinates\": [-95.3308448, 29.9467059], \"type\": \"Point\"}, \"properties\": {\"address\": \"15710 John F Kennedy Blvd #700, Houston, TX 77032, United States\", \"id\": \"8c57b1d23f4bbd0979cfdc9220021c397e740316\", \"job_title\": \"geologist\", \"name\": \"Weatherford International\", \"photos\": [], \"place_id\": \"ChIJ8QvAT722QIYRFoA0kAAlp_w\", \"rating\": \"NA\", \"reference\": \"CmRSAAAAuheruYSjLZtCmRXqwvJo76w0-_uj176g7z_q4UlnZpgJ20PuVGvd4bufwBiFsnxlFO8ZI0ace-dNFPaWxyFihGXoHz1rg3FCWIjHyxatcJ_ZeiWd-K-sgGx6g09RH-JUEhBEBZoLKIvLpYWno53T2TViGhRmvtOnbnAfEIlW9pjQo7pjqJSS0A\", \"types\": [\"point_of_interest\", \"establishment\"]}, \"type\": \"Feature\"}, {\"geometry\": {\"coordinates\": [-95.5036944, 29.9384892], \"type\": \"Point\"}, \"properties\": {\"address\": \"5200 North Sam Houston Pkwy W Suite 500, Houston, TX 77086, United States\", \"id\": \"c35235ad15c043ae6d3fa786e635bdc00ba7e525\", \"job_title\": \"geologist\", \"name\": \"Weatherford Labs\", \"photos\": [], \"place_id\": \"ChIJbarkM5fOQIYRtdFDh1I4Ibw\", \"rating\": 5, \"reference\": \"CmRSAAAA3Qc20R8zL_Xj4UTcfx1IeFcqcjKP4V56ZL1WmnzF1cp_ZOUbuIUsclKURAHDLbmyzDS-bmmy5dKInI0a3z4LonfgjCb5LYWWv-xk8UtA7QusyUE8F0A_q4EkHbnxvm6JEhCSwX2wgmVPGR1NrfqZ1o6yGhQ03ynDdz0Gj934izz3e7W6VOQojg\", \"types\": [\"point_of_interest\", \"establishment\"]}, \"type\": \"Feature\"}, {\"geometry\": {\"coordinates\": [-95.551149, 29.9230152], \"type\": \"Point\"}, \"properties\": {\"address\": \"8845 Fallbrook Dr, Houston, TX 77064, United States\", \"id\": \"6012e90f06cdf2fc9891b68f8e37c07102fc4043\", \"job_title\": \"geologist\", \"name\": \"Weatherford Labs\", \"photos\": [], \"place_id\": \"ChIJhSfAKyPOQIYR3TfWmiitgdk\", \"rating\": \"NA\", \"reference\": \"CmRSAAAAEkO_e-8flgTBOyfrINbT9lMCfrvkJIJ4lfy3-YPIDt1oOjVCD8RiCJ6Os7rsTbktzSYc1I21NAJJzrzFVm34ucQBSBArgMsy1ecf-6KQ8n3B3OB2S9-9Xi1Vdq01RLMmEhDQz3Sb_rWRQDToLGgdWFZrGhRjNHP__M_XkEjbCioZs6pJRm3Puw\", \"types\": [\"school\", \"point_of_interest\", \"establishment\"]}, \"type\": \"Feature\"}, {\"geometry\": {\"coordinates\": [-95.58365099999999, 29.87864769999999], \"type\": \"Point\"}, \"properties\": {\"address\": \"11909 FM 529 Road, Houston, TX 77041, United States\", \"id\": \"34a35815f125719e685a25e281877fd0f3e707dd\", \"job_title\": \"geologist\", \"name\": \"Weatherford\", \"photos\": [], \"place_id\": \"ChIJN6mSK2jQQIYRkXRkecpsqOk\", \"rating\": 5, \"reference\": \"CmRSAAAA64szvuN6bwT2vXiCnIa7KFhKu9op6b80JxsqjfQOki-9Ox9qpYDLeEXSKrmwWwMnsJFsmc19QI-0iCXaEomNk0M0aBiElO9M6izQDDwnd4bv08-qYLBkHxFrZEBxTfuGEhAPGH5g8nozmwLd3dT_IuDhGhT3V_jhBGECFQH1M3yh_SjNcjieSQ\", \"types\": [\"point_of_interest\", \"establishment\"]}, \"type\": \"Feature\"}, {\"geometry\": {\"coordinates\": [-95.48866699999999, 29.9435503], \"type\": \"Point\"}, \"properties\": {\"address\": \"4420 W Greens Rd, Houston, TX 77066, United States\", \"id\": \"a0777591ff05d81829fbccf25c638ff0202494cb\", \"job_title\": \"geologist\", \"name\": \"Weatherford Wellcat\", \"photos\": [], \"place_id\": \"ChIJ7aT18q_OQIYRQVu3YUEkW8E\", \"rating\": 5, \"reference\": \"CmRSAAAAHlvboZz0IwNYb38I6_w2ykJQIitYJTUbSeowlfikYkd2zUCVodTedDLXDC1bKsOdCNBUTpTI3i6oczrm66Aro5e63vu0G-GuJHd3Vr4Q2mBgHleP16Qz1zq9SgY1NbxJEhB5rsFzkUAlEgy9TdWkwK71GhQ0Ui6xYuQmCkzCt6evjpKVvMaGIQ\", \"types\": [\"point_of_interest\", \"establishment\"]}, \"type\": \"Feature\"}, {\"geometry\": {\"coordinates\": [-95.66870100000001, 29.786041], \"type\": \"Point\"}, \"properties\": {\"address\": \"16430 Park Ten Pl, Houston, TX 77084, United States\", \"id\": \"1b41b81f14c05bef0bfa7b4b15ac1b253556cb23\", \"job_title\": \"geologist\", \"name\": \"Weatherford Us LP\", \"photos\": [], \"place_id\": \"ChIJK2PrHBXZQIYR5_WIovzEWWQ\", \"rating\": \"NA\", \"reference\": \"CmRRAAAAOqG4Nb6UmHDcNoUnn7x-SU0DRyx8COUIyXYUg48jIZj-F7byC_FwuMk16GrzBZgdXweSynIK-MM2IRS7X2qUOvPl6YtDR0gBIxiIip8WhvrXxva38HY2Z_qA22nFxa2PEhBFzFtUHueMEpnMvK0VS-DgGhRdEvU9tG1kAhvrZ5mBA8x-vIaQyw\", \"types\": [\"point_of_interest\", \"establishment\"]}, \"type\": \"Feature\"}, {\"geometry\": {\"coordinates\": [-95.0431184, 29.6908544], \"type\": \"Point\"}, \"properties\": {\"address\": \"11931 Hwy 225, La Porte, TX 77571, United States\", \"id\": \"e655333b194bd940ac7bab961f2556d75d128a2d\", \"job_title\": \"geologist\", \"name\": \"Weatherford\", \"photos\": [], \"place_id\": \"ChIJRe9oNwpgP4YRQAHsNXMU0vA\", \"rating\": \"NA\", \"reference\": \"CmRSAAAAO7repZsBmxg7MmfyPCCxeGFlONi8BfRhPECF3dy6x3kGfaJlRpyDscNMIv00kdRXBvpRW1KtA0BJgTO1j_9DgjURurVc3DC5OcKglCo7GGA2L9-i-TCehEaK6oM_qrctEhCDn1IcO4o7VgE2jv2qHjAIGhT7oIO7iKf8njUyNSMgZ1EaWRVAFg\", \"types\": [\"general_contractor\", \"point_of_interest\", \"establishment\"]}, \"type\": \"Feature\"}]  and next_page_result =  [{\"geometry\": {\"coordinates\": [-95.5314736, 30.6921017], \"type\": \"Point\"}, \"properties\": {\"address\": \"3170 Old Houston Rd, Huntsville, TX 77340, United States\", \"id\": \"cedeccf47c49b8605a49a68fe84e726e38ee952e\", \"job_title\": \"geologist\", \"name\": \"Weatherford\", \"photos\": [], \"place_id\": \"ChIJv4yIZc4IR4YRYzq6o-p4Qno\", \"rating\": \"NA\", \"reference\": \"CmRRAAAAg8X3fZx-Ej06SF4AbEXE2UaM-d1pMQWOduEzYr12XvkKMTZxBV7AxD129Os-FOuHPLazIigF5o6DxOdd0iHc9SiIybIT_ri3mFGBnc_b1VI1_bdXwcb2XGTB-ErX83OfEhC4lrM58fcJ4ahwyxhhUelqGhSgZ0t2EYSLpDd4x36wVvjCxdQhhA\", \"types\": [\"general_contractor\", \"point_of_interest\", \"establishment\"]}, \"type\": \"Feature\"}, {\"geometry\": {\"coordinates\": [-95.2559629, 30.0674877], \"type\": \"Point\"}, \"properties\": {\"address\": \"22001 Northpark Dr, Kingwood, TX 77339, United States\", \"id\": \"1cf42089a61995ee434212bf913c60fbc8b01cd3\", \"job_title\": \"geologist\", \"name\": \"Weatherford\", \"photos\": [{\"height\": 3264, \"html_attributions\": [\"<a href=\\\"https://maps.google.com/maps/contrib/116976098361550939190/photos\\\">Texan country75</a>\"], \"photo_reference\": \"CoQBdwAAABsvvCwM_lOMW2npMToTy4jCjXotrw0XwsFYeeMavQCQpkoOfBnfFxGW06wxEXXIEeE4vD_qiY2VlKPWdYiCp_BFm_CVrbiCnW-yooUC2ZZ4BxPeqQJ9Yt_8TxLbOUKs_40mikl5pB4xixjShs03dK7UcBoRae3O0Oz-0J8ltsOcEhCX_OZMoXgZlImHZEuAoKbcGhTSXwUSPXvDh78jlrcyIVp1LRvdUw\", \"width\": 1840}], \"place_id\": \"ChIJ9_DxATtNR4YR5x9qO1Lvfsg\", \"rating\": 4.5, \"reference\": \"CmRSAAAA3aUxp7HyVJxici4lx_x8YGNeb5lW1uV4U7cY25pKvjfHSyX-Owc0tCkVGtyH-PwCIVJBZ6z0XVylF4aQFpcO_iCGL4v3pu5VZ5kS7sdZdULPU43z8a62TY-gufHkZBtqEhBsVWXoW6lgYPrkklXF3JxBGhQWQArdb4d11v4Rg52cWqMrufIlnQ\", \"types\": [\"general_contractor\", \"car_repair\", \"point_of_interest\", \"establishment\"]}, \"type\": \"Feature\"}]\n",
      "types: for Weatherford+Houston+Texas type(next_page_result)=  <class 'list'>  and type(array_of_features)=   <class 'list'>\n",
      "job_title put into googleAPI call is = geologist\n",
      "array_of_features =  [{\"geometry\": {\"coordinates\": [-95.35959799999999, 29.766005], \"type\": \"Point\"}, \"properties\": {\"address\": \"1 Main St, Houston, TX 77002, United States\", \"id\": \"bbf863152c3e55a67956f9a69a36bfe8822bc16e\", \"job_title\": \"geologist\", \"name\": \"University of Houston-Downtown\", \"photos\": [{\"height\": 2988, \"html_attributions\": [\"<a href=\\\"https://maps.google.com/maps/contrib/113673164458451850004/photos\\\">raul medina torres</a>\"], \"photo_reference\": \"CoQBdwAAAFRgJoVy4my1ZArexUmdDS4dTbKKB1jzYvddch49Aszj2ozHEgAihc715aEtgNEzBMlHZ8hcw5XQxDKlO5Yx5XZQ010Hjil-ldZ9zSdJ8vQ9kZVCbkDMdxGl4f1IATZ4C11g4O8DNE9xbBYDlfvB1vRQcsG3zWxrUf7kAoP9AR1BEhD_w6mrXYhpvBrcgFhxVlTOGhShhA8rQuxSbzJqtcvb2EBF25DCIQ\", \"width\": 5312}], \"place_id\": \"ChIJ0_q_Zyy_QIYRVx8D5OgE30I\", \"rating\": 3.8, \"reference\": \"CmRRAAAA6tfEecfOsL2XGMvfuuh7RNZEaoOKlN6RwS-vuvzBrhSpEIQ2yYy-GPYuYv2IUFHDX5oxW1uMWdmJRNmeF3z0JEd_3uFVcyIDxhaoekhVLu98ELU2u0H1_9S8rreel1tREhAJekM_LW83cgkBxXbYuoI2GhQjEF_la5zzgTeE3poD5ZwhH4PA-Q\", \"types\": [\"university\", \"point_of_interest\", \"establishment\"]}, \"type\": \"Feature\"}]  and next_page_result =  []\n",
      "types: for University+of+Houston++downtown+Houston+Texas type(next_page_result)=  <class 'list'>  and type(array_of_features)=   <class 'list'>\n",
      "job_title put into googleAPI call is = geologist\n",
      "array_of_features =  [{\"geometry\": {\"coordinates\": [-122.275625, 37.558525], \"type\": \"Point\"}, \"properties\": {\"address\": \"950 Tower Ln #1800, Foster City, CA 94404, United States\", \"id\": \"7e06777636d6adc21fdbca3d2ed8b441a160f8b6\", \"job_title\": \"geologist\", \"name\": \"Jefferies\", \"photos\": [], \"place_id\": \"ChIJs2QUB9Cej4ARJhUwfIzrgOg\", \"rating\": \"NA\", \"reference\": \"CmRSAAAAbc2J-N0TItxavY2cgB_lOizmkPh6_k8DL3N9nGdgjTBixSruo_B6P6SZ6m04Tf3ZiyrpUGy8eeus6qCzhS7t87GlSsqLyoKgyWF4N7dzuCykySoTm8LQ60fP8YCddMfvEhBi5ITYVetge_r7OaJzcOpxGhRSMvEP5bkcNKpDs5BbE0MDWSzQtA\", \"types\": [\"finance\", \"point_of_interest\", \"establishment\"]}, \"type\": \"Feature\"}, {\"geometry\": {\"coordinates\": [-122.3978806, 37.7928294], \"type\": \"Point\"}, \"properties\": {\"address\": \"101 California Street, 31st Floor, San Francisco, CA 94111, United States\", \"id\": \"f3f72aae25c23a44ea8a2aa6adb8fb211f26b207\", \"job_title\": \"geologist\", \"name\": \"Jefferies\", \"photos\": [], \"place_id\": \"ChIJKe9WromAhYAR3cAopBvv39U\", \"rating\": \"NA\", \"reference\": \"CmRSAAAAjkWNNypRPnagq2XJXeDGydlGu9LuBJEQXRblA8rjZ2pckgg7ya_GNEAcao8lqR-ADqgbDWarN6JO6zT8K6KeU4zL7lkz7N18TY8RqqgIsyR6XIa61YYFEdLbw-H4O3OAEhCdQoNcdYAwEk7POViTIq1EGhTxGDWMZU4H4GkRAU43ey-oNUKymA\", \"types\": [\"finance\", \"point_of_interest\", \"establishment\"]}, \"type\": \"Feature\"}, {\"geometry\": {\"coordinates\": [-71.05365189999999, 42.355256], \"type\": \"Point\"}, \"properties\": {\"address\": \"125 High St #2501, Boston, MA 02110, United States\", \"id\": \"7ffde3d6cff784e78ea8bcb171183872e5de92f9\", \"job_title\": \"geologist\", \"name\": \"Jefferies\", \"photos\": [], \"place_id\": \"ChIJD1WRGoRw44kRt2okSmAY8_Q\", \"rating\": \"NA\", \"reference\": \"CmRSAAAAW2ft2ijc1SubIN5AQOiOPSShwxLLER7jmv0IaMq8LkXqLQCZTMFi2mSkw_09PrKi8VtTprwLUda9vsQT3WeHzEhg1SfyCy34heDY9AZeQUbfQGr650yTCrLwVu4dQjy8EhC53FIg7y8E6BdvUsNo8STnGhQd5zY1kkUo_KGkxPfQtfJOYzTNeg\", \"types\": [\"finance\", \"point_of_interest\", \"establishment\"]}, \"type\": \"Feature\"}, {\"geometry\": {\"coordinates\": [-96.8045276, 32.7935055], \"type\": \"Point\"}, \"properties\": {\"address\": \"300 Crescent Ct #500, Dallas, TX 75201, United States\", \"id\": \"cc98d97feb51539398ff89103412330162061df7\", \"job_title\": \"geologist\", \"name\": \"Jefferies\", \"photos\": [], \"place_id\": \"ChIJpdYdcjCZToYRXUE9oaMTdfY\", \"rating\": \"NA\", \"reference\": \"CmRSAAAAG6VeNreznQ9Mt4KJMHFfhbhyK-5PW1LsftChRArZvlccP3p8g7Gbk2WsJe0nP6A0A9Id51UzIlDg3Kvi4tpnUl05sVPVzXFYTMuwH1GcX3FJKSKsEnP13k3OAvrKsGoXEhBjR6Nut0BPTubdAl1lrwTYGhRTj3ffFD6nEYsuwRcuWiYaJRoAkw\", \"types\": [\"finance\", \"point_of_interest\", \"establishment\"]}, \"type\": \"Feature\"}, {\"geometry\": {\"coordinates\": [-79.378771, 43.646638], \"type\": \"Point\"}, \"properties\": {\"address\": \"27th Floor, 161 Bay St, Toronto, ON M5J 2S1, Canada\", \"id\": \"da82bb96080c04d16821bd1a24d171691993bf41\", \"job_title\": \"geologist\", \"name\": \"Jefferies\", \"photos\": [{\"height\": 3456, \"html_attributions\": [\"<a href=\\\"https://maps.google.com/maps/contrib/116434591653906538710/photos\\\">Pagan Eka Cheung</a>\"], \"photo_reference\": \"CoQBdwAAADtFI0LoJPYJ1dkBXxoxMkCSSqL124n-ls_Fqso20WkDKsxBFdGlLn0Q3HYAqxtBLO1MKL8YoKAaf9MschU9WDj38YoqLWgVuNoCMR1VzJSri5K_q2cmOpKrsz4Kz2Gx-eePk8au4s07Wheo8Z4b0D6-QEHzHO55G_PDhJMoOI08EhDReiwir_vue8XtHeTHtkNzGhRUE6T5LJpBOKnnjjBL2-KlHhg0VQ\", \"width\": 5184}], \"place_id\": \"ChIJ1x_nwizL1IkReVs3We_w1x8\", \"rating\": \"NA\", \"reference\": \"CmRRAAAArkJPZefEJ_o9YGuzg3HbY3QkxLz5kBQGGm6ee3oVIFFiqS3wV0fkxrSkOdD1c-eZQzEf6TDONhCOqRu7CpauJQ-vWu1N4-n1yRmKi4Yud0co2rp_qmyTsMGJYuireBe9EhCly9TBMZcQDrXd3lAio0ZaGhReNUXub-Wjp7D81pRdhck_Nq957w\", \"types\": [\"finance\", \"point_of_interest\", \"establishment\"]}, \"type\": \"Feature\"}, {\"geometry\": {\"coordinates\": [-73.9744177, 40.7603369], \"type\": \"Point\"}, \"properties\": {\"address\": \"520 Madison Ave, New York, NY 10022, United States\", \"id\": \"5c9d17fe71a3786786cdf466499afd00d993cf95\", \"job_title\": \"geologist\", \"name\": \"Jefferies\", \"photos\": [{\"height\": 362, \"html_attributions\": [\"<a href=\\\"https://maps.google.com/maps/contrib/111560879677599884394/photos\\\">Jefferies</a>\"], \"photo_reference\": \"CoQBdwAAACFy2jHVbRaI1SzpY1O7V3fMLPbHDBXlRRIrTzstUAst_j-ULtD5Z4UaAfF_TV7v7Q3qz2L5QttJ0EqvSWTH-a5bIHmbK94Ao_gxPTc_TzRHmWpnIAIW67KhNV3tdEuVGT1S8ukQHFxMHe430_RyOw9k4BKqGg7ujueagddEU6fVEhA_2x-3ZBevVJQD3X0HbXI8GhT-2O5g0W72S6lqVSRxsHhP7egbgw\", \"width\": 362}], \"place_id\": \"ChIJoUYfoftYwokRCuxgQHsUnnE\", \"rating\": 5, \"reference\": \"CmRRAAAApuPL_NJPjl8lc6geSIEQp5gzrAZPPmYDj88BB0LciKSA7q6rX_hrjnd8bnqq46A9t5kgWulvbdsGf1Ca0XJjwGicTLTbKFazSoB3RvnMMZ3g8DjXtGnN5mSuigp8z9cLEhBuWGP6OZD_t243Vl7-0F0rGhSV4AqKgoz62W9DrS7EdXO14Hv7nw\", \"types\": [\"finance\", \"point_of_interest\", \"establishment\"]}, \"type\": \"Feature\"}, {\"geometry\": {\"coordinates\": [-77.0330278, 38.90163099999999], \"type\": \"Point\"}, \"properties\": {\"address\": \"901 15th St NW, Washington, DC 20005, United States\", \"id\": \"a3abc9db98ff79fbe2a66836cdb2b354fd2f0a01\", \"job_title\": \"geologist\", \"name\": \"Jefferies\", \"photos\": [], \"place_id\": \"ChIJV9STDb63t4kRU0LXiQVo_uI\", \"rating\": \"NA\", \"reference\": \"CmRSAAAAhKrXkSjHAWvfRVBwlHLI0iGeFRCzYda5LFFAjueXVMp0QY_Ot_-46mBcdEQfSRvEBBPK2DCpJISUHwO5lW1M55LM2QUiSfEUGeKKU2VyXyIJFj1C9BEkFd2_ij1MNJ6AEhA6cBQYnqfwaSCz5DNe4eCzGhRnoEajEoF_z773uQG-jYlRX1n90Q\", \"types\": [\"finance\", \"point_of_interest\", \"establishment\"]}, \"type\": \"Feature\"}, {\"geometry\": {\"coordinates\": [-118.44446, 34.046451], \"type\": \"Point\"}, \"properties\": {\"address\": \"11100 Santa Monica Blvd, Los Angeles, CA 90025, United States\", \"id\": \"1f734b0fa44ab213ffda9722ef71037ffd95192e\", \"job_title\": \"geologist\", \"name\": \"Jefferies\", \"photos\": [{\"height\": 2398, \"html_attributions\": [\"<a href=\\\"https://maps.google.com/maps/contrib/108148696520494170138/photos\\\">Svein Rorvik</a>\"], \"photo_reference\": \"CoQBdwAAACeV9o0b3hK-jr8_45A_YRy-wlHeNgE6AWQ7A2kJxI5Y0pVaf_VFkdKZPzUR-FQOtRLWWup90XBGtWNfpAztR_pfBIgtE3BCI4K9iAEkEpmxZf0T5kBIIAqlBMQV46i6JuHWI06CHGY-kGBVCLP4j6Ft6IOA_3ocEZckhYEVFzDjEhBoQqzYUmbk3Vjlk61YzJMeGhR2LLOdacUO6xKvWKE7YCIjWSbeHg\", \"width\": 2772}], \"place_id\": \"ChIJCYCyNXe7woARVslK_YSmhWc\", \"rating\": \"NA\", \"reference\": \"CmRRAAAApEBJa086wIR7wPFl7y8aWZlv0H1Kls7DiYxVL59O2lb5N878-rVAcOpONpHj-7jpb24ldpoLvT8h3wv4EYYtnj0T-uqVllBCjbpR0i1TF57aehkrrfcXrLm2lVE81OMXEhCAw9qsuG8Jl_BuuUU31hcjGhSOJgWMlWGrHDZR5Gkwp2xge5JXhg\", \"types\": [\"finance\", \"point_of_interest\", \"establishment\"]}, \"type\": \"Feature\"}, {\"geometry\": {\"coordinates\": [-84.364085, 33.8501094], \"type\": \"Point\"}, \"properties\": {\"address\": \"3414 Peachtree Rd # 810, Atlanta, GA 30326, United States\", \"id\": \"c147c4827a2b979e025e9c92b823fa1ac4e5b571\", \"job_title\": \"geologist\", \"name\": \"Jefferies\", \"photos\": [], \"place_id\": \"ChIJC3xHblcP9YgRfBn2MLL9fOw\", \"rating\": \"NA\", \"reference\": \"CmRSAAAAnsALhliWCAEgwkt8JDp7KcvMmCCMunayogM0rgsoZhkHWrpiVcvnh-8XSH4b3rzz5m9FeVhJdGj-D5rKO2u0-ew1RtIBMQ-1BlyjyFwfD4-9xawzx9i0f-NYdCFfJx7jEhD8pLKv5mdeIA9ZLLFxLvh-GhQw-NxcKTv2FMDZkGgnSz7BZfj7BA\", \"types\": [\"finance\", \"point_of_interest\", \"establishment\"]}, \"type\": \"Feature\"}, {\"geometry\": {\"coordinates\": [-86.7961041, 36.1525657], \"type\": \"Point\"}, \"properties\": {\"address\": \"1801 West End Ave #420, Nashville, TN 37203, United States\", \"id\": \"823ef22929ba0b4f9454338bdfb2f72d8a5bbcf0\", \"job_title\": \"geologist\", \"name\": \"Jefferies\", \"photos\": [], \"place_id\": \"ChIJZVTrPrtmZIgRQb4EqhRexts\", \"rating\": \"NA\", \"reference\": \"CmRSAAAAJqjgI3lnfJjLVzRPnaXyWSwFSlhblent6uJUHccbZG2YLJebddq1WqTgmLVFvPE7kmdXQaMwbVdI5zBZYuHzy0LddeHfiRDT1RTdqGwq4YnPgylw00KcFPcJqU5BOAoREhCCEPqfPQLvvnAIpuMyC5tJGhSIKc_6VQvYiMpv0doMqj7neNd-Zw\", \"types\": [\"finance\", \"point_of_interest\", \"establishment\"]}, \"type\": \"Feature\"}, {\"geometry\": {\"coordinates\": [-104.959443, 39.685042], \"type\": \"Point\"}, \"properties\": {\"address\": \"8310, Valley Hwy, Denver, CO 80112, United States\", \"id\": \"dc67f46a972c780d5a23722990156fef19ca4f11\", \"job_title\": \"geologist\", \"name\": \"Jefferies\", \"photos\": [], \"place_id\": \"ChIJN9OWSmp-bIcRyJZCvpUJfNw\", \"rating\": \"NA\", \"reference\": \"CmRSAAAAX2dRk8kW-1jmgynFdG3xBKMBk8RLm0Xhy7SQzGia4_bGygb3csuIStZS1p9a4w2Bx6UX8YzL0oJA4V5axHqreZrEJ7xu306sIVxkA6PTOh1ihc68AWGrsFb_Km-8A0hJEhBanUySiY64a4DEqeEoM6-kGhShD8Ei6EG5wCG0RmXAtvrlbU00gw\", \"types\": [\"finance\", \"point_of_interest\", \"establishment\"]}, \"type\": \"Feature\"}, {\"geometry\": {\"coordinates\": [-74.0754935, 40.3503972], \"type\": \"Point\"}, \"properties\": {\"address\": \"2 Bridge Ave #321, Red Bank, NJ 07701, United States\", \"id\": \"cb923c49e27e44bbe257542729fde12803139a29\", \"job_title\": \"geologist\", \"name\": \"Jefferies & Co Inc\", \"photos\": [], \"place_id\": \"ChIJkVuhPzUwwokRAvoqrkDuv-4\", \"rating\": \"NA\", \"reference\": \"CmRSAAAAdEbEDiE-oXc44Rmey7QriZpaeSGXXlI7kh8vUZdrLSKFq2_pd5o_KsZZyueD6C_XO2LP1m9cEMVVbWwFlR34r67HHenO4a8UM_7ECukxGs7vEq_aAIsKM9dOwHpjjNt4EhDkUqFqY38vChpHtUqPySEuGhRzIOe1aralUa7HA_Wv4BQOvDbPyA\", \"types\": [\"finance\", \"point_of_interest\", \"establishment\"]}, \"type\": \"Feature\"}, {\"geometry\": {\"coordinates\": [-0.09169, 51.510839], \"type\": \"Point\"}, \"properties\": {\"address\": \"68 Upper Thames St, London EC4V 3BJ, United Kingdom\", \"id\": \"16aa8fcbad4606de754460e59f1654af80bf8c82\", \"job_title\": \"geologist\", \"name\": \"Jefferies\", \"photos\": [], \"place_id\": \"ChIJ3cf991UDdkgR5yj4BrdRvIw\", \"rating\": 5, \"reference\": \"CmRSAAAAcqExv4vKL3wx1S3S-1Hexbntrzac8AUkzMKLMaMlIE_mKujWsFJ-P1HaKddSlDBeY46tHNM-dqm64aG2Fe7uJNuuYDa18YnrvwchlPkWqlUhs0xvixrVqXhnpzXO3F1XEhCbOs9lgA2ej_6wX8iHqyptGhQ9pzODMj_XHiI6__4zdkYwnAYJQA\", \"types\": [\"finance\", \"point_of_interest\", \"establishment\"]}, \"type\": \"Feature\"}, {\"geometry\": {\"coordinates\": [-87.636674, 41.884755], \"type\": \"Point\"}, \"properties\": {\"address\": \"155 N Upper Wacker Dr, Chicago, IL 60606, United States\", \"id\": \"49d81feffe7475e9d597b5a4a7217e6b8f8955ed\", \"job_title\": \"geologist\", \"name\": \"Jefferies\", \"photos\": [], \"place_id\": \"ChIJRR8jPr8sDogRVLTfPLlxyJk\", \"rating\": \"NA\", \"reference\": \"CmRSAAAAyLzUq7EoysoDjWaJnFMCHh2XLG_TsC7zmnz7Q8om15Y6IFZLFR-xONaApfsrYLkcBmdG78FMN8on-jKHvz_foPJutzoKAMbpSjA0i-2kDOG9UHBFhjENNEXk3NiClnrfEhDcx1wsEPjCe2vCut1HN--NGhRC_tsTuKWtcV1VTp43aY3V40kc_A\", \"types\": [\"finance\", \"point_of_interest\", \"establishment\"]}, \"type\": \"Feature\"}, {\"geometry\": {\"coordinates\": [-95.372164, 29.757501], \"type\": \"Point\"}, \"properties\": {\"address\": \"333 Clay St, Houston, TX 77002, United States\", \"id\": \"795a3515ff023985c96d55d60c8eefcdc6c9ee0e\", \"job_title\": \"geologist\", \"name\": \"Jefferies\", \"photos\": [], \"place_id\": \"ChIJe81fkji_QIYRhzwdUhh-ygw\", \"rating\": \"NA\", \"reference\": \"CmRRAAAAcuVtnCt_zbONYBMjewYjaroK1E1LrG846Kp6YTA2ZaNYSDRalN_PI6EIobmmTveOcthin1p-X8RCu_h_rN_CF6-vPpMgLoWP1isdlAzxc8SxNT5CMPjD4xxPGzlDRWAlEhA86rseKcptkbvePLKwLRNOGhQvlus3kxnLvNGNtaksE0saSgUeUQ\", \"types\": [\"finance\", \"point_of_interest\", \"establishment\"]}, \"type\": \"Feature\"}, {\"geometry\": {\"coordinates\": [2.333494399999999, 48.87131719999999], \"type\": \"Point\"}, \"properties\": {\"address\": \"8 Rue Hal\\u00e9vy, 75009 Paris, France\", \"id\": \"30f5f39e3a041d69dab3a7b0f6964c968a6bc39c\", \"job_title\": \"geologist\", \"name\": \"Jefferies\", \"photos\": [], \"place_id\": \"ChIJ5dGANDdu5kcRddLzsPt-RHY\", \"rating\": \"NA\", \"reference\": \"CmRRAAAAvVbM4bgreFWNqhAQ_oFhOo_xb6j8kpCdhyQcuRXRey1QqylTlgDyIuCskqlH5OOEOkymxq425DvPazRKEOSwqSyRwPlUDXuo9C2Fba483YSP5CZ_6NtwYynpbNnw1s65EhCQINS6LwZlpBEW6aP75BpNGhSHe-XQ_NLkI9jDq8bmJjIf1WpWZw\", \"types\": [\"finance\", \"point_of_interest\", \"establishment\"]}, \"type\": \"Feature\"}, {\"geometry\": {\"coordinates\": [9.994197000000002, 53.561003], \"type\": \"Point\"}, \"properties\": {\"address\": \"Gustruf-Haus, Neuer Wall 10, 20354 Hamburg, Germany\", \"id\": \"247d14331ef9d3182bcf4b0546417996d313f2b2\", \"job_title\": \"geologist\", \"name\": \"Jefferies\", \"photos\": [], \"place_id\": \"ChIJGZ6nyiOPsUcR15znBuLzC-c\", \"rating\": \"NA\", \"reference\": \"CmRSAAAA1Mw88l2tOsaf4xGgMrE-6Y3zVFijwHiYX_komsZ9RYz5PfGg9hUQIkMLUqGTl2dsLnW7HwjgBB5GjuCyuMr7nYu2Jmg_f5SpbZa6W_gMAF45KVwL5j9FHhHuV5wJVsJqEhCLhs-FcuTelUuGfPkjdxldGhR3Iiqwv89HWQS2S2IuUdcSoTXSdA\", \"types\": [\"finance\", \"point_of_interest\", \"establishment\"]}, \"type\": \"Feature\"}, {\"geometry\": {\"coordinates\": [8.66668, 50.11728000000001], \"type\": \"Point\"}, \"properties\": {\"address\": \"Bockenheimer Landstra\\u00dfe 24, 60323 Frankfurt am Main, Germany\", \"id\": \"0bf8f8c6f3a87543451cb9ac432cc371447b6126\", \"job_title\": \"geologist\", \"name\": \"Jefferies\", \"photos\": [], \"place_id\": \"ChIJm0gohFIJvUcRXP1pO-J7MnA\", \"rating\": \"NA\", \"reference\": \"CmRRAAAA_I5kCOx3nKYrs_xKS2CGCxKspljvUiNUmNCSPrhp77KE_jE0-dYoTXZszO5FVm73HUCVtRF8ES04nQqLSLYR_X44gUywk7YEI_3hCMIAfFJPBXad58-vmYZJlr_pbqBNEhBbmjQiK6Zxafg6X94u4WwSGhT-0RHM1ZFbXsZ5wxwoSFcVaaPqNw\", \"types\": [\"finance\", \"point_of_interest\", \"establishment\"]}, \"type\": \"Feature\"}, {\"geometry\": {\"coordinates\": [18.068962, 59.338057], \"type\": \"Point\"}, \"properties\": {\"address\": \"Stockholm Filial, Engelbrektsgatan 9-11, 114 32 Stockholm, Sweden\", \"id\": \"32c0c0503253cb4102e8e9ef000f74d500e7edea\", \"job_title\": \"geologist\", \"name\": \"Jefferies\", \"photos\": [], \"place_id\": \"ChIJnRZ8Ml2dX0YRpZhwaHHPD7s\", \"rating\": \"NA\", \"reference\": \"CmRSAAAAhdzhKvOMwSkF-KJWv2gNIqLDZhxjrAV6YKiLSGBAk39Kmaq1GBKcja-59NALY7wTuaLQOG0KqAdJLnHacx7drqsHX8dHwryiuUiUa1MgoN28JwbSpwINRxI9Xkk14m1iEhCeQGIyJY5OHSLoHOlnh5MaGhQKI8AeQIkzRXEydDSaREkHOxMDTQ\", \"types\": [\"finance\", \"point_of_interest\", \"establishment\"]}, \"type\": \"Feature\"}, {\"geometry\": {\"coordinates\": [8.536747599999998, 47.37468619999999], \"type\": \"Point\"}, \"properties\": {\"address\": \"Uraniastrasse 12, 8021 Z\\u00fcrich, Switzerland\", \"id\": \"706f759790f274368ebadd7669bdddfb1f300865\", \"job_title\": \"geologist\", \"name\": \"Jefferies\", \"photos\": [], \"place_id\": \"ChIJ004peQYKkEcRuCX3Ds2Agqo\", \"rating\": 5, \"reference\": \"CmRSAAAA1D1blRxFAaf-v22XIs7bolRsT3lpT5HyEAPsYsKV1PHUxPibblpzKRSLascnxx9HmS6ZlgfT2RnVyycFzPpvhwlacvRw6IgaOChgQ1tT5S8KY_QECRcf4dQkGGkWWzN_EhC98b_KZfuxIeeanW8TdwRBGhSLQbD4uyENrY7wnkqbUd8ymCbKIQ\", \"types\": [\"finance\", \"point_of_interest\", \"establishment\"]}, \"type\": \"Feature\"}]  and next_page_result =  [{\"geometry\": {\"coordinates\": [9.1927144, 45.47114999999999], \"type\": \"Point\"}, \"properties\": {\"address\": \"Via Gastone Pisoni, 6, 20121 Milano, Italy\", \"id\": \"0196f3543005ee21ce94653f9f72d1c4ff380b14\", \"job_title\": \"geologist\", \"name\": \"Jefferies\", \"photos\": [], \"place_id\": \"ChIJIQBvRLHGhkcRBK8WOs83xeU\", \"rating\": \"NA\", \"reference\": \"CmRSAAAA3jSTj2RQ853DE9VgJS6T0PL9e0LzZCpQgvPyTIU-fkf5rvspE0k_AH-Al7R5dFUOqnhiv3liqRdvfdcp_gHcgKVFve8cPf4SzrgU0NfWlqNOHI3vWZ1l2YgbMODGb5oAEhBOv4Dd6XxGHrJ0mjUKrotkGhQU1fqBdpggKnXKNYRQaDUfEvd3Lg\", \"types\": [\"finance\", \"point_of_interest\", \"establishment\"]}, \"type\": \"Feature\"}, {\"geometry\": {\"coordinates\": [139.759617, 35.67455799999999], \"type\": \"Point\"}, \"properties\": {\"address\": \"Japan, \\u3012100-0006 Tokyo, Chiyoda, Yurakucho, 1 Chome\\u22125\\u22121, \\u65e5\\u6bd4\\u8c37\\u30de\\u30ea\\u30f3\\u30d3\\u30eb\", \"id\": \"ce47c7f7aa5270ea44df3cf5433c673bbc08367b\", \"job_title\": \"geologist\", \"name\": \"Jefferies\", \"photos\": [], \"place_id\": \"ChIJWarr0fGLGGARcT3H0yYXuso\", \"rating\": \"NA\", \"reference\": \"CmRSAAAArYPw7-PCs0-cwlwjw3-FTP2sMt-29X2ErI8pFYl66O9FjMS8u5b02R3VKYKaewY5iaw5iDRsJspM9ieuctYTWTIi1wvpnpz8IDHLg6EvqFUlAAVlo-yJ0amSP0hQn26kEhC_UD3Mn6hqqo9NVn7nkDPbGhR-ZpEHeb9Y4BHgmstrloGg3swOQQ\", \"types\": [\"finance\", \"point_of_interest\", \"establishment\"]}, \"type\": \"Feature\"}, {\"geometry\": {\"coordinates\": [-80.836888, 35.15475], \"type\": \"Point\"}, \"properties\": {\"address\": \"4201 Congress St, Charlotte, NC 28209, United States\", \"id\": \"0b249d83e61495c08feacffae4674ad9954ac2cb\", \"job_title\": \"geologist\", \"name\": \"Jefferies\", \"photos\": [], \"place_id\": \"ChIJxYsMkUGeVogRyacQOm8sC04\", \"rating\": \"NA\", \"reference\": \"CmRRAAAAQ_lyP8mCwfyvAbUtEzzT3euXkmS0s8xkuhHugCSKSpTub8RdcBLjJNdCMMaTzqSACUqIteSg5yFotbzSue6AP8b5IzDsdmr9uTvWhzyqy8pVoWizlL3VfFodo-ZBvNt9EhBusAfxIgTXfzPCwa7AKOFwGhQCwPccNi9CtwNCbvCnr5kxc2f-vw\", \"types\": [\"finance\", \"point_of_interest\", \"establishment\"]}, \"type\": \"Feature\"}, {\"geometry\": {\"coordinates\": [114.1605929, 22.2795494], \"type\": \"Point\"}, \"properties\": {\"address\": \"Queen's, Cheung Kong Centre, Queen's Road Central, Central, Hong Kong\", \"id\": \"5be926cc35ddde2f5d4a4e57af463e2d0b24742d\", \"job_title\": \"geologist\", \"name\": \"Jefferies\", \"photos\": [], \"place_id\": \"ChIJtcINSGQABDQRey_nJqMF0M8\", \"rating\": \"NA\", \"reference\": \"CmRSAAAAqjxHSKnvjm3W0Rrod4vHOMHyUIXNJVNcItoo7tqFIve122VasfZgUU2Ygz9G__HGUKiNZbxkzFB-Ap6zJ86x13PLw89HGyrveD-ihrJeAKrx_hX9bCsryrB2y841dvRBEhAobwk-UbdqNFHG_yBLDeelGhSEq6Zb4BfA0u3jdSUp0gFliJmhHg\", \"types\": [\"finance\", \"point_of_interest\", \"establishment\"]}, \"type\": \"Feature\"}, {\"geometry\": {\"coordinates\": [72.85015779999999, 19.0544241], \"type\": \"Point\"}, \"properties\": {\"address\": \"42/43, 2 Maker Maxity Bandra-Kurla Complex, North Avenue, Bandra East, Mumbai, India\", \"id\": \"2f56ad58e9e66a438df52ceef7b6c0618ea88e0d\", \"job_title\": \"geologist\", \"name\": \"Jefferies\", \"photos\": [], \"place_id\": \"ChIJNdDROOzI5zsRWSsSLS-DRaw\", \"rating\": \"NA\", \"reference\": \"CmRSAAAAMetHfmC7WqFv3nwrEud-SWbwb0_YvmJIcQWdPe5rgtdlOCBTQrzEkyyweKg_xJBvqYM_GFeN1K3BEdoGRRE5hLaZHbNI0DBvQdaqNuJUTsgM0jKJ6EU0lzCtlNdXC65oEhDWqmazB55p0hq4HTuPgCRvGhSOFfABs-rQcbRMjH6V7CJD8AucKQ\", \"types\": [\"finance\", \"point_of_interest\", \"establishment\"]}, \"type\": \"Feature\"}, {\"geometry\": {\"coordinates\": [103.85054, 1.285361], \"type\": \"Point\"}, \"properties\": {\"address\": \"80 Raffles Pl, Singapore 048624\", \"id\": \"3b31afe43883234a7b8f21f12284d833b7c8ebfb\", \"job_title\": \"geologist\", \"name\": \"Jefferies\", \"photos\": [], \"place_id\": \"ChIJfQgUvw4Z2jERpA6m53oemMY\", \"rating\": \"NA\", \"reference\": \"CmRSAAAAvbPPAdkqnAKy38PvBwqDj6QIQBYWm4jwk4ZMCgB1nsUSw5DYfefRa5WoenXG843GArOV5kNcqx_P7da8inwxGNqPAki6i6TpFdqTlXXhRwtKc2WWXQPKckWS7PhgwcYiEhAcEOCymD9d3oaiqzZZ9o9aGhSw926y1dXdOKErfgcxuwy_9EuCOg\", \"types\": [\"finance\", \"point_of_interest\", \"establishment\"]}, \"type\": \"Feature\"}, {\"geometry\": {\"coordinates\": [-89.6737709, 39.887486], \"type\": \"Point\"}, \"properties\": {\"address\": \"1016 Jefferies Rd, Springfield, IL 62707, United States\", \"id\": \"10b303e39d1aec242d219887e8a8ae5d6e1a79d0\", \"job_title\": \"geologist\", \"name\": \"Jefferies Orchard\", \"photos\": [{\"height\": 1147, \"html_attributions\": [\"<a href=\\\"https://maps.google.com/maps/contrib/117859920843823525721/photos\\\">Jefferies Orchard</a>\"], \"photo_reference\": \"CoQBdwAAAD8jaKrMp9dmZFFI0dyD1Za_kKv7lrd9YHjMUIzstyuegGDExxl3TOeCsgujeDYQtgeiMRtOLG5LaENrOnsP4BE1Bkz_rlnAdbJMdZp0DqPxOYByZ7hbTFb3lEqReQXrVoTFof_eCblMdzmo_L36Kd2O6ydifB6KiMkviaZmk6szEhD0HD7S0xP_yti_YjnKaiqzGhSftuvPA0gsYThlXASmBzCOlRSBuQ\", \"width\": 1146}], \"place_id\": \"ChIJGwQ94W82dYgR38M6tAbNGSg\", \"rating\": 4.9, \"reference\": \"CmRRAAAATq75QbmOuRwB4mx8f5f37kNDTuqRc46YiE9c_N_kl35KQflQUGwLtUhFlakjr1o7_oEcebLZnkvkFKTPDWdW4o0R_Tmkol1GwTHUoNfXBtSXAKVSrZiMaMLKISarbs_MEhClc7dsisUj-BtZ9yI0KSg0GhSG9sUutjBzxB3mErtXS78TRYcjpQ\", \"types\": [\"grocery_or_supermarket\", \"food\", \"store\", \"point_of_interest\", \"establishment\"]}, \"type\": \"Feature\"}]\n",
      "types: for Jefferies+&+Company,+Inc.+Houston+Texas type(next_page_result)=  <class 'list'>  and type(array_of_features)=   <class 'list'>\n",
      "job_title put into googleAPI call is = geologist\n",
      "array_of_features =  [{\"geometry\": {\"coordinates\": [-95.36392040000001, 29.7558061], \"type\": \"Point\"}, \"properties\": {\"address\": \"1001 Fannin St # 1500, Houston, TX 77002, United States\", \"id\": \"f9c309a151d083c3d995d8e59499778d8c495ccd\", \"job_title\": \"geologist\", \"name\": \"Oasis Petroleum\", \"photos\": [], \"place_id\": \"ChIJr9ZsYDu_QIYR4jOwJRL56Zk\", \"rating\": 5, \"reference\": \"CmRSAAAA6Amiu4TLamdq9pqeGmvAIjNwElTdPtutT8d1VOd3yJaM8T9Cmv6V1kYUokY59UhTVOrk8cV5mxQ-VMvvL3Xkx8335uGfdfrBQsuw4XCp7T_DSFSwjPPX-3np3LoKJz9wEhBDPTWTsInDJkaaiygw5_C1GhTlAErja0BPjR4ibWaCPKc93pGjkA\", \"types\": [\"point_of_interest\", \"establishment\"]}, \"type\": \"Feature\"}]  and next_page_result =  []\n",
      "types: for Oasis+Petroleum+Houston+Texas type(next_page_result)=  <class 'list'>  and type(array_of_features)=   <class 'list'>\n",
      "job_title put into googleAPI call is = geologist\n",
      "array_of_features =  [{\"geometry\": {\"coordinates\": [-95.5015712, 29.7513106], \"type\": \"Point\"}, \"properties\": {\"address\": \"1616 S Voss Rd #1000, Houston, TX 77057, United States\", \"id\": \"a626299a58965fab800792adff33c7961eae6309\", \"job_title\": \"geologist\", \"name\": \"Hart Energy (Oil & Gas Data Provider)\", \"photos\": [], \"place_id\": \"ChIJRzKfmJPDQIYRcAIeSuMCH3k\", \"rating\": 3, \"reference\": \"CmRRAAAARgml-MvQ2tbnJyY6osKvkU7CMrud3mJfloQWjR3D_GpXlgkC9I5FpgFq4S1CxHn2x3dj0K7xUICbTYBBHhWjjUTlamCuLegYQjMX3XdU0bCLqblQP_zmEm5bmL7xaLT1EhDkxvS7q2WxkxHTp_sLpK5MGhQ1GCQqAwfzMesjkWt8Dm2MjSSejw\", \"types\": [\"point_of_interest\", \"establishment\"]}, \"type\": \"Feature\"}]  and next_page_result =  []\n",
      "types: for Hart+Energy+Houston+Texas type(next_page_result)=  <class 'list'>  and type(array_of_features)=   <class 'list'>\n",
      "job_title put into googleAPI call is = geologist\n",
      "array_of_features =  [{\"geometry\": {\"coordinates\": [-95.4628465, 29.7338536], \"type\": \"Point\"}, \"properties\": {\"address\": \"3050 Post Oak Blvd # 1640, Houston, TX 77056, United States\", \"id\": \"eb737b548075ce9fb5a7b7cd19dec9171f0ee698\", \"job_title\": \"geologist\", \"name\": \"Sinopec USA\", \"photos\": [], \"place_id\": \"ChIJS5y97nHBQIYRbb2dw19hKiM\", \"rating\": 5, \"reference\": \"CmRRAAAARiIwsDHD3HNqd0MZZ6t7LXf03ABBVRw4AUf4XaUxi7uNL6U416RgLtXMuSercKjpsR0KgKvXkgssfO7eqGKAg_5MFf3atqmOggtGEcyzFUEgc6LtTuYKyXLOizZ-qUOPEhDjrwmJ05IZB7SJw0BAzrKlGhS0PpTFYJQBPksvtZs7BYQrjgmxoQ\", \"types\": [\"point_of_interest\", \"establishment\"]}, \"type\": \"Feature\"}]  and next_page_result =  []\n",
      "types: for Sinopec+Tech+Houston+Houston+Texas type(next_page_result)=  <class 'list'>  and type(array_of_features)=   <class 'list'>\n",
      "job_title put into googleAPI call is = geologist\n",
      "array_of_features =  [{\"geometry\": {\"coordinates\": [-95.46350079999999, 29.73921199999999], \"type\": \"Point\"}, \"properties\": {\"address\": \"5065 Westheimer Rd #1100, Houston, TX 77056, United States\", \"id\": \"5e9393654923a4ebf381bb69db381436c29a299f\", \"job_title\": \"geologist\", \"name\": \"Citi Private Bank\", \"photos\": [{\"height\": 4030, \"html_attributions\": [\"<a href=\\\"https://maps.google.com/maps/contrib/117652267326695258138/photos\\\">Ramesh Potti</a>\"], \"photo_reference\": \"CoQBdwAAAOe4Vx6r3kX0lkXVmBUDD7Lv7vaEUftWGqG9MCyp38TV70EKuQ8eTOWk7TbxJ2BnztMw5nk4nuKf_4ADQouWPPh3m5qjliBudP6Akg_rDzc0BcpgQOZ_4Yq0WAzOQGnqK7Nm2tRkXkwrPGi_hDpL4gZiQd4kwu3ErfoLPACruwISEhDcyFvidIOQNHUL0cx1as0_GhQnSJk2ndO3RvvLUg80WfxRAu7QqA\", \"width\": 3024}], \"place_id\": \"ChIJFc2ux27BQIYRk9iQ3cBYcVk\", \"rating\": 2.3, \"reference\": \"CmRRAAAAbU5trK2TqrYEnjKRA1T2j3z1dD76yx0shCWEv7ERCfyVwGb0f-XYlNwqc4eiNL_WQvzzIbjBGVZu3-fWPLnl6B05y5EvvhROFeAU8hwkowrOl2jfGEs_7guXfyKpCXoVEhAyUTfg_oqhKSwZ3vWxqzQQGhT7t60qSQBhQ9Dj2T-2hZrwMey_1w\", \"types\": [\"point_of_interest\", \"establishment\"]}, \"type\": \"Feature\"}]  and next_page_result =  []\n",
      "types: for Citi+Houston+Texas type(next_page_result)=  <class 'list'>  and type(array_of_features)=   <class 'list'>\n",
      "job_title put into googleAPI call is = geologist\n",
      "array_of_features =  [{\"geometry\": {\"coordinates\": [72.842686, 19.15934], \"type\": \"Point\"}, \"properties\": {\"address\": \"Shop 9 , Snehdeep Society, Off M.G Road, Next to Waman Hari Peth Jewellers,, Goregaon West, Siddharth Nagar, Goregaon West, Mumbai, Maharashtra 400062, India\", \"id\": \"31d58646729c24d06667bc8deaae3081bf153bb8\", \"job_title\": \"geologist\", \"name\": \"Confidential Clinic\", \"photos\": [], \"place_id\": \"ChIJN1VVVU625zsRJz4axZNieh0\", \"rating\": \"NA\", \"reference\": \"CmRbAAAA8ebpq22pNkadFWimvOw9I9-fw-DRLcgygcbjFJRrNFyF7shHmaZM7CrYWjRJmzhC4vkx5NuIrYDIAGNrG5ZFuSntT4GzOzzAbqEYbwUgFHgjbrhTWVFFBmPZTqtAgcCyEhC4pooHgMhx6T9C_7aDkcY2GhTNCrzS9gslzkN2vK-379WVYgG_Vw\", \"types\": [\"dentist\", \"health\", \"point_of_interest\", \"establishment\"]}, \"type\": \"Feature\"}]  and next_page_result =  []\n",
      "types: for Confidential+++Oil+&+Gas+Company+Houston+Texas type(next_page_result)=  <class 'list'>  and type(array_of_features)=   <class 'list'>\n",
      "job_title put into googleAPI call is = geologist\n",
      "array_of_features =  [{\"geometry\": {\"coordinates\": [-95.47219989999999, 29.7496917], \"type\": \"Point\"}, \"properties\": {\"address\": \"5555 San Felipe St, Houston, TX 77056, United States\", \"id\": \"23d714827e55b6e7eb16a5d356a0feb120360633\", \"job_title\": \"geologist\", \"name\": \"Marathon Oil Company\", \"photos\": [{\"height\": 2988, \"html_attributions\": [\"<a href=\\\"https://maps.google.com/maps/contrib/114653147413229085324/photos\\\">Patrick Winham</a>\"], \"photo_reference\": \"CoQBdwAAAKq3P1TUcNJFPCkbtXKZ4L7V0ki_r495AdYaX1DqTo9K2AyWRjkswu7NnbK598o54B9bNBAHBLbHR800Tnh_bifXJ35HVcETqVFpQN82fRA_gm7ZxoH_pC3E6dYgu7XdBtV9Qet3oIIe7QSicVR7lQkziUDUIRyp6cwSAgwtFCAhEhCaN0i3Mec4tJ__G2DR840GGhTKD-RHbC2t2UgZ6u_QcL0G5wktPQ\", \"width\": 5312}], \"place_id\": \"ChIJieWsJFzBQIYR4INe7XAsF-g\", \"rating\": 4.6, \"reference\": \"CmRSAAAAtyZ0Dt99SmrAUMWLX8u0CQjZ9nD42Jcqa7CcqThjeYP9y7aPZYiI7sGsDay626UZ-bHDCdXWX_p5L8wPoSgC3p4fjB5JB1u5H81tMb7wcYsATKR8sTameX8xREbWAQxdEhDrib6je9G0e0wPaesgNi9VGhQp9vM6m1bZhsIUlm1y8wKgMrOv6A\", \"types\": [\"point_of_interest\", \"establishment\"]}, \"type\": \"Feature\"}, {\"geometry\": {\"coordinates\": [-95.3699286, 29.7699427], \"type\": \"Point\"}, \"properties\": {\"address\": \"PO Box 3128, Houston, TX 77253, United States\", \"id\": \"18997b37423029430e68e14ec02f1e975aa3a596\", \"job_title\": \"geologist\", \"name\": \"Marathon Oil Co: Chernosky Alvis\", \"photos\": [], \"place_id\": \"ChIJ64XB-DS_QIYR3wBPmVSvPQ0\", \"rating\": \"NA\", \"reference\": \"CmRRAAAA2FRwHkdIgaEUR11tWm-uqNzEi_lb_ez8sYNaT-qqf242Z_oXbYxQuZRDadsW7JldEd6XHTNtq-g8rsUzSBAu-QyX9I6X5Jnqx_EghWsJJa_Hd6O-9F-JFn8aQF6Yp8xaEhDyufRWCX_WLy8TQrg7BybcGhRdn8c6OwqZjwVgkm5HefRJ6KvHSg\", \"types\": [\"point_of_interest\", \"establishment\"]}, \"type\": \"Feature\"}]  and next_page_result =  []\n",
      "types: for Marathon+Oil+Houston+Texas type(next_page_result)=  <class 'list'>  and type(array_of_features)=   <class 'list'>\n",
      "job_title put into googleAPI call is = geologist\n",
      "array_of_features =  [{\"geometry\": {\"coordinates\": [-95.3911105, 29.9585878], \"type\": \"Point\"}, \"properties\": {\"address\": \"1030 Regional Park Dr, Houston, TX 77060, United States\", \"id\": \"591b862adf844e6fdf249a003d16efa649ab42b1\", \"job_title\": \"geologist\", \"name\": \"New Tech Global\", \"photos\": [{\"height\": 556, \"html_attributions\": [\"<a href=\\\"https://maps.google.com/maps/contrib/105073521963953436703/photos\\\">New Tech Global</a>\"], \"photo_reference\": \"CoQBdwAAAC7_HHzIn_mPBLIEw78tpzF6jgDn2yMqnAcWw8D9ktlAQ6E2nAk3yxmaBA31d9itghYZQSB5Cll991_n61cQU9_gRvrFdTFHhWMEW6ozRQ94lex-E9xM5C8LLTI-p6q83a_gDrFmU7_xLRCPWqattaKi5fifX6SYWv_jiQ5BnYhiEhCsollTc9faegTkqr3MbQ-XGhSYp6Pd08YJ0k8v0Z6mSzKG_9KxJA\", \"width\": 1186}], \"place_id\": \"ChIJRQuoTf61QIYRrrCBvZ7uOWs\", \"rating\": 5, \"reference\": \"CmRRAAAASWG-teW3jF3xG1VDl1IQ0WC4Rt9mCnK2kqisPtXcrgdOgh3O1wB7CmtkM5ptXFFL2coI_b_rD7jSlt-xqMo1Xm5dyi4etsr0MLbhk8jayGNG74PrhXuy1eN0mvUifhdREhBkh_hQydReunMLEk0wmWkNGhQIjPo-Ltz_oVVJij_SOub64ojjFg\", \"types\": [\"point_of_interest\", \"establishment\"]}, \"type\": \"Feature\"}]  and next_page_result =  []\n",
      "types: for New+Tech+Global+Houston+Texas type(next_page_result)=  <class 'list'>  and type(array_of_features)=   <class 'list'>\n",
      "job_title put into googleAPI call is = geologist\n",
      "array_of_features =  [{\"geometry\": {\"coordinates\": [-95.4659039, 29.8679352], \"type\": \"Point\"}, \"properties\": {\"address\": \"4141 Victory Dr, Houston, TX 77088, United States\", \"id\": \"90b73098291a8e90c04f33a8c85477dfcd26379d\", \"job_title\": \"geologist\", \"name\": \"Lone Star College System\", \"photos\": [], \"place_id\": \"ChIJqaVfqaXIQIYRf8PTc49aphc\", \"rating\": 3, \"reference\": \"CmRRAAAAuxjve706iOaMaT9eulTGFHWdK5Fvz3kog46PP44slhrSnOmVCcKiKFw_KwPT3gQaEhPWNfoX2I-q0JIJKMXvQB3jgCj--bo34zW0xG6jcqHEUODhKDzRpnpLj3aWqtMJEhCi6wItIMJ-CCyww2Vgw1nFGhQPJCfWHdTjukgrLTJUG8gXBmXUng\", \"types\": [\"point_of_interest\", \"establishment\"]}, \"type\": \"Feature\"}, {\"geometry\": {\"coordinates\": [-95.37974109999999, 30.007182], \"type\": \"Point\"}, \"properties\": {\"address\": \"2700 W W Thorne Dr, Houston, TX 77073, United States\", \"id\": \"50e8c3703dd49384cfecda9f52ac2537c832cf50\", \"job_title\": \"geologist\", \"name\": \"Lone Star College-North Harris\", \"photos\": [{\"height\": 428, \"html_attributions\": [\"<a href=\\\"https://maps.google.com/maps/contrib/106036001858778134743/photos\\\">Lone Star College-North Harris</a>\"], \"photo_reference\": \"CoQBdwAAAKX2krloXcVfKvK-4eBWopi64lOMbCK2fcVJi04O9blfhjdJ_yzDIEWQymZikyeEtgg246TGTy97yXpImTpgOEHVzfC2R8OEB7u0YyaUOwNflfSb7QtzYDzfli9aFMuOKBDMtrPwTHt2VTueCchRmubXBybBYK71nG1u56F2SanMEhCiVtovM2AkyuqL9rCq9EyWGhT2kjLYY2F7CTVZvlWsJNa93k3d0g\", \"width\": 640}], \"place_id\": \"ChIJFwwy8Xa1QIYRMJtJ9403tZg\", \"rating\": 3, \"reference\": \"CmRSAAAALnKa0xBGc-26H883De0ELPiEINMfheNBSBzYaG3v-rGEG27mlSRxLgYZfV_nySayJGxt-WA1y56o8y4leQvAZYCHf8jpwRafv112Zl4kiR-T5O4b0it5UhhY_fjLiWF4EhDVcwIG07c0TTxPv8pOkX45GhSLrCBnuZWQawiNvQGi2gRQhMlGYA\", \"types\": [\"point_of_interest\", \"establishment\"]}, \"type\": \"Feature\"}]  and next_page_result =  []\n",
      "types: for Lonestar+College+System+Houston+Texas type(next_page_result)=  <class 'list'>  and type(array_of_features)=   <class 'list'>\n",
      "job_title put into googleAPI call is = geophysicist\n",
      "array_of_features =  [{\"geometry\": {\"coordinates\": [-95.6012956, 29.7881337], \"type\": \"Point\"}, \"properties\": {\"address\": \"12141 Wickchester Ln #200, Houston, TX 77079, United States\", \"id\": \"3cdf19db1aed68ee6eb0cb60d82ec77206b1eb4d\", \"job_title\": \"geophysicist\", \"name\": \"Geotrace Technologies Inc\", \"photos\": [], \"place_id\": \"ChIJE5-yOvzbQIYRJdZ1RfRAxzc\", \"rating\": \"NA\", \"reference\": \"CmRRAAAAGhaFn3HawsbXcvS0Mz6IjgvbT2REXaTn71gZ-Gt_K6zQRYFpOEaGjsDkwfrRj-IoVsPjf0r9gwca5uw9HmgnDxc2ZC8duR29ZvqewCxt6CTmvbEsaofcupi8N4zfy6IgEhCp5RRCCfN8zr3HH8KrD0a8GhRuWj0fnVb9x9HP1c5BwlWg1ZGndQ\", \"types\": [\"point_of_interest\", \"establishment\"]}, \"type\": \"Feature\"}]  and next_page_result =  []\n",
      "types: for Geotrace+Houston+Texas type(next_page_result)=  <class 'list'>  and type(array_of_features)=   <class 'list'>\n",
      "job_title put into googleAPI call is = geophysicist\n",
      "array_of_features =  [{\"geometry\": {\"coordinates\": [-95.5438387, 29.7776847], \"type\": \"Point\"}, \"properties\": {\"address\": \"800 Gessner Rd #170, Houston, TX 77024, United States\", \"id\": \"91282085c6930276af6f7e2abf1ee0e0fc18432c\", \"job_title\": \"geophysicist\", \"name\": \"Murray Resources\", \"photos\": [{\"height\": 683, \"html_attributions\": [\"<a href=\\\"https://maps.google.com/maps/contrib/106500950429449697681/photos\\\">Murray Resources</a>\"], \"photo_reference\": \"CoQBdwAAACCkrLOFMflJXNUURknGYwO4vW9rXGa7OBM3RvSE1ODlpesXFp3I2gwFVX7zwdjiPFO21TuvYdhk-8oF5k0TCpdy0uoD_87EycLBuCIAnYAKBtpgc3R5tw7eIRsgFhITJT9bap__5ucKWj2Cgifpi0DGZbrB4mbQbKO-D-85JqsjEhAlLIZGhPe4jkZ2wxV1d7uHGhRXvheqqI_WOYv_1vhPZLLj2mbjfg\", \"width\": 1024}], \"place_id\": \"ChIJRSYpxLzEQIYRsKFA9Ahm-Z0\", \"rating\": 4.6, \"reference\": \"CmRSAAAAAHzaTVcuCe3yBQsingWxpFfKAQHIj0VTbLXxKGU2LiiQPN_LauJXPeNQLTTwXOvjXwbhsgjHATWZUB7JWrF0Csdei_pq-CQEJlVGUzfGWBQaGQZfF1UF5XIGC_R2D7FkEhCkz1BBx9xzFr_lDGPUKzHLGhSDEdN2oMM1WZJQcjuBj1QSTY501g\", \"types\": [\"point_of_interest\", \"establishment\"]}, \"type\": \"Feature\"}]  and next_page_result =  []\n",
      "types: for Murray+Resources+Houston+Texas type(next_page_result)=  <class 'list'>  and type(array_of_features)=   <class 'list'>\n",
      "job_title put into googleAPI call is = geophysicist\n",
      "array_of_features =  [{\"geometry\": {\"coordinates\": [-95.3599019, 29.7546294], \"type\": \"Point\"}, \"properties\": {\"address\": \"Hess Tower, 1501 McKinney St, Houston, TX 77010, United States\", \"id\": \"04c70c4a3d18050ca437bbaedeca70bd9cb01927\", \"job_title\": \"geophysicist\", \"name\": \"Hess Corporation Exploration & Production\", \"photos\": [{\"height\": 1454, \"html_attributions\": [\"<a href=\\\"https://maps.google.com/maps/contrib/111482964284093817946/photos\\\">Sau Hei Lam</a>\"], \"photo_reference\": \"CoQBdwAAAEwmlEZDZV_StBaa4Fbe0SVanME4_aeF3p00hYLC6w7FYGXC-kOMgmcSNqQfAKqGOuQj6XBnmBZLbIxQV-QH5JEddcDqjxrcTdzHmvyy_JRGVXqym6UmG1GtIjDRIvv5gbZ-2wsuwKb1_AumEEvtZckFmTMt6JUGQyDCe07uc-hzEhDyp2hdv9ilDCo2V4C5QSfBGhRVdOemgY9mN9F8nnsbtRaCArcocg\", \"width\": 2161}], \"place_id\": \"ChIJfy2iBDm_QIYRjgKEE3GFL9Y\", \"rating\": 4.4, \"reference\": \"CmRSAAAADsxsyj_GkpP-teT5MgBwYoV6Kae5S2YInJ9fXftqaJhHzdwWjuZ4-iFVS5H7ECn9ZwsUJWVeIutzH6DOSXemrO28nTVv2MJklhDj9WXr65sTVHQIU03gO24cNprzlzBnEhCmB1-hG4U1DLF1zB7IYcDGGhR8LZp0i2dkQPqKDmWyGM_UccDoWg\", \"types\": [\"point_of_interest\", \"establishment\"]}, \"type\": \"Feature\"}]  and next_page_result =  []\n",
      "types: for Hess+Corporation+Houston+Texas type(next_page_result)=  <class 'list'>  and type(array_of_features)=   <class 'list'>\n",
      "job_title put into googleAPI call is = geophysicist\n",
      "array_of_features =  [{\"geometry\": {\"coordinates\": [-95.4574449, 29.6839704], \"type\": \"Point\"}, \"properties\": {\"address\": \"9009 West Loop S, Houston, TX 77096, United States\", \"id\": \"2795a232d6e43ce11fa01f15cf2d6001916581de\", \"job_title\": \"geophysicist\", \"name\": \"Aramco Services Company\", \"photos\": [], \"place_id\": \"ChIJ4-bQE-fBQIYRMJKxqTjw_Wc\", \"rating\": 3, \"reference\": \"CmRRAAAAMG2EUh7WFZnNHNE6J7dRfNYOTEEAJdPtWlxLdExmo6KtOVXut0PHZWDpsvxMC5yoW67Q2-on5iRj6zVYKsuLV8sxq0E_b3dtygn18vY_AQcJR4ZsycCmvuFJ1EqoBgw3EhCxNV6Gv6riqZKH1Gln384nGhR4r_oSZHHo_5PEE9sVpH9G7gS8oA\", \"types\": [\"finance\", \"point_of_interest\", \"establishment\"]}, \"type\": \"Feature\"}]  and next_page_result =  []\n",
      "types: for Saudi+Aramco+Houston+Texas type(next_page_result)=  <class 'list'>  and type(array_of_features)=   <class 'list'>\n",
      "job_title put into googleAPI call is = geophysicist\n",
      "array_of_features =  [{\"geometry\": {\"coordinates\": [-95.4628465, 29.7338536], \"type\": \"Point\"}, \"properties\": {\"address\": \"3050 Post Oak Blvd # 1640, Houston, TX 77056, United States\", \"id\": \"eb737b548075ce9fb5a7b7cd19dec9171f0ee698\", \"job_title\": \"geophysicist\", \"name\": \"Sinopec USA\", \"photos\": [], \"place_id\": \"ChIJS5y97nHBQIYRbb2dw19hKiM\", \"rating\": 5, \"reference\": \"CmRRAAAAtXe9VsFyY9RX0Bc0HthB3_r_r2MtVOxrXT9t8g-uQsfbLOodZpOEn5l3GqFoi-BAGvSERy4I_hBlj4YlB0nMSTWPcgloTtFvWSfdtePH_SN2Yr3hZe-xD4lyD_3tdts7EhC7drIUqRGb-h4ilbBu1zpZGhSAlHb5ozUYDMPDB8Z_Y7rpJvSh2g\", \"types\": [\"point_of_interest\", \"establishment\"]}, \"type\": \"Feature\"}]  and next_page_result =  []\n",
      "types: for Sinopec+Tech+Houston+Houston+Texas type(next_page_result)=  <class 'list'>  and type(array_of_features)=   <class 'list'>\n",
      "job_title put into googleAPI call is = geophysicist\n",
      "array_of_features =  [{\"geometry\": {\"coordinates\": [72.842686, 19.15934], \"type\": \"Point\"}, \"properties\": {\"address\": \"Shop 9 , Snehdeep Society, Off M.G Road, Next to Waman Hari Peth Jewellers,, Goregaon West, Siddharth Nagar, Goregaon West, Mumbai, Maharashtra 400062, India\", \"id\": \"31d58646729c24d06667bc8deaae3081bf153bb8\", \"job_title\": \"geophysicist\", \"name\": \"Confidential Clinic\", \"photos\": [], \"place_id\": \"ChIJN1VVVU625zsRJz4axZNieh0\", \"rating\": \"NA\", \"reference\": \"CmRbAAAAqfJArPh_9l0bXXWrDU5fYXCF2dq4VuhL3xyJN7PQJ2UWPb9Se2NXh_lIxJrlfJfyKdW2N0m1G7a_Fa_Fy5Xk_wcbe-vSkFyw25RCCmLAK_6jdcYq_-yelbcHfWOZ1tg0EhBSWGTDWGCQNIhTeNWp_AbpGhRhfNuL4_uJpqUXMHaYJ2Yb5WsZcg\", \"types\": [\"dentist\", \"health\", \"point_of_interest\", \"establishment\"]}, \"type\": \"Feature\"}]  and next_page_result =  []\n",
      "types: for Confidential+++Oil+&+Gas+Company+Houston+Texas type(next_page_result)=  <class 'list'>  and type(array_of_features)=   <class 'list'>\n",
      "job_title put into googleAPI call is = geophysicist\n",
      "array_of_features =  [{\"geometry\": {\"coordinates\": [-95.5740797, 29.7373078], \"type\": \"Point\"}, \"properties\": {\"address\": \"11200 Westheimer Rd #365, Houston, TX 77042, United States\", \"id\": \"328101c9c23ad52a56a549ad72e19915b58d7af8\", \"job_title\": \"geophysicist\", \"name\": \"Walker Elliott\", \"photos\": [], \"place_id\": \"ChIJz6iXr8HcQIYRnzHDA7T8m-k\", \"rating\": 3, \"reference\": \"CmRSAAAAhupjKQwnXF4YVfxpP-R73dNk4KnvnttJ6MYVljUM7SX2PTeqMu1aRGPWeyIZ9xVX01wJficOM8D3EZaNLp3CYeF6y1eVOuPJTygLW_e0Vi37ho321gG8Dpd2S2XZdHzwEhCYlA9vOaKASM_QcHPXjfNRGhQ-5VAIc4aH582EgBYApeSnVoETUA\", \"types\": [\"point_of_interest\", \"establishment\"]}, \"type\": \"Feature\"}]  and next_page_result =  []\n",
      "types: for Walker+Elliott+Houston+Texas type(next_page_result)=  <class 'list'>  and type(array_of_features)=   <class 'list'>\n",
      "job_title put into googleAPI call is = geophysicist\n",
      "array_of_features =  [{\"geometry\": {\"coordinates\": [-95.3662701, 29.7561894], \"type\": \"Point\"}, \"properties\": {\"address\": \"1111 Travis St, Houston, TX 77002, United States\", \"id\": \"6cf1f2b19f724b7014c7cab1c01725834dbc3db4\", \"job_title\": \"geophysicist\", \"name\": \"Hilcorp Energy Co\", \"photos\": [{\"height\": 2448, \"html_attributions\": [\"<a href=\\\"https://maps.google.com/maps/contrib/100318015046809414765/photos\\\">Ronald Payne</a>\"], \"photo_reference\": \"CoQBdwAAADzHY_n1YpfoNnNKQGIsCGbv_w8a9XZSq3vxQ0cDrqe-VPj0puNH6iy0zbvpbwph9j_wOl3yA2vERqLM658GFbfWb4SiuePVKyw3a3XN2B0rGcr6PRHdzV_iE4mrS5VOyFyERaKte211_Npgs0Y0tH-656KiU3iD7UxEJKORggzqEhBF45fklt0jCk650VVjUpeSGhRaa_Bds_nrKzGISPGjlFfb4Z98_A\", \"width\": 3264}], \"place_id\": \"ChIJncGsRDm_QIYR0e57PbvugTc\", \"rating\": 4, \"reference\": \"CmRRAAAA5qBSSPeRNBKMpxoBohtQi-3TtrrdS0FToN-FcrFOx0Dt0Dl5BHekMoAffeJQQfZqVcJGAqtvsdH2YacyF6-ITwqB5-59C_s88MU6ObGd4s3hQMI_yO-54AareOHOE9w0EhD-alqkhV14ctgPsBvkDA4IGhRGKMhJHRJOvR5-2s5EYy0na6LGNQ\", \"types\": [\"general_contractor\", \"point_of_interest\", \"establishment\"]}, \"type\": \"Feature\"}]  and next_page_result =  []\n",
      "types: for Hilcorp+Energy+Company+Houston+Texas type(next_page_result)=  <class 'list'>  and type(array_of_features)=   <class 'list'>\n",
      "job_title put into googleAPI call is = geophysicist\n",
      "array_of_features =  [{\"geometry\": {\"coordinates\": [-95.4321022, 29.7305064], \"type\": \"Point\"}, \"properties\": {\"address\": \"5 Greenway Plaza Suite 110, Houston, TX 77046, United States\", \"id\": \"7394562c1f1a87dc4b6fa017b44a961df160f5ef\", \"job_title\": \"geophysicist\", \"name\": \"Occidental Petroleum Corp\", \"photos\": [], \"place_id\": \"ChIJjd5k24G8woAREjjHjBsq0Yk\", \"rating\": 4, \"reference\": \"CmRSAAAAmLw_ZQYEtmoketRmbA8vAzNIY0d0mYlG6Pg2XU-GOHpepAo6QqKrsb9kNQ5nqkRD3CwPg5KCDb9pOeMXPAxUckaSdeElAtoSQ_FBR51Xgdf-0MJonunkZGAjLz1GJRUdEhAdb06hCaIz8tg-tCAQppUJGhT60by8jt3RWaWkTMcHEHPvwuxmLQ\", \"types\": [\"point_of_interest\", \"establishment\"]}, \"type\": \"Feature\"}, {\"geometry\": {\"coordinates\": [-95.3970411, 29.9417677], \"type\": \"Point\"}, \"properties\": {\"address\": \"363 North Sam Houston Pkwy E, Houston, TX 77060, United States\", \"id\": \"bcfc0554855f942f730466fd447878511b6aa0b4\", \"job_title\": \"geophysicist\", \"name\": \"Occidental Petroleum Corporation\", \"photos\": [], \"place_id\": \"ChIJx73rqePJQIYRPjss3jFElZo\", \"rating\": \"NA\", \"reference\": \"CmRSAAAANFodo0hUkuORUwqC6s2Y3aooyLa6vB_JFodBTKsDci6FxWI8D-Cr2nOyLKgbDvIHmX3iVc7h8uxhvKMHL2MegMrmHWKsZj0bqfKHUaJVx002Css7kSdMGYLb1SL32eCVEhAcJ_nig-tzgcUKbhB_-RcYGhSQJI4_WceychiXgwPaowAh9rLsPA\", \"types\": [\"point_of_interest\", \"establishment\"]}, \"type\": \"Feature\"}]  and next_page_result =  []\n",
      "types: for Occidental+Petroleum+Houston+Texas type(next_page_result)=  <class 'list'>  and type(array_of_features)=   <class 'list'>\n",
      "job_title put into googleAPI call is = geophysicist\n",
      "array_of_features =  [{\"geometry\": {\"coordinates\": [-95.362117, 29.76005199999999], \"type\": \"Point\"}, \"properties\": {\"address\": \"1001 Texas Ave #1020, Houston, TX 77002, United States\", \"id\": \"a11c06170d12ee3b5509eebe23f7a83e021bcdac\", \"job_title\": \"geophysicist\", \"name\": \"Lumina\", \"photos\": [{\"height\": 808, \"html_attributions\": [\"<a href=\\\"https://maps.google.com/maps/contrib/104809654983163322864/photos\\\">Lumina</a>\"], \"photo_reference\": \"CoQBdwAAAIySJvZH0sYcKTPKITdIigcsuDtQbO5Kqp6a383Tf9UQJUBDnJtb_XE2vqt6DkZclfDQ9GN1J0htsaBSFtyiIkUTGEtztUkZyvGgAzHBEoiK13bEATHLwqD0vJhA1G81mCi0LDz6jRQxmsq9Kq7jKnNY9T4rmSjbEjdKXZwFnykoEhDmcp_MA5nLdvEiSRFcYnNZGhQpaBwlZDcxuCh1WbY86V_5AqFxog\", \"width\": 1024}], \"place_id\": \"ChIJiUNxO0C_QIYRfHaVr4rYzPY\", \"rating\": \"NA\", \"reference\": \"CmRSAAAAF-5wwSB5M7NSohM49zmj61K6mKBtp3lF7A_x3buMDHaqUEbOgg3vw7KjH0ym8aWopbCxQdRMVPqI_AdkksCPhf6d-L2kWQIt4Wv7eFX6xYX_WKvoT_m2XSplTWbgvhgbEhDokPXdyctkAUHSaJt_FYEqGhTQK26BjDxH57wArKcQwAxdKxcS9w\", \"types\": [\"point_of_interest\", \"establishment\"]}, \"type\": \"Feature\"}, {\"geometry\": {\"coordinates\": [-95.451906, 29.754584], \"type\": \"Point\"}, \"properties\": {\"address\": \"50 Briar Hollow Ln, Houston, TX 77027, United States\", \"id\": \"7e34dad551ed799d5f99931250df058f8447acc9\", \"job_title\": \"geophysicist\", \"name\": \"Integrated Geophysics\", \"photos\": [{\"height\": 1360, \"html_attributions\": [\"<a href=\\\"https://maps.google.com/maps/contrib/118046956100093733952/photos\\\">Integrated Geophysics</a>\"], \"photo_reference\": \"CoQBdwAAAJvbRVQ2b_9WOjDmqkR6tvw3RO7vY8qrp1xHx68UWzayod0FaHpTi_GzPVtDO3AsUvMiy8bGLCXTvC90hjrU9Y4AVPUG2Uy2pfwGLV1Wga7lkboA9odtwm5BCXJKZ5oliVmtoyGJafXWBC3HfN9S4EbENmlLUYf0jHy5SxT_wxDVEhCkw-6_4lvZmxPtYL7X_K8AGhSy0rpdpUmp2Q_f2bJBkYxaLiVWMA\", \"width\": 1359}], \"place_id\": \"ChIJvbQlyTvBQIYRm0AeqK4g8R8\", \"rating\": \"NA\", \"reference\": \"CmRRAAAA59EMTC0ZSn9VtpH0RKnXzOQ6NQN11zVg0ozFi_9X--M--IDlVNxRc4Zc-rUb0g5da2rjx21ShR5QcjuWogoIaJCBTM1pZRsf5rSwtxypRZ_ZTooFjSOiy_Khsua2QVaNEhBzOsEmcpl_oVug-vr-fLuBGhQxApGT6Hv09cI5AN7AELk5b_9A6Q\", \"types\": [\"point_of_interest\", \"establishment\"]}, \"type\": \"Feature\"}]  and next_page_result =  []\n",
      "types: for US+Geophysical+LLC+Houston+Texas type(next_page_result)=  <class 'list'>  and type(array_of_features)=   <class 'list'>\n",
      "job_title put into googleAPI call is = geophysicist\n",
      "array_of_features =  [{\"geometry\": {\"coordinates\": [-95.4628465, 29.7338536], \"type\": \"Point\"}, \"properties\": {\"address\": \"3050 Post Oak Blvd # 1640, Houston, TX 77056, United States\", \"id\": \"eb737b548075ce9fb5a7b7cd19dec9171f0ee698\", \"job_title\": \"geophysicist\", \"name\": \"Sinopec USA\", \"photos\": [], \"place_id\": \"ChIJS5y97nHBQIYRbb2dw19hKiM\", \"rating\": 5, \"reference\": \"CmRRAAAA3xsFoLoWQizBk2qn57lz5MK-CUtopUhq2FFXty2c_TPuoGrp6TMAwRKgNULk-10FviJw3p2HR2b_M8iMKTZT_cHJ0SDhjgrNQMZwKDyP-KZalvv8qxkdwHSvKxLHuRNSEhD0hXQIg3ntoXmorMXJLZ1ZGhQ1QiqZagkC94B2-UbUWbLSOmDPzA\", \"types\": [\"point_of_interest\", \"establishment\"]}, \"type\": \"Feature\"}]  and next_page_result =  []\n",
      "types: for Sinopec+Tech+Houston+LLC+Houston+Texas type(next_page_result)=  <class 'list'>  and type(array_of_features)=   <class 'list'>\n",
      "job_title put into googleAPI call is = geophysicist\n",
      "array_of_features =  [{\"geometry\": {\"coordinates\": [-95.62566849999999, 29.7794433], \"type\": \"Point\"}, \"properties\": {\"address\": \"15375 Memorial Dr, Houston, TX 77079, United States\", \"id\": \"63e8846758150bbb7b96bb6f1b6575612bdc5048\", \"job_title\": \"geophysicist\", \"name\": \"PGS\", \"photos\": [], \"place_id\": \"ChIJ_Yxnp-zbQIYRwzVN-oronfk\", \"rating\": \"NA\", \"reference\": \"CmRSAAAAdQyIQVEC67UGpRkNZRey9iluN91zNHfN1H6q32iRHwyRwJas2BN1EosXmlydydxAWYjlmFI_hxk5zEkxiuSSyWdd02QJBkFIzlYyqmNtWsEnKT8OvHB2woWZwoyN9_XXEhCzHmA2barXSpkmzmtNys3_GhQDIQHqJ-rUUTtuz3fgV8Upiq21Pw\", \"types\": [\"point_of_interest\", \"establishment\"]}, \"type\": \"Feature\"}]  and next_page_result =  []\n",
      "types: for Petroleum+Geo++services+Houston+Texas type(next_page_result)=  <class 'list'>  and type(array_of_features)=   <class 'list'>\n",
      "geographic_limits = {'west_limit': -96.206159, 'north_limit': 30.454961, 'east_limit': -94.64, 'south_limit': 28.956857}\n",
      "each =  {\"geometry\": {\"coordinates\": [-95.46103649999999, 29.737203], \"type\": \"Point\"}, \"properties\": {\"address\": \"2800 Post Oak Blvd #3900, Houston, TX 77056, United States\", \"id\": \"4b62e79323dd04edd16f18a3570c6c525c72352a\", \"job_title\": \"geologist\", \"name\": \"RBC Capital Markets\", \"photos\": [], \"place_id\": \"ChIJMzyxy23BQIYRmQh7_lj7cok\", \"rating\": \"NA\", \"reference\": \"CmRSAAAADuTV9QxW4KU1_EKpjj5ebTgzwkdDUESQitwdpp9YfgfYYRUSmFyfRPEeoZwSqmgjWzdxPFYGiUL6k5e-0m4zWCGeqij11FgFZ4f_lLekIL-UlGRNHi4xlScsOvL7-oAxEhAk9wNIaYp8Mmli3utI9Rc-GhRpp43ZIhrplKcv3GRQqrNQuMjKiA\", \"types\": [\"bank\", \"finance\", \"point_of_interest\", \"establishment\"]}, \"type\": \"Feature\"}\n",
      "each['geometry']['coordinates'] (-95.46103649999999, 29.737203)\n",
      "each['geometry']['coordinates'][0] = -95.46103649999999\n",
      "each =  {\"geometry\": {\"coordinates\": [-95.3640089, 29.7604054], \"type\": \"Point\"}, \"properties\": {\"address\": \"600 Travis St # 6500, Houston, TX 77002, United States\", \"id\": \"e6f1fffeaff13624b25a14bca2c17e581e517245\", \"job_title\": \"geologist\", \"name\": \"Royal Bank of Scotland\", \"photos\": [], \"place_id\": \"ChIJa0oElDq_QIYRxrrhsSUehHU\", \"rating\": \"NA\", \"reference\": \"CmRRAAAATBo5jlkgUvJB5wVLe5ljCYOXevrgpuoBSoEGHLmOwpzGXGIs3jQZ8ckK9MyONP2v1S-2YqcrbHEoiXo6bW4iNF-9Wy0ZwhxfI2crDrlYSNTHbn_sOzGUajNmrbqgvI-YEhA53IAmwzS_9pPZ6-cshG2TGhSYfxBA3ytSRoAlqrVtAnb4Wod4vw\", \"types\": [\"bank\", \"atm\", \"finance\", \"point_of_interest\", \"establishment\"]}, \"type\": \"Feature\"}\n",
      "each['geometry']['coordinates'] (-95.3640089, 29.7604054)\n",
      "each['geometry']['coordinates'][0] = -95.3640089\n",
      "each =  {\"geometry\": {\"coordinates\": [-95.56025, 29.781615], \"type\": \"Point\"}, \"properties\": {\"address\": \"#300, 818 Town and Country Blvd, Houston, TX 77024, United States\", \"id\": \"a674ded7a91a457c3d42b551c5d48886ff6b71a0\", \"job_title\": \"geologist\", \"name\": \"RBC Wealth Management\", \"photos\": [], \"place_id\": \"ChIJK5dbXLPEQIYRQeq5MViNqig\", \"rating\": \"NA\", \"reference\": \"CmRRAAAAsAF1vUza5ghMfHmYw7u6B53fWqR3p_fuiZWSl3A9wy7PGk2nBfxLVjILNFX5XbKhbWtUOnEZBc3SqDqfxaRk9axHvvwxyg7R_Vrf8Xqq_rjmp0o5JL42rn5xWoPwHXhbEhDsLYIx0pWUQLiXgFBhcSpvGhQNmmVyIufmayskmwX8-wVgtR2uQw\", \"types\": [\"finance\", \"point_of_interest\", \"establishment\"]}, \"type\": \"Feature\"}\n",
      "each['geometry']['coordinates'] (-95.56025, 29.781615)\n",
      "each['geometry']['coordinates'][0] = -95.56025\n",
      "each =  {\"geometry\": {\"coordinates\": [-95.45170759999999, 29.7477721], \"type\": \"Point\"}, \"properties\": {\"address\": \"4400 Post Oak Pkwy #2400, Houston, TX 77027, United States\", \"id\": \"ebe2836d9d530f6081066f7a4aed3a7d4066d74f\", \"job_title\": \"geologist\", \"name\": \"RBC Richardson Barr\", \"photos\": [], \"place_id\": \"ChIJX1ZfCT7BQIYRrP8hSoM5Mpk\", \"rating\": \"NA\", \"reference\": \"CmRSAAAA4i8TyQGHKgwG2p9q8PD7oSexDyTE9GmLSKQhPVi-jOtJxeT7VMAnEML0prPPeYOjfqH-IFknTNt9bq6f5XAfWZHUbmOgICcX3_CZf_OhtW18ILnLswBylLrkQOCpigneEhDzj3mP2w1D6fwmw4X2Cc_fGhROsaduRXLdBMIstlAobBN9Miub6Q\", \"types\": [\"finance\", \"point_of_interest\", \"establishment\"]}, \"type\": \"Feature\"}\n",
      "each['geometry']['coordinates'] (-95.45170759999999, 29.7477721)\n",
      "each['geometry']['coordinates'][0] = -95.45170759999999\n",
      "each =  {\"geometry\": {\"coordinates\": [-95.461597, 29.746341], \"type\": \"Point\"}, \"properties\": {\"address\": \"1980 Post Oak Blvd #1630, Houston, TX 77056, United States\", \"id\": \"4eedac6f1ba8c81d62786ea3ea10f3686ad5b9d2\", \"job_title\": \"geologist\", \"name\": \"RBC Wealth Management\", \"photos\": [], \"place_id\": \"ChIJlVxoBkLBQIYRDDHQy3MpT_A\", \"rating\": \"NA\", \"reference\": \"CmRSAAAAih8eozgSxheZM34vRT7Q1KYG0jcvTTgFrV4EhnMPrJCJP7z1mCQvXb4dF2xoByyY-ILcNNio_cuUuevsrMLBWDsSfidO0trZaTv0XoGjzCFBThzednR23Ctg7IENSEZYEhCI5q3ZvHkedIeBIAcDI3PhGhTddx0y50gELiuxlO2lmEoCym6SNg\", \"types\": [\"finance\", \"point_of_interest\", \"establishment\"]}, \"type\": \"Feature\"}\n",
      "each['geometry']['coordinates'] (-95.461597, 29.746341)\n",
      "each['geometry']['coordinates'][0] = -95.461597\n",
      "each =  {\"geometry\": {\"coordinates\": [-95.3599019, 29.7546294], \"type\": \"Point\"}, \"properties\": {\"address\": \"Hess Tower, 1501 McKinney St, Houston, TX 77010, United States\", \"id\": \"04c70c4a3d18050ca437bbaedeca70bd9cb01927\", \"job_title\": \"geologist\", \"name\": \"Hess Corporation Exploration & Production\", \"photos\": [{\"height\": 1454, \"html_attributions\": [\"<a href=\\\"https://maps.google.com/maps/contrib/111482964284093817946/photos\\\">Sau Hei Lam</a>\"], \"photo_reference\": \"CoQBdwAAACSz7v5y2cVqClH4vFJqozXpkfTNC9aHYxO5fgN4s7_UrJ39zJWDvTHXHQ3GULDhy-YVQ8PqfyzZ9peFcSHTU1oj5OPiNCz1S5MqOi8i1Ms1qbhoPc4QCc4kayRXGaJ9hxx8itg5kit78druT_gWczFq9ud9o6ht6c7rhFI0fymMEhApy27Jg1JV6XGtY4QmRpT2GhS9yMnpKpnrG0pAlW9RTFIQK3Y0zw\", \"width\": 2161}], \"place_id\": \"ChIJfy2iBDm_QIYRjgKEE3GFL9Y\", \"rating\": 4.4, \"reference\": \"CmRSAAAAMrgPzPdJ8i_eMfCSXYumA10H0Zpwn7L2ywj8sYGXPTsR0M7alZSlFOizlV3ru52Fd5wZXwsTHsMtd9VqzuokUjQ6Y22FpLmJSmAfFWbaQiyl4qj1XWINlIlEAAt4YLmCEhCeHrj-YoIrl6P-0Ahakh3OGhSoutZkSMq8hOoR5wDGwdACBB-3Ww\", \"types\": [\"point_of_interest\", \"establishment\"]}, \"type\": \"Feature\"}\n",
      "each['geometry']['coordinates'] (-95.3599019, 29.7546294)\n",
      "each['geometry']['coordinates'][0] = -95.3599019\n",
      "each =  {\"geometry\": {\"coordinates\": [-95.53667899999999, 29.643324], \"type\": \"Point\"}, \"properties\": {\"address\": \"10710 S Sam Houston Pkwy W #3, Houston, TX 77031, United States\", \"id\": \"21ef45fcadb15a9dae92a34c0882930987cfd934\", \"job_title\": \"geologist\", \"name\": \"Tolunay-Wong Engineers, Inc\", \"photos\": [{\"height\": 785, \"html_attributions\": [\"<a href=\\\"https://maps.google.com/maps/contrib/100502235174758387817/photos\\\">Tolunay-Wong Engineers, Inc</a>\"], \"photo_reference\": \"CoQBdwAAAET4euvF-5kwy16ApzcMAHqHzWLgRw6ujL6YAb5tfuU2_KNy4q2Lr37yU2sgR7sCz_rm_TsSHIHPF9kGgzmluqbSPGpWApLT0Ktj8jCo_9z9CVjJthEB9IL8CR5vo6Y623xHnvLub5WHp6PRVJXYxOTdwlLrqQfm5Y7bUFBFVCI9EhB2tzpI8XvsLLAvv8jza0WJGhRAW-2yhBEPLzMcA1GEEIbROvODHQ\", \"width\": 1791}], \"place_id\": \"ChIJgd3o6kPoQIYRBdEf5LXmjLY\", \"rating\": 5, \"reference\": \"CmRSAAAA_mqrBN_57UKdjby8F8Kq6WCxDUs0D14hQLjc5s1ZwxK2frPl8BnAJDvTsmaKiDOwQNjhVk2K0bUZoRWKJgkMeJKCs5WSB54ngA4h61Z0PwcNx8-ohPEnpCPRGZE74r30EhCj05nVHQx90JKrECuPR3-7GhQLYuG1J62yA7jNaoNocMjtqahyAQ\", \"types\": [\"point_of_interest\", \"establishment\"]}, \"type\": \"Feature\"}\n",
      "each['geometry']['coordinates'] (-95.53667899999999, 29.643324)\n",
      "each['geometry']['coordinates'][0] = -95.53667899999999\n",
      "each =  {\"geometry\": {\"coordinates\": [-95.4620181, 29.7530878], \"type\": \"Point\"}, \"properties\": {\"address\": \"1360 Post Oak Blvd #150, Houston, TX 77056, United States\", \"id\": \"9aba7fe2f8a80c94b359e1fd5c4df4b3c3e70314\", \"job_title\": \"geologist\", \"name\": \"BHP Billiton Petroleum\", \"photos\": [{\"height\": 1724, \"html_attributions\": [\"<a href=\\\"https://maps.google.com/maps/contrib/106919442231730187134/photos\\\">Chad Burrows</a>\"], \"photo_reference\": \"CoQBdwAAADSXOWXCkTKmYl39Et9_fvqNBN1D5O5H3PtdXJg0Tk-jmST6JNXTRhD-EYJEFAQcKV7_260X7EKQeFyboVh9HFOQuG0cfDRCn60lX-YOxoc7kplvkHxRXD4gG3xXnCoUHONt7kBJhdpqLS9nfdyIKsGnsw0xRkoq42b4IKqZ0bnbEhDIvf54D5AyABrHqpdDGZCgGhSeD_6gkEREMAn9Ns6rU8tu85WnHQ\", \"width\": 5502}], \"place_id\": \"ChIJU5hfp0bBQIYRKqHNd5nxNbw\", \"rating\": 5, \"reference\": \"CmRSAAAA27VaaBD0DEvQEHNwxayi_oL_jJizULvdcFnn8cGxfTHQggxFJB3OfjoHo8V9eY308bb6uyelaKaLseLURhEeHzXP6gxotu09nHQ0GT3PklOMibuyRX77TrspcW0fOrKYEhAoNZATgoUN78cjakbnhKOVGhSOl120GC-mDAeY-08PqJlwgbVYBw\", \"types\": [\"point_of_interest\", \"establishment\"]}, \"type\": \"Feature\"}\n",
      "each['geometry']['coordinates'] (-95.4620181, 29.7530878)\n",
      "each['geometry']['coordinates'][0] = -95.4620181\n",
      "each =  {\"geometry\": {\"coordinates\": [-95.1974345, 29.658069], \"type\": \"Point\"}, \"properties\": {\"address\": \"1006 Vista Rd, Pasadena, TX 77504, United States\", \"id\": \"69a96533a258eb591726d86d1ca2f9c6ec0228de\", \"job_title\": \"geologist\", \"name\": \"En Rud Resources Inc\", \"photos\": [], \"place_id\": \"ChIJc_A7nUSYQIYRcN8s1islssY\", \"rating\": \"NA\", \"reference\": \"CmRSAAAAOqFDxjocQlCHeVypZ3_97xB9zLSAYjfON8EJP1CuSE5zSDLGg4tr8O04KEnv6KMhM-XvBYzK_gQTe7tkYuM_9PjJ65iZx0LLBH7nBcr0nj-uMky-9ZxKClfHDzXdccTxEhD2-zG47IZftpGE19iuf1U5GhSTlYXRdU1v9fUagoy_j9-hXyMPCg\", \"types\": [\"point_of_interest\", \"establishment\"]}, \"type\": \"Feature\"}\n",
      "each['geometry']['coordinates'] (-95.1974345, 29.658069)\n",
      "each['geometry']['coordinates'][0] = -95.1974345\n",
      "each =  {\"geometry\": {\"coordinates\": [-105.1015483, 40.5662552], \"type\": \"Point\"}, \"properties\": {\"address\": \"W, 1225 W Prospect Rd, Fort Collins, CO 80526, USA\", \"id\": \"f318fc285d106d2a2f42291756a4dc2945e237a0\", \"job_title\": \"geologist\", \"name\": \"W\", \"photos\": [], \"place_id\": \"ChIJd8nUV0pKaYcRMfgytg1ibhc\", \"rating\": \"NA\", \"reference\": \"CmRbAAAA-gkXeYKUC6v19IzJI7Qr4T6bQm5xsrGMOZk0S_-uKU3UPisFkrTiRWECIi3_Gu4sCxjvJJIljo-cVvMADOz1mqxfsnIu0A_3KXtMNCmNJqd2amRE_hSSUgX6o6HeS73kEhBeT5jd7OFDzr8zWXeV6pLbGhSmCulFFJJNZ-eNXfqrzMoLIwLULg\", \"types\": [\"premise\"]}, \"type\": \"Feature\"}\n",
      "each['geometry']['coordinates'] (-105.1015483, 40.5662552)\n",
      "each['geometry']['coordinates'][0] = -105.1015483\n",
      "each =  {\"geometry\": {\"coordinates\": [-118.2345702, 33.8961974], \"type\": \"Point\"}, \"properties\": {\"address\": \"w, 625 W Compton Blvd, Compton, CA 90220, USA\", \"id\": \"59cc7a43ad3bc2d8985bff103a1678d1ddb512a9\", \"job_title\": \"geologist\", \"name\": \"w\", \"photos\": [], \"place_id\": \"ChIJI-Ga-Q3LwoAR0n8VNmF8HRo\", \"rating\": \"NA\", \"reference\": \"CmRbAAAAsil-s93YPUBgvzr0Z9N5qfY9lLf5Vs8MLLZSLeakY46NEz5fuSww21etn0JIQjaEht0-Rs8qhU46CgeHIcjgrxFlmYwku3MWXvlqG4OsXgtgnUNBTOI9IZvXTIUcelbzEhAfCIoR0GMfmJxdS9a1ADYPGhSONtOvd7rKQxlFpsCfz6m1A1UdIA\", \"types\": [\"premise\"]}, \"type\": \"Feature\"}\n",
      "each['geometry']['coordinates'] (-118.2345702, 33.8961974)\n",
      "each['geometry']['coordinates'][0] = -118.2345702\n",
      "each =  {\"geometry\": {\"coordinates\": [-122.1049137, 37.4052049], \"type\": \"Point\"}, \"properties\": {\"address\": \"W, 49 Showers Dr, Mountain View, CA 94040, USA\", \"id\": \"57d3e8be07b54c2e9632ef17fceee56bce0cca5b\", \"job_title\": \"geologist\", \"name\": \"W\", \"photos\": [], \"place_id\": \"ChIJ_xJwlKGwj4AR6mUQFinpSYQ\", \"rating\": \"NA\", \"reference\": \"CmRbAAAAvLAqMgDnUQ4PPk5r32F6A8fdbEtTCOfNj_Fw77RRqhJzhEA3ykBhOi8aXBT-3GpiNg8WamuJH0F54zmuLzknGvBtrhrjTkdRq3Wm2YmSvGEcx5pedJD2K--n-DKAQM-KEhDi8P7NsejevY8thkJIr0DKGhQ_5FUhWZ4TTC5Cet_dot8An6m2yw\", \"types\": [\"premise\"]}, \"type\": \"Feature\"}\n",
      "each['geometry']['coordinates'] (-122.1049137, 37.4052049)\n",
      "each['geometry']['coordinates'][0] = -122.1049137\n",
      "each =  {\"geometry\": {\"coordinates\": [-95.1721678, 29.64837929999999], \"type\": \"Point\"}, \"properties\": {\"address\": \"4624 Fairmont Pkwy, Pasadena, TX 77504, United States\", \"id\": \"9ae520cccc7564f96afd46f6d631d61bdd6bdfff\", \"job_title\": \"geologist\", \"name\": \"San Jacinto College - District Office\", \"photos\": [], \"place_id\": \"ChIJ5czzhuSYQIYR5xO1zKMXD90\", \"rating\": 2.3, \"reference\": \"CmRSAAAAKi38Trl5zEeEUiPEZvJgMvj1RBWrblBLM2eoCsf5JAjFdrc1GpQZRbso2alc1Z1U5GmDvi01QhzeGBJfNLWsWHj1GQlTja1qZDl6FCI4gA_i4HTkJ7sAcc62vNZsope6EhBoOp7UBt1wCD5rgqlowPI4GhSHsrfWj3U7PHPrjRSaJCDNdiZbIw\", \"types\": [\"school\", \"point_of_interest\", \"establishment\"]}, \"type\": \"Feature\"}\n",
      "each['geometry']['coordinates'] (-95.1721678, 29.64837929999999)\n",
      "each['geometry']['coordinates'][0] = -95.1721678\n",
      "each =  {\"geometry\": {\"coordinates\": [-95.366643, 29.76074], \"type\": \"Point\"}, \"properties\": {\"address\": \"700 Louisiana St # 2100, Houston, TX 77002, United States\", \"id\": \"ec8b82b104863bab3b36a1ce79a0c0f711468bfc\", \"job_title\": \"geologist\", \"name\": \"BMO Capital Markets\", \"photos\": [{\"height\": 750, \"html_attributions\": [\"<a href=\\\"https://maps.google.com/maps/contrib/104549896185334272100/photos\\\">Duplan Nalpudi Instagram</a>\"], \"photo_reference\": \"CoQBdwAAAB_9RhXjYSjMAzmpgi5KAQdN_SAIrQriBK-crdhKD_7kZy12O4f-d4ZnjqYIYHx1b1fbaw-nzQeG4vpYSOYMiAyZZMXqQTsrVQFvNQlKRpaG9MNGlU8EWFG8cvbQrO1Vn1qOqnBBklzlq1bLavH0SffcsqUIqpRf-UOu6WNLyaQtEhCWVkquP88u8YEYx2eOQGe1GhT1dcfdBKTMSNQ1TK8UIDFg9PII0w\", \"width\": 1334}], \"place_id\": \"ChIJLROgDTq_QIYRTwQmXrl5Wm0\", \"rating\": \"NA\", \"reference\": \"CmRRAAAAcDyL_EQAEuhaTWZmZhBHyvLskWBdN-rfDSSQxkjoga-aXNPRGIetjiU2o9JyJXXtvIQbIFym9_orYU5nriRZNcdMgcxBv_TWgAQmb5rkTfe9k1x-fECYgPkwJ5v1SxycEhCFgzamhPfcDJpCDGCn7S9kGhScmtApnq7lnp67M518gLpCwhsQGg\", \"types\": [\"finance\", \"point_of_interest\", \"establishment\"]}, \"type\": \"Feature\"}\n",
      "each['geometry']['coordinates'] (-95.366643, 29.76074)\n",
      "each['geometry']['coordinates'][0] = -95.366643\n",
      "each =  {\"geometry\": {\"coordinates\": [-95.372164, 29.757501], \"type\": \"Point\"}, \"properties\": {\"address\": \"333 Clay St, Houston, TX 77002, United States\", \"id\": \"795a3515ff023985c96d55d60c8eefcdc6c9ee0e\", \"job_title\": \"geologist\", \"name\": \"Jefferies\", \"photos\": [], \"place_id\": \"ChIJe81fkji_QIYRhzwdUhh-ygw\", \"rating\": \"NA\", \"reference\": \"CmRRAAAAanylPRJpjTo7QgTK0V1urUsXIvRIXJp3VfSQeX5OgvsgYNfYqL4gfsqeM5l9Pa6jKFYK6BdpmcUsP_S9evSJGtOAiCnABA0ZryBdrUiMsydwzUNe56DGaX5uOsR30R29EhD4Jv8ucGtGsMmMXoqIReK9GhT7hqWFpVJY_L7-HGAIJHodQm_AWA\", \"types\": [\"finance\", \"point_of_interest\", \"establishment\"]}, \"type\": \"Feature\"}\n",
      "each['geometry']['coordinates'] (-95.372164, 29.757501)\n",
      "each['geometry']['coordinates'][0] = -95.372164\n",
      "each =  {\"geometry\": {\"coordinates\": [-95.49726899999999, 29.7140059], \"type\": \"Point\"}, \"properties\": {\"address\": \"6100 Hillcroft St, Houston, TX 77081, United States\", \"id\": \"372e0791c5d5ea0bf4c3a24c278c5083aad17624\", \"job_title\": \"geologist\", \"name\": \"Fugro Consultants Inc: Akhtar Anwar\", \"photos\": [], \"place_id\": \"ChIJ5e-dPzbCQIYR8o0_0WHFuVk\", \"rating\": \"NA\", \"reference\": \"CmRRAAAAic5G0M5bEK_aKvLXTLAAUXtSXWSQLrvO6ZZ-j9kJKuOzTcYOq342fozTBYNZ1STpulbkWOOrl-dM_8F-juNHGL2hLRuwwWw35zj84u72qeuiHG8OJ1jSJyfTxd_XV3jpEhBVs97fuBWpPzfO6_vbutD7GhRhksLFcTmxQPHUZism3eG8hHpEjw\", \"types\": [\"point_of_interest\", \"establishment\"]}, \"type\": \"Feature\"}\n",
      "each['geometry']['coordinates'] (-95.49726899999999, 29.7140059)\n",
      "each['geometry']['coordinates'][0] = -95.49726899999999\n",
      "each =  {\"geometry\": {\"coordinates\": [-95.5678336, 29.8452744], \"type\": \"Point\"}, \"properties\": {\"address\": \"10831 Train Ct, Houston, TX 77041, United States\", \"id\": \"94c4bf4197969258554d1555fd7ce686908546b7\", \"job_title\": \"geologist\", \"name\": \"Fugro Consultants, Inc.\", \"photos\": [], \"place_id\": \"ChIJ1WVb4rHaQIYR6O9DfGla99A\", \"rating\": \"NA\", \"reference\": \"CmRSAAAA-CE9zjZ7RH9mgU8YZdvWpERB7nLboNWG_b4EAlNrRv9VBBX8ZDZWEgEQ59yp2razDWjq7JbJe7D9F2zSFtUlQVzi0OZeTIkT5MAurpJOEvlQZ2bCt0bdk8y7XY-7p89NEhD2S9hT6EIaSVPxGbyWeHCmGhQfgzANSTsQyqSLh-kPwVB3JUNvIQ\", \"types\": [\"point_of_interest\", \"establishment\"]}, \"type\": \"Feature\"}\n",
      "each['geometry']['coordinates'] (-95.5678336, 29.8452744)\n",
      "each['geometry']['coordinates'][0] = -95.5678336\n",
      "each =  {\"geometry\": {\"coordinates\": [-95.5441765, 29.9263062], \"type\": \"Point\"}, \"properties\": {\"address\": \"8715 Fallbrook Dr, Houston, TX 77064, United States\", \"id\": \"4b8b00e13f61a661128d24dcd3068ddd462bddbc\", \"job_title\": \"geologist\", \"name\": \"Fugro\", \"photos\": [], \"place_id\": \"ChIJC49COz7OQIYRAkBflL00eJ4\", \"rating\": \"NA\", \"reference\": \"CmRSAAAAhaCQAUufdhiecsD_XEIL6exqo1NBEW6nT--TyG23v_JyIYBMgE681suivHUU8SLdJwHs_6hZrT1WEye5EyaZvX0Z0QC91k0_9rHC1KRnVfrkLkJbJ1QDd49nhrCPITILEhAKVef_n35PqZ0mlGLuxpXtGhTd-Vit7_9QE8UraScMe0H3ItcBaw\", \"types\": [\"point_of_interest\", \"establishment\"]}, \"type\": \"Feature\"}\n",
      "each['geometry']['coordinates'] (-95.5441765, 29.9263062)\n",
      "each['geometry']['coordinates'][0] = -95.5441765\n",
      "each =  {\"geometry\": {\"coordinates\": [-95.4994463, 29.7127126], \"type\": \"Point\"}, \"properties\": {\"address\": \"6121 Tarnef Dr, Houston, TX 77074, United States\", \"id\": \"036ef56e28e7616b45367256404bd34b6894d17b\", \"job_title\": \"geologist\", \"name\": \"Fugro Inc\", \"photos\": [], \"place_id\": \"ChIJ1ZxaK0jCQIYRkHmkjNdFW2I\", \"rating\": \"NA\", \"reference\": \"CmRRAAAA_snrLQgKlvQddMoVzyiOsRqinuj79fFXhq5T9PNFfHvbitcqJ1eYvh1hMBEQmBBbO_t4-6LK6DER2yC84ITYrwaGLrYXHSVQ8QvxcD6gp3fYe_ZeOfOsHw4cOIBr0p6KEhBOogCYeO0tyVZBMYZaYTcIGhSivvY4t3yLOH-nSWMAi9k9Gg10qA\", \"types\": [\"point_of_interest\", \"establishment\"]}, \"type\": \"Feature\"}\n",
      "each['geometry']['coordinates'] (-95.4994463, 29.7127126)\n",
      "each['geometry']['coordinates'][0] = -95.4994463\n",
      "each =  {\"geometry\": {\"coordinates\": [-95.49562680000001, 29.7167202], \"type\": \"Point\"}, \"properties\": {\"address\": \"6080 Hooton, Houston, TX 77081, United States\", \"id\": \"65dd391d8d93517cc6dbcdc22dc4231b9aa5303c\", \"job_title\": \"geologist\", \"name\": \"Fugro Inc\", \"photos\": [], \"place_id\": \"ChIJrdJGMjTCQIYR03_Oibwj_uM\", \"rating\": \"NA\", \"reference\": \"CmRSAAAAnQ9bA0rSLOGXbe2GZoANJJ8ohcJmNc4-wIPkodJqOP2knNARnivKRaVCi513WlKcabOkGbFigeNHH6rvd1jyo_tZZnLuasLGp9O0Fi62fvLCqYzKGTQSMbvj_34cY_mBEhBV1jCUKlKDjUW0Xe9_KOIOGhSdY4O06M_5VqrDCohBkHxCJfNoLA\", \"types\": [\"premise\", \"point_of_interest\", \"establishment\"]}, \"type\": \"Feature\"}\n",
      "each['geometry']['coordinates'] (-95.49562680000001, 29.7167202)\n",
      "each['geometry']['coordinates'][0] = -95.49562680000001\n",
      "each =  {\"geometry\": {\"coordinates\": [-95.5503257, 29.8584718], \"type\": \"Point\"}, \"properties\": {\"address\": \"10425 Okanella St # 100, Houston, TX 77041, United States\", \"id\": \"bd7b9e455e61e36012f43900a5d2dc8fb520b286\", \"job_title\": \"geologist\", \"name\": \"Fugro Data Solutions\", \"photos\": [], \"place_id\": \"ChIJf7sDHvjPQIYRNi_3faTzFrQ\", \"rating\": \"NA\", \"reference\": \"CmRSAAAATyqV7oYejm3vMmiTNOGP1F6XBBQuNP6jMrOvAXpeN3Y2rXisW08tXUKvUkfy5cCdwzc-KEul3cYmeVPO8nPmYMA8uFmbqee06NYf9pP-roOvADwCwZafcd_DSKZE-4UaEhCy8LSkvnjrM6eAIQnEA7nlGhTm46op3G9pUvKQJGrqSrqzN0vyIQ\", \"types\": [\"storage\", \"point_of_interest\", \"establishment\"]}, \"type\": \"Feature\"}\n",
      "each['geometry']['coordinates'] (-95.5503257, 29.8584718)\n",
      "each['geometry']['coordinates'][0] = -95.5503257\n",
      "each =  {\"geometry\": {\"coordinates\": [-95.1800995, 29.7118821], \"type\": \"Point\"}, \"properties\": {\"address\": \"2410 Pasadena Fwy, Pasadena, TX 77506, United States\", \"id\": \"38cb6e415101a4bac2c1eaf17a6fa77679f6788b\", \"job_title\": \"geologist\", \"name\": \"Fugro Consultants LP\", \"photos\": [], \"place_id\": \"ChIJQdSxQV6iQIYR9uoIbHWfBXE\", \"rating\": \"NA\", \"reference\": \"CmRRAAAAE-J07cY_20dt6pDVYOFsDv26lTXHT6Q-jj8fnJPSDLnLCjwSH1HHNbaN3JbmvVPsjjcJZpsseyfHXtM3hU8ZWXPteyx9pniwHvCIxczumq0M5I_iNF4ZX-auW7ifDaMVEhCCfD-dy2XY8XiTipzX5x50GhSIYRXVPF1PV8KlL_0oJOSrc194mA\", \"types\": [\"point_of_interest\", \"establishment\"]}, \"type\": \"Feature\"}\n",
      "each['geometry']['coordinates'] (-95.1800995, 29.7118821)\n",
      "each['geometry']['coordinates'][0] = -95.1800995\n",
      "each =  {\"geometry\": {\"coordinates\": [-95.5740797, 29.7373078], \"type\": \"Point\"}, \"properties\": {\"address\": \"11200 Westheimer Rd #365, Houston, TX 77042, United States\", \"id\": \"328101c9c23ad52a56a549ad72e19915b58d7af8\", \"job_title\": \"geologist\", \"name\": \"Walker Elliott\", \"photos\": [], \"place_id\": \"ChIJz6iXr8HcQIYRnzHDA7T8m-k\", \"rating\": 3, \"reference\": \"CmRSAAAAv572TUsFOmnXh672TUxeC4uo-TGzWC_Z3IazLigFwHVqiW56RpQsM2SaQSw95Vu6pjs376M03YhZC1y_LldzGHfy8qCZpqZZm0U7dQNsVdZOfv5DcDbbBjErYPLWKw2YEhCI93JmZkJvKlWg-EEYJnSUGhT7CLHEQ3ONmn1Wln8uyuKoxtBoDQ\", \"types\": [\"point_of_interest\", \"establishment\"]}, \"type\": \"Feature\"}\n",
      "each['geometry']['coordinates'] (-95.5740797, 29.7373078)\n",
      "each['geometry']['coordinates'][0] = -95.5740797\n",
      "each =  {\"geometry\": {\"coordinates\": [-95.3662701, 29.7561894], \"type\": \"Point\"}, \"properties\": {\"address\": \"1111 Travis St, Houston, TX 77002, United States\", \"id\": \"6cf1f2b19f724b7014c7cab1c01725834dbc3db4\", \"job_title\": \"geologist\", \"name\": \"Hilcorp Energy Co\", \"photos\": [{\"height\": 2448, \"html_attributions\": [\"<a href=\\\"https://maps.google.com/maps/contrib/100318015046809414765/photos\\\">Ronald Payne</a>\"], \"photo_reference\": \"CoQBdwAAAPN0rb5Me3CTo-ILB_bfxFpW_OOrl9firBUiU8B_ec6ChqUohR5gF5G2NuOxG9IqQSXGEgLYL6YTXVCNzzYfxydS7W2JFI1L9LR8WDbL3ALq_nZsdjE4AQY-tJ9oowH_2UQmWAWLJ0HWaYdMEVjXJVbpI7kQupo6KkdkMol5QUwbEhADi-1rYWCxB4FlUUgA9VACGhTbsf8IOh85nzPQviAcVdY8uckpEg\", \"width\": 3264}], \"place_id\": \"ChIJncGsRDm_QIYR0e57PbvugTc\", \"rating\": 4, \"reference\": \"CmRRAAAAEqgFIn9PPz3PM3QQZK-_DQSctutf-Vf4Zwij_n3M9b0VqDN7xpB4RVVVBIOQbcyCiyINjoxdF09d1tmmPg9NgeqGmwFlwrLRJvEp-FRzvlE381bGEJc3hNtHB4GWByolEhAoPtTbrAzh-AZPMPtCwBGkGhSHN6RvL2C1YQFy8uvx_BpsCfGalg\", \"types\": [\"general_contractor\", \"point_of_interest\", \"establishment\"]}, \"type\": \"Feature\"}\n",
      "each['geometry']['coordinates'] (-95.3662701, 29.7561894)\n",
      "each['geometry']['coordinates'][0] = -95.3662701\n",
      "each =  {\"geometry\": {\"coordinates\": [-95.4321022, 29.7305064], \"type\": \"Point\"}, \"properties\": {\"address\": \"5 Greenway Plaza Suite 110, Houston, TX 77046, United States\", \"id\": \"7394562c1f1a87dc4b6fa017b44a961df160f5ef\", \"job_title\": \"geologist\", \"name\": \"Occidental Petroleum Corp\", \"photos\": [], \"place_id\": \"ChIJjd5k24G8woAREjjHjBsq0Yk\", \"rating\": 4, \"reference\": \"CmRSAAAAj-t6xsX_dem1kPc9OvVSj5oHMYTAbEv8sIz7IrmpWBrlm1q39g21fzAOsaEuWm8C0BcU626JBjXJrpywA3fgfdgWEQ0MKnf1tL5YwVclvSFO8-SfUvk0j7-qSSSE_ZLKEhAvXAut0GAd0AgFSoyBFK79GhTQwg8vitk37_CsZwWPBwYsM39O1A\", \"types\": [\"point_of_interest\", \"establishment\"]}, \"type\": \"Feature\"}\n",
      "each['geometry']['coordinates'] (-95.4321022, 29.7305064)\n",
      "each['geometry']['coordinates'][0] = -95.4321022\n",
      "each =  {\"geometry\": {\"coordinates\": [-95.3970411, 29.9417677], \"type\": \"Point\"}, \"properties\": {\"address\": \"363 North Sam Houston Pkwy E, Houston, TX 77060, United States\", \"id\": \"bcfc0554855f942f730466fd447878511b6aa0b4\", \"job_title\": \"geologist\", \"name\": \"Occidental Petroleum Corporation\", \"photos\": [], \"place_id\": \"ChIJx73rqePJQIYRPjss3jFElZo\", \"rating\": \"NA\", \"reference\": \"CmRSAAAAKAWAR4X2J3u3vG5OEDZq6tVz-w_cKhwa-JI4lzcXUIWEvtq3FR3Ia2NtDdn9awXbTaK0_bxQ-lJnbRyfpeflwRBDkFgqSuHUa5MQE_Vn1AdXS6UnachqdMy98VmXueQsEhCdBv08UHcZqNfQIO_5c-qbGhTJ1UnhIkx-vBdOL0Wk1YQnxvLsiQ\", \"types\": [\"point_of_interest\", \"establishment\"]}, \"type\": \"Feature\"}\n",
      "each['geometry']['coordinates'] (-95.3970411, 29.9417677)\n",
      "each['geometry']['coordinates'][0] = -95.3970411\n",
      "each =  {\"geometry\": {\"coordinates\": [-95.5438387, 29.7776847], \"type\": \"Point\"}, \"properties\": {\"address\": \"800 Gessner Rd #170, Houston, TX 77024, United States\", \"id\": \"91282085c6930276af6f7e2abf1ee0e0fc18432c\", \"job_title\": \"geologist\", \"name\": \"Murray Resources\", \"photos\": [{\"height\": 683, \"html_attributions\": [\"<a href=\\\"https://maps.google.com/maps/contrib/106500950429449697681/photos\\\">Murray Resources</a>\"], \"photo_reference\": \"CoQBdwAAABcF7H_fwDPf1Zf04d-mv6CzSTxVXzF_6ghr7f9AajIWYp0YUshF1d3eUvKaKCy_nMnQi_fVt6G6y9PhO7lH9ZhGbyWC9OO0IQA4oH7V0v5ekR-v204wxF5l4OYPAipEnvDri_sE8DqRsnjBZyLKFRXfi08GLKwfJWYhMnqssdTNEhC9vH4eSFp6N0rSzeRmvphAGhSpV1uHtNmR91GfTlSKFZ3yppylNg\", \"width\": 1024}], \"place_id\": \"ChIJRSYpxLzEQIYRsKFA9Ahm-Z0\", \"rating\": 4.6, \"reference\": \"CmRSAAAAeYdul-8pbZ5onhD6dX3MVI1sOFiiKDdjiApKdYH-snTOcAiFosRcKx7C0OTJsE566cFzcNkUKvZLyVo_RfCJ5_K0jtLxGXYIFmfOuWc8z0XcchTQ382SQy8UUw3ahr_hEhDFfTPfNtwtftARqnXno6gRGhSBl6F1-wjFfSNQkX6i9OEPOuO97g\", \"types\": [\"point_of_interest\", \"establishment\"]}, \"type\": \"Feature\"}\n",
      "each['geometry']['coordinates'] (-95.5438387, 29.7776847)\n",
      "each['geometry']['coordinates'][0] = -95.5438387\n",
      "each =  {\"geometry\": {\"coordinates\": [-95.411982, 29.838328], \"type\": \"Point\"}, \"properties\": {\"address\": \"707 Lehman St, Houston, TX 77018, United States\", \"id\": \"e3a902a8d57c6ee9d36a8e1a32fa39c463a33a0c\", \"job_title\": \"geologist\", \"name\": \"Intera Inc\", \"photos\": [], \"place_id\": \"ChIJI-1445THQIYRvn-6mbb_i8I\", \"rating\": \"NA\", \"reference\": \"CmRSAAAA1tBOcUerEFOA6DV8pcaRWuhI00pfGKMd10MAKYGddnrVKIq9sesXq2mrJd2by2ifwg-E7kVJPalTqcvNxWj86FwN1nOJHoYVitxXk-uTieXwybtC913twa10ZxQ7yr_uEhAuUnKpcWw3XZpWjr1foA_oGhRH0n2cNg61FbYCNAUP76j2u9xRQA\", \"types\": [\"point_of_interest\", \"establishment\"]}, \"type\": \"Feature\"}\n",
      "each['geometry']['coordinates'] (-95.411982, 29.838328)\n",
      "each['geometry']['coordinates'][0] = -95.411982\n",
      "each =  {\"geometry\": {\"coordinates\": [-104.9784627, 39.6944262], \"type\": \"Point\"}, \"properties\": {\"address\": \"1221 S Clarkson St # 316, Denver, CO 80210, United States\", \"id\": \"8c59ffeb24d35d1eb742f8ee65608770285d5da6\", \"job_title\": \"geologist\", \"name\": \"High Country Executive Search\", \"photos\": [], \"place_id\": \"ChIJcZcUt1Z-bIcRV255-zThT4k\", \"rating\": 2.7, \"reference\": \"CmRSAAAAIBy1kfBeNhOFtz9u9O9nFBlV_ZBGY8Vbw8kWY4kWhUsYX-T8L9Q5fYZtPK_OkNHbWuQjphcrcwfTSWD92sOm2CN6F6fax5dEX8GOJYB1ZjX3QtpQysiQFiFvgl9yoQWdEhBIQJyt1uPkdQGOC550lNKnGhRhX5ZHMSCYb5Dv1K2GXW02gVAc9w\", \"types\": [\"point_of_interest\", \"establishment\"]}, \"type\": \"Feature\"}\n",
      "each['geometry']['coordinates'] (-104.9784627, 39.6944262)\n",
      "each['geometry']['coordinates'][0] = -104.9784627\n",
      "each =  {\"geometry\": {\"coordinates\": [-95.3574139, 29.8867077], \"type\": \"Point\"}, \"properties\": {\"address\": \"11939 Aldine Westfield Rd, Houston, TX 77093, United States\", \"id\": \"596dee2eed3253cb2fc6ebf53ac71041aa3694f7\", \"job_title\": \"geologist\", \"name\": \"Weatherford\", \"photos\": [{\"height\": 2988, \"html_attributions\": [\"<a href=\\\"https://maps.google.com/maps/contrib/107786689521565648284/photos\\\">Donnie Scott</a>\"], \"photo_reference\": \"CoQBdwAAAEccaFKZll5zYhK5hgs53wyFktVcVpHeI-aWL1d4f-wt-_Ub2blftG-N_qheY9TFApTA1wI5K2CxvuROOOFEPjNpJtqV9SPL92A4rblnuNQEiI5N91DhkY7wKkaT8_3e5jbisLSsV9CKI3Ep77j0w42aikSvL8S-_0AR3ZwVsy6hEhCTjIqFwU5r1hohzSWVcssiGhRbW5WJCB8jM4IFgEVO4R6gL7Hcrg\", \"width\": 5312}], \"place_id\": \"ChIJJTOHIp-3QIYRLKxLIjOV8yk\", \"rating\": 3.5, \"reference\": \"CmRRAAAAGf8DXsiEg6a7BHzY7N-xag2bTBPx_w-TuC3cCdKeNYPXVIm9CnbHj91zF9dP4mRJCDbp4WE0Dwmaj1MyZN5-rvytEyhylQhK3WsUTR3yWhCFxPLnlGS_uapFBMJO6I0IEhBqbQyuaaca-XoOzOW5_6-EGhR746e4k6daBz3ZdbKTWGpytCzvxg\", \"types\": [\"general_contractor\", \"point_of_interest\", \"establishment\"]}, \"type\": \"Feature\"}\n",
      "each['geometry']['coordinates'] (-95.3574139, 29.8867077)\n",
      "each['geometry']['coordinates'][0] = -95.3574139\n",
      "each =  {\"geometry\": {\"coordinates\": [-95.47312559999999, 29.74571959999999], \"type\": \"Point\"}, \"properties\": {\"address\": \"2000 Saint James Place, Houston, TX 77056, United States\", \"id\": \"52afd1ae1d4a85581d56feb80c02e3a0f203e7c6\", \"job_title\": \"geologist\", \"name\": \"Weatherford International Ltd\", \"photos\": [{\"height\": 5312, \"html_attributions\": [\"<a href=\\\"https://maps.google.com/maps/contrib/109977538253417550023/photos\\\">Toufik Djeradi</a>\"], \"photo_reference\": \"CoQBdwAAAD4au7G87ESMlP0plAxbsZWopz1k_-jgjjgpZJGkdoJP1q5m9_nvJ0ndNEh0sqAtWKHF3Hyd-Bh8HCKtWHPFILPgZxxKWpCMqWy7OajlFsePGCw3FM9a46784IetCrTbwVx0T6NFnIG8DrzmbB73HuehdQe9WqBB65nO2VxD8UqBEhD-UEe4m1jYHJdgq6s8pJt5GhQpqilme7TUATyB4HCQIp5c9uI6nA\", \"width\": 2988}], \"place_id\": \"ChIJ4ZM-A17BQIYR6GEbiv0fqjY\", \"rating\": 3.8, \"reference\": \"CmRRAAAAg83bPmeQtQZyl9_AkdNQemMXUiIdcUUDr7pwtE7sZjxFPChrvuvDAsIgzE4iqD1he_4IclAnfElQBtIAwbv2bgPxpemC78HUNIKncN2PWdvd76R13hu4WAYMrm277ZMBEhB2zbMeLLqnXJiixR3oJD4mGhTwtZFw1CWY_1wEv5cI3c-cVrhYoA\", \"types\": [\"general_contractor\", \"point_of_interest\", \"establishment\"]}, \"type\": \"Feature\"}\n",
      "each['geometry']['coordinates'] (-95.47312559999999, 29.74571959999999)\n",
      "each['geometry']['coordinates'][0] = -95.47312559999999\n",
      "each =  {\"geometry\": {\"coordinates\": [-95.59471649999999, 29.8775974], \"type\": \"Point\"}, \"properties\": {\"address\": \"11997 Farm to Market Rd 529, Houston, TX 77041, United States\", \"id\": \"952ed47a8b304b500d4c7fa4b2f7acc9d81862d0\", \"job_title\": \"geologist\", \"name\": \"Weatherford\", \"photos\": [], \"place_id\": \"ChIJN6mSK2jQQIYRsomU7nEAtQo\", \"rating\": 5, \"reference\": \"CmRRAAAASRu3SlWv86_gHMlTifyFzxkr1hFVGe6bYDuqBgOenDB2Vw_uwkZzjPo1myjVtJxhIGdIvMX5OG04UNSz23gey4EAt7HBxFCtDf2prtAw2_-YWhetb1qNbWCV4-bSMP2NEhCVfVdu6lgcX4F1uXrI63PvGhTNaa-EaH4xsYY3mIWvpKELmTMiGw\", \"types\": [\"general_contractor\", \"point_of_interest\", \"establishment\"]}, \"type\": \"Feature\"}\n",
      "each['geometry']['coordinates'] (-95.59471649999999, 29.8775974)\n",
      "each['geometry']['coordinates'][0] = -95.59471649999999\n",
      "each =  {\"geometry\": {\"coordinates\": [-95.4008035, 29.9623403], \"type\": \"Point\"}, \"properties\": {\"address\": \"18160 Imperial Valley Dr, Houston, TX 77060, United States\", \"id\": \"4d3095b9bb6426aacd6c3a9290d25e7a1271e552\", \"job_title\": \"geologist\", \"name\": \"Weatherford\", \"photos\": [{\"height\": 2268, \"html_attributions\": [\"<a href=\\\"https://maps.google.com/maps/contrib/103289608261407307137/photos\\\">KEVIN THOMAS</a>\"], \"photo_reference\": \"CoQBdwAAADHLzIlNaE3_qCROhaA1m5ApT4Vi_QDJg-Ud5tNBjkhVwlpVg6DUS0-qW6XcqoxnWKSX82v5X_gh65ptfvOTqX2DKpsu8RQ5P2KnkmkXypbHpPIKlEOQM7HzMCdNhLbWXFRu5gqih3H5DKkqxjSDqp8X5YrM6TXFB8aMhxP-b-YbEhD6x1azpltwcmCTdXNRRQM6GhTAfhbzgyUT5pqMfUY8zlOIvl53DA\", \"width\": 4032}], \"place_id\": \"ChIJ0-giCwTKQIYRcRakt7fNf8Q\", \"rating\": 3.5, \"reference\": \"CmRSAAAAJkTgdLr-WUGuOYOkE4vdU8MnIijVX-HWU8Tfec73C7z_jcafKh4eTjISeyn7OM-jZfE-zG9RhJtnCW1sVNU-Tr9xpcVZc2hT1HRB2hn0BTWwkr_Mee1ZGf8T_zdzsAp-EhBC80Pd3CsG7LJfAz4WjYSxGhSSReN05TLjuaZ4-EkSEp7lUTXysQ\", \"types\": [\"general_contractor\", \"point_of_interest\", \"establishment\"]}, \"type\": \"Feature\"}\n",
      "each['geometry']['coordinates'] (-95.4008035, 29.9623403)\n",
      "each['geometry']['coordinates'][0] = -95.4008035\n",
      "each =  {\"geometry\": {\"coordinates\": [-95.50646259999999, 29.8392312], \"type\": \"Point\"}, \"properties\": {\"address\": \"4409 Clark Rd, Houston, TX 77040, United States\", \"id\": \"5897514914025020b16834cc3321b79cd91ddcf4\", \"job_title\": \"geologist\", \"name\": \"Weatherford\", \"photos\": [], \"place_id\": \"ChIJRavrVZbFQIYR-V3u4J6Px6g\", \"rating\": \"NA\", \"reference\": \"CmRSAAAAdnk2E5uYfTtk5BTuO7iF55nAscDwfhMlZNdn0MvkdYRY3lAbzMvWmg-iPNzWbhHE0Ye4--bVvCMxa7VCx3n1F4Yf5u5hsMdhiyy508EQ-i5hKtdPJlRUNp5HqW5C-zGwEhAUZ2ZuzWH2Jm6SCJ6HwnakGhQiH_J2fT5VEo2FVIW7rBEB1IrGgg\", \"types\": [\"general_contractor\", \"point_of_interest\", \"establishment\"]}, \"type\": \"Feature\"}\n",
      "each['geometry']['coordinates'] (-95.50646259999999, 29.8392312)\n",
      "each['geometry']['coordinates'][0] = -95.50646259999999\n",
      "each =  {\"geometry\": {\"coordinates\": [-95.38671629999999, 29.9536867], \"type\": \"Point\"}, \"properties\": {\"address\": \"16210 W Hardy Rd, Houston, TX 77060, United States\", \"id\": \"d8740eea0d7d20abe22e8ee366dc5c88884d8890\", \"job_title\": \"geologist\", \"name\": \"Weatherford\", \"photos\": [], \"place_id\": \"ChIJaSSBtgC2QIYR1MT_9TLRMdc\", \"rating\": 4, \"reference\": \"CmRSAAAAqGr0Fg9Cw8hm_VSJzGd2DXIkPOzJaY_oLBEFtdoV0y2IJb3fy8UAfgTuWQIh3TmG_S20Ct_f1ac1sHMCzei9QNIppfbB1ECbgD4cgf9aP3QaczJTUcPcy2FzRrPrpelREhCqUpmow1BGjvhH8CNmmYTHGhQepmdjAITHWd90STqAYy3SXGubdw\", \"types\": [\"general_contractor\", \"point_of_interest\", \"establishment\"]}, \"type\": \"Feature\"}\n",
      "each['geometry']['coordinates'] (-95.38671629999999, 29.9536867)\n",
      "each['geometry']['coordinates'][0] = -95.38671629999999\n",
      "each =  {\"geometry\": {\"coordinates\": [-95.5414947, 29.8793251], \"type\": \"Point\"}, \"properties\": {\"address\": \"9600 W Gulf Bank Rd, Houston, TX 77040, United States\", \"id\": \"1410b97b0d3e49fac99b37306c2f239edf2cbfcc\", \"job_title\": \"geologist\", \"name\": \"Weatherford\", \"photos\": [], \"place_id\": \"ChIJIYP0x-rPQIYRQkqUN2zvUVk\", \"rating\": \"NA\", \"reference\": \"CmRRAAAAz8IggqTwzKwdUsAHBP4Jf94LMKcI_SgbX8VEMn8OLoB_2bR4d73uerjIDTUIHc9gfABQoP_EVnRUxiJ26MQl9sXRwduHTFwp_fRlurRcOx6qGpEqSPSKG4dcGcZzpNg5EhCbPKjAKMHDRATcXlo1AV6YGhQLyj48r9bl8_-JvTQzvizH_EYACw\", \"types\": [\"general_contractor\", \"point_of_interest\", \"establishment\"]}, \"type\": \"Feature\"}\n",
      "each['geometry']['coordinates'] (-95.5414947, 29.8793251)\n",
      "each['geometry']['coordinates'][0] = -95.5414947\n",
      "each =  {\"geometry\": {\"coordinates\": [-95.56310339999999, 29.86431019999999], \"type\": \"Point\"}, \"properties\": {\"address\": \"6550 West Sam Houston Pkwy N, Houston, TX 77041, United States\", \"id\": \"6af716c199aa85ab00b3099d81170d6589a15220\", \"job_title\": \"geologist\", \"name\": \"Weatherford\", \"photos\": [], \"place_id\": \"ChIJA--CRgLQQIYRlczuvd0DaDk\", \"rating\": \"NA\", \"reference\": \"CmRRAAAA672HtAc_jkUtm1HnlfcR9bbE_2qEngM28WWLBAzk4Brf9iZ4LFJ9UjgfChnmFuS_IzlRFu2FUffLB5CJmS3IAC6WGheMRMGuveqwXr24wKZ1JuBdVJVBfudlwj4nfPd7EhDWN-_2Pi8cFODZoA4lu3A_GhSeC9-ctzuAokZPjE1kt2RcIg6cMA\", \"types\": [\"general_contractor\", \"point_of_interest\", \"establishment\"]}, \"type\": \"Feature\"}\n",
      "each['geometry']['coordinates'] (-95.56310339999999, 29.86431019999999)\n",
      "each['geometry']['coordinates'][0] = -95.56310339999999\n",
      "each =  {\"geometry\": {\"coordinates\": [-95.5687557, 29.8280322], \"type\": \"Point\"}, \"properties\": {\"address\": \"3600 Brittmoore Rd, Houston, TX 77043, United States\", \"id\": \"292fb3ea5cda6a1e89be2a7e1edb634766ad609d\", \"job_title\": \"geologist\", \"name\": \"Weatherford\", \"photos\": [], \"place_id\": \"ChIJYxAfN8naQIYRx5yd_B1HBy4\", \"rating\": 4, \"reference\": \"CmRRAAAAHbEn_TpqR9z8bP2_F09vyFw07hnYSoBGw4En8c_nDCClCX0I6UsY6erVz_bsspIKyjl2kFOuoPRCb50O2hwYJOG5mPfEvVBHo0cVV3_CvWA-6_JayL06tktXGxDN7l6BEhAk-O_2FKAaF--gVDxf5cNqGhRKrjaosB6GOduZWJJM9136R7-tWw\", \"types\": [\"general_contractor\", \"point_of_interest\", \"establishment\"]}, \"type\": \"Feature\"}\n",
      "each['geometry']['coordinates'] (-95.5687557, 29.8280322)\n",
      "each['geometry']['coordinates'][0] = -95.5687557\n",
      "each =  {\"geometry\": {\"coordinates\": [-95.32106189999999, 29.95185230000001], \"type\": \"Point\"}, \"properties\": {\"address\": \"4420 Greens Rd, Houston, TX 77032, United States\", \"id\": \"0fea99fe6edf1976f5651dcee53a4c65b4b30561\", \"job_title\": \"geologist\", \"name\": \"Weatherford Us LP\", \"photos\": [], \"place_id\": \"ChIJb4d8jKW2QIYR9DvsxTaZDig\", \"rating\": 4, \"reference\": \"CmRRAAAANoIsDr-AJip_Cmsg0OKBT-kn9dWDIWa1pa5GMmgb1KYLAIvgbzQ-ZBESpH5uW4fIQL5PhCH79DQl501_bE889HKCkA8kr0uhl5m2A_sCwwq_7mc1r4zwt_AUqVzmLFL1EhA6UOMkC2YXKQp43u2jXv1TGhQKJTqVsgOcvEjzKKzKVydqvleZ9Q\", \"types\": [\"general_contractor\", \"point_of_interest\", \"establishment\"]}, \"type\": \"Feature\"}\n",
      "each['geometry']['coordinates'] (-95.32106189999999, 29.95185230000001)\n",
      "each['geometry']['coordinates'][0] = -95.32106189999999\n",
      "each =  {\"geometry\": {\"coordinates\": [-95.64149499999999, 29.7802045], \"type\": \"Point\"}, \"properties\": {\"address\": \"15995 N Barkers Landing Rd#275, Houston, TX 77079, United States\", \"id\": \"487c0f4fad0c96f92333e8445ffb7df4bbdd794a\", \"job_title\": \"geologist\", \"name\": \"Weatherford\", \"photos\": [], \"place_id\": \"ChIJgWVOPeHbQIYRD310QFCTldM\", \"rating\": 4, \"reference\": \"CmRSAAAApzeHX4mJr9u6vLBeGy9qE6zpJe8j1OBuuCwXs7_hikbYEEKXRoMb22Dd6dysRWD9bL1uKKW7bi7Wj8ssU9msmsFP5y6XU9Mad44TntqCbQiwUOKHAghv_8BEX5uO7xYTEhD-E1JcFfCc9KcGJYHeWytCGhQOOKUj4nSM6ZtucUnPP5Bx35GRrw\", \"types\": [\"general_contractor\", \"point_of_interest\", \"establishment\"]}, \"type\": \"Feature\"}\n",
      "each['geometry']['coordinates'] (-95.64149499999999, 29.7802045)\n",
      "each['geometry']['coordinates'][0] = -95.64149499999999\n",
      "each =  {\"geometry\": {\"coordinates\": [-95.49729029999999, 29.9313766], \"type\": \"Point\"}, \"properties\": {\"address\": \"10655 Bammel North Houston Rd, Houston, TX 77086, United States\", \"id\": \"ac2948f51dcbeb1d0caac8d3e79696ff62bb54df\", \"job_title\": \"geologist\", \"name\": \"Weatherford\", \"photos\": [], \"place_id\": \"ChIJ97T_sb_OQIYR3VDC1vCO01I\", \"rating\": \"NA\", \"reference\": \"CmRRAAAAe_cc8wXV1QhCq54WW17aelrYzrUy_rF9N3DM-wZjE2I9hmAlN72N2fEjp1wAaxiSn8nn25bw5PtvEFI1AITcsINUSurS1bd2GntcbIdhUoKGfLeeezAOC7dOCgfNXlLLEhBTE7wwXpRYsrWtESMHW2UPGhR6oKcE0w4hFv_pn1IpUy5z1RD36A\", \"types\": [\"general_contractor\", \"point_of_interest\", \"establishment\"]}, \"type\": \"Feature\"}\n",
      "each['geometry']['coordinates'] (-95.49729029999999, 29.9313766)\n",
      "each['geometry']['coordinates'][0] = -95.49729029999999\n",
      "each =  {\"geometry\": {\"coordinates\": [-95.46547729999999, 29.82209649999999], \"type\": \"Point\"}, \"properties\": {\"address\": \"5151 Milwee St, Houston, TX 77092, United States\", \"id\": \"7c57cdc787545fb5cdaa2ec867964d2a4a03a214\", \"job_title\": \"geologist\", \"name\": \"Weatherford\", \"photos\": [], \"place_id\": \"ChIJf8uI6mTGQIYRT2uM5UPk9Rc\", \"rating\": \"NA\", \"reference\": \"CmRRAAAATjTm6WW_HJ2CpYDVZfFqLzE9UhhoIUKds-QsAh6iXhbGPvIrfEi6yW_AgjLDuNLcspq2MdocbtsF8kThL6ogpzUYP42IspJgC6CABFytNh-AoH-wdao5UwHzYC8ggWBuEhDtMCuFW5V6qkNFRXQoTP8RGhTXwM1cYSfdCukzqpC3cJQguj6lCQ\", \"types\": [\"general_contractor\", \"point_of_interest\", \"establishment\"]}, \"type\": \"Feature\"}\n",
      "each['geometry']['coordinates'] (-95.46547729999999, 29.82209649999999)\n",
      "each['geometry']['coordinates'][0] = -95.46547729999999\n",
      "each =  {\"geometry\": {\"coordinates\": [-95.3308448, 29.9467059], \"type\": \"Point\"}, \"properties\": {\"address\": \"15710 John F Kennedy Blvd #700, Houston, TX 77032, United States\", \"id\": \"8c57b1d23f4bbd0979cfdc9220021c397e740316\", \"job_title\": \"geologist\", \"name\": \"Weatherford International\", \"photos\": [], \"place_id\": \"ChIJ8QvAT722QIYRFoA0kAAlp_w\", \"rating\": \"NA\", \"reference\": \"CmRSAAAAuheruYSjLZtCmRXqwvJo76w0-_uj176g7z_q4UlnZpgJ20PuVGvd4bufwBiFsnxlFO8ZI0ace-dNFPaWxyFihGXoHz1rg3FCWIjHyxatcJ_ZeiWd-K-sgGx6g09RH-JUEhBEBZoLKIvLpYWno53T2TViGhRmvtOnbnAfEIlW9pjQo7pjqJSS0A\", \"types\": [\"point_of_interest\", \"establishment\"]}, \"type\": \"Feature\"}\n",
      "each['geometry']['coordinates'] (-95.3308448, 29.9467059)\n",
      "each['geometry']['coordinates'][0] = -95.3308448\n",
      "each =  {\"geometry\": {\"coordinates\": [-95.5036944, 29.9384892], \"type\": \"Point\"}, \"properties\": {\"address\": \"5200 North Sam Houston Pkwy W Suite 500, Houston, TX 77086, United States\", \"id\": \"c35235ad15c043ae6d3fa786e635bdc00ba7e525\", \"job_title\": \"geologist\", \"name\": \"Weatherford Labs\", \"photos\": [], \"place_id\": \"ChIJbarkM5fOQIYRtdFDh1I4Ibw\", \"rating\": 5, \"reference\": \"CmRSAAAA3Qc20R8zL_Xj4UTcfx1IeFcqcjKP4V56ZL1WmnzF1cp_ZOUbuIUsclKURAHDLbmyzDS-bmmy5dKInI0a3z4LonfgjCb5LYWWv-xk8UtA7QusyUE8F0A_q4EkHbnxvm6JEhCSwX2wgmVPGR1NrfqZ1o6yGhQ03ynDdz0Gj934izz3e7W6VOQojg\", \"types\": [\"point_of_interest\", \"establishment\"]}, \"type\": \"Feature\"}\n",
      "each['geometry']['coordinates'] (-95.5036944, 29.9384892)\n",
      "each['geometry']['coordinates'][0] = -95.5036944\n",
      "each =  {\"geometry\": {\"coordinates\": [-95.551149, 29.9230152], \"type\": \"Point\"}, \"properties\": {\"address\": \"8845 Fallbrook Dr, Houston, TX 77064, United States\", \"id\": \"6012e90f06cdf2fc9891b68f8e37c07102fc4043\", \"job_title\": \"geologist\", \"name\": \"Weatherford Labs\", \"photos\": [], \"place_id\": \"ChIJhSfAKyPOQIYR3TfWmiitgdk\", \"rating\": \"NA\", \"reference\": \"CmRSAAAAEkO_e-8flgTBOyfrINbT9lMCfrvkJIJ4lfy3-YPIDt1oOjVCD8RiCJ6Os7rsTbktzSYc1I21NAJJzrzFVm34ucQBSBArgMsy1ecf-6KQ8n3B3OB2S9-9Xi1Vdq01RLMmEhDQz3Sb_rWRQDToLGgdWFZrGhRjNHP__M_XkEjbCioZs6pJRm3Puw\", \"types\": [\"school\", \"point_of_interest\", \"establishment\"]}, \"type\": \"Feature\"}\n",
      "each['geometry']['coordinates'] (-95.551149, 29.9230152)\n",
      "each['geometry']['coordinates'][0] = -95.551149\n",
      "each =  {\"geometry\": {\"coordinates\": [-95.58365099999999, 29.87864769999999], \"type\": \"Point\"}, \"properties\": {\"address\": \"11909 FM 529 Road, Houston, TX 77041, United States\", \"id\": \"34a35815f125719e685a25e281877fd0f3e707dd\", \"job_title\": \"geologist\", \"name\": \"Weatherford\", \"photos\": [], \"place_id\": \"ChIJN6mSK2jQQIYRkXRkecpsqOk\", \"rating\": 5, \"reference\": \"CmRSAAAA64szvuN6bwT2vXiCnIa7KFhKu9op6b80JxsqjfQOki-9Ox9qpYDLeEXSKrmwWwMnsJFsmc19QI-0iCXaEomNk0M0aBiElO9M6izQDDwnd4bv08-qYLBkHxFrZEBxTfuGEhAPGH5g8nozmwLd3dT_IuDhGhT3V_jhBGECFQH1M3yh_SjNcjieSQ\", \"types\": [\"point_of_interest\", \"establishment\"]}, \"type\": \"Feature\"}\n",
      "each['geometry']['coordinates'] (-95.58365099999999, 29.87864769999999)\n",
      "each['geometry']['coordinates'][0] = -95.58365099999999\n",
      "each =  {\"geometry\": {\"coordinates\": [-95.48866699999999, 29.9435503], \"type\": \"Point\"}, \"properties\": {\"address\": \"4420 W Greens Rd, Houston, TX 77066, United States\", \"id\": \"a0777591ff05d81829fbccf25c638ff0202494cb\", \"job_title\": \"geologist\", \"name\": \"Weatherford Wellcat\", \"photos\": [], \"place_id\": \"ChIJ7aT18q_OQIYRQVu3YUEkW8E\", \"rating\": 5, \"reference\": \"CmRSAAAAHlvboZz0IwNYb38I6_w2ykJQIitYJTUbSeowlfikYkd2zUCVodTedDLXDC1bKsOdCNBUTpTI3i6oczrm66Aro5e63vu0G-GuJHd3Vr4Q2mBgHleP16Qz1zq9SgY1NbxJEhB5rsFzkUAlEgy9TdWkwK71GhQ0Ui6xYuQmCkzCt6evjpKVvMaGIQ\", \"types\": [\"point_of_interest\", \"establishment\"]}, \"type\": \"Feature\"}\n",
      "each['geometry']['coordinates'] (-95.48866699999999, 29.9435503)\n",
      "each['geometry']['coordinates'][0] = -95.48866699999999\n",
      "each =  {\"geometry\": {\"coordinates\": [-95.66870100000001, 29.786041], \"type\": \"Point\"}, \"properties\": {\"address\": \"16430 Park Ten Pl, Houston, TX 77084, United States\", \"id\": \"1b41b81f14c05bef0bfa7b4b15ac1b253556cb23\", \"job_title\": \"geologist\", \"name\": \"Weatherford Us LP\", \"photos\": [], \"place_id\": \"ChIJK2PrHBXZQIYR5_WIovzEWWQ\", \"rating\": \"NA\", \"reference\": \"CmRRAAAAOqG4Nb6UmHDcNoUnn7x-SU0DRyx8COUIyXYUg48jIZj-F7byC_FwuMk16GrzBZgdXweSynIK-MM2IRS7X2qUOvPl6YtDR0gBIxiIip8WhvrXxva38HY2Z_qA22nFxa2PEhBFzFtUHueMEpnMvK0VS-DgGhRdEvU9tG1kAhvrZ5mBA8x-vIaQyw\", \"types\": [\"point_of_interest\", \"establishment\"]}, \"type\": \"Feature\"}\n",
      "each['geometry']['coordinates'] (-95.66870100000001, 29.786041)\n",
      "each['geometry']['coordinates'][0] = -95.66870100000001\n",
      "each =  {\"geometry\": {\"coordinates\": [-95.0431184, 29.6908544], \"type\": \"Point\"}, \"properties\": {\"address\": \"11931 Hwy 225, La Porte, TX 77571, United States\", \"id\": \"e655333b194bd940ac7bab961f2556d75d128a2d\", \"job_title\": \"geologist\", \"name\": \"Weatherford\", \"photos\": [], \"place_id\": \"ChIJRe9oNwpgP4YRQAHsNXMU0vA\", \"rating\": \"NA\", \"reference\": \"CmRSAAAAO7repZsBmxg7MmfyPCCxeGFlONi8BfRhPECF3dy6x3kGfaJlRpyDscNMIv00kdRXBvpRW1KtA0BJgTO1j_9DgjURurVc3DC5OcKglCo7GGA2L9-i-TCehEaK6oM_qrctEhCDn1IcO4o7VgE2jv2qHjAIGhT7oIO7iKf8njUyNSMgZ1EaWRVAFg\", \"types\": [\"general_contractor\", \"point_of_interest\", \"establishment\"]}, \"type\": \"Feature\"}\n",
      "each['geometry']['coordinates'] (-95.0431184, 29.6908544)\n",
      "each['geometry']['coordinates'][0] = -95.0431184\n",
      "each =  {\"geometry\": {\"coordinates\": [-95.5314736, 30.6921017], \"type\": \"Point\"}, \"properties\": {\"address\": \"3170 Old Houston Rd, Huntsville, TX 77340, United States\", \"id\": \"cedeccf47c49b8605a49a68fe84e726e38ee952e\", \"job_title\": \"geologist\", \"name\": \"Weatherford\", \"photos\": [], \"place_id\": \"ChIJv4yIZc4IR4YRYzq6o-p4Qno\", \"rating\": \"NA\", \"reference\": \"CmRRAAAAg8X3fZx-Ej06SF4AbEXE2UaM-d1pMQWOduEzYr12XvkKMTZxBV7AxD129Os-FOuHPLazIigF5o6DxOdd0iHc9SiIybIT_ri3mFGBnc_b1VI1_bdXwcb2XGTB-ErX83OfEhC4lrM58fcJ4ahwyxhhUelqGhSgZ0t2EYSLpDd4x36wVvjCxdQhhA\", \"types\": [\"general_contractor\", \"point_of_interest\", \"establishment\"]}, \"type\": \"Feature\"}\n",
      "each['geometry']['coordinates'] (-95.5314736, 30.6921017)\n",
      "each['geometry']['coordinates'][0] = -95.5314736\n",
      "each =  {\"geometry\": {\"coordinates\": [-95.2559629, 30.0674877], \"type\": \"Point\"}, \"properties\": {\"address\": \"22001 Northpark Dr, Kingwood, TX 77339, United States\", \"id\": \"1cf42089a61995ee434212bf913c60fbc8b01cd3\", \"job_title\": \"geologist\", \"name\": \"Weatherford\", \"photos\": [{\"height\": 3264, \"html_attributions\": [\"<a href=\\\"https://maps.google.com/maps/contrib/116976098361550939190/photos\\\">Texan country75</a>\"], \"photo_reference\": \"CoQBdwAAABsvvCwM_lOMW2npMToTy4jCjXotrw0XwsFYeeMavQCQpkoOfBnfFxGW06wxEXXIEeE4vD_qiY2VlKPWdYiCp_BFm_CVrbiCnW-yooUC2ZZ4BxPeqQJ9Yt_8TxLbOUKs_40mikl5pB4xixjShs03dK7UcBoRae3O0Oz-0J8ltsOcEhCX_OZMoXgZlImHZEuAoKbcGhTSXwUSPXvDh78jlrcyIVp1LRvdUw\", \"width\": 1840}], \"place_id\": \"ChIJ9_DxATtNR4YR5x9qO1Lvfsg\", \"rating\": 4.5, \"reference\": \"CmRSAAAA3aUxp7HyVJxici4lx_x8YGNeb5lW1uV4U7cY25pKvjfHSyX-Owc0tCkVGtyH-PwCIVJBZ6z0XVylF4aQFpcO_iCGL4v3pu5VZ5kS7sdZdULPU43z8a62TY-gufHkZBtqEhBsVWXoW6lgYPrkklXF3JxBGhQWQArdb4d11v4Rg52cWqMrufIlnQ\", \"types\": [\"general_contractor\", \"car_repair\", \"point_of_interest\", \"establishment\"]}, \"type\": \"Feature\"}\n",
      "each['geometry']['coordinates'] (-95.2559629, 30.0674877)\n",
      "each['geometry']['coordinates'][0] = -95.2559629\n",
      "each =  {\"geometry\": {\"coordinates\": [-95.35959799999999, 29.766005], \"type\": \"Point\"}, \"properties\": {\"address\": \"1 Main St, Houston, TX 77002, United States\", \"id\": \"bbf863152c3e55a67956f9a69a36bfe8822bc16e\", \"job_title\": \"geologist\", \"name\": \"University of Houston-Downtown\", \"photos\": [{\"height\": 2988, \"html_attributions\": [\"<a href=\\\"https://maps.google.com/maps/contrib/113673164458451850004/photos\\\">raul medina torres</a>\"], \"photo_reference\": \"CoQBdwAAAFRgJoVy4my1ZArexUmdDS4dTbKKB1jzYvddch49Aszj2ozHEgAihc715aEtgNEzBMlHZ8hcw5XQxDKlO5Yx5XZQ010Hjil-ldZ9zSdJ8vQ9kZVCbkDMdxGl4f1IATZ4C11g4O8DNE9xbBYDlfvB1vRQcsG3zWxrUf7kAoP9AR1BEhD_w6mrXYhpvBrcgFhxVlTOGhShhA8rQuxSbzJqtcvb2EBF25DCIQ\", \"width\": 5312}], \"place_id\": \"ChIJ0_q_Zyy_QIYRVx8D5OgE30I\", \"rating\": 3.8, \"reference\": \"CmRRAAAA6tfEecfOsL2XGMvfuuh7RNZEaoOKlN6RwS-vuvzBrhSpEIQ2yYy-GPYuYv2IUFHDX5oxW1uMWdmJRNmeF3z0JEd_3uFVcyIDxhaoekhVLu98ELU2u0H1_9S8rreel1tREhAJekM_LW83cgkBxXbYuoI2GhQjEF_la5zzgTeE3poD5ZwhH4PA-Q\", \"types\": [\"university\", \"point_of_interest\", \"establishment\"]}, \"type\": \"Feature\"}\n",
      "each['geometry']['coordinates'] (-95.35959799999999, 29.766005)\n",
      "each['geometry']['coordinates'][0] = -95.35959799999999\n",
      "each =  {\"geometry\": {\"coordinates\": [-122.275625, 37.558525], \"type\": \"Point\"}, \"properties\": {\"address\": \"950 Tower Ln #1800, Foster City, CA 94404, United States\", \"id\": \"7e06777636d6adc21fdbca3d2ed8b441a160f8b6\", \"job_title\": \"geologist\", \"name\": \"Jefferies\", \"photos\": [], \"place_id\": \"ChIJs2QUB9Cej4ARJhUwfIzrgOg\", \"rating\": \"NA\", \"reference\": \"CmRSAAAAbc2J-N0TItxavY2cgB_lOizmkPh6_k8DL3N9nGdgjTBixSruo_B6P6SZ6m04Tf3ZiyrpUGy8eeus6qCzhS7t87GlSsqLyoKgyWF4N7dzuCykySoTm8LQ60fP8YCddMfvEhBi5ITYVetge_r7OaJzcOpxGhRSMvEP5bkcNKpDs5BbE0MDWSzQtA\", \"types\": [\"finance\", \"point_of_interest\", \"establishment\"]}, \"type\": \"Feature\"}\n",
      "each['geometry']['coordinates'] (-122.275625, 37.558525)\n",
      "each['geometry']['coordinates'][0] = -122.275625\n",
      "each =  {\"geometry\": {\"coordinates\": [-122.3978806, 37.7928294], \"type\": \"Point\"}, \"properties\": {\"address\": \"101 California Street, 31st Floor, San Francisco, CA 94111, United States\", \"id\": \"f3f72aae25c23a44ea8a2aa6adb8fb211f26b207\", \"job_title\": \"geologist\", \"name\": \"Jefferies\", \"photos\": [], \"place_id\": \"ChIJKe9WromAhYAR3cAopBvv39U\", \"rating\": \"NA\", \"reference\": \"CmRSAAAAjkWNNypRPnagq2XJXeDGydlGu9LuBJEQXRblA8rjZ2pckgg7ya_GNEAcao8lqR-ADqgbDWarN6JO6zT8K6KeU4zL7lkz7N18TY8RqqgIsyR6XIa61YYFEdLbw-H4O3OAEhCdQoNcdYAwEk7POViTIq1EGhTxGDWMZU4H4GkRAU43ey-oNUKymA\", \"types\": [\"finance\", \"point_of_interest\", \"establishment\"]}, \"type\": \"Feature\"}\n",
      "each['geometry']['coordinates'] (-122.3978806, 37.7928294)\n",
      "each['geometry']['coordinates'][0] = -122.3978806\n",
      "each =  {\"geometry\": {\"coordinates\": [-71.05365189999999, 42.355256], \"type\": \"Point\"}, \"properties\": {\"address\": \"125 High St #2501, Boston, MA 02110, United States\", \"id\": \"7ffde3d6cff784e78ea8bcb171183872e5de92f9\", \"job_title\": \"geologist\", \"name\": \"Jefferies\", \"photos\": [], \"place_id\": \"ChIJD1WRGoRw44kRt2okSmAY8_Q\", \"rating\": \"NA\", \"reference\": \"CmRSAAAAW2ft2ijc1SubIN5AQOiOPSShwxLLER7jmv0IaMq8LkXqLQCZTMFi2mSkw_09PrKi8VtTprwLUda9vsQT3WeHzEhg1SfyCy34heDY9AZeQUbfQGr650yTCrLwVu4dQjy8EhC53FIg7y8E6BdvUsNo8STnGhQd5zY1kkUo_KGkxPfQtfJOYzTNeg\", \"types\": [\"finance\", \"point_of_interest\", \"establishment\"]}, \"type\": \"Feature\"}\n",
      "each['geometry']['coordinates'] (-71.05365189999999, 42.355256)\n",
      "each['geometry']['coordinates'][0] = -71.05365189999999\n",
      "each =  {\"geometry\": {\"coordinates\": [-96.8045276, 32.7935055], \"type\": \"Point\"}, \"properties\": {\"address\": \"300 Crescent Ct #500, Dallas, TX 75201, United States\", \"id\": \"cc98d97feb51539398ff89103412330162061df7\", \"job_title\": \"geologist\", \"name\": \"Jefferies\", \"photos\": [], \"place_id\": \"ChIJpdYdcjCZToYRXUE9oaMTdfY\", \"rating\": \"NA\", \"reference\": \"CmRSAAAAG6VeNreznQ9Mt4KJMHFfhbhyK-5PW1LsftChRArZvlccP3p8g7Gbk2WsJe0nP6A0A9Id51UzIlDg3Kvi4tpnUl05sVPVzXFYTMuwH1GcX3FJKSKsEnP13k3OAvrKsGoXEhBjR6Nut0BPTubdAl1lrwTYGhRTj3ffFD6nEYsuwRcuWiYaJRoAkw\", \"types\": [\"finance\", \"point_of_interest\", \"establishment\"]}, \"type\": \"Feature\"}\n",
      "each['geometry']['coordinates'] (-96.8045276, 32.7935055)\n",
      "each['geometry']['coordinates'][0] = -96.8045276\n",
      "each =  {\"geometry\": {\"coordinates\": [-79.378771, 43.646638], \"type\": \"Point\"}, \"properties\": {\"address\": \"27th Floor, 161 Bay St, Toronto, ON M5J 2S1, Canada\", \"id\": \"da82bb96080c04d16821bd1a24d171691993bf41\", \"job_title\": \"geologist\", \"name\": \"Jefferies\", \"photos\": [{\"height\": 3456, \"html_attributions\": [\"<a href=\\\"https://maps.google.com/maps/contrib/116434591653906538710/photos\\\">Pagan Eka Cheung</a>\"], \"photo_reference\": \"CoQBdwAAADtFI0LoJPYJ1dkBXxoxMkCSSqL124n-ls_Fqso20WkDKsxBFdGlLn0Q3HYAqxtBLO1MKL8YoKAaf9MschU9WDj38YoqLWgVuNoCMR1VzJSri5K_q2cmOpKrsz4Kz2Gx-eePk8au4s07Wheo8Z4b0D6-QEHzHO55G_PDhJMoOI08EhDReiwir_vue8XtHeTHtkNzGhRUE6T5LJpBOKnnjjBL2-KlHhg0VQ\", \"width\": 5184}], \"place_id\": \"ChIJ1x_nwizL1IkReVs3We_w1x8\", \"rating\": \"NA\", \"reference\": \"CmRRAAAArkJPZefEJ_o9YGuzg3HbY3QkxLz5kBQGGm6ee3oVIFFiqS3wV0fkxrSkOdD1c-eZQzEf6TDONhCOqRu7CpauJQ-vWu1N4-n1yRmKi4Yud0co2rp_qmyTsMGJYuireBe9EhCly9TBMZcQDrXd3lAio0ZaGhReNUXub-Wjp7D81pRdhck_Nq957w\", \"types\": [\"finance\", \"point_of_interest\", \"establishment\"]}, \"type\": \"Feature\"}\n",
      "each['geometry']['coordinates'] (-79.378771, 43.646638)\n",
      "each['geometry']['coordinates'][0] = -79.378771\n",
      "each =  {\"geometry\": {\"coordinates\": [-73.9744177, 40.7603369], \"type\": \"Point\"}, \"properties\": {\"address\": \"520 Madison Ave, New York, NY 10022, United States\", \"id\": \"5c9d17fe71a3786786cdf466499afd00d993cf95\", \"job_title\": \"geologist\", \"name\": \"Jefferies\", \"photos\": [{\"height\": 362, \"html_attributions\": [\"<a href=\\\"https://maps.google.com/maps/contrib/111560879677599884394/photos\\\">Jefferies</a>\"], \"photo_reference\": \"CoQBdwAAACFy2jHVbRaI1SzpY1O7V3fMLPbHDBXlRRIrTzstUAst_j-ULtD5Z4UaAfF_TV7v7Q3qz2L5QttJ0EqvSWTH-a5bIHmbK94Ao_gxPTc_TzRHmWpnIAIW67KhNV3tdEuVGT1S8ukQHFxMHe430_RyOw9k4BKqGg7ujueagddEU6fVEhA_2x-3ZBevVJQD3X0HbXI8GhT-2O5g0W72S6lqVSRxsHhP7egbgw\", \"width\": 362}], \"place_id\": \"ChIJoUYfoftYwokRCuxgQHsUnnE\", \"rating\": 5, \"reference\": \"CmRRAAAApuPL_NJPjl8lc6geSIEQp5gzrAZPPmYDj88BB0LciKSA7q6rX_hrjnd8bnqq46A9t5kgWulvbdsGf1Ca0XJjwGicTLTbKFazSoB3RvnMMZ3g8DjXtGnN5mSuigp8z9cLEhBuWGP6OZD_t243Vl7-0F0rGhSV4AqKgoz62W9DrS7EdXO14Hv7nw\", \"types\": [\"finance\", \"point_of_interest\", \"establishment\"]}, \"type\": \"Feature\"}\n",
      "each['geometry']['coordinates'] (-73.9744177, 40.7603369)\n",
      "each['geometry']['coordinates'][0] = -73.9744177\n",
      "each =  {\"geometry\": {\"coordinates\": [-77.0330278, 38.90163099999999], \"type\": \"Point\"}, \"properties\": {\"address\": \"901 15th St NW, Washington, DC 20005, United States\", \"id\": \"a3abc9db98ff79fbe2a66836cdb2b354fd2f0a01\", \"job_title\": \"geologist\", \"name\": \"Jefferies\", \"photos\": [], \"place_id\": \"ChIJV9STDb63t4kRU0LXiQVo_uI\", \"rating\": \"NA\", \"reference\": \"CmRSAAAAhKrXkSjHAWvfRVBwlHLI0iGeFRCzYda5LFFAjueXVMp0QY_Ot_-46mBcdEQfSRvEBBPK2DCpJISUHwO5lW1M55LM2QUiSfEUGeKKU2VyXyIJFj1C9BEkFd2_ij1MNJ6AEhA6cBQYnqfwaSCz5DNe4eCzGhRnoEajEoF_z773uQG-jYlRX1n90Q\", \"types\": [\"finance\", \"point_of_interest\", \"establishment\"]}, \"type\": \"Feature\"}\n",
      "each['geometry']['coordinates'] (-77.0330278, 38.90163099999999)\n",
      "each['geometry']['coordinates'][0] = -77.0330278\n",
      "each =  {\"geometry\": {\"coordinates\": [-118.44446, 34.046451], \"type\": \"Point\"}, \"properties\": {\"address\": \"11100 Santa Monica Blvd, Los Angeles, CA 90025, United States\", \"id\": \"1f734b0fa44ab213ffda9722ef71037ffd95192e\", \"job_title\": \"geologist\", \"name\": \"Jefferies\", \"photos\": [{\"height\": 2398, \"html_attributions\": [\"<a href=\\\"https://maps.google.com/maps/contrib/108148696520494170138/photos\\\">Svein Rorvik</a>\"], \"photo_reference\": \"CoQBdwAAACeV9o0b3hK-jr8_45A_YRy-wlHeNgE6AWQ7A2kJxI5Y0pVaf_VFkdKZPzUR-FQOtRLWWup90XBGtWNfpAztR_pfBIgtE3BCI4K9iAEkEpmxZf0T5kBIIAqlBMQV46i6JuHWI06CHGY-kGBVCLP4j6Ft6IOA_3ocEZckhYEVFzDjEhBoQqzYUmbk3Vjlk61YzJMeGhR2LLOdacUO6xKvWKE7YCIjWSbeHg\", \"width\": 2772}], \"place_id\": \"ChIJCYCyNXe7woARVslK_YSmhWc\", \"rating\": \"NA\", \"reference\": \"CmRRAAAApEBJa086wIR7wPFl7y8aWZlv0H1Kls7DiYxVL59O2lb5N878-rVAcOpONpHj-7jpb24ldpoLvT8h3wv4EYYtnj0T-uqVllBCjbpR0i1TF57aehkrrfcXrLm2lVE81OMXEhCAw9qsuG8Jl_BuuUU31hcjGhSOJgWMlWGrHDZR5Gkwp2xge5JXhg\", \"types\": [\"finance\", \"point_of_interest\", \"establishment\"]}, \"type\": \"Feature\"}\n",
      "each['geometry']['coordinates'] (-118.44446, 34.046451)\n",
      "each['geometry']['coordinates'][0] = -118.44446\n",
      "each =  {\"geometry\": {\"coordinates\": [-84.364085, 33.8501094], \"type\": \"Point\"}, \"properties\": {\"address\": \"3414 Peachtree Rd # 810, Atlanta, GA 30326, United States\", \"id\": \"c147c4827a2b979e025e9c92b823fa1ac4e5b571\", \"job_title\": \"geologist\", \"name\": \"Jefferies\", \"photos\": [], \"place_id\": \"ChIJC3xHblcP9YgRfBn2MLL9fOw\", \"rating\": \"NA\", \"reference\": \"CmRSAAAAnsALhliWCAEgwkt8JDp7KcvMmCCMunayogM0rgsoZhkHWrpiVcvnh-8XSH4b3rzz5m9FeVhJdGj-D5rKO2u0-ew1RtIBMQ-1BlyjyFwfD4-9xawzx9i0f-NYdCFfJx7jEhD8pLKv5mdeIA9ZLLFxLvh-GhQw-NxcKTv2FMDZkGgnSz7BZfj7BA\", \"types\": [\"finance\", \"point_of_interest\", \"establishment\"]}, \"type\": \"Feature\"}\n",
      "each['geometry']['coordinates'] (-84.364085, 33.8501094)\n",
      "each['geometry']['coordinates'][0] = -84.364085\n",
      "each =  {\"geometry\": {\"coordinates\": [-86.7961041, 36.1525657], \"type\": \"Point\"}, \"properties\": {\"address\": \"1801 West End Ave #420, Nashville, TN 37203, United States\", \"id\": \"823ef22929ba0b4f9454338bdfb2f72d8a5bbcf0\", \"job_title\": \"geologist\", \"name\": \"Jefferies\", \"photos\": [], \"place_id\": \"ChIJZVTrPrtmZIgRQb4EqhRexts\", \"rating\": \"NA\", \"reference\": \"CmRSAAAAJqjgI3lnfJjLVzRPnaXyWSwFSlhblent6uJUHccbZG2YLJebddq1WqTgmLVFvPE7kmdXQaMwbVdI5zBZYuHzy0LddeHfiRDT1RTdqGwq4YnPgylw00KcFPcJqU5BOAoREhCCEPqfPQLvvnAIpuMyC5tJGhSIKc_6VQvYiMpv0doMqj7neNd-Zw\", \"types\": [\"finance\", \"point_of_interest\", \"establishment\"]}, \"type\": \"Feature\"}\n",
      "each['geometry']['coordinates'] (-86.7961041, 36.1525657)\n",
      "each['geometry']['coordinates'][0] = -86.7961041\n",
      "each =  {\"geometry\": {\"coordinates\": [-104.959443, 39.685042], \"type\": \"Point\"}, \"properties\": {\"address\": \"8310, Valley Hwy, Denver, CO 80112, United States\", \"id\": \"dc67f46a972c780d5a23722990156fef19ca4f11\", \"job_title\": \"geologist\", \"name\": \"Jefferies\", \"photos\": [], \"place_id\": \"ChIJN9OWSmp-bIcRyJZCvpUJfNw\", \"rating\": \"NA\", \"reference\": \"CmRSAAAAX2dRk8kW-1jmgynFdG3xBKMBk8RLm0Xhy7SQzGia4_bGygb3csuIStZS1p9a4w2Bx6UX8YzL0oJA4V5axHqreZrEJ7xu306sIVxkA6PTOh1ihc68AWGrsFb_Km-8A0hJEhBanUySiY64a4DEqeEoM6-kGhShD8Ei6EG5wCG0RmXAtvrlbU00gw\", \"types\": [\"finance\", \"point_of_interest\", \"establishment\"]}, \"type\": \"Feature\"}\n",
      "each['geometry']['coordinates'] (-104.959443, 39.685042)\n",
      "each['geometry']['coordinates'][0] = -104.959443\n",
      "each =  {\"geometry\": {\"coordinates\": [-74.0754935, 40.3503972], \"type\": \"Point\"}, \"properties\": {\"address\": \"2 Bridge Ave #321, Red Bank, NJ 07701, United States\", \"id\": \"cb923c49e27e44bbe257542729fde12803139a29\", \"job_title\": \"geologist\", \"name\": \"Jefferies & Co Inc\", \"photos\": [], \"place_id\": \"ChIJkVuhPzUwwokRAvoqrkDuv-4\", \"rating\": \"NA\", \"reference\": \"CmRSAAAAdEbEDiE-oXc44Rmey7QriZpaeSGXXlI7kh8vUZdrLSKFq2_pd5o_KsZZyueD6C_XO2LP1m9cEMVVbWwFlR34r67HHenO4a8UM_7ECukxGs7vEq_aAIsKM9dOwHpjjNt4EhDkUqFqY38vChpHtUqPySEuGhRzIOe1aralUa7HA_Wv4BQOvDbPyA\", \"types\": [\"finance\", \"point_of_interest\", \"establishment\"]}, \"type\": \"Feature\"}\n",
      "each['geometry']['coordinates'] (-74.0754935, 40.3503972)\n",
      "each['geometry']['coordinates'][0] = -74.0754935\n",
      "each =  {\"geometry\": {\"coordinates\": [-0.09169, 51.510839], \"type\": \"Point\"}, \"properties\": {\"address\": \"68 Upper Thames St, London EC4V 3BJ, United Kingdom\", \"id\": \"16aa8fcbad4606de754460e59f1654af80bf8c82\", \"job_title\": \"geologist\", \"name\": \"Jefferies\", \"photos\": [], \"place_id\": \"ChIJ3cf991UDdkgR5yj4BrdRvIw\", \"rating\": 5, \"reference\": \"CmRSAAAAcqExv4vKL3wx1S3S-1Hexbntrzac8AUkzMKLMaMlIE_mKujWsFJ-P1HaKddSlDBeY46tHNM-dqm64aG2Fe7uJNuuYDa18YnrvwchlPkWqlUhs0xvixrVqXhnpzXO3F1XEhCbOs9lgA2ej_6wX8iHqyptGhQ9pzODMj_XHiI6__4zdkYwnAYJQA\", \"types\": [\"finance\", \"point_of_interest\", \"establishment\"]}, \"type\": \"Feature\"}\n",
      "each['geometry']['coordinates'] (-0.09169, 51.510839)\n",
      "each['geometry']['coordinates'][0] = -0.09169\n",
      "each =  {\"geometry\": {\"coordinates\": [-87.636674, 41.884755], \"type\": \"Point\"}, \"properties\": {\"address\": \"155 N Upper Wacker Dr, Chicago, IL 60606, United States\", \"id\": \"49d81feffe7475e9d597b5a4a7217e6b8f8955ed\", \"job_title\": \"geologist\", \"name\": \"Jefferies\", \"photos\": [], \"place_id\": \"ChIJRR8jPr8sDogRVLTfPLlxyJk\", \"rating\": \"NA\", \"reference\": \"CmRSAAAAyLzUq7EoysoDjWaJnFMCHh2XLG_TsC7zmnz7Q8om15Y6IFZLFR-xONaApfsrYLkcBmdG78FMN8on-jKHvz_foPJutzoKAMbpSjA0i-2kDOG9UHBFhjENNEXk3NiClnrfEhDcx1wsEPjCe2vCut1HN--NGhRC_tsTuKWtcV1VTp43aY3V40kc_A\", \"types\": [\"finance\", \"point_of_interest\", \"establishment\"]}, \"type\": \"Feature\"}\n",
      "each['geometry']['coordinates'] (-87.636674, 41.884755)\n",
      "each['geometry']['coordinates'][0] = -87.636674\n",
      "each =  {\"geometry\": {\"coordinates\": [-95.372164, 29.757501], \"type\": \"Point\"}, \"properties\": {\"address\": \"333 Clay St, Houston, TX 77002, United States\", \"id\": \"795a3515ff023985c96d55d60c8eefcdc6c9ee0e\", \"job_title\": \"geologist\", \"name\": \"Jefferies\", \"photos\": [], \"place_id\": \"ChIJe81fkji_QIYRhzwdUhh-ygw\", \"rating\": \"NA\", \"reference\": \"CmRRAAAAcuVtnCt_zbONYBMjewYjaroK1E1LrG846Kp6YTA2ZaNYSDRalN_PI6EIobmmTveOcthin1p-X8RCu_h_rN_CF6-vPpMgLoWP1isdlAzxc8SxNT5CMPjD4xxPGzlDRWAlEhA86rseKcptkbvePLKwLRNOGhQvlus3kxnLvNGNtaksE0saSgUeUQ\", \"types\": [\"finance\", \"point_of_interest\", \"establishment\"]}, \"type\": \"Feature\"}\n",
      "each['geometry']['coordinates'] (-95.372164, 29.757501)\n",
      "each['geometry']['coordinates'][0] = -95.372164\n",
      "each =  {\"geometry\": {\"coordinates\": [2.333494399999999, 48.87131719999999], \"type\": \"Point\"}, \"properties\": {\"address\": \"8 Rue Hal\\u00e9vy, 75009 Paris, France\", \"id\": \"30f5f39e3a041d69dab3a7b0f6964c968a6bc39c\", \"job_title\": \"geologist\", \"name\": \"Jefferies\", \"photos\": [], \"place_id\": \"ChIJ5dGANDdu5kcRddLzsPt-RHY\", \"rating\": \"NA\", \"reference\": \"CmRRAAAAvVbM4bgreFWNqhAQ_oFhOo_xb6j8kpCdhyQcuRXRey1QqylTlgDyIuCskqlH5OOEOkymxq425DvPazRKEOSwqSyRwPlUDXuo9C2Fba483YSP5CZ_6NtwYynpbNnw1s65EhCQINS6LwZlpBEW6aP75BpNGhSHe-XQ_NLkI9jDq8bmJjIf1WpWZw\", \"types\": [\"finance\", \"point_of_interest\", \"establishment\"]}, \"type\": \"Feature\"}\n",
      "each['geometry']['coordinates'] (2.333494399999999, 48.87131719999999)\n",
      "each['geometry']['coordinates'][0] = 2.333494399999999\n",
      "each =  {\"geometry\": {\"coordinates\": [9.994197000000002, 53.561003], \"type\": \"Point\"}, \"properties\": {\"address\": \"Gustruf-Haus, Neuer Wall 10, 20354 Hamburg, Germany\", \"id\": \"247d14331ef9d3182bcf4b0546417996d313f2b2\", \"job_title\": \"geologist\", \"name\": \"Jefferies\", \"photos\": [], \"place_id\": \"ChIJGZ6nyiOPsUcR15znBuLzC-c\", \"rating\": \"NA\", \"reference\": \"CmRSAAAA1Mw88l2tOsaf4xGgMrE-6Y3zVFijwHiYX_komsZ9RYz5PfGg9hUQIkMLUqGTl2dsLnW7HwjgBB5GjuCyuMr7nYu2Jmg_f5SpbZa6W_gMAF45KVwL5j9FHhHuV5wJVsJqEhCLhs-FcuTelUuGfPkjdxldGhR3Iiqwv89HWQS2S2IuUdcSoTXSdA\", \"types\": [\"finance\", \"point_of_interest\", \"establishment\"]}, \"type\": \"Feature\"}\n",
      "each['geometry']['coordinates'] (9.994197000000002, 53.561003)\n",
      "each['geometry']['coordinates'][0] = 9.994197000000002\n",
      "each =  {\"geometry\": {\"coordinates\": [8.66668, 50.11728000000001], \"type\": \"Point\"}, \"properties\": {\"address\": \"Bockenheimer Landstra\\u00dfe 24, 60323 Frankfurt am Main, Germany\", \"id\": \"0bf8f8c6f3a87543451cb9ac432cc371447b6126\", \"job_title\": \"geologist\", \"name\": \"Jefferies\", \"photos\": [], \"place_id\": \"ChIJm0gohFIJvUcRXP1pO-J7MnA\", \"rating\": \"NA\", \"reference\": \"CmRRAAAA_I5kCOx3nKYrs_xKS2CGCxKspljvUiNUmNCSPrhp77KE_jE0-dYoTXZszO5FVm73HUCVtRF8ES04nQqLSLYR_X44gUywk7YEI_3hCMIAfFJPBXad58-vmYZJlr_pbqBNEhBbmjQiK6Zxafg6X94u4WwSGhT-0RHM1ZFbXsZ5wxwoSFcVaaPqNw\", \"types\": [\"finance\", \"point_of_interest\", \"establishment\"]}, \"type\": \"Feature\"}\n",
      "each['geometry']['coordinates'] (8.66668, 50.11728000000001)\n",
      "each['geometry']['coordinates'][0] = 8.66668\n",
      "each =  {\"geometry\": {\"coordinates\": [18.068962, 59.338057], \"type\": \"Point\"}, \"properties\": {\"address\": \"Stockholm Filial, Engelbrektsgatan 9-11, 114 32 Stockholm, Sweden\", \"id\": \"32c0c0503253cb4102e8e9ef000f74d500e7edea\", \"job_title\": \"geologist\", \"name\": \"Jefferies\", \"photos\": [], \"place_id\": \"ChIJnRZ8Ml2dX0YRpZhwaHHPD7s\", \"rating\": \"NA\", \"reference\": \"CmRSAAAAhdzhKvOMwSkF-KJWv2gNIqLDZhxjrAV6YKiLSGBAk39Kmaq1GBKcja-59NALY7wTuaLQOG0KqAdJLnHacx7drqsHX8dHwryiuUiUa1MgoN28JwbSpwINRxI9Xkk14m1iEhCeQGIyJY5OHSLoHOlnh5MaGhQKI8AeQIkzRXEydDSaREkHOxMDTQ\", \"types\": [\"finance\", \"point_of_interest\", \"establishment\"]}, \"type\": \"Feature\"}\n",
      "each['geometry']['coordinates'] (18.068962, 59.338057)\n",
      "each['geometry']['coordinates'][0] = 18.068962\n",
      "each =  {\"geometry\": {\"coordinates\": [8.536747599999998, 47.37468619999999], \"type\": \"Point\"}, \"properties\": {\"address\": \"Uraniastrasse 12, 8021 Z\\u00fcrich, Switzerland\", \"id\": \"706f759790f274368ebadd7669bdddfb1f300865\", \"job_title\": \"geologist\", \"name\": \"Jefferies\", \"photos\": [], \"place_id\": \"ChIJ004peQYKkEcRuCX3Ds2Agqo\", \"rating\": 5, \"reference\": \"CmRSAAAA1D1blRxFAaf-v22XIs7bolRsT3lpT5HyEAPsYsKV1PHUxPibblpzKRSLascnxx9HmS6ZlgfT2RnVyycFzPpvhwlacvRw6IgaOChgQ1tT5S8KY_QECRcf4dQkGGkWWzN_EhC98b_KZfuxIeeanW8TdwRBGhSLQbD4uyENrY7wnkqbUd8ymCbKIQ\", \"types\": [\"finance\", \"point_of_interest\", \"establishment\"]}, \"type\": \"Feature\"}\n",
      "each['geometry']['coordinates'] (8.536747599999998, 47.37468619999999)\n",
      "each['geometry']['coordinates'][0] = 8.536747599999998\n",
      "each =  {\"geometry\": {\"coordinates\": [9.1927144, 45.47114999999999], \"type\": \"Point\"}, \"properties\": {\"address\": \"Via Gastone Pisoni, 6, 20121 Milano, Italy\", \"id\": \"0196f3543005ee21ce94653f9f72d1c4ff380b14\", \"job_title\": \"geologist\", \"name\": \"Jefferies\", \"photos\": [], \"place_id\": \"ChIJIQBvRLHGhkcRBK8WOs83xeU\", \"rating\": \"NA\", \"reference\": \"CmRSAAAA3jSTj2RQ853DE9VgJS6T0PL9e0LzZCpQgvPyTIU-fkf5rvspE0k_AH-Al7R5dFUOqnhiv3liqRdvfdcp_gHcgKVFve8cPf4SzrgU0NfWlqNOHI3vWZ1l2YgbMODGb5oAEhBOv4Dd6XxGHrJ0mjUKrotkGhQU1fqBdpggKnXKNYRQaDUfEvd3Lg\", \"types\": [\"finance\", \"point_of_interest\", \"establishment\"]}, \"type\": \"Feature\"}\n",
      "each['geometry']['coordinates'] (9.1927144, 45.47114999999999)\n",
      "each['geometry']['coordinates'][0] = 9.1927144\n",
      "each =  {\"geometry\": {\"coordinates\": [139.759617, 35.67455799999999], \"type\": \"Point\"}, \"properties\": {\"address\": \"Japan, \\u3012100-0006 Tokyo, Chiyoda, Yurakucho, 1 Chome\\u22125\\u22121, \\u65e5\\u6bd4\\u8c37\\u30de\\u30ea\\u30f3\\u30d3\\u30eb\", \"id\": \"ce47c7f7aa5270ea44df3cf5433c673bbc08367b\", \"job_title\": \"geologist\", \"name\": \"Jefferies\", \"photos\": [], \"place_id\": \"ChIJWarr0fGLGGARcT3H0yYXuso\", \"rating\": \"NA\", \"reference\": \"CmRSAAAArYPw7-PCs0-cwlwjw3-FTP2sMt-29X2ErI8pFYl66O9FjMS8u5b02R3VKYKaewY5iaw5iDRsJspM9ieuctYTWTIi1wvpnpz8IDHLg6EvqFUlAAVlo-yJ0amSP0hQn26kEhC_UD3Mn6hqqo9NVn7nkDPbGhR-ZpEHeb9Y4BHgmstrloGg3swOQQ\", \"types\": [\"finance\", \"point_of_interest\", \"establishment\"]}, \"type\": \"Feature\"}\n",
      "each['geometry']['coordinates'] (139.759617, 35.67455799999999)\n",
      "each['geometry']['coordinates'][0] = 139.759617\n",
      "each =  {\"geometry\": {\"coordinates\": [-80.836888, 35.15475], \"type\": \"Point\"}, \"properties\": {\"address\": \"4201 Congress St, Charlotte, NC 28209, United States\", \"id\": \"0b249d83e61495c08feacffae4674ad9954ac2cb\", \"job_title\": \"geologist\", \"name\": \"Jefferies\", \"photos\": [], \"place_id\": \"ChIJxYsMkUGeVogRyacQOm8sC04\", \"rating\": \"NA\", \"reference\": \"CmRRAAAAQ_lyP8mCwfyvAbUtEzzT3euXkmS0s8xkuhHugCSKSpTub8RdcBLjJNdCMMaTzqSACUqIteSg5yFotbzSue6AP8b5IzDsdmr9uTvWhzyqy8pVoWizlL3VfFodo-ZBvNt9EhBusAfxIgTXfzPCwa7AKOFwGhQCwPccNi9CtwNCbvCnr5kxc2f-vw\", \"types\": [\"finance\", \"point_of_interest\", \"establishment\"]}, \"type\": \"Feature\"}\n",
      "each['geometry']['coordinates'] (-80.836888, 35.15475)\n",
      "each['geometry']['coordinates'][0] = -80.836888\n",
      "each =  {\"geometry\": {\"coordinates\": [114.1605929, 22.2795494], \"type\": \"Point\"}, \"properties\": {\"address\": \"Queen's, Cheung Kong Centre, Queen's Road Central, Central, Hong Kong\", \"id\": \"5be926cc35ddde2f5d4a4e57af463e2d0b24742d\", \"job_title\": \"geologist\", \"name\": \"Jefferies\", \"photos\": [], \"place_id\": \"ChIJtcINSGQABDQRey_nJqMF0M8\", \"rating\": \"NA\", \"reference\": \"CmRSAAAAqjxHSKnvjm3W0Rrod4vHOMHyUIXNJVNcItoo7tqFIve122VasfZgUU2Ygz9G__HGUKiNZbxkzFB-Ap6zJ86x13PLw89HGyrveD-ihrJeAKrx_hX9bCsryrB2y841dvRBEhAobwk-UbdqNFHG_yBLDeelGhSEq6Zb4BfA0u3jdSUp0gFliJmhHg\", \"types\": [\"finance\", \"point_of_interest\", \"establishment\"]}, \"type\": \"Feature\"}\n",
      "each['geometry']['coordinates'] (114.1605929, 22.2795494)\n",
      "each['geometry']['coordinates'][0] = 114.1605929\n",
      "each =  {\"geometry\": {\"coordinates\": [72.85015779999999, 19.0544241], \"type\": \"Point\"}, \"properties\": {\"address\": \"42/43, 2 Maker Maxity Bandra-Kurla Complex, North Avenue, Bandra East, Mumbai, India\", \"id\": \"2f56ad58e9e66a438df52ceef7b6c0618ea88e0d\", \"job_title\": \"geologist\", \"name\": \"Jefferies\", \"photos\": [], \"place_id\": \"ChIJNdDROOzI5zsRWSsSLS-DRaw\", \"rating\": \"NA\", \"reference\": \"CmRSAAAAMetHfmC7WqFv3nwrEud-SWbwb0_YvmJIcQWdPe5rgtdlOCBTQrzEkyyweKg_xJBvqYM_GFeN1K3BEdoGRRE5hLaZHbNI0DBvQdaqNuJUTsgM0jKJ6EU0lzCtlNdXC65oEhDWqmazB55p0hq4HTuPgCRvGhSOFfABs-rQcbRMjH6V7CJD8AucKQ\", \"types\": [\"finance\", \"point_of_interest\", \"establishment\"]}, \"type\": \"Feature\"}\n",
      "each['geometry']['coordinates'] (72.85015779999999, 19.0544241)\n",
      "each['geometry']['coordinates'][0] = 72.85015779999999\n",
      "each =  {\"geometry\": {\"coordinates\": [103.85054, 1.285361], \"type\": \"Point\"}, \"properties\": {\"address\": \"80 Raffles Pl, Singapore 048624\", \"id\": \"3b31afe43883234a7b8f21f12284d833b7c8ebfb\", \"job_title\": \"geologist\", \"name\": \"Jefferies\", \"photos\": [], \"place_id\": \"ChIJfQgUvw4Z2jERpA6m53oemMY\", \"rating\": \"NA\", \"reference\": \"CmRSAAAAvbPPAdkqnAKy38PvBwqDj6QIQBYWm4jwk4ZMCgB1nsUSw5DYfefRa5WoenXG843GArOV5kNcqx_P7da8inwxGNqPAki6i6TpFdqTlXXhRwtKc2WWXQPKckWS7PhgwcYiEhAcEOCymD9d3oaiqzZZ9o9aGhSw926y1dXdOKErfgcxuwy_9EuCOg\", \"types\": [\"finance\", \"point_of_interest\", \"establishment\"]}, \"type\": \"Feature\"}\n",
      "each['geometry']['coordinates'] (103.85054, 1.285361)\n",
      "each['geometry']['coordinates'][0] = 103.85054\n",
      "each =  {\"geometry\": {\"coordinates\": [-89.6737709, 39.887486], \"type\": \"Point\"}, \"properties\": {\"address\": \"1016 Jefferies Rd, Springfield, IL 62707, United States\", \"id\": \"10b303e39d1aec242d219887e8a8ae5d6e1a79d0\", \"job_title\": \"geologist\", \"name\": \"Jefferies Orchard\", \"photos\": [{\"height\": 1147, \"html_attributions\": [\"<a href=\\\"https://maps.google.com/maps/contrib/117859920843823525721/photos\\\">Jefferies Orchard</a>\"], \"photo_reference\": \"CoQBdwAAAD8jaKrMp9dmZFFI0dyD1Za_kKv7lrd9YHjMUIzstyuegGDExxl3TOeCsgujeDYQtgeiMRtOLG5LaENrOnsP4BE1Bkz_rlnAdbJMdZp0DqPxOYByZ7hbTFb3lEqReQXrVoTFof_eCblMdzmo_L36Kd2O6ydifB6KiMkviaZmk6szEhD0HD7S0xP_yti_YjnKaiqzGhSftuvPA0gsYThlXASmBzCOlRSBuQ\", \"width\": 1146}], \"place_id\": \"ChIJGwQ94W82dYgR38M6tAbNGSg\", \"rating\": 4.9, \"reference\": \"CmRRAAAATq75QbmOuRwB4mx8f5f37kNDTuqRc46YiE9c_N_kl35KQflQUGwLtUhFlakjr1o7_oEcebLZnkvkFKTPDWdW4o0R_Tmkol1GwTHUoNfXBtSXAKVSrZiMaMLKISarbs_MEhClc7dsisUj-BtZ9yI0KSg0GhSG9sUutjBzxB3mErtXS78TRYcjpQ\", \"types\": [\"grocery_or_supermarket\", \"food\", \"store\", \"point_of_interest\", \"establishment\"]}, \"type\": \"Feature\"}\n",
      "each['geometry']['coordinates'] (-89.6737709, 39.887486)\n",
      "each['geometry']['coordinates'][0] = -89.6737709\n",
      "each =  {\"geometry\": {\"coordinates\": [-95.36392040000001, 29.7558061], \"type\": \"Point\"}, \"properties\": {\"address\": \"1001 Fannin St # 1500, Houston, TX 77002, United States\", \"id\": \"f9c309a151d083c3d995d8e59499778d8c495ccd\", \"job_title\": \"geologist\", \"name\": \"Oasis Petroleum\", \"photos\": [], \"place_id\": \"ChIJr9ZsYDu_QIYR4jOwJRL56Zk\", \"rating\": 5, \"reference\": \"CmRSAAAA6Amiu4TLamdq9pqeGmvAIjNwElTdPtutT8d1VOd3yJaM8T9Cmv6V1kYUokY59UhTVOrk8cV5mxQ-VMvvL3Xkx8335uGfdfrBQsuw4XCp7T_DSFSwjPPX-3np3LoKJz9wEhBDPTWTsInDJkaaiygw5_C1GhTlAErja0BPjR4ibWaCPKc93pGjkA\", \"types\": [\"point_of_interest\", \"establishment\"]}, \"type\": \"Feature\"}\n",
      "each['geometry']['coordinates'] (-95.36392040000001, 29.7558061)\n",
      "each['geometry']['coordinates'][0] = -95.36392040000001\n",
      "each =  {\"geometry\": {\"coordinates\": [-95.5015712, 29.7513106], \"type\": \"Point\"}, \"properties\": {\"address\": \"1616 S Voss Rd #1000, Houston, TX 77057, United States\", \"id\": \"a626299a58965fab800792adff33c7961eae6309\", \"job_title\": \"geologist\", \"name\": \"Hart Energy (Oil & Gas Data Provider)\", \"photos\": [], \"place_id\": \"ChIJRzKfmJPDQIYRcAIeSuMCH3k\", \"rating\": 3, \"reference\": \"CmRRAAAARgml-MvQ2tbnJyY6osKvkU7CMrud3mJfloQWjR3D_GpXlgkC9I5FpgFq4S1CxHn2x3dj0K7xUICbTYBBHhWjjUTlamCuLegYQjMX3XdU0bCLqblQP_zmEm5bmL7xaLT1EhDkxvS7q2WxkxHTp_sLpK5MGhQ1GCQqAwfzMesjkWt8Dm2MjSSejw\", \"types\": [\"point_of_interest\", \"establishment\"]}, \"type\": \"Feature\"}\n",
      "each['geometry']['coordinates'] (-95.5015712, 29.7513106)\n",
      "each['geometry']['coordinates'][0] = -95.5015712\n",
      "each =  {\"geometry\": {\"coordinates\": [-95.4628465, 29.7338536], \"type\": \"Point\"}, \"properties\": {\"address\": \"3050 Post Oak Blvd # 1640, Houston, TX 77056, United States\", \"id\": \"eb737b548075ce9fb5a7b7cd19dec9171f0ee698\", \"job_title\": \"geologist\", \"name\": \"Sinopec USA\", \"photos\": [], \"place_id\": \"ChIJS5y97nHBQIYRbb2dw19hKiM\", \"rating\": 5, \"reference\": \"CmRRAAAARiIwsDHD3HNqd0MZZ6t7LXf03ABBVRw4AUf4XaUxi7uNL6U416RgLtXMuSercKjpsR0KgKvXkgssfO7eqGKAg_5MFf3atqmOggtGEcyzFUEgc6LtTuYKyXLOizZ-qUOPEhDjrwmJ05IZB7SJw0BAzrKlGhS0PpTFYJQBPksvtZs7BYQrjgmxoQ\", \"types\": [\"point_of_interest\", \"establishment\"]}, \"type\": \"Feature\"}\n",
      "each['geometry']['coordinates'] (-95.4628465, 29.7338536)\n",
      "each['geometry']['coordinates'][0] = -95.4628465\n",
      "each =  {\"geometry\": {\"coordinates\": [-95.46350079999999, 29.73921199999999], \"type\": \"Point\"}, \"properties\": {\"address\": \"5065 Westheimer Rd #1100, Houston, TX 77056, United States\", \"id\": \"5e9393654923a4ebf381bb69db381436c29a299f\", \"job_title\": \"geologist\", \"name\": \"Citi Private Bank\", \"photos\": [{\"height\": 4030, \"html_attributions\": [\"<a href=\\\"https://maps.google.com/maps/contrib/117652267326695258138/photos\\\">Ramesh Potti</a>\"], \"photo_reference\": \"CoQBdwAAAOe4Vx6r3kX0lkXVmBUDD7Lv7vaEUftWGqG9MCyp38TV70EKuQ8eTOWk7TbxJ2BnztMw5nk4nuKf_4ADQouWPPh3m5qjliBudP6Akg_rDzc0BcpgQOZ_4Yq0WAzOQGnqK7Nm2tRkXkwrPGi_hDpL4gZiQd4kwu3ErfoLPACruwISEhDcyFvidIOQNHUL0cx1as0_GhQnSJk2ndO3RvvLUg80WfxRAu7QqA\", \"width\": 3024}], \"place_id\": \"ChIJFc2ux27BQIYRk9iQ3cBYcVk\", \"rating\": 2.3, \"reference\": \"CmRRAAAAbU5trK2TqrYEnjKRA1T2j3z1dD76yx0shCWEv7ERCfyVwGb0f-XYlNwqc4eiNL_WQvzzIbjBGVZu3-fWPLnl6B05y5EvvhROFeAU8hwkowrOl2jfGEs_7guXfyKpCXoVEhAyUTfg_oqhKSwZ3vWxqzQQGhT7t60qSQBhQ9Dj2T-2hZrwMey_1w\", \"types\": [\"point_of_interest\", \"establishment\"]}, \"type\": \"Feature\"}\n",
      "each['geometry']['coordinates'] (-95.46350079999999, 29.73921199999999)\n",
      "each['geometry']['coordinates'][0] = -95.46350079999999\n",
      "each =  {\"geometry\": {\"coordinates\": [72.842686, 19.15934], \"type\": \"Point\"}, \"properties\": {\"address\": \"Shop 9 , Snehdeep Society, Off M.G Road, Next to Waman Hari Peth Jewellers,, Goregaon West, Siddharth Nagar, Goregaon West, Mumbai, Maharashtra 400062, India\", \"id\": \"31d58646729c24d06667bc8deaae3081bf153bb8\", \"job_title\": \"geologist\", \"name\": \"Confidential Clinic\", \"photos\": [], \"place_id\": \"ChIJN1VVVU625zsRJz4axZNieh0\", \"rating\": \"NA\", \"reference\": \"CmRbAAAA8ebpq22pNkadFWimvOw9I9-fw-DRLcgygcbjFJRrNFyF7shHmaZM7CrYWjRJmzhC4vkx5NuIrYDIAGNrG5ZFuSntT4GzOzzAbqEYbwUgFHgjbrhTWVFFBmPZTqtAgcCyEhC4pooHgMhx6T9C_7aDkcY2GhTNCrzS9gslzkN2vK-379WVYgG_Vw\", \"types\": [\"dentist\", \"health\", \"point_of_interest\", \"establishment\"]}, \"type\": \"Feature\"}\n",
      "each['geometry']['coordinates'] (72.842686, 19.15934)\n",
      "each['geometry']['coordinates'][0] = 72.842686\n",
      "each =  {\"geometry\": {\"coordinates\": [-95.47219989999999, 29.7496917], \"type\": \"Point\"}, \"properties\": {\"address\": \"5555 San Felipe St, Houston, TX 77056, United States\", \"id\": \"23d714827e55b6e7eb16a5d356a0feb120360633\", \"job_title\": \"geologist\", \"name\": \"Marathon Oil Company\", \"photos\": [{\"height\": 2988, \"html_attributions\": [\"<a href=\\\"https://maps.google.com/maps/contrib/114653147413229085324/photos\\\">Patrick Winham</a>\"], \"photo_reference\": \"CoQBdwAAAKq3P1TUcNJFPCkbtXKZ4L7V0ki_r495AdYaX1DqTo9K2AyWRjkswu7NnbK598o54B9bNBAHBLbHR800Tnh_bifXJ35HVcETqVFpQN82fRA_gm7ZxoH_pC3E6dYgu7XdBtV9Qet3oIIe7QSicVR7lQkziUDUIRyp6cwSAgwtFCAhEhCaN0i3Mec4tJ__G2DR840GGhTKD-RHbC2t2UgZ6u_QcL0G5wktPQ\", \"width\": 5312}], \"place_id\": \"ChIJieWsJFzBQIYR4INe7XAsF-g\", \"rating\": 4.6, \"reference\": \"CmRSAAAAtyZ0Dt99SmrAUMWLX8u0CQjZ9nD42Jcqa7CcqThjeYP9y7aPZYiI7sGsDay626UZ-bHDCdXWX_p5L8wPoSgC3p4fjB5JB1u5H81tMb7wcYsATKR8sTameX8xREbWAQxdEhDrib6je9G0e0wPaesgNi9VGhQp9vM6m1bZhsIUlm1y8wKgMrOv6A\", \"types\": [\"point_of_interest\", \"establishment\"]}, \"type\": \"Feature\"}\n",
      "each['geometry']['coordinates'] (-95.47219989999999, 29.7496917)\n",
      "each['geometry']['coordinates'][0] = -95.47219989999999\n",
      "each =  {\"geometry\": {\"coordinates\": [-95.3699286, 29.7699427], \"type\": \"Point\"}, \"properties\": {\"address\": \"PO Box 3128, Houston, TX 77253, United States\", \"id\": \"18997b37423029430e68e14ec02f1e975aa3a596\", \"job_title\": \"geologist\", \"name\": \"Marathon Oil Co: Chernosky Alvis\", \"photos\": [], \"place_id\": \"ChIJ64XB-DS_QIYR3wBPmVSvPQ0\", \"rating\": \"NA\", \"reference\": \"CmRRAAAA2FRwHkdIgaEUR11tWm-uqNzEi_lb_ez8sYNaT-qqf242Z_oXbYxQuZRDadsW7JldEd6XHTNtq-g8rsUzSBAu-QyX9I6X5Jnqx_EghWsJJa_Hd6O-9F-JFn8aQF6Yp8xaEhDyufRWCX_WLy8TQrg7BybcGhRdn8c6OwqZjwVgkm5HefRJ6KvHSg\", \"types\": [\"point_of_interest\", \"establishment\"]}, \"type\": \"Feature\"}\n",
      "each['geometry']['coordinates'] (-95.3699286, 29.7699427)\n",
      "each['geometry']['coordinates'][0] = -95.3699286\n",
      "each =  {\"geometry\": {\"coordinates\": [-95.3911105, 29.9585878], \"type\": \"Point\"}, \"properties\": {\"address\": \"1030 Regional Park Dr, Houston, TX 77060, United States\", \"id\": \"591b862adf844e6fdf249a003d16efa649ab42b1\", \"job_title\": \"geologist\", \"name\": \"New Tech Global\", \"photos\": [{\"height\": 556, \"html_attributions\": [\"<a href=\\\"https://maps.google.com/maps/contrib/105073521963953436703/photos\\\">New Tech Global</a>\"], \"photo_reference\": \"CoQBdwAAAC7_HHzIn_mPBLIEw78tpzF6jgDn2yMqnAcWw8D9ktlAQ6E2nAk3yxmaBA31d9itghYZQSB5Cll991_n61cQU9_gRvrFdTFHhWMEW6ozRQ94lex-E9xM5C8LLTI-p6q83a_gDrFmU7_xLRCPWqattaKi5fifX6SYWv_jiQ5BnYhiEhCsollTc9faegTkqr3MbQ-XGhSYp6Pd08YJ0k8v0Z6mSzKG_9KxJA\", \"width\": 1186}], \"place_id\": \"ChIJRQuoTf61QIYRrrCBvZ7uOWs\", \"rating\": 5, \"reference\": \"CmRRAAAASWG-teW3jF3xG1VDl1IQ0WC4Rt9mCnK2kqisPtXcrgdOgh3O1wB7CmtkM5ptXFFL2coI_b_rD7jSlt-xqMo1Xm5dyi4etsr0MLbhk8jayGNG74PrhXuy1eN0mvUifhdREhBkh_hQydReunMLEk0wmWkNGhQIjPo-Ltz_oVVJij_SOub64ojjFg\", \"types\": [\"point_of_interest\", \"establishment\"]}, \"type\": \"Feature\"}\n",
      "each['geometry']['coordinates'] (-95.3911105, 29.9585878)\n",
      "each['geometry']['coordinates'][0] = -95.3911105\n",
      "each =  {\"geometry\": {\"coordinates\": [-95.4659039, 29.8679352], \"type\": \"Point\"}, \"properties\": {\"address\": \"4141 Victory Dr, Houston, TX 77088, United States\", \"id\": \"90b73098291a8e90c04f33a8c85477dfcd26379d\", \"job_title\": \"geologist\", \"name\": \"Lone Star College System\", \"photos\": [], \"place_id\": \"ChIJqaVfqaXIQIYRf8PTc49aphc\", \"rating\": 3, \"reference\": \"CmRRAAAAuxjve706iOaMaT9eulTGFHWdK5Fvz3kog46PP44slhrSnOmVCcKiKFw_KwPT3gQaEhPWNfoX2I-q0JIJKMXvQB3jgCj--bo34zW0xG6jcqHEUODhKDzRpnpLj3aWqtMJEhCi6wItIMJ-CCyww2Vgw1nFGhQPJCfWHdTjukgrLTJUG8gXBmXUng\", \"types\": [\"point_of_interest\", \"establishment\"]}, \"type\": \"Feature\"}\n",
      "each['geometry']['coordinates'] (-95.4659039, 29.8679352)\n",
      "each['geometry']['coordinates'][0] = -95.4659039\n",
      "each =  {\"geometry\": {\"coordinates\": [-95.37974109999999, 30.007182], \"type\": \"Point\"}, \"properties\": {\"address\": \"2700 W W Thorne Dr, Houston, TX 77073, United States\", \"id\": \"50e8c3703dd49384cfecda9f52ac2537c832cf50\", \"job_title\": \"geologist\", \"name\": \"Lone Star College-North Harris\", \"photos\": [{\"height\": 428, \"html_attributions\": [\"<a href=\\\"https://maps.google.com/maps/contrib/106036001858778134743/photos\\\">Lone Star College-North Harris</a>\"], \"photo_reference\": \"CoQBdwAAAKX2krloXcVfKvK-4eBWopi64lOMbCK2fcVJi04O9blfhjdJ_yzDIEWQymZikyeEtgg246TGTy97yXpImTpgOEHVzfC2R8OEB7u0YyaUOwNflfSb7QtzYDzfli9aFMuOKBDMtrPwTHt2VTueCchRmubXBybBYK71nG1u56F2SanMEhCiVtovM2AkyuqL9rCq9EyWGhT2kjLYY2F7CTVZvlWsJNa93k3d0g\", \"width\": 640}], \"place_id\": \"ChIJFwwy8Xa1QIYRMJtJ9403tZg\", \"rating\": 3, \"reference\": \"CmRSAAAALnKa0xBGc-26H883De0ELPiEINMfheNBSBzYaG3v-rGEG27mlSRxLgYZfV_nySayJGxt-WA1y56o8y4leQvAZYCHf8jpwRafv112Zl4kiR-T5O4b0it5UhhY_fjLiWF4EhDVcwIG07c0TTxPv8pOkX45GhSLrCBnuZWQawiNvQGi2gRQhMlGYA\", \"types\": [\"point_of_interest\", \"establishment\"]}, \"type\": \"Feature\"}\n",
      "each['geometry']['coordinates'] (-95.37974109999999, 30.007182)\n",
      "each['geometry']['coordinates'][0] = -95.37974109999999\n",
      "each =  {\"geometry\": {\"coordinates\": [-95.6012956, 29.7881337], \"type\": \"Point\"}, \"properties\": {\"address\": \"12141 Wickchester Ln #200, Houston, TX 77079, United States\", \"id\": \"3cdf19db1aed68ee6eb0cb60d82ec77206b1eb4d\", \"job_title\": \"geophysicist\", \"name\": \"Geotrace Technologies Inc\", \"photos\": [], \"place_id\": \"ChIJE5-yOvzbQIYRJdZ1RfRAxzc\", \"rating\": \"NA\", \"reference\": \"CmRRAAAAGhaFn3HawsbXcvS0Mz6IjgvbT2REXaTn71gZ-Gt_K6zQRYFpOEaGjsDkwfrRj-IoVsPjf0r9gwca5uw9HmgnDxc2ZC8duR29ZvqewCxt6CTmvbEsaofcupi8N4zfy6IgEhCp5RRCCfN8zr3HH8KrD0a8GhRuWj0fnVb9x9HP1c5BwlWg1ZGndQ\", \"types\": [\"point_of_interest\", \"establishment\"]}, \"type\": \"Feature\"}\n",
      "each['geometry']['coordinates'] (-95.6012956, 29.7881337)\n",
      "each['geometry']['coordinates'][0] = -95.6012956\n",
      "each =  {\"geometry\": {\"coordinates\": [-95.5438387, 29.7776847], \"type\": \"Point\"}, \"properties\": {\"address\": \"800 Gessner Rd #170, Houston, TX 77024, United States\", \"id\": \"91282085c6930276af6f7e2abf1ee0e0fc18432c\", \"job_title\": \"geophysicist\", \"name\": \"Murray Resources\", \"photos\": [{\"height\": 683, \"html_attributions\": [\"<a href=\\\"https://maps.google.com/maps/contrib/106500950429449697681/photos\\\">Murray Resources</a>\"], \"photo_reference\": \"CoQBdwAAACCkrLOFMflJXNUURknGYwO4vW9rXGa7OBM3RvSE1ODlpesXFp3I2gwFVX7zwdjiPFO21TuvYdhk-8oF5k0TCpdy0uoD_87EycLBuCIAnYAKBtpgc3R5tw7eIRsgFhITJT9bap__5ucKWj2Cgifpi0DGZbrB4mbQbKO-D-85JqsjEhAlLIZGhPe4jkZ2wxV1d7uHGhRXvheqqI_WOYv_1vhPZLLj2mbjfg\", \"width\": 1024}], \"place_id\": \"ChIJRSYpxLzEQIYRsKFA9Ahm-Z0\", \"rating\": 4.6, \"reference\": \"CmRSAAAAAHzaTVcuCe3yBQsingWxpFfKAQHIj0VTbLXxKGU2LiiQPN_LauJXPeNQLTTwXOvjXwbhsgjHATWZUB7JWrF0Csdei_pq-CQEJlVGUzfGWBQaGQZfF1UF5XIGC_R2D7FkEhCkz1BBx9xzFr_lDGPUKzHLGhSDEdN2oMM1WZJQcjuBj1QSTY501g\", \"types\": [\"point_of_interest\", \"establishment\"]}, \"type\": \"Feature\"}\n",
      "each['geometry']['coordinates'] (-95.5438387, 29.7776847)\n",
      "each['geometry']['coordinates'][0] = -95.5438387\n",
      "each =  {\"geometry\": {\"coordinates\": [-95.3599019, 29.7546294], \"type\": \"Point\"}, \"properties\": {\"address\": \"Hess Tower, 1501 McKinney St, Houston, TX 77010, United States\", \"id\": \"04c70c4a3d18050ca437bbaedeca70bd9cb01927\", \"job_title\": \"geophysicist\", \"name\": \"Hess Corporation Exploration & Production\", \"photos\": [{\"height\": 1454, \"html_attributions\": [\"<a href=\\\"https://maps.google.com/maps/contrib/111482964284093817946/photos\\\">Sau Hei Lam</a>\"], \"photo_reference\": \"CoQBdwAAAEwmlEZDZV_StBaa4Fbe0SVanME4_aeF3p00hYLC6w7FYGXC-kOMgmcSNqQfAKqGOuQj6XBnmBZLbIxQV-QH5JEddcDqjxrcTdzHmvyy_JRGVXqym6UmG1GtIjDRIvv5gbZ-2wsuwKb1_AumEEvtZckFmTMt6JUGQyDCe07uc-hzEhDyp2hdv9ilDCo2V4C5QSfBGhRVdOemgY9mN9F8nnsbtRaCArcocg\", \"width\": 2161}], \"place_id\": \"ChIJfy2iBDm_QIYRjgKEE3GFL9Y\", \"rating\": 4.4, \"reference\": \"CmRSAAAADsxsyj_GkpP-teT5MgBwYoV6Kae5S2YInJ9fXftqaJhHzdwWjuZ4-iFVS5H7ECn9ZwsUJWVeIutzH6DOSXemrO28nTVv2MJklhDj9WXr65sTVHQIU03gO24cNprzlzBnEhCmB1-hG4U1DLF1zB7IYcDGGhR8LZp0i2dkQPqKDmWyGM_UccDoWg\", \"types\": [\"point_of_interest\", \"establishment\"]}, \"type\": \"Feature\"}\n",
      "each['geometry']['coordinates'] (-95.3599019, 29.7546294)\n",
      "each['geometry']['coordinates'][0] = -95.3599019\n",
      "each =  {\"geometry\": {\"coordinates\": [-95.4574449, 29.6839704], \"type\": \"Point\"}, \"properties\": {\"address\": \"9009 West Loop S, Houston, TX 77096, United States\", \"id\": \"2795a232d6e43ce11fa01f15cf2d6001916581de\", \"job_title\": \"geophysicist\", \"name\": \"Aramco Services Company\", \"photos\": [], \"place_id\": \"ChIJ4-bQE-fBQIYRMJKxqTjw_Wc\", \"rating\": 3, \"reference\": \"CmRRAAAAMG2EUh7WFZnNHNE6J7dRfNYOTEEAJdPtWlxLdExmo6KtOVXut0PHZWDpsvxMC5yoW67Q2-on5iRj6zVYKsuLV8sxq0E_b3dtygn18vY_AQcJR4ZsycCmvuFJ1EqoBgw3EhCxNV6Gv6riqZKH1Gln384nGhR4r_oSZHHo_5PEE9sVpH9G7gS8oA\", \"types\": [\"finance\", \"point_of_interest\", \"establishment\"]}, \"type\": \"Feature\"}\n",
      "each['geometry']['coordinates'] (-95.4574449, 29.6839704)\n",
      "each['geometry']['coordinates'][0] = -95.4574449\n",
      "each =  {\"geometry\": {\"coordinates\": [-95.4628465, 29.7338536], \"type\": \"Point\"}, \"properties\": {\"address\": \"3050 Post Oak Blvd # 1640, Houston, TX 77056, United States\", \"id\": \"eb737b548075ce9fb5a7b7cd19dec9171f0ee698\", \"job_title\": \"geophysicist\", \"name\": \"Sinopec USA\", \"photos\": [], \"place_id\": \"ChIJS5y97nHBQIYRbb2dw19hKiM\", \"rating\": 5, \"reference\": \"CmRRAAAAtXe9VsFyY9RX0Bc0HthB3_r_r2MtVOxrXT9t8g-uQsfbLOodZpOEn5l3GqFoi-BAGvSERy4I_hBlj4YlB0nMSTWPcgloTtFvWSfdtePH_SN2Yr3hZe-xD4lyD_3tdts7EhC7drIUqRGb-h4ilbBu1zpZGhSAlHb5ozUYDMPDB8Z_Y7rpJvSh2g\", \"types\": [\"point_of_interest\", \"establishment\"]}, \"type\": \"Feature\"}\n",
      "each['geometry']['coordinates'] (-95.4628465, 29.7338536)\n",
      "each['geometry']['coordinates'][0] = -95.4628465\n",
      "each =  {\"geometry\": {\"coordinates\": [72.842686, 19.15934], \"type\": \"Point\"}, \"properties\": {\"address\": \"Shop 9 , Snehdeep Society, Off M.G Road, Next to Waman Hari Peth Jewellers,, Goregaon West, Siddharth Nagar, Goregaon West, Mumbai, Maharashtra 400062, India\", \"id\": \"31d58646729c24d06667bc8deaae3081bf153bb8\", \"job_title\": \"geophysicist\", \"name\": \"Confidential Clinic\", \"photos\": [], \"place_id\": \"ChIJN1VVVU625zsRJz4axZNieh0\", \"rating\": \"NA\", \"reference\": \"CmRbAAAAqfJArPh_9l0bXXWrDU5fYXCF2dq4VuhL3xyJN7PQJ2UWPb9Se2NXh_lIxJrlfJfyKdW2N0m1G7a_Fa_Fy5Xk_wcbe-vSkFyw25RCCmLAK_6jdcYq_-yelbcHfWOZ1tg0EhBSWGTDWGCQNIhTeNWp_AbpGhRhfNuL4_uJpqUXMHaYJ2Yb5WsZcg\", \"types\": [\"dentist\", \"health\", \"point_of_interest\", \"establishment\"]}, \"type\": \"Feature\"}\n",
      "each['geometry']['coordinates'] (72.842686, 19.15934)\n",
      "each['geometry']['coordinates'][0] = 72.842686\n",
      "each =  {\"geometry\": {\"coordinates\": [-95.5740797, 29.7373078], \"type\": \"Point\"}, \"properties\": {\"address\": \"11200 Westheimer Rd #365, Houston, TX 77042, United States\", \"id\": \"328101c9c23ad52a56a549ad72e19915b58d7af8\", \"job_title\": \"geophysicist\", \"name\": \"Walker Elliott\", \"photos\": [], \"place_id\": \"ChIJz6iXr8HcQIYRnzHDA7T8m-k\", \"rating\": 3, \"reference\": \"CmRSAAAAhupjKQwnXF4YVfxpP-R73dNk4KnvnttJ6MYVljUM7SX2PTeqMu1aRGPWeyIZ9xVX01wJficOM8D3EZaNLp3CYeF6y1eVOuPJTygLW_e0Vi37ho321gG8Dpd2S2XZdHzwEhCYlA9vOaKASM_QcHPXjfNRGhQ-5VAIc4aH582EgBYApeSnVoETUA\", \"types\": [\"point_of_interest\", \"establishment\"]}, \"type\": \"Feature\"}\n",
      "each['geometry']['coordinates'] (-95.5740797, 29.7373078)\n",
      "each['geometry']['coordinates'][0] = -95.5740797\n",
      "each =  {\"geometry\": {\"coordinates\": [-95.3662701, 29.7561894], \"type\": \"Point\"}, \"properties\": {\"address\": \"1111 Travis St, Houston, TX 77002, United States\", \"id\": \"6cf1f2b19f724b7014c7cab1c01725834dbc3db4\", \"job_title\": \"geophysicist\", \"name\": \"Hilcorp Energy Co\", \"photos\": [{\"height\": 2448, \"html_attributions\": [\"<a href=\\\"https://maps.google.com/maps/contrib/100318015046809414765/photos\\\">Ronald Payne</a>\"], \"photo_reference\": \"CoQBdwAAADzHY_n1YpfoNnNKQGIsCGbv_w8a9XZSq3vxQ0cDrqe-VPj0puNH6iy0zbvpbwph9j_wOl3yA2vERqLM658GFbfWb4SiuePVKyw3a3XN2B0rGcr6PRHdzV_iE4mrS5VOyFyERaKte211_Npgs0Y0tH-656KiU3iD7UxEJKORggzqEhBF45fklt0jCk650VVjUpeSGhRaa_Bds_nrKzGISPGjlFfb4Z98_A\", \"width\": 3264}], \"place_id\": \"ChIJncGsRDm_QIYR0e57PbvugTc\", \"rating\": 4, \"reference\": \"CmRRAAAA5qBSSPeRNBKMpxoBohtQi-3TtrrdS0FToN-FcrFOx0Dt0Dl5BHekMoAffeJQQfZqVcJGAqtvsdH2YacyF6-ITwqB5-59C_s88MU6ObGd4s3hQMI_yO-54AareOHOE9w0EhD-alqkhV14ctgPsBvkDA4IGhRGKMhJHRJOvR5-2s5EYy0na6LGNQ\", \"types\": [\"general_contractor\", \"point_of_interest\", \"establishment\"]}, \"type\": \"Feature\"}\n",
      "each['geometry']['coordinates'] (-95.3662701, 29.7561894)\n",
      "each['geometry']['coordinates'][0] = -95.3662701\n",
      "each =  {\"geometry\": {\"coordinates\": [-95.4321022, 29.7305064], \"type\": \"Point\"}, \"properties\": {\"address\": \"5 Greenway Plaza Suite 110, Houston, TX 77046, United States\", \"id\": \"7394562c1f1a87dc4b6fa017b44a961df160f5ef\", \"job_title\": \"geophysicist\", \"name\": \"Occidental Petroleum Corp\", \"photos\": [], \"place_id\": \"ChIJjd5k24G8woAREjjHjBsq0Yk\", \"rating\": 4, \"reference\": \"CmRSAAAAmLw_ZQYEtmoketRmbA8vAzNIY0d0mYlG6Pg2XU-GOHpepAo6QqKrsb9kNQ5nqkRD3CwPg5KCDb9pOeMXPAxUckaSdeElAtoSQ_FBR51Xgdf-0MJonunkZGAjLz1GJRUdEhAdb06hCaIz8tg-tCAQppUJGhT60by8jt3RWaWkTMcHEHPvwuxmLQ\", \"types\": [\"point_of_interest\", \"establishment\"]}, \"type\": \"Feature\"}\n",
      "each['geometry']['coordinates'] (-95.4321022, 29.7305064)\n",
      "each['geometry']['coordinates'][0] = -95.4321022\n",
      "each =  {\"geometry\": {\"coordinates\": [-95.3970411, 29.9417677], \"type\": \"Point\"}, \"properties\": {\"address\": \"363 North Sam Houston Pkwy E, Houston, TX 77060, United States\", \"id\": \"bcfc0554855f942f730466fd447878511b6aa0b4\", \"job_title\": \"geophysicist\", \"name\": \"Occidental Petroleum Corporation\", \"photos\": [], \"place_id\": \"ChIJx73rqePJQIYRPjss3jFElZo\", \"rating\": \"NA\", \"reference\": \"CmRSAAAANFodo0hUkuORUwqC6s2Y3aooyLa6vB_JFodBTKsDci6FxWI8D-Cr2nOyLKgbDvIHmX3iVc7h8uxhvKMHL2MegMrmHWKsZj0bqfKHUaJVx002Css7kSdMGYLb1SL32eCVEhAcJ_nig-tzgcUKbhB_-RcYGhSQJI4_WceychiXgwPaowAh9rLsPA\", \"types\": [\"point_of_interest\", \"establishment\"]}, \"type\": \"Feature\"}\n",
      "each['geometry']['coordinates'] (-95.3970411, 29.9417677)\n",
      "each['geometry']['coordinates'][0] = -95.3970411\n",
      "each =  {\"geometry\": {\"coordinates\": [-95.362117, 29.76005199999999], \"type\": \"Point\"}, \"properties\": {\"address\": \"1001 Texas Ave #1020, Houston, TX 77002, United States\", \"id\": \"a11c06170d12ee3b5509eebe23f7a83e021bcdac\", \"job_title\": \"geophysicist\", \"name\": \"Lumina\", \"photos\": [{\"height\": 808, \"html_attributions\": [\"<a href=\\\"https://maps.google.com/maps/contrib/104809654983163322864/photos\\\">Lumina</a>\"], \"photo_reference\": \"CoQBdwAAAIySJvZH0sYcKTPKITdIigcsuDtQbO5Kqp6a383Tf9UQJUBDnJtb_XE2vqt6DkZclfDQ9GN1J0htsaBSFtyiIkUTGEtztUkZyvGgAzHBEoiK13bEATHLwqD0vJhA1G81mCi0LDz6jRQxmsq9Kq7jKnNY9T4rmSjbEjdKXZwFnykoEhDmcp_MA5nLdvEiSRFcYnNZGhQpaBwlZDcxuCh1WbY86V_5AqFxog\", \"width\": 1024}], \"place_id\": \"ChIJiUNxO0C_QIYRfHaVr4rYzPY\", \"rating\": \"NA\", \"reference\": \"CmRSAAAAF-5wwSB5M7NSohM49zmj61K6mKBtp3lF7A_x3buMDHaqUEbOgg3vw7KjH0ym8aWopbCxQdRMVPqI_AdkksCPhf6d-L2kWQIt4Wv7eFX6xYX_WKvoT_m2XSplTWbgvhgbEhDokPXdyctkAUHSaJt_FYEqGhTQK26BjDxH57wArKcQwAxdKxcS9w\", \"types\": [\"point_of_interest\", \"establishment\"]}, \"type\": \"Feature\"}\n",
      "each['geometry']['coordinates'] (-95.362117, 29.76005199999999)\n",
      "each['geometry']['coordinates'][0] = -95.362117\n",
      "each =  {\"geometry\": {\"coordinates\": [-95.451906, 29.754584], \"type\": \"Point\"}, \"properties\": {\"address\": \"50 Briar Hollow Ln, Houston, TX 77027, United States\", \"id\": \"7e34dad551ed799d5f99931250df058f8447acc9\", \"job_title\": \"geophysicist\", \"name\": \"Integrated Geophysics\", \"photos\": [{\"height\": 1360, \"html_attributions\": [\"<a href=\\\"https://maps.google.com/maps/contrib/118046956100093733952/photos\\\">Integrated Geophysics</a>\"], \"photo_reference\": \"CoQBdwAAAJvbRVQ2b_9WOjDmqkR6tvw3RO7vY8qrp1xHx68UWzayod0FaHpTi_GzPVtDO3AsUvMiy8bGLCXTvC90hjrU9Y4AVPUG2Uy2pfwGLV1Wga7lkboA9odtwm5BCXJKZ5oliVmtoyGJafXWBC3HfN9S4EbENmlLUYf0jHy5SxT_wxDVEhCkw-6_4lvZmxPtYL7X_K8AGhSy0rpdpUmp2Q_f2bJBkYxaLiVWMA\", \"width\": 1359}], \"place_id\": \"ChIJvbQlyTvBQIYRm0AeqK4g8R8\", \"rating\": \"NA\", \"reference\": \"CmRRAAAA59EMTC0ZSn9VtpH0RKnXzOQ6NQN11zVg0ozFi_9X--M--IDlVNxRc4Zc-rUb0g5da2rjx21ShR5QcjuWogoIaJCBTM1pZRsf5rSwtxypRZ_ZTooFjSOiy_Khsua2QVaNEhBzOsEmcpl_oVug-vr-fLuBGhQxApGT6Hv09cI5AN7AELk5b_9A6Q\", \"types\": [\"point_of_interest\", \"establishment\"]}, \"type\": \"Feature\"}\n",
      "each['geometry']['coordinates'] (-95.451906, 29.754584)\n",
      "each['geometry']['coordinates'][0] = -95.451906\n",
      "each =  {\"geometry\": {\"coordinates\": [-95.4628465, 29.7338536], \"type\": \"Point\"}, \"properties\": {\"address\": \"3050 Post Oak Blvd # 1640, Houston, TX 77056, United States\", \"id\": \"eb737b548075ce9fb5a7b7cd19dec9171f0ee698\", \"job_title\": \"geophysicist\", \"name\": \"Sinopec USA\", \"photos\": [], \"place_id\": \"ChIJS5y97nHBQIYRbb2dw19hKiM\", \"rating\": 5, \"reference\": \"CmRRAAAA3xsFoLoWQizBk2qn57lz5MK-CUtopUhq2FFXty2c_TPuoGrp6TMAwRKgNULk-10FviJw3p2HR2b_M8iMKTZT_cHJ0SDhjgrNQMZwKDyP-KZalvv8qxkdwHSvKxLHuRNSEhD0hXQIg3ntoXmorMXJLZ1ZGhQ1QiqZagkC94B2-UbUWbLSOmDPzA\", \"types\": [\"point_of_interest\", \"establishment\"]}, \"type\": \"Feature\"}\n",
      "each['geometry']['coordinates'] (-95.4628465, 29.7338536)\n",
      "each['geometry']['coordinates'][0] = -95.4628465\n",
      "each =  {\"geometry\": {\"coordinates\": [-95.62566849999999, 29.7794433], \"type\": \"Point\"}, \"properties\": {\"address\": \"15375 Memorial Dr, Houston, TX 77079, United States\", \"id\": \"63e8846758150bbb7b96bb6f1b6575612bdc5048\", \"job_title\": \"geophysicist\", \"name\": \"PGS\", \"photos\": [], \"place_id\": \"ChIJ_Yxnp-zbQIYRwzVN-oronfk\", \"rating\": \"NA\", \"reference\": \"CmRSAAAAdQyIQVEC67UGpRkNZRey9iluN91zNHfN1H6q32iRHwyRwJas2BN1EosXmlydydxAWYjlmFI_hxk5zEkxiuSSyWdd02QJBkFIzlYyqmNtWsEnKT8OvHB2woWZwoyN9_XXEhCzHmA2barXSpkmzmtNys3_GhQDIQHqJ-rUUTtuz3fgV8Upiq21Pw\", \"types\": [\"point_of_interest\", \"establishment\"]}, \"type\": \"Feature\"}\n",
      "each['geometry']['coordinates'] (-95.62566849999999, 29.7794433)\n",
      "each['geometry']['coordinates'][0] = -95.62566849999999\n"
     ]
    }
   ],
   "source": [
    "#### Two user supplied arguments\n",
    "###### company_list_formatted = company_array_formatted\n",
    "###### path = '../DATA/test_geojson_gAndg_v5'\n",
    "\n",
    "make_geojson_from_CompanyJobList(company_list_formatted = company_array_formatted,path=\"../DATA/test_geojson_gAndg_v6.geojson\",geographic_limits = geographic_limits)\n"
   ]
  }
 ],
 "metadata": {
  "kernelspec": {
   "display_name": "Python 3",
   "language": "python",
   "name": "python3"
  },
  "language_info": {
   "codemirror_mode": {
    "name": "ipython",
    "version": 3
   },
   "file_extension": ".py",
   "mimetype": "text/x-python",
   "name": "python",
   "nbconvert_exporter": "python",
   "pygments_lexer": "ipython3",
   "version": "3.5.2"
  }
 },
 "nbformat": 4,
 "nbformat_minor": 0
}
