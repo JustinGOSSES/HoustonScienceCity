{
 "cells": [
  {
   "cell_type": "markdown",
   "metadata": {},
   "source": [
    "# This notebook is attempting to split geojson into a pandas dataframe such that is then easier to use scikitlearn machine learning to identify bad vs. good data points on map. I.E. identify false positives. "
   ]
  },
  {
   "cell_type": "markdown",
   "metadata": {},
   "source": [
    "started March 23rd, 2017"
   ]
  },
  {
   "cell_type": "code",
   "execution_count": 4,
   "metadata": {
    "collapsed": true
   },
   "outputs": [],
   "source": [
    "#### Imports for parts #1 & #2\n",
    "from bs4 import BeautifulSoup # For HTML parsing\n",
    "from urllib.request import urlopen\n",
    "import re # Regular expressions\n",
    "from time import sleep # To prevent overwhelming the server between connections\n",
    "from collections import Counter # Keep track of our term counts\n",
    "from nltk.corpus import stopwords # Filter out stopwords, such as 'the', 'or', 'and'\n",
    "import pandas as pd # For converting results to a dataframe and bar chart plots\n",
    "%matplotlib inline\n",
    "import json\n",
    "import csv\n",
    "\n",
    "##### Import modules for google API and geoJSON parts. Only duplicate is json\n",
    "import requests\n",
    "import configparser\n",
    "import json\n",
    "import geojson\n",
    "from geojson import Point, Feature, FeatureCollection\n",
    "# https://github.com/frewsxcv/python-geojson\n",
    "import time\n",
    "import pandas as pd"
   ]
  },
  {
   "cell_type": "markdown",
   "metadata": {},
   "source": [
    "### Load in geojsons & strip down to a list of features in json form"
   ]
  },
  {
   "cell_type": "code",
   "execution_count": 67,
   "metadata": {
    "collapsed": false
   },
   "outputs": [],
   "source": [
    "def load_geojson_as_df_old(path_for_geojson):\n",
    "    df = pd.read_json(path_for_geojson)\n",
    "    #print(df.FeatureCollection)\n",
    "    #print(\"dataframe\",df)\n",
    "    print(df.columns)\n",
    "    df_new = pd.DataFrame()\n",
    "    for row in df.iterrows():\n",
    "        print(\"row is \",row)\n",
    "        df_new['features']\n",
    "    #for each in df:\n",
    "    #    print(\"each =\",each)\n",
    "        #df_new['features'] = each\n",
    "    print(\"df_new =\", df_new)\n",
    "    feature_values = df.values\n",
    "    print(feature_values)"
   ]
  },
  {
   "cell_type": "code",
   "execution_count": 168,
   "metadata": {
    "collapsed": false
   },
   "outputs": [],
   "source": [
    "def load_geojson_as_df(path_for_geojson):\n",
    "    df = pd.read_json(path_for_geojson)\n",
    "    #print(df.FeatureCollection)\n",
    "    #print(\"dataframe\",df)\n",
    "    print(df.columns)\n",
    "    df_new = df.drop('type',axis=1) \n",
    "    print(df_new)\n",
    "    #print(df.columns)\n",
    "    print(\"type\",type(df_new[:1]))\n",
    "    testZ = df_new[5:6]\n",
    "    print(\"testZ properties\",testZ)\n",
    "    print(\"properties\",df_new[5:6])"
   ]
  },
  {
   "cell_type": "code",
   "execution_count": 169,
   "metadata": {
    "collapsed": true
   },
   "outputs": [],
   "source": [
    "path_for_geojson = \"../../DATA/test_geojson_Everything_1of3_v2.geojson\""
   ]
  },
  {
   "cell_type": "code",
   "execution_count": 170,
   "metadata": {
    "collapsed": false
   },
   "outputs": [
    {
     "name": "stdout",
     "output_type": "stream",
     "text": [
      "Index(['features', 'type'], dtype='object')\n",
      "                                               features\n",
      "0     {'properties': {'job_title': 'Biochemistry', '...\n",
      "1     {'properties': {'job_title': 'Biochemistry', '...\n",
      "2     {'properties': {'job_title': 'Biochemistry', '...\n",
      "3     {'properties': {'job_title': 'Biochemistry', '...\n",
      "4     {'properties': {'job_title': 'Biochemistry', '...\n",
      "5     {'properties': {'job_title': 'Biochemistry', '...\n",
      "6     {'properties': {'job_title': 'Biochemistry', '...\n",
      "7     {'properties': {'job_title': 'Biochemistry', '...\n",
      "8     {'properties': {'job_title': 'Biochemistry', '...\n",
      "9     {'properties': {'job_title': 'Biochemistry', '...\n",
      "10    {'properties': {'job_title': 'Biochemistry', '...\n",
      "11    {'properties': {'job_title': 'Biochemistry', '...\n",
      "12    {'properties': {'job_title': 'Biochemistry', '...\n",
      "13    {'properties': {'job_title': 'Biochemistry', '...\n",
      "14    {'properties': {'job_title': 'Biochemistry', '...\n",
      "15    {'properties': {'job_title': 'Biochemistry', '...\n",
      "16    {'properties': {'job_title': 'Biochemistry', '...\n",
      "17    {'properties': {'job_title': 'Biochemistry', '...\n",
      "18    {'properties': {'job_title': 'Bioinformatics',...\n",
      "19    {'properties': {'job_title': 'Bioinformatics',...\n",
      "20    {'properties': {'job_title': 'Bioinformatics',...\n",
      "21    {'properties': {'job_title': 'Bioinformatics',...\n",
      "22    {'properties': {'job_title': 'Bioinformatics',...\n",
      "23    {'properties': {'job_title': 'Bioinformatics',...\n",
      "24    {'properties': {'job_title': 'Bioinformatics',...\n",
      "25    {'properties': {'job_title': 'Bioinformatics',...\n",
      "26    {'properties': {'job_title': 'Bioinformatics',...\n",
      "27    {'properties': {'job_title': 'Bioinformatics',...\n",
      "28    {'properties': {'job_title': 'Bioinformatics',...\n",
      "29    {'properties': {'job_title': 'Bioinformatics',...\n",
      "...                                                 ...\n",
      "2860  {'properties': {'job_title': 'optomitrist', 'r...\n",
      "2861  {'properties': {'job_title': 'optomitrist', 'r...\n",
      "2862  {'properties': {'job_title': 'optomitrist', 'r...\n",
      "2863  {'properties': {'job_title': 'optomitrist', 'r...\n",
      "2864  {'properties': {'job_title': 'optomitrist', 'r...\n",
      "2865  {'properties': {'job_title': 'optomitrist', 'r...\n",
      "2866  {'properties': {'job_title': 'optomitrist', 'r...\n",
      "2867  {'properties': {'job_title': 'optomitrist', 'r...\n",
      "2868  {'properties': {'job_title': 'optomitrist', 'r...\n",
      "2869  {'properties': {'job_title': 'optomitrist', 'r...\n",
      "2870  {'properties': {'job_title': 'optomitrist', 'r...\n",
      "2871  {'properties': {'job_title': 'optomitrist', 'r...\n",
      "2872  {'properties': {'job_title': 'optomitrist', 'r...\n",
      "2873  {'properties': {'job_title': 'optomitrist', 'r...\n",
      "2874  {'properties': {'job_title': 'optomitrist', 'r...\n",
      "2875  {'properties': {'job_title': 'optomitrist', 'r...\n",
      "2876  {'properties': {'job_title': 'optomitrist', 'r...\n",
      "2877  {'properties': {'job_title': 'optomitrist', 'r...\n",
      "2878  {'properties': {'job_title': 'optomitrist', 'r...\n",
      "2879  {'properties': {'job_title': 'optomitrist', 'r...\n",
      "2880  {'properties': {'job_title': 'optomitrist', 'r...\n",
      "2881  {'properties': {'job_title': 'optomitrist', 'r...\n",
      "2882  {'properties': {'job_title': 'optomitrist', 'r...\n",
      "2883  {'properties': {'job_title': 'optomitrist', 'r...\n",
      "2884  {'properties': {'job_title': 'optomitrist', 'r...\n",
      "2885  {'properties': {'job_title': 'optomitrist', 'r...\n",
      "2886  {'properties': {'job_title': 'optomitrist', 'r...\n",
      "2887  {'properties': {'job_title': 'optomitrist', 'r...\n",
      "2888  {'properties': {'job_title': 'optomitrist', 'r...\n",
      "2889  {'properties': {'job_title': 'optomitrist', 'r...\n",
      "\n",
      "[2890 rows x 1 columns]\n",
      "type <class 'pandas.core.frame.DataFrame'>\n",
      "testZ properties                                             features\n",
      "5  {'properties': {'job_title': 'Biochemistry', '...\n",
      "properties                                             features\n",
      "5  {'properties': {'job_title': 'Biochemistry', '...\n"
     ]
    }
   ],
   "source": [
    "load_geojson_as_df(path_for_geojson)"
   ]
  },
  {
   "cell_type": "code",
   "execution_count": 25,
   "metadata": {
    "collapsed": true
   },
   "outputs": [],
   "source": [
    "#### this function takes a list of paths for different geojsons, opens each one, and dumps features into a single dataframe\n",
    "def load_geojsonS_as_df(list_paths_geojsons,list_for_features):\n",
    "    df = pd.read_json(path_for_geojson)\n",
    "    feature_values = df.values\n",
    "    print(feature_values)"
   ]
  },
  {
   "cell_type": "code",
   "execution_count": null,
   "metadata": {
    "collapsed": true
   },
   "outputs": [],
   "source": []
  },
  {
   "cell_type": "code",
   "execution_count": null,
   "metadata": {
    "collapsed": true
   },
   "outputs": [],
   "source": []
  },
  {
   "cell_type": "code",
   "execution_count": null,
   "metadata": {
    "collapsed": true
   },
   "outputs": [],
   "source": []
  },
  {
   "cell_type": "code",
   "execution_count": null,
   "metadata": {
    "collapsed": true
   },
   "outputs": [],
   "source": []
  },
  {
   "cell_type": "markdown",
   "metadata": {},
   "source": [
    "### Combine the three geojson (now in list of features form) into a single one"
   ]
  },
  {
   "cell_type": "markdown",
   "metadata": {},
   "source": [
    "### Turn each item into row of data frame & further split some columns into multiple columns"
   ]
  },
  {
   "cell_type": "markdown",
   "metadata": {},
   "source": [
    "### Export as csv and add a column ..."
   ]
  },
  {
   "cell_type": "code",
   "execution_count": null,
   "metadata": {
    "collapsed": true
   },
   "outputs": [],
   "source": []
  }
 ],
 "metadata": {
  "kernelspec": {
   "display_name": "Python 3",
   "language": "python",
   "name": "python3"
  },
  "language_info": {
   "codemirror_mode": {
    "name": "ipython",
    "version": 3
   },
   "file_extension": ".py",
   "mimetype": "text/x-python",
   "name": "python",
   "nbconvert_exporter": "python",
   "pygments_lexer": "ipython3",
   "version": "3.5.2"
  }
 },
 "nbformat": 4,
 "nbformat_minor": 0
}
