{
 "cells": [
  {
   "cell_type": "markdown",
   "metadata": {},
   "source": [
    "## Exploration of using Google Places API for use in mapping out science related businesses that have science related job postings in Houston, Texas. "
   ]
  },
  {
   "cell_type": "markdown",
   "metadata": {},
   "source": [
    "#### started 2017-02-17"
   ]
  },
  {
   "cell_type": "code",
   "execution_count": 86,
   "metadata": {
    "collapsed": false
   },
   "outputs": [],
   "source": [
    "import requests\n",
    "import configparser\n",
    "import json"
   ]
  },
  {
   "cell_type": "markdown",
   "metadata": {},
   "source": [
    "### using <a href=\"https://docs.python.org/3/library/configparser.html\">configparser</a> to handle config file "
   ]
  },
  {
   "cell_type": "code",
   "execution_count": 85,
   "metadata": {
    "collapsed": false
   },
   "outputs": [
    {
     "ename": "AttributeError",
     "evalue": "module 'configparser' has no attribute 'read'",
     "output_type": "error",
     "traceback": [
      "\u001b[0;31m---------------------------------------------------------------------------\u001b[0m",
      "\u001b[0;31mAttributeError\u001b[0m                            Traceback (most recent call last)",
      "\u001b[0;32m<ipython-input-85-a2dcb5d5df2b>\u001b[0m in \u001b[0;36m<module>\u001b[0;34m()\u001b[0m\n\u001b[1;32m      1\u001b[0m \u001b[0mconfigFilePath\u001b[0m \u001b[0;34m=\u001b[0m \u001b[0;34m'./config.conf'\u001b[0m\u001b[0;34m\u001b[0m\u001b[0m\n\u001b[0;32m----> 2\u001b[0;31m \u001b[0mconfigparser\u001b[0m\u001b[0;34m.\u001b[0m\u001b[0mread\u001b[0m\u001b[0;34m(\u001b[0m\u001b[0mconfigFilePath\u001b[0m\u001b[0;34m)\u001b[0m\u001b[0;34m\u001b[0m\u001b[0m\n\u001b[0m",
      "\u001b[0;31mAttributeError\u001b[0m: module 'configparser' has no attribute 'read'"
     ]
    }
   ],
   "source": [
    "configFilePath = './config.conf'\n",
    "configparser.read(configFilePath)"
   ]
  },
  {
   "cell_type": "markdown",
   "metadata": {},
   "source": [
    "sets key as variable that contains the google-places-api key"
   ]
  },
  {
   "cell_type": "code",
   "execution_count": 46,
   "metadata": {
    "collapsed": true
   },
   "outputs": [],
   "source": [
    "key = configparser['google-places-api']['key1']"
   ]
  },
  {
   "cell_type": "code",
   "execution_count": 47,
   "metadata": {
    "collapsed": true
   },
   "outputs": [],
   "source": [
    "key_pre = '+&key='"
   ]
  },
  {
   "cell_type": "markdown",
   "metadata": {},
   "source": [
    "### test 1: Anadarko"
   ]
  },
  {
   "cell_type": "code",
   "execution_count": 48,
   "metadata": {
    "collapsed": true
   },
   "outputs": [],
   "source": [
    "search_string_place = \"Anadarko+in+Houston+Texas\""
   ]
  },
  {
   "cell_type": "code",
   "execution_count": 49,
   "metadata": {
    "collapsed": true
   },
   "outputs": [],
   "source": [
    "base_url = 'https://maps.googleapis.com/maps/api/place/textsearch/json?query='"
   ]
  },
  {
   "cell_type": "code",
   "execution_count": 51,
   "metadata": {
    "collapsed": true
   },
   "outputs": [],
   "source": [
    "r = requests.get(base_url+search_string_place+key_pre+key)"
   ]
  },
  {
   "cell_type": "code",
   "execution_count": 52,
   "metadata": {
    "collapsed": false
   },
   "outputs": [
    {
     "data": {
      "text/plain": [
       "'{\\n   \"html_attributions\" : [],\\n   \"results\" : [\\n      {\\n         \"formatted_address\" : \"811 Main St, Houston, TX 77002, United States\",\\n         \"geometry\" : {\\n            \"location\" : {\\n               \"lat\" : 29.75793480000001,\\n               \"lng\" : -95.36348679999999\\n            },\\n            \"viewport\" : {\\n               \"northeast\" : {\\n                  \"lat\" : 29.75828264999999,\\n                  \"lng\" : -95.36328465\\n               },\\n               \"southwest\" : {\\n                  \"lat\" : 29.75781885000001,\\n                  \"lng\" : -95.36409325\\n               }\\n            }\\n         },\\n         \"icon\" : \"https://maps.gstatic.com/mapfiles/place_api/icons/civic_building-71.png\",\\n         \"id\" : \"bc48b3afcf2539828887670b23c45e5a2b58fbbb\",\\n         \"name\" : \"Anadarko Petroleum Corporation\",\\n         \"place_id\" : \"ChIJjdHTPDu_QIYRyt4suPDEKtU\",\\n         \"rating\" : 1,\\n         \"reference\" : \"CmRSAAAAxVmU77fjFKPUX4r_ajdzJ3E38OLfOTGX4-xrkqO2jPB_VAE5Jv5G6r4y2K-5gLzLQpB1YaC_C1CUKfd_0Rv5XZCKaBe8lpJp5F1lp4cr-VxY2ftQ-WGdk5z9fqr4UTiJEhBEvUsZMRnOoDWT_hODxe_lGhSy1fZgV2VaJWb6_4tvXlM37Gn20g\",\\n         \"types\" : [ \"point_of_interest\", \"establishment\" ]\\n      },\\n      {\\n         \"formatted_address\" : \"1201 Lake Robbins Dr, The Woodlands, TX 77380, United States\",\\n         \"geometry\" : {\\n            \"location\" : {\\n               \"lat\" : 30.1605858,\\n               \"lng\" : -95.4526077\\n            },\\n            \"viewport\" : {\\n               \"northeast\" : {\\n                  \"lat\" : 30.16136880000001,\\n                  \"lng\" : -95.45259950000001\\n               },\\n               \"southwest\" : {\\n                  \"lat\" : 30.1603248,\\n                  \"lng\" : -95.45263229999999\\n               }\\n            }\\n         },\\n         \"icon\" : \"https://maps.gstatic.com/mapfiles/place_api/icons/generic_business-71.png\",\\n         \"id\" : \"e5350b982f96c6c3d10e64b30983c41e48e048bd\",\\n         \"name\" : \"Anadarko Petroleum Corporation\",\\n         \"photos\" : [\\n            {\\n               \"height\" : 2554,\\n               \"html_attributions\" : [\\n                  \"\\\\u003ca href=\\\\\"https://maps.google.com/maps/contrib/101777054892627060577/photos\\\\\"\\\\u003eThomas Hall\\\\u003c/a\\\\u003e\"\\n               ],\\n               \"photo_reference\" : \"CoQBdwAAAIyJxmVjjqkwK93l3eTtiQ9wxofJkehBisOdbeLsyhvrG2im8cvJoQUaWjWsCwnt1en6FtWf5gZFyPArDPG3x-NvF2qpoSTyV2TyUhWINpeWtsdJd8UIHZQ1AYGH-EYzTspKQgxXWEbDssBCYeMNEqDcav0GubHzFJxcrPpNxS-uEhDLCzKwnyi1fQVhQAqgkYQDGhQ1JtYxiAD3SG-3WUBJsY0Nsjn70Q\",\\n               \"width\" : 3408\\n            }\\n         ],\\n         \"place_id\" : \"ChIJyUfRjc21QIYRsc8JkxRzujk\",\\n         \"rating\" : 4.7,\\n         \"reference\" : \"CmRRAAAAl4W-jPbw8AeOADwyET5ZS76Pb9NCgZlNqs8e2bEunPUOXBxcfplNkOK5tShmoX7roud5JULPpxNCG6POPHVXYUo413G_aMe9ldooLfAsBpABxQplKJaaGjL6wlXWWTfMEhDu9dLWV3rLSv1e5rzsXyviGhT9NfC3nUiDcxZFXmLgCMJ_9W6Ngg\",\\n         \"types\" : [ \"point_of_interest\", \"establishment\" ]\\n      }\\n   ],\\n   \"status\" : \"OK\"\\n}\\n'"
      ]
     },
     "execution_count": 52,
     "metadata": {},
     "output_type": "execute_result"
    }
   ],
   "source": [
    "r.text"
   ]
  },
  {
   "cell_type": "code",
   "execution_count": 53,
   "metadata": {
    "collapsed": false
   },
   "outputs": [
    {
     "data": {
      "text/plain": [
       "{'html_attributions': [],\n",
       " 'results': [{'formatted_address': '811 Main St, Houston, TX 77002, United States',\n",
       "   'geometry': {'location': {'lat': 29.75793480000001,\n",
       "     'lng': -95.36348679999999},\n",
       "    'viewport': {'northeast': {'lat': 29.75828264999999, 'lng': -95.36328465},\n",
       "     'southwest': {'lat': 29.75781885000001, 'lng': -95.36409325}}},\n",
       "   'icon': 'https://maps.gstatic.com/mapfiles/place_api/icons/civic_building-71.png',\n",
       "   'id': 'bc48b3afcf2539828887670b23c45e5a2b58fbbb',\n",
       "   'name': 'Anadarko Petroleum Corporation',\n",
       "   'place_id': 'ChIJjdHTPDu_QIYRyt4suPDEKtU',\n",
       "   'rating': 1,\n",
       "   'reference': 'CmRSAAAAxVmU77fjFKPUX4r_ajdzJ3E38OLfOTGX4-xrkqO2jPB_VAE5Jv5G6r4y2K-5gLzLQpB1YaC_C1CUKfd_0Rv5XZCKaBe8lpJp5F1lp4cr-VxY2ftQ-WGdk5z9fqr4UTiJEhBEvUsZMRnOoDWT_hODxe_lGhSy1fZgV2VaJWb6_4tvXlM37Gn20g',\n",
       "   'types': ['point_of_interest', 'establishment']},\n",
       "  {'formatted_address': '1201 Lake Robbins Dr, The Woodlands, TX 77380, United States',\n",
       "   'geometry': {'location': {'lat': 30.1605858, 'lng': -95.4526077},\n",
       "    'viewport': {'northeast': {'lat': 30.16136880000001, 'lng': -95.4525995},\n",
       "     'southwest': {'lat': 30.1603248, 'lng': -95.45263229999999}}},\n",
       "   'icon': 'https://maps.gstatic.com/mapfiles/place_api/icons/generic_business-71.png',\n",
       "   'id': 'e5350b982f96c6c3d10e64b30983c41e48e048bd',\n",
       "   'name': 'Anadarko Petroleum Corporation',\n",
       "   'photos': [{'height': 2554,\n",
       "     'html_attributions': ['<a href=\"https://maps.google.com/maps/contrib/101777054892627060577/photos\">Thomas Hall</a>'],\n",
       "     'photo_reference': 'CoQBdwAAAIyJxmVjjqkwK93l3eTtiQ9wxofJkehBisOdbeLsyhvrG2im8cvJoQUaWjWsCwnt1en6FtWf5gZFyPArDPG3x-NvF2qpoSTyV2TyUhWINpeWtsdJd8UIHZQ1AYGH-EYzTspKQgxXWEbDssBCYeMNEqDcav0GubHzFJxcrPpNxS-uEhDLCzKwnyi1fQVhQAqgkYQDGhQ1JtYxiAD3SG-3WUBJsY0Nsjn70Q',\n",
       "     'width': 3408}],\n",
       "   'place_id': 'ChIJyUfRjc21QIYRsc8JkxRzujk',\n",
       "   'rating': 4.7,\n",
       "   'reference': 'CmRRAAAAl4W-jPbw8AeOADwyET5ZS76Pb9NCgZlNqs8e2bEunPUOXBxcfplNkOK5tShmoX7roud5JULPpxNCG6POPHVXYUo413G_aMe9ldooLfAsBpABxQplKJaaGjL6wlXWWTfMEhDu9dLWV3rLSv1e5rzsXyviGhT9NfC3nUiDcxZFXmLgCMJ_9W6Ngg',\n",
       "   'types': ['point_of_interest', 'establishment']}],\n",
       " 'status': 'OK'}"
      ]
     },
     "execution_count": 53,
     "metadata": {},
     "output_type": "execute_result"
    }
   ],
   "source": [
    "r.json()"
   ]
  },
  {
   "cell_type": "code",
   "execution_count": 54,
   "metadata": {
    "collapsed": false
   },
   "outputs": [
    {
     "data": {
      "text/plain": [
       "{'lat': 29.75793480000001, 'lng': -95.36348679999999}"
      ]
     },
     "execution_count": 54,
     "metadata": {},
     "output_type": "execute_result"
    }
   ],
   "source": [
    "r.json()['results'][0]['geometry']['location']"
   ]
  },
  {
   "cell_type": "markdown",
   "metadata": {},
   "source": [
    "### Test 2 : Laboratories in Houston, Texas"
   ]
  },
  {
   "cell_type": "code",
   "execution_count": 55,
   "metadata": {
    "collapsed": true
   },
   "outputs": [],
   "source": [
    "search_string_place = \"Laboratories+in+Houston+Texas\""
   ]
  },
  {
   "cell_type": "code",
   "execution_count": 56,
   "metadata": {
    "collapsed": true
   },
   "outputs": [],
   "source": [
    "r = requests.get(base_url+search_string_place+key_pre+key)"
   ]
  },
  {
   "cell_type": "code",
   "execution_count": 57,
   "metadata": {
    "collapsed": false
   },
   "outputs": [
    {
     "data": {
      "text/plain": [
       "{'html_attributions': [],\n",
       " 'next_page_token': 'CoQC8wAAAHoGyUbN-oCe6NpubzARO-_aHPwdpX7KpYC2ThhIvcYC7xSQK0brRZd27rIH2CvPbhK51ob1ESh1ybZYsX_KsKh90NGver4x_hl4S6wlkqlbvsDXUaxCI0mjGb_lEbINiXe2tRO_sq4a87Vy1CcqF1Dmz4NTI2_2o9-SYSh7Rau83xRivkYxUBjT9p_QTT08ChVSW5ATQEJ7r3vX7Cq2jFopDNn3mXHNjMX2Avidp9yPrLopcigCXzK3GM73jCIdWDxWtSgLuxmZxxfUz77-j2Ei46Bs_sONQPUH19-rbhfrcgXEpb1hUWsYnircDqVi1dzYqS2ph-okV5ljfcJ7DQMSEEV8FFqsyft6BdDoCPYGaH8aFIECnU6HgZBS3X6fyrET52fZIVPW',\n",
       " 'results': [{'formatted_address': '10165 Harwin Dr # 150, Houston, TX 77036, United States',\n",
       "   'geometry': {'location': {'lat': 29.71637500000001, 'lng': -95.54257}},\n",
       "   'icon': 'https://maps.gstatic.com/mapfiles/place_api/icons/generic_business-71.png',\n",
       "   'id': '4cac3245367b18fd6c6bac0f0cb71a7bf8b1a44d',\n",
       "   'name': 'SGS Accutest Inc - Houston, Texas',\n",
       "   'photos': [{'height': 1440,\n",
       "     'html_attributions': ['<a href=\"https://maps.google.com/maps/contrib/117806008492585596757/photos\">Tracey Del Rio</a>'],\n",
       "     'photo_reference': 'CoQBdwAAAGwssSajmMU4Dr5S0tUyM0QqEGWOuZmx_SqUPbx_dkXwhFmJguX_73jU5eoOd7Awyw4PFKr8JOS1__e6ylhtNjB67np6BInqqHqyONu6xz6of6gTRYQpQ4xjDi4G3exo1nR7Y_z4oc7FLTXRMKi1nOa7g1RoIFABThJi_8QK3sXYEhBTWAwGmFDkcD-GGL8fsUIdGhTr5gOInvEoZObMKtihB5EihAAlIQ',\n",
       "     'width': 2560}],\n",
       "   'place_id': 'ChIJfT2wTd7CQIYR3OpzmGmnqsg',\n",
       "   'reference': 'CmRSAAAAzx4KGh8jPmodfbqngVlJXdyB1MWO-AQM88VZm1B5J1KH5TZx9v9UWOsMKLexdBvDtmTCjkGWfzz9GMdcKxmJWB8rM2zIfMiZ6_UehxtwX4Q0WnWlquMxt9NrSMwCS_EdEhDHpeLZcTTcxN8_L-ryVOFlGhSGJDdJdks8ryEL386-n57HtkDRkg',\n",
       "   'types': ['point_of_interest', 'establishment']},\n",
       "  {'formatted_address': '10401 Town Park Dr, Houston, TX 77072, United States',\n",
       "   'geometry': {'location': {'lat': 29.7113274, 'lng': -95.5643411},\n",
       "    'viewport': {'northeast': {'lat': 29.71200855, 'lng': -95.564336},\n",
       "     'southwest': {'lat': 29.71110035, 'lng': -95.5643428}}},\n",
       "   'icon': 'https://maps.gstatic.com/mapfiles/place_api/icons/generic_business-71.png',\n",
       "   'id': '7078987cb1134e7f553da988f36b59d3f89d2644',\n",
       "   'name': 'SpectraCell Laboratories, Inc.',\n",
       "   'place_id': 'ChIJ_d04iyzdQIYR8ihE3izy5Ug',\n",
       "   'rating': 5,\n",
       "   'reference': 'CmRRAAAAtgHe7De-sRrRyud2nPgVlfpjV9n69Ttdt6zj4T09pzfaM8LWs0OPvZlNJUmjPlK4Oc90VDe68aImQMjUx3zcRBrgam1380bVeyvVB1Olb_sUwO04yyF9DYLMOh-XtjRCEhB4uMx9yeXz10pqk3-jxzX6GhQsJ2vgquSxKTSZtA0vbcvWvrJywg',\n",
       "   'types': ['health', 'point_of_interest', 'establishment']},\n",
       "  {'formatted_address': '10100 East Fwy #100, Houston, TX 77029, United States',\n",
       "   'geometry': {'location': {'lat': 29.7728657, 'lng': -95.2508352},\n",
       "    'viewport': {'northeast': {'lat': 29.77349705, 'lng': -95.25082305},\n",
       "     'southwest': {'lat': 29.77265525, 'lng': -95.25083924999998}}},\n",
       "   'icon': 'https://maps.gstatic.com/mapfiles/place_api/icons/generic_business-71.png',\n",
       "   'id': 'e80622eeb8e4ac5fd244ee799b350d34f110efe6',\n",
       "   'name': 'A & B Labs',\n",
       "   'opening_hours': {'exceptional_date': [],\n",
       "    'open_now': False,\n",
       "    'weekday_text': []},\n",
       "   'photos': [{'height': 1127,\n",
       "     'html_attributions': ['<a href=\"https://maps.google.com/maps/contrib/108732050301173243871/photos\">A &amp; B Labs</a>'],\n",
       "     'photo_reference': 'CoQBdwAAAAaJi7oxUNSZdJBVK-mjn2yVDHJqMr8EApS27zkQwjOxCpTg5B8Gw9Hbq7dFItd2IWAhU2rURkYuJsxsHhH1eSXULaRb82qneh-Qi9-A9_ORuYzV0cs_xzwec8f9SM8MRJtwDM2vadnpX7bnKfzmJg51sUjiIJ1m3EvuqnkVVg-qEhDdSWzIukArA6m28cV-yaYZGhRqF8vhNeL3lHCQ2Lw8m_T04PHSMg',\n",
       "     'width': 1502}],\n",
       "   'place_id': 'ChIJCfuoxJ68QIYRoS5JJlofjhA',\n",
       "   'rating': 3.3,\n",
       "   'reference': 'CmRRAAAACBkiwXP8BjuCLB4eZi_-fRRm37vfi2aIM8-w17I2zghnbV957kkW1r1R5dFvK5BxTx3XZ1PhvLrsN7WJoGiDSm_iqJZkipw5qitxWJY6Nm6LgWwWCuB57bKkkb-yE1xFEhASwnnqGCEaTAbYSMPnSlQHGhQhCd7WTtu_y-WPvRzyICRyRpbGCg',\n",
       "   'types': ['food', 'point_of_interest', 'establishment']},\n",
       "  {'formatted_address': '6316 Windfern Rd, Houston, TX 77040, United States',\n",
       "   'geometry': {'location': {'lat': 29.8613125, 'lng': -95.5363016},\n",
       "    'viewport': {'northeast': {'lat': 29.86131415, 'lng': -95.53578765},\n",
       "     'southwest': {'lat': 29.86130755, 'lng': -95.53784345}}},\n",
       "   'icon': 'https://maps.gstatic.com/mapfiles/place_api/icons/generic_business-71.png',\n",
       "   'id': '8422d2c19c89d41d8fee992eddb20ffd5ab68097',\n",
       "   'name': 'Core Laboratories Inc',\n",
       "   'place_id': 'ChIJkZDuNYrPQIYRsETFmlASbM8',\n",
       "   'rating': 3.6,\n",
       "   'reference': 'CmRSAAAAyHvAOBcJKHUah7zOrn_hIAVoIUyHTxbwkvg1xu0CeK0RnvlBJp2lbtbX1M8tDSzsOt83rz8OVAdP4rNASH-yaACo6SOkarY29HRTQtq1FU-MNzZffilzs0iV8dP4ZJHgEhCGLlEVH5ayuMrKuefHuTSzGhQ2S_0huo3Fp89eiCpAlII7Huscog',\n",
       "   'types': ['point_of_interest', 'establishment']},\n",
       "  {'formatted_address': '8845 Fallbrook Dr, Houston, TX 77064, United States',\n",
       "   'geometry': {'location': {'lat': 29.9230152, 'lng': -95.551149},\n",
       "    'viewport': {'northeast': {'lat': 29.92419494999999, 'lng': -95.55096245},\n",
       "     'southwest': {'lat': 29.92262195, 'lng': -95.55170865}}},\n",
       "   'icon': 'https://maps.gstatic.com/mapfiles/place_api/icons/school-71.png',\n",
       "   'id': '6012e90f06cdf2fc9891b68f8e37c07102fc4043',\n",
       "   'name': 'Weatherford Labs',\n",
       "   'place_id': 'ChIJhSfAKyPOQIYR3TfWmiitgdk',\n",
       "   'reference': 'CmRSAAAAuD63ZE3NwZxL3kGJA5jovbYOcs7bJxfXzIQ_cj2aeKTKvHKBWA8VSy8Ew_ilob3RTFDQ3PLRNBAnrMxQx9tTMDFZWXtmCGyuwzMsSeb5S4RIOiWB_XXzsJlYgrIgEJnYEhBkugSRGq2F3CfU2b3vrS1RGhQO-wb_72qamCWPK9F7Ym358AYFhg',\n",
       "   'types': ['school', 'point_of_interest', 'establishment']},\n",
       "  {'formatted_address': '10450 Stancliff Rd #210, Houston, TX 77099, United States',\n",
       "   'geometry': {'location': {'lat': 29.658668, 'lng': -95.56331689999999},\n",
       "    'viewport': {'northeast': {'lat': 29.65918715, 'lng': -95.56311089999997},\n",
       "     'southwest': {'lat': 29.65711055000001, 'lng': -95.56393489999999}}},\n",
       "   'icon': 'https://maps.gstatic.com/mapfiles/place_api/icons/generic_business-71.png',\n",
       "   'id': 'ded1638630eb18011d5240bd54a4493d86f62a4c',\n",
       "   'name': 'ALS Environmental',\n",
       "   'opening_hours': {'exceptional_date': [],\n",
       "    'open_now': False,\n",
       "    'weekday_text': []},\n",
       "   'photos': [{'height': 1219,\n",
       "     'html_attributions': ['<a href=\"https://maps.google.com/maps/contrib/113812417036482964934/photos\">ALS Environmental</a>'],\n",
       "     'photo_reference': 'CoQBdwAAAEukgfxB3TYMZQsV8XP7s8KvooAaHFewSauk8P61RcN-78VWYTkV6zx-hgTGLfzYkVZORFocxtwRfWV6VJStOkUoFtQWT2jlRapA7m2JcoyIxzd-LbeOj-0vlJ7Vea9SmpKFTY0L_p5A4T4I-6U4IYyZWjOGA-gvPN9BRX0wZCPSEhCNRM3uDfRu1KakF2p4okwoGhS03Lick6F9ckfCxeApK__bzclKbg',\n",
       "     'width': 2580}],\n",
       "   'place_id': 'ChIJWfQR9OLnQIYRx917rdo1fC4',\n",
       "   'rating': 5,\n",
       "   'reference': 'CmRRAAAANqE724VQ_LqV4mldLSKZlROBWmYzO1h1pOZCi9KNu4xWGt5QSc2hlpvQwklsGSuL4oDdfpVszmkuaSkw5JKe2soq_qRIn4VN_63HZQdcEW05_8Wcn5u_41oepfg7pS71EhA4TWVVMS4Q5NV6-ZkbsVsGGhTOh0qH3QwMh6Jc-uEBQac5HTb03w',\n",
       "   'types': ['point_of_interest', 'establishment']},\n",
       "  {'formatted_address': '7821 Pinemont Dr, Houston, TX 77040, United States',\n",
       "   'geometry': {'location': {'lat': 29.84075, 'lng': -95.510215},\n",
       "    'viewport': {'northeast': {'lat': 29.84136335, 'lng': -95.51021180000001},\n",
       "     'southwest': {'lat': 29.84054555000001, 'lng': -95.51022459999999}}},\n",
       "   'icon': 'https://maps.gstatic.com/mapfiles/place_api/icons/generic_business-71.png',\n",
       "   'id': 'ba8d9e554bed9ab1d87a03f2b8065d6b38aae3e3',\n",
       "   'name': 'Accu-Test Labs',\n",
       "   'opening_hours': {'exceptional_date': [],\n",
       "    'open_now': False,\n",
       "    'weekday_text': []},\n",
       "   'photos': [{'height': 251,\n",
       "     'html_attributions': ['<a href=\"https://maps.google.com/maps/contrib/103008386770432566130/photos\">Accu-Test Labs</a>'],\n",
       "     'photo_reference': 'CoQBdwAAAGZt4MzGrHVAZzyG_kHW2izXDfKcqgRIFi0RnV1I2t9bb34k1gajfN0GJdS8GP4NB1MbLU4UcLKeJosndBYHpSqTYEZ56JmpS1OHRt0vYBm0RKQeMJuB7wbNiISmdND3t6rsfcqPqC6aL6CbowniA9HuvnJtDr4lcEnIqtbjDiR2EhDfkfCHTwuVhbD89-ox2EMwGhTmedSuPvQVprIK3hxskrha71l6dQ',\n",
       "     'width': 251}],\n",
       "   'place_id': 'ChIJn4926ZnFQIYRiqB2blQewzY',\n",
       "   'rating': 3,\n",
       "   'reference': 'CmRRAAAAQwdG9542jJ5EKvM2-KT5cjx46p9A5Uvdh8VKjeWoKYAVpdVTMIytyXF3zySaIR8432viRcKTqBeD0FkzezE2lcSRzgix2VyvEmizuJBwSTOfyO9PG5AmBtAZW-uivLHlEhDpJy_54zHCClM5rD6LpPPeGhS-geMnpFhNPGU3sU03-zTj-6JL_Q',\n",
       "   'types': ['point_of_interest', 'establishment']},\n",
       "  {'formatted_address': '10630 Fallstone Rd, Houston, TX 77099, United States',\n",
       "   'geometry': {'location': {'lat': 29.660835, 'lng': -95.56571799999999},\n",
       "    'viewport': {'northeast': {'lat': 29.66104045000001,\n",
       "      'lng': -95.56563854999997},\n",
       "     'southwest': {'lat': 29.66021864999999, 'lng': -95.56595635}}},\n",
       "   'icon': 'https://maps.gstatic.com/mapfiles/place_api/icons/generic_business-71.png',\n",
       "   'id': 'a8c6ec85cc0c48611072a0c4c34cab7a63016b00',\n",
       "   'name': 'Texas OilTech Labs',\n",
       "   'opening_hours': {'exceptional_date': [],\n",
       "    'open_now': False,\n",
       "    'weekday_text': []},\n",
       "   'place_id': 'ChIJZVdEtfznQIYRv9bF2SlbzNk',\n",
       "   'rating': 5,\n",
       "   'reference': 'CmRSAAAACxhUJg7uml51v7HviQUU52n8kP9YEjN8JP042Pzkfaue9n3XncjGAKIh--6L5El6NT9oiQlzuYlAfAWaodddpt9RarF-d8oESG7kP7BNEn6wAMS62NgsHVg_7ZfGEvFnEhC24S0mRc1KbiUpzMCQbIGmGhTm26buuAL_9Wg23ZfHVAxbvtKxpA',\n",
       "   'types': ['point_of_interest', 'establishment']},\n",
       "  {'formatted_address': '1213 Hermann Dr # 710, Houston, TX 77004, United States',\n",
       "   'geometry': {'location': {'lat': 29.7231152, 'lng': -95.38864199999999},\n",
       "    'viewport': {'northeast': {'lat': 29.72324455, 'lng': -95.38853029999999},\n",
       "     'southwest': {'lat': 29.72272715000001, 'lng': -95.3889771}}},\n",
       "   'icon': 'https://maps.gstatic.com/mapfiles/place_api/icons/generic_business-71.png',\n",
       "   'id': 'd5447d8074b1c539218e9eb3e572318a93bad2e2',\n",
       "   'name': 'Clinical Pathology Labs',\n",
       "   'place_id': 'ChIJY7vvK4K_QIYRd_OrbBKxmpI',\n",
       "   'reference': 'CmRSAAAADrU4m6h_LvXMeY36NiroQaPHyIy87pHHezvOHYqeA9hPFfvrouJT7yucAL4XaT7T33gmPFQV1WGQULmX0VlsLE6l55AMY1IN2AsI1_QQOzCyHwElNz6j8aVVKFm5NE5jEhCGmEf90m0BnUhYPnxxMU70GhTBjhmct5ijDR-jTabKagrLBg16kw',\n",
       "   'types': ['health', 'point_of_interest', 'establishment']},\n",
       "  {'formatted_address': '11807 Westheimer Rd, Houston, TX 77077, United States',\n",
       "   'geometry': {'location': {'lat': 29.7351883, 'lng': -95.5860759},\n",
       "    'viewport': {'northeast': {'lat': 29.73708924999999,\n",
       "      'lng': -95.58605505000001},\n",
       "     'southwest': {'lat': 29.73455465, 'lng': -95.58613844999999}}},\n",
       "   'icon': 'https://maps.gstatic.com/mapfiles/place_api/icons/generic_business-71.png',\n",
       "   'id': 'a9c9ad60ec29e272abbb47db9f09fedf09539898',\n",
       "   'name': 'Any Lab Test Now',\n",
       "   'opening_hours': {'exceptional_date': [],\n",
       "    'open_now': False,\n",
       "    'weekday_text': []},\n",
       "   'photos': [{'height': 991,\n",
       "     'html_attributions': ['<a href=\"https://maps.google.com/maps/contrib/112443096217280355461/photos\">Any Lab Test Now</a>'],\n",
       "     'photo_reference': 'CoQBdwAAAIYoqaydZ-g68AeajmKw4UKcYg1Ax9FMnzqOsLyMKGXSeFVM_HHgH-An-BHe5BtqkUP-h1Tj5vZ11TkLSACrtjwereWGR3nMew_YgpB5dooByswxtKo09ESnpw-8yLuwph00UsZYrY9lpj12t_TZRxtq2Dbk1HQCwC9mS8Zy6K2yEhA704ZtNRIy4ei0XBNHTn1-GhS7gsyTv2KnPT0GvfH7t8mnRDN3kw',\n",
       "     'width': 988}],\n",
       "   'place_id': 'ChIJCUQeyOvcQIYRZDew9KactRA',\n",
       "   'rating': 2.8,\n",
       "   'reference': 'CmRRAAAAMl2dH_eDbPfZD5ReaTpKTm2xroOf1hbeX_rOR08c4gzxYknbPwItHIbw8_bbA6WvcBL_KMdlxeGXYToHaSJgYKrCJkG2NO7eU_U3yjaypg8AxS2AOLbkeLqB4DLFZUrXEhA5Eq2iMHBNywv21d9QmQFjGhRhekp9IVB2cPIwNJA5Q6bClDk2-g',\n",
       "   'types': ['health', 'point_of_interest', 'establishment']},\n",
       "  {'formatted_address': '1919 N Loop W # 225, Houston, TX 77008, United States',\n",
       "   'geometry': {'location': {'lat': 29.8105263, 'lng': -95.43420599999999},\n",
       "    'viewport': {'northeast': {'lat': 29.81153309999999,\n",
       "      'lng': -95.43400564999999},\n",
       "     'southwest': {'lat': 29.8101907, 'lng': -95.43480704999999}}},\n",
       "   'icon': 'https://maps.gstatic.com/mapfiles/place_api/icons/generic_business-71.png',\n",
       "   'id': 'e6e0c6278bedd85795d40c1bf144c958df98aa91',\n",
       "   'name': 'Clinical Pathology Labs',\n",
       "   'place_id': 'ChIJLV-iiQHHQIYReIAbpybVWBc',\n",
       "   'rating': 4,\n",
       "   'reference': 'CmRRAAAA82ISyTXWq8EXWfovYerRj5t3Ab92QO3DbaPvzqAQ6yidiaGdD7Uilt9TLPHbxDII-wVQx6M4QsVTIuG6BI7mVuoIfRTijSILreyGBF4zTK9rent49cLGJlaQxcqG5D2KEhDmJTV_gurk76omZMre8xmAGhQbuYmDMqpkUX_ufPKbCntk0GcGsQ',\n",
       "   'types': ['health', 'point_of_interest', 'establishment']},\n",
       "  {'formatted_address': '10626 Kinghurst St, Houston, TX 77099, United States',\n",
       "   'geometry': {'location': {'lat': 29.662422, 'lng': -95.565603},\n",
       "    'viewport': {'northeast': {'lat': 29.6626299, 'lng': -95.5655212},\n",
       "     'southwest': {'lat': 29.66179830000001, 'lng': -95.56584839999996}}},\n",
       "   'icon': 'https://maps.gstatic.com/mapfiles/place_api/icons/generic_business-71.png',\n",
       "   'id': 'faf1a8265c0196fb651f09923aebf4b72e6a505c',\n",
       "   'name': 'Polyhedron Laboratories Inc',\n",
       "   'place_id': 'ChIJBzYh6_znQIYRu16Jk0nkmPU',\n",
       "   'reference': 'CmRSAAAA0uWDHPvYGfxIuqvSpzsNLdqOfJ5oUi_WnlRTOZqb10P2FfwGdHRIj5JQgZOctC0KBwYN6TVZldQoj3ij4BD33KZa0zbOi_Elrw6zuWn2in44tCj_Hr_j69FC-YEw5nIcEhAhEV__UKr2KoZw9kCwBEtXGhSViXBgajhP3y3xD2M6a7SnZFtzSQ',\n",
       "   'types': ['point_of_interest', 'establishment']},\n",
       "  {'formatted_address': '7737 Southwest Fwy # A10, Houston, TX 77074, United States',\n",
       "   'geometry': {'location': {'lat': 29.6941917, 'lng': -95.5219027}},\n",
       "   'icon': 'https://maps.gstatic.com/mapfiles/place_api/icons/generic_business-71.png',\n",
       "   'id': '76538b8b63b01add6b067d6f068d481ecfdfea08',\n",
       "   'name': 'Clinical Pathology Labs',\n",
       "   'place_id': 'ChIJYd3i-IrCQIYRbTDqO3WF5qg',\n",
       "   'reference': 'CmRSAAAAx_6b_MyjtEHr0KoJz1hDR70OPt_LxAIQOrmXaltyrOVrTIV9JZQww3kPIYUsn_loCpq2A34Iqu0OcbWPOn_LtIt3lZi7wtIzD6oUb-JUqMeSsdejc_ElKQE3zEQOrbwyEhBbRAHwFh-i5EznFkiiKXpGGhQsAapdcVNxq0_ujcLPxYwRHgaqZA',\n",
       "   'types': ['health', 'point_of_interest', 'establishment']},\n",
       "  {'formatted_address': '8311 Knight Rd, Houston, TX 77054, United States',\n",
       "   'geometry': {'location': {'lat': 29.6851044, 'lng': -95.39998469999999},\n",
       "    'viewport': {'northeast': {'lat': 29.6851059, 'lng': -95.39989455},\n",
       "     'southwest': {'lat': 29.6851035, 'lng': -95.40003955000002}}},\n",
       "   'icon': 'https://maps.gstatic.com/mapfiles/place_api/icons/generic_business-71.png',\n",
       "   'id': '9b27f3f69d79c9d57c2615556f6f1ad79cbff6c5',\n",
       "   'name': 'Access Clinical Laboratory, LLC',\n",
       "   'place_id': 'ChIJt7vO9wPAQIYR-WIwQiXPwIM',\n",
       "   'rating': 1,\n",
       "   'reference': 'CmRSAAAA4NfxCX6dq0wgs0gE5Ji7n6aGxeL174Y2M9wnhDdOW8AUehZP0DKdM8nPfFNaU32cvZmQM3Ll6b8hky3gffKU0AH8TYYToSMyGIKxvYAG76lTBlBWTh41v9SReDK20xjpEhCRtuddhP3C7tI0L8b8t9K_GhTvF36OT6ytLE5fr8vnYOiXhDCpkw',\n",
       "   'types': ['health', 'point_of_interest', 'establishment']},\n",
       "  {'formatted_address': '6310 Rothway St, Houston, TX 77040, United States',\n",
       "   'geometry': {'location': {'lat': 29.85888, 'lng': -95.5282122},\n",
       "    'viewport': {'northeast': {'lat': 29.85934185, 'lng': -95.52752989999999},\n",
       "     'southwest': {'lat': 29.85872605, 'lng': -95.5302591}}},\n",
       "   'icon': 'https://maps.gstatic.com/mapfiles/place_api/icons/generic_business-71.png',\n",
       "   'id': '39c8d04fd2e628b119bbffb259be79aaf42d0222',\n",
       "   'name': 'BM',\n",
       "   'place_id': 'ChIJfbEO8IfPQIYRxJnyh_qUTUs',\n",
       "   'rating': 3,\n",
       "   'reference': 'CmRRAAAA74xsmx1hD7j14u1s0m5K-T5kGepW3kG6KJbNswE2blkEMwgkAT4cXOFUfY-Ruciy5MUI2FEHK1m_pd6BnmiNcs8rvQS-Su7hq4bq6GXkAS1cosrmZ6q4StSN2tPPMAX6EhBkGEiEilonalyzMMjAW-BaGhS1TF09wi6h-LnfklNhlYZ8_c_hCA',\n",
       "   'types': ['point_of_interest', 'establishment']},\n",
       "  {'formatted_address': '2902 N Shepherd Dr #E, Houston, TX 77008, United States',\n",
       "   'geometry': {'location': {'lat': 29.8137182, 'lng': -95.4096964},\n",
       "    'viewport': {'northeast': {'lat': 29.81373325, 'lng': -95.4093723},\n",
       "     'southwest': {'lat': 29.81367305000001, 'lng': -95.4106687}}},\n",
       "   'icon': 'https://maps.gstatic.com/mapfiles/place_api/icons/generic_business-71.png',\n",
       "   'id': '5bc7a4a708a1333cf2f0d095eeab2afec9b85619',\n",
       "   'name': 'Any Lab Test Now',\n",
       "   'opening_hours': {'exceptional_date': [],\n",
       "    'open_now': False,\n",
       "    'weekday_text': []},\n",
       "   'photos': [{'height': 974,\n",
       "     'html_attributions': ['<a href=\"https://maps.google.com/maps/contrib/112143244531760880024/photos\">Any Lab Test Now</a>'],\n",
       "     'photo_reference': 'CoQBdwAAAIGCLKZuPKt-0MyzAaJmOZgHkxuYJ6fSvIXEd0rAFhuXILOuwx9dtzukvhX0ty9kB-R3PjY2JNonlD6vSuV3XC4mpAqGo7z9jWbH8ouY-Y448wf_fdKOMYj5crcIgizhtP3cx23ATrTXJuUp_7mDB4zQrYAGoHIY0kdcEInd2y3OEhDIUhuUPIuyfXKZKrYhkmRFGhQnek7iRrURtVJqJrbNG8m5yxZr1w',\n",
       "     'width': 976}],\n",
       "   'place_id': 'ChIJTWUlGHTHQIYR86-ZTnrApyM',\n",
       "   'rating': 2.6,\n",
       "   'reference': 'CmRRAAAAoTglXSlDSPCEnFNVRio3zFe0AMWhZpCNC8FzmtEXIVjUY5-n5u8Gnk2oKS2dyypZ21VAVnpqAhfTBBiB2UiXOMKbPWqMLxWlYWQF8vd_augJv1cgRAFhey-wlMHn2AlzEhCaJAAzrEtSVUJjZUFhJmhoGhS5C-fYapZ5iiZGQEXIUNnj1znhuw',\n",
       "   'types': ['health', 'point_of_interest', 'establishment']},\n",
       "  {'formatted_address': '7900 Fannin St, Houston, TX 77054, United States',\n",
       "   'geometry': {'location': {'lat': 29.6915542, 'lng': -95.4034319},\n",
       "    'viewport': {'northeast': {'lat': 29.69170685, 'lng': -95.4027059},\n",
       "     'southwest': {'lat': 29.69109625, 'lng': -95.4036739}}},\n",
       "   'icon': 'https://maps.gstatic.com/mapfiles/place_api/icons/generic_business-71.png',\n",
       "   'id': '8524b912f80503508a4f506da83dccdf3cf64107',\n",
       "   'name': 'Bioreference Laboratories',\n",
       "   'place_id': 'ChIJ8xD46w_AQIYRK3wgT2s2Y8E',\n",
       "   'rating': 1,\n",
       "   'reference': 'CmRSAAAA0vpF7DvRM1sah7rzD9O2dxA9caJcEqYTJRJDb5e6-eU4LJW7Jo34hxWA9FIgGRfqqdEMSjWyBQDXs97o3dSlm1tpI1MC28YU9iyI244Jb4Uuu0jZQ6_tH4JTCtafDdZzEhCy7pTPrlrAQ5BHstMJCwcbGhREFgCrqKOTFj0X_5H514BbjXbKDg',\n",
       "   'types': ['point_of_interest', 'establishment']},\n",
       "  {'formatted_address': '17030 Nanes Dr, Houston, TX 77090, United States',\n",
       "   'geometry': {'location': {'lat': 30.0173733, 'lng': -95.44665099999999},\n",
       "    'viewport': {'northeast': {'lat': 30.01763609999999,\n",
       "      'lng': -95.44618069999999},\n",
       "     'southwest': {'lat': 30.0165849, 'lng': -95.44806189999998}}},\n",
       "   'icon': 'https://maps.gstatic.com/mapfiles/place_api/icons/generic_business-71.png',\n",
       "   'id': 'da4b89509f6f8b01a0324ed455171a04edfc6b2d',\n",
       "   'name': 'Your Health Lab',\n",
       "   'place_id': 'ChIJT-YquBDLQIYRNFM-X49jct0',\n",
       "   'reference': 'CmRSAAAAkGzf4U5_ebVT3ivT-qmJI0foo1rj5XwS0Byq6a_4etoYM67rGdWu8pmO7D-9LA3wu8Eku7dufeEuEXPAGQy2xyjDXUC6repCW_1v8jZSLESzAWq7Hcu0NxOLmvPQTzx6EhC7ZLfbXgLFvbHeQPEargWMGhTEX7GFwkz7EoTFsPpOYhlypjINVQ',\n",
       "   'types': ['point_of_interest', 'establishment']},\n",
       "  {'formatted_address': '13141 FM 1960 #500, Houston, TX 77065, United States',\n",
       "   'geometry': {'location': {'lat': 29.91722859999999,\n",
       "     'lng': -95.61353679999999},\n",
       "    'viewport': {'northeast': {'lat': 29.9179144, 'lng': -95.61343409999999},\n",
       "     'southwest': {'lat': 29.91699999999999, 'lng': -95.61384489999999}}},\n",
       "   'icon': 'https://maps.gstatic.com/mapfiles/place_api/icons/generic_business-71.png',\n",
       "   'id': '269fd32e2b9fd6b1b419f53cfcaebf6fcae726ff',\n",
       "   'name': 'Any Lab Test Now Houston Northwest',\n",
       "   'opening_hours': {'exceptional_date': [],\n",
       "    'open_now': False,\n",
       "    'weekday_text': []},\n",
       "   'photos': [{'height': 760,\n",
       "     'html_attributions': ['<a href=\"https://maps.google.com/maps/contrib/102519200491381651403/photos\">Any Lab Test Now Houston Northwest</a>'],\n",
       "     'photo_reference': 'CoQBdwAAAEhQYIoWvnVoourWVY8bemoTajpUK6f6pMqUrOS1z90gwVRbxhd2l_hwQndSCi27U3VZsXDYqEyAL3f41zVTMQCdB7CILWp_pFu6Aq31wwzoeGQrQU-8_9mug3Eg2hTMcKKGaO7XS1_Bf39BzkQPOr2pLT6hC0R6_8D8oNieFB7XEhA5kV-8IHD_wMlr1lIm_Jo-GhSeyrEmyFxnC22VupLoTnHRfpeRcw',\n",
       "     'width': 761}],\n",
       "   'place_id': 'ChIJqx5NFg7RQIYR73JKDF-aWzw',\n",
       "   'reference': 'CmRRAAAAMiIhf0fkvTFZjt0DzSLCBe2mDRPSrupvpVuzBZyHJBU_Qu-2fyySFp0V-quqeJduGd-vRogU3m_QVC_c5OO5ky_fZqivzP6XhJVP-CUUag6SFgoxRsPsvYPHcJGtxJb_EhD7mTjZMYU5j0Ev7pdKbPKaGhTdDqgnguKT6qJNDHaP8VxwVQR_6Q',\n",
       "   'types': ['health', 'point_of_interest', 'establishment']},\n",
       "  {'formatted_address': '900 Gemini St, Houston, TX 77058, United States',\n",
       "   'geometry': {'location': {'lat': 29.550327, 'lng': -95.119275},\n",
       "    'viewport': {'northeast': {'lat': 29.55145665, 'lng': -95.11918665000002},\n",
       "     'southwest': {'lat': 29.54995045, 'lng': -95.11954005}}},\n",
       "   'icon': 'https://maps.gstatic.com/mapfiles/place_api/icons/generic_business-71.png',\n",
       "   'id': '760e19be3a4761d6dd2d8e9b42bbbbfe4a4f8cd5',\n",
       "   'name': 'Pace Analytical Services Inc',\n",
       "   'place_id': 'ChIJ-RdquVicQIYRlnBD_Wijldo',\n",
       "   'rating': 1.5,\n",
       "   'reference': 'CmRSAAAAHQjBoEe2t3t4XdfK3WYOOcLkeh-AMYUfYVCFTmfPYJgRArZ0oxpg9xmqlAm50SEaudpwSbwBza3igsOcny8YQ_todkvlqBCHa7tGre7UBFJb4RrjBJ41qQcf9OCGS0cpEhCGsKHBc6kBIkLBpANSmGSxGhSz33KhClHmpnn6DuKLfrEybBLg6w',\n",
       "   'types': ['point_of_interest', 'establishment']}],\n",
       " 'status': 'OK'}"
      ]
     },
     "execution_count": 57,
     "metadata": {},
     "output_type": "execute_result"
    }
   ],
   "source": [
    "r.json()"
   ]
  },
  {
   "cell_type": "code",
   "execution_count": 75,
   "metadata": {
    "collapsed": false
   },
   "outputs": [
    {
     "data": {
      "text/plain": [
       "20"
      ]
     },
     "execution_count": 75,
     "metadata": {},
     "output_type": "execute_result"
    }
   ],
   "source": [
    "len(r.json()['results'])"
   ]
  },
  {
   "cell_type": "code",
   "execution_count": 76,
   "metadata": {
    "collapsed": false
   },
   "outputs": [
    {
     "name": "stdout",
     "output_type": "stream",
     "text": [
      "SGS Accutest Inc - Houston, Texas\n",
      "SpectraCell Laboratories, Inc.\n",
      "A & B Labs\n",
      "Core Laboratories Inc\n",
      "Weatherford Labs\n",
      "ALS Environmental\n",
      "Accu-Test Labs\n",
      "Texas OilTech Labs\n",
      "Clinical Pathology Labs\n",
      "Any Lab Test Now\n",
      "Clinical Pathology Labs\n",
      "Polyhedron Laboratories Inc\n",
      "Clinical Pathology Labs\n",
      "Access Clinical Laboratory, LLC\n",
      "BM\n",
      "Any Lab Test Now\n",
      "Bioreference Laboratories\n",
      "Your Health Lab\n",
      "Any Lab Test Now Houston Northwest\n",
      "Pace Analytical Services Inc\n"
     ]
    }
   ],
   "source": [
    "results = r.json()['results']\n",
    "for each in results:\n",
    "    #print(each)\n",
    "    print(each['name'])"
   ]
  },
  {
   "cell_type": "markdown",
   "metadata": {},
   "source": [
    "### Test 2 : Oil and Gas in Houston, Texas"
   ]
  },
  {
   "cell_type": "code",
   "execution_count": 81,
   "metadata": {
    "collapsed": true
   },
   "outputs": [],
   "source": [
    "search_string_place = \"Gas+Station+in+Houston+Texas\""
   ]
  },
  {
   "cell_type": "code",
   "execution_count": 82,
   "metadata": {
    "collapsed": true
   },
   "outputs": [],
   "source": [
    "r = requests.get(base_url+search_string_place+key_pre+key)"
   ]
  },
  {
   "cell_type": "code",
   "execution_count": 83,
   "metadata": {
    "collapsed": false
   },
   "outputs": [
    {
     "data": {
      "text/plain": [
       "20"
      ]
     },
     "execution_count": 83,
     "metadata": {},
     "output_type": "execute_result"
    }
   ],
   "source": [
    "len(r.json()['results'])"
   ]
  },
  {
   "cell_type": "code",
   "execution_count": 84,
   "metadata": {
    "collapsed": false
   },
   "outputs": [
    {
     "name": "stdout",
     "output_type": "stream",
     "text": [
      "H-E-B Fuel\n",
      "Exxon\n",
      "Exxon\n",
      "Mobil\n",
      "Exxon\n",
      "Sunoco Gas Station\n",
      "Exxon\n",
      "Chevron\n",
      "Exxon\n",
      "Exxon\n",
      "Exxon\n",
      "Texaco Houston\n",
      "Exxon\n",
      "Chevron\n",
      "Exxon\n",
      "Exxon\n",
      "Exxon\n",
      "Valero Gas Station\n",
      "Exxon\n",
      "Exxon\n"
     ]
    }
   ],
   "source": [
    "results = r.json()['results']\n",
    "for each in results:\n",
    "    #print(each)\n",
    "    print(each['name'])"
   ]
  },
  {
   "cell_type": "code",
   "execution_count": null,
   "metadata": {
    "collapsed": true
   },
   "outputs": [],
   "source": []
  }
 ],
 "metadata": {
  "kernelspec": {
   "display_name": "Python 3",
   "language": "python",
   "name": "python3"
  },
  "language_info": {
   "codemirror_mode": {
    "name": "ipython",
    "version": 3
   },
   "file_extension": ".py",
   "mimetype": "text/x-python",
   "name": "python",
   "nbconvert_exporter": "python",
   "pygments_lexer": "ipython3",
   "version": "3.5.2"
  }
 },
 "nbformat": 4,
 "nbformat_minor": 0
}
