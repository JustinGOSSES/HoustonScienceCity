{
 "cells": [
  {
   "cell_type": "markdown",
   "metadata": {},
   "source": [
    "# Twitter Exploration of #actuallivingscientist hashtag in Houston Texas\n",
    "### Justin Gosses\n",
    "### 2017-02-13"
   ]
  },
  {
   "cell_type": "markdown",
   "metadata": {},
   "source": [
    "### Loading python modules"
   ]
  },
  {
   "cell_type": "code",
   "execution_count": 1,
   "metadata": {},
   "outputs": [],
   "source": [
    "import twitter\n",
    "import csv\n",
    "import json\n",
    "import pandas as pd\n",
    "import configparser"
   ]
  },
  {
   "cell_type": "markdown",
   "metadata": {},
   "source": [
    "### Using config files for twitter API keys"
   ]
  },
  {
   "cell_type": "code",
   "execution_count": 2,
   "metadata": {},
   "outputs": [],
   "source": [
    "config = configparser.ConfigParser()\n",
    "config.sections()\n",
    "config.read('./config.conf')\n",
    "config.sections()\n",
    "consumer_key_V = config['twitter-API']['consumer_key']\n",
    "consumer_secret_V = config['twitter-API']['consumer_secret']\n",
    "access_token_key_V = config['twitter-API']['access_token_key']\n",
    "access_token_secret_V = config['twitter-API']['access_token_secret']"
   ]
  },
  {
   "cell_type": "code",
   "execution_count": 3,
   "metadata": {},
   "outputs": [
    {
     "data": {
      "text/plain": [
       "'yCxkUVrouAJvxlsLAzlQgVcS6X0Nj222n24EW4Dbsomzf'"
      ]
     },
     "execution_count": 3,
     "metadata": {},
     "output_type": "execute_result"
    }
   ],
   "source": [
    "access_token_secret_V"
   ]
  },
  {
   "cell_type": "markdown",
   "metadata": {},
   "source": [
    "### Signing into twitter API"
   ]
  },
  {
   "cell_type": "code",
   "execution_count": 4,
   "metadata": {},
   "outputs": [],
   "source": [
    "api = twitter.Api(consumer_key=consumer_key_V,\n",
    "                      consumer_secret=consumer_secret_V,\n",
    "                      access_token_key=access_token_key_V,\n",
    "                      access_token_secret=access_token_secret_V)"
   ]
  },
  {
   "cell_type": "markdown",
   "metadata": {},
   "source": [
    "### Checking authentification"
   ]
  },
  {
   "cell_type": "code",
   "execution_count": 5,
   "metadata": {},
   "outputs": [
    {
     "name": "stdout",
     "output_type": "stream",
     "text": [
      "{\"created_at\": \"Sun Aug 07 22:46:19 +0000 2016\", \"default_profile\": true, \"description\": \"I write code and look at rocks : Python | JavaScript | Web Dev | Data Visualization & Analytics | Geology | Space | - Opinions are my own\", \"favourites_count\": 950, \"followers_count\": 212, \"friends_count\": 518, \"geo_enabled\": true, \"id\": 762419629553659909, \"lang\": \"en\", \"listed_count\": 21, \"location\": \"Houston, TX\", \"name\": \"Justin Gosses\", \"profile_background_color\": \"F5F8FA\", \"profile_banner_url\": \"https://pbs.twimg.com/profile_banners/762419629553659909/1489810630\", \"profile_image_url\": \"http://pbs.twimg.com/profile_images/830090949833408512/ADQFqmNz_normal.jpg\", \"profile_link_color\": \"1DA1F2\", \"profile_sidebar_fill_color\": \"DDEEF6\", \"profile_text_color\": \"333333\", \"screen_name\": \"JustinGosses\", \"status\": {\"created_at\": \"Thu Jan 18 19:14:56 +0000 2018\", \"favorited\": true, \"id\": 954069615117787136, \"id_str\": \"954069615117787136\", \"lang\": \"en\", \"media\": [{\"display_url\": \"pic.twitter.com/a0pgTfiT5u\", \"expanded_url\": \"https://twitter.com/epsalt/status/954022777450676224/photo/1\", \"id\": 954022762217013248, \"media_url\": \"http://pbs.twimg.com/tweet_video_thumb/DT1epcmVAAAwghO.jpg\", \"media_url_https\": \"https://pbs.twimg.com/tweet_video_thumb/DT1epcmVAAAwghO.jpg\", \"sizes\": {\"large\": {\"h\": 310, \"resize\": \"fit\", \"w\": 500}, \"medium\": {\"h\": 310, \"resize\": \"fit\", \"w\": 500}, \"small\": {\"h\": 310, \"resize\": \"fit\", \"w\": 500}, \"thumb\": {\"h\": 150, \"resize\": \"crop\", \"w\": 150}}, \"type\": \"animated_gif\", \"url\": \"https://t.co/a0pgTfiT5u\", \"video_info\": {\"aspect_ratio\": [50, 31], \"variants\": [{\"bitrate\": 0, \"content_type\": \"video/mp4\", \"url\": \"https://video.twimg.com/tweet_video/DT1epcmVAAAwghO.mp4\"}]}}], \"retweet_count\": 4, \"retweeted\": true, \"retweeted_status\": {\"created_at\": \"Thu Jan 18 16:08:49 +0000 2018\", \"favorite_count\": 8, \"favorited\": true, \"id\": 954022777450676224, \"id_str\": \"954022777450676224\", \"lang\": \"en\", \"media\": [{\"display_url\": \"pic.twitter.com/a0pgTfiT5u\", \"expanded_url\": \"https://twitter.com/epsalt/status/954022777450676224/photo/1\", \"id\": 954022762217013248, \"media_url\": \"http://pbs.twimg.com/tweet_video_thumb/DT1epcmVAAAwghO.jpg\", \"media_url_https\": \"https://pbs.twimg.com/tweet_video_thumb/DT1epcmVAAAwghO.jpg\", \"sizes\": {\"large\": {\"h\": 310, \"resize\": \"fit\", \"w\": 500}, \"medium\": {\"h\": 310, \"resize\": \"fit\", \"w\": 500}, \"small\": {\"h\": 310, \"resize\": \"fit\", \"w\": 500}, \"thumb\": {\"h\": 150, \"resize\": \"crop\", \"w\": 150}}, \"type\": \"animated_gif\", \"url\": \"https://t.co/a0pgTfiT5u\", \"video_info\": {\"aspect_ratio\": [50, 31], \"variants\": [{\"bitrate\": 0, \"content_type\": \"video/mp4\", \"url\": \"https://video.twimg.com/tweet_video/DT1epcmVAAAwghO.mp4\"}]}}], \"retweet_count\": 4, \"retweeted\": true, \"source\": \"<a href=\\\"http://twitter.com/download/android\\\" rel=\\\"nofollow\\\">Twitter for Android</a>\", \"text\": \"New #dataviz project on my website: mapping running data with #D3js https://t.co/786ByHaBEw https://t.co/a0pgTfiT5u\"}, \"source\": \"<a href=\\\"http://twitter.com/download/android\\\" rel=\\\"nofollow\\\">Twitter for Android</a>\", \"text\": \"RT @epsalt: New #dataviz project on my website: mapping running data with #D3js https://t.co/786ByHaBEw https://t.co/a0pgTfiT5u\"}, \"statuses_count\": 621, \"url\": \"https://t.co/9zRCEHVyBG\"}\n"
     ]
    }
   ],
   "source": [
    ">>> print(api.VerifyCredentials())"
   ]
  },
  {
   "cell_type": "code",
   "execution_count": 6,
   "metadata": {},
   "outputs": [
    {
     "name": "stdout",
     "output_type": "stream",
     "text": [
      "['RT @epsalt: New #dataviz project on my website: mapping running data with #D3js https://t.co/786ByHaBEw https://t.co/a0pgTfiT5u', '@jerome_etienne Me too - want to combine with joy.js &amp; D3.js', \"RT @ReadyHarris: Let's band together Harris County. Warming centers are full and in need of PREPARED food. Reach out to jackie.miller@houst…\", 'Unfortunate side affect of so many awesome #MachineLearning #Meetups in #Houston is I find it nearly impossible to… https://t.co/lAWviOApln', 'RT @ericuman: Epic design fail.  \\n\\nhttps://t.co/4zJ1xPrYFH https://t.co/y2v6GJzKYm', '@y3l2n https://t.co/6lku8jTJ2G', 'RT @en_dash: Cumulative snowfall this season in the US visualized as relief. https://t.co/sy690faehz https://t.co/9a9vMZOAdc', 'RT @jesswade: Romance is not dead, it’s just behind a paywall. 🔬🇨🇳💍 #sciencetwitter https://t.co/EKybxi0IDK', 'front-end only #SaaS seems like a good way to avoid IT beuracracy. No security stick to get beat with as data doesn… https://t.co/7lEDcfkJLq', '#geology #Hackathon in Houston next month by @bhp https://t.co/T7L5ZOoYtW', \"@kwinkunks That is the best first line to a geology blog post I've ever read\", 'RT @JacquelynGill: Check out Color Oracle, which allows you to turn on a filter to see your screen the way a color-blind person would: http…', '@JoAnnaScience Not airport, but stopped by bulgaria border security not far from Turkish border at 2am on a bridge… https://t.co/lCeySD799y', '@JoAnnaScience I was told by TSA that paper-thin, fragile shale (rocks) wrapped in toilet paper were potential dead… https://t.co/sehTZrfrGB', \"RT @AlanMCole: This map is a brilliant data visualization. Here's a brief thread on why it's so much better than past efforts. https://t.co…\", '#sideproject idea = programatically reduce talk jargon: more technical presentation =&gt; speech-to-text =&gt; @xkcd most… https://t.co/qwwT36Nc5E', 'RT @e_moraitopoulou: ContentMine !! An #opensource solution for getting papers from many online sources, normalising them, processing them…', 'RT @tdkrom1: Showing fauna development in time via 3D visualisation.  https://t.co/plEPmd4OAi https://t.co/i1RiFcvm5S', 'RT @geosociety: Removing Barriers to Career Progression for Women in the Geosciences\\nGSA members are invited to comment on this new draft p…', 'Like this use of limited animated #dataviz by @ProPublica on #Harvey damage in #Houston https://t.co/4XAvw2xz4d']\n"
     ]
    }
   ],
   "source": [
    ">>> statuses = api.GetUserTimeline(screen_name=\"JustinGosses\")\n",
    ">>> print([s.text for s in statuses])"
   ]
  },
  {
   "cell_type": "markdown",
   "metadata": {},
   "source": [
    "### Testing api.GetSearch()"
   ]
  },
  {
   "cell_type": "markdown",
   "metadata": {},
   "source": [
    "two results for the actuallivingscientist hashtag, prints their data type, which comes up as shortened list as default"
   ]
  },
  {
   "cell_type": "code",
   "execution_count": 7,
   "metadata": {},
   "outputs": [
    {
     "data": {
      "text/plain": [
       "list"
      ]
     },
     "execution_count": 7,
     "metadata": {},
     "output_type": "execute_result"
    }
   ],
   "source": [
    "results = api.GetSearch(\n",
    "    raw_query=\"q=%23houwx%20&result_type=recent&since=2018-01-14&count=2\")\n",
    "type(results)"
   ]
  },
  {
   "cell_type": "markdown",
   "metadata": {},
   "source": [
    "which looks like this"
   ]
  },
  {
   "cell_type": "code",
   "execution_count": 9,
   "metadata": {},
   "outputs": [
    {
     "data": {
      "text/plain": [
       "[Status(ID=954171895225638912, ScreenName=CCartwright1971, Created=Fri Jan 19 02:01:22 +0000 2018, Text='RT @ABC13Miya: Thoroughly iced over 288 overpass at 59 near Downtown. Seriously people. Don’t drive here! #abc13 #houwx https://t.co/cBJ0aB…'),\n",
       " Status(ID=954167309630889989, ScreenName=JeffLindner1, Created=Fri Jan 19 01:43:08 +0000 2018, Text='THANK YOU @NWSHouston for getting forecast products and briefings out Mon afternoon in a rapidly changing forecast… https://t.co/KFrtRQ5oXn')]"
      ]
     },
     "execution_count": 9,
     "metadata": {},
     "output_type": "execute_result"
    }
   ],
   "source": [
    "results"
   ]
  },
  {
   "cell_type": "markdown",
   "metadata": {},
   "source": [
    "but there is actually a json and a lot more data in there still for only 2 responses"
   ]
  },
  {
   "cell_type": "code",
   "execution_count": 10,
   "metadata": {},
   "outputs": [
    {
     "data": {
      "text/plain": [
       "'{\"in_reply_to_screen_name\": null, \"in_reply_to_status_id_str\": null, \"in_reply_to_status_id\": null, \"geo\": null, \"created_at\": \"Fri Jan 19 02:01:22 +0000 2018\", \"in_reply_to_user_id_str\": null, \"user\": {\"is_translation_enabled\": false, \"profile_background_color\": \"000000\", \"profile_banner_url\": \"https://pbs.twimg.com/profile_banners/100011228/1461890698\", \"has_extended_profile\": false, \"profile_background_tile\": false, \"translator_type\": \"none\", \"geo_enabled\": false, \"listed_count\": 4, \"statuses_count\": 886, \"created_at\": \"Mon Dec 28 18:12:23 +0000 2009\", \"friends_count\": 1965, \"follow_request_sent\": false, \"followers_count\": 897, \"verified\": false, \"lang\": \"en\", \"profile_sidebar_border_color\": \"000000\", \"favourites_count\": 1419, \"screen_name\": \"CCartwright1971\", \"following\": false, \"utc_offset\": -18000, \"profile_image_url_https\": \"https://pbs.twimg.com/profile_images/725847460241915905/SO2grlYr_normal.jpg\", \"url\": \"http://t.co/mMSB6ZvAn1\", \"id_str\": \"100011228\", \"profile_sidebar_fill_color\": \"000000\", \"profile_background_image_url\": \"http://abs.twimg.com/images/themes/theme14/bg.gif\", \"profile_image_url\": \"http://pbs.twimg.com/profile_images/725847460241915905/SO2grlYr_normal.jpg\", \"notifications\": false, \"entities\": {\"url\": {\"urls\": [{\"url\": \"http://t.co/mMSB6ZvAn1\", \"expanded_url\": \"http://www.chriscartwright.com\", \"indices\": [0, 22], \"display_url\": \"chriscartwright.com\"}]}, \"description\": {\"urls\": []}}, \"profile_text_color\": \"000000\", \"profile_use_background_image\": false, \"profile_link_color\": \"ABB8C2\", \"contributors_enabled\": false, \"default_profile\": false, \"location\": \"Thunder Bay, On\", \"default_profile_image\": false, \"time_zone\": \"Eastern Time (US & Canada)\", \"profile_background_image_url_https\": \"https://abs.twimg.com/images/themes/theme14/bg.gif\", \"description\": \"Photo/Video/Edit\", \"is_translator\": false, \"protected\": false, \"name\": \"chris cartwright\", \"id\": 100011228}, \"truncated\": false, \"contributors\": null, \"favorited\": false, \"text\": \"RT @ABC13Miya: Thoroughly iced over 288 overpass at 59 near Downtown. Seriously people. Don\\\\u2019t drive here! #abc13 #houwx https://t.co/cBJ0aB\\\\u2026\", \"in_reply_to_user_id\": null, \"id_str\": \"954171895225638912\", \"retweeted\": false, \"metadata\": {\"result_type\": \"recent\", \"iso_language_code\": \"en\"}, \"place\": null, \"coordinates\": null, \"entities\": {\"user_mentions\": [{\"id_str\": \"890981320029089793\", \"id\": 890981320029089793, \"indices\": [3, 13], \"name\": \"Miya Shay\", \"screen_name\": \"ABC13Miya\"}], \"symbols\": [], \"urls\": [], \"hashtags\": [{\"text\": \"abc13\", \"indices\": [106, 112]}, {\"text\": \"houwx\", \"indices\": [113, 119]}]}, \"is_quote_status\": false, \"retweeted_status\": {\"in_reply_to_screen_name\": null, \"in_reply_to_status_id_str\": null, \"in_reply_to_status_id\": null, \"geo\": null, \"created_at\": \"Tue Jan 16 19:30:30 +0000 2018\", \"in_reply_to_user_id_str\": null, \"user\": {\"is_translation_enabled\": false, \"profile_background_color\": \"F5F8FA\", \"profile_banner_url\": \"https://pbs.twimg.com/profile_banners/890981320029089793/1501267826\", \"has_extended_profile\": false, \"profile_background_tile\": false, \"translator_type\": \"none\", \"geo_enabled\": false, \"listed_count\": 3, \"statuses_count\": 373, \"created_at\": \"Fri Jul 28 17:04:35 +0000 2017\", \"friends_count\": 28, \"follow_request_sent\": false, \"followers_count\": 181, \"verified\": false, \"lang\": \"en\", \"profile_sidebar_border_color\": \"C0DEED\", \"favourites_count\": 0, \"screen_name\": \"ABC13Miya\", \"following\": false, \"utc_offset\": null, \"profile_image_url_https\": \"https://pbs.twimg.com/profile_images/891004671367696384/r_sfWjZG_normal.jpg\", \"url\": \"https://t.co/Z7oTeFRq2X\", \"id_str\": \"890981320029089793\", \"profile_sidebar_fill_color\": \"DDEEF6\", \"profile_background_image_url\": null, \"profile_image_url\": \"http://pbs.twimg.com/profile_images/891004671367696384/r_sfWjZG_normal.jpg\", \"notifications\": false, \"entities\": {\"url\": {\"urls\": [{\"url\": \"https://t.co/Z7oTeFRq2X\", \"expanded_url\": \"https://www.facebook.com/ABC13MiyaShay/\", \"indices\": [0, 23], \"display_url\": \"facebook.com/ABC13MiyaShay/\"}]}, \"description\": {\"urls\": [{\"url\": \"https://t.co/Z7oTeFRq2X\", \"expanded_url\": \"https://www.facebook.com/ABC13MiyaShay/\", \"indices\": [104, 127], \"display_url\": \"facebook.com/ABC13MiyaShay/\"}]}}, \"profile_text_color\": \"333333\", \"profile_use_background_image\": true, \"profile_link_color\": \"1DA1F2\", \"contributors_enabled\": false, \"default_profile\": true, \"location\": \"Houston\", \"default_profile_image\": false, \"time_zone\": null, \"profile_background_image_url_https\": null, \"description\": \"TV news reporter, wife, mom, lover of social media, foodie finds, and world travel. Like my #abc13 page https://t.co/Z7oTeFRq2X\", \"is_translator\": false, \"protected\": false, \"name\": \"Miya Shay\", \"id\": 890981320029089793}, \"truncated\": false, \"contributors\": null, \"favorited\": false, \"extended_entities\": {\"media\": [{\"url\": \"https://t.co/cBJ0aBvWRG\", \"sizes\": {\"thumb\": {\"resize\": \"crop\", \"h\": 150, \"w\": 150}, \"medium\": {\"resize\": \"fit\", \"h\": 900, \"w\": 1200}, \"large\": {\"resize\": \"fit\", \"h\": 1536, \"w\": 2048}, \"small\": {\"resize\": \"fit\", \"h\": 510, \"w\": 680}}, \"id_str\": \"953348750524608512\", \"display_url\": \"pic.twitter.com/cBJ0aBvWRG\", \"media_url\": \"http://pbs.twimg.com/media/DTr5ozYU8AAe1Ke.jpg\", \"type\": \"photo\", \"media_url_https\": \"https://pbs.twimg.com/media/DTr5ozYU8AAe1Ke.jpg\", \"expanded_url\": \"https://twitter.com/ABC13Miya/status/953348754958159872/photo/1\", \"indices\": [105, 128], \"id\": 953348750524608512}]}, \"text\": \"Thoroughly iced over 288 overpass at 59 near Downtown. Seriously people. Don\\\\u2019t drive here! #abc13 #houwx https://t.co/cBJ0aBvWRG\", \"in_reply_to_user_id\": null, \"id_str\": \"953348754958159872\", \"retweeted\": false, \"metadata\": {\"result_type\": \"recent\", \"iso_language_code\": \"en\"}, \"place\": null, \"coordinates\": null, \"entities\": {\"user_mentions\": [], \"media\": [{\"url\": \"https://t.co/cBJ0aBvWRG\", \"sizes\": {\"thumb\": {\"resize\": \"crop\", \"h\": 150, \"w\": 150}, \"medium\": {\"resize\": \"fit\", \"h\": 900, \"w\": 1200}, \"large\": {\"resize\": \"fit\", \"h\": 1536, \"w\": 2048}, \"small\": {\"resize\": \"fit\", \"h\": 510, \"w\": 680}}, \"id_str\": \"953348750524608512\", \"display_url\": \"pic.twitter.com/cBJ0aBvWRG\", \"media_url\": \"http://pbs.twimg.com/media/DTr5ozYU8AAe1Ke.jpg\", \"type\": \"photo\", \"media_url_https\": \"https://pbs.twimg.com/media/DTr5ozYU8AAe1Ke.jpg\", \"expanded_url\": \"https://twitter.com/ABC13Miya/status/953348754958159872/photo/1\", \"indices\": [105, 128], \"id\": 953348750524608512}], \"symbols\": [], \"urls\": [], \"hashtags\": [{\"text\": \"abc13\", \"indices\": [91, 97]}, {\"text\": \"houwx\", \"indices\": [98, 104]}]}, \"is_quote_status\": false, \"possibly_sensitive\": false, \"retweet_count\": 38, \"lang\": \"en\", \"source\": \"<a href=\\\\\"http://www.echofon.com/\\\\\" rel=\\\\\"nofollow\\\\\">Echofon</a>\", \"favorite_count\": 42, \"id\": 953348754958159872}, \"retweet_count\": 38, \"lang\": \"en\", \"source\": \"<a href=\\\\\"http://twitter.com\\\\\" rel=\\\\\"nofollow\\\\\">Twitter Web Client</a>\", \"favorite_count\": 0, \"id\": 954171895225638912}'"
      ]
     },
     "execution_count": 10,
     "metadata": {},
     "output_type": "execute_result"
    }
   ],
   "source": [
    "status = results[0]\n",
    "json_str = json.dumps(status._json)\n",
    "json_str"
   ]
  },
  {
   "cell_type": "code",
   "execution_count": 51,
   "metadata": {},
   "outputs": [
    {
     "data": {
      "text/plain": [
       "[Status(ID=831372941896118273, ScreenName=NIHAustin, Created=Tue Feb 14 05:22:10 +0000 2017, Text=\"RT @kaitalexgrab: I'm an #ActualLivingScientist who tests water quality &amp; advocates for environmental protection. I #DressLikeAWoman in my…\"),\n",
       " Status(ID=831171766890459136, ScreenName=MBCAHouston, Created=Mon Feb 13 16:02:46 +0000 2017, Text='The latest The MBCA Houston Daily! https://t.co/b5IWEKpcd9 Thanks to @ARtvKimatni #actuallivingscientist #was17'),\n",
       " Status(ID=830352352561467392, ScreenName=Butrousfound, Created=Sat Feb 11 09:46:42 +0000 2017, Text=\"RT @OceanExplauren: Hi! I'm an #actuallivingscientist interested in aquatic sensory biology &amp; I spent my week looking at shark nostril hist…\"),\n",
       " Status(ID=830321224614084608, ScreenName=tpsc_info, Created=Sat Feb 11 07:43:01 +0000 2017, Text=\"RT @OceanExplauren: Hi! I'm an #actuallivingscientist interested in aquatic sensory biology &amp; I spent my week looking at shark nostril hist…\"),\n",
       " Status(ID=830299603996127232, ScreenName=EcoMorphLab, Created=Sat Feb 11 06:17:06 +0000 2017, Text=\"RT @OceanExplauren: Hi! I'm an #actuallivingscientist interested in aquatic sensory biology &amp; I spent my week looking at shark nostril hist…\"),\n",
       " Status(ID=830222927165431808, ScreenName=jacque_summers, Created=Sat Feb 11 01:12:25 +0000 2017, Text=\"RT @OceanExplauren: Hi! I'm an #actuallivingscientist interested in aquatic sensory biology &amp; I spent my week looking at shark nostril hist…\"),\n",
       " Status(ID=830222852301283329, ScreenName=InsectophileJim, Created=Sat Feb 11 01:12:07 +0000 2017, Text=\"RT @OceanExplauren: Hi! I'm an #actuallivingscientist interested in aquatic sensory biology &amp; I spent my week looking at shark nostril hist…\"),\n",
       " Status(ID=830221799342223361, ScreenName=InsectophileJim, Created=Sat Feb 11 01:07:56 +0000 2017, Text='RT @RickLambeth: Brother of more than one #actuallivingfarmer... I had/got to be an #actuallivingscientist instead.  Just glad there is sti…'),\n",
       " Status(ID=830189543743582208, ScreenName=Chapman_Histo, Created=Fri Feb 10 22:59:46 +0000 2017, Text=\"RT @OceanExplauren: Hi! I'm an #actuallivingscientist interested in aquatic sensory biology &amp; I spent my week looking at shark nostril hist…\"),\n",
       " Status(ID=830172944928223232, ScreenName=RickLambeth, Created=Fri Feb 10 21:53:48 +0000 2017, Text='Brother of more than one #actuallivingfarmer... I had/got to be an #actuallivingscientist instead.  Just glad there… https://t.co/914l59Uai1'),\n",
       " Status(ID=830156552480907264, ScreenName=Sexandfoodand, Created=Fri Feb 10 20:48:40 +0000 2017, Text=\"RT @OceanExplauren: Hi! I'm an #actuallivingscientist interested in aquatic sensory biology &amp; I spent my week looking at shark nostril hist…\"),\n",
       " Status(ID=830155104418295808, ScreenName=DrCrampini, Created=Fri Feb 10 20:42:55 +0000 2017, Text=\"RT @OceanExplauren: Hi! I'm an #actuallivingscientist interested in aquatic sensory biology &amp; I spent my week looking at shark nostril hist…\"),\n",
       " Status(ID=830151133578534912, ScreenName=HanoverM, Created=Fri Feb 10 20:27:08 +0000 2017, Text=\"RT @OceanExplauren: Hi! I'm an #actuallivingscientist interested in aquatic sensory biology &amp; I spent my week looking at shark nostril hist…\"),\n",
       " Status(ID=830150383012081664, ScreenName=OceanExplauren, Created=Fri Feb 10 20:24:09 +0000 2017, Text=\"Hi! I'm an #actuallivingscientist interested in aquatic sensory biology &amp; I spent my week looking at shark nostril… https://t.co/Qa4iBx1TOk\"),\n",
       " Status(ID=830068240059600901, ScreenName=karashosho01, Created=Fri Feb 10 14:57:45 +0000 2017, Text='#actuallivingscientist https://t.co/5Rcgaq43dE')]"
      ]
     },
     "execution_count": 51,
     "metadata": {},
     "output_type": "execute_result"
    }
   ],
   "source": [
    "results_withGeo = api.GetSearch(\n",
    "    raw_query=\"q=%23houwx&geocode=29.7604,-95.3698,100km&result_type=recent&since=2018-01-14&count=100\")\n",
    "results_withGeo"
   ]
  },
  {
   "cell_type": "code",
   "execution_count": 52,
   "metadata": {},
   "outputs": [
    {
     "data": {
      "text/plain": [
       "[Status(ID=831171766890459136, ScreenName=MBCAHouston, Created=Mon Feb 13 16:02:46 +0000 2017, Text='The latest The MBCA Houston Daily! https://t.co/b5IWEKpcd9 Thanks to @ARtvKimatni #actuallivingscientist #was17'),\n",
       " Status(ID=830221799342223361, ScreenName=InsectophileJim, Created=Sat Feb 11 01:07:56 +0000 2017, Text='RT @RickLambeth: Brother of more than one #actuallivingfarmer... I had/got to be an #actuallivingscientist instead.  Just glad there is sti…'),\n",
       " Status(ID=830172944928223232, ScreenName=RickLambeth, Created=Fri Feb 10 21:53:48 +0000 2017, Text='Brother of more than one #actuallivingfarmer... I had/got to be an #actuallivingscientist instead.  Just glad there… https://t.co/914l59Uai1'),\n",
       " Status(ID=830068240059600901, ScreenName=karashosho01, Created=Fri Feb 10 14:57:45 +0000 2017, Text='#actuallivingscientist https://t.co/5Rcgaq43dE')]"
      ]
     },
     "execution_count": 52,
     "metadata": {},
     "output_type": "execute_result"
    }
   ],
   "source": [
    "results_withGeo = api.GetSearch(\n",
    "    raw_query=\"q=%23actuallivingscientist&geocode=29.7604,-95.3698,10km&result_type=recent&since=2017-02-10&count=1000\")\n",
    "results_withGeo"
   ]
  },
  {
   "cell_type": "markdown",
   "metadata": {},
   "source": [
    "### Apparently no one on the west sides tweets much or maybe they are just industrial scientists over there?"
   ]
  },
  {
   "cell_type": "code",
   "execution_count": 61,
   "metadata": {},
   "outputs": [
    {
     "data": {
      "text/plain": [
       "[]"
      ]
     },
     "execution_count": 61,
     "metadata": {},
     "output_type": "execute_result"
    }
   ],
   "source": [
    "# centerpoint of zip code 77079 = 29.776318, -95.604971\n",
    "results_withGeo77079 = api.GetSearch(\n",
    "    raw_query=\"q=%23actuallivingscientist&geocode=29.776318,-95.604971,10km&result_type=recent&since=2017-02-01&count=1000\")\n",
    "results_withGeo77079\n"
   ]
  },
  {
   "cell_type": "markdown",
   "metadata": {},
   "source": [
    "### Rice area of course has more academics and doctors"
   ]
  },
  {
   "cell_type": "code",
   "execution_count": 30,
   "metadata": {},
   "outputs": [
    {
     "data": {
      "text/plain": [
       "[Status(ID=831171766890459136, ScreenName=MBCAHouston, Created=Mon Feb 13 16:02:46 +0000 2017, Text='The latest The MBCA Houston Daily! https://t.co/b5IWEKpcd9 Thanks to @ARtvKimatni #actuallivingscientist #was17'),\n",
       " Status(ID=830221799342223361, ScreenName=InsectophileJim, Created=Sat Feb 11 01:07:56 +0000 2017, Text='RT @RickLambeth: Brother of more than one #actuallivingfarmer... I had/got to be an #actuallivingscientist instead.  Just glad there is sti…'),\n",
       " Status(ID=830172944928223232, ScreenName=RickLambeth, Created=Fri Feb 10 21:53:48 +0000 2017, Text='Brother of more than one #actuallivingfarmer... I had/got to be an #actuallivingscientist instead.  Just glad there… https://t.co/914l59Uai1'),\n",
       " Status(ID=830068240059600901, ScreenName=karashosho01, Created=Fri Feb 10 14:57:45 +0000 2017, Text='#actuallivingscientist https://t.co/5Rcgaq43dE'),\n",
       " Status(ID=829349170150592512, ScreenName=TDGiardina, Created=Wed Feb 08 15:20:25 +0000 2017, Text=\"I'm an #ActualSocialScientist in patient safety - exploring patients' experiences of diagnostic errors. #actuallivingscientist\"),\n",
       " Status(ID=829349135509811201, ScreenName=CarlaLouisa, Created=Wed Feb 08 15:20:17 +0000 2017, Text=\"RT @DeltagrlNC: Hi I'm Angela and I'm a Microbiologist that test IV drugs for sterility. #actuallivingscientist #DressLikeAWoman https://t.…\"),\n",
       " Status(ID=829104435783729153, ScreenName=InsectophileJim, Created=Tue Feb 07 23:07:56 +0000 2017, Text=\"RT @KathAGar: Hi, I'm Kathleen. I'm an #actuallivingscientist who studies ways that coastal communities can adapt to rising sea level and c…\"),\n",
       " Status(ID=829026630874042371, ScreenName=KathAGar, Created=Tue Feb 07 17:58:46 +0000 2017, Text=\"Hi, I'm Kathleen. I'm an #actuallivingscientist who studies ways that coastal communities can adapt to rising sea l… https://t.co/WR9iN71xdi\"),\n",
       " Status(ID=829013505441484801, ScreenName=CarlaLouisa, Created=Tue Feb 07 17:06:36 +0000 2017, Text=\"RT @drkristymurray: I'm an #ActualLivingScientist who studies infectious pathogens. I like to #DressLikeAWoman https://t.co/BOGK1Tpapa\"),\n",
       " Status(ID=829005449123024896, ScreenName=Aiims1742, Created=Tue Feb 07 16:34:35 +0000 2017, Text='I would recommend everyone follow @ScientistTrump \\n#ActualLivingScientist https://t.co/J0nkOm6U2r'),\n",
       " Status(ID=828827425740046336, ScreenName=MichaelAlliman, Created=Tue Feb 07 04:47:11 +0000 2017, Text='The fact that most of the respondents in this thread are women restores a shred of hope in me.  #actuallivingscientist'),\n",
       " Status(ID=828700281055481857, ScreenName=momneph, Created=Mon Feb 06 20:21:58 +0000 2017, Text=\"RT @drkristymurray: I'm an #ActualLivingScientist who studies infectious pathogens. I like to #DressLikeAWoman https://t.co/BOGK1Tpapa\"),\n",
       " Status(ID=828629679959658497, ScreenName=joan_mediator, Created=Mon Feb 06 15:41:25 +0000 2017, Text=\"RT @drkristymurray: I'm an #ActualLivingScientist who studies infectious pathogens. I like to #DressLikeAWoman https://t.co/BOGK1Tpapa\"),\n",
       " Status(ID=828628126452301824, ScreenName=DavidFisman, Created=Mon Feb 06 15:35:15 +0000 2017, Text=\"RT @drkristymurray: I'm an #ActualLivingScientist who studies infectious pathogens. I like to #DressLikeAWoman https://t.co/BOGK1Tpapa\"),\n",
       " Status(ID=828627918083481600, ScreenName=DiagnosticChick, Created=Mon Feb 06 15:34:25 +0000 2017, Text=\"RT @drkristymurray: I'm an #ActualLivingScientist who studies infectious pathogens. I like to #DressLikeAWoman https://t.co/BOGK1Tpapa\"),\n",
       " Status(ID=828385188677816320, ScreenName=BCM_TropMed, Created=Sun Feb 05 23:29:54 +0000 2017, Text=\"RT @drkristymurray: I'm an #ActualLivingScientist who studies infectious pathogens. I like to #DressLikeAWoman https://t.co/BOGK1Tpapa\"),\n",
       " Status(ID=828373352205185025, ScreenName=QutubLab, Created=Sun Feb 05 22:42:52 +0000 2017, Text='Congrats to @arun_mahadevan who won an IBB travel award to present his studies on developing neurons!… https://t.co/0nn37tr9Nh'),\n",
       " Status(ID=828368849527566336, ScreenName=dmfitz424, Created=Sun Feb 05 22:24:58 +0000 2017, Text=\"I'm an #actuallivingscientist and I always #DressLikeAWoman! #MadScientist #ScienceMarch #ScienceMarchHOU https://t.co/1ifM5XbIQB\")]"
      ]
     },
     "execution_count": 30,
     "metadata": {},
     "output_type": "execute_result"
    }
   ],
   "source": [
    "# position on Rice University Dept. of Earth Science 29.719420, -95.401901\n",
    "results_withGeoRice = api.GetSearch(\n",
    "    raw_query=\"q=%23actuallivingscientist&geocode=29.719420,-95.401901,10km&result_type=recent&since=2017-02-01&count=1000\")\n",
    "results_withGeoRice"
   ]
  },
  {
   "cell_type": "code",
   "execution_count": 90,
   "metadata": {},
   "outputs": [
    {
     "data": {
      "text/plain": [
       "[Status(ID=831171766890459136, ScreenName=MBCAHouston, Created=Mon Feb 13 16:02:46 +0000 2017, Text='The latest The MBCA Houston Daily! https://t.co/b5IWEKpcd9 Thanks to @ARtvKimatni #actuallivingscientist #was17'),\n",
       " Status(ID=830221799342223361, ScreenName=InsectophileJim, Created=Sat Feb 11 01:07:56 +0000 2017, Text='RT @RickLambeth: Brother of more than one #actuallivingfarmer... I had/got to be an #actuallivingscientist instead.  Just glad there is sti…'),\n",
       " Status(ID=830172944928223232, ScreenName=RickLambeth, Created=Fri Feb 10 21:53:48 +0000 2017, Text='Brother of more than one #actuallivingfarmer... I had/got to be an #actuallivingscientist instead.  Just glad there… https://t.co/914l59Uai1'),\n",
       " Status(ID=830068240059600901, ScreenName=karashosho01, Created=Fri Feb 10 14:57:45 +0000 2017, Text='#actuallivingscientist https://t.co/5Rcgaq43dE'),\n",
       " Status(ID=829349170150592512, ScreenName=TDGiardina, Created=Wed Feb 08 15:20:25 +0000 2017, Text=\"I'm an #ActualSocialScientist in patient safety - exploring patients' experiences of diagnostic errors. #actuallivingscientist\"),\n",
       " Status(ID=829349135509811201, ScreenName=CarlaLouisa, Created=Wed Feb 08 15:20:17 +0000 2017, Text=\"RT @DeltagrlNC: Hi I'm Angela and I'm a Microbiologist that test IV drugs for sterility. #actuallivingscientist #DressLikeAWoman https://t.…\"),\n",
       " Status(ID=829104435783729153, ScreenName=InsectophileJim, Created=Tue Feb 07 23:07:56 +0000 2017, Text=\"RT @KathAGar: Hi, I'm Kathleen. I'm an #actuallivingscientist who studies ways that coastal communities can adapt to rising sea level and c…\"),\n",
       " Status(ID=829026630874042371, ScreenName=KathAGar, Created=Tue Feb 07 17:58:46 +0000 2017, Text=\"Hi, I'm Kathleen. I'm an #actuallivingscientist who studies ways that coastal communities can adapt to rising sea l… https://t.co/WR9iN71xdi\"),\n",
       " Status(ID=829013505441484801, ScreenName=CarlaLouisa, Created=Tue Feb 07 17:06:36 +0000 2017, Text=\"RT @drkristymurray: I'm an #ActualLivingScientist who studies infectious pathogens. I like to #DressLikeAWoman https://t.co/BOGK1Tpapa\"),\n",
       " Status(ID=829005449123024896, ScreenName=Aiims1742, Created=Tue Feb 07 16:34:35 +0000 2017, Text='I would recommend everyone follow @ScientistTrump \\n#ActualLivingScientist https://t.co/J0nkOm6U2r'),\n",
       " Status(ID=828827425740046336, ScreenName=MichaelAlliman, Created=Tue Feb 07 04:47:11 +0000 2017, Text='The fact that most of the respondents in this thread are women restores a shred of hope in me.  #actuallivingscientist'),\n",
       " Status(ID=828700281055481857, ScreenName=momneph, Created=Mon Feb 06 20:21:58 +0000 2017, Text=\"RT @drkristymurray: I'm an #ActualLivingScientist who studies infectious pathogens. I like to #DressLikeAWoman https://t.co/BOGK1Tpapa\"),\n",
       " Status(ID=828629679959658497, ScreenName=joan_mediator, Created=Mon Feb 06 15:41:25 +0000 2017, Text=\"RT @drkristymurray: I'm an #ActualLivingScientist who studies infectious pathogens. I like to #DressLikeAWoman https://t.co/BOGK1Tpapa\"),\n",
       " Status(ID=828628126452301824, ScreenName=DavidFisman, Created=Mon Feb 06 15:35:15 +0000 2017, Text=\"RT @drkristymurray: I'm an #ActualLivingScientist who studies infectious pathogens. I like to #DressLikeAWoman https://t.co/BOGK1Tpapa\"),\n",
       " Status(ID=828627918083481600, ScreenName=DiagnosticChick, Created=Mon Feb 06 15:34:25 +0000 2017, Text=\"RT @drkristymurray: I'm an #ActualLivingScientist who studies infectious pathogens. I like to #DressLikeAWoman https://t.co/BOGK1Tpapa\"),\n",
       " Status(ID=828385188677816320, ScreenName=BCM_TropMed, Created=Sun Feb 05 23:29:54 +0000 2017, Text=\"RT @drkristymurray: I'm an #ActualLivingScientist who studies infectious pathogens. I like to #DressLikeAWoman https://t.co/BOGK1Tpapa\"),\n",
       " Status(ID=828373352205185025, ScreenName=QutubLab, Created=Sun Feb 05 22:42:52 +0000 2017, Text='Congrats to @arun_mahadevan who won an IBB travel award to present his studies on developing neurons!… https://t.co/0nn37tr9Nh'),\n",
       " Status(ID=828368849527566336, ScreenName=dmfitz424, Created=Sun Feb 05 22:24:58 +0000 2017, Text=\"I'm an #actuallivingscientist and I always #DressLikeAWoman! #MadScientist #ScienceMarch #ScienceMarchHOU https://t.co/1ifM5XbIQB\")]"
      ]
     },
     "execution_count": 90,
     "metadata": {},
     "output_type": "execute_result"
    }
   ],
   "source": [
    "# position on Rice University Dept. of Earth Science 29.719420, -95.401901\n",
    "results_withGeoRice = api.GetSearch(\n",
    "    raw_query=\"q=%23actuallivingscientist&geocode=29.719420,-95.401901,10km&result_type=recent&since=2017-02-01&count=1000\")\n",
    "results_withGeoRice"
   ]
  },
  {
   "cell_type": "markdown",
   "metadata": {},
   "source": [
    "### A function that takes the north, south, west, and east limts and divides them into sections of 10 producing 100 points"
   ]
  },
  {
   "cell_type": "code",
   "execution_count": 30,
   "metadata": {
    "collapsed": true
   },
   "outputs": [],
   "source": [
    "# got a mapping of zip codes to lat long in csv format from here, had to save in UTF-8 format\n",
    "# http://www.unitedstateszipcodes.org/zip-code-database/ saved as zip_code_database.csv"
   ]
  },
  {
   "cell_type": "markdown",
   "metadata": {},
   "source": [
    " 30°15'6.44\"N   96° 5'17.13\"W\n",
    "  29°16'56.13\"N  95°57'46.47\"W\n",
    "   29°21'28.30\"N   94°38'24.37\"W\n",
    "    30°26'55.88\"N   94°48'6.63\"W\n",
    "    \n",
    "    north limit = 30°26'55.88      30.44885556\n",
    "    south limit = 29°16'56.13\"N     29.28225833\n",
    "    west limit = 96° 5'17.13\"W     -96.08805556\n",
    "    east limit = 94°38'24.37\"W     -94.64000000"
   ]
  },
  {
   "cell_type": "code",
   "execution_count": null,
   "metadata": {
    "collapsed": true
   },
   "outputs": [],
   "source": [
    "# finds distance between north and south and then west and east limits\n",
    "# divides the distance above by 10 to find an increment size\n",
    "# starts at the northwest most point and increments eastward by the given increment size for 10 units, saves as list\n",
    "# starts at the northwest most point and increments southward by the given increment size for 10 units, saves it as a list\n",
    "# start new blank list\n",
    "# for each in first list and each in second list combine to make new list of [{\"lat\",\"long\"},{\"lat\",\"long\"},{\"lat\",\"long\"},{\"lat\",\"long\"}]"
   ]
  },
  {
   "cell_type": "markdown",
   "metadata": {},
   "source": [
    "### Instead, I decided to do it based on zip codes as maybe people can relate to them more?"
   ]
  },
  {
   "cell_type": "code",
   "execution_count": 32,
   "metadata": {},
   "outputs": [],
   "source": [
    "# list of Houston zip codes from : https://www.maxleaman.com/mortgage-resources/texas-zip-code-maps/houston-zip-code-map\n",
    "HoustonZipCodes = [77001, 77002, 77003, 77004, 77005, 77006, 77007, 77008, 77009, 77010, 77011, 77012, 77013, 77014, 77015, 77016, 77017, 77018, 77019, 77020, 77021, 77022, 77023, 77024, 77025, 77026, 77027, 77028, 77029, 77030, 77031, 77032, 77033, 77034, 77035, 77036, 77037, 77038, 77039, 77040, 77041, 77042, 77043, 77044, 77045, 77046, 77047, 77048, 77049, 77050, 77051, 77052, 77053, 77054, 77055, 77056, 77057, 77058, 77059, 77060, 77061, 77062, 77063, 77064, 77065, 77066, 77067, 77068, 77069, 77070, 77071, 77072, 77073, 77074, 77075, 77076, 77077, 77078, 77079, 77080, 77081, 77082, 77083, 77084, 77085, 77086, 77087, 77088, 77089, 77090, 77091, 77092, 77093, 77094, 77095, 77096, 77097, 77098, 77099, 77201, 77202, 77203, 77204, 77205, 77206, 77207, 77208, 77209, 77210, 77212, 77213, 77215, 77216, 77217, 77218, 77219, 77220, 77221, 77222, 77223, 77224, 77225, 77226, 77227, 77228, 77229, 77230, 77231, 77233, 77234, 77235, 77236, 77237, 77238, 77240, 77241, 77242, 77243, 77244, 77245, 77248, 77249, 77251, 77252, 77253, 77254, 77255, 77256, 77257, 77258, 77259, 77261, 77262, 77263, 77265, 77266, 77267, 77268, 77269, 77270, 77271, 77272, 77273, 77274, 77275, 77277, 77279, 77280, 77281, 77282, 77284, 77287, 77288, 77289, 77290, 77291, 77292, 77293, 77297, 77298, 77299]\n"
   ]
  },
  {
   "cell_type": "code",
   "execution_count": 102,
   "metadata": {},
   "outputs": [
    {
     "data": {
      "text/html": [
       "<div>\n",
       "<table border=\"1\" class=\"dataframe\">\n",
       "  <thead>\n",
       "    <tr style=\"text-align: right;\">\n",
       "      <th></th>\n",
       "      <th>irs_estimated_population_2014</th>\n",
       "      <th>latitude</th>\n",
       "      <th>longitude</th>\n",
       "      <th>zip</th>\n",
       "    </tr>\n",
       "  </thead>\n",
       "  <tbody>\n",
       "    <tr>\n",
       "      <th>count</th>\n",
       "      <td>1745.000000</td>\n",
       "      <td>1745.000000</td>\n",
       "      <td>1745.000000</td>\n",
       "      <td>1745.000000</td>\n",
       "    </tr>\n",
       "    <tr>\n",
       "      <th>mean</th>\n",
       "      <td>13796.088825</td>\n",
       "      <td>31.320625</td>\n",
       "      <td>-97.713444</td>\n",
       "      <td>77336.329513</td>\n",
       "    </tr>\n",
       "    <tr>\n",
       "      <th>std</th>\n",
       "      <td>16683.326818</td>\n",
       "      <td>1.966935</td>\n",
       "      <td>2.413699</td>\n",
       "      <td>1415.797983</td>\n",
       "    </tr>\n",
       "    <tr>\n",
       "      <th>min</th>\n",
       "      <td>0.000000</td>\n",
       "      <td>25.920000</td>\n",
       "      <td>-106.610000</td>\n",
       "      <td>75001.000000</td>\n",
       "    </tr>\n",
       "    <tr>\n",
       "      <th>25%</th>\n",
       "      <td>1320.000000</td>\n",
       "      <td>29.800000</td>\n",
       "      <td>-98.670000</td>\n",
       "      <td>76092.000000</td>\n",
       "    </tr>\n",
       "    <tr>\n",
       "      <th>50%</th>\n",
       "      <td>6570.000000</td>\n",
       "      <td>31.510000</td>\n",
       "      <td>-97.330000</td>\n",
       "      <td>77359.000000</td>\n",
       "    </tr>\n",
       "    <tr>\n",
       "      <th>75%</th>\n",
       "      <td>22050.000000</td>\n",
       "      <td>32.830000</td>\n",
       "      <td>-95.880000</td>\n",
       "      <td>78584.000000</td>\n",
       "    </tr>\n",
       "    <tr>\n",
       "      <th>max</th>\n",
       "      <td>105950.000000</td>\n",
       "      <td>36.450000</td>\n",
       "      <td>-93.660000</td>\n",
       "      <td>79938.000000</td>\n",
       "    </tr>\n",
       "  </tbody>\n",
       "</table>\n",
       "</div>"
      ],
      "text/plain": [
       "       irs_estimated_population_2014     latitude    longitude           zip\n",
       "count                    1745.000000  1745.000000  1745.000000   1745.000000\n",
       "mean                    13796.088825    31.320625   -97.713444  77336.329513\n",
       "std                     16683.326818     1.966935     2.413699   1415.797983\n",
       "min                         0.000000    25.920000  -106.610000  75001.000000\n",
       "25%                      1320.000000    29.800000   -98.670000  76092.000000\n",
       "50%                      6570.000000    31.510000   -97.330000  77359.000000\n",
       "75%                     22050.000000    32.830000   -95.880000  78584.000000\n",
       "max                    105950.000000    36.450000   -93.660000  79938.000000"
      ]
     },
     "execution_count": 102,
     "metadata": {},
     "output_type": "execute_result"
    }
   ],
   "source": [
    "texas_zip = pd.read_json('TexasZipCodes_StandardOnly.json')\n",
    "texas_zip.describe()"
   ]
  },
  {
   "cell_type": "markdown",
   "metadata": {},
   "source": [
    "Filtering the larger list of texas zip codes to only the ones near Houston and not post office boxes"
   ]
  },
  {
   "cell_type": "code",
   "execution_count": 103,
   "metadata": {},
   "outputs": [],
   "source": [
    "GreaterHouston_Zip = texas_zip.loc[texas_zip['zip'].isin(HoustonZipCodes)]"
   ]
  },
  {
   "cell_type": "code",
   "execution_count": 104,
   "metadata": {},
   "outputs": [
    {
     "data": {
      "text/html": [
       "<div>\n",
       "<table border=\"1\" class=\"dataframe\">\n",
       "  <thead>\n",
       "    <tr style=\"text-align: right;\">\n",
       "      <th></th>\n",
       "      <th>irs_estimated_population_2014</th>\n",
       "      <th>latitude</th>\n",
       "      <th>longitude</th>\n",
       "      <th>zip</th>\n",
       "    </tr>\n",
       "  </thead>\n",
       "  <tbody>\n",
       "    <tr>\n",
       "      <th>count</th>\n",
       "      <td>98.000000</td>\n",
       "      <td>98.000000</td>\n",
       "      <td>98.000000</td>\n",
       "      <td>98.000000</td>\n",
       "    </tr>\n",
       "    <tr>\n",
       "      <th>mean</th>\n",
       "      <td>28525.510204</td>\n",
       "      <td>29.775510</td>\n",
       "      <td>-95.413367</td>\n",
       "      <td>77052.020408</td>\n",
       "    </tr>\n",
       "    <tr>\n",
       "      <th>std</th>\n",
       "      <td>15952.102219</td>\n",
       "      <td>0.112067</td>\n",
       "      <td>0.129391</td>\n",
       "      <td>32.243589</td>\n",
       "    </tr>\n",
       "    <tr>\n",
       "      <th>min</th>\n",
       "      <td>0.000000</td>\n",
       "      <td>29.560000</td>\n",
       "      <td>-95.680000</td>\n",
       "      <td>77002.000000</td>\n",
       "    </tr>\n",
       "    <tr>\n",
       "      <th>25%</th>\n",
       "      <td>17112.500000</td>\n",
       "      <td>29.692500</td>\n",
       "      <td>-95.497500</td>\n",
       "      <td>77026.250000</td>\n",
       "    </tr>\n",
       "    <tr>\n",
       "      <th>50%</th>\n",
       "      <td>27670.000000</td>\n",
       "      <td>29.760000</td>\n",
       "      <td>-95.420000</td>\n",
       "      <td>77050.500000</td>\n",
       "    </tr>\n",
       "    <tr>\n",
       "      <th>75%</th>\n",
       "      <td>35410.000000</td>\n",
       "      <td>29.857500</td>\n",
       "      <td>-95.340000</td>\n",
       "      <td>77075.750000</td>\n",
       "    </tr>\n",
       "    <tr>\n",
       "      <th>max</th>\n",
       "      <td>98370.000000</td>\n",
       "      <td>30.010000</td>\n",
       "      <td>-95.100000</td>\n",
       "      <td>77201.000000</td>\n",
       "    </tr>\n",
       "  </tbody>\n",
       "</table>\n",
       "</div>"
      ],
      "text/plain": [
       "       irs_estimated_population_2014   latitude  longitude           zip\n",
       "count                      98.000000  98.000000  98.000000     98.000000\n",
       "mean                    28525.510204  29.775510 -95.413367  77052.020408\n",
       "std                     15952.102219   0.112067   0.129391     32.243589\n",
       "min                         0.000000  29.560000 -95.680000  77002.000000\n",
       "25%                     17112.500000  29.692500 -95.497500  77026.250000\n",
       "50%                     27670.000000  29.760000 -95.420000  77050.500000\n",
       "75%                     35410.000000  29.857500 -95.340000  77075.750000\n",
       "max                     98370.000000  30.010000 -95.100000  77201.000000"
      ]
     },
     "execution_count": 104,
     "metadata": {},
     "output_type": "execute_result"
    }
   ],
   "source": [
    "GreaterHouston_Zip.describe()"
   ]
  },
  {
   "cell_type": "code",
   "execution_count": 85,
   "metadata": {
    "scrolled": false
   },
   "outputs": [],
   "source": [
    "arrayOfTweetsByLoc = []\n",
    "for index, row in GreaterHouston_Zip.iterrows():\n",
    "    #print(\"row is\",row)\n",
    "    #print(\"lat is\",row['latitude'])\n",
    "    lat = row['latitude']\n",
    "    long = row['longitude']\n",
    "    #print(\"lat is \",row['latitude'],\" and long is \",row['longitude'])\n",
    "    #results_forEach = api.GetSearch(raw_query=\"q=%23actuallivingscientist&geocode=29.719420,-95.401901,10km&result_type=recent&since=2017-02-01&count=1000\")\n",
    "    arrayOfTweetsByLoc.append({\"location\":[lat,long],\"tweets\":\"placeholder\"}) \n",
    "    #arrayOfTweetsByLoc.append({\"location\":[lat,long],\"tweets\":results_forEach}) \n",
    "### works!\n",
    "#arrayOfTweetsByLoc"
   ]
  },
  {
   "cell_type": "code",
   "execution_count": 86,
   "metadata": {},
   "outputs": [
    {
     "name": "stdout",
     "output_type": "stream",
     "text": [
      "q=%23actuallivingscientist&geocode=5.2,8.4,4km&result_type=recent&since=2017-02-13&count=50\n"
     ]
    }
   ],
   "source": [
    "latT = 5.2\n",
    "longT = 8.4\n",
    "print(\"q=%23actuallivingscientist&geocode={},{},4km&result_type=recent&since=2017-02-13&count=50\".format(latT,longT))"
   ]
  },
  {
   "cell_type": "code",
   "execution_count": 95,
   "metadata": {},
   "outputs": [
    {
     "data": {
      "text/plain": [
       "[{'location': [29.76, -95.37],\n",
       "  'tweets': [Status(ID=831171766890459136, ScreenName=MBCAHouston, Created=Mon Feb 13 16:02:46 +0000 2017, Text='The latest The MBCA Houston Daily! https://t.co/b5IWEKpcd9 Thanks to @ARtvKimatni #actuallivingscientist #was17')]},\n",
       " {'location': [29.75, -95.35],\n",
       "  'tweets': [Status(ID=831171766890459136, ScreenName=MBCAHouston, Created=Mon Feb 13 16:02:46 +0000 2017, Text='The latest The MBCA Houston Daily! https://t.co/b5IWEKpcd9 Thanks to @ARtvKimatni #actuallivingscientist #was17')]},\n",
       " {'location': [29.72, -95.36],\n",
       "  'tweets': [Status(ID=831171766890459136, ScreenName=MBCAHouston, Created=Mon Feb 13 16:02:46 +0000 2017, Text='The latest The MBCA Houston Daily! https://t.co/b5IWEKpcd9 Thanks to @ARtvKimatni #actuallivingscientist #was17')]},\n",
       " {'location': [29.72, -95.42],\n",
       "  'tweets': [Status(ID=831171766890459136, ScreenName=MBCAHouston, Created=Mon Feb 13 16:02:46 +0000 2017, Text='The latest The MBCA Houston Daily! https://t.co/b5IWEKpcd9 Thanks to @ARtvKimatni #actuallivingscientist #was17')]},\n",
       " {'location': [29.74, -95.39],\n",
       "  'tweets': [Status(ID=831171766890459136, ScreenName=MBCAHouston, Created=Mon Feb 13 16:02:46 +0000 2017, Text='The latest The MBCA Houston Daily! https://t.co/b5IWEKpcd9 Thanks to @ARtvKimatni #actuallivingscientist #was17')]},\n",
       " {'location': [29.77, -95.41],\n",
       "  'tweets': [Status(ID=831171766890459136, ScreenName=MBCAHouston, Created=Mon Feb 13 16:02:46 +0000 2017, Text='The latest The MBCA Houston Daily! https://t.co/b5IWEKpcd9 Thanks to @ARtvKimatni #actuallivingscientist #was17')]},\n",
       " {'location': [29.8, -95.42],\n",
       "  'tweets': [Status(ID=831171766890459136, ScreenName=MBCAHouston, Created=Mon Feb 13 16:02:46 +0000 2017, Text='The latest The MBCA Houston Daily! https://t.co/b5IWEKpcd9 Thanks to @ARtvKimatni #actuallivingscientist #was17')]},\n",
       " {'location': [29.8, -95.37],\n",
       "  'tweets': [Status(ID=831171766890459136, ScreenName=MBCAHouston, Created=Mon Feb 13 16:02:46 +0000 2017, Text='The latest The MBCA Houston Daily! https://t.co/b5IWEKpcd9 Thanks to @ARtvKimatni #actuallivingscientist #was17')]},\n",
       " {'location': [29.75, -95.36],\n",
       "  'tweets': [Status(ID=831171766890459136, ScreenName=MBCAHouston, Created=Mon Feb 13 16:02:46 +0000 2017, Text='The latest The MBCA Houston Daily! https://t.co/b5IWEKpcd9 Thanks to @ARtvKimatni #actuallivingscientist #was17')]},\n",
       " {'location': [29.74, -95.31],\n",
       "  'tweets': [Status(ID=831171766890459136, ScreenName=MBCAHouston, Created=Mon Feb 13 16:02:46 +0000 2017, Text='The latest The MBCA Houston Daily! https://t.co/b5IWEKpcd9 Thanks to @ARtvKimatni #actuallivingscientist #was17')]},\n",
       " {'location': [29.72, -95.27],\n",
       "  'tweets': [Status(ID=831171766890459136, ScreenName=MBCAHouston, Created=Mon Feb 13 16:02:46 +0000 2017, Text='The latest The MBCA Houston Daily! https://t.co/b5IWEKpcd9 Thanks to @ARtvKimatni #actuallivingscientist #was17')]},\n",
       " {'location': [29.79, -95.23],\n",
       "  'tweets': [Status(ID=831171766890459136, ScreenName=MBCAHouston, Created=Mon Feb 13 16:02:46 +0000 2017, Text='The latest The MBCA Houston Daily! https://t.co/b5IWEKpcd9 Thanks to @ARtvKimatni #actuallivingscientist #was17')]},\n",
       " {'location': [29.98, -95.46], 'tweets': []},\n",
       " {'location': [29.76, -95.17], 'tweets': []},\n",
       " {'location': [29.86, -95.3], 'tweets': []},\n",
       " {'location': [29.69, -95.25], 'tweets': []},\n",
       " {'location': [29.83, -95.43],\n",
       "  'tweets': [Status(ID=831171766890459136, ScreenName=MBCAHouston, Created=Mon Feb 13 16:02:46 +0000 2017, Text='The latest The MBCA Houston Daily! https://t.co/b5IWEKpcd9 Thanks to @ARtvKimatni #actuallivingscientist #was17')]},\n",
       " {'location': [29.76, -95.38],\n",
       "  'tweets': [Status(ID=831171766890459136, ScreenName=MBCAHouston, Created=Mon Feb 13 16:02:46 +0000 2017, Text='The latest The MBCA Houston Daily! https://t.co/b5IWEKpcd9 Thanks to @ARtvKimatni #actuallivingscientist #was17')]},\n",
       " {'location': [29.77, -95.31],\n",
       "  'tweets': [Status(ID=831171766890459136, ScreenName=MBCAHouston, Created=Mon Feb 13 16:02:46 +0000 2017, Text='The latest The MBCA Houston Daily! https://t.co/b5IWEKpcd9 Thanks to @ARtvKimatni #actuallivingscientist #was17')]},\n",
       " {'location': [29.7, -95.36],\n",
       "  'tweets': [Status(ID=831171766890459136, ScreenName=MBCAHouston, Created=Mon Feb 13 16:02:46 +0000 2017, Text='The latest The MBCA Houston Daily! https://t.co/b5IWEKpcd9 Thanks to @ARtvKimatni #actuallivingscientist #was17')]},\n",
       " {'location': [29.83, -95.38],\n",
       "  'tweets': [Status(ID=831171766890459136, ScreenName=MBCAHouston, Created=Mon Feb 13 16:02:46 +0000 2017, Text='The latest The MBCA Houston Daily! https://t.co/b5IWEKpcd9 Thanks to @ARtvKimatni #actuallivingscientist #was17')]},\n",
       " {'location': [29.72, -95.32],\n",
       "  'tweets': [Status(ID=831171766890459136, ScreenName=MBCAHouston, Created=Mon Feb 13 16:02:46 +0000 2017, Text='The latest The MBCA Houston Daily! https://t.co/b5IWEKpcd9 Thanks to @ARtvKimatni #actuallivingscientist #was17')]},\n",
       " {'location': [29.77, -95.51],\n",
       "  'tweets': [Status(ID=831171766890459136, ScreenName=MBCAHouston, Created=Mon Feb 13 16:02:46 +0000 2017, Text='The latest The MBCA Houston Daily! https://t.co/b5IWEKpcd9 Thanks to @ARtvKimatni #actuallivingscientist #was17')]},\n",
       " {'location': [29.69, -95.43],\n",
       "  'tweets': [Status(ID=831171766890459136, ScreenName=MBCAHouston, Created=Mon Feb 13 16:02:46 +0000 2017, Text='The latest The MBCA Houston Daily! https://t.co/b5IWEKpcd9 Thanks to @ARtvKimatni #actuallivingscientist #was17')]},\n",
       " {'location': [29.8, -95.33],\n",
       "  'tweets': [Status(ID=831171766890459136, ScreenName=MBCAHouston, Created=Mon Feb 13 16:02:46 +0000 2017, Text='The latest The MBCA Houston Daily! https://t.co/b5IWEKpcd9 Thanks to @ARtvKimatni #actuallivingscientist #was17')]},\n",
       " {'location': [29.74, -95.45],\n",
       "  'tweets': [Status(ID=831171766890459136, ScreenName=MBCAHouston, Created=Mon Feb 13 16:02:46 +0000 2017, Text='The latest The MBCA Houston Daily! https://t.co/b5IWEKpcd9 Thanks to @ARtvKimatni #actuallivingscientist #was17')]},\n",
       " {'location': [29.83, -95.29],\n",
       "  'tweets': [Status(ID=831171766890459136, ScreenName=MBCAHouston, Created=Mon Feb 13 16:02:46 +0000 2017, Text='The latest The MBCA Houston Daily! https://t.co/b5IWEKpcd9 Thanks to @ARtvKimatni #actuallivingscientist #was17')]},\n",
       " {'location': [29.76, -95.26],\n",
       "  'tweets': [Status(ID=831171766890459136, ScreenName=MBCAHouston, Created=Mon Feb 13 16:02:46 +0000 2017, Text='The latest The MBCA Houston Daily! https://t.co/b5IWEKpcd9 Thanks to @ARtvKimatni #actuallivingscientist #was17')]},\n",
       " {'location': [29.71, -95.4],\n",
       "  'tweets': [Status(ID=831171766890459136, ScreenName=MBCAHouston, Created=Mon Feb 13 16:02:46 +0000 2017, Text='The latest The MBCA Houston Daily! https://t.co/b5IWEKpcd9 Thanks to @ARtvKimatni #actuallivingscientist #was17')]},\n",
       " {'location': [29.65, -95.55], 'tweets': []},\n",
       " {'location': [29.99, -95.35], 'tweets': []},\n",
       " {'location': [29.67, -95.34], 'tweets': []},\n",
       " {'location': [29.62, -95.19], 'tweets': []},\n",
       " {'location': [29.65, -95.48], 'tweets': []},\n",
       " {'location': [29.7, -95.53], 'tweets': []},\n",
       " {'location': [29.89, -95.39], 'tweets': []},\n",
       " {'location': [29.92, -95.44], 'tweets': []},\n",
       " {'location': [29.91, -95.34], 'tweets': []},\n",
       " {'location': [29.87, -95.53], 'tweets': []},\n",
       " {'location': [29.86, -95.58], 'tweets': []},\n",
       " {'location': [29.74, -95.56], 'tweets': []},\n",
       " {'location': [29.81, -95.58], 'tweets': []},\n",
       " {'location': [29.91, -95.18], 'tweets': []},\n",
       " {'location': [29.64, -95.43], 'tweets': []},\n",
       " {'location': [29.73, -95.43],\n",
       "  'tweets': [Status(ID=831171766890459136, ScreenName=MBCAHouston, Created=Mon Feb 13 16:02:46 +0000 2017, Text='The latest The MBCA Houston Daily! https://t.co/b5IWEKpcd9 Thanks to @ARtvKimatni #actuallivingscientist #was17')]},\n",
       " {'location': [29.61, -95.39], 'tweets': []},\n",
       " {'location': [29.62, -95.32], 'tweets': []},\n",
       " {'location': [29.83, -95.15], 'tweets': []},\n",
       " {'location': [29.9, -95.27], 'tweets': []},\n",
       " {'location': [29.66, -95.38], 'tweets': []},\n",
       " {'location': [29.58, -95.46], 'tweets': []},\n",
       " {'location': [29.68, -95.4],\n",
       "  'tweets': [Status(ID=831171766890459136, ScreenName=MBCAHouston, Created=Mon Feb 13 16:02:46 +0000 2017, Text='The latest The MBCA Houston Daily! https://t.co/b5IWEKpcd9 Thanks to @ARtvKimatni #actuallivingscientist #was17')]},\n",
       " {'location': [29.8, -95.49],\n",
       "  'tweets': [Status(ID=831171766890459136, ScreenName=MBCAHouston, Created=Mon Feb 13 16:02:46 +0000 2017, Text='The latest The MBCA Houston Daily! https://t.co/b5IWEKpcd9 Thanks to @ARtvKimatni #actuallivingscientist #was17')]},\n",
       " {'location': [29.75, -95.47],\n",
       "  'tweets': [Status(ID=831171766890459136, ScreenName=MBCAHouston, Created=Mon Feb 13 16:02:46 +0000 2017, Text='The latest The MBCA Houston Daily! https://t.co/b5IWEKpcd9 Thanks to @ARtvKimatni #actuallivingscientist #was17')]},\n",
       " {'location': [29.74, -95.49],\n",
       "  'tweets': [Status(ID=831171766890459136, ScreenName=MBCAHouston, Created=Mon Feb 13 16:02:46 +0000 2017, Text='The latest The MBCA Houston Daily! https://t.co/b5IWEKpcd9 Thanks to @ARtvKimatni #actuallivingscientist #was17')]},\n",
       " {'location': [29.56, -95.1], 'tweets': []},\n",
       " {'location': [29.61, -95.12], 'tweets': []},\n",
       " {'location': [29.93, -95.39], 'tweets': []},\n",
       " {'location': [29.65, -95.28], 'tweets': []},\n",
       " {'location': [29.57, -95.13], 'tweets': []},\n",
       " {'location': [29.74, -95.52],\n",
       "  'tweets': [Status(ID=831171766890459136, ScreenName=MBCAHouston, Created=Mon Feb 13 16:02:46 +0000 2017, Text='The latest The MBCA Houston Daily! https://t.co/b5IWEKpcd9 Thanks to @ARtvKimatni #actuallivingscientist #was17')]},\n",
       " {'location': [29.92, -95.54], 'tweets': []},\n",
       " {'location': [29.93, -95.6], 'tweets': []},\n",
       " {'location': [29.96, -95.5], 'tweets': []},\n",
       " {'location': [29.95, -95.45], 'tweets': []},\n",
       " {'location': [30.01, -95.49], 'tweets': []},\n",
       " {'location': [29.99, -95.53], 'tweets': []},\n",
       " {'location': [29.98, -95.57], 'tweets': []},\n",
       " {'location': [29.65, -95.52], 'tweets': []},\n",
       " {'location': [29.7, -95.58], 'tweets': []},\n",
       " {'location': [30.0, -95.4], 'tweets': []},\n",
       " {'location': [29.69, -95.52], 'tweets': []},\n",
       " {'location': [29.62, -95.27], 'tweets': []},\n",
       " {'location': [29.86, -95.38], 'tweets': []},\n",
       " {'location': [29.75, -95.62], 'tweets': []},\n",
       " {'location': [29.85, -95.25], 'tweets': []},\n",
       " {'location': [29.78, -95.6], 'tweets': []},\n",
       " {'location': [29.82, -95.52], 'tweets': []},\n",
       " {'location': [29.71, -95.48],\n",
       "  'tweets': [Status(ID=831171766890459136, ScreenName=MBCAHouston, Created=Mon Feb 13 16:02:46 +0000 2017, Text='The latest The MBCA Houston Daily! https://t.co/b5IWEKpcd9 Thanks to @ARtvKimatni #actuallivingscientist #was17')]},\n",
       " {'location': [29.72, -95.64], 'tweets': []},\n",
       " {'location': [29.69, -95.65], 'tweets': []},\n",
       " {'location': [29.83, -95.66], 'tweets': []},\n",
       " {'location': [29.62, -95.49], 'tweets': []},\n",
       " {'location': [29.92, -95.49], 'tweets': []},\n",
       " {'location': [29.69, -95.3],\n",
       "  'tweets': [Status(ID=831171766890459136, ScreenName=MBCAHouston, Created=Mon Feb 13 16:02:46 +0000 2017, Text='The latest The MBCA Houston Daily! https://t.co/b5IWEKpcd9 Thanks to @ARtvKimatni #actuallivingscientist #was17')]},\n",
       " {'location': [29.88, -95.45], 'tweets': []},\n",
       " {'location': [29.59, -95.23], 'tweets': []},\n",
       " {'location': [30.01, -95.44], 'tweets': []},\n",
       " {'location': [29.85, -95.44], 'tweets': []},\n",
       " {'location': [29.83, -95.47],\n",
       "  'tweets': [Status(ID=831171766890459136, ScreenName=MBCAHouston, Created=Mon Feb 13 16:02:46 +0000 2017, Text='The latest The MBCA Houston Daily! https://t.co/b5IWEKpcd9 Thanks to @ARtvKimatni #actuallivingscientist #was17')]},\n",
       " {'location': [29.86, -95.34], 'tweets': []},\n",
       " {'location': [29.77, -95.68], 'tweets': []},\n",
       " {'location': [29.91, -95.65], 'tweets': []},\n",
       " {'location': [29.68, -95.48], 'tweets': []},\n",
       " {'location': [29.76, -95.36],\n",
       "  'tweets': [Status(ID=831171766890459136, ScreenName=MBCAHouston, Created=Mon Feb 13 16:02:46 +0000 2017, Text='The latest The MBCA Houston Daily! https://t.co/b5IWEKpcd9 Thanks to @ARtvKimatni #actuallivingscientist #was17')]},\n",
       " {'location': [29.73, -95.42],\n",
       "  'tweets': [Status(ID=831171766890459136, ScreenName=MBCAHouston, Created=Mon Feb 13 16:02:46 +0000 2017, Text='The latest The MBCA Houston Daily! https://t.co/b5IWEKpcd9 Thanks to @ARtvKimatni #actuallivingscientist #was17')]},\n",
       " {'location': [29.67, -95.59], 'tweets': []},\n",
       " {'location': [29.77, -95.36],\n",
       "  'tweets': [Status(ID=831171766890459136, ScreenName=MBCAHouston, Created=Mon Feb 13 16:02:46 +0000 2017, Text='The latest The MBCA Houston Daily! https://t.co/b5IWEKpcd9 Thanks to @ARtvKimatni #actuallivingscientist #was17')]}]"
      ]
     },
     "execution_count": 95,
     "metadata": {},
     "output_type": "execute_result"
    }
   ],
   "source": [
    "arrayOfTweetsByLocat = []\n",
    "for index, row in GreaterHouston_Zip.iterrows():\n",
    "    lat = row['latitude']\n",
    "    long = row['longitude']\n",
    "    #results_forEach = api.GetSearch(raw_query=\"q=%23actuallivingscientist&geocode=29.719420,-95.401901,10km&result_type=recent&since=2017-02-01&count=1000\")\n",
    "    results_forEach = api.GetSearch(raw_query=\"q=%23actuallivingscientist&geocode={},{},10km&result_type=recent&since=2017-02-13&count=2\".format(lat,long))\n",
    "    arrayOfTweetsByLocat.append({\"location\":[lat,long],\"tweets\":results_forEach}) \n",
    "\n",
    "arrayOfTweetsByLocat"
   ]
  },
  {
   "cell_type": "code",
   "execution_count": 96,
   "metadata": {},
   "outputs": [
    {
     "data": {
      "text/plain": [
       "list"
      ]
     },
     "execution_count": 96,
     "metadata": {},
     "output_type": "execute_result"
    }
   ],
   "source": [
    "type(arrayOfTweetsByLocat)"
   ]
  },
  {
   "cell_type": "code",
   "execution_count": 99,
   "metadata": {
    "collapsed": true
   },
   "outputs": [],
   "source": [
    "thefile = open('test.txt', 'w')\n",
    "for item in arrayOfTweetsByLocat:\n",
    "  thefile.write(\"%s\\n\" % item)"
   ]
  },
  {
   "cell_type": "code",
   "execution_count": null,
   "metadata": {
    "collapsed": true
   },
   "outputs": [],
   "source": []
  },
  {
   "cell_type": "code",
   "execution_count": 106,
   "metadata": {},
   "outputs": [
    {
     "data": {
      "text/html": [
       "<div>\n",
       "<table border=\"1\" class=\"dataframe\">\n",
       "  <thead>\n",
       "    <tr style=\"text-align: right;\">\n",
       "      <th></th>\n",
       "      <th>irs_estimated_population_2014</th>\n",
       "      <th>latitude</th>\n",
       "      <th>longitude</th>\n",
       "      <th>zip</th>\n",
       "    </tr>\n",
       "  </thead>\n",
       "  <tbody>\n",
       "    <tr>\n",
       "      <th>count</th>\n",
       "      <td>98.000000</td>\n",
       "      <td>98.000000</td>\n",
       "      <td>98.000000</td>\n",
       "      <td>98.000000</td>\n",
       "    </tr>\n",
       "    <tr>\n",
       "      <th>mean</th>\n",
       "      <td>28525.510204</td>\n",
       "      <td>29.775510</td>\n",
       "      <td>-95.413367</td>\n",
       "      <td>77052.020408</td>\n",
       "    </tr>\n",
       "    <tr>\n",
       "      <th>std</th>\n",
       "      <td>15952.102219</td>\n",
       "      <td>0.112067</td>\n",
       "      <td>0.129391</td>\n",
       "      <td>32.243589</td>\n",
       "    </tr>\n",
       "    <tr>\n",
       "      <th>min</th>\n",
       "      <td>0.000000</td>\n",
       "      <td>29.560000</td>\n",
       "      <td>-95.680000</td>\n",
       "      <td>77002.000000</td>\n",
       "    </tr>\n",
       "    <tr>\n",
       "      <th>25%</th>\n",
       "      <td>17112.500000</td>\n",
       "      <td>29.692500</td>\n",
       "      <td>-95.497500</td>\n",
       "      <td>77026.250000</td>\n",
       "    </tr>\n",
       "    <tr>\n",
       "      <th>50%</th>\n",
       "      <td>27670.000000</td>\n",
       "      <td>29.760000</td>\n",
       "      <td>-95.420000</td>\n",
       "      <td>77050.500000</td>\n",
       "    </tr>\n",
       "    <tr>\n",
       "      <th>75%</th>\n",
       "      <td>35410.000000</td>\n",
       "      <td>29.857500</td>\n",
       "      <td>-95.340000</td>\n",
       "      <td>77075.750000</td>\n",
       "    </tr>\n",
       "    <tr>\n",
       "      <th>max</th>\n",
       "      <td>98370.000000</td>\n",
       "      <td>30.010000</td>\n",
       "      <td>-95.100000</td>\n",
       "      <td>77201.000000</td>\n",
       "    </tr>\n",
       "  </tbody>\n",
       "</table>\n",
       "</div>"
      ],
      "text/plain": [
       "       irs_estimated_population_2014   latitude  longitude           zip\n",
       "count                      98.000000  98.000000  98.000000     98.000000\n",
       "mean                    28525.510204  29.775510 -95.413367  77052.020408\n",
       "std                     15952.102219   0.112067   0.129391     32.243589\n",
       "min                         0.000000  29.560000 -95.680000  77002.000000\n",
       "25%                     17112.500000  29.692500 -95.497500  77026.250000\n",
       "50%                     27670.000000  29.760000 -95.420000  77050.500000\n",
       "75%                     35410.000000  29.857500 -95.340000  77075.750000\n",
       "max                     98370.000000  30.010000 -95.100000  77201.000000"
      ]
     },
     "execution_count": 106,
     "metadata": {},
     "output_type": "execute_result"
    }
   ],
   "source": [
    "GreaterHouston_Zip.describe()"
   ]
  },
  {
   "cell_type": "code",
   "execution_count": 108,
   "metadata": {},
   "outputs": [],
   "source": [
    "GreaterHouston_Zip0t14 =  GreaterHouston_Zip[0:14]\n",
    "GreaterHouston_Zip15t29 =  GreaterHouston_Zip[15:29]\n",
    "GreaterHouston_Zip30t45 =  GreaterHouston_Zip[30:45]\n",
    "GreaterHouston_Zip46t60 =  GreaterHouston_Zip[46:60]\n",
    "GreaterHouston_Zip61t74 =  GreaterHouston_Zip[61:74]\n",
    "GreaterHouston_Zip75t85 =  GreaterHouston_Zip[75:85]\n",
    "GreaterHouston_Zip86t97 =  GreaterHouston_Zip[86:97]\n",
    "\n",
    "\n",
    "\n"
   ]
  },
  {
   "cell_type": "code",
   "execution_count": 134,
   "metadata": {},
   "outputs": [
    {
     "data": {
      "text/plain": [
       "[{'location': [29.76, -95.37], 'tweets': []},\n",
       " {'location': [29.75, -95.35], 'tweets': []},\n",
       " {'location': [29.72, -95.36], 'tweets': []},\n",
       " {'location': [29.72, -95.42], 'tweets': []},\n",
       " {'location': [29.74, -95.39], 'tweets': []},\n",
       " {'location': [29.77, -95.41], 'tweets': []},\n",
       " {'location': [29.8, -95.42], 'tweets': []},\n",
       " {'location': [29.8, -95.37], 'tweets': []},\n",
       " {'location': [29.75, -95.36], 'tweets': []},\n",
       " {'location': [29.74, -95.31], 'tweets': []},\n",
       " {'location': [29.72, -95.27], 'tweets': []},\n",
       " {'location': [29.79, -95.23], 'tweets': []},\n",
       " {'location': [29.98, -95.46], 'tweets': []},\n",
       " {'location': [29.76, -95.17], 'tweets': []}]"
      ]
     },
     "execution_count": 134,
     "metadata": {},
     "output_type": "execute_result"
    }
   ],
   "source": [
    "arrayOfTweetsByLocatA1 = []\n",
    "for index, row in GreaterHouston_Zip0t14.iterrows():\n",
    "    lat = row['latitude']\n",
    "    long = row['longitude']\n",
    "    results_forEach = api.GetSearch(raw_query=\"q=%23actuallivingscientist&geocode={},{},4km&result_type=recent&since=2017-02-01&count=50\".format(lat,long))\n",
    "    arrayOfTweetsByLocatA1.append({\"location\":[lat,long],\"tweets\":results_forEach}) \n",
    "\n",
    "arrayOfTweetsByLocatA1"
   ]
  },
  {
   "cell_type": "code",
   "execution_count": 136,
   "metadata": {
    "collapsed": true
   },
   "outputs": [],
   "source": [
    "thefile_arrayOfTweetsByLocatA1 = open('GreaterHouston_Zip0t14.txt', 'w')\n",
    "for item in arrayOfTweetsByLocatA1:\n",
    "    thefile_arrayOfTweetsByLocatA1.write(\"%s\\n\" % item)"
   ]
  },
  {
   "cell_type": "markdown",
   "metadata": {},
   "source": [
    "GreaterHouston_Zip15t29"
   ]
  },
  {
   "cell_type": "code",
   "execution_count": 113,
   "metadata": {},
   "outputs": [
    {
     "data": {
      "text/plain": [
       "[{'location': [29.69, -95.25], 'tweets': []},\n",
       " {'location': [29.83, -95.43],\n",
       "  'tweets': [Status(ID=831171766890459136, ScreenName=MBCAHouston, Created=Mon Feb 13 16:02:46 +0000 2017, Text='The latest The MBCA Houston Daily! https://t.co/b5IWEKpcd9 Thanks to @ARtvKimatni #actuallivingscientist #was17'),\n",
       "   Status(ID=830221799342223361, ScreenName=InsectophileJim, Created=Sat Feb 11 01:07:56 +0000 2017, Text='RT @RickLambeth: Brother of more than one #actuallivingfarmer... I had/got to be an #actuallivingscientist instead.  Just glad there is sti…'),\n",
       "   Status(ID=830172944928223232, ScreenName=RickLambeth, Created=Fri Feb 10 21:53:48 +0000 2017, Text='Brother of more than one #actuallivingfarmer... I had/got to be an #actuallivingscientist instead.  Just glad there… https://t.co/914l59Uai1'),\n",
       "   Status(ID=830068240059600901, ScreenName=karashosho01, Created=Fri Feb 10 14:57:45 +0000 2017, Text='#actuallivingscientist https://t.co/5Rcgaq43dE'),\n",
       "   Status(ID=829349170150592512, ScreenName=TDGiardina, Created=Wed Feb 08 15:20:25 +0000 2017, Text=\"I'm an #ActualSocialScientist in patient safety - exploring patients' experiences of diagnostic errors. #actuallivingscientist\"),\n",
       "   Status(ID=829349135509811201, ScreenName=CarlaLouisa, Created=Wed Feb 08 15:20:17 +0000 2017, Text=\"RT @DeltagrlNC: Hi I'm Angela and I'm a Microbiologist that test IV drugs for sterility. #actuallivingscientist #DressLikeAWoman https://t.…\"),\n",
       "   Status(ID=829104435783729153, ScreenName=InsectophileJim, Created=Tue Feb 07 23:07:56 +0000 2017, Text=\"RT @KathAGar: Hi, I'm Kathleen. I'm an #actuallivingscientist who studies ways that coastal communities can adapt to rising sea level and c…\"),\n",
       "   Status(ID=829026630874042371, ScreenName=KathAGar, Created=Tue Feb 07 17:58:46 +0000 2017, Text=\"Hi, I'm Kathleen. I'm an #actuallivingscientist who studies ways that coastal communities can adapt to rising sea l… https://t.co/WR9iN71xdi\"),\n",
       "   Status(ID=829013505441484801, ScreenName=CarlaLouisa, Created=Tue Feb 07 17:06:36 +0000 2017, Text=\"RT @drkristymurray: I'm an #ActualLivingScientist who studies infectious pathogens. I like to #DressLikeAWoman https://t.co/BOGK1Tpapa\"),\n",
       "   Status(ID=829005449123024896, ScreenName=Aiims1742, Created=Tue Feb 07 16:34:35 +0000 2017, Text='I would recommend everyone follow @ScientistTrump \\n#ActualLivingScientist https://t.co/J0nkOm6U2r'),\n",
       "   Status(ID=828827425740046336, ScreenName=MichaelAlliman, Created=Tue Feb 07 04:47:11 +0000 2017, Text='The fact that most of the respondents in this thread are women restores a shred of hope in me.  #actuallivingscientist'),\n",
       "   Status(ID=828700281055481857, ScreenName=momneph, Created=Mon Feb 06 20:21:58 +0000 2017, Text=\"RT @drkristymurray: I'm an #ActualLivingScientist who studies infectious pathogens. I like to #DressLikeAWoman https://t.co/BOGK1Tpapa\"),\n",
       "   Status(ID=828629679959658497, ScreenName=joan_mediator, Created=Mon Feb 06 15:41:25 +0000 2017, Text=\"RT @drkristymurray: I'm an #ActualLivingScientist who studies infectious pathogens. I like to #DressLikeAWoman https://t.co/BOGK1Tpapa\"),\n",
       "   Status(ID=828628126452301824, ScreenName=DavidFisman, Created=Mon Feb 06 15:35:15 +0000 2017, Text=\"RT @drkristymurray: I'm an #ActualLivingScientist who studies infectious pathogens. I like to #DressLikeAWoman https://t.co/BOGK1Tpapa\"),\n",
       "   Status(ID=828627918083481600, ScreenName=DiagnosticChick, Created=Mon Feb 06 15:34:25 +0000 2017, Text=\"RT @drkristymurray: I'm an #ActualLivingScientist who studies infectious pathogens. I like to #DressLikeAWoman https://t.co/BOGK1Tpapa\"),\n",
       "   Status(ID=828385188677816320, ScreenName=BCM_TropMed, Created=Sun Feb 05 23:29:54 +0000 2017, Text=\"RT @drkristymurray: I'm an #ActualLivingScientist who studies infectious pathogens. I like to #DressLikeAWoman https://t.co/BOGK1Tpapa\"),\n",
       "   Status(ID=828373352205185025, ScreenName=QutubLab, Created=Sun Feb 05 22:42:52 +0000 2017, Text='Congrats to @arun_mahadevan who won an IBB travel award to present his studies on developing neurons!… https://t.co/0nn37tr9Nh'),\n",
       "   Status(ID=828368849527566336, ScreenName=dmfitz424, Created=Sun Feb 05 22:24:58 +0000 2017, Text=\"I'm an #actuallivingscientist and I always #DressLikeAWoman! #MadScientist #ScienceMarch #ScienceMarchHOU https://t.co/1ifM5XbIQB\")]},\n",
       " {'location': [29.76, -95.38],\n",
       "  'tweets': [Status(ID=831171766890459136, ScreenName=MBCAHouston, Created=Mon Feb 13 16:02:46 +0000 2017, Text='The latest The MBCA Houston Daily! https://t.co/b5IWEKpcd9 Thanks to @ARtvKimatni #actuallivingscientist #was17'),\n",
       "   Status(ID=830221799342223361, ScreenName=InsectophileJim, Created=Sat Feb 11 01:07:56 +0000 2017, Text='RT @RickLambeth: Brother of more than one #actuallivingfarmer... I had/got to be an #actuallivingscientist instead.  Just glad there is sti…'),\n",
       "   Status(ID=830172944928223232, ScreenName=RickLambeth, Created=Fri Feb 10 21:53:48 +0000 2017, Text='Brother of more than one #actuallivingfarmer... I had/got to be an #actuallivingscientist instead.  Just glad there… https://t.co/914l59Uai1'),\n",
       "   Status(ID=830068240059600901, ScreenName=karashosho01, Created=Fri Feb 10 14:57:45 +0000 2017, Text='#actuallivingscientist https://t.co/5Rcgaq43dE'),\n",
       "   Status(ID=829349170150592512, ScreenName=TDGiardina, Created=Wed Feb 08 15:20:25 +0000 2017, Text=\"I'm an #ActualSocialScientist in patient safety - exploring patients' experiences of diagnostic errors. #actuallivingscientist\"),\n",
       "   Status(ID=829349135509811201, ScreenName=CarlaLouisa, Created=Wed Feb 08 15:20:17 +0000 2017, Text=\"RT @DeltagrlNC: Hi I'm Angela and I'm a Microbiologist that test IV drugs for sterility. #actuallivingscientist #DressLikeAWoman https://t.…\"),\n",
       "   Status(ID=829104435783729153, ScreenName=InsectophileJim, Created=Tue Feb 07 23:07:56 +0000 2017, Text=\"RT @KathAGar: Hi, I'm Kathleen. I'm an #actuallivingscientist who studies ways that coastal communities can adapt to rising sea level and c…\"),\n",
       "   Status(ID=829026630874042371, ScreenName=KathAGar, Created=Tue Feb 07 17:58:46 +0000 2017, Text=\"Hi, I'm Kathleen. I'm an #actuallivingscientist who studies ways that coastal communities can adapt to rising sea l… https://t.co/WR9iN71xdi\"),\n",
       "   Status(ID=829013505441484801, ScreenName=CarlaLouisa, Created=Tue Feb 07 17:06:36 +0000 2017, Text=\"RT @drkristymurray: I'm an #ActualLivingScientist who studies infectious pathogens. I like to #DressLikeAWoman https://t.co/BOGK1Tpapa\"),\n",
       "   Status(ID=829005449123024896, ScreenName=Aiims1742, Created=Tue Feb 07 16:34:35 +0000 2017, Text='I would recommend everyone follow @ScientistTrump \\n#ActualLivingScientist https://t.co/J0nkOm6U2r'),\n",
       "   Status(ID=828827425740046336, ScreenName=MichaelAlliman, Created=Tue Feb 07 04:47:11 +0000 2017, Text='The fact that most of the respondents in this thread are women restores a shred of hope in me.  #actuallivingscientist'),\n",
       "   Status(ID=828700281055481857, ScreenName=momneph, Created=Mon Feb 06 20:21:58 +0000 2017, Text=\"RT @drkristymurray: I'm an #ActualLivingScientist who studies infectious pathogens. I like to #DressLikeAWoman https://t.co/BOGK1Tpapa\"),\n",
       "   Status(ID=828629679959658497, ScreenName=joan_mediator, Created=Mon Feb 06 15:41:25 +0000 2017, Text=\"RT @drkristymurray: I'm an #ActualLivingScientist who studies infectious pathogens. I like to #DressLikeAWoman https://t.co/BOGK1Tpapa\"),\n",
       "   Status(ID=828628126452301824, ScreenName=DavidFisman, Created=Mon Feb 06 15:35:15 +0000 2017, Text=\"RT @drkristymurray: I'm an #ActualLivingScientist who studies infectious pathogens. I like to #DressLikeAWoman https://t.co/BOGK1Tpapa\"),\n",
       "   Status(ID=828627918083481600, ScreenName=DiagnosticChick, Created=Mon Feb 06 15:34:25 +0000 2017, Text=\"RT @drkristymurray: I'm an #ActualLivingScientist who studies infectious pathogens. I like to #DressLikeAWoman https://t.co/BOGK1Tpapa\"),\n",
       "   Status(ID=828385188677816320, ScreenName=BCM_TropMed, Created=Sun Feb 05 23:29:54 +0000 2017, Text=\"RT @drkristymurray: I'm an #ActualLivingScientist who studies infectious pathogens. I like to #DressLikeAWoman https://t.co/BOGK1Tpapa\"),\n",
       "   Status(ID=828373352205185025, ScreenName=QutubLab, Created=Sun Feb 05 22:42:52 +0000 2017, Text='Congrats to @arun_mahadevan who won an IBB travel award to present his studies on developing neurons!… https://t.co/0nn37tr9Nh'),\n",
       "   Status(ID=828368849527566336, ScreenName=dmfitz424, Created=Sun Feb 05 22:24:58 +0000 2017, Text=\"I'm an #actuallivingscientist and I always #DressLikeAWoman! #MadScientist #ScienceMarch #ScienceMarchHOU https://t.co/1ifM5XbIQB\")]},\n",
       " {'location': [29.77, -95.31],\n",
       "  'tweets': [Status(ID=831171766890459136, ScreenName=MBCAHouston, Created=Mon Feb 13 16:02:46 +0000 2017, Text='The latest The MBCA Houston Daily! https://t.co/b5IWEKpcd9 Thanks to @ARtvKimatni #actuallivingscientist #was17'),\n",
       "   Status(ID=830221799342223361, ScreenName=InsectophileJim, Created=Sat Feb 11 01:07:56 +0000 2017, Text='RT @RickLambeth: Brother of more than one #actuallivingfarmer... I had/got to be an #actuallivingscientist instead.  Just glad there is sti…'),\n",
       "   Status(ID=830172944928223232, ScreenName=RickLambeth, Created=Fri Feb 10 21:53:48 +0000 2017, Text='Brother of more than one #actuallivingfarmer... I had/got to be an #actuallivingscientist instead.  Just glad there… https://t.co/914l59Uai1'),\n",
       "   Status(ID=830068240059600901, ScreenName=karashosho01, Created=Fri Feb 10 14:57:45 +0000 2017, Text='#actuallivingscientist https://t.co/5Rcgaq43dE'),\n",
       "   Status(ID=829349170150592512, ScreenName=TDGiardina, Created=Wed Feb 08 15:20:25 +0000 2017, Text=\"I'm an #ActualSocialScientist in patient safety - exploring patients' experiences of diagnostic errors. #actuallivingscientist\"),\n",
       "   Status(ID=829349135509811201, ScreenName=CarlaLouisa, Created=Wed Feb 08 15:20:17 +0000 2017, Text=\"RT @DeltagrlNC: Hi I'm Angela and I'm a Microbiologist that test IV drugs for sterility. #actuallivingscientist #DressLikeAWoman https://t.…\"),\n",
       "   Status(ID=829104435783729153, ScreenName=InsectophileJim, Created=Tue Feb 07 23:07:56 +0000 2017, Text=\"RT @KathAGar: Hi, I'm Kathleen. I'm an #actuallivingscientist who studies ways that coastal communities can adapt to rising sea level and c…\"),\n",
       "   Status(ID=829026630874042371, ScreenName=KathAGar, Created=Tue Feb 07 17:58:46 +0000 2017, Text=\"Hi, I'm Kathleen. I'm an #actuallivingscientist who studies ways that coastal communities can adapt to rising sea l… https://t.co/WR9iN71xdi\"),\n",
       "   Status(ID=829013505441484801, ScreenName=CarlaLouisa, Created=Tue Feb 07 17:06:36 +0000 2017, Text=\"RT @drkristymurray: I'm an #ActualLivingScientist who studies infectious pathogens. I like to #DressLikeAWoman https://t.co/BOGK1Tpapa\"),\n",
       "   Status(ID=829005449123024896, ScreenName=Aiims1742, Created=Tue Feb 07 16:34:35 +0000 2017, Text='I would recommend everyone follow @ScientistTrump \\n#ActualLivingScientist https://t.co/J0nkOm6U2r'),\n",
       "   Status(ID=828827425740046336, ScreenName=MichaelAlliman, Created=Tue Feb 07 04:47:11 +0000 2017, Text='The fact that most of the respondents in this thread are women restores a shred of hope in me.  #actuallivingscientist'),\n",
       "   Status(ID=828700281055481857, ScreenName=momneph, Created=Mon Feb 06 20:21:58 +0000 2017, Text=\"RT @drkristymurray: I'm an #ActualLivingScientist who studies infectious pathogens. I like to #DressLikeAWoman https://t.co/BOGK1Tpapa\"),\n",
       "   Status(ID=828629679959658497, ScreenName=joan_mediator, Created=Mon Feb 06 15:41:25 +0000 2017, Text=\"RT @drkristymurray: I'm an #ActualLivingScientist who studies infectious pathogens. I like to #DressLikeAWoman https://t.co/BOGK1Tpapa\"),\n",
       "   Status(ID=828628126452301824, ScreenName=DavidFisman, Created=Mon Feb 06 15:35:15 +0000 2017, Text=\"RT @drkristymurray: I'm an #ActualLivingScientist who studies infectious pathogens. I like to #DressLikeAWoman https://t.co/BOGK1Tpapa\"),\n",
       "   Status(ID=828627918083481600, ScreenName=DiagnosticChick, Created=Mon Feb 06 15:34:25 +0000 2017, Text=\"RT @drkristymurray: I'm an #ActualLivingScientist who studies infectious pathogens. I like to #DressLikeAWoman https://t.co/BOGK1Tpapa\"),\n",
       "   Status(ID=828385188677816320, ScreenName=BCM_TropMed, Created=Sun Feb 05 23:29:54 +0000 2017, Text=\"RT @drkristymurray: I'm an #ActualLivingScientist who studies infectious pathogens. I like to #DressLikeAWoman https://t.co/BOGK1Tpapa\"),\n",
       "   Status(ID=828373352205185025, ScreenName=QutubLab, Created=Sun Feb 05 22:42:52 +0000 2017, Text='Congrats to @arun_mahadevan who won an IBB travel award to present his studies on developing neurons!… https://t.co/0nn37tr9Nh'),\n",
       "   Status(ID=828368849527566336, ScreenName=dmfitz424, Created=Sun Feb 05 22:24:58 +0000 2017, Text=\"I'm an #actuallivingscientist and I always #DressLikeAWoman! #MadScientist #ScienceMarch #ScienceMarchHOU https://t.co/1ifM5XbIQB\")]},\n",
       " {'location': [29.7, -95.36],\n",
       "  'tweets': [Status(ID=831171766890459136, ScreenName=MBCAHouston, Created=Mon Feb 13 16:02:46 +0000 2017, Text='The latest The MBCA Houston Daily! https://t.co/b5IWEKpcd9 Thanks to @ARtvKimatni #actuallivingscientist #was17'),\n",
       "   Status(ID=830221799342223361, ScreenName=InsectophileJim, Created=Sat Feb 11 01:07:56 +0000 2017, Text='RT @RickLambeth: Brother of more than one #actuallivingfarmer... I had/got to be an #actuallivingscientist instead.  Just glad there is sti…'),\n",
       "   Status(ID=830172944928223232, ScreenName=RickLambeth, Created=Fri Feb 10 21:53:48 +0000 2017, Text='Brother of more than one #actuallivingfarmer... I had/got to be an #actuallivingscientist instead.  Just glad there… https://t.co/914l59Uai1'),\n",
       "   Status(ID=830068240059600901, ScreenName=karashosho01, Created=Fri Feb 10 14:57:45 +0000 2017, Text='#actuallivingscientist https://t.co/5Rcgaq43dE'),\n",
       "   Status(ID=829349170150592512, ScreenName=TDGiardina, Created=Wed Feb 08 15:20:25 +0000 2017, Text=\"I'm an #ActualSocialScientist in patient safety - exploring patients' experiences of diagnostic errors. #actuallivingscientist\"),\n",
       "   Status(ID=829349135509811201, ScreenName=CarlaLouisa, Created=Wed Feb 08 15:20:17 +0000 2017, Text=\"RT @DeltagrlNC: Hi I'm Angela and I'm a Microbiologist that test IV drugs for sterility. #actuallivingscientist #DressLikeAWoman https://t.…\"),\n",
       "   Status(ID=829104435783729153, ScreenName=InsectophileJim, Created=Tue Feb 07 23:07:56 +0000 2017, Text=\"RT @KathAGar: Hi, I'm Kathleen. I'm an #actuallivingscientist who studies ways that coastal communities can adapt to rising sea level and c…\"),\n",
       "   Status(ID=829026630874042371, ScreenName=KathAGar, Created=Tue Feb 07 17:58:46 +0000 2017, Text=\"Hi, I'm Kathleen. I'm an #actuallivingscientist who studies ways that coastal communities can adapt to rising sea l… https://t.co/WR9iN71xdi\"),\n",
       "   Status(ID=829013505441484801, ScreenName=CarlaLouisa, Created=Tue Feb 07 17:06:36 +0000 2017, Text=\"RT @drkristymurray: I'm an #ActualLivingScientist who studies infectious pathogens. I like to #DressLikeAWoman https://t.co/BOGK1Tpapa\"),\n",
       "   Status(ID=829005449123024896, ScreenName=Aiims1742, Created=Tue Feb 07 16:34:35 +0000 2017, Text='I would recommend everyone follow @ScientistTrump \\n#ActualLivingScientist https://t.co/J0nkOm6U2r'),\n",
       "   Status(ID=828827425740046336, ScreenName=MichaelAlliman, Created=Tue Feb 07 04:47:11 +0000 2017, Text='The fact that most of the respondents in this thread are women restores a shred of hope in me.  #actuallivingscientist'),\n",
       "   Status(ID=828700281055481857, ScreenName=momneph, Created=Mon Feb 06 20:21:58 +0000 2017, Text=\"RT @drkristymurray: I'm an #ActualLivingScientist who studies infectious pathogens. I like to #DressLikeAWoman https://t.co/BOGK1Tpapa\"),\n",
       "   Status(ID=828629679959658497, ScreenName=joan_mediator, Created=Mon Feb 06 15:41:25 +0000 2017, Text=\"RT @drkristymurray: I'm an #ActualLivingScientist who studies infectious pathogens. I like to #DressLikeAWoman https://t.co/BOGK1Tpapa\"),\n",
       "   Status(ID=828628126452301824, ScreenName=DavidFisman, Created=Mon Feb 06 15:35:15 +0000 2017, Text=\"RT @drkristymurray: I'm an #ActualLivingScientist who studies infectious pathogens. I like to #DressLikeAWoman https://t.co/BOGK1Tpapa\"),\n",
       "   Status(ID=828627918083481600, ScreenName=DiagnosticChick, Created=Mon Feb 06 15:34:25 +0000 2017, Text=\"RT @drkristymurray: I'm an #ActualLivingScientist who studies infectious pathogens. I like to #DressLikeAWoman https://t.co/BOGK1Tpapa\"),\n",
       "   Status(ID=828385188677816320, ScreenName=BCM_TropMed, Created=Sun Feb 05 23:29:54 +0000 2017, Text=\"RT @drkristymurray: I'm an #ActualLivingScientist who studies infectious pathogens. I like to #DressLikeAWoman https://t.co/BOGK1Tpapa\"),\n",
       "   Status(ID=828373352205185025, ScreenName=QutubLab, Created=Sun Feb 05 22:42:52 +0000 2017, Text='Congrats to @arun_mahadevan who won an IBB travel award to present his studies on developing neurons!… https://t.co/0nn37tr9Nh'),\n",
       "   Status(ID=828368849527566336, ScreenName=dmfitz424, Created=Sun Feb 05 22:24:58 +0000 2017, Text=\"I'm an #actuallivingscientist and I always #DressLikeAWoman! #MadScientist #ScienceMarch #ScienceMarchHOU https://t.co/1ifM5XbIQB\")]},\n",
       " {'location': [29.83, -95.38],\n",
       "  'tweets': [Status(ID=831171766890459136, ScreenName=MBCAHouston, Created=Mon Feb 13 16:02:46 +0000 2017, Text='The latest The MBCA Houston Daily! https://t.co/b5IWEKpcd9 Thanks to @ARtvKimatni #actuallivingscientist #was17'),\n",
       "   Status(ID=830221799342223361, ScreenName=InsectophileJim, Created=Sat Feb 11 01:07:56 +0000 2017, Text='RT @RickLambeth: Brother of more than one #actuallivingfarmer... I had/got to be an #actuallivingscientist instead.  Just glad there is sti…'),\n",
       "   Status(ID=830172944928223232, ScreenName=RickLambeth, Created=Fri Feb 10 21:53:48 +0000 2017, Text='Brother of more than one #actuallivingfarmer... I had/got to be an #actuallivingscientist instead.  Just glad there… https://t.co/914l59Uai1'),\n",
       "   Status(ID=830068240059600901, ScreenName=karashosho01, Created=Fri Feb 10 14:57:45 +0000 2017, Text='#actuallivingscientist https://t.co/5Rcgaq43dE'),\n",
       "   Status(ID=829349170150592512, ScreenName=TDGiardina, Created=Wed Feb 08 15:20:25 +0000 2017, Text=\"I'm an #ActualSocialScientist in patient safety - exploring patients' experiences of diagnostic errors. #actuallivingscientist\"),\n",
       "   Status(ID=829349135509811201, ScreenName=CarlaLouisa, Created=Wed Feb 08 15:20:17 +0000 2017, Text=\"RT @DeltagrlNC: Hi I'm Angela and I'm a Microbiologist that test IV drugs for sterility. #actuallivingscientist #DressLikeAWoman https://t.…\"),\n",
       "   Status(ID=829104435783729153, ScreenName=InsectophileJim, Created=Tue Feb 07 23:07:56 +0000 2017, Text=\"RT @KathAGar: Hi, I'm Kathleen. I'm an #actuallivingscientist who studies ways that coastal communities can adapt to rising sea level and c…\"),\n",
       "   Status(ID=829026630874042371, ScreenName=KathAGar, Created=Tue Feb 07 17:58:46 +0000 2017, Text=\"Hi, I'm Kathleen. I'm an #actuallivingscientist who studies ways that coastal communities can adapt to rising sea l… https://t.co/WR9iN71xdi\"),\n",
       "   Status(ID=829013505441484801, ScreenName=CarlaLouisa, Created=Tue Feb 07 17:06:36 +0000 2017, Text=\"RT @drkristymurray: I'm an #ActualLivingScientist who studies infectious pathogens. I like to #DressLikeAWoman https://t.co/BOGK1Tpapa\"),\n",
       "   Status(ID=829005449123024896, ScreenName=Aiims1742, Created=Tue Feb 07 16:34:35 +0000 2017, Text='I would recommend everyone follow @ScientistTrump \\n#ActualLivingScientist https://t.co/J0nkOm6U2r'),\n",
       "   Status(ID=828827425740046336, ScreenName=MichaelAlliman, Created=Tue Feb 07 04:47:11 +0000 2017, Text='The fact that most of the respondents in this thread are women restores a shred of hope in me.  #actuallivingscientist'),\n",
       "   Status(ID=828700281055481857, ScreenName=momneph, Created=Mon Feb 06 20:21:58 +0000 2017, Text=\"RT @drkristymurray: I'm an #ActualLivingScientist who studies infectious pathogens. I like to #DressLikeAWoman https://t.co/BOGK1Tpapa\"),\n",
       "   Status(ID=828629679959658497, ScreenName=joan_mediator, Created=Mon Feb 06 15:41:25 +0000 2017, Text=\"RT @drkristymurray: I'm an #ActualLivingScientist who studies infectious pathogens. I like to #DressLikeAWoman https://t.co/BOGK1Tpapa\"),\n",
       "   Status(ID=828628126452301824, ScreenName=DavidFisman, Created=Mon Feb 06 15:35:15 +0000 2017, Text=\"RT @drkristymurray: I'm an #ActualLivingScientist who studies infectious pathogens. I like to #DressLikeAWoman https://t.co/BOGK1Tpapa\"),\n",
       "   Status(ID=828627918083481600, ScreenName=DiagnosticChick, Created=Mon Feb 06 15:34:25 +0000 2017, Text=\"RT @drkristymurray: I'm an #ActualLivingScientist who studies infectious pathogens. I like to #DressLikeAWoman https://t.co/BOGK1Tpapa\"),\n",
       "   Status(ID=828385188677816320, ScreenName=BCM_TropMed, Created=Sun Feb 05 23:29:54 +0000 2017, Text=\"RT @drkristymurray: I'm an #ActualLivingScientist who studies infectious pathogens. I like to #DressLikeAWoman https://t.co/BOGK1Tpapa\"),\n",
       "   Status(ID=828373352205185025, ScreenName=QutubLab, Created=Sun Feb 05 22:42:52 +0000 2017, Text='Congrats to @arun_mahadevan who won an IBB travel award to present his studies on developing neurons!… https://t.co/0nn37tr9Nh'),\n",
       "   Status(ID=828368849527566336, ScreenName=dmfitz424, Created=Sun Feb 05 22:24:58 +0000 2017, Text=\"I'm an #actuallivingscientist and I always #DressLikeAWoman! #MadScientist #ScienceMarch #ScienceMarchHOU https://t.co/1ifM5XbIQB\")]},\n",
       " {'location': [29.72, -95.32],\n",
       "  'tweets': [Status(ID=831171766890459136, ScreenName=MBCAHouston, Created=Mon Feb 13 16:02:46 +0000 2017, Text='The latest The MBCA Houston Daily! https://t.co/b5IWEKpcd9 Thanks to @ARtvKimatni #actuallivingscientist #was17'),\n",
       "   Status(ID=830221799342223361, ScreenName=InsectophileJim, Created=Sat Feb 11 01:07:56 +0000 2017, Text='RT @RickLambeth: Brother of more than one #actuallivingfarmer... I had/got to be an #actuallivingscientist instead.  Just glad there is sti…'),\n",
       "   Status(ID=830172944928223232, ScreenName=RickLambeth, Created=Fri Feb 10 21:53:48 +0000 2017, Text='Brother of more than one #actuallivingfarmer... I had/got to be an #actuallivingscientist instead.  Just glad there… https://t.co/914l59Uai1'),\n",
       "   Status(ID=830068240059600901, ScreenName=karashosho01, Created=Fri Feb 10 14:57:45 +0000 2017, Text='#actuallivingscientist https://t.co/5Rcgaq43dE'),\n",
       "   Status(ID=829349170150592512, ScreenName=TDGiardina, Created=Wed Feb 08 15:20:25 +0000 2017, Text=\"I'm an #ActualSocialScientist in patient safety - exploring patients' experiences of diagnostic errors. #actuallivingscientist\"),\n",
       "   Status(ID=829349135509811201, ScreenName=CarlaLouisa, Created=Wed Feb 08 15:20:17 +0000 2017, Text=\"RT @DeltagrlNC: Hi I'm Angela and I'm a Microbiologist that test IV drugs for sterility. #actuallivingscientist #DressLikeAWoman https://t.…\"),\n",
       "   Status(ID=829104435783729153, ScreenName=InsectophileJim, Created=Tue Feb 07 23:07:56 +0000 2017, Text=\"RT @KathAGar: Hi, I'm Kathleen. I'm an #actuallivingscientist who studies ways that coastal communities can adapt to rising sea level and c…\"),\n",
       "   Status(ID=829026630874042371, ScreenName=KathAGar, Created=Tue Feb 07 17:58:46 +0000 2017, Text=\"Hi, I'm Kathleen. I'm an #actuallivingscientist who studies ways that coastal communities can adapt to rising sea l… https://t.co/WR9iN71xdi\"),\n",
       "   Status(ID=829013505441484801, ScreenName=CarlaLouisa, Created=Tue Feb 07 17:06:36 +0000 2017, Text=\"RT @drkristymurray: I'm an #ActualLivingScientist who studies infectious pathogens. I like to #DressLikeAWoman https://t.co/BOGK1Tpapa\"),\n",
       "   Status(ID=829005449123024896, ScreenName=Aiims1742, Created=Tue Feb 07 16:34:35 +0000 2017, Text='I would recommend everyone follow @ScientistTrump \\n#ActualLivingScientist https://t.co/J0nkOm6U2r'),\n",
       "   Status(ID=828827425740046336, ScreenName=MichaelAlliman, Created=Tue Feb 07 04:47:11 +0000 2017, Text='The fact that most of the respondents in this thread are women restores a shred of hope in me.  #actuallivingscientist'),\n",
       "   Status(ID=828700281055481857, ScreenName=momneph, Created=Mon Feb 06 20:21:58 +0000 2017, Text=\"RT @drkristymurray: I'm an #ActualLivingScientist who studies infectious pathogens. I like to #DressLikeAWoman https://t.co/BOGK1Tpapa\"),\n",
       "   Status(ID=828629679959658497, ScreenName=joan_mediator, Created=Mon Feb 06 15:41:25 +0000 2017, Text=\"RT @drkristymurray: I'm an #ActualLivingScientist who studies infectious pathogens. I like to #DressLikeAWoman https://t.co/BOGK1Tpapa\"),\n",
       "   Status(ID=828628126452301824, ScreenName=DavidFisman, Created=Mon Feb 06 15:35:15 +0000 2017, Text=\"RT @drkristymurray: I'm an #ActualLivingScientist who studies infectious pathogens. I like to #DressLikeAWoman https://t.co/BOGK1Tpapa\"),\n",
       "   Status(ID=828627918083481600, ScreenName=DiagnosticChick, Created=Mon Feb 06 15:34:25 +0000 2017, Text=\"RT @drkristymurray: I'm an #ActualLivingScientist who studies infectious pathogens. I like to #DressLikeAWoman https://t.co/BOGK1Tpapa\"),\n",
       "   Status(ID=828385188677816320, ScreenName=BCM_TropMed, Created=Sun Feb 05 23:29:54 +0000 2017, Text=\"RT @drkristymurray: I'm an #ActualLivingScientist who studies infectious pathogens. I like to #DressLikeAWoman https://t.co/BOGK1Tpapa\"),\n",
       "   Status(ID=828373352205185025, ScreenName=QutubLab, Created=Sun Feb 05 22:42:52 +0000 2017, Text='Congrats to @arun_mahadevan who won an IBB travel award to present his studies on developing neurons!… https://t.co/0nn37tr9Nh'),\n",
       "   Status(ID=828368849527566336, ScreenName=dmfitz424, Created=Sun Feb 05 22:24:58 +0000 2017, Text=\"I'm an #actuallivingscientist and I always #DressLikeAWoman! #MadScientist #ScienceMarch #ScienceMarchHOU https://t.co/1ifM5XbIQB\")]},\n",
       " {'location': [29.77, -95.51],\n",
       "  'tweets': [Status(ID=831171766890459136, ScreenName=MBCAHouston, Created=Mon Feb 13 16:02:46 +0000 2017, Text='The latest The MBCA Houston Daily! https://t.co/b5IWEKpcd9 Thanks to @ARtvKimatni #actuallivingscientist #was17'),\n",
       "   Status(ID=830221799342223361, ScreenName=InsectophileJim, Created=Sat Feb 11 01:07:56 +0000 2017, Text='RT @RickLambeth: Brother of more than one #actuallivingfarmer... I had/got to be an #actuallivingscientist instead.  Just glad there is sti…'),\n",
       "   Status(ID=830172944928223232, ScreenName=RickLambeth, Created=Fri Feb 10 21:53:48 +0000 2017, Text='Brother of more than one #actuallivingfarmer... I had/got to be an #actuallivingscientist instead.  Just glad there… https://t.co/914l59Uai1'),\n",
       "   Status(ID=830068240059600901, ScreenName=karashosho01, Created=Fri Feb 10 14:57:45 +0000 2017, Text='#actuallivingscientist https://t.co/5Rcgaq43dE'),\n",
       "   Status(ID=829349170150592512, ScreenName=TDGiardina, Created=Wed Feb 08 15:20:25 +0000 2017, Text=\"I'm an #ActualSocialScientist in patient safety - exploring patients' experiences of diagnostic errors. #actuallivingscientist\"),\n",
       "   Status(ID=829349135509811201, ScreenName=CarlaLouisa, Created=Wed Feb 08 15:20:17 +0000 2017, Text=\"RT @DeltagrlNC: Hi I'm Angela and I'm a Microbiologist that test IV drugs for sterility. #actuallivingscientist #DressLikeAWoman https://t.…\"),\n",
       "   Status(ID=829104435783729153, ScreenName=InsectophileJim, Created=Tue Feb 07 23:07:56 +0000 2017, Text=\"RT @KathAGar: Hi, I'm Kathleen. I'm an #actuallivingscientist who studies ways that coastal communities can adapt to rising sea level and c…\"),\n",
       "   Status(ID=829026630874042371, ScreenName=KathAGar, Created=Tue Feb 07 17:58:46 +0000 2017, Text=\"Hi, I'm Kathleen. I'm an #actuallivingscientist who studies ways that coastal communities can adapt to rising sea l… https://t.co/WR9iN71xdi\"),\n",
       "   Status(ID=829013505441484801, ScreenName=CarlaLouisa, Created=Tue Feb 07 17:06:36 +0000 2017, Text=\"RT @drkristymurray: I'm an #ActualLivingScientist who studies infectious pathogens. I like to #DressLikeAWoman https://t.co/BOGK1Tpapa\"),\n",
       "   Status(ID=829005449123024896, ScreenName=Aiims1742, Created=Tue Feb 07 16:34:35 +0000 2017, Text='I would recommend everyone follow @ScientistTrump \\n#ActualLivingScientist https://t.co/J0nkOm6U2r'),\n",
       "   Status(ID=828827425740046336, ScreenName=MichaelAlliman, Created=Tue Feb 07 04:47:11 +0000 2017, Text='The fact that most of the respondents in this thread are women restores a shred of hope in me.  #actuallivingscientist'),\n",
       "   Status(ID=828700281055481857, ScreenName=momneph, Created=Mon Feb 06 20:21:58 +0000 2017, Text=\"RT @drkristymurray: I'm an #ActualLivingScientist who studies infectious pathogens. I like to #DressLikeAWoman https://t.co/BOGK1Tpapa\"),\n",
       "   Status(ID=828629679959658497, ScreenName=joan_mediator, Created=Mon Feb 06 15:41:25 +0000 2017, Text=\"RT @drkristymurray: I'm an #ActualLivingScientist who studies infectious pathogens. I like to #DressLikeAWoman https://t.co/BOGK1Tpapa\"),\n",
       "   Status(ID=828628126452301824, ScreenName=DavidFisman, Created=Mon Feb 06 15:35:15 +0000 2017, Text=\"RT @drkristymurray: I'm an #ActualLivingScientist who studies infectious pathogens. I like to #DressLikeAWoman https://t.co/BOGK1Tpapa\"),\n",
       "   Status(ID=828627918083481600, ScreenName=DiagnosticChick, Created=Mon Feb 06 15:34:25 +0000 2017, Text=\"RT @drkristymurray: I'm an #ActualLivingScientist who studies infectious pathogens. I like to #DressLikeAWoman https://t.co/BOGK1Tpapa\"),\n",
       "   Status(ID=828385188677816320, ScreenName=BCM_TropMed, Created=Sun Feb 05 23:29:54 +0000 2017, Text=\"RT @drkristymurray: I'm an #ActualLivingScientist who studies infectious pathogens. I like to #DressLikeAWoman https://t.co/BOGK1Tpapa\"),\n",
       "   Status(ID=828373352205185025, ScreenName=QutubLab, Created=Sun Feb 05 22:42:52 +0000 2017, Text='Congrats to @arun_mahadevan who won an IBB travel award to present his studies on developing neurons!… https://t.co/0nn37tr9Nh'),\n",
       "   Status(ID=828368849527566336, ScreenName=dmfitz424, Created=Sun Feb 05 22:24:58 +0000 2017, Text=\"I'm an #actuallivingscientist and I always #DressLikeAWoman! #MadScientist #ScienceMarch #ScienceMarchHOU https://t.co/1ifM5XbIQB\")]},\n",
       " {'location': [29.69, -95.43],\n",
       "  'tweets': [Status(ID=831171766890459136, ScreenName=MBCAHouston, Created=Mon Feb 13 16:02:46 +0000 2017, Text='The latest The MBCA Houston Daily! https://t.co/b5IWEKpcd9 Thanks to @ARtvKimatni #actuallivingscientist #was17'),\n",
       "   Status(ID=830221799342223361, ScreenName=InsectophileJim, Created=Sat Feb 11 01:07:56 +0000 2017, Text='RT @RickLambeth: Brother of more than one #actuallivingfarmer... I had/got to be an #actuallivingscientist instead.  Just glad there is sti…'),\n",
       "   Status(ID=830172944928223232, ScreenName=RickLambeth, Created=Fri Feb 10 21:53:48 +0000 2017, Text='Brother of more than one #actuallivingfarmer... I had/got to be an #actuallivingscientist instead.  Just glad there… https://t.co/914l59Uai1'),\n",
       "   Status(ID=830068240059600901, ScreenName=karashosho01, Created=Fri Feb 10 14:57:45 +0000 2017, Text='#actuallivingscientist https://t.co/5Rcgaq43dE'),\n",
       "   Status(ID=829349170150592512, ScreenName=TDGiardina, Created=Wed Feb 08 15:20:25 +0000 2017, Text=\"I'm an #ActualSocialScientist in patient safety - exploring patients' experiences of diagnostic errors. #actuallivingscientist\"),\n",
       "   Status(ID=829349135509811201, ScreenName=CarlaLouisa, Created=Wed Feb 08 15:20:17 +0000 2017, Text=\"RT @DeltagrlNC: Hi I'm Angela and I'm a Microbiologist that test IV drugs for sterility. #actuallivingscientist #DressLikeAWoman https://t.…\"),\n",
       "   Status(ID=829104435783729153, ScreenName=InsectophileJim, Created=Tue Feb 07 23:07:56 +0000 2017, Text=\"RT @KathAGar: Hi, I'm Kathleen. I'm an #actuallivingscientist who studies ways that coastal communities can adapt to rising sea level and c…\"),\n",
       "   Status(ID=829026630874042371, ScreenName=KathAGar, Created=Tue Feb 07 17:58:46 +0000 2017, Text=\"Hi, I'm Kathleen. I'm an #actuallivingscientist who studies ways that coastal communities can adapt to rising sea l… https://t.co/WR9iN71xdi\"),\n",
       "   Status(ID=829013505441484801, ScreenName=CarlaLouisa, Created=Tue Feb 07 17:06:36 +0000 2017, Text=\"RT @drkristymurray: I'm an #ActualLivingScientist who studies infectious pathogens. I like to #DressLikeAWoman https://t.co/BOGK1Tpapa\"),\n",
       "   Status(ID=829005449123024896, ScreenName=Aiims1742, Created=Tue Feb 07 16:34:35 +0000 2017, Text='I would recommend everyone follow @ScientistTrump \\n#ActualLivingScientist https://t.co/J0nkOm6U2r'),\n",
       "   Status(ID=828827425740046336, ScreenName=MichaelAlliman, Created=Tue Feb 07 04:47:11 +0000 2017, Text='The fact that most of the respondents in this thread are women restores a shred of hope in me.  #actuallivingscientist'),\n",
       "   Status(ID=828700281055481857, ScreenName=momneph, Created=Mon Feb 06 20:21:58 +0000 2017, Text=\"RT @drkristymurray: I'm an #ActualLivingScientist who studies infectious pathogens. I like to #DressLikeAWoman https://t.co/BOGK1Tpapa\"),\n",
       "   Status(ID=828629679959658497, ScreenName=joan_mediator, Created=Mon Feb 06 15:41:25 +0000 2017, Text=\"RT @drkristymurray: I'm an #ActualLivingScientist who studies infectious pathogens. I like to #DressLikeAWoman https://t.co/BOGK1Tpapa\"),\n",
       "   Status(ID=828628126452301824, ScreenName=DavidFisman, Created=Mon Feb 06 15:35:15 +0000 2017, Text=\"RT @drkristymurray: I'm an #ActualLivingScientist who studies infectious pathogens. I like to #DressLikeAWoman https://t.co/BOGK1Tpapa\"),\n",
       "   Status(ID=828627918083481600, ScreenName=DiagnosticChick, Created=Mon Feb 06 15:34:25 +0000 2017, Text=\"RT @drkristymurray: I'm an #ActualLivingScientist who studies infectious pathogens. I like to #DressLikeAWoman https://t.co/BOGK1Tpapa\"),\n",
       "   Status(ID=828385188677816320, ScreenName=BCM_TropMed, Created=Sun Feb 05 23:29:54 +0000 2017, Text=\"RT @drkristymurray: I'm an #ActualLivingScientist who studies infectious pathogens. I like to #DressLikeAWoman https://t.co/BOGK1Tpapa\"),\n",
       "   Status(ID=828373352205185025, ScreenName=QutubLab, Created=Sun Feb 05 22:42:52 +0000 2017, Text='Congrats to @arun_mahadevan who won an IBB travel award to present his studies on developing neurons!… https://t.co/0nn37tr9Nh'),\n",
       "   Status(ID=828368849527566336, ScreenName=dmfitz424, Created=Sun Feb 05 22:24:58 +0000 2017, Text=\"I'm an #actuallivingscientist and I always #DressLikeAWoman! #MadScientist #ScienceMarch #ScienceMarchHOU https://t.co/1ifM5XbIQB\")]},\n",
       " {'location': [29.8, -95.33],\n",
       "  'tweets': [Status(ID=831171766890459136, ScreenName=MBCAHouston, Created=Mon Feb 13 16:02:46 +0000 2017, Text='The latest The MBCA Houston Daily! https://t.co/b5IWEKpcd9 Thanks to @ARtvKimatni #actuallivingscientist #was17'),\n",
       "   Status(ID=830221799342223361, ScreenName=InsectophileJim, Created=Sat Feb 11 01:07:56 +0000 2017, Text='RT @RickLambeth: Brother of more than one #actuallivingfarmer... I had/got to be an #actuallivingscientist instead.  Just glad there is sti…'),\n",
       "   Status(ID=830172944928223232, ScreenName=RickLambeth, Created=Fri Feb 10 21:53:48 +0000 2017, Text='Brother of more than one #actuallivingfarmer... I had/got to be an #actuallivingscientist instead.  Just glad there… https://t.co/914l59Uai1'),\n",
       "   Status(ID=830068240059600901, ScreenName=karashosho01, Created=Fri Feb 10 14:57:45 +0000 2017, Text='#actuallivingscientist https://t.co/5Rcgaq43dE'),\n",
       "   Status(ID=829349170150592512, ScreenName=TDGiardina, Created=Wed Feb 08 15:20:25 +0000 2017, Text=\"I'm an #ActualSocialScientist in patient safety - exploring patients' experiences of diagnostic errors. #actuallivingscientist\"),\n",
       "   Status(ID=829349135509811201, ScreenName=CarlaLouisa, Created=Wed Feb 08 15:20:17 +0000 2017, Text=\"RT @DeltagrlNC: Hi I'm Angela and I'm a Microbiologist that test IV drugs for sterility. #actuallivingscientist #DressLikeAWoman https://t.…\"),\n",
       "   Status(ID=829104435783729153, ScreenName=InsectophileJim, Created=Tue Feb 07 23:07:56 +0000 2017, Text=\"RT @KathAGar: Hi, I'm Kathleen. I'm an #actuallivingscientist who studies ways that coastal communities can adapt to rising sea level and c…\"),\n",
       "   Status(ID=829026630874042371, ScreenName=KathAGar, Created=Tue Feb 07 17:58:46 +0000 2017, Text=\"Hi, I'm Kathleen. I'm an #actuallivingscientist who studies ways that coastal communities can adapt to rising sea l… https://t.co/WR9iN71xdi\"),\n",
       "   Status(ID=829013505441484801, ScreenName=CarlaLouisa, Created=Tue Feb 07 17:06:36 +0000 2017, Text=\"RT @drkristymurray: I'm an #ActualLivingScientist who studies infectious pathogens. I like to #DressLikeAWoman https://t.co/BOGK1Tpapa\"),\n",
       "   Status(ID=829005449123024896, ScreenName=Aiims1742, Created=Tue Feb 07 16:34:35 +0000 2017, Text='I would recommend everyone follow @ScientistTrump \\n#ActualLivingScientist https://t.co/J0nkOm6U2r'),\n",
       "   Status(ID=828827425740046336, ScreenName=MichaelAlliman, Created=Tue Feb 07 04:47:11 +0000 2017, Text='The fact that most of the respondents in this thread are women restores a shred of hope in me.  #actuallivingscientist'),\n",
       "   Status(ID=828700281055481857, ScreenName=momneph, Created=Mon Feb 06 20:21:58 +0000 2017, Text=\"RT @drkristymurray: I'm an #ActualLivingScientist who studies infectious pathogens. I like to #DressLikeAWoman https://t.co/BOGK1Tpapa\"),\n",
       "   Status(ID=828629679959658497, ScreenName=joan_mediator, Created=Mon Feb 06 15:41:25 +0000 2017, Text=\"RT @drkristymurray: I'm an #ActualLivingScientist who studies infectious pathogens. I like to #DressLikeAWoman https://t.co/BOGK1Tpapa\"),\n",
       "   Status(ID=828628126452301824, ScreenName=DavidFisman, Created=Mon Feb 06 15:35:15 +0000 2017, Text=\"RT @drkristymurray: I'm an #ActualLivingScientist who studies infectious pathogens. I like to #DressLikeAWoman https://t.co/BOGK1Tpapa\"),\n",
       "   Status(ID=828627918083481600, ScreenName=DiagnosticChick, Created=Mon Feb 06 15:34:25 +0000 2017, Text=\"RT @drkristymurray: I'm an #ActualLivingScientist who studies infectious pathogens. I like to #DressLikeAWoman https://t.co/BOGK1Tpapa\"),\n",
       "   Status(ID=828385188677816320, ScreenName=BCM_TropMed, Created=Sun Feb 05 23:29:54 +0000 2017, Text=\"RT @drkristymurray: I'm an #ActualLivingScientist who studies infectious pathogens. I like to #DressLikeAWoman https://t.co/BOGK1Tpapa\"),\n",
       "   Status(ID=828373352205185025, ScreenName=QutubLab, Created=Sun Feb 05 22:42:52 +0000 2017, Text='Congrats to @arun_mahadevan who won an IBB travel award to present his studies on developing neurons!… https://t.co/0nn37tr9Nh'),\n",
       "   Status(ID=828368849527566336, ScreenName=dmfitz424, Created=Sun Feb 05 22:24:58 +0000 2017, Text=\"I'm an #actuallivingscientist and I always #DressLikeAWoman! #MadScientist #ScienceMarch #ScienceMarchHOU https://t.co/1ifM5XbIQB\")]},\n",
       " {'location': [29.74, -95.45],\n",
       "  'tweets': [Status(ID=831171766890459136, ScreenName=MBCAHouston, Created=Mon Feb 13 16:02:46 +0000 2017, Text='The latest The MBCA Houston Daily! https://t.co/b5IWEKpcd9 Thanks to @ARtvKimatni #actuallivingscientist #was17'),\n",
       "   Status(ID=830221799342223361, ScreenName=InsectophileJim, Created=Sat Feb 11 01:07:56 +0000 2017, Text='RT @RickLambeth: Brother of more than one #actuallivingfarmer... I had/got to be an #actuallivingscientist instead.  Just glad there is sti…'),\n",
       "   Status(ID=830172944928223232, ScreenName=RickLambeth, Created=Fri Feb 10 21:53:48 +0000 2017, Text='Brother of more than one #actuallivingfarmer... I had/got to be an #actuallivingscientist instead.  Just glad there… https://t.co/914l59Uai1'),\n",
       "   Status(ID=830068240059600901, ScreenName=karashosho01, Created=Fri Feb 10 14:57:45 +0000 2017, Text='#actuallivingscientist https://t.co/5Rcgaq43dE'),\n",
       "   Status(ID=829349170150592512, ScreenName=TDGiardina, Created=Wed Feb 08 15:20:25 +0000 2017, Text=\"I'm an #ActualSocialScientist in patient safety - exploring patients' experiences of diagnostic errors. #actuallivingscientist\"),\n",
       "   Status(ID=829349135509811201, ScreenName=CarlaLouisa, Created=Wed Feb 08 15:20:17 +0000 2017, Text=\"RT @DeltagrlNC: Hi I'm Angela and I'm a Microbiologist that test IV drugs for sterility. #actuallivingscientist #DressLikeAWoman https://t.…\"),\n",
       "   Status(ID=829104435783729153, ScreenName=InsectophileJim, Created=Tue Feb 07 23:07:56 +0000 2017, Text=\"RT @KathAGar: Hi, I'm Kathleen. I'm an #actuallivingscientist who studies ways that coastal communities can adapt to rising sea level and c…\"),\n",
       "   Status(ID=829026630874042371, ScreenName=KathAGar, Created=Tue Feb 07 17:58:46 +0000 2017, Text=\"Hi, I'm Kathleen. I'm an #actuallivingscientist who studies ways that coastal communities can adapt to rising sea l… https://t.co/WR9iN71xdi\"),\n",
       "   Status(ID=829013505441484801, ScreenName=CarlaLouisa, Created=Tue Feb 07 17:06:36 +0000 2017, Text=\"RT @drkristymurray: I'm an #ActualLivingScientist who studies infectious pathogens. I like to #DressLikeAWoman https://t.co/BOGK1Tpapa\"),\n",
       "   Status(ID=829005449123024896, ScreenName=Aiims1742, Created=Tue Feb 07 16:34:35 +0000 2017, Text='I would recommend everyone follow @ScientistTrump \\n#ActualLivingScientist https://t.co/J0nkOm6U2r'),\n",
       "   Status(ID=828827425740046336, ScreenName=MichaelAlliman, Created=Tue Feb 07 04:47:11 +0000 2017, Text='The fact that most of the respondents in this thread are women restores a shred of hope in me.  #actuallivingscientist'),\n",
       "   Status(ID=828700281055481857, ScreenName=momneph, Created=Mon Feb 06 20:21:58 +0000 2017, Text=\"RT @drkristymurray: I'm an #ActualLivingScientist who studies infectious pathogens. I like to #DressLikeAWoman https://t.co/BOGK1Tpapa\"),\n",
       "   Status(ID=828629679959658497, ScreenName=joan_mediator, Created=Mon Feb 06 15:41:25 +0000 2017, Text=\"RT @drkristymurray: I'm an #ActualLivingScientist who studies infectious pathogens. I like to #DressLikeAWoman https://t.co/BOGK1Tpapa\"),\n",
       "   Status(ID=828628126452301824, ScreenName=DavidFisman, Created=Mon Feb 06 15:35:15 +0000 2017, Text=\"RT @drkristymurray: I'm an #ActualLivingScientist who studies infectious pathogens. I like to #DressLikeAWoman https://t.co/BOGK1Tpapa\"),\n",
       "   Status(ID=828627918083481600, ScreenName=DiagnosticChick, Created=Mon Feb 06 15:34:25 +0000 2017, Text=\"RT @drkristymurray: I'm an #ActualLivingScientist who studies infectious pathogens. I like to #DressLikeAWoman https://t.co/BOGK1Tpapa\"),\n",
       "   Status(ID=828385188677816320, ScreenName=BCM_TropMed, Created=Sun Feb 05 23:29:54 +0000 2017, Text=\"RT @drkristymurray: I'm an #ActualLivingScientist who studies infectious pathogens. I like to #DressLikeAWoman https://t.co/BOGK1Tpapa\"),\n",
       "   Status(ID=828373352205185025, ScreenName=QutubLab, Created=Sun Feb 05 22:42:52 +0000 2017, Text='Congrats to @arun_mahadevan who won an IBB travel award to present his studies on developing neurons!… https://t.co/0nn37tr9Nh'),\n",
       "   Status(ID=828368849527566336, ScreenName=dmfitz424, Created=Sun Feb 05 22:24:58 +0000 2017, Text=\"I'm an #actuallivingscientist and I always #DressLikeAWoman! #MadScientist #ScienceMarch #ScienceMarchHOU https://t.co/1ifM5XbIQB\")]},\n",
       " {'location': [29.83, -95.29],\n",
       "  'tweets': [Status(ID=831171766890459136, ScreenName=MBCAHouston, Created=Mon Feb 13 16:02:46 +0000 2017, Text='The latest The MBCA Houston Daily! https://t.co/b5IWEKpcd9 Thanks to @ARtvKimatni #actuallivingscientist #was17'),\n",
       "   Status(ID=830221799342223361, ScreenName=InsectophileJim, Created=Sat Feb 11 01:07:56 +0000 2017, Text='RT @RickLambeth: Brother of more than one #actuallivingfarmer... I had/got to be an #actuallivingscientist instead.  Just glad there is sti…'),\n",
       "   Status(ID=830172944928223232, ScreenName=RickLambeth, Created=Fri Feb 10 21:53:48 +0000 2017, Text='Brother of more than one #actuallivingfarmer... I had/got to be an #actuallivingscientist instead.  Just glad there… https://t.co/914l59Uai1'),\n",
       "   Status(ID=830068240059600901, ScreenName=karashosho01, Created=Fri Feb 10 14:57:45 +0000 2017, Text='#actuallivingscientist https://t.co/5Rcgaq43dE'),\n",
       "   Status(ID=829349170150592512, ScreenName=TDGiardina, Created=Wed Feb 08 15:20:25 +0000 2017, Text=\"I'm an #ActualSocialScientist in patient safety - exploring patients' experiences of diagnostic errors. #actuallivingscientist\"),\n",
       "   Status(ID=829349135509811201, ScreenName=CarlaLouisa, Created=Wed Feb 08 15:20:17 +0000 2017, Text=\"RT @DeltagrlNC: Hi I'm Angela and I'm a Microbiologist that test IV drugs for sterility. #actuallivingscientist #DressLikeAWoman https://t.…\"),\n",
       "   Status(ID=829104435783729153, ScreenName=InsectophileJim, Created=Tue Feb 07 23:07:56 +0000 2017, Text=\"RT @KathAGar: Hi, I'm Kathleen. I'm an #actuallivingscientist who studies ways that coastal communities can adapt to rising sea level and c…\"),\n",
       "   Status(ID=829026630874042371, ScreenName=KathAGar, Created=Tue Feb 07 17:58:46 +0000 2017, Text=\"Hi, I'm Kathleen. I'm an #actuallivingscientist who studies ways that coastal communities can adapt to rising sea l… https://t.co/WR9iN71xdi\"),\n",
       "   Status(ID=829013505441484801, ScreenName=CarlaLouisa, Created=Tue Feb 07 17:06:36 +0000 2017, Text=\"RT @drkristymurray: I'm an #ActualLivingScientist who studies infectious pathogens. I like to #DressLikeAWoman https://t.co/BOGK1Tpapa\"),\n",
       "   Status(ID=829005449123024896, ScreenName=Aiims1742, Created=Tue Feb 07 16:34:35 +0000 2017, Text='I would recommend everyone follow @ScientistTrump \\n#ActualLivingScientist https://t.co/J0nkOm6U2r'),\n",
       "   Status(ID=828827425740046336, ScreenName=MichaelAlliman, Created=Tue Feb 07 04:47:11 +0000 2017, Text='The fact that most of the respondents in this thread are women restores a shred of hope in me.  #actuallivingscientist'),\n",
       "   Status(ID=828700281055481857, ScreenName=momneph, Created=Mon Feb 06 20:21:58 +0000 2017, Text=\"RT @drkristymurray: I'm an #ActualLivingScientist who studies infectious pathogens. I like to #DressLikeAWoman https://t.co/BOGK1Tpapa\"),\n",
       "   Status(ID=828629679959658497, ScreenName=joan_mediator, Created=Mon Feb 06 15:41:25 +0000 2017, Text=\"RT @drkristymurray: I'm an #ActualLivingScientist who studies infectious pathogens. I like to #DressLikeAWoman https://t.co/BOGK1Tpapa\"),\n",
       "   Status(ID=828628126452301824, ScreenName=DavidFisman, Created=Mon Feb 06 15:35:15 +0000 2017, Text=\"RT @drkristymurray: I'm an #ActualLivingScientist who studies infectious pathogens. I like to #DressLikeAWoman https://t.co/BOGK1Tpapa\"),\n",
       "   Status(ID=828627918083481600, ScreenName=DiagnosticChick, Created=Mon Feb 06 15:34:25 +0000 2017, Text=\"RT @drkristymurray: I'm an #ActualLivingScientist who studies infectious pathogens. I like to #DressLikeAWoman https://t.co/BOGK1Tpapa\"),\n",
       "   Status(ID=828385188677816320, ScreenName=BCM_TropMed, Created=Sun Feb 05 23:29:54 +0000 2017, Text=\"RT @drkristymurray: I'm an #ActualLivingScientist who studies infectious pathogens. I like to #DressLikeAWoman https://t.co/BOGK1Tpapa\"),\n",
       "   Status(ID=828373352205185025, ScreenName=QutubLab, Created=Sun Feb 05 22:42:52 +0000 2017, Text='Congrats to @arun_mahadevan who won an IBB travel award to present his studies on developing neurons!… https://t.co/0nn37tr9Nh'),\n",
       "   Status(ID=828368849527566336, ScreenName=dmfitz424, Created=Sun Feb 05 22:24:58 +0000 2017, Text=\"I'm an #actuallivingscientist and I always #DressLikeAWoman! #MadScientist #ScienceMarch #ScienceMarchHOU https://t.co/1ifM5XbIQB\")]},\n",
       " {'location': [29.76, -95.26],\n",
       "  'tweets': [Status(ID=831171766890459136, ScreenName=MBCAHouston, Created=Mon Feb 13 16:02:46 +0000 2017, Text='The latest The MBCA Houston Daily! https://t.co/b5IWEKpcd9 Thanks to @ARtvKimatni #actuallivingscientist #was17'),\n",
       "   Status(ID=830221799342223361, ScreenName=InsectophileJim, Created=Sat Feb 11 01:07:56 +0000 2017, Text='RT @RickLambeth: Brother of more than one #actuallivingfarmer... I had/got to be an #actuallivingscientist instead.  Just glad there is sti…'),\n",
       "   Status(ID=830172944928223232, ScreenName=RickLambeth, Created=Fri Feb 10 21:53:48 +0000 2017, Text='Brother of more than one #actuallivingfarmer... I had/got to be an #actuallivingscientist instead.  Just glad there… https://t.co/914l59Uai1'),\n",
       "   Status(ID=830068240059600901, ScreenName=karashosho01, Created=Fri Feb 10 14:57:45 +0000 2017, Text='#actuallivingscientist https://t.co/5Rcgaq43dE'),\n",
       "   Status(ID=829349170150592512, ScreenName=TDGiardina, Created=Wed Feb 08 15:20:25 +0000 2017, Text=\"I'm an #ActualSocialScientist in patient safety - exploring patients' experiences of diagnostic errors. #actuallivingscientist\"),\n",
       "   Status(ID=829349135509811201, ScreenName=CarlaLouisa, Created=Wed Feb 08 15:20:17 +0000 2017, Text=\"RT @DeltagrlNC: Hi I'm Angela and I'm a Microbiologist that test IV drugs for sterility. #actuallivingscientist #DressLikeAWoman https://t.…\"),\n",
       "   Status(ID=829104435783729153, ScreenName=InsectophileJim, Created=Tue Feb 07 23:07:56 +0000 2017, Text=\"RT @KathAGar: Hi, I'm Kathleen. I'm an #actuallivingscientist who studies ways that coastal communities can adapt to rising sea level and c…\"),\n",
       "   Status(ID=829026630874042371, ScreenName=KathAGar, Created=Tue Feb 07 17:58:46 +0000 2017, Text=\"Hi, I'm Kathleen. I'm an #actuallivingscientist who studies ways that coastal communities can adapt to rising sea l… https://t.co/WR9iN71xdi\"),\n",
       "   Status(ID=829013505441484801, ScreenName=CarlaLouisa, Created=Tue Feb 07 17:06:36 +0000 2017, Text=\"RT @drkristymurray: I'm an #ActualLivingScientist who studies infectious pathogens. I like to #DressLikeAWoman https://t.co/BOGK1Tpapa\"),\n",
       "   Status(ID=829005449123024896, ScreenName=Aiims1742, Created=Tue Feb 07 16:34:35 +0000 2017, Text='I would recommend everyone follow @ScientistTrump \\n#ActualLivingScientist https://t.co/J0nkOm6U2r'),\n",
       "   Status(ID=828827425740046336, ScreenName=MichaelAlliman, Created=Tue Feb 07 04:47:11 +0000 2017, Text='The fact that most of the respondents in this thread are women restores a shred of hope in me.  #actuallivingscientist'),\n",
       "   Status(ID=828700281055481857, ScreenName=momneph, Created=Mon Feb 06 20:21:58 +0000 2017, Text=\"RT @drkristymurray: I'm an #ActualLivingScientist who studies infectious pathogens. I like to #DressLikeAWoman https://t.co/BOGK1Tpapa\"),\n",
       "   Status(ID=828629679959658497, ScreenName=joan_mediator, Created=Mon Feb 06 15:41:25 +0000 2017, Text=\"RT @drkristymurray: I'm an #ActualLivingScientist who studies infectious pathogens. I like to #DressLikeAWoman https://t.co/BOGK1Tpapa\"),\n",
       "   Status(ID=828628126452301824, ScreenName=DavidFisman, Created=Mon Feb 06 15:35:15 +0000 2017, Text=\"RT @drkristymurray: I'm an #ActualLivingScientist who studies infectious pathogens. I like to #DressLikeAWoman https://t.co/BOGK1Tpapa\"),\n",
       "   Status(ID=828627918083481600, ScreenName=DiagnosticChick, Created=Mon Feb 06 15:34:25 +0000 2017, Text=\"RT @drkristymurray: I'm an #ActualLivingScientist who studies infectious pathogens. I like to #DressLikeAWoman https://t.co/BOGK1Tpapa\"),\n",
       "   Status(ID=828385188677816320, ScreenName=BCM_TropMed, Created=Sun Feb 05 23:29:54 +0000 2017, Text=\"RT @drkristymurray: I'm an #ActualLivingScientist who studies infectious pathogens. I like to #DressLikeAWoman https://t.co/BOGK1Tpapa\"),\n",
       "   Status(ID=828373352205185025, ScreenName=QutubLab, Created=Sun Feb 05 22:42:52 +0000 2017, Text='Congrats to @arun_mahadevan who won an IBB travel award to present his studies on developing neurons!… https://t.co/0nn37tr9Nh'),\n",
       "   Status(ID=828368849527566336, ScreenName=dmfitz424, Created=Sun Feb 05 22:24:58 +0000 2017, Text=\"I'm an #actuallivingscientist and I always #DressLikeAWoman! #MadScientist #ScienceMarch #ScienceMarchHOU https://t.co/1ifM5XbIQB\")]},\n",
       " {'location': [29.71, -95.4],\n",
       "  'tweets': [Status(ID=831171766890459136, ScreenName=MBCAHouston, Created=Mon Feb 13 16:02:46 +0000 2017, Text='The latest The MBCA Houston Daily! https://t.co/b5IWEKpcd9 Thanks to @ARtvKimatni #actuallivingscientist #was17'),\n",
       "   Status(ID=830221799342223361, ScreenName=InsectophileJim, Created=Sat Feb 11 01:07:56 +0000 2017, Text='RT @RickLambeth: Brother of more than one #actuallivingfarmer... I had/got to be an #actuallivingscientist instead.  Just glad there is sti…'),\n",
       "   Status(ID=830172944928223232, ScreenName=RickLambeth, Created=Fri Feb 10 21:53:48 +0000 2017, Text='Brother of more than one #actuallivingfarmer... I had/got to be an #actuallivingscientist instead.  Just glad there… https://t.co/914l59Uai1'),\n",
       "   Status(ID=830068240059600901, ScreenName=karashosho01, Created=Fri Feb 10 14:57:45 +0000 2017, Text='#actuallivingscientist https://t.co/5Rcgaq43dE'),\n",
       "   Status(ID=829349170150592512, ScreenName=TDGiardina, Created=Wed Feb 08 15:20:25 +0000 2017, Text=\"I'm an #ActualSocialScientist in patient safety - exploring patients' experiences of diagnostic errors. #actuallivingscientist\"),\n",
       "   Status(ID=829349135509811201, ScreenName=CarlaLouisa, Created=Wed Feb 08 15:20:17 +0000 2017, Text=\"RT @DeltagrlNC: Hi I'm Angela and I'm a Microbiologist that test IV drugs for sterility. #actuallivingscientist #DressLikeAWoman https://t.…\"),\n",
       "   Status(ID=829104435783729153, ScreenName=InsectophileJim, Created=Tue Feb 07 23:07:56 +0000 2017, Text=\"RT @KathAGar: Hi, I'm Kathleen. I'm an #actuallivingscientist who studies ways that coastal communities can adapt to rising sea level and c…\"),\n",
       "   Status(ID=829026630874042371, ScreenName=KathAGar, Created=Tue Feb 07 17:58:46 +0000 2017, Text=\"Hi, I'm Kathleen. I'm an #actuallivingscientist who studies ways that coastal communities can adapt to rising sea l… https://t.co/WR9iN71xdi\"),\n",
       "   Status(ID=829013505441484801, ScreenName=CarlaLouisa, Created=Tue Feb 07 17:06:36 +0000 2017, Text=\"RT @drkristymurray: I'm an #ActualLivingScientist who studies infectious pathogens. I like to #DressLikeAWoman https://t.co/BOGK1Tpapa\"),\n",
       "   Status(ID=829005449123024896, ScreenName=Aiims1742, Created=Tue Feb 07 16:34:35 +0000 2017, Text='I would recommend everyone follow @ScientistTrump \\n#ActualLivingScientist https://t.co/J0nkOm6U2r'),\n",
       "   Status(ID=828827425740046336, ScreenName=MichaelAlliman, Created=Tue Feb 07 04:47:11 +0000 2017, Text='The fact that most of the respondents in this thread are women restores a shred of hope in me.  #actuallivingscientist'),\n",
       "   Status(ID=828700281055481857, ScreenName=momneph, Created=Mon Feb 06 20:21:58 +0000 2017, Text=\"RT @drkristymurray: I'm an #ActualLivingScientist who studies infectious pathogens. I like to #DressLikeAWoman https://t.co/BOGK1Tpapa\"),\n",
       "   Status(ID=828629679959658497, ScreenName=joan_mediator, Created=Mon Feb 06 15:41:25 +0000 2017, Text=\"RT @drkristymurray: I'm an #ActualLivingScientist who studies infectious pathogens. I like to #DressLikeAWoman https://t.co/BOGK1Tpapa\"),\n",
       "   Status(ID=828628126452301824, ScreenName=DavidFisman, Created=Mon Feb 06 15:35:15 +0000 2017, Text=\"RT @drkristymurray: I'm an #ActualLivingScientist who studies infectious pathogens. I like to #DressLikeAWoman https://t.co/BOGK1Tpapa\"),\n",
       "   Status(ID=828627918083481600, ScreenName=DiagnosticChick, Created=Mon Feb 06 15:34:25 +0000 2017, Text=\"RT @drkristymurray: I'm an #ActualLivingScientist who studies infectious pathogens. I like to #DressLikeAWoman https://t.co/BOGK1Tpapa\"),\n",
       "   Status(ID=828385188677816320, ScreenName=BCM_TropMed, Created=Sun Feb 05 23:29:54 +0000 2017, Text=\"RT @drkristymurray: I'm an #ActualLivingScientist who studies infectious pathogens. I like to #DressLikeAWoman https://t.co/BOGK1Tpapa\"),\n",
       "   Status(ID=828373352205185025, ScreenName=QutubLab, Created=Sun Feb 05 22:42:52 +0000 2017, Text='Congrats to @arun_mahadevan who won an IBB travel award to present his studies on developing neurons!… https://t.co/0nn37tr9Nh'),\n",
       "   Status(ID=828368849527566336, ScreenName=dmfitz424, Created=Sun Feb 05 22:24:58 +0000 2017, Text=\"I'm an #actuallivingscientist and I always #DressLikeAWoman! #MadScientist #ScienceMarch #ScienceMarchHOU https://t.co/1ifM5XbIQB\")]}]"
      ]
     },
     "execution_count": 113,
     "metadata": {},
     "output_type": "execute_result"
    }
   ],
   "source": [
    "arrayOfTweetsByLocatA2 = []\n",
    "for index, row in GreaterHouston_Zip15t29.iterrows():\n",
    "    lat = row['latitude']\n",
    "    long = row['longitude']\n",
    "    results_forEach = api.GetSearch(raw_query=\"q=%23actuallivingscientist&geocode={},{},10km&result_type=recent&since=2017-02-01&count=50\".format(lat,long))\n",
    "    arrayOfTweetsByLocatA2.append({\"location\":[lat,long],\"tweets\":results_forEach}) \n",
    "\n",
    "arrayOfTweetsByLocatA2"
   ]
  },
  {
   "cell_type": "code",
   "execution_count": 133,
   "metadata": {
    "collapsed": true
   },
   "outputs": [],
   "source": [
    "thefile_arrayOfTweetsByLocatA2 = open('GreaterHouston_Zip15t29.txt', 'w')\n",
    "for item in arrayOfTweetsByLocatA2:\n",
    "    thefile_arrayOfTweetsByLocatA2.write(\"%s\\n\" % item)"
   ]
  },
  {
   "cell_type": "markdown",
   "metadata": {},
   "source": [
    "GreaterHouston_Zip30t45"
   ]
  },
  {
   "cell_type": "code",
   "execution_count": 115,
   "metadata": {},
   "outputs": [
    {
     "data": {
      "text/plain": [
       "[{'location': [29.99, -95.35], 'tweets': []},\n",
       " {'location': [29.67, -95.34], 'tweets': []},\n",
       " {'location': [29.62, -95.19], 'tweets': []},\n",
       " {'location': [29.65, -95.48], 'tweets': []},\n",
       " {'location': [29.7, -95.53], 'tweets': []},\n",
       " {'location': [29.89, -95.39], 'tweets': []},\n",
       " {'location': [29.92, -95.44], 'tweets': []},\n",
       " {'location': [29.91, -95.34], 'tweets': []},\n",
       " {'location': [29.87, -95.53], 'tweets': []},\n",
       " {'location': [29.86, -95.58], 'tweets': []},\n",
       " {'location': [29.74, -95.56], 'tweets': []},\n",
       " {'location': [29.81, -95.58], 'tweets': []},\n",
       " {'location': [29.91, -95.18], 'tweets': []},\n",
       " {'location': [29.64, -95.43], 'tweets': []},\n",
       " {'location': [29.73, -95.43],\n",
       "  'tweets': [Status(ID=831171766890459136, ScreenName=MBCAHouston, Created=Mon Feb 13 16:02:46 +0000 2017, Text='The latest The MBCA Houston Daily! https://t.co/b5IWEKpcd9 Thanks to @ARtvKimatni #actuallivingscientist #was17'),\n",
       "   Status(ID=830221799342223361, ScreenName=InsectophileJim, Created=Sat Feb 11 01:07:56 +0000 2017, Text='RT @RickLambeth: Brother of more than one #actuallivingfarmer... I had/got to be an #actuallivingscientist instead.  Just glad there is sti…'),\n",
       "   Status(ID=830172944928223232, ScreenName=RickLambeth, Created=Fri Feb 10 21:53:48 +0000 2017, Text='Brother of more than one #actuallivingfarmer... I had/got to be an #actuallivingscientist instead.  Just glad there… https://t.co/914l59Uai1'),\n",
       "   Status(ID=830068240059600901, ScreenName=karashosho01, Created=Fri Feb 10 14:57:45 +0000 2017, Text='#actuallivingscientist https://t.co/5Rcgaq43dE'),\n",
       "   Status(ID=829349170150592512, ScreenName=TDGiardina, Created=Wed Feb 08 15:20:25 +0000 2017, Text=\"I'm an #ActualSocialScientist in patient safety - exploring patients' experiences of diagnostic errors. #actuallivingscientist\"),\n",
       "   Status(ID=829349135509811201, ScreenName=CarlaLouisa, Created=Wed Feb 08 15:20:17 +0000 2017, Text=\"RT @DeltagrlNC: Hi I'm Angela and I'm a Microbiologist that test IV drugs for sterility. #actuallivingscientist #DressLikeAWoman https://t.…\"),\n",
       "   Status(ID=829104435783729153, ScreenName=InsectophileJim, Created=Tue Feb 07 23:07:56 +0000 2017, Text=\"RT @KathAGar: Hi, I'm Kathleen. I'm an #actuallivingscientist who studies ways that coastal communities can adapt to rising sea level and c…\"),\n",
       "   Status(ID=829026630874042371, ScreenName=KathAGar, Created=Tue Feb 07 17:58:46 +0000 2017, Text=\"Hi, I'm Kathleen. I'm an #actuallivingscientist who studies ways that coastal communities can adapt to rising sea l… https://t.co/WR9iN71xdi\"),\n",
       "   Status(ID=829013505441484801, ScreenName=CarlaLouisa, Created=Tue Feb 07 17:06:36 +0000 2017, Text=\"RT @drkristymurray: I'm an #ActualLivingScientist who studies infectious pathogens. I like to #DressLikeAWoman https://t.co/BOGK1Tpapa\"),\n",
       "   Status(ID=829005449123024896, ScreenName=Aiims1742, Created=Tue Feb 07 16:34:35 +0000 2017, Text='I would recommend everyone follow @ScientistTrump \\n#ActualLivingScientist https://t.co/J0nkOm6U2r'),\n",
       "   Status(ID=828827425740046336, ScreenName=MichaelAlliman, Created=Tue Feb 07 04:47:11 +0000 2017, Text='The fact that most of the respondents in this thread are women restores a shred of hope in me.  #actuallivingscientist'),\n",
       "   Status(ID=828700281055481857, ScreenName=momneph, Created=Mon Feb 06 20:21:58 +0000 2017, Text=\"RT @drkristymurray: I'm an #ActualLivingScientist who studies infectious pathogens. I like to #DressLikeAWoman https://t.co/BOGK1Tpapa\"),\n",
       "   Status(ID=828629679959658497, ScreenName=joan_mediator, Created=Mon Feb 06 15:41:25 +0000 2017, Text=\"RT @drkristymurray: I'm an #ActualLivingScientist who studies infectious pathogens. I like to #DressLikeAWoman https://t.co/BOGK1Tpapa\"),\n",
       "   Status(ID=828628126452301824, ScreenName=DavidFisman, Created=Mon Feb 06 15:35:15 +0000 2017, Text=\"RT @drkristymurray: I'm an #ActualLivingScientist who studies infectious pathogens. I like to #DressLikeAWoman https://t.co/BOGK1Tpapa\"),\n",
       "   Status(ID=828627918083481600, ScreenName=DiagnosticChick, Created=Mon Feb 06 15:34:25 +0000 2017, Text=\"RT @drkristymurray: I'm an #ActualLivingScientist who studies infectious pathogens. I like to #DressLikeAWoman https://t.co/BOGK1Tpapa\"),\n",
       "   Status(ID=828385188677816320, ScreenName=BCM_TropMed, Created=Sun Feb 05 23:29:54 +0000 2017, Text=\"RT @drkristymurray: I'm an #ActualLivingScientist who studies infectious pathogens. I like to #DressLikeAWoman https://t.co/BOGK1Tpapa\"),\n",
       "   Status(ID=828373352205185025, ScreenName=QutubLab, Created=Sun Feb 05 22:42:52 +0000 2017, Text='Congrats to @arun_mahadevan who won an IBB travel award to present his studies on developing neurons!… https://t.co/0nn37tr9Nh'),\n",
       "   Status(ID=828368849527566336, ScreenName=dmfitz424, Created=Sun Feb 05 22:24:58 +0000 2017, Text=\"I'm an #actuallivingscientist and I always #DressLikeAWoman! #MadScientist #ScienceMarch #ScienceMarchHOU https://t.co/1ifM5XbIQB\")]}]"
      ]
     },
     "execution_count": 115,
     "metadata": {},
     "output_type": "execute_result"
    }
   ],
   "source": [
    "arrayOfTweetsByLocatA3 = []\n",
    "for index, row in GreaterHouston_Zip30t45.iterrows():\n",
    "    lat = row['latitude']\n",
    "    long = row['longitude']\n",
    "    results_forEach = api.GetSearch(raw_query=\"q=%23actuallivingscientist&geocode={},{},10km&result_type=recent&since=2017-02-01&count=50\".format(lat,long))\n",
    "    arrayOfTweetsByLocatA3.append({\"location\":[lat,long],\"tweets\":results_forEach}) \n",
    "\n",
    "arrayOfTweetsByLocatA3"
   ]
  },
  {
   "cell_type": "code",
   "execution_count": 132,
   "metadata": {
    "collapsed": true
   },
   "outputs": [],
   "source": [
    "thefile_arrayOfTweetsByLocatA3 = open('GreaterHouston_Zip30t45.txt', 'w')\n",
    "for item in arrayOfTweetsByLocatA3:\n",
    "    thefile_arrayOfTweetsByLocatA3.write(\"%s\\n\" % item)"
   ]
  },
  {
   "cell_type": "markdown",
   "metadata": {},
   "source": [
    "GreaterHouston_Zip46t60"
   ]
  },
  {
   "cell_type": "code",
   "execution_count": 117,
   "metadata": {},
   "outputs": [
    {
     "data": {
      "text/plain": [
       "[{'location': [29.62, -95.32], 'tweets': []},\n",
       " {'location': [29.83, -95.15], 'tweets': []},\n",
       " {'location': [29.9, -95.27], 'tweets': []},\n",
       " {'location': [29.66, -95.38], 'tweets': []},\n",
       " {'location': [29.58, -95.46], 'tweets': []},\n",
       " {'location': [29.68, -95.4],\n",
       "  'tweets': [Status(ID=831171766890459136, ScreenName=MBCAHouston, Created=Mon Feb 13 16:02:46 +0000 2017, Text='The latest The MBCA Houston Daily! https://t.co/b5IWEKpcd9 Thanks to @ARtvKimatni #actuallivingscientist #was17'),\n",
       "   Status(ID=830221799342223361, ScreenName=InsectophileJim, Created=Sat Feb 11 01:07:56 +0000 2017, Text='RT @RickLambeth: Brother of more than one #actuallivingfarmer... I had/got to be an #actuallivingscientist instead.  Just glad there is sti…'),\n",
       "   Status(ID=830172944928223232, ScreenName=RickLambeth, Created=Fri Feb 10 21:53:48 +0000 2017, Text='Brother of more than one #actuallivingfarmer... I had/got to be an #actuallivingscientist instead.  Just glad there… https://t.co/914l59Uai1'),\n",
       "   Status(ID=830068240059600901, ScreenName=karashosho01, Created=Fri Feb 10 14:57:45 +0000 2017, Text='#actuallivingscientist https://t.co/5Rcgaq43dE'),\n",
       "   Status(ID=829349170150592512, ScreenName=TDGiardina, Created=Wed Feb 08 15:20:25 +0000 2017, Text=\"I'm an #ActualSocialScientist in patient safety - exploring patients' experiences of diagnostic errors. #actuallivingscientist\"),\n",
       "   Status(ID=829349135509811201, ScreenName=CarlaLouisa, Created=Wed Feb 08 15:20:17 +0000 2017, Text=\"RT @DeltagrlNC: Hi I'm Angela and I'm a Microbiologist that test IV drugs for sterility. #actuallivingscientist #DressLikeAWoman https://t.…\"),\n",
       "   Status(ID=829104435783729153, ScreenName=InsectophileJim, Created=Tue Feb 07 23:07:56 +0000 2017, Text=\"RT @KathAGar: Hi, I'm Kathleen. I'm an #actuallivingscientist who studies ways that coastal communities can adapt to rising sea level and c…\"),\n",
       "   Status(ID=829026630874042371, ScreenName=KathAGar, Created=Tue Feb 07 17:58:46 +0000 2017, Text=\"Hi, I'm Kathleen. I'm an #actuallivingscientist who studies ways that coastal communities can adapt to rising sea l… https://t.co/WR9iN71xdi\"),\n",
       "   Status(ID=829013505441484801, ScreenName=CarlaLouisa, Created=Tue Feb 07 17:06:36 +0000 2017, Text=\"RT @drkristymurray: I'm an #ActualLivingScientist who studies infectious pathogens. I like to #DressLikeAWoman https://t.co/BOGK1Tpapa\"),\n",
       "   Status(ID=829005449123024896, ScreenName=Aiims1742, Created=Tue Feb 07 16:34:35 +0000 2017, Text='I would recommend everyone follow @ScientistTrump \\n#ActualLivingScientist https://t.co/J0nkOm6U2r'),\n",
       "   Status(ID=828827425740046336, ScreenName=MichaelAlliman, Created=Tue Feb 07 04:47:11 +0000 2017, Text='The fact that most of the respondents in this thread are women restores a shred of hope in me.  #actuallivingscientist'),\n",
       "   Status(ID=828700281055481857, ScreenName=momneph, Created=Mon Feb 06 20:21:58 +0000 2017, Text=\"RT @drkristymurray: I'm an #ActualLivingScientist who studies infectious pathogens. I like to #DressLikeAWoman https://t.co/BOGK1Tpapa\"),\n",
       "   Status(ID=828629679959658497, ScreenName=joan_mediator, Created=Mon Feb 06 15:41:25 +0000 2017, Text=\"RT @drkristymurray: I'm an #ActualLivingScientist who studies infectious pathogens. I like to #DressLikeAWoman https://t.co/BOGK1Tpapa\"),\n",
       "   Status(ID=828628126452301824, ScreenName=DavidFisman, Created=Mon Feb 06 15:35:15 +0000 2017, Text=\"RT @drkristymurray: I'm an #ActualLivingScientist who studies infectious pathogens. I like to #DressLikeAWoman https://t.co/BOGK1Tpapa\"),\n",
       "   Status(ID=828627918083481600, ScreenName=DiagnosticChick, Created=Mon Feb 06 15:34:25 +0000 2017, Text=\"RT @drkristymurray: I'm an #ActualLivingScientist who studies infectious pathogens. I like to #DressLikeAWoman https://t.co/BOGK1Tpapa\"),\n",
       "   Status(ID=828385188677816320, ScreenName=BCM_TropMed, Created=Sun Feb 05 23:29:54 +0000 2017, Text=\"RT @drkristymurray: I'm an #ActualLivingScientist who studies infectious pathogens. I like to #DressLikeAWoman https://t.co/BOGK1Tpapa\"),\n",
       "   Status(ID=828373352205185025, ScreenName=QutubLab, Created=Sun Feb 05 22:42:52 +0000 2017, Text='Congrats to @arun_mahadevan who won an IBB travel award to present his studies on developing neurons!… https://t.co/0nn37tr9Nh'),\n",
       "   Status(ID=828368849527566336, ScreenName=dmfitz424, Created=Sun Feb 05 22:24:58 +0000 2017, Text=\"I'm an #actuallivingscientist and I always #DressLikeAWoman! #MadScientist #ScienceMarch #ScienceMarchHOU https://t.co/1ifM5XbIQB\")]},\n",
       " {'location': [29.8, -95.49],\n",
       "  'tweets': [Status(ID=831171766890459136, ScreenName=MBCAHouston, Created=Mon Feb 13 16:02:46 +0000 2017, Text='The latest The MBCA Houston Daily! https://t.co/b5IWEKpcd9 Thanks to @ARtvKimatni #actuallivingscientist #was17'),\n",
       "   Status(ID=830221799342223361, ScreenName=InsectophileJim, Created=Sat Feb 11 01:07:56 +0000 2017, Text='RT @RickLambeth: Brother of more than one #actuallivingfarmer... I had/got to be an #actuallivingscientist instead.  Just glad there is sti…'),\n",
       "   Status(ID=830172944928223232, ScreenName=RickLambeth, Created=Fri Feb 10 21:53:48 +0000 2017, Text='Brother of more than one #actuallivingfarmer... I had/got to be an #actuallivingscientist instead.  Just glad there… https://t.co/914l59Uai1'),\n",
       "   Status(ID=830068240059600901, ScreenName=karashosho01, Created=Fri Feb 10 14:57:45 +0000 2017, Text='#actuallivingscientist https://t.co/5Rcgaq43dE'),\n",
       "   Status(ID=829349170150592512, ScreenName=TDGiardina, Created=Wed Feb 08 15:20:25 +0000 2017, Text=\"I'm an #ActualSocialScientist in patient safety - exploring patients' experiences of diagnostic errors. #actuallivingscientist\"),\n",
       "   Status(ID=829349135509811201, ScreenName=CarlaLouisa, Created=Wed Feb 08 15:20:17 +0000 2017, Text=\"RT @DeltagrlNC: Hi I'm Angela and I'm a Microbiologist that test IV drugs for sterility. #actuallivingscientist #DressLikeAWoman https://t.…\"),\n",
       "   Status(ID=829104435783729153, ScreenName=InsectophileJim, Created=Tue Feb 07 23:07:56 +0000 2017, Text=\"RT @KathAGar: Hi, I'm Kathleen. I'm an #actuallivingscientist who studies ways that coastal communities can adapt to rising sea level and c…\"),\n",
       "   Status(ID=829026630874042371, ScreenName=KathAGar, Created=Tue Feb 07 17:58:46 +0000 2017, Text=\"Hi, I'm Kathleen. I'm an #actuallivingscientist who studies ways that coastal communities can adapt to rising sea l… https://t.co/WR9iN71xdi\"),\n",
       "   Status(ID=829013505441484801, ScreenName=CarlaLouisa, Created=Tue Feb 07 17:06:36 +0000 2017, Text=\"RT @drkristymurray: I'm an #ActualLivingScientist who studies infectious pathogens. I like to #DressLikeAWoman https://t.co/BOGK1Tpapa\"),\n",
       "   Status(ID=829005449123024896, ScreenName=Aiims1742, Created=Tue Feb 07 16:34:35 +0000 2017, Text='I would recommend everyone follow @ScientistTrump \\n#ActualLivingScientist https://t.co/J0nkOm6U2r'),\n",
       "   Status(ID=828827425740046336, ScreenName=MichaelAlliman, Created=Tue Feb 07 04:47:11 +0000 2017, Text='The fact that most of the respondents in this thread are women restores a shred of hope in me.  #actuallivingscientist'),\n",
       "   Status(ID=828700281055481857, ScreenName=momneph, Created=Mon Feb 06 20:21:58 +0000 2017, Text=\"RT @drkristymurray: I'm an #ActualLivingScientist who studies infectious pathogens. I like to #DressLikeAWoman https://t.co/BOGK1Tpapa\"),\n",
       "   Status(ID=828629679959658497, ScreenName=joan_mediator, Created=Mon Feb 06 15:41:25 +0000 2017, Text=\"RT @drkristymurray: I'm an #ActualLivingScientist who studies infectious pathogens. I like to #DressLikeAWoman https://t.co/BOGK1Tpapa\"),\n",
       "   Status(ID=828628126452301824, ScreenName=DavidFisman, Created=Mon Feb 06 15:35:15 +0000 2017, Text=\"RT @drkristymurray: I'm an #ActualLivingScientist who studies infectious pathogens. I like to #DressLikeAWoman https://t.co/BOGK1Tpapa\"),\n",
       "   Status(ID=828627918083481600, ScreenName=DiagnosticChick, Created=Mon Feb 06 15:34:25 +0000 2017, Text=\"RT @drkristymurray: I'm an #ActualLivingScientist who studies infectious pathogens. I like to #DressLikeAWoman https://t.co/BOGK1Tpapa\"),\n",
       "   Status(ID=828385188677816320, ScreenName=BCM_TropMed, Created=Sun Feb 05 23:29:54 +0000 2017, Text=\"RT @drkristymurray: I'm an #ActualLivingScientist who studies infectious pathogens. I like to #DressLikeAWoman https://t.co/BOGK1Tpapa\"),\n",
       "   Status(ID=828373352205185025, ScreenName=QutubLab, Created=Sun Feb 05 22:42:52 +0000 2017, Text='Congrats to @arun_mahadevan who won an IBB travel award to present his studies on developing neurons!… https://t.co/0nn37tr9Nh'),\n",
       "   Status(ID=828368849527566336, ScreenName=dmfitz424, Created=Sun Feb 05 22:24:58 +0000 2017, Text=\"I'm an #actuallivingscientist and I always #DressLikeAWoman! #MadScientist #ScienceMarch #ScienceMarchHOU https://t.co/1ifM5XbIQB\")]},\n",
       " {'location': [29.75, -95.47],\n",
       "  'tweets': [Status(ID=831171766890459136, ScreenName=MBCAHouston, Created=Mon Feb 13 16:02:46 +0000 2017, Text='The latest The MBCA Houston Daily! https://t.co/b5IWEKpcd9 Thanks to @ARtvKimatni #actuallivingscientist #was17'),\n",
       "   Status(ID=830221799342223361, ScreenName=InsectophileJim, Created=Sat Feb 11 01:07:56 +0000 2017, Text='RT @RickLambeth: Brother of more than one #actuallivingfarmer... I had/got to be an #actuallivingscientist instead.  Just glad there is sti…'),\n",
       "   Status(ID=830172944928223232, ScreenName=RickLambeth, Created=Fri Feb 10 21:53:48 +0000 2017, Text='Brother of more than one #actuallivingfarmer... I had/got to be an #actuallivingscientist instead.  Just glad there… https://t.co/914l59Uai1'),\n",
       "   Status(ID=830068240059600901, ScreenName=karashosho01, Created=Fri Feb 10 14:57:45 +0000 2017, Text='#actuallivingscientist https://t.co/5Rcgaq43dE'),\n",
       "   Status(ID=829349170150592512, ScreenName=TDGiardina, Created=Wed Feb 08 15:20:25 +0000 2017, Text=\"I'm an #ActualSocialScientist in patient safety - exploring patients' experiences of diagnostic errors. #actuallivingscientist\"),\n",
       "   Status(ID=829349135509811201, ScreenName=CarlaLouisa, Created=Wed Feb 08 15:20:17 +0000 2017, Text=\"RT @DeltagrlNC: Hi I'm Angela and I'm a Microbiologist that test IV drugs for sterility. #actuallivingscientist #DressLikeAWoman https://t.…\"),\n",
       "   Status(ID=829104435783729153, ScreenName=InsectophileJim, Created=Tue Feb 07 23:07:56 +0000 2017, Text=\"RT @KathAGar: Hi, I'm Kathleen. I'm an #actuallivingscientist who studies ways that coastal communities can adapt to rising sea level and c…\"),\n",
       "   Status(ID=829026630874042371, ScreenName=KathAGar, Created=Tue Feb 07 17:58:46 +0000 2017, Text=\"Hi, I'm Kathleen. I'm an #actuallivingscientist who studies ways that coastal communities can adapt to rising sea l… https://t.co/WR9iN71xdi\"),\n",
       "   Status(ID=829013505441484801, ScreenName=CarlaLouisa, Created=Tue Feb 07 17:06:36 +0000 2017, Text=\"RT @drkristymurray: I'm an #ActualLivingScientist who studies infectious pathogens. I like to #DressLikeAWoman https://t.co/BOGK1Tpapa\"),\n",
       "   Status(ID=829005449123024896, ScreenName=Aiims1742, Created=Tue Feb 07 16:34:35 +0000 2017, Text='I would recommend everyone follow @ScientistTrump \\n#ActualLivingScientist https://t.co/J0nkOm6U2r'),\n",
       "   Status(ID=828827425740046336, ScreenName=MichaelAlliman, Created=Tue Feb 07 04:47:11 +0000 2017, Text='The fact that most of the respondents in this thread are women restores a shred of hope in me.  #actuallivingscientist'),\n",
       "   Status(ID=828700281055481857, ScreenName=momneph, Created=Mon Feb 06 20:21:58 +0000 2017, Text=\"RT @drkristymurray: I'm an #ActualLivingScientist who studies infectious pathogens. I like to #DressLikeAWoman https://t.co/BOGK1Tpapa\"),\n",
       "   Status(ID=828629679959658497, ScreenName=joan_mediator, Created=Mon Feb 06 15:41:25 +0000 2017, Text=\"RT @drkristymurray: I'm an #ActualLivingScientist who studies infectious pathogens. I like to #DressLikeAWoman https://t.co/BOGK1Tpapa\"),\n",
       "   Status(ID=828628126452301824, ScreenName=DavidFisman, Created=Mon Feb 06 15:35:15 +0000 2017, Text=\"RT @drkristymurray: I'm an #ActualLivingScientist who studies infectious pathogens. I like to #DressLikeAWoman https://t.co/BOGK1Tpapa\"),\n",
       "   Status(ID=828627918083481600, ScreenName=DiagnosticChick, Created=Mon Feb 06 15:34:25 +0000 2017, Text=\"RT @drkristymurray: I'm an #ActualLivingScientist who studies infectious pathogens. I like to #DressLikeAWoman https://t.co/BOGK1Tpapa\"),\n",
       "   Status(ID=828385188677816320, ScreenName=BCM_TropMed, Created=Sun Feb 05 23:29:54 +0000 2017, Text=\"RT @drkristymurray: I'm an #ActualLivingScientist who studies infectious pathogens. I like to #DressLikeAWoman https://t.co/BOGK1Tpapa\"),\n",
       "   Status(ID=828373352205185025, ScreenName=QutubLab, Created=Sun Feb 05 22:42:52 +0000 2017, Text='Congrats to @arun_mahadevan who won an IBB travel award to present his studies on developing neurons!… https://t.co/0nn37tr9Nh'),\n",
       "   Status(ID=828368849527566336, ScreenName=dmfitz424, Created=Sun Feb 05 22:24:58 +0000 2017, Text=\"I'm an #actuallivingscientist and I always #DressLikeAWoman! #MadScientist #ScienceMarch #ScienceMarchHOU https://t.co/1ifM5XbIQB\")]},\n",
       " {'location': [29.74, -95.49],\n",
       "  'tweets': [Status(ID=831171766890459136, ScreenName=MBCAHouston, Created=Mon Feb 13 16:02:46 +0000 2017, Text='The latest The MBCA Houston Daily! https://t.co/b5IWEKpcd9 Thanks to @ARtvKimatni #actuallivingscientist #was17'),\n",
       "   Status(ID=830221799342223361, ScreenName=InsectophileJim, Created=Sat Feb 11 01:07:56 +0000 2017, Text='RT @RickLambeth: Brother of more than one #actuallivingfarmer... I had/got to be an #actuallivingscientist instead.  Just glad there is sti…'),\n",
       "   Status(ID=830172944928223232, ScreenName=RickLambeth, Created=Fri Feb 10 21:53:48 +0000 2017, Text='Brother of more than one #actuallivingfarmer... I had/got to be an #actuallivingscientist instead.  Just glad there… https://t.co/914l59Uai1'),\n",
       "   Status(ID=830068240059600901, ScreenName=karashosho01, Created=Fri Feb 10 14:57:45 +0000 2017, Text='#actuallivingscientist https://t.co/5Rcgaq43dE'),\n",
       "   Status(ID=829349170150592512, ScreenName=TDGiardina, Created=Wed Feb 08 15:20:25 +0000 2017, Text=\"I'm an #ActualSocialScientist in patient safety - exploring patients' experiences of diagnostic errors. #actuallivingscientist\"),\n",
       "   Status(ID=829349135509811201, ScreenName=CarlaLouisa, Created=Wed Feb 08 15:20:17 +0000 2017, Text=\"RT @DeltagrlNC: Hi I'm Angela and I'm a Microbiologist that test IV drugs for sterility. #actuallivingscientist #DressLikeAWoman https://t.…\"),\n",
       "   Status(ID=829104435783729153, ScreenName=InsectophileJim, Created=Tue Feb 07 23:07:56 +0000 2017, Text=\"RT @KathAGar: Hi, I'm Kathleen. I'm an #actuallivingscientist who studies ways that coastal communities can adapt to rising sea level and c…\"),\n",
       "   Status(ID=829026630874042371, ScreenName=KathAGar, Created=Tue Feb 07 17:58:46 +0000 2017, Text=\"Hi, I'm Kathleen. I'm an #actuallivingscientist who studies ways that coastal communities can adapt to rising sea l… https://t.co/WR9iN71xdi\"),\n",
       "   Status(ID=829013505441484801, ScreenName=CarlaLouisa, Created=Tue Feb 07 17:06:36 +0000 2017, Text=\"RT @drkristymurray: I'm an #ActualLivingScientist who studies infectious pathogens. I like to #DressLikeAWoman https://t.co/BOGK1Tpapa\"),\n",
       "   Status(ID=829005449123024896, ScreenName=Aiims1742, Created=Tue Feb 07 16:34:35 +0000 2017, Text='I would recommend everyone follow @ScientistTrump \\n#ActualLivingScientist https://t.co/J0nkOm6U2r'),\n",
       "   Status(ID=828827425740046336, ScreenName=MichaelAlliman, Created=Tue Feb 07 04:47:11 +0000 2017, Text='The fact that most of the respondents in this thread are women restores a shred of hope in me.  #actuallivingscientist'),\n",
       "   Status(ID=828700281055481857, ScreenName=momneph, Created=Mon Feb 06 20:21:58 +0000 2017, Text=\"RT @drkristymurray: I'm an #ActualLivingScientist who studies infectious pathogens. I like to #DressLikeAWoman https://t.co/BOGK1Tpapa\"),\n",
       "   Status(ID=828629679959658497, ScreenName=joan_mediator, Created=Mon Feb 06 15:41:25 +0000 2017, Text=\"RT @drkristymurray: I'm an #ActualLivingScientist who studies infectious pathogens. I like to #DressLikeAWoman https://t.co/BOGK1Tpapa\"),\n",
       "   Status(ID=828628126452301824, ScreenName=DavidFisman, Created=Mon Feb 06 15:35:15 +0000 2017, Text=\"RT @drkristymurray: I'm an #ActualLivingScientist who studies infectious pathogens. I like to #DressLikeAWoman https://t.co/BOGK1Tpapa\"),\n",
       "   Status(ID=828627918083481600, ScreenName=DiagnosticChick, Created=Mon Feb 06 15:34:25 +0000 2017, Text=\"RT @drkristymurray: I'm an #ActualLivingScientist who studies infectious pathogens. I like to #DressLikeAWoman https://t.co/BOGK1Tpapa\"),\n",
       "   Status(ID=828385188677816320, ScreenName=BCM_TropMed, Created=Sun Feb 05 23:29:54 +0000 2017, Text=\"RT @drkristymurray: I'm an #ActualLivingScientist who studies infectious pathogens. I like to #DressLikeAWoman https://t.co/BOGK1Tpapa\"),\n",
       "   Status(ID=828373352205185025, ScreenName=QutubLab, Created=Sun Feb 05 22:42:52 +0000 2017, Text='Congrats to @arun_mahadevan who won an IBB travel award to present his studies on developing neurons!… https://t.co/0nn37tr9Nh'),\n",
       "   Status(ID=828368849527566336, ScreenName=dmfitz424, Created=Sun Feb 05 22:24:58 +0000 2017, Text=\"I'm an #actuallivingscientist and I always #DressLikeAWoman! #MadScientist #ScienceMarch #ScienceMarchHOU https://t.co/1ifM5XbIQB\")]},\n",
       " {'location': [29.56, -95.1],\n",
       "  'tweets': [Status(ID=828647438680485889, ScreenName=TalkIBC, Created=Mon Feb 06 16:51:59 +0000 2017, Text='Have you seen this # @thecancergeek ? #actuallivingscientist  so cool! #researchmatters'),\n",
       "   Status(ID=828427414694928386, ScreenName=ScituateSciSpec, Created=Mon Feb 06 02:17:41 +0000 2017, Text=\"RT @JulieSDyess: Here's a few pictures of me an #actuallivingscientist and #educator #dressinglikeawoman https://t.co/N1ALY4alJW\"),\n",
       "   Status(ID=828409020419547136, ScreenName=JulieSDyess, Created=Mon Feb 06 01:04:36 +0000 2017, Text=\"Here's a few pictures of me an #actuallivingscientist and #educator #dressinglikeawoman https://t.co/N1ALY4alJW\")]},\n",
       " {'location': [29.61, -95.12],\n",
       "  'tweets': [Status(ID=828427414694928386, ScreenName=ScituateSciSpec, Created=Mon Feb 06 02:17:41 +0000 2017, Text=\"RT @JulieSDyess: Here's a few pictures of me an #actuallivingscientist and #educator #dressinglikeawoman https://t.co/N1ALY4alJW\"),\n",
       "   Status(ID=828409020419547136, ScreenName=JulieSDyess, Created=Mon Feb 06 01:04:36 +0000 2017, Text=\"Here's a few pictures of me an #actuallivingscientist and #educator #dressinglikeawoman https://t.co/N1ALY4alJW\")]},\n",
       " {'location': [29.93, -95.39], 'tweets': []},\n",
       " {'location': [29.65, -95.28], 'tweets': []},\n",
       " {'location': [29.57, -95.13],\n",
       "  'tweets': [Status(ID=828647438680485889, ScreenName=TalkIBC, Created=Mon Feb 06 16:51:59 +0000 2017, Text='Have you seen this # @thecancergeek ? #actuallivingscientist  so cool! #researchmatters'),\n",
       "   Status(ID=828427414694928386, ScreenName=ScituateSciSpec, Created=Mon Feb 06 02:17:41 +0000 2017, Text=\"RT @JulieSDyess: Here's a few pictures of me an #actuallivingscientist and #educator #dressinglikeawoman https://t.co/N1ALY4alJW\"),\n",
       "   Status(ID=828409020419547136, ScreenName=JulieSDyess, Created=Mon Feb 06 01:04:36 +0000 2017, Text=\"Here's a few pictures of me an #actuallivingscientist and #educator #dressinglikeawoman https://t.co/N1ALY4alJW\")]}]"
      ]
     },
     "execution_count": 117,
     "metadata": {},
     "output_type": "execute_result"
    }
   ],
   "source": [
    "arrayOfTweetsByLocatA4 = []\n",
    "for index, row in GreaterHouston_Zip46t60.iterrows():\n",
    "    lat = row['latitude']\n",
    "    long = row['longitude']\n",
    "    results_forEach = api.GetSearch(raw_query=\"q=%23actuallivingscientist&geocode={},{},10km&result_type=recent&since=2017-02-01&count=50\".format(lat,long))\n",
    "    arrayOfTweetsByLocatA4.append({\"location\":[lat,long],\"tweets\":results_forEach}) \n",
    "\n",
    "arrayOfTweetsByLocatA4"
   ]
  },
  {
   "cell_type": "code",
   "execution_count": 131,
   "metadata": {
    "collapsed": true
   },
   "outputs": [],
   "source": [
    "thefile_arrayOfTweetsByLocatA4 = open('GreaterHouston_Zip46t60.txt', 'w')\n",
    "for item in arrayOfTweetsByLocatA4:\n",
    "  thefile_arrayOfTweetsByLocatA4.write(\"%s\\n\" % item)"
   ]
  },
  {
   "cell_type": "markdown",
   "metadata": {},
   "source": [
    "GreaterHouston_Zip61t74"
   ]
  },
  {
   "cell_type": "code",
   "execution_count": 129,
   "metadata": {},
   "outputs": [
    {
     "data": {
      "text/plain": [
       "[{'location': [29.92, -95.54], 'tweets': []},\n",
       " {'location': [29.93, -95.6], 'tweets': []},\n",
       " {'location': [29.96, -95.5], 'tweets': []},\n",
       " {'location': [29.95, -95.45], 'tweets': []},\n",
       " {'location': [30.01, -95.49], 'tweets': []},\n",
       " {'location': [29.99, -95.53], 'tweets': []},\n",
       " {'location': [29.98, -95.57], 'tweets': []},\n",
       " {'location': [29.65, -95.52], 'tweets': []},\n",
       " {'location': [29.7, -95.58], 'tweets': []},\n",
       " {'location': [30.0, -95.4], 'tweets': []},\n",
       " {'location': [29.69, -95.52], 'tweets': []},\n",
       " {'location': [29.62, -95.27], 'tweets': []},\n",
       " {'location': [29.86, -95.38], 'tweets': []}]"
      ]
     },
     "execution_count": 129,
     "metadata": {},
     "output_type": "execute_result"
    }
   ],
   "source": [
    "arrayOfTweetsByLocatA5 = []\n",
    "for index, row in GreaterHouston_Zip61t74.iterrows():\n",
    "    lat = row['latitude']\n",
    "    long = row['longitude']\n",
    "    results_forEach = api.GetSearch(raw_query=\"q=%23actuallivingscientist&geocode={},{},10km&result_type=recent&since=2017-02-01&count=50\".format(lat,long))\n",
    "    arrayOfTweetsByLocatA5.append({\"location\":[lat,long],\"tweets\":results_forEach}) \n",
    "\n",
    "arrayOfTweetsByLocatA5"
   ]
  },
  {
   "cell_type": "code",
   "execution_count": 130,
   "metadata": {
    "collapsed": true
   },
   "outputs": [],
   "source": [
    "thefile_arrayOfTweetsByLocatA5 = open('GreaterHouston_Zip61t74.txt', 'w')\n",
    "for item in arrayOfTweetsByLocatA5:\n",
    "    thefile_arrayOfTweetsByLocatA5.write(\"%s\\n\" % item)"
   ]
  },
  {
   "cell_type": "markdown",
   "metadata": {},
   "source": [
    "GreaterHouston_Zip75t85"
   ]
  },
  {
   "cell_type": "code",
   "execution_count": 123,
   "metadata": {},
   "outputs": [
    {
     "data": {
      "text/plain": [
       "[{'location': [29.85, -95.25], 'tweets': []},\n",
       " {'location': [29.78, -95.6], 'tweets': []},\n",
       " {'location': [29.82, -95.52], 'tweets': []},\n",
       " {'location': [29.71, -95.48],\n",
       "  'tweets': [Status(ID=831171766890459136, ScreenName=MBCAHouston, Created=Mon Feb 13 16:02:46 +0000 2017, Text='The latest The MBCA Houston Daily! https://t.co/b5IWEKpcd9 Thanks to @ARtvKimatni #actuallivingscientist #was17'),\n",
       "   Status(ID=830221799342223361, ScreenName=InsectophileJim, Created=Sat Feb 11 01:07:56 +0000 2017, Text='RT @RickLambeth: Brother of more than one #actuallivingfarmer... I had/got to be an #actuallivingscientist instead.  Just glad there is sti…'),\n",
       "   Status(ID=830172944928223232, ScreenName=RickLambeth, Created=Fri Feb 10 21:53:48 +0000 2017, Text='Brother of more than one #actuallivingfarmer... I had/got to be an #actuallivingscientist instead.  Just glad there… https://t.co/914l59Uai1'),\n",
       "   Status(ID=830068240059600901, ScreenName=karashosho01, Created=Fri Feb 10 14:57:45 +0000 2017, Text='#actuallivingscientist https://t.co/5Rcgaq43dE'),\n",
       "   Status(ID=829349170150592512, ScreenName=TDGiardina, Created=Wed Feb 08 15:20:25 +0000 2017, Text=\"I'm an #ActualSocialScientist in patient safety - exploring patients' experiences of diagnostic errors. #actuallivingscientist\"),\n",
       "   Status(ID=829349135509811201, ScreenName=CarlaLouisa, Created=Wed Feb 08 15:20:17 +0000 2017, Text=\"RT @DeltagrlNC: Hi I'm Angela and I'm a Microbiologist that test IV drugs for sterility. #actuallivingscientist #DressLikeAWoman https://t.…\"),\n",
       "   Status(ID=829104435783729153, ScreenName=InsectophileJim, Created=Tue Feb 07 23:07:56 +0000 2017, Text=\"RT @KathAGar: Hi, I'm Kathleen. I'm an #actuallivingscientist who studies ways that coastal communities can adapt to rising sea level and c…\"),\n",
       "   Status(ID=829026630874042371, ScreenName=KathAGar, Created=Tue Feb 07 17:58:46 +0000 2017, Text=\"Hi, I'm Kathleen. I'm an #actuallivingscientist who studies ways that coastal communities can adapt to rising sea l… https://t.co/WR9iN71xdi\"),\n",
       "   Status(ID=829013505441484801, ScreenName=CarlaLouisa, Created=Tue Feb 07 17:06:36 +0000 2017, Text=\"RT @drkristymurray: I'm an #ActualLivingScientist who studies infectious pathogens. I like to #DressLikeAWoman https://t.co/BOGK1Tpapa\"),\n",
       "   Status(ID=829005449123024896, ScreenName=Aiims1742, Created=Tue Feb 07 16:34:35 +0000 2017, Text='I would recommend everyone follow @ScientistTrump \\n#ActualLivingScientist https://t.co/J0nkOm6U2r'),\n",
       "   Status(ID=828827425740046336, ScreenName=MichaelAlliman, Created=Tue Feb 07 04:47:11 +0000 2017, Text='The fact that most of the respondents in this thread are women restores a shred of hope in me.  #actuallivingscientist'),\n",
       "   Status(ID=828700281055481857, ScreenName=momneph, Created=Mon Feb 06 20:21:58 +0000 2017, Text=\"RT @drkristymurray: I'm an #ActualLivingScientist who studies infectious pathogens. I like to #DressLikeAWoman https://t.co/BOGK1Tpapa\"),\n",
       "   Status(ID=828629679959658497, ScreenName=joan_mediator, Created=Mon Feb 06 15:41:25 +0000 2017, Text=\"RT @drkristymurray: I'm an #ActualLivingScientist who studies infectious pathogens. I like to #DressLikeAWoman https://t.co/BOGK1Tpapa\"),\n",
       "   Status(ID=828628126452301824, ScreenName=DavidFisman, Created=Mon Feb 06 15:35:15 +0000 2017, Text=\"RT @drkristymurray: I'm an #ActualLivingScientist who studies infectious pathogens. I like to #DressLikeAWoman https://t.co/BOGK1Tpapa\"),\n",
       "   Status(ID=828627918083481600, ScreenName=DiagnosticChick, Created=Mon Feb 06 15:34:25 +0000 2017, Text=\"RT @drkristymurray: I'm an #ActualLivingScientist who studies infectious pathogens. I like to #DressLikeAWoman https://t.co/BOGK1Tpapa\"),\n",
       "   Status(ID=828385188677816320, ScreenName=BCM_TropMed, Created=Sun Feb 05 23:29:54 +0000 2017, Text=\"RT @drkristymurray: I'm an #ActualLivingScientist who studies infectious pathogens. I like to #DressLikeAWoman https://t.co/BOGK1Tpapa\"),\n",
       "   Status(ID=828373352205185025, ScreenName=QutubLab, Created=Sun Feb 05 22:42:52 +0000 2017, Text='Congrats to @arun_mahadevan who won an IBB travel award to present his studies on developing neurons!… https://t.co/0nn37tr9Nh'),\n",
       "   Status(ID=828368849527566336, ScreenName=dmfitz424, Created=Sun Feb 05 22:24:58 +0000 2017, Text=\"I'm an #actuallivingscientist and I always #DressLikeAWoman! #MadScientist #ScienceMarch #ScienceMarchHOU https://t.co/1ifM5XbIQB\")]},\n",
       " {'location': [29.72, -95.64], 'tweets': []},\n",
       " {'location': [29.69, -95.65], 'tweets': []},\n",
       " {'location': [29.83, -95.66], 'tweets': []},\n",
       " {'location': [29.62, -95.49], 'tweets': []},\n",
       " {'location': [29.92, -95.49], 'tweets': []},\n",
       " {'location': [29.69, -95.3],\n",
       "  'tweets': [Status(ID=831171766890459136, ScreenName=MBCAHouston, Created=Mon Feb 13 16:02:46 +0000 2017, Text='The latest The MBCA Houston Daily! https://t.co/b5IWEKpcd9 Thanks to @ARtvKimatni #actuallivingscientist #was17'),\n",
       "   Status(ID=830221799342223361, ScreenName=InsectophileJim, Created=Sat Feb 11 01:07:56 +0000 2017, Text='RT @RickLambeth: Brother of more than one #actuallivingfarmer... I had/got to be an #actuallivingscientist instead.  Just glad there is sti…'),\n",
       "   Status(ID=830172944928223232, ScreenName=RickLambeth, Created=Fri Feb 10 21:53:48 +0000 2017, Text='Brother of more than one #actuallivingfarmer... I had/got to be an #actuallivingscientist instead.  Just glad there… https://t.co/914l59Uai1'),\n",
       "   Status(ID=830068240059600901, ScreenName=karashosho01, Created=Fri Feb 10 14:57:45 +0000 2017, Text='#actuallivingscientist https://t.co/5Rcgaq43dE'),\n",
       "   Status(ID=829349170150592512, ScreenName=TDGiardina, Created=Wed Feb 08 15:20:25 +0000 2017, Text=\"I'm an #ActualSocialScientist in patient safety - exploring patients' experiences of diagnostic errors. #actuallivingscientist\"),\n",
       "   Status(ID=829349135509811201, ScreenName=CarlaLouisa, Created=Wed Feb 08 15:20:17 +0000 2017, Text=\"RT @DeltagrlNC: Hi I'm Angela and I'm a Microbiologist that test IV drugs for sterility. #actuallivingscientist #DressLikeAWoman https://t.…\"),\n",
       "   Status(ID=829104435783729153, ScreenName=InsectophileJim, Created=Tue Feb 07 23:07:56 +0000 2017, Text=\"RT @KathAGar: Hi, I'm Kathleen. I'm an #actuallivingscientist who studies ways that coastal communities can adapt to rising sea level and c…\"),\n",
       "   Status(ID=829026630874042371, ScreenName=KathAGar, Created=Tue Feb 07 17:58:46 +0000 2017, Text=\"Hi, I'm Kathleen. I'm an #actuallivingscientist who studies ways that coastal communities can adapt to rising sea l… https://t.co/WR9iN71xdi\"),\n",
       "   Status(ID=829013505441484801, ScreenName=CarlaLouisa, Created=Tue Feb 07 17:06:36 +0000 2017, Text=\"RT @drkristymurray: I'm an #ActualLivingScientist who studies infectious pathogens. I like to #DressLikeAWoman https://t.co/BOGK1Tpapa\"),\n",
       "   Status(ID=829005449123024896, ScreenName=Aiims1742, Created=Tue Feb 07 16:34:35 +0000 2017, Text='I would recommend everyone follow @ScientistTrump \\n#ActualLivingScientist https://t.co/J0nkOm6U2r'),\n",
       "   Status(ID=828827425740046336, ScreenName=MichaelAlliman, Created=Tue Feb 07 04:47:11 +0000 2017, Text='The fact that most of the respondents in this thread are women restores a shred of hope in me.  #actuallivingscientist'),\n",
       "   Status(ID=828700281055481857, ScreenName=momneph, Created=Mon Feb 06 20:21:58 +0000 2017, Text=\"RT @drkristymurray: I'm an #ActualLivingScientist who studies infectious pathogens. I like to #DressLikeAWoman https://t.co/BOGK1Tpapa\"),\n",
       "   Status(ID=828629679959658497, ScreenName=joan_mediator, Created=Mon Feb 06 15:41:25 +0000 2017, Text=\"RT @drkristymurray: I'm an #ActualLivingScientist who studies infectious pathogens. I like to #DressLikeAWoman https://t.co/BOGK1Tpapa\"),\n",
       "   Status(ID=828628126452301824, ScreenName=DavidFisman, Created=Mon Feb 06 15:35:15 +0000 2017, Text=\"RT @drkristymurray: I'm an #ActualLivingScientist who studies infectious pathogens. I like to #DressLikeAWoman https://t.co/BOGK1Tpapa\"),\n",
       "   Status(ID=828627918083481600, ScreenName=DiagnosticChick, Created=Mon Feb 06 15:34:25 +0000 2017, Text=\"RT @drkristymurray: I'm an #ActualLivingScientist who studies infectious pathogens. I like to #DressLikeAWoman https://t.co/BOGK1Tpapa\"),\n",
       "   Status(ID=828385188677816320, ScreenName=BCM_TropMed, Created=Sun Feb 05 23:29:54 +0000 2017, Text=\"RT @drkristymurray: I'm an #ActualLivingScientist who studies infectious pathogens. I like to #DressLikeAWoman https://t.co/BOGK1Tpapa\"),\n",
       "   Status(ID=828373352205185025, ScreenName=QutubLab, Created=Sun Feb 05 22:42:52 +0000 2017, Text='Congrats to @arun_mahadevan who won an IBB travel award to present his studies on developing neurons!… https://t.co/0nn37tr9Nh'),\n",
       "   Status(ID=828368849527566336, ScreenName=dmfitz424, Created=Sun Feb 05 22:24:58 +0000 2017, Text=\"I'm an #actuallivingscientist and I always #DressLikeAWoman! #MadScientist #ScienceMarch #ScienceMarchHOU https://t.co/1ifM5XbIQB\")]}]"
      ]
     },
     "execution_count": 123,
     "metadata": {},
     "output_type": "execute_result"
    }
   ],
   "source": [
    "arrayOfTweetsByLocatA6 = []\n",
    "for index, row in GreaterHouston_Zip75t85.iterrows():\n",
    "    lat = row['latitude']\n",
    "    long = row['longitude']\n",
    "    results_forEach = api.GetSearch(raw_query=\"q=%23actuallivingscientist&geocode={},{},10km&result_type=recent&since=2017-02-01&count=50\".format(lat,long))\n",
    "    arrayOfTweetsByLocatA6.append({\"location\":[lat,long],\"tweets\":results_forEach}) \n",
    "\n",
    "arrayOfTweetsByLocatA6"
   ]
  },
  {
   "cell_type": "code",
   "execution_count": 127,
   "metadata": {
    "collapsed": true
   },
   "outputs": [],
   "source": [
    "thefile_arrayOfTweetsByLocatA6 = open('GreaterHouston_Zip75t85', 'w')\n",
    "for item in arrayOfTweetsByLocatA6:\n",
    "  thefile_arrayOfTweetsByLocatA6.write(\"%s\\n\" % item)"
   ]
  },
  {
   "cell_type": "code",
   "execution_count": null,
   "metadata": {
    "collapsed": true
   },
   "outputs": [],
   "source": [
    "GreaterHouston_Zip86t97"
   ]
  },
  {
   "cell_type": "code",
   "execution_count": 125,
   "metadata": {},
   "outputs": [
    {
     "data": {
      "text/plain": [
       "[{'location': [29.59, -95.23],\n",
       "  'tweets': [Status(ID=828647438680485889, ScreenName=TalkIBC, Created=Mon Feb 06 16:51:59 +0000 2017, Text='Have you seen this # @thecancergeek ? #actuallivingscientist  so cool! #researchmatters'),\n",
       "   Status(ID=828427414694928386, ScreenName=ScituateSciSpec, Created=Mon Feb 06 02:17:41 +0000 2017, Text=\"RT @JulieSDyess: Here's a few pictures of me an #actuallivingscientist and #educator #dressinglikeawoman https://t.co/N1ALY4alJW\"),\n",
       "   Status(ID=828409020419547136, ScreenName=JulieSDyess, Created=Mon Feb 06 01:04:36 +0000 2017, Text=\"Here's a few pictures of me an #actuallivingscientist and #educator #dressinglikeawoman https://t.co/N1ALY4alJW\")]},\n",
       " {'location': [30.01, -95.44], 'tweets': []},\n",
       " {'location': [29.85, -95.44], 'tweets': []},\n",
       " {'location': [29.83, -95.47],\n",
       "  'tweets': [Status(ID=831171766890459136, ScreenName=MBCAHouston, Created=Mon Feb 13 16:02:46 +0000 2017, Text='The latest The MBCA Houston Daily! https://t.co/b5IWEKpcd9 Thanks to @ARtvKimatni #actuallivingscientist #was17'),\n",
       "   Status(ID=830221799342223361, ScreenName=InsectophileJim, Created=Sat Feb 11 01:07:56 +0000 2017, Text='RT @RickLambeth: Brother of more than one #actuallivingfarmer... I had/got to be an #actuallivingscientist instead.  Just glad there is sti…'),\n",
       "   Status(ID=830172944928223232, ScreenName=RickLambeth, Created=Fri Feb 10 21:53:48 +0000 2017, Text='Brother of more than one #actuallivingfarmer... I had/got to be an #actuallivingscientist instead.  Just glad there… https://t.co/914l59Uai1'),\n",
       "   Status(ID=830068240059600901, ScreenName=karashosho01, Created=Fri Feb 10 14:57:45 +0000 2017, Text='#actuallivingscientist https://t.co/5Rcgaq43dE'),\n",
       "   Status(ID=829349170150592512, ScreenName=TDGiardina, Created=Wed Feb 08 15:20:25 +0000 2017, Text=\"I'm an #ActualSocialScientist in patient safety - exploring patients' experiences of diagnostic errors. #actuallivingscientist\"),\n",
       "   Status(ID=829349135509811201, ScreenName=CarlaLouisa, Created=Wed Feb 08 15:20:17 +0000 2017, Text=\"RT @DeltagrlNC: Hi I'm Angela and I'm a Microbiologist that test IV drugs for sterility. #actuallivingscientist #DressLikeAWoman https://t.…\"),\n",
       "   Status(ID=829104435783729153, ScreenName=InsectophileJim, Created=Tue Feb 07 23:07:56 +0000 2017, Text=\"RT @KathAGar: Hi, I'm Kathleen. I'm an #actuallivingscientist who studies ways that coastal communities can adapt to rising sea level and c…\"),\n",
       "   Status(ID=829026630874042371, ScreenName=KathAGar, Created=Tue Feb 07 17:58:46 +0000 2017, Text=\"Hi, I'm Kathleen. I'm an #actuallivingscientist who studies ways that coastal communities can adapt to rising sea l… https://t.co/WR9iN71xdi\"),\n",
       "   Status(ID=829013505441484801, ScreenName=CarlaLouisa, Created=Tue Feb 07 17:06:36 +0000 2017, Text=\"RT @drkristymurray: I'm an #ActualLivingScientist who studies infectious pathogens. I like to #DressLikeAWoman https://t.co/BOGK1Tpapa\"),\n",
       "   Status(ID=829005449123024896, ScreenName=Aiims1742, Created=Tue Feb 07 16:34:35 +0000 2017, Text='I would recommend everyone follow @ScientistTrump \\n#ActualLivingScientist https://t.co/J0nkOm6U2r'),\n",
       "   Status(ID=828827425740046336, ScreenName=MichaelAlliman, Created=Tue Feb 07 04:47:11 +0000 2017, Text='The fact that most of the respondents in this thread are women restores a shred of hope in me.  #actuallivingscientist'),\n",
       "   Status(ID=828700281055481857, ScreenName=momneph, Created=Mon Feb 06 20:21:58 +0000 2017, Text=\"RT @drkristymurray: I'm an #ActualLivingScientist who studies infectious pathogens. I like to #DressLikeAWoman https://t.co/BOGK1Tpapa\"),\n",
       "   Status(ID=828629679959658497, ScreenName=joan_mediator, Created=Mon Feb 06 15:41:25 +0000 2017, Text=\"RT @drkristymurray: I'm an #ActualLivingScientist who studies infectious pathogens. I like to #DressLikeAWoman https://t.co/BOGK1Tpapa\"),\n",
       "   Status(ID=828628126452301824, ScreenName=DavidFisman, Created=Mon Feb 06 15:35:15 +0000 2017, Text=\"RT @drkristymurray: I'm an #ActualLivingScientist who studies infectious pathogens. I like to #DressLikeAWoman https://t.co/BOGK1Tpapa\"),\n",
       "   Status(ID=828627918083481600, ScreenName=DiagnosticChick, Created=Mon Feb 06 15:34:25 +0000 2017, Text=\"RT @drkristymurray: I'm an #ActualLivingScientist who studies infectious pathogens. I like to #DressLikeAWoman https://t.co/BOGK1Tpapa\"),\n",
       "   Status(ID=828385188677816320, ScreenName=BCM_TropMed, Created=Sun Feb 05 23:29:54 +0000 2017, Text=\"RT @drkristymurray: I'm an #ActualLivingScientist who studies infectious pathogens. I like to #DressLikeAWoman https://t.co/BOGK1Tpapa\"),\n",
       "   Status(ID=828373352205185025, ScreenName=QutubLab, Created=Sun Feb 05 22:42:52 +0000 2017, Text='Congrats to @arun_mahadevan who won an IBB travel award to present his studies on developing neurons!… https://t.co/0nn37tr9Nh'),\n",
       "   Status(ID=828368849527566336, ScreenName=dmfitz424, Created=Sun Feb 05 22:24:58 +0000 2017, Text=\"I'm an #actuallivingscientist and I always #DressLikeAWoman! #MadScientist #ScienceMarch #ScienceMarchHOU https://t.co/1ifM5XbIQB\")]},\n",
       " {'location': [29.86, -95.34], 'tweets': []},\n",
       " {'location': [29.77, -95.68], 'tweets': []},\n",
       " {'location': [29.91, -95.65], 'tweets': []},\n",
       " {'location': [29.68, -95.48], 'tweets': []},\n",
       " {'location': [29.76, -95.36],\n",
       "  'tweets': [Status(ID=831171766890459136, ScreenName=MBCAHouston, Created=Mon Feb 13 16:02:46 +0000 2017, Text='The latest The MBCA Houston Daily! https://t.co/b5IWEKpcd9 Thanks to @ARtvKimatni #actuallivingscientist #was17'),\n",
       "   Status(ID=830221799342223361, ScreenName=InsectophileJim, Created=Sat Feb 11 01:07:56 +0000 2017, Text='RT @RickLambeth: Brother of more than one #actuallivingfarmer... I had/got to be an #actuallivingscientist instead.  Just glad there is sti…'),\n",
       "   Status(ID=830172944928223232, ScreenName=RickLambeth, Created=Fri Feb 10 21:53:48 +0000 2017, Text='Brother of more than one #actuallivingfarmer... I had/got to be an #actuallivingscientist instead.  Just glad there… https://t.co/914l59Uai1'),\n",
       "   Status(ID=830068240059600901, ScreenName=karashosho01, Created=Fri Feb 10 14:57:45 +0000 2017, Text='#actuallivingscientist https://t.co/5Rcgaq43dE'),\n",
       "   Status(ID=829349170150592512, ScreenName=TDGiardina, Created=Wed Feb 08 15:20:25 +0000 2017, Text=\"I'm an #ActualSocialScientist in patient safety - exploring patients' experiences of diagnostic errors. #actuallivingscientist\"),\n",
       "   Status(ID=829349135509811201, ScreenName=CarlaLouisa, Created=Wed Feb 08 15:20:17 +0000 2017, Text=\"RT @DeltagrlNC: Hi I'm Angela and I'm a Microbiologist that test IV drugs for sterility. #actuallivingscientist #DressLikeAWoman https://t.…\"),\n",
       "   Status(ID=829104435783729153, ScreenName=InsectophileJim, Created=Tue Feb 07 23:07:56 +0000 2017, Text=\"RT @KathAGar: Hi, I'm Kathleen. I'm an #actuallivingscientist who studies ways that coastal communities can adapt to rising sea level and c…\"),\n",
       "   Status(ID=829026630874042371, ScreenName=KathAGar, Created=Tue Feb 07 17:58:46 +0000 2017, Text=\"Hi, I'm Kathleen. I'm an #actuallivingscientist who studies ways that coastal communities can adapt to rising sea l… https://t.co/WR9iN71xdi\"),\n",
       "   Status(ID=829013505441484801, ScreenName=CarlaLouisa, Created=Tue Feb 07 17:06:36 +0000 2017, Text=\"RT @drkristymurray: I'm an #ActualLivingScientist who studies infectious pathogens. I like to #DressLikeAWoman https://t.co/BOGK1Tpapa\"),\n",
       "   Status(ID=829005449123024896, ScreenName=Aiims1742, Created=Tue Feb 07 16:34:35 +0000 2017, Text='I would recommend everyone follow @ScientistTrump \\n#ActualLivingScientist https://t.co/J0nkOm6U2r'),\n",
       "   Status(ID=828827425740046336, ScreenName=MichaelAlliman, Created=Tue Feb 07 04:47:11 +0000 2017, Text='The fact that most of the respondents in this thread are women restores a shred of hope in me.  #actuallivingscientist'),\n",
       "   Status(ID=828700281055481857, ScreenName=momneph, Created=Mon Feb 06 20:21:58 +0000 2017, Text=\"RT @drkristymurray: I'm an #ActualLivingScientist who studies infectious pathogens. I like to #DressLikeAWoman https://t.co/BOGK1Tpapa\"),\n",
       "   Status(ID=828629679959658497, ScreenName=joan_mediator, Created=Mon Feb 06 15:41:25 +0000 2017, Text=\"RT @drkristymurray: I'm an #ActualLivingScientist who studies infectious pathogens. I like to #DressLikeAWoman https://t.co/BOGK1Tpapa\"),\n",
       "   Status(ID=828628126452301824, ScreenName=DavidFisman, Created=Mon Feb 06 15:35:15 +0000 2017, Text=\"RT @drkristymurray: I'm an #ActualLivingScientist who studies infectious pathogens. I like to #DressLikeAWoman https://t.co/BOGK1Tpapa\"),\n",
       "   Status(ID=828627918083481600, ScreenName=DiagnosticChick, Created=Mon Feb 06 15:34:25 +0000 2017, Text=\"RT @drkristymurray: I'm an #ActualLivingScientist who studies infectious pathogens. I like to #DressLikeAWoman https://t.co/BOGK1Tpapa\"),\n",
       "   Status(ID=828385188677816320, ScreenName=BCM_TropMed, Created=Sun Feb 05 23:29:54 +0000 2017, Text=\"RT @drkristymurray: I'm an #ActualLivingScientist who studies infectious pathogens. I like to #DressLikeAWoman https://t.co/BOGK1Tpapa\"),\n",
       "   Status(ID=828373352205185025, ScreenName=QutubLab, Created=Sun Feb 05 22:42:52 +0000 2017, Text='Congrats to @arun_mahadevan who won an IBB travel award to present his studies on developing neurons!… https://t.co/0nn37tr9Nh'),\n",
       "   Status(ID=828368849527566336, ScreenName=dmfitz424, Created=Sun Feb 05 22:24:58 +0000 2017, Text=\"I'm an #actuallivingscientist and I always #DressLikeAWoman! #MadScientist #ScienceMarch #ScienceMarchHOU https://t.co/1ifM5XbIQB\")]},\n",
       " {'location': [29.73, -95.42],\n",
       "  'tweets': [Status(ID=831171766890459136, ScreenName=MBCAHouston, Created=Mon Feb 13 16:02:46 +0000 2017, Text='The latest The MBCA Houston Daily! https://t.co/b5IWEKpcd9 Thanks to @ARtvKimatni #actuallivingscientist #was17'),\n",
       "   Status(ID=830221799342223361, ScreenName=InsectophileJim, Created=Sat Feb 11 01:07:56 +0000 2017, Text='RT @RickLambeth: Brother of more than one #actuallivingfarmer... I had/got to be an #actuallivingscientist instead.  Just glad there is sti…'),\n",
       "   Status(ID=830172944928223232, ScreenName=RickLambeth, Created=Fri Feb 10 21:53:48 +0000 2017, Text='Brother of more than one #actuallivingfarmer... I had/got to be an #actuallivingscientist instead.  Just glad there… https://t.co/914l59Uai1'),\n",
       "   Status(ID=830068240059600901, ScreenName=karashosho01, Created=Fri Feb 10 14:57:45 +0000 2017, Text='#actuallivingscientist https://t.co/5Rcgaq43dE'),\n",
       "   Status(ID=829349170150592512, ScreenName=TDGiardina, Created=Wed Feb 08 15:20:25 +0000 2017, Text=\"I'm an #ActualSocialScientist in patient safety - exploring patients' experiences of diagnostic errors. #actuallivingscientist\"),\n",
       "   Status(ID=829349135509811201, ScreenName=CarlaLouisa, Created=Wed Feb 08 15:20:17 +0000 2017, Text=\"RT @DeltagrlNC: Hi I'm Angela and I'm a Microbiologist that test IV drugs for sterility. #actuallivingscientist #DressLikeAWoman https://t.…\"),\n",
       "   Status(ID=829104435783729153, ScreenName=InsectophileJim, Created=Tue Feb 07 23:07:56 +0000 2017, Text=\"RT @KathAGar: Hi, I'm Kathleen. I'm an #actuallivingscientist who studies ways that coastal communities can adapt to rising sea level and c…\"),\n",
       "   Status(ID=829026630874042371, ScreenName=KathAGar, Created=Tue Feb 07 17:58:46 +0000 2017, Text=\"Hi, I'm Kathleen. I'm an #actuallivingscientist who studies ways that coastal communities can adapt to rising sea l… https://t.co/WR9iN71xdi\"),\n",
       "   Status(ID=829013505441484801, ScreenName=CarlaLouisa, Created=Tue Feb 07 17:06:36 +0000 2017, Text=\"RT @drkristymurray: I'm an #ActualLivingScientist who studies infectious pathogens. I like to #DressLikeAWoman https://t.co/BOGK1Tpapa\"),\n",
       "   Status(ID=829005449123024896, ScreenName=Aiims1742, Created=Tue Feb 07 16:34:35 +0000 2017, Text='I would recommend everyone follow @ScientistTrump \\n#ActualLivingScientist https://t.co/J0nkOm6U2r'),\n",
       "   Status(ID=828827425740046336, ScreenName=MichaelAlliman, Created=Tue Feb 07 04:47:11 +0000 2017, Text='The fact that most of the respondents in this thread are women restores a shred of hope in me.  #actuallivingscientist'),\n",
       "   Status(ID=828700281055481857, ScreenName=momneph, Created=Mon Feb 06 20:21:58 +0000 2017, Text=\"RT @drkristymurray: I'm an #ActualLivingScientist who studies infectious pathogens. I like to #DressLikeAWoman https://t.co/BOGK1Tpapa\"),\n",
       "   Status(ID=828629679959658497, ScreenName=joan_mediator, Created=Mon Feb 06 15:41:25 +0000 2017, Text=\"RT @drkristymurray: I'm an #ActualLivingScientist who studies infectious pathogens. I like to #DressLikeAWoman https://t.co/BOGK1Tpapa\"),\n",
       "   Status(ID=828628126452301824, ScreenName=DavidFisman, Created=Mon Feb 06 15:35:15 +0000 2017, Text=\"RT @drkristymurray: I'm an #ActualLivingScientist who studies infectious pathogens. I like to #DressLikeAWoman https://t.co/BOGK1Tpapa\"),\n",
       "   Status(ID=828627918083481600, ScreenName=DiagnosticChick, Created=Mon Feb 06 15:34:25 +0000 2017, Text=\"RT @drkristymurray: I'm an #ActualLivingScientist who studies infectious pathogens. I like to #DressLikeAWoman https://t.co/BOGK1Tpapa\"),\n",
       "   Status(ID=828385188677816320, ScreenName=BCM_TropMed, Created=Sun Feb 05 23:29:54 +0000 2017, Text=\"RT @drkristymurray: I'm an #ActualLivingScientist who studies infectious pathogens. I like to #DressLikeAWoman https://t.co/BOGK1Tpapa\"),\n",
       "   Status(ID=828373352205185025, ScreenName=QutubLab, Created=Sun Feb 05 22:42:52 +0000 2017, Text='Congrats to @arun_mahadevan who won an IBB travel award to present his studies on developing neurons!… https://t.co/0nn37tr9Nh'),\n",
       "   Status(ID=828368849527566336, ScreenName=dmfitz424, Created=Sun Feb 05 22:24:58 +0000 2017, Text=\"I'm an #actuallivingscientist and I always #DressLikeAWoman! #MadScientist #ScienceMarch #ScienceMarchHOU https://t.co/1ifM5XbIQB\")]},\n",
       " {'location': [29.67, -95.59], 'tweets': []}]"
      ]
     },
     "execution_count": 125,
     "metadata": {},
     "output_type": "execute_result"
    }
   ],
   "source": [
    "arrayOfTweetsByLocatA7 = []\n",
    "for index, row in GreaterHouston_Zip86t97.iterrows():\n",
    "    lat = row['latitude']\n",
    "    long = row['longitude']\n",
    "    results_forEach = api.GetSearch(raw_query=\"q=%23actuallivingscientist&geocode={},{},10km&result_type=recent&since=2017-02-01&count=50\".format(lat,long))\n",
    "    arrayOfTweetsByLocatA7.append({\"location\":[lat,long],\"tweets\":results_forEach}) \n",
    "\n",
    "arrayOfTweetsByLocatA7"
   ]
  },
  {
   "cell_type": "code",
   "execution_count": 128,
   "metadata": {
    "collapsed": true
   },
   "outputs": [],
   "source": [
    "thefile_arrayOfTweetsByLocatA7 = open('GreaterHouston_Zip86t97', 'w')\n",
    "for item in arrayOfTweetsByLocatA7:\n",
    "  thefile_arrayOfTweetsByLocatA7.write(\"%s\\n\" % item)"
   ]
  },
  {
   "cell_type": "code",
   "execution_count": null,
   "metadata": {
    "collapsed": true
   },
   "outputs": [],
   "source": []
  },
  {
   "cell_type": "code",
   "execution_count": null,
   "metadata": {
    "collapsed": true
   },
   "outputs": [],
   "source": []
  },
  {
   "cell_type": "markdown",
   "metadata": {},
   "source": [
    "result I want is above , below is test"
   ]
  },
  {
   "cell_type": "code",
   "execution_count": 92,
   "metadata": {},
   "outputs": [
    {
     "data": {
      "text/plain": [
       "[Status(ID=831171766890459136, ScreenName=MBCAHouston, Created=Mon Feb 13 16:02:46 +0000 2017, Text='The latest The MBCA Houston Daily! https://t.co/b5IWEKpcd9 Thanks to @ARtvKimatni #actuallivingscientist #was17'),\n",
       " Status(ID=830221799342223361, ScreenName=InsectophileJim, Created=Sat Feb 11 01:07:56 +0000 2017, Text='RT @RickLambeth: Brother of more than one #actuallivingfarmer... I had/got to be an #actuallivingscientist instead.  Just glad there is sti…'),\n",
       " Status(ID=830172944928223232, ScreenName=RickLambeth, Created=Fri Feb 10 21:53:48 +0000 2017, Text='Brother of more than one #actuallivingfarmer... I had/got to be an #actuallivingscientist instead.  Just glad there… https://t.co/914l59Uai1'),\n",
       " Status(ID=830068240059600901, ScreenName=karashosho01, Created=Fri Feb 10 14:57:45 +0000 2017, Text='#actuallivingscientist https://t.co/5Rcgaq43dE'),\n",
       " Status(ID=829349170150592512, ScreenName=TDGiardina, Created=Wed Feb 08 15:20:25 +0000 2017, Text=\"I'm an #ActualSocialScientist in patient safety - exploring patients' experiences of diagnostic errors. #actuallivingscientist\"),\n",
       " Status(ID=829349135509811201, ScreenName=CarlaLouisa, Created=Wed Feb 08 15:20:17 +0000 2017, Text=\"RT @DeltagrlNC: Hi I'm Angela and I'm a Microbiologist that test IV drugs for sterility. #actuallivingscientist #DressLikeAWoman https://t.…\"),\n",
       " Status(ID=829104435783729153, ScreenName=InsectophileJim, Created=Tue Feb 07 23:07:56 +0000 2017, Text=\"RT @KathAGar: Hi, I'm Kathleen. I'm an #actuallivingscientist who studies ways that coastal communities can adapt to rising sea level and c…\"),\n",
       " Status(ID=829026630874042371, ScreenName=KathAGar, Created=Tue Feb 07 17:58:46 +0000 2017, Text=\"Hi, I'm Kathleen. I'm an #actuallivingscientist who studies ways that coastal communities can adapt to rising sea l… https://t.co/WR9iN71xdi\"),\n",
       " Status(ID=829013505441484801, ScreenName=CarlaLouisa, Created=Tue Feb 07 17:06:36 +0000 2017, Text=\"RT @drkristymurray: I'm an #ActualLivingScientist who studies infectious pathogens. I like to #DressLikeAWoman https://t.co/BOGK1Tpapa\"),\n",
       " Status(ID=829005449123024896, ScreenName=Aiims1742, Created=Tue Feb 07 16:34:35 +0000 2017, Text='I would recommend everyone follow @ScientistTrump \\n#ActualLivingScientist https://t.co/J0nkOm6U2r'),\n",
       " Status(ID=828827425740046336, ScreenName=MichaelAlliman, Created=Tue Feb 07 04:47:11 +0000 2017, Text='The fact that most of the respondents in this thread are women restores a shred of hope in me.  #actuallivingscientist'),\n",
       " Status(ID=828700281055481857, ScreenName=momneph, Created=Mon Feb 06 20:21:58 +0000 2017, Text=\"RT @drkristymurray: I'm an #ActualLivingScientist who studies infectious pathogens. I like to #DressLikeAWoman https://t.co/BOGK1Tpapa\"),\n",
       " Status(ID=828629679959658497, ScreenName=joan_mediator, Created=Mon Feb 06 15:41:25 +0000 2017, Text=\"RT @drkristymurray: I'm an #ActualLivingScientist who studies infectious pathogens. I like to #DressLikeAWoman https://t.co/BOGK1Tpapa\"),\n",
       " Status(ID=828628126452301824, ScreenName=DavidFisman, Created=Mon Feb 06 15:35:15 +0000 2017, Text=\"RT @drkristymurray: I'm an #ActualLivingScientist who studies infectious pathogens. I like to #DressLikeAWoman https://t.co/BOGK1Tpapa\"),\n",
       " Status(ID=828627918083481600, ScreenName=DiagnosticChick, Created=Mon Feb 06 15:34:25 +0000 2017, Text=\"RT @drkristymurray: I'm an #ActualLivingScientist who studies infectious pathogens. I like to #DressLikeAWoman https://t.co/BOGK1Tpapa\"),\n",
       " Status(ID=828385188677816320, ScreenName=BCM_TropMed, Created=Sun Feb 05 23:29:54 +0000 2017, Text=\"RT @drkristymurray: I'm an #ActualLivingScientist who studies infectious pathogens. I like to #DressLikeAWoman https://t.co/BOGK1Tpapa\"),\n",
       " Status(ID=828373352205185025, ScreenName=QutubLab, Created=Sun Feb 05 22:42:52 +0000 2017, Text='Congrats to @arun_mahadevan who won an IBB travel award to present his studies on developing neurons!… https://t.co/0nn37tr9Nh'),\n",
       " Status(ID=828368849527566336, ScreenName=dmfitz424, Created=Sun Feb 05 22:24:58 +0000 2017, Text=\"I'm an #actuallivingscientist and I always #DressLikeAWoman! #MadScientist #ScienceMarch #ScienceMarchHOU https://t.co/1ifM5XbIQB\")]"
      ]
     },
     "execution_count": 92,
     "metadata": {},
     "output_type": "execute_result"
    }
   ],
   "source": [
    "#results_forEach = api.GetSearch(raw_query=\"q=%23actuallivingscientist&geocode={},{},4km&result_type=recent&since=2017-02-13&count=2\".format(lat,long))\n",
    "\n",
    "\n",
    "results_withGeoRice = api.GetSearch(\n",
    "    raw_query=\"q=%23actuallivingscientist&geocode=29.719420,-95.401901,10km&result_type=recent&since=2017-02-01&count=100\")\n",
    "results_withGeoRice\n",
    "\n",
    "#raw_query=\"q=%23actuallivingscientist&geocode=29.719420,-95.401901,10km&result_type=recent&since=2017-02-01&count=100\")\n"
   ]
  },
  {
   "cell_type": "code",
   "execution_count": null,
   "metadata": {
    "collapsed": true
   },
   "outputs": [],
   "source": []
  }
 ],
 "metadata": {
  "kernelspec": {
   "display_name": "Python 3",
   "language": "python",
   "name": "python3"
  },
  "language_info": {
   "codemirror_mode": {
    "name": "ipython",
    "version": 3
   },
   "file_extension": ".py",
   "mimetype": "text/x-python",
   "name": "python",
   "nbconvert_exporter": "python",
   "pygments_lexer": "ipython3",
   "version": "3.5.2"
  }
 },
 "nbformat": 4,
 "nbformat_minor": 1
}
